{
  "nbformat": 4,
  "nbformat_minor": 0,
  "metadata": {
    "colab": {
      "name": "speech_emotion_recognition.ipynb",
      "provenance": [],
      "collapsed_sections": [],
      "authorship_tag": "ABX9TyOhWX/Kx0YR7LE2ZtP2pmZM",
      "include_colab_link": true
    },
    "kernelspec": {
      "name": "python3",
      "display_name": "Python 3"
    },
    "accelerator": "GPU"
  },
  "cells": [
    {
      "cell_type": "markdown",
      "metadata": {
        "id": "view-in-github",
        "colab_type": "text"
      },
      "source": [
        "<a href=\"https://colab.research.google.com/github/nikhildr22/Speech-Emotion-Recognition/blob/master/speech_emotion_recognition.ipynb\" target=\"_parent\"><img src=\"https://colab.research.google.com/assets/colab-badge.svg\" alt=\"Open In Colab\"/></a>"
      ]
    },
    {
      "cell_type": "code",
      "metadata": {
        "id": "woK0rKHUNQGK",
        "colab_type": "code",
        "outputId": "65e24f69-9689-48ba-9aca-b00db28e07a0",
        "colab": {
          "base_uri": "https://localhost:8080/",
          "height": 36
        }
      },
      "source": [
        "''' Using Tensorflow 1.x '''\n",
        "\n",
        "%tensorflow_version 1.x"
      ],
      "execution_count": 1,
      "outputs": [
        {
          "output_type": "stream",
          "text": [
            "TensorFlow 1.x selected.\n"
          ],
          "name": "stdout"
        }
      ]
    },
    {
      "cell_type": "code",
      "metadata": {
        "id": "QbRkenDYNqAA",
        "colab_type": "code",
        "outputId": "04d22c4b-13b3-45bf-d5b2-8867190f2b37",
        "colab": {
          "base_uri": "https://localhost:8080/",
          "height": 36
        }
      },
      "source": [
        "''' listing directories '''\n",
        "!ls"
      ],
      "execution_count": 2,
      "outputs": [
        {
          "output_type": "stream",
          "text": [
            "sample_data\n"
          ],
          "name": "stdout"
        }
      ]
    },
    {
      "cell_type": "code",
      "metadata": {
        "id": "zqdPpT-UNt3C",
        "colab_type": "code",
        "outputId": "1e3f0b29-3d5c-4a42-b6e4-cd5e429b26be",
        "colab": {
          "base_uri": "https://localhost:8080/",
          "height": 223
        }
      },
      "source": [
        "''' Downloading the dataset from the website in zip compressed format '''\n",
        "!wget https://zenodo.org/record/1188976/files/Audio_Speech_Actors_01-24.zip"
      ],
      "execution_count": 3,
      "outputs": [
        {
          "output_type": "stream",
          "text": [
            "--2020-05-01 09:28:48--  https://zenodo.org/record/1188976/files/Audio_Speech_Actors_01-24.zip\n",
            "Resolving zenodo.org (zenodo.org)... 188.184.117.155\n",
            "Connecting to zenodo.org (zenodo.org)|188.184.117.155|:443... connected.\n",
            "HTTP request sent, awaiting response... 200 OK\n",
            "Length: 208468073 (199M) [application/octet-stream]\n",
            "Saving to: ‘Audio_Speech_Actors_01-24.zip’\n",
            "\n",
            "Audio_Speech_Actors 100%[===================>] 198.81M  43.7MB/s    in 3.9s    \n",
            "\n",
            "2020-05-01 09:28:52 (50.8 MB/s) - ‘Audio_Speech_Actors_01-24.zip’ saved [208468073/208468073]\n",
            "\n"
          ],
          "name": "stdout"
        }
      ]
    },
    {
      "cell_type": "code",
      "metadata": {
        "id": "TFdu4OCYNv-w",
        "colab_type": "code",
        "outputId": "e066b7ae-a3d7-4f06-dc43-43c2f1104ddf",
        "colab": {
          "base_uri": "https://localhost:8080/",
          "height": 36
        }
      },
      "source": [
        "''' creating a folder - 'dataset' to keep the data '''\n",
        "!mkdir dataset\n",
        "!ls"
      ],
      "execution_count": 4,
      "outputs": [
        {
          "output_type": "stream",
          "text": [
            "Audio_Speech_Actors_01-24.zip  dataset\tsample_data\n"
          ],
          "name": "stdout"
        }
      ]
    },
    {
      "cell_type": "code",
      "metadata": {
        "id": "eDG17oPgNz5y",
        "colab_type": "code",
        "colab": {}
      },
      "source": [
        "''' unzipping the dataset into the destination folder 'dataset' '''\n",
        "!unzip -q Audio_Speech_Actors_01-24.zip -d dataset"
      ],
      "execution_count": 0,
      "outputs": []
    },
    {
      "cell_type": "code",
      "metadata": {
        "id": "6-ySXy8QN3bL",
        "colab_type": "code",
        "outputId": "9ba166d8-4d7b-4970-ffa8-64e184fedd8f",
        "colab": {
          "base_uri": "https://localhost:8080/",
          "height": 36
        }
      },
      "source": [
        "''' listing directories '''\n",
        "!ls"
      ],
      "execution_count": 6,
      "outputs": [
        {
          "output_type": "stream",
          "text": [
            "Audio_Speech_Actors_01-24.zip  dataset\tsample_data\n"
          ],
          "name": "stdout"
        }
      ]
    },
    {
      "cell_type": "code",
      "metadata": {
        "id": "lN5nQEv3N7ro",
        "colab_type": "code",
        "outputId": "ea5db9a1-f2da-4a4e-9c00-7acb6e57de62",
        "colab": {
          "base_uri": "https://localhost:8080/",
          "height": 149
        }
      },
      "source": [
        "''' Installing soundfile module via pip '''\n",
        "!pip install soundfile"
      ],
      "execution_count": 7,
      "outputs": [
        {
          "output_type": "stream",
          "text": [
            "Collecting soundfile\n",
            "  Downloading https://files.pythonhosted.org/packages/eb/f2/3cbbbf3b96fb9fa91582c438b574cff3f45b29c772f94c400e2c99ef5db9/SoundFile-0.10.3.post1-py2.py3-none-any.whl\n",
            "Requirement already satisfied: cffi>=1.0 in /usr/local/lib/python3.6/dist-packages (from soundfile) (1.14.0)\n",
            "Requirement already satisfied: pycparser in /usr/local/lib/python3.6/dist-packages (from cffi>=1.0->soundfile) (2.20)\n",
            "Installing collected packages: soundfile\n",
            "Successfully installed soundfile-0.10.3.post1\n"
          ],
          "name": "stdout"
        }
      ]
    },
    {
      "cell_type": "code",
      "metadata": {
        "id": "NDDtAflRN-Op",
        "colab_type": "code",
        "colab": {}
      },
      "source": [
        "''' importing required modules '''\n",
        "import librosa\n",
        "from tqdm import tqdm\n",
        "import soundfile\n",
        "from scipy.io import wavfile\n",
        "import os, glob, pickle\n",
        "import numpy as np\n",
        "from scipy.fftpack import dct\n",
        "import matplotlib.pyplot as plt"
      ],
      "execution_count": 0,
      "outputs": []
    },
    {
      "cell_type": "code",
      "metadata": {
        "id": "KB7RDna_OeYA",
        "colab_type": "code",
        "colab": {}
      },
      "source": [
        "''' creating a directory to keep clean files '''\n",
        "!mkdir clean "
      ],
      "execution_count": 0,
      "outputs": []
    },
    {
      "cell_type": "code",
      "metadata": {
        "id": "gMprtbZwOhD8",
        "colab_type": "code",
        "outputId": "a627cc22-8fd3-4739-e273-468bfd88d313",
        "colab": {
          "base_uri": "https://localhost:8080/",
          "height": 36
        }
      },
      "source": [
        "''' downsampling audio files to 16KHz and storing them in /clean directory ''' \n",
        "for f in tqdm(glob.glob(\"dataset/*/*\")):\n",
        "    signal, rate = librosa.load(path=f, sr=16000)\n",
        "    wavfile.write(filename='clean/'+f[-24:],rate=rate,data=signal)"
      ],
      "execution_count": 10,
      "outputs": [
        {
          "output_type": "stream",
          "text": [
            "100%|██████████| 1440/1440 [05:54<00:00,  4.07it/s]\n"
          ],
          "name": "stderr"
        }
      ]
    },
    {
      "cell_type": "code",
      "metadata": {
        "id": "S1B85KInORLs",
        "colab_type": "code",
        "colab": {}
      },
      "source": [
        "# Emotions in the RAVDESS dataset\n",
        "emotions={\n",
        "  '01':'neutral',\n",
        "  '02':'calm',\n",
        "  '03':'happy',\n",
        "  '04':'sad',\n",
        "  '05':'angry',\n",
        "  '06':'fearful',\n",
        "  '07':'disgust',\n",
        "  '08':'surprised'\n",
        "}\n",
        "# Emotions to be observed in our project\n",
        "observed_emotions=['sad','angry','happy','neutral']"
      ],
      "execution_count": 0,
      "outputs": []
    },
    {
      "cell_type": "code",
      "metadata": {
        "id": "rerNmmGEOUjs",
        "colab_type": "code",
        "colab": {}
      },
      "source": [
        "''' Creating a pandas dataframe for structured handling of files in the dataset '''\n",
        "import pandas as pd\n",
        "#Dataframe will contain 2 columns 'file' and 'emotion'\n",
        "dataframe = pd.DataFrame(columns=['file', 'emotion'])"
      ],
      "execution_count": 0,
      "outputs": []
    },
    {
      "cell_type": "code",
      "metadata": {
        "id": "vMg7RjIFPTPj",
        "colab_type": "code",
        "outputId": "1d1e40ee-003b-42d6-a9f6-597d51ff7998",
        "colab": {
          "base_uri": "https://localhost:8080/",
          "height": 36
        }
      },
      "source": [
        "''' filling the dataframe rows with values '''\n",
        "for file in tqdm(glob.glob(\"clean/*\")):\n",
        "        file_name=os.path.basename(file[-24:])\n",
        "        emotion=emotions[file_name.split(\"-\")[2]]\n",
        "        if emotion not in observed_emotions:\n",
        "            continue\n",
        "\n",
        "        dataframe = dataframe.append({'file': file, 'emotion': emotion}, ignore_index=True)"
      ],
      "execution_count": 13,
      "outputs": [
        {
          "output_type": "stream",
          "text": [
            "100%|██████████| 1440/1440 [00:02<00:00, 614.01it/s]\n"
          ],
          "name": "stderr"
        }
      ]
    },
    {
      "cell_type": "code",
      "metadata": {
        "id": "sa9BTrDlPfw7",
        "colab_type": "code",
        "outputId": "f579439d-bfab-4c5b-8cb1-21e96bffe3a0",
        "colab": {
          "base_uri": "https://localhost:8080/",
          "height": 175
        }
      },
      "source": [
        "dataframe.describe()"
      ],
      "execution_count": 14,
      "outputs": [
        {
          "output_type": "execute_result",
          "data": {
            "text/html": [
              "<div>\n",
              "<style scoped>\n",
              "    .dataframe tbody tr th:only-of-type {\n",
              "        vertical-align: middle;\n",
              "    }\n",
              "\n",
              "    .dataframe tbody tr th {\n",
              "        vertical-align: top;\n",
              "    }\n",
              "\n",
              "    .dataframe thead th {\n",
              "        text-align: right;\n",
              "    }\n",
              "</style>\n",
              "<table border=\"1\" class=\"dataframe\">\n",
              "  <thead>\n",
              "    <tr style=\"text-align: right;\">\n",
              "      <th></th>\n",
              "      <th>file</th>\n",
              "      <th>emotion</th>\n",
              "    </tr>\n",
              "  </thead>\n",
              "  <tbody>\n",
              "    <tr>\n",
              "      <th>count</th>\n",
              "      <td>672</td>\n",
              "      <td>672</td>\n",
              "    </tr>\n",
              "    <tr>\n",
              "      <th>unique</th>\n",
              "      <td>672</td>\n",
              "      <td>4</td>\n",
              "    </tr>\n",
              "    <tr>\n",
              "      <th>top</th>\n",
              "      <td>clean/03-01-03-01-02-01-06.wav</td>\n",
              "      <td>happy</td>\n",
              "    </tr>\n",
              "    <tr>\n",
              "      <th>freq</th>\n",
              "      <td>1</td>\n",
              "      <td>192</td>\n",
              "    </tr>\n",
              "  </tbody>\n",
              "</table>\n",
              "</div>"
            ],
            "text/plain": [
              "                                  file emotion\n",
              "count                              672     672\n",
              "unique                             672       4\n",
              "top     clean/03-01-03-01-02-01-06.wav   happy\n",
              "freq                                 1     192"
            ]
          },
          "metadata": {
            "tags": []
          },
          "execution_count": 14
        }
      ]
    },
    {
      "cell_type": "code",
      "metadata": {
        "id": "CEfLl5sZP4Ov",
        "colab_type": "code",
        "colab": {}
      },
      "source": [
        "''' Dividing the dataframe into test and train dataframes '''\n",
        "from sklearn.model_selection import train_test_split\n",
        "\n",
        "train, test = train_test_split(dataframe, test_size=0.2)"
      ],
      "execution_count": 0,
      "outputs": []
    },
    {
      "cell_type": "code",
      "metadata": {
        "id": "0n0TGy3KP8gx",
        "colab_type": "code",
        "outputId": "d40bcc14-468a-45fb-9b3d-f4efd8184778",
        "colab": {
          "base_uri": "https://localhost:8080/",
          "height": 175
        }
      },
      "source": [
        "train.describe()"
      ],
      "execution_count": 16,
      "outputs": [
        {
          "output_type": "execute_result",
          "data": {
            "text/html": [
              "<div>\n",
              "<style scoped>\n",
              "    .dataframe tbody tr th:only-of-type {\n",
              "        vertical-align: middle;\n",
              "    }\n",
              "\n",
              "    .dataframe tbody tr th {\n",
              "        vertical-align: top;\n",
              "    }\n",
              "\n",
              "    .dataframe thead th {\n",
              "        text-align: right;\n",
              "    }\n",
              "</style>\n",
              "<table border=\"1\" class=\"dataframe\">\n",
              "  <thead>\n",
              "    <tr style=\"text-align: right;\">\n",
              "      <th></th>\n",
              "      <th>file</th>\n",
              "      <th>emotion</th>\n",
              "    </tr>\n",
              "  </thead>\n",
              "  <tbody>\n",
              "    <tr>\n",
              "      <th>count</th>\n",
              "      <td>537</td>\n",
              "      <td>537</td>\n",
              "    </tr>\n",
              "    <tr>\n",
              "      <th>unique</th>\n",
              "      <td>537</td>\n",
              "      <td>4</td>\n",
              "    </tr>\n",
              "    <tr>\n",
              "      <th>top</th>\n",
              "      <td>clean/03-01-04-02-01-02-03.wav</td>\n",
              "      <td>happy</td>\n",
              "    </tr>\n",
              "    <tr>\n",
              "      <th>freq</th>\n",
              "      <td>1</td>\n",
              "      <td>153</td>\n",
              "    </tr>\n",
              "  </tbody>\n",
              "</table>\n",
              "</div>"
            ],
            "text/plain": [
              "                                  file emotion\n",
              "count                              537     537\n",
              "unique                             537       4\n",
              "top     clean/03-01-04-02-01-02-03.wav   happy\n",
              "freq                                 1     153"
            ]
          },
          "metadata": {
            "tags": []
          },
          "execution_count": 16
        }
      ]
    },
    {
      "cell_type": "code",
      "metadata": {
        "id": "ayCxuogfP_rT",
        "colab_type": "code",
        "outputId": "274d470a-d98f-49c9-ba3f-91d100ca7b5e",
        "colab": {
          "base_uri": "https://localhost:8080/",
          "height": 206
        }
      },
      "source": [
        "train.head()"
      ],
      "execution_count": 17,
      "outputs": [
        {
          "output_type": "execute_result",
          "data": {
            "text/html": [
              "<div>\n",
              "<style scoped>\n",
              "    .dataframe tbody tr th:only-of-type {\n",
              "        vertical-align: middle;\n",
              "    }\n",
              "\n",
              "    .dataframe tbody tr th {\n",
              "        vertical-align: top;\n",
              "    }\n",
              "\n",
              "    .dataframe thead th {\n",
              "        text-align: right;\n",
              "    }\n",
              "</style>\n",
              "<table border=\"1\" class=\"dataframe\">\n",
              "  <thead>\n",
              "    <tr style=\"text-align: right;\">\n",
              "      <th></th>\n",
              "      <th>file</th>\n",
              "      <th>emotion</th>\n",
              "    </tr>\n",
              "  </thead>\n",
              "  <tbody>\n",
              "    <tr>\n",
              "      <th>303</th>\n",
              "      <td>clean/03-01-05-01-02-02-21.wav</td>\n",
              "      <td>angry</td>\n",
              "    </tr>\n",
              "    <tr>\n",
              "      <th>635</th>\n",
              "      <td>clean/03-01-05-01-01-02-13.wav</td>\n",
              "      <td>angry</td>\n",
              "    </tr>\n",
              "    <tr>\n",
              "      <th>654</th>\n",
              "      <td>clean/03-01-01-01-02-01-09.wav</td>\n",
              "      <td>neutral</td>\n",
              "    </tr>\n",
              "    <tr>\n",
              "      <th>327</th>\n",
              "      <td>clean/03-01-05-01-01-01-05.wav</td>\n",
              "      <td>angry</td>\n",
              "    </tr>\n",
              "    <tr>\n",
              "      <th>254</th>\n",
              "      <td>clean/03-01-04-01-02-02-01.wav</td>\n",
              "      <td>sad</td>\n",
              "    </tr>\n",
              "  </tbody>\n",
              "</table>\n",
              "</div>"
            ],
            "text/plain": [
              "                               file  emotion\n",
              "303  clean/03-01-05-01-02-02-21.wav    angry\n",
              "635  clean/03-01-05-01-01-02-13.wav    angry\n",
              "654  clean/03-01-01-01-02-01-09.wav  neutral\n",
              "327  clean/03-01-05-01-01-01-05.wav    angry\n",
              "254  clean/03-01-04-01-02-02-01.wav      sad"
            ]
          },
          "metadata": {
            "tags": []
          },
          "execution_count": 17
        }
      ]
    },
    {
      "cell_type": "code",
      "metadata": {
        "id": "qvD5b4OGQZ8Q",
        "colab_type": "code",
        "outputId": "2da8b87c-e9f3-4592-c793-ec2a2e9b12d9",
        "colab": {
          "base_uri": "https://localhost:8080/",
          "height": 175
        }
      },
      "source": [
        "test.describe()"
      ],
      "execution_count": 18,
      "outputs": [
        {
          "output_type": "execute_result",
          "data": {
            "text/html": [
              "<div>\n",
              "<style scoped>\n",
              "    .dataframe tbody tr th:only-of-type {\n",
              "        vertical-align: middle;\n",
              "    }\n",
              "\n",
              "    .dataframe tbody tr th {\n",
              "        vertical-align: top;\n",
              "    }\n",
              "\n",
              "    .dataframe thead th {\n",
              "        text-align: right;\n",
              "    }\n",
              "</style>\n",
              "<table border=\"1\" class=\"dataframe\">\n",
              "  <thead>\n",
              "    <tr style=\"text-align: right;\">\n",
              "      <th></th>\n",
              "      <th>file</th>\n",
              "      <th>emotion</th>\n",
              "    </tr>\n",
              "  </thead>\n",
              "  <tbody>\n",
              "    <tr>\n",
              "      <th>count</th>\n",
              "      <td>135</td>\n",
              "      <td>135</td>\n",
              "    </tr>\n",
              "    <tr>\n",
              "      <th>unique</th>\n",
              "      <td>135</td>\n",
              "      <td>4</td>\n",
              "    </tr>\n",
              "    <tr>\n",
              "      <th>top</th>\n",
              "      <td>clean/03-01-05-01-02-02-17.wav</td>\n",
              "      <td>sad</td>\n",
              "    </tr>\n",
              "    <tr>\n",
              "      <th>freq</th>\n",
              "      <td>1</td>\n",
              "      <td>41</td>\n",
              "    </tr>\n",
              "  </tbody>\n",
              "</table>\n",
              "</div>"
            ],
            "text/plain": [
              "                                  file emotion\n",
              "count                              135     135\n",
              "unique                             135       4\n",
              "top     clean/03-01-05-01-02-02-17.wav     sad\n",
              "freq                                 1      41"
            ]
          },
          "metadata": {
            "tags": []
          },
          "execution_count": 18
        }
      ]
    },
    {
      "cell_type": "code",
      "metadata": {
        "id": "z2v4qMQBd6zE",
        "colab_type": "code",
        "colab": {}
      },
      "source": [
        "def find_mfcc(signal, sample_rate , numcep):\n",
        "    pre_emphasis = 0.97\n",
        "    emphasized_signal = np.append(signal[0], signal[1:] - pre_emphasis * signal[:-1])\n",
        "    frame_size = 0.025\n",
        "    frame_stride = 0.01\n",
        "\n",
        "    frame_length, frame_step = frame_size * sample_rate, frame_stride * sample_rate  # Convert from seconds to samples\n",
        "    signal_length = len(emphasized_signal)\n",
        "    frame_length = int(round(frame_length))\n",
        "    frame_step = int(round(frame_step))\n",
        "    num_frames = int(np.ceil(float(np.abs(signal_length - frame_length)) / frame_step))  # Make sure that we have at least 1 frame\n",
        "\n",
        "    pad_signal_length = num_frames * frame_step + frame_length\n",
        "    z = np.zeros((pad_signal_length - signal_length))\n",
        "    pad_signal = np.append(emphasized_signal, z) # Pad Signal to make sure that all frames have equal number of samples without truncating any samples from the original signal\n",
        "\n",
        "    indices = np.tile(np.arange(0, frame_length), (num_frames, 1)) + np.tile(np.arange(0, num_frames * frame_step, frame_step), (frame_length, 1)).T\n",
        "    frames = pad_signal[indices.astype(np.int32, copy=False)]\n",
        "\n",
        "    NFFT = 512\n",
        "    mag_frames = np.absolute(np.fft.rfft(frames, NFFT))  # Magnitude of the FFT\n",
        "    pow_frames = ((1.0 / NFFT) * ((mag_frames) ** 2))\n",
        "\n",
        "    nfilt = 40\n",
        "    low_freq_mel = 0\n",
        "    high_freq_mel = (2595 * np.log10(1 + (sample_rate / 2) / 700))  # Convert Hz to Mel\n",
        "    mel_points = np.linspace(low_freq_mel, high_freq_mel, nfilt + 2)  # Equally spaced in Mel scale\n",
        "    hz_points = (700 * (10**(mel_points / 2595) - 1))  # Convert Mel to Hz\n",
        "    bin = np.floor((NFFT + 1) * hz_points / sample_rate)\n",
        "\n",
        "    fbank = np.zeros((nfilt, int(np.floor(NFFT / 2 + 1))))\n",
        "    for m in range(1, nfilt + 1):\n",
        "        f_m_minus = int(bin[m - 1])   # left\n",
        "        f_m = int(bin[m])             # center\n",
        "        f_m_plus = int(bin[m + 1])    # right\n",
        "\n",
        "        for k in range(f_m_minus, f_m):\n",
        "            fbank[m - 1, k] = (k - bin[m - 1]) / (bin[m] - bin[m - 1])\n",
        "        for k in range(f_m, f_m_plus):\n",
        "            fbank[m - 1, k] = (bin[m + 1] - k) / (bin[m + 1] - bin[m])\n",
        "    filter_banks = np.dot(pow_frames, fbank.T)\n",
        "    filter_banks = np.where(filter_banks == 0, np.finfo(float).eps, filter_banks)  # Numerical Stability\n",
        "    filter_banks = 20 * np.log10(filter_banks)  # dB\n",
        "\n",
        "    num_ceps = numcep\n",
        "    mfcc = dct(filter_banks, type=2, axis=1, norm='ortho')[:, 1 : (num_ceps + 1)] # Keep 2-13\n",
        "   \n",
        "    return mfcc"
      ],
      "execution_count": 0,
      "outputs": []
    },
    {
      "cell_type": "code",
      "metadata": {
        "id": "fkek8DNjQcCf",
        "colab_type": "code",
        "outputId": "00d1f8f9-59cb-4334-d7fa-b5b387802e0e",
        "colab": {
          "base_uri": "https://localhost:8080/",
          "height": 36
        }
      },
      "source": [
        "''' preparing the training data for the model '''\n",
        "x_train = []\n",
        "y_train = []\n",
        "for index,row in tqdm(train.iterrows()):\n",
        "        file = row['file']\n",
        "        emotion = row['emotion']\n",
        "        with soundfile.SoundFile(file) as sound_file:\n",
        "            signal = sound_file.read(dtype=\"float32\")\n",
        "            sample_rate=sound_file.samplerate\n",
        "            mfcc = np.mean(find_mfcc(signal, sample_rate, 26), axis=0)\n",
        "            x_train.append(mfcc)\n",
        "            y_train.append(emotion)\n"
      ],
      "execution_count": 20,
      "outputs": [
        {
          "output_type": "stream",
          "text": [
            "537it [00:06, 83.27it/s]\n"
          ],
          "name": "stderr"
        }
      ]
    },
    {
      "cell_type": "code",
      "metadata": {
        "id": "QnAzPn9OQejO",
        "colab_type": "code",
        "outputId": "fba2026d-3159-49fa-e0d2-b73c5977ec97",
        "colab": {
          "base_uri": "https://localhost:8080/",
          "height": 36
        }
      },
      "source": [
        "''' preparing the testing data for the model '''\n",
        "x_test = []\n",
        "y_test = []\n",
        "for index,row in tqdm(test.iterrows()):\n",
        "        file = row['file']\n",
        "        emotion = row['emotion']\n",
        "        with soundfile.SoundFile(file) as sound_file:\n",
        "            signal = sound_file.read(dtype=\"float32\")\n",
        "            sample_rate=sound_file.samplerate\n",
        "            mfcc = np.mean(find_mfcc(signal, sample_rate, 26), axis=0)\n",
        "            x_test.append(mfcc)\n",
        "            y_test.append(emotion)"
      ],
      "execution_count": 21,
      "outputs": [
        {
          "output_type": "stream",
          "text": [
            "135it [00:01, 83.79it/s]\n"
          ],
          "name": "stderr"
        }
      ]
    },
    {
      "cell_type": "code",
      "metadata": {
        "id": "XqyK_IPjQkgu",
        "colab_type": "code",
        "colab": {}
      },
      "source": [
        "''' converting all the training and testing data into numpy arrays '''\n",
        "x_test = np.array(x_test)\n",
        "y_test = np.array(y_test)\n",
        "x_train = np.array(x_train)\n",
        "y_train = np.array(y_train)"
      ],
      "execution_count": 0,
      "outputs": []
    },
    {
      "cell_type": "code",
      "metadata": {
        "id": "Pk4qvtgvQlYO",
        "colab_type": "code",
        "outputId": "7c806679-82c6-4511-963f-7ad7936becce",
        "colab": {
          "base_uri": "https://localhost:8080/",
          "height": 36
        }
      },
      "source": [
        "'''Performing LabelEncoding for the categorical output data '''\n",
        "from keras.utils import np_utils\n",
        "from sklearn.preprocessing import LabelEncoder"
      ],
      "execution_count": 23,
      "outputs": [
        {
          "output_type": "stream",
          "text": [
            "Using TensorFlow backend.\n"
          ],
          "name": "stderr"
        }
      ]
    },
    {
      "cell_type": "code",
      "metadata": {
        "id": "X1HZ810tQnst",
        "colab_type": "code",
        "colab": {}
      },
      "source": [
        "label = LabelEncoder()\n",
        "y_train = np_utils.to_categorical(label.fit_transform(y_train))\n",
        "y_test = np_utils.to_categorical(label.fit_transform(y_test))"
      ],
      "execution_count": 0,
      "outputs": []
    },
    {
      "cell_type": "code",
      "metadata": {
        "id": "lRbw0iL1Qp29",
        "colab_type": "code",
        "outputId": "ef3998c8-dd76-43bc-97d4-6c2bb7a3977d",
        "colab": {
          "base_uri": "https://localhost:8080/",
          "height": 92
        }
      },
      "source": [
        "print('x_train shape = ',x_train.shape)\n",
        "print('y_train shape = ',y_train.shape)\n",
        "print('x_test shape = ',x_test.shape)\n",
        "print('y_test shape = ',y_test.shape)"
      ],
      "execution_count": 25,
      "outputs": [
        {
          "output_type": "stream",
          "text": [
            "x_train shape =  (537, 26)\n",
            "y_train shape =  (537, 4)\n",
            "x_test shape =  (135, 26)\n",
            "y_test shape =  (135, 4)\n"
          ],
          "name": "stdout"
        }
      ]
    },
    {
      "cell_type": "code",
      "metadata": {
        "id": "WNyNzGb2QuCM",
        "colab_type": "code",
        "outputId": "431bc648-ade0-4de5-d37d-3fd4d3c94b44",
        "colab": {
          "base_uri": "https://localhost:8080/",
          "height": 36
        }
      },
      "source": [
        "num_features = x_train.shape[1]\n",
        "# Get the number of features extracted\n",
        "print(f'Features extracted: {x_train.shape[1]}')"
      ],
      "execution_count": 26,
      "outputs": [
        {
          "output_type": "stream",
          "text": [
            "Features extracted: 26\n"
          ],
          "name": "stdout"
        }
      ]
    },
    {
      "cell_type": "code",
      "metadata": {
        "id": "33fNcQlrQy5a",
        "colab_type": "code",
        "colab": {}
      },
      "source": [
        "''' imports required for MLP classifier '''\n",
        "from sklearn.neural_network import MLPClassifier\n",
        "from sklearn.metrics import accuracy_score"
      ],
      "execution_count": 0,
      "outputs": []
    },
    {
      "cell_type": "code",
      "metadata": {
        "id": "lkuQM0zbQzoN",
        "colab_type": "code",
        "colab": {}
      },
      "source": [
        "#Initializing the Multi Layer Perceptron Classifier\n",
        "MLP_model = MLPClassifier(alpha=0.01, batch_size=256, epsilon=1e-08, \n",
        "                    hidden_layer_sizes=(300,), learning_rate='adaptive', max_iter=500,verbose=1)"
      ],
      "execution_count": 0,
      "outputs": []
    },
    {
      "cell_type": "code",
      "metadata": {
        "id": "meYbMqXsQ237",
        "colab_type": "code",
        "outputId": "6a1ed24f-75ae-4b1e-e3ce-7f6aaa045776",
        "colab": {
          "base_uri": "https://localhost:8080/",
          "height": 1000
        }
      },
      "source": [
        "#Training the model\n",
        "MLP_model.fit(x_train,y_train)"
      ],
      "execution_count": 29,
      "outputs": [
        {
          "output_type": "stream",
          "text": [
            "Iteration 1, loss = 3.61480338\n",
            "Iteration 2, loss = 2.67750605\n",
            "Iteration 3, loss = 2.49109058\n",
            "Iteration 4, loss = 2.12502310\n",
            "Iteration 5, loss = 2.11321262\n",
            "Iteration 6, loss = 1.91720162\n",
            "Iteration 7, loss = 1.93171634\n",
            "Iteration 8, loss = 1.81604361\n",
            "Iteration 9, loss = 1.78698289\n",
            "Iteration 10, loss = 1.74766436\n",
            "Iteration 11, loss = 1.68820508\n",
            "Iteration 12, loss = 1.67539220\n",
            "Iteration 13, loss = 1.63388972\n",
            "Iteration 14, loss = 1.59060245\n",
            "Iteration 15, loss = 1.56201380\n",
            "Iteration 16, loss = 1.54619741\n",
            "Iteration 17, loss = 1.52187140\n",
            "Iteration 18, loss = 1.53799598\n",
            "Iteration 19, loss = 1.49782350\n",
            "Iteration 20, loss = 1.48355171\n",
            "Iteration 21, loss = 1.49329214\n",
            "Iteration 22, loss = 1.45901789\n",
            "Iteration 23, loss = 1.45628888\n",
            "Iteration 24, loss = 1.41157622\n",
            "Iteration 25, loss = 1.40663602\n",
            "Iteration 26, loss = 1.37536218\n",
            "Iteration 27, loss = 1.37326103\n",
            "Iteration 28, loss = 1.37156763\n",
            "Iteration 29, loss = 1.34431527\n",
            "Iteration 30, loss = 1.32925635\n",
            "Iteration 31, loss = 1.32672098\n",
            "Iteration 32, loss = 1.30968554\n",
            "Iteration 33, loss = 1.33028456\n",
            "Iteration 34, loss = 1.29468042\n",
            "Iteration 35, loss = 1.27090770\n",
            "Iteration 36, loss = 1.28046974\n",
            "Iteration 37, loss = 1.25916773\n",
            "Iteration 38, loss = 1.26145478\n",
            "Iteration 39, loss = 1.25195013\n",
            "Iteration 40, loss = 1.21589963\n",
            "Iteration 41, loss = 1.22125843\n",
            "Iteration 42, loss = 1.18190316\n",
            "Iteration 43, loss = 1.21192154\n",
            "Iteration 44, loss = 1.17651762\n",
            "Iteration 45, loss = 1.21699101\n",
            "Iteration 46, loss = 1.17438670\n",
            "Iteration 47, loss = 1.19540782\n",
            "Iteration 48, loss = 1.17205924\n",
            "Iteration 49, loss = 1.15928962\n",
            "Iteration 50, loss = 1.15057455\n",
            "Iteration 51, loss = 1.09934578\n",
            "Iteration 52, loss = 1.11767108\n",
            "Iteration 53, loss = 1.09621979\n",
            "Iteration 54, loss = 1.11621475\n",
            "Iteration 55, loss = 1.09968672\n",
            "Iteration 56, loss = 1.05780815\n",
            "Iteration 57, loss = 1.04147127\n",
            "Iteration 58, loss = 1.03537366\n",
            "Iteration 59, loss = 1.02042286\n",
            "Iteration 60, loss = 1.06494797\n",
            "Iteration 61, loss = 1.02065860\n",
            "Iteration 62, loss = 1.03033844\n",
            "Iteration 63, loss = 1.00621384\n",
            "Iteration 64, loss = 1.01067794\n",
            "Iteration 65, loss = 1.03655253\n",
            "Iteration 66, loss = 0.97725049\n",
            "Iteration 67, loss = 0.99122013\n",
            "Iteration 68, loss = 0.95437243\n",
            "Iteration 69, loss = 0.97631499\n",
            "Iteration 70, loss = 0.96688519\n",
            "Iteration 71, loss = 0.95061125\n",
            "Iteration 72, loss = 0.93191028\n",
            "Iteration 73, loss = 0.91398769\n",
            "Iteration 74, loss = 0.90644313\n",
            "Iteration 75, loss = 0.90657426\n",
            "Iteration 76, loss = 0.93593898\n",
            "Iteration 77, loss = 0.92550192\n",
            "Iteration 78, loss = 0.88925343\n",
            "Iteration 79, loss = 0.92113573\n",
            "Iteration 80, loss = 0.86980109\n",
            "Iteration 81, loss = 0.88321742\n",
            "Iteration 82, loss = 0.85531902\n",
            "Iteration 83, loss = 0.84603365\n",
            "Iteration 84, loss = 0.84387617\n",
            "Iteration 85, loss = 0.83798216\n",
            "Iteration 86, loss = 0.82302299\n",
            "Iteration 87, loss = 0.85398109\n",
            "Iteration 88, loss = 0.81773932\n",
            "Iteration 89, loss = 0.84514130\n",
            "Iteration 90, loss = 0.81383434\n",
            "Iteration 91, loss = 0.82324955\n",
            "Iteration 92, loss = 0.80692202\n",
            "Iteration 93, loss = 0.78800925\n",
            "Iteration 94, loss = 0.77984488\n",
            "Iteration 95, loss = 0.80901658\n",
            "Iteration 96, loss = 0.77576490\n",
            "Iteration 97, loss = 0.79949062\n",
            "Iteration 98, loss = 0.79084449\n",
            "Iteration 99, loss = 0.76904970\n",
            "Iteration 100, loss = 0.75953708\n",
            "Iteration 101, loss = 0.76939370\n",
            "Iteration 102, loss = 0.74488566\n",
            "Iteration 103, loss = 0.74042944\n",
            "Iteration 104, loss = 0.72427568\n",
            "Iteration 105, loss = 0.73039932\n",
            "Iteration 106, loss = 0.72536287\n",
            "Iteration 107, loss = 0.72124681\n",
            "Iteration 108, loss = 0.71270429\n",
            "Iteration 109, loss = 0.70260877\n",
            "Iteration 110, loss = 0.70645504\n",
            "Iteration 111, loss = 0.68993358\n",
            "Iteration 112, loss = 0.70188824\n",
            "Iteration 113, loss = 0.67801527\n",
            "Iteration 114, loss = 0.69901143\n",
            "Iteration 115, loss = 0.69556049\n",
            "Iteration 116, loss = 0.68466699\n",
            "Iteration 117, loss = 0.69462123\n",
            "Iteration 118, loss = 0.65832210\n",
            "Iteration 119, loss = 0.64992616\n",
            "Iteration 120, loss = 0.64416801\n",
            "Iteration 121, loss = 0.63598497\n",
            "Iteration 122, loss = 0.63331750\n",
            "Iteration 123, loss = 0.63276988\n",
            "Iteration 124, loss = 0.64755409\n",
            "Iteration 125, loss = 0.62386228\n",
            "Iteration 126, loss = 0.61376920\n",
            "Iteration 127, loss = 0.61704112\n",
            "Iteration 128, loss = 0.62142868\n",
            "Iteration 129, loss = 0.61542729\n",
            "Iteration 130, loss = 0.60003100\n",
            "Iteration 131, loss = 0.60006954\n",
            "Iteration 132, loss = 0.59077426\n",
            "Iteration 133, loss = 0.58330550\n",
            "Iteration 134, loss = 0.58681483\n",
            "Iteration 135, loss = 0.57816832\n",
            "Iteration 136, loss = 0.58890632\n",
            "Iteration 137, loss = 0.58653987\n",
            "Iteration 138, loss = 0.57344991\n",
            "Iteration 139, loss = 0.56303089\n",
            "Iteration 140, loss = 0.56646125\n",
            "Iteration 141, loss = 0.55879729\n",
            "Iteration 142, loss = 0.57444566\n",
            "Iteration 143, loss = 0.56246968\n",
            "Iteration 144, loss = 0.57078228\n",
            "Iteration 145, loss = 0.54542985\n",
            "Iteration 146, loss = 0.55897743\n",
            "Iteration 147, loss = 0.54180293\n",
            "Iteration 148, loss = 0.54977180\n",
            "Iteration 149, loss = 0.54216902\n",
            "Iteration 150, loss = 0.54405192\n",
            "Iteration 151, loss = 0.52421427\n",
            "Iteration 152, loss = 0.52582984\n",
            "Iteration 153, loss = 0.51479654\n",
            "Iteration 154, loss = 0.51550545\n",
            "Iteration 155, loss = 0.51804577\n",
            "Iteration 156, loss = 0.51575955\n",
            "Iteration 157, loss = 0.50696007\n",
            "Iteration 158, loss = 0.49709622\n",
            "Iteration 159, loss = 0.49401066\n",
            "Iteration 160, loss = 0.49627257\n",
            "Iteration 161, loss = 0.49827479\n",
            "Iteration 162, loss = 0.48738273\n",
            "Iteration 163, loss = 0.47916370\n",
            "Iteration 164, loss = 0.48215017\n",
            "Iteration 165, loss = 0.47914469\n",
            "Iteration 166, loss = 0.49587860\n",
            "Iteration 167, loss = 0.47756051\n",
            "Iteration 168, loss = 0.47634473\n",
            "Iteration 169, loss = 0.48118743\n",
            "Iteration 170, loss = 0.46281664\n",
            "Iteration 171, loss = 0.46926734\n",
            "Iteration 172, loss = 0.45487961\n",
            "Iteration 173, loss = 0.46324416\n",
            "Iteration 174, loss = 0.46532049\n",
            "Iteration 175, loss = 0.45929699\n",
            "Iteration 176, loss = 0.45826394\n",
            "Iteration 177, loss = 0.44030136\n",
            "Iteration 178, loss = 0.45059994\n",
            "Iteration 179, loss = 0.44659361\n",
            "Iteration 180, loss = 0.43950165\n",
            "Iteration 181, loss = 0.42461648\n",
            "Iteration 182, loss = 0.43436062\n",
            "Iteration 183, loss = 0.44367882\n",
            "Iteration 184, loss = 0.44546738\n",
            "Iteration 185, loss = 0.42928905\n",
            "Iteration 186, loss = 0.41456532\n",
            "Iteration 187, loss = 0.42131267\n",
            "Iteration 188, loss = 0.41182287\n",
            "Iteration 189, loss = 0.41091294\n",
            "Iteration 190, loss = 0.42060200\n",
            "Iteration 191, loss = 0.40047092\n",
            "Iteration 192, loss = 0.41477792\n",
            "Iteration 193, loss = 0.39830212\n",
            "Iteration 194, loss = 0.41407336\n",
            "Iteration 195, loss = 0.39712892\n",
            "Iteration 196, loss = 0.40315659\n",
            "Iteration 197, loss = 0.38531949\n",
            "Iteration 198, loss = 0.39965466\n",
            "Iteration 199, loss = 0.38150775\n",
            "Iteration 200, loss = 0.41139034\n",
            "Iteration 201, loss = 0.38729929\n",
            "Iteration 202, loss = 0.40879127\n",
            "Iteration 203, loss = 0.41435233\n",
            "Iteration 204, loss = 0.38204340\n",
            "Iteration 205, loss = 0.38769872\n",
            "Iteration 206, loss = 0.38720185\n",
            "Iteration 207, loss = 0.39344199\n",
            "Iteration 208, loss = 0.40549747\n",
            "Iteration 209, loss = 0.38890717\n",
            "Iteration 210, loss = 0.39130960\n",
            "Training loss did not improve more than tol=0.000100 for 10 consecutive epochs. Stopping.\n"
          ],
          "name": "stdout"
        },
        {
          "output_type": "execute_result",
          "data": {
            "text/plain": [
              "MLPClassifier(activation='relu', alpha=0.01, batch_size=256, beta_1=0.9,\n",
              "              beta_2=0.999, early_stopping=False, epsilon=1e-08,\n",
              "              hidden_layer_sizes=(300,), learning_rate='adaptive',\n",
              "              learning_rate_init=0.001, max_fun=15000, max_iter=500,\n",
              "              momentum=0.9, n_iter_no_change=10, nesterovs_momentum=True,\n",
              "              power_t=0.5, random_state=None, shuffle=True, solver='adam',\n",
              "              tol=0.0001, validation_fraction=0.1, verbose=1, warm_start=False)"
            ]
          },
          "metadata": {
            "tags": []
          },
          "execution_count": 29
        }
      ]
    },
    {
      "cell_type": "code",
      "metadata": {
        "id": "HNs-wgHJQ5Fj",
        "colab_type": "code",
        "colab": {}
      },
      "source": [
        "#Predicting the results for the test set data\n",
        "y_pred=MLP_model.predict(x_test)"
      ],
      "execution_count": 0,
      "outputs": []
    },
    {
      "cell_type": "code",
      "metadata": {
        "id": "q_EKQC84Q8bB",
        "colab_type": "code",
        "outputId": "5c901ca0-c003-4ab1-c94f-577c92bbdb59",
        "colab": {
          "base_uri": "https://localhost:8080/",
          "height": 36
        }
      },
      "source": [
        "#Calculate the accuracy of our model\n",
        "accuracy=accuracy_score(y_true=y_test, y_pred=y_pred)\n",
        "#Print the accuracy\n",
        "print(\"Accuracy: {:.2f}%\".format(accuracy*100))"
      ],
      "execution_count": 31,
      "outputs": [
        {
          "output_type": "stream",
          "text": [
            "Accuracy: 63.70%\n"
          ],
          "name": "stdout"
        }
      ]
    },
    {
      "cell_type": "code",
      "metadata": {
        "id": "utOSghEERLtB",
        "colab_type": "code",
        "colab": {}
      },
      "source": [
        "''' imports required for CNN model '''\n",
        "import keras\n",
        "from tensorflow.keras.models import Sequential\n",
        "from tensorflow.keras.layers import Dense,Conv1D,Flatten \n",
        "from tensorflow.keras.layers import MaxPooling1D,Dropout"
      ],
      "execution_count": 0,
      "outputs": []
    },
    {
      "cell_type": "code",
      "metadata": {
        "id": "GjMtuIBV1dqs",
        "colab_type": "code",
        "colab": {}
      },
      "source": [
        "''' reshaping data before feeding into the model '''\n",
        "input_shape = (num_features,1)\n",
        "num_files = x_train.shape[0]\n",
        "x_train = x_train.reshape(num_files,num_features,1)"
      ],
      "execution_count": 0,
      "outputs": []
    },
    {
      "cell_type": "code",
      "metadata": {
        "id": "Qvw-LdhxRN9X",
        "colab_type": "code",
        "outputId": "bea6359b-e3b6-4069-f31c-af9a4a0d7dac",
        "colab": {
          "base_uri": "https://localhost:8080/",
          "height": 93
        }
      },
      "source": [
        "''' CNN model '''\n",
        "cnn_model = Sequential()\n",
        "cnn_model.add(Conv1D(32, kernel_size=(3), input_shape=input_shape))\n",
        "cnn_model.add(Conv1D(64, kernel_size=(3)))\n",
        "cnn_model.add(Conv1D(128, kernel_size=(3)))\n",
        "cnn_model.add(MaxPooling1D(3))\n",
        "cnn_model.add(Conv1D(64, kernel_size=(3)))\n",
        "cnn_model.add(Conv1D(32, kernel_size=(3)))\n",
        "cnn_model.add(Flatten())\n",
        "cnn_model.add(Dropout(0.5))\n",
        "cnn_model.add(Dense(128, activation='relu'))\n",
        "cnn_model.add(Dense(12, activation='relu'))\n",
        "cnn_model.add(Dense(4, activation='softmax'))"
      ],
      "execution_count": 34,
      "outputs": [
        {
          "output_type": "stream",
          "text": [
            "WARNING:tensorflow:From /tensorflow-1.15.2/python3.6/tensorflow_core/python/ops/resource_variable_ops.py:1630: calling BaseResourceVariable.__init__ (from tensorflow.python.ops.resource_variable_ops) with constraint is deprecated and will be removed in a future version.\n",
            "Instructions for updating:\n",
            "If using Keras pass *_constraint arguments to layers.\n"
          ],
          "name": "stdout"
        }
      ]
    },
    {
      "cell_type": "code",
      "metadata": {
        "id": "fGLx7l7cRRBm",
        "colab_type": "code",
        "outputId": "932cd9be-f38b-4299-c523-b969e1dddfd8",
        "colab": {
          "base_uri": "https://localhost:8080/",
          "height": 578
        }
      },
      "source": [
        "''' compiling the model and printing summary '''\n",
        "cnn_model.compile(loss='categorical_crossentropy', optimizer='adam', metrics=['accuracy'])\n",
        "cnn_model.summary()"
      ],
      "execution_count": 35,
      "outputs": [
        {
          "output_type": "stream",
          "text": [
            "Model: \"sequential\"\n",
            "_________________________________________________________________\n",
            "Layer (type)                 Output Shape              Param #   \n",
            "=================================================================\n",
            "conv1d (Conv1D)              (None, 24, 32)            128       \n",
            "_________________________________________________________________\n",
            "conv1d_1 (Conv1D)            (None, 22, 64)            6208      \n",
            "_________________________________________________________________\n",
            "conv1d_2 (Conv1D)            (None, 20, 128)           24704     \n",
            "_________________________________________________________________\n",
            "max_pooling1d (MaxPooling1D) (None, 6, 128)            0         \n",
            "_________________________________________________________________\n",
            "conv1d_3 (Conv1D)            (None, 4, 64)             24640     \n",
            "_________________________________________________________________\n",
            "conv1d_4 (Conv1D)            (None, 2, 32)             6176      \n",
            "_________________________________________________________________\n",
            "flatten (Flatten)            (None, 64)                0         \n",
            "_________________________________________________________________\n",
            "dropout (Dropout)            (None, 64)                0         \n",
            "_________________________________________________________________\n",
            "dense (Dense)                (None, 128)               8320      \n",
            "_________________________________________________________________\n",
            "dense_1 (Dense)              (None, 12)                1548      \n",
            "_________________________________________________________________\n",
            "dense_2 (Dense)              (None, 4)                 52        \n",
            "=================================================================\n",
            "Total params: 71,776\n",
            "Trainable params: 71,776\n",
            "Non-trainable params: 0\n",
            "_________________________________________________________________\n"
          ],
          "name": "stdout"
        }
      ]
    },
    {
      "cell_type": "code",
      "metadata": {
        "id": "kGPRFQh-RVG1",
        "colab_type": "code",
        "outputId": "b91cc177-c65a-471c-833f-773d393394f1",
        "colab": {
          "base_uri": "https://localhost:8080/",
          "height": 1000
        }
      },
      "source": [
        "''' CNN model training '''\n",
        "final = cnn_model.fit(x_train, y_train, epochs=500,verbose=1, batch_size=256, validation_split=0.2)"
      ],
      "execution_count": 36,
      "outputs": [
        {
          "output_type": "stream",
          "text": [
            "Train on 429 samples, validate on 108 samples\n",
            "Epoch 1/500\n",
            "429/429 [==============================] - 6s 14ms/sample - loss: 1.5034 - acc: 0.3054 - val_loss: 1.3700 - val_acc: 0.3056\n",
            "Epoch 2/500\n",
            "429/429 [==============================] - 0s 64us/sample - loss: 1.3649 - acc: 0.3520 - val_loss: 1.3743 - val_acc: 0.2963\n",
            "Epoch 3/500\n",
            "429/429 [==============================] - 0s 59us/sample - loss: 1.3705 - acc: 0.3776 - val_loss: 1.3915 - val_acc: 0.3148\n",
            "Epoch 4/500\n",
            "429/429 [==============================] - 0s 58us/sample - loss: 1.3157 - acc: 0.3939 - val_loss: 1.3150 - val_acc: 0.3704\n",
            "Epoch 5/500\n",
            "429/429 [==============================] - 0s 69us/sample - loss: 1.2950 - acc: 0.3730 - val_loss: 1.2360 - val_acc: 0.4167\n",
            "Epoch 6/500\n",
            "429/429 [==============================] - 0s 60us/sample - loss: 1.2475 - acc: 0.4196 - val_loss: 1.2607 - val_acc: 0.3981\n",
            "Epoch 7/500\n",
            "429/429 [==============================] - 0s 58us/sample - loss: 1.2228 - acc: 0.4476 - val_loss: 1.2295 - val_acc: 0.3981\n",
            "Epoch 8/500\n",
            "429/429 [==============================] - 0s 58us/sample - loss: 1.1795 - acc: 0.4545 - val_loss: 1.1620 - val_acc: 0.3981\n",
            "Epoch 9/500\n",
            "429/429 [==============================] - 0s 63us/sample - loss: 1.1505 - acc: 0.4872 - val_loss: 1.1387 - val_acc: 0.4630\n",
            "Epoch 10/500\n",
            "429/429 [==============================] - 0s 68us/sample - loss: 1.0909 - acc: 0.5221 - val_loss: 1.1404 - val_acc: 0.4722\n",
            "Epoch 11/500\n",
            "429/429 [==============================] - 0s 73us/sample - loss: 1.0655 - acc: 0.5408 - val_loss: 1.1152 - val_acc: 0.5370\n",
            "Epoch 12/500\n",
            "429/429 [==============================] - 0s 62us/sample - loss: 1.0818 - acc: 0.4965 - val_loss: 1.0902 - val_acc: 0.5370\n",
            "Epoch 13/500\n",
            "429/429 [==============================] - 0s 61us/sample - loss: 1.0844 - acc: 0.4895 - val_loss: 1.0892 - val_acc: 0.4630\n",
            "Epoch 14/500\n",
            "429/429 [==============================] - 0s 54us/sample - loss: 1.0813 - acc: 0.5524 - val_loss: 1.0891 - val_acc: 0.5185\n",
            "Epoch 15/500\n",
            "429/429 [==============================] - 0s 59us/sample - loss: 1.0367 - acc: 0.5385 - val_loss: 1.0841 - val_acc: 0.5370\n",
            "Epoch 16/500\n",
            "429/429 [==============================] - 0s 63us/sample - loss: 0.9968 - acc: 0.5828 - val_loss: 1.0740 - val_acc: 0.5185\n",
            "Epoch 17/500\n",
            "429/429 [==============================] - 0s 62us/sample - loss: 0.9771 - acc: 0.5828 - val_loss: 1.0834 - val_acc: 0.5000\n",
            "Epoch 18/500\n",
            "429/429 [==============================] - 0s 61us/sample - loss: 0.9796 - acc: 0.5641 - val_loss: 1.0735 - val_acc: 0.4815\n",
            "Epoch 19/500\n",
            "429/429 [==============================] - 0s 56us/sample - loss: 0.9730 - acc: 0.5781 - val_loss: 1.0997 - val_acc: 0.4815\n",
            "Epoch 20/500\n",
            "429/429 [==============================] - 0s 61us/sample - loss: 0.9598 - acc: 0.5758 - val_loss: 1.0546 - val_acc: 0.5093\n",
            "Epoch 21/500\n",
            "429/429 [==============================] - 0s 59us/sample - loss: 0.9114 - acc: 0.6131 - val_loss: 1.0448 - val_acc: 0.5093\n",
            "Epoch 22/500\n",
            "429/429 [==============================] - 0s 56us/sample - loss: 0.9292 - acc: 0.5991 - val_loss: 1.0730 - val_acc: 0.5556\n",
            "Epoch 23/500\n",
            "429/429 [==============================] - 0s 55us/sample - loss: 0.9088 - acc: 0.6131 - val_loss: 1.0153 - val_acc: 0.5556\n",
            "Epoch 24/500\n",
            "429/429 [==============================] - 0s 62us/sample - loss: 0.9226 - acc: 0.5921 - val_loss: 0.9899 - val_acc: 0.5648\n",
            "Epoch 25/500\n",
            "429/429 [==============================] - 0s 66us/sample - loss: 0.8892 - acc: 0.6387 - val_loss: 1.0379 - val_acc: 0.5648\n",
            "Epoch 26/500\n",
            "429/429 [==============================] - 0s 59us/sample - loss: 0.8794 - acc: 0.6084 - val_loss: 1.0350 - val_acc: 0.5370\n",
            "Epoch 27/500\n",
            "429/429 [==============================] - 0s 60us/sample - loss: 0.8512 - acc: 0.6224 - val_loss: 0.9985 - val_acc: 0.5926\n",
            "Epoch 28/500\n",
            "429/429 [==============================] - 0s 58us/sample - loss: 0.8396 - acc: 0.6247 - val_loss: 0.9999 - val_acc: 0.5741\n",
            "Epoch 29/500\n",
            "429/429 [==============================] - 0s 61us/sample - loss: 0.8306 - acc: 0.6457 - val_loss: 0.9790 - val_acc: 0.6111\n",
            "Epoch 30/500\n",
            "429/429 [==============================] - 0s 57us/sample - loss: 0.8255 - acc: 0.6364 - val_loss: 1.0046 - val_acc: 0.6296\n",
            "Epoch 31/500\n",
            "429/429 [==============================] - 0s 61us/sample - loss: 0.8074 - acc: 0.6364 - val_loss: 0.9646 - val_acc: 0.6204\n",
            "Epoch 32/500\n",
            "429/429 [==============================] - 0s 60us/sample - loss: 0.8028 - acc: 0.6550 - val_loss: 0.9501 - val_acc: 0.6019\n",
            "Epoch 33/500\n",
            "429/429 [==============================] - 0s 56us/sample - loss: 0.7664 - acc: 0.6643 - val_loss: 0.9556 - val_acc: 0.5926\n",
            "Epoch 34/500\n",
            "429/429 [==============================] - 0s 61us/sample - loss: 0.7717 - acc: 0.6667 - val_loss: 0.9789 - val_acc: 0.5833\n",
            "Epoch 35/500\n",
            "429/429 [==============================] - 0s 61us/sample - loss: 0.7366 - acc: 0.6830 - val_loss: 0.9826 - val_acc: 0.6204\n",
            "Epoch 36/500\n",
            "429/429 [==============================] - 0s 60us/sample - loss: 0.7466 - acc: 0.6900 - val_loss: 0.9895 - val_acc: 0.6667\n",
            "Epoch 37/500\n",
            "429/429 [==============================] - 0s 59us/sample - loss: 0.6953 - acc: 0.6993 - val_loss: 1.0146 - val_acc: 0.5833\n",
            "Epoch 38/500\n",
            "429/429 [==============================] - 0s 58us/sample - loss: 0.7308 - acc: 0.6876 - val_loss: 1.0140 - val_acc: 0.6389\n",
            "Epoch 39/500\n",
            "429/429 [==============================] - 0s 69us/sample - loss: 0.6878 - acc: 0.6923 - val_loss: 0.9969 - val_acc: 0.6111\n",
            "Epoch 40/500\n",
            "429/429 [==============================] - 0s 69us/sample - loss: 0.7207 - acc: 0.6807 - val_loss: 1.0181 - val_acc: 0.6111\n",
            "Epoch 41/500\n",
            "429/429 [==============================] - 0s 65us/sample - loss: 0.7157 - acc: 0.6853 - val_loss: 0.9773 - val_acc: 0.6204\n",
            "Epoch 42/500\n",
            "429/429 [==============================] - 0s 62us/sample - loss: 0.7072 - acc: 0.6783 - val_loss: 0.9906 - val_acc: 0.6019\n",
            "Epoch 43/500\n",
            "429/429 [==============================] - 0s 57us/sample - loss: 0.6790 - acc: 0.6923 - val_loss: 1.0657 - val_acc: 0.5926\n",
            "Epoch 44/500\n",
            "429/429 [==============================] - 0s 66us/sample - loss: 0.6686 - acc: 0.7319 - val_loss: 1.0540 - val_acc: 0.5926\n",
            "Epoch 45/500\n",
            "429/429 [==============================] - 0s 70us/sample - loss: 0.7279 - acc: 0.6830 - val_loss: 1.0049 - val_acc: 0.6019\n",
            "Epoch 46/500\n",
            "429/429 [==============================] - 0s 60us/sample - loss: 0.6399 - acc: 0.7296 - val_loss: 1.0912 - val_acc: 0.5926\n",
            "Epoch 47/500\n",
            "429/429 [==============================] - 0s 58us/sample - loss: 0.6754 - acc: 0.6993 - val_loss: 1.0156 - val_acc: 0.5741\n",
            "Epoch 48/500\n",
            "429/429 [==============================] - 0s 60us/sample - loss: 0.6695 - acc: 0.7226 - val_loss: 1.0209 - val_acc: 0.5648\n",
            "Epoch 49/500\n",
            "429/429 [==============================] - 0s 57us/sample - loss: 0.6566 - acc: 0.7016 - val_loss: 1.0633 - val_acc: 0.5833\n",
            "Epoch 50/500\n",
            "429/429 [==============================] - 0s 61us/sample - loss: 0.7009 - acc: 0.7063 - val_loss: 1.0002 - val_acc: 0.6019\n",
            "Epoch 51/500\n",
            "429/429 [==============================] - 0s 59us/sample - loss: 0.6241 - acc: 0.7249 - val_loss: 1.0450 - val_acc: 0.6111\n",
            "Epoch 52/500\n",
            "429/429 [==============================] - 0s 64us/sample - loss: 0.6005 - acc: 0.7273 - val_loss: 1.0236 - val_acc: 0.6204\n",
            "Epoch 53/500\n",
            "429/429 [==============================] - 0s 58us/sample - loss: 0.5980 - acc: 0.7459 - val_loss: 1.0720 - val_acc: 0.6204\n",
            "Epoch 54/500\n",
            "429/429 [==============================] - 0s 58us/sample - loss: 0.5990 - acc: 0.7366 - val_loss: 1.0519 - val_acc: 0.6019\n",
            "Epoch 55/500\n",
            "429/429 [==============================] - 0s 58us/sample - loss: 0.6006 - acc: 0.7436 - val_loss: 1.0191 - val_acc: 0.6111\n",
            "Epoch 56/500\n",
            "429/429 [==============================] - 0s 61us/sample - loss: 0.6005 - acc: 0.7622 - val_loss: 1.0599 - val_acc: 0.6019\n",
            "Epoch 57/500\n",
            "429/429 [==============================] - 0s 56us/sample - loss: 0.6074 - acc: 0.7436 - val_loss: 1.0609 - val_acc: 0.6111\n",
            "Epoch 58/500\n",
            "429/429 [==============================] - 0s 61us/sample - loss: 0.5863 - acc: 0.7459 - val_loss: 1.0190 - val_acc: 0.6204\n",
            "Epoch 59/500\n",
            "429/429 [==============================] - 0s 62us/sample - loss: 0.5686 - acc: 0.7413 - val_loss: 1.0946 - val_acc: 0.6296\n",
            "Epoch 60/500\n",
            "429/429 [==============================] - 0s 59us/sample - loss: 0.5825 - acc: 0.7506 - val_loss: 1.0521 - val_acc: 0.6389\n",
            "Epoch 61/500\n",
            "429/429 [==============================] - 0s 61us/sample - loss: 0.5433 - acc: 0.7809 - val_loss: 1.0554 - val_acc: 0.6111\n",
            "Epoch 62/500\n",
            "429/429 [==============================] - 0s 61us/sample - loss: 0.5338 - acc: 0.7832 - val_loss: 1.0441 - val_acc: 0.6296\n",
            "Epoch 63/500\n",
            "429/429 [==============================] - 0s 58us/sample - loss: 0.5439 - acc: 0.7739 - val_loss: 1.0876 - val_acc: 0.6111\n",
            "Epoch 64/500\n",
            "429/429 [==============================] - 0s 59us/sample - loss: 0.5406 - acc: 0.7809 - val_loss: 1.0480 - val_acc: 0.6296\n",
            "Epoch 65/500\n",
            "429/429 [==============================] - 0s 59us/sample - loss: 0.5022 - acc: 0.8042 - val_loss: 1.0262 - val_acc: 0.6296\n",
            "Epoch 66/500\n",
            "429/429 [==============================] - 0s 63us/sample - loss: 0.5145 - acc: 0.7716 - val_loss: 1.0315 - val_acc: 0.6111\n",
            "Epoch 67/500\n",
            "429/429 [==============================] - 0s 80us/sample - loss: 0.4944 - acc: 0.7552 - val_loss: 1.0092 - val_acc: 0.6204\n",
            "Epoch 68/500\n",
            "429/429 [==============================] - 0s 59us/sample - loss: 0.4516 - acc: 0.8089 - val_loss: 1.0119 - val_acc: 0.6111\n",
            "Epoch 69/500\n",
            "429/429 [==============================] - 0s 63us/sample - loss: 0.5297 - acc: 0.8042 - val_loss: 1.0106 - val_acc: 0.6481\n",
            "Epoch 70/500\n",
            "429/429 [==============================] - 0s 63us/sample - loss: 0.4567 - acc: 0.8019 - val_loss: 1.0446 - val_acc: 0.5926\n",
            "Epoch 71/500\n",
            "429/429 [==============================] - 0s 72us/sample - loss: 0.4522 - acc: 0.7949 - val_loss: 1.0953 - val_acc: 0.6204\n",
            "Epoch 72/500\n",
            "429/429 [==============================] - 0s 74us/sample - loss: 0.4468 - acc: 0.8112 - val_loss: 1.0796 - val_acc: 0.6574\n",
            "Epoch 73/500\n",
            "429/429 [==============================] - 0s 60us/sample - loss: 0.4271 - acc: 0.8228 - val_loss: 1.0497 - val_acc: 0.6481\n",
            "Epoch 74/500\n",
            "429/429 [==============================] - 0s 64us/sample - loss: 0.4289 - acc: 0.8368 - val_loss: 1.0471 - val_acc: 0.6667\n",
            "Epoch 75/500\n",
            "429/429 [==============================] - 0s 60us/sample - loss: 0.4293 - acc: 0.8159 - val_loss: 1.0582 - val_acc: 0.6574\n",
            "Epoch 76/500\n",
            "429/429 [==============================] - 0s 65us/sample - loss: 0.4737 - acc: 0.8089 - val_loss: 1.0600 - val_acc: 0.6204\n",
            "Epoch 77/500\n",
            "429/429 [==============================] - 0s 59us/sample - loss: 0.3898 - acc: 0.8578 - val_loss: 1.1448 - val_acc: 0.6389\n",
            "Epoch 78/500\n",
            "429/429 [==============================] - 0s 79us/sample - loss: 0.4302 - acc: 0.8135 - val_loss: 1.1336 - val_acc: 0.6204\n",
            "Epoch 79/500\n",
            "429/429 [==============================] - 0s 59us/sample - loss: 0.4552 - acc: 0.8042 - val_loss: 1.1482 - val_acc: 0.6296\n",
            "Epoch 80/500\n",
            "429/429 [==============================] - 0s 67us/sample - loss: 0.4237 - acc: 0.8345 - val_loss: 1.2151 - val_acc: 0.6204\n",
            "Epoch 81/500\n",
            "429/429 [==============================] - 0s 63us/sample - loss: 0.4153 - acc: 0.8298 - val_loss: 1.1746 - val_acc: 0.6296\n",
            "Epoch 82/500\n",
            "429/429 [==============================] - 0s 58us/sample - loss: 0.4237 - acc: 0.8089 - val_loss: 1.1698 - val_acc: 0.6204\n",
            "Epoch 83/500\n",
            "429/429 [==============================] - 0s 62us/sample - loss: 0.4232 - acc: 0.8089 - val_loss: 1.1713 - val_acc: 0.6204\n",
            "Epoch 84/500\n",
            "429/429 [==============================] - 0s 58us/sample - loss: 0.3885 - acc: 0.8345 - val_loss: 1.1307 - val_acc: 0.6759\n",
            "Epoch 85/500\n",
            "429/429 [==============================] - 0s 63us/sample - loss: 0.3824 - acc: 0.8368 - val_loss: 1.1860 - val_acc: 0.6389\n",
            "Epoch 86/500\n",
            "429/429 [==============================] - 0s 64us/sample - loss: 0.3631 - acc: 0.8415 - val_loss: 1.2454 - val_acc: 0.6111\n",
            "Epoch 87/500\n",
            "429/429 [==============================] - 0s 65us/sample - loss: 0.3856 - acc: 0.8205 - val_loss: 1.2267 - val_acc: 0.6019\n",
            "Epoch 88/500\n",
            "429/429 [==============================] - 0s 65us/sample - loss: 0.3631 - acc: 0.8578 - val_loss: 1.2123 - val_acc: 0.6296\n",
            "Epoch 89/500\n",
            "429/429 [==============================] - 0s 65us/sample - loss: 0.3873 - acc: 0.8392 - val_loss: 1.2635 - val_acc: 0.6481\n",
            "Epoch 90/500\n",
            "429/429 [==============================] - 0s 68us/sample - loss: 0.3782 - acc: 0.8368 - val_loss: 1.3027 - val_acc: 0.6481\n",
            "Epoch 91/500\n",
            "429/429 [==============================] - 0s 63us/sample - loss: 0.3960 - acc: 0.8182 - val_loss: 1.3038 - val_acc: 0.6389\n",
            "Epoch 92/500\n",
            "429/429 [==============================] - 0s 80us/sample - loss: 0.3633 - acc: 0.8485 - val_loss: 1.3613 - val_acc: 0.6852\n",
            "Epoch 93/500\n",
            "429/429 [==============================] - 0s 71us/sample - loss: 0.3797 - acc: 0.8462 - val_loss: 1.2593 - val_acc: 0.6481\n",
            "Epoch 94/500\n",
            "429/429 [==============================] - 0s 64us/sample - loss: 0.3788 - acc: 0.8462 - val_loss: 1.1685 - val_acc: 0.6574\n",
            "Epoch 95/500\n",
            "429/429 [==============================] - 0s 64us/sample - loss: 0.3585 - acc: 0.8438 - val_loss: 1.2639 - val_acc: 0.6667\n",
            "Epoch 96/500\n",
            "429/429 [==============================] - 0s 63us/sample - loss: 0.3947 - acc: 0.8438 - val_loss: 1.2621 - val_acc: 0.6296\n",
            "Epoch 97/500\n",
            "429/429 [==============================] - 0s 66us/sample - loss: 0.4825 - acc: 0.8135 - val_loss: 1.2735 - val_acc: 0.6296\n",
            "Epoch 98/500\n",
            "429/429 [==============================] - 0s 64us/sample - loss: 0.3661 - acc: 0.8648 - val_loss: 1.5291 - val_acc: 0.6204\n",
            "Epoch 99/500\n",
            "429/429 [==============================] - 0s 61us/sample - loss: 0.4351 - acc: 0.8135 - val_loss: 1.2954 - val_acc: 0.6019\n",
            "Epoch 100/500\n",
            "429/429 [==============================] - 0s 64us/sample - loss: 0.4243 - acc: 0.8298 - val_loss: 1.3292 - val_acc: 0.5926\n",
            "Epoch 101/500\n",
            "429/429 [==============================] - 0s 65us/sample - loss: 0.3817 - acc: 0.8625 - val_loss: 1.4295 - val_acc: 0.6111\n",
            "Epoch 102/500\n",
            "429/429 [==============================] - 0s 66us/sample - loss: 0.3610 - acc: 0.8485 - val_loss: 1.2428 - val_acc: 0.6296\n",
            "Epoch 103/500\n",
            "429/429 [==============================] - 0s 64us/sample - loss: 0.3467 - acc: 0.8601 - val_loss: 1.2303 - val_acc: 0.6481\n",
            "Epoch 104/500\n",
            "429/429 [==============================] - 0s 71us/sample - loss: 0.3755 - acc: 0.8485 - val_loss: 1.2859 - val_acc: 0.6019\n",
            "Epoch 105/500\n",
            "429/429 [==============================] - 0s 66us/sample - loss: 0.3429 - acc: 0.8555 - val_loss: 1.2997 - val_acc: 0.6389\n",
            "Epoch 106/500\n",
            "429/429 [==============================] - 0s 67us/sample - loss: 0.3379 - acc: 0.8858 - val_loss: 1.2793 - val_acc: 0.6667\n",
            "Epoch 107/500\n",
            "429/429 [==============================] - 0s 66us/sample - loss: 0.3155 - acc: 0.8741 - val_loss: 1.2290 - val_acc: 0.6389\n",
            "Epoch 108/500\n",
            "429/429 [==============================] - 0s 94us/sample - loss: 0.3186 - acc: 0.8485 - val_loss: 1.2716 - val_acc: 0.6481\n",
            "Epoch 109/500\n",
            "429/429 [==============================] - 0s 67us/sample - loss: 0.2891 - acc: 0.8904 - val_loss: 1.3787 - val_acc: 0.6204\n",
            "Epoch 110/500\n",
            "429/429 [==============================] - 0s 77us/sample - loss: 0.3443 - acc: 0.8485 - val_loss: 1.2612 - val_acc: 0.6204\n",
            "Epoch 111/500\n",
            "429/429 [==============================] - 0s 65us/sample - loss: 0.3016 - acc: 0.8788 - val_loss: 1.2205 - val_acc: 0.6481\n",
            "Epoch 112/500\n",
            "429/429 [==============================] - 0s 67us/sample - loss: 0.3454 - acc: 0.8881 - val_loss: 1.3148 - val_acc: 0.6667\n",
            "Epoch 113/500\n",
            "429/429 [==============================] - 0s 65us/sample - loss: 0.3450 - acc: 0.8625 - val_loss: 1.3722 - val_acc: 0.6574\n",
            "Epoch 114/500\n",
            "429/429 [==============================] - 0s 71us/sample - loss: 0.2749 - acc: 0.8951 - val_loss: 1.2486 - val_acc: 0.6574\n",
            "Epoch 115/500\n",
            "429/429 [==============================] - 0s 61us/sample - loss: 0.3057 - acc: 0.8718 - val_loss: 1.2694 - val_acc: 0.6481\n",
            "Epoch 116/500\n",
            "429/429 [==============================] - 0s 59us/sample - loss: 0.2906 - acc: 0.8904 - val_loss: 1.2996 - val_acc: 0.6667\n",
            "Epoch 117/500\n",
            "429/429 [==============================] - 0s 63us/sample - loss: 0.2738 - acc: 0.8951 - val_loss: 1.3182 - val_acc: 0.6389\n",
            "Epoch 118/500\n",
            "429/429 [==============================] - 0s 64us/sample - loss: 0.2514 - acc: 0.9068 - val_loss: 1.3202 - val_acc: 0.6574\n",
            "Epoch 119/500\n",
            "429/429 [==============================] - 0s 61us/sample - loss: 0.2553 - acc: 0.9091 - val_loss: 1.3757 - val_acc: 0.7037\n",
            "Epoch 120/500\n",
            "429/429 [==============================] - 0s 61us/sample - loss: 0.2684 - acc: 0.9091 - val_loss: 1.3962 - val_acc: 0.6481\n",
            "Epoch 121/500\n",
            "429/429 [==============================] - 0s 61us/sample - loss: 0.2615 - acc: 0.9044 - val_loss: 1.4415 - val_acc: 0.6111\n",
            "Epoch 122/500\n",
            "429/429 [==============================] - 0s 63us/sample - loss: 0.2620 - acc: 0.9068 - val_loss: 1.5046 - val_acc: 0.6111\n",
            "Epoch 123/500\n",
            "429/429 [==============================] - 0s 63us/sample - loss: 0.2832 - acc: 0.8974 - val_loss: 1.4995 - val_acc: 0.6296\n",
            "Epoch 124/500\n",
            "429/429 [==============================] - 0s 63us/sample - loss: 0.2706 - acc: 0.8834 - val_loss: 1.4866 - val_acc: 0.5926\n",
            "Epoch 125/500\n",
            "429/429 [==============================] - 0s 63us/sample - loss: 0.2805 - acc: 0.8881 - val_loss: 1.4561 - val_acc: 0.6389\n",
            "Epoch 126/500\n",
            "429/429 [==============================] - 0s 65us/sample - loss: 0.2692 - acc: 0.8928 - val_loss: 1.3136 - val_acc: 0.6481\n",
            "Epoch 127/500\n",
            "429/429 [==============================] - 0s 66us/sample - loss: 0.2688 - acc: 0.8811 - val_loss: 1.2625 - val_acc: 0.6481\n",
            "Epoch 128/500\n",
            "429/429 [==============================] - 0s 62us/sample - loss: 0.2609 - acc: 0.8974 - val_loss: 1.3412 - val_acc: 0.6481\n",
            "Epoch 129/500\n",
            "429/429 [==============================] - 0s 62us/sample - loss: 0.2178 - acc: 0.9207 - val_loss: 1.3372 - val_acc: 0.6574\n",
            "Epoch 130/500\n",
            "429/429 [==============================] - 0s 65us/sample - loss: 0.2720 - acc: 0.9068 - val_loss: 1.2870 - val_acc: 0.6667\n",
            "Epoch 131/500\n",
            "429/429 [==============================] - 0s 65us/sample - loss: 0.2637 - acc: 0.8951 - val_loss: 1.3614 - val_acc: 0.6574\n",
            "Epoch 132/500\n",
            "429/429 [==============================] - 0s 63us/sample - loss: 0.2090 - acc: 0.9301 - val_loss: 1.4383 - val_acc: 0.6389\n",
            "Epoch 133/500\n",
            "429/429 [==============================] - 0s 61us/sample - loss: 0.2261 - acc: 0.9114 - val_loss: 1.4475 - val_acc: 0.6481\n",
            "Epoch 134/500\n",
            "429/429 [==============================] - 0s 62us/sample - loss: 0.2425 - acc: 0.9044 - val_loss: 1.3921 - val_acc: 0.6574\n",
            "Epoch 135/500\n",
            "429/429 [==============================] - 0s 71us/sample - loss: 0.2517 - acc: 0.9114 - val_loss: 1.6632 - val_acc: 0.6481\n",
            "Epoch 136/500\n",
            "429/429 [==============================] - 0s 71us/sample - loss: 0.2448 - acc: 0.8928 - val_loss: 1.5316 - val_acc: 0.6481\n",
            "Epoch 137/500\n",
            "429/429 [==============================] - 0s 63us/sample - loss: 0.2679 - acc: 0.8858 - val_loss: 1.5445 - val_acc: 0.6389\n",
            "Epoch 138/500\n",
            "429/429 [==============================] - 0s 64us/sample - loss: 0.2463 - acc: 0.9114 - val_loss: 1.6339 - val_acc: 0.6759\n",
            "Epoch 139/500\n",
            "429/429 [==============================] - 0s 65us/sample - loss: 0.2738 - acc: 0.8928 - val_loss: 1.6132 - val_acc: 0.6667\n",
            "Epoch 140/500\n",
            "429/429 [==============================] - 0s 65us/sample - loss: 0.2068 - acc: 0.9161 - val_loss: 1.6249 - val_acc: 0.6481\n",
            "Epoch 141/500\n",
            "429/429 [==============================] - 0s 64us/sample - loss: 0.2412 - acc: 0.8974 - val_loss: 1.5996 - val_acc: 0.6574\n",
            "Epoch 142/500\n",
            "429/429 [==============================] - 0s 76us/sample - loss: 0.2155 - acc: 0.9068 - val_loss: 1.6424 - val_acc: 0.6667\n",
            "Epoch 143/500\n",
            "429/429 [==============================] - 0s 65us/sample - loss: 0.1939 - acc: 0.9254 - val_loss: 1.6669 - val_acc: 0.6574\n",
            "Epoch 144/500\n",
            "429/429 [==============================] - 0s 63us/sample - loss: 0.1834 - acc: 0.9417 - val_loss: 1.6902 - val_acc: 0.6389\n",
            "Epoch 145/500\n",
            "429/429 [==============================] - 0s 68us/sample - loss: 0.2175 - acc: 0.9184 - val_loss: 1.7739 - val_acc: 0.6667\n",
            "Epoch 146/500\n",
            "429/429 [==============================] - 0s 73us/sample - loss: 0.2393 - acc: 0.9138 - val_loss: 1.5610 - val_acc: 0.6852\n",
            "Epoch 147/500\n",
            "429/429 [==============================] - 0s 63us/sample - loss: 0.1991 - acc: 0.9254 - val_loss: 1.6063 - val_acc: 0.7037\n",
            "Epoch 148/500\n",
            "429/429 [==============================] - 0s 61us/sample - loss: 0.1946 - acc: 0.9324 - val_loss: 1.6656 - val_acc: 0.6389\n",
            "Epoch 149/500\n",
            "429/429 [==============================] - 0s 63us/sample - loss: 0.1837 - acc: 0.9417 - val_loss: 1.4986 - val_acc: 0.6944\n",
            "Epoch 150/500\n",
            "429/429 [==============================] - 0s 67us/sample - loss: 0.2231 - acc: 0.9207 - val_loss: 1.4700 - val_acc: 0.7222\n",
            "Epoch 151/500\n",
            "429/429 [==============================] - 0s 61us/sample - loss: 0.1932 - acc: 0.9207 - val_loss: 1.5442 - val_acc: 0.6667\n",
            "Epoch 152/500\n",
            "429/429 [==============================] - 0s 64us/sample - loss: 0.1913 - acc: 0.9207 - val_loss: 1.5439 - val_acc: 0.6389\n",
            "Epoch 153/500\n",
            "429/429 [==============================] - 0s 63us/sample - loss: 0.1998 - acc: 0.9138 - val_loss: 1.5875 - val_acc: 0.6852\n",
            "Epoch 154/500\n",
            "429/429 [==============================] - 0s 60us/sample - loss: 0.2153 - acc: 0.9277 - val_loss: 1.6369 - val_acc: 0.7037\n",
            "Epoch 155/500\n",
            "429/429 [==============================] - 0s 61us/sample - loss: 0.2021 - acc: 0.9231 - val_loss: 1.6971 - val_acc: 0.6574\n",
            "Epoch 156/500\n",
            "429/429 [==============================] - 0s 70us/sample - loss: 0.2477 - acc: 0.8974 - val_loss: 1.8739 - val_acc: 0.6574\n",
            "Epoch 157/500\n",
            "429/429 [==============================] - 0s 65us/sample - loss: 0.1920 - acc: 0.9347 - val_loss: 1.7345 - val_acc: 0.6667\n",
            "Epoch 158/500\n",
            "429/429 [==============================] - 0s 67us/sample - loss: 0.2240 - acc: 0.9231 - val_loss: 1.7095 - val_acc: 0.6574\n",
            "Epoch 159/500\n",
            "429/429 [==============================] - 0s 67us/sample - loss: 0.2496 - acc: 0.9021 - val_loss: 1.6955 - val_acc: 0.5833\n",
            "Epoch 160/500\n",
            "429/429 [==============================] - 0s 64us/sample - loss: 0.2245 - acc: 0.9114 - val_loss: 1.9201 - val_acc: 0.6296\n",
            "Epoch 161/500\n",
            "429/429 [==============================] - 0s 63us/sample - loss: 0.2847 - acc: 0.8974 - val_loss: 1.7823 - val_acc: 0.6296\n",
            "Epoch 162/500\n",
            "429/429 [==============================] - 0s 65us/sample - loss: 0.2039 - acc: 0.9068 - val_loss: 1.7593 - val_acc: 0.6759\n",
            "Epoch 163/500\n",
            "429/429 [==============================] - 0s 63us/sample - loss: 0.2045 - acc: 0.9324 - val_loss: 1.7833 - val_acc: 0.7130\n",
            "Epoch 164/500\n",
            "429/429 [==============================] - 0s 67us/sample - loss: 0.2105 - acc: 0.9277 - val_loss: 1.6667 - val_acc: 0.6852\n",
            "Epoch 165/500\n",
            "429/429 [==============================] - 0s 68us/sample - loss: 0.1825 - acc: 0.9371 - val_loss: 1.7414 - val_acc: 0.6296\n",
            "Epoch 166/500\n",
            "429/429 [==============================] - 0s 66us/sample - loss: 0.1701 - acc: 0.9231 - val_loss: 1.9589 - val_acc: 0.6389\n",
            "Epoch 167/500\n",
            "429/429 [==============================] - 0s 68us/sample - loss: 0.2380 - acc: 0.9138 - val_loss: 1.8138 - val_acc: 0.6111\n",
            "Epoch 168/500\n",
            "429/429 [==============================] - 0s 61us/sample - loss: 0.2281 - acc: 0.9091 - val_loss: 1.7164 - val_acc: 0.6296\n",
            "Epoch 169/500\n",
            "429/429 [==============================] - 0s 74us/sample - loss: 0.1775 - acc: 0.9277 - val_loss: 1.7063 - val_acc: 0.6574\n",
            "Epoch 170/500\n",
            "429/429 [==============================] - 0s 62us/sample - loss: 0.2121 - acc: 0.9138 - val_loss: 1.5023 - val_acc: 0.6852\n",
            "Epoch 171/500\n",
            "429/429 [==============================] - 0s 60us/sample - loss: 0.1628 - acc: 0.9394 - val_loss: 1.4379 - val_acc: 0.6852\n",
            "Epoch 172/500\n",
            "429/429 [==============================] - 0s 67us/sample - loss: 0.1935 - acc: 0.9184 - val_loss: 1.4272 - val_acc: 0.6944\n",
            "Epoch 173/500\n",
            "429/429 [==============================] - 0s 65us/sample - loss: 0.1549 - acc: 0.9417 - val_loss: 1.5198 - val_acc: 0.6574\n",
            "Epoch 174/500\n",
            "429/429 [==============================] - 0s 62us/sample - loss: 0.1468 - acc: 0.9417 - val_loss: 1.5800 - val_acc: 0.6296\n",
            "Epoch 175/500\n",
            "429/429 [==============================] - 0s 77us/sample - loss: 0.1501 - acc: 0.9394 - val_loss: 1.5353 - val_acc: 0.6481\n",
            "Epoch 176/500\n",
            "429/429 [==============================] - 0s 64us/sample - loss: 0.1952 - acc: 0.9231 - val_loss: 1.5708 - val_acc: 0.6389\n",
            "Epoch 177/500\n",
            "429/429 [==============================] - 0s 65us/sample - loss: 0.1491 - acc: 0.9417 - val_loss: 1.7044 - val_acc: 0.6481\n",
            "Epoch 178/500\n",
            "429/429 [==============================] - 0s 70us/sample - loss: 0.1715 - acc: 0.9347 - val_loss: 1.7697 - val_acc: 0.6389\n",
            "Epoch 179/500\n",
            "429/429 [==============================] - 0s 62us/sample - loss: 0.1613 - acc: 0.9254 - val_loss: 1.6572 - val_acc: 0.6759\n",
            "Epoch 180/500\n",
            "429/429 [==============================] - 0s 61us/sample - loss: 0.1275 - acc: 0.9510 - val_loss: 1.6628 - val_acc: 0.6759\n",
            "Epoch 181/500\n",
            "429/429 [==============================] - 0s 65us/sample - loss: 0.1640 - acc: 0.9394 - val_loss: 1.6524 - val_acc: 0.6389\n",
            "Epoch 182/500\n",
            "429/429 [==============================] - 0s 64us/sample - loss: 0.1288 - acc: 0.9580 - val_loss: 1.8138 - val_acc: 0.6389\n",
            "Epoch 183/500\n",
            "429/429 [==============================] - 0s 61us/sample - loss: 0.1945 - acc: 0.9184 - val_loss: 1.7141 - val_acc: 0.6296\n",
            "Epoch 184/500\n",
            "429/429 [==============================] - 0s 61us/sample - loss: 0.1469 - acc: 0.9510 - val_loss: 1.6259 - val_acc: 0.6389\n",
            "Epoch 185/500\n",
            "429/429 [==============================] - 0s 63us/sample - loss: 0.1273 - acc: 0.9580 - val_loss: 1.6001 - val_acc: 0.6852\n",
            "Epoch 186/500\n",
            "429/429 [==============================] - 0s 63us/sample - loss: 0.1518 - acc: 0.9487 - val_loss: 1.6418 - val_acc: 0.6852\n",
            "Epoch 187/500\n",
            "429/429 [==============================] - 0s 64us/sample - loss: 0.1741 - acc: 0.9277 - val_loss: 1.6606 - val_acc: 0.6389\n",
            "Epoch 188/500\n",
            "429/429 [==============================] - 0s 64us/sample - loss: 0.1162 - acc: 0.9627 - val_loss: 1.7272 - val_acc: 0.6667\n",
            "Epoch 189/500\n",
            "429/429 [==============================] - 0s 61us/sample - loss: 0.1806 - acc: 0.9324 - val_loss: 1.7703 - val_acc: 0.6759\n",
            "Epoch 190/500\n",
            "429/429 [==============================] - 0s 62us/sample - loss: 0.1331 - acc: 0.9650 - val_loss: 1.8683 - val_acc: 0.6574\n",
            "Epoch 191/500\n",
            "429/429 [==============================] - 0s 67us/sample - loss: 0.1788 - acc: 0.9301 - val_loss: 1.8259 - val_acc: 0.6667\n",
            "Epoch 192/500\n",
            "429/429 [==============================] - 0s 66us/sample - loss: 0.1750 - acc: 0.9394 - val_loss: 1.7466 - val_acc: 0.6852\n",
            "Epoch 193/500\n",
            "429/429 [==============================] - 0s 65us/sample - loss: 0.1563 - acc: 0.9301 - val_loss: 1.6952 - val_acc: 0.6944\n",
            "Epoch 194/500\n",
            "429/429 [==============================] - 0s 66us/sample - loss: 0.1110 - acc: 0.9744 - val_loss: 1.8126 - val_acc: 0.6481\n",
            "Epoch 195/500\n",
            "429/429 [==============================] - 0s 67us/sample - loss: 0.1608 - acc: 0.9347 - val_loss: 1.8933 - val_acc: 0.6481\n",
            "Epoch 196/500\n",
            "429/429 [==============================] - 0s 63us/sample - loss: 0.1518 - acc: 0.9510 - val_loss: 1.7206 - val_acc: 0.6852\n",
            "Epoch 197/500\n",
            "429/429 [==============================] - 0s 69us/sample - loss: 0.1337 - acc: 0.9557 - val_loss: 1.7379 - val_acc: 0.6852\n",
            "Epoch 198/500\n",
            "429/429 [==============================] - 0s 61us/sample - loss: 0.1304 - acc: 0.9580 - val_loss: 1.8513 - val_acc: 0.6667\n",
            "Epoch 199/500\n",
            "429/429 [==============================] - 0s 69us/sample - loss: 0.1330 - acc: 0.9510 - val_loss: 1.9494 - val_acc: 0.6667\n",
            "Epoch 200/500\n",
            "429/429 [==============================] - 0s 66us/sample - loss: 0.1536 - acc: 0.9487 - val_loss: 1.9833 - val_acc: 0.6019\n",
            "Epoch 201/500\n",
            "429/429 [==============================] - 0s 77us/sample - loss: 0.1496 - acc: 0.9534 - val_loss: 1.8982 - val_acc: 0.6667\n",
            "Epoch 202/500\n",
            "429/429 [==============================] - 0s 63us/sample - loss: 0.1297 - acc: 0.9487 - val_loss: 1.8776 - val_acc: 0.6667\n",
            "Epoch 203/500\n",
            "429/429 [==============================] - 0s 63us/sample - loss: 0.1542 - acc: 0.9441 - val_loss: 1.9751 - val_acc: 0.5833\n",
            "Epoch 204/500\n",
            "429/429 [==============================] - 0s 62us/sample - loss: 0.1074 - acc: 0.9674 - val_loss: 2.0732 - val_acc: 0.5741\n",
            "Epoch 205/500\n",
            "429/429 [==============================] - 0s 61us/sample - loss: 0.1267 - acc: 0.9417 - val_loss: 1.9212 - val_acc: 0.6389\n",
            "Epoch 206/500\n",
            "429/429 [==============================] - 0s 63us/sample - loss: 0.0903 - acc: 0.9697 - val_loss: 1.9407 - val_acc: 0.6852\n",
            "Epoch 207/500\n",
            "429/429 [==============================] - 0s 72us/sample - loss: 0.1156 - acc: 0.9557 - val_loss: 1.9246 - val_acc: 0.6481\n",
            "Epoch 208/500\n",
            "429/429 [==============================] - 0s 71us/sample - loss: 0.1123 - acc: 0.9627 - val_loss: 1.9684 - val_acc: 0.6481\n",
            "Epoch 209/500\n",
            "429/429 [==============================] - 0s 64us/sample - loss: 0.1035 - acc: 0.9650 - val_loss: 1.9640 - val_acc: 0.6574\n",
            "Epoch 210/500\n",
            "429/429 [==============================] - 0s 64us/sample - loss: 0.1025 - acc: 0.9604 - val_loss: 1.9158 - val_acc: 0.6389\n",
            "Epoch 211/500\n",
            "429/429 [==============================] - 0s 63us/sample - loss: 0.1153 - acc: 0.9464 - val_loss: 2.0131 - val_acc: 0.5926\n",
            "Epoch 212/500\n",
            "429/429 [==============================] - 0s 71us/sample - loss: 0.1249 - acc: 0.9487 - val_loss: 2.0789 - val_acc: 0.6019\n",
            "Epoch 213/500\n",
            "429/429 [==============================] - 0s 64us/sample - loss: 0.0949 - acc: 0.9604 - val_loss: 1.9122 - val_acc: 0.6574\n",
            "Epoch 214/500\n",
            "429/429 [==============================] - 0s 65us/sample - loss: 0.1252 - acc: 0.9464 - val_loss: 1.8995 - val_acc: 0.6667\n",
            "Epoch 215/500\n",
            "429/429 [==============================] - 0s 60us/sample - loss: 0.1582 - acc: 0.9417 - val_loss: 2.0525 - val_acc: 0.6481\n",
            "Epoch 216/500\n",
            "429/429 [==============================] - 0s 64us/sample - loss: 0.0949 - acc: 0.9674 - val_loss: 2.1939 - val_acc: 0.6481\n",
            "Epoch 217/500\n",
            "429/429 [==============================] - 0s 69us/sample - loss: 0.1062 - acc: 0.9580 - val_loss: 2.1527 - val_acc: 0.6481\n",
            "Epoch 218/500\n",
            "429/429 [==============================] - 0s 63us/sample - loss: 0.1237 - acc: 0.9580 - val_loss: 1.9422 - val_acc: 0.6852\n",
            "Epoch 219/500\n",
            "429/429 [==============================] - 0s 81us/sample - loss: 0.1073 - acc: 0.9557 - val_loss: 1.8764 - val_acc: 0.6944\n",
            "Epoch 220/500\n",
            "429/429 [==============================] - 0s 71us/sample - loss: 0.0985 - acc: 0.9627 - val_loss: 1.9424 - val_acc: 0.7222\n",
            "Epoch 221/500\n",
            "429/429 [==============================] - 0s 64us/sample - loss: 0.1175 - acc: 0.9534 - val_loss: 1.7984 - val_acc: 0.6667\n",
            "Epoch 222/500\n",
            "429/429 [==============================] - 0s 63us/sample - loss: 0.1071 - acc: 0.9534 - val_loss: 1.8571 - val_acc: 0.6481\n",
            "Epoch 223/500\n",
            "429/429 [==============================] - 0s 65us/sample - loss: 0.1282 - acc: 0.9627 - val_loss: 1.9294 - val_acc: 0.6481\n",
            "Epoch 224/500\n",
            "429/429 [==============================] - 0s 64us/sample - loss: 0.1627 - acc: 0.9487 - val_loss: 2.1379 - val_acc: 0.6389\n",
            "Epoch 225/500\n",
            "429/429 [==============================] - 0s 75us/sample - loss: 0.1393 - acc: 0.9627 - val_loss: 2.2210 - val_acc: 0.6296\n",
            "Epoch 226/500\n",
            "429/429 [==============================] - 0s 67us/sample - loss: 0.1204 - acc: 0.9534 - val_loss: 2.0953 - val_acc: 0.6204\n",
            "Epoch 227/500\n",
            "429/429 [==============================] - 0s 67us/sample - loss: 0.1063 - acc: 0.9580 - val_loss: 2.0196 - val_acc: 0.6389\n",
            "Epoch 228/500\n",
            "429/429 [==============================] - 0s 66us/sample - loss: 0.0953 - acc: 0.9580 - val_loss: 2.0282 - val_acc: 0.6667\n",
            "Epoch 229/500\n",
            "429/429 [==============================] - 0s 66us/sample - loss: 0.1373 - acc: 0.9534 - val_loss: 2.1262 - val_acc: 0.6481\n",
            "Epoch 230/500\n",
            "429/429 [==============================] - 0s 64us/sample - loss: 0.1653 - acc: 0.9347 - val_loss: 1.9233 - val_acc: 0.6759\n",
            "Epoch 231/500\n",
            "429/429 [==============================] - 0s 70us/sample - loss: 0.1416 - acc: 0.9487 - val_loss: 1.7727 - val_acc: 0.6667\n",
            "Epoch 232/500\n",
            "429/429 [==============================] - 0s 77us/sample - loss: 0.1234 - acc: 0.9534 - val_loss: 1.7887 - val_acc: 0.6481\n",
            "Epoch 233/500\n",
            "429/429 [==============================] - 0s 62us/sample - loss: 0.1005 - acc: 0.9767 - val_loss: 2.0823 - val_acc: 0.6296\n",
            "Epoch 234/500\n",
            "429/429 [==============================] - 0s 61us/sample - loss: 0.1391 - acc: 0.9464 - val_loss: 1.8406 - val_acc: 0.6667\n",
            "Epoch 235/500\n",
            "429/429 [==============================] - 0s 66us/sample - loss: 0.1063 - acc: 0.9627 - val_loss: 1.7005 - val_acc: 0.7130\n",
            "Epoch 236/500\n",
            "429/429 [==============================] - 0s 65us/sample - loss: 0.1416 - acc: 0.9510 - val_loss: 1.8303 - val_acc: 0.7130\n",
            "Epoch 237/500\n",
            "429/429 [==============================] - 0s 65us/sample - loss: 0.1516 - acc: 0.9580 - val_loss: 1.9326 - val_acc: 0.6204\n",
            "Epoch 238/500\n",
            "429/429 [==============================] - 0s 72us/sample - loss: 0.1420 - acc: 0.9487 - val_loss: 1.8441 - val_acc: 0.6759\n",
            "Epoch 239/500\n",
            "429/429 [==============================] - 0s 74us/sample - loss: 0.1285 - acc: 0.9534 - val_loss: 1.7371 - val_acc: 0.6759\n",
            "Epoch 240/500\n",
            "429/429 [==============================] - 0s 69us/sample - loss: 0.1400 - acc: 0.9557 - val_loss: 1.8260 - val_acc: 0.7315\n",
            "Epoch 241/500\n",
            "429/429 [==============================] - 0s 65us/sample - loss: 0.1542 - acc: 0.9464 - val_loss: 1.7909 - val_acc: 0.6574\n",
            "Epoch 242/500\n",
            "429/429 [==============================] - 0s 82us/sample - loss: 0.0983 - acc: 0.9650 - val_loss: 1.7619 - val_acc: 0.6852\n",
            "Epoch 243/500\n",
            "429/429 [==============================] - 0s 66us/sample - loss: 0.1173 - acc: 0.9534 - val_loss: 1.6440 - val_acc: 0.6852\n",
            "Epoch 244/500\n",
            "429/429 [==============================] - 0s 74us/sample - loss: 0.1526 - acc: 0.9441 - val_loss: 1.6636 - val_acc: 0.6852\n",
            "Epoch 245/500\n",
            "429/429 [==============================] - 0s 61us/sample - loss: 0.0944 - acc: 0.9744 - val_loss: 1.9806 - val_acc: 0.6667\n",
            "Epoch 246/500\n",
            "429/429 [==============================] - 0s 65us/sample - loss: 0.1647 - acc: 0.9464 - val_loss: 1.7934 - val_acc: 0.6944\n",
            "Epoch 247/500\n",
            "429/429 [==============================] - 0s 66us/sample - loss: 0.1099 - acc: 0.9510 - val_loss: 2.1149 - val_acc: 0.6759\n",
            "Epoch 248/500\n",
            "429/429 [==============================] - 0s 61us/sample - loss: 0.1714 - acc: 0.9510 - val_loss: 2.0198 - val_acc: 0.6667\n",
            "Epoch 249/500\n",
            "429/429 [==============================] - 0s 62us/sample - loss: 0.1253 - acc: 0.9580 - val_loss: 2.4021 - val_acc: 0.5926\n",
            "Epoch 250/500\n",
            "429/429 [==============================] - 0s 63us/sample - loss: 0.2290 - acc: 0.9114 - val_loss: 2.3028 - val_acc: 0.6574\n",
            "Epoch 251/500\n",
            "429/429 [==============================] - 0s 69us/sample - loss: 0.1645 - acc: 0.9394 - val_loss: 2.4014 - val_acc: 0.6574\n",
            "Epoch 252/500\n",
            "429/429 [==============================] - 0s 62us/sample - loss: 0.1237 - acc: 0.9604 - val_loss: 2.2297 - val_acc: 0.6296\n",
            "Epoch 253/500\n",
            "429/429 [==============================] - 0s 62us/sample - loss: 0.1186 - acc: 0.9534 - val_loss: 2.3983 - val_acc: 0.6111\n",
            "Epoch 254/500\n",
            "429/429 [==============================] - 0s 64us/sample - loss: 0.1311 - acc: 0.9534 - val_loss: 2.4288 - val_acc: 0.6667\n",
            "Epoch 255/500\n",
            "429/429 [==============================] - 0s 65us/sample - loss: 0.1694 - acc: 0.9301 - val_loss: 2.3509 - val_acc: 0.6481\n",
            "Epoch 256/500\n",
            "429/429 [==============================] - 0s 59us/sample - loss: 0.1600 - acc: 0.9487 - val_loss: 2.1530 - val_acc: 0.6481\n",
            "Epoch 257/500\n",
            "429/429 [==============================] - 0s 61us/sample - loss: 0.1397 - acc: 0.9464 - val_loss: 2.0044 - val_acc: 0.6667\n",
            "Epoch 258/500\n",
            "429/429 [==============================] - 0s 61us/sample - loss: 0.1585 - acc: 0.9417 - val_loss: 2.3659 - val_acc: 0.6296\n",
            "Epoch 259/500\n",
            "429/429 [==============================] - 0s 65us/sample - loss: 0.2370 - acc: 0.9184 - val_loss: 2.1548 - val_acc: 0.6759\n",
            "Epoch 260/500\n",
            "429/429 [==============================] - 0s 69us/sample - loss: 0.1699 - acc: 0.9417 - val_loss: 1.7496 - val_acc: 0.6852\n",
            "Epoch 261/500\n",
            "429/429 [==============================] - 0s 63us/sample - loss: 0.1322 - acc: 0.9534 - val_loss: 2.0124 - val_acc: 0.6574\n",
            "Epoch 262/500\n",
            "429/429 [==============================] - 0s 62us/sample - loss: 0.1339 - acc: 0.9464 - val_loss: 2.2574 - val_acc: 0.6204\n",
            "Epoch 263/500\n",
            "429/429 [==============================] - 0s 60us/sample - loss: 0.1816 - acc: 0.9417 - val_loss: 2.4409 - val_acc: 0.5926\n",
            "Epoch 264/500\n",
            "429/429 [==============================] - 0s 72us/sample - loss: 0.1747 - acc: 0.9441 - val_loss: 2.6878 - val_acc: 0.5926\n",
            "Epoch 265/500\n",
            "429/429 [==============================] - 0s 66us/sample - loss: 0.2362 - acc: 0.9161 - val_loss: 2.2306 - val_acc: 0.6574\n",
            "Epoch 266/500\n",
            "429/429 [==============================] - 0s 65us/sample - loss: 0.1252 - acc: 0.9441 - val_loss: 2.7412 - val_acc: 0.6019\n",
            "Epoch 267/500\n",
            "429/429 [==============================] - 0s 66us/sample - loss: 0.2881 - acc: 0.9207 - val_loss: 2.5166 - val_acc: 0.6389\n",
            "Epoch 268/500\n",
            "429/429 [==============================] - 0s 64us/sample - loss: 0.1854 - acc: 0.9324 - val_loss: 2.1911 - val_acc: 0.6481\n",
            "Epoch 269/500\n",
            "429/429 [==============================] - 0s 63us/sample - loss: 0.1341 - acc: 0.9604 - val_loss: 2.1223 - val_acc: 0.6574\n",
            "Epoch 270/500\n",
            "429/429 [==============================] - 0s 74us/sample - loss: 0.2270 - acc: 0.9301 - val_loss: 2.0205 - val_acc: 0.6667\n",
            "Epoch 271/500\n",
            "429/429 [==============================] - 0s 71us/sample - loss: 0.1132 - acc: 0.9627 - val_loss: 2.1563 - val_acc: 0.6759\n",
            "Epoch 272/500\n",
            "429/429 [==============================] - 0s 64us/sample - loss: 0.1503 - acc: 0.9324 - val_loss: 2.0008 - val_acc: 0.6944\n",
            "Epoch 273/500\n",
            "429/429 [==============================] - 0s 58us/sample - loss: 0.1173 - acc: 0.9604 - val_loss: 2.0769 - val_acc: 0.6944\n",
            "Epoch 274/500\n",
            "429/429 [==============================] - 0s 64us/sample - loss: 0.1275 - acc: 0.9557 - val_loss: 2.0915 - val_acc: 0.6389\n",
            "Epoch 275/500\n",
            "429/429 [==============================] - 0s 66us/sample - loss: 0.1264 - acc: 0.9604 - val_loss: 2.2826 - val_acc: 0.6204\n",
            "Epoch 276/500\n",
            "429/429 [==============================] - 0s 61us/sample - loss: 0.1139 - acc: 0.9604 - val_loss: 2.1132 - val_acc: 0.6389\n",
            "Epoch 277/500\n",
            "429/429 [==============================] - 0s 68us/sample - loss: 0.1466 - acc: 0.9347 - val_loss: 2.1003 - val_acc: 0.6944\n",
            "Epoch 278/500\n",
            "429/429 [==============================] - 0s 63us/sample - loss: 0.1452 - acc: 0.9580 - val_loss: 1.8488 - val_acc: 0.7222\n",
            "Epoch 279/500\n",
            "429/429 [==============================] - 0s 61us/sample - loss: 0.1160 - acc: 0.9650 - val_loss: 1.9934 - val_acc: 0.6852\n",
            "Epoch 280/500\n",
            "429/429 [==============================] - 0s 61us/sample - loss: 0.1261 - acc: 0.9510 - val_loss: 2.2212 - val_acc: 0.6296\n",
            "Epoch 281/500\n",
            "429/429 [==============================] - 0s 63us/sample - loss: 0.1209 - acc: 0.9534 - val_loss: 1.9881 - val_acc: 0.6852\n",
            "Epoch 282/500\n",
            "429/429 [==============================] - 0s 62us/sample - loss: 0.0892 - acc: 0.9744 - val_loss: 1.8632 - val_acc: 0.6759\n",
            "Epoch 283/500\n",
            "429/429 [==============================] - 0s 67us/sample - loss: 0.1447 - acc: 0.9464 - val_loss: 1.8995 - val_acc: 0.7037\n",
            "Epoch 284/500\n",
            "429/429 [==============================] - 0s 66us/sample - loss: 0.0819 - acc: 0.9627 - val_loss: 2.2285 - val_acc: 0.5926\n",
            "Epoch 285/500\n",
            "429/429 [==============================] - 0s 60us/sample - loss: 0.1017 - acc: 0.9674 - val_loss: 2.1851 - val_acc: 0.6111\n",
            "Epoch 286/500\n",
            "429/429 [==============================] - 0s 64us/sample - loss: 0.0814 - acc: 0.9650 - val_loss: 2.0628 - val_acc: 0.6667\n",
            "Epoch 287/500\n",
            "429/429 [==============================] - 0s 63us/sample - loss: 0.1107 - acc: 0.9627 - val_loss: 1.9914 - val_acc: 0.6667\n",
            "Epoch 288/500\n",
            "429/429 [==============================] - 0s 63us/sample - loss: 0.1048 - acc: 0.9580 - val_loss: 2.0856 - val_acc: 0.6574\n",
            "Epoch 289/500\n",
            "429/429 [==============================] - 0s 61us/sample - loss: 0.0901 - acc: 0.9580 - val_loss: 2.1572 - val_acc: 0.6389\n",
            "Epoch 290/500\n",
            "429/429 [==============================] - 0s 65us/sample - loss: 0.0878 - acc: 0.9604 - val_loss: 2.1780 - val_acc: 0.6389\n",
            "Epoch 291/500\n",
            "429/429 [==============================] - 0s 67us/sample - loss: 0.0640 - acc: 0.9767 - val_loss: 2.2631 - val_acc: 0.6667\n",
            "Epoch 292/500\n",
            "429/429 [==============================] - 0s 64us/sample - loss: 0.1129 - acc: 0.9510 - val_loss: 2.2321 - val_acc: 0.6759\n",
            "Epoch 293/500\n",
            "429/429 [==============================] - 0s 63us/sample - loss: 0.0760 - acc: 0.9697 - val_loss: 2.3382 - val_acc: 0.6852\n",
            "Epoch 294/500\n",
            "429/429 [==============================] - 0s 66us/sample - loss: 0.0894 - acc: 0.9697 - val_loss: 2.4635 - val_acc: 0.6667\n",
            "Epoch 295/500\n",
            "429/429 [==============================] - 0s 71us/sample - loss: 0.0919 - acc: 0.9650 - val_loss: 2.3240 - val_acc: 0.6667\n",
            "Epoch 296/500\n",
            "429/429 [==============================] - 0s 80us/sample - loss: 0.0853 - acc: 0.9697 - val_loss: 2.3587 - val_acc: 0.6111\n",
            "Epoch 297/500\n",
            "429/429 [==============================] - 0s 61us/sample - loss: 0.1297 - acc: 0.9580 - val_loss: 2.1716 - val_acc: 0.6481\n",
            "Epoch 298/500\n",
            "429/429 [==============================] - 0s 61us/sample - loss: 0.1104 - acc: 0.9604 - val_loss: 2.2392 - val_acc: 0.6296\n",
            "Epoch 299/500\n",
            "429/429 [==============================] - 0s 64us/sample - loss: 0.1097 - acc: 0.9650 - val_loss: 2.1081 - val_acc: 0.6667\n",
            "Epoch 300/500\n",
            "429/429 [==============================] - 0s 59us/sample - loss: 0.0764 - acc: 0.9674 - val_loss: 2.1930 - val_acc: 0.6481\n",
            "Epoch 301/500\n",
            "429/429 [==============================] - 0s 61us/sample - loss: 0.1086 - acc: 0.9674 - val_loss: 2.1676 - val_acc: 0.6574\n",
            "Epoch 302/500\n",
            "429/429 [==============================] - 0s 61us/sample - loss: 0.0766 - acc: 0.9674 - val_loss: 2.2432 - val_acc: 0.6389\n",
            "Epoch 303/500\n",
            "429/429 [==============================] - 0s 83us/sample - loss: 0.1004 - acc: 0.9650 - val_loss: 2.2684 - val_acc: 0.6389\n",
            "Epoch 304/500\n",
            "429/429 [==============================] - 0s 65us/sample - loss: 0.0635 - acc: 0.9790 - val_loss: 2.3476 - val_acc: 0.6389\n",
            "Epoch 305/500\n",
            "429/429 [==============================] - 0s 68us/sample - loss: 0.0999 - acc: 0.9674 - val_loss: 2.1913 - val_acc: 0.6296\n",
            "Epoch 306/500\n",
            "429/429 [==============================] - 0s 64us/sample - loss: 0.0647 - acc: 0.9767 - val_loss: 2.0712 - val_acc: 0.6852\n",
            "Epoch 307/500\n",
            "429/429 [==============================] - 0s 61us/sample - loss: 0.0713 - acc: 0.9720 - val_loss: 2.0566 - val_acc: 0.6944\n",
            "Epoch 308/500\n",
            "429/429 [==============================] - 0s 63us/sample - loss: 0.0578 - acc: 0.9790 - val_loss: 2.2303 - val_acc: 0.6944\n",
            "Epoch 309/500\n",
            "429/429 [==============================] - 0s 62us/sample - loss: 0.0644 - acc: 0.9720 - val_loss: 2.2577 - val_acc: 0.6852\n",
            "Epoch 310/500\n",
            "429/429 [==============================] - 0s 69us/sample - loss: 0.0925 - acc: 0.9557 - val_loss: 2.3219 - val_acc: 0.6759\n",
            "Epoch 311/500\n",
            "429/429 [==============================] - 0s 74us/sample - loss: 0.0738 - acc: 0.9744 - val_loss: 2.3441 - val_acc: 0.6481\n",
            "Epoch 312/500\n",
            "429/429 [==============================] - 0s 64us/sample - loss: 0.0819 - acc: 0.9744 - val_loss: 2.4253 - val_acc: 0.6481\n",
            "Epoch 313/500\n",
            "429/429 [==============================] - 0s 68us/sample - loss: 0.0856 - acc: 0.9674 - val_loss: 2.5505 - val_acc: 0.6667\n",
            "Epoch 314/500\n",
            "429/429 [==============================] - 0s 61us/sample - loss: 0.0861 - acc: 0.9697 - val_loss: 2.5139 - val_acc: 0.6204\n",
            "Epoch 315/500\n",
            "429/429 [==============================] - 0s 63us/sample - loss: 0.0652 - acc: 0.9790 - val_loss: 2.7562 - val_acc: 0.6204\n",
            "Epoch 316/500\n",
            "429/429 [==============================] - 0s 62us/sample - loss: 0.1485 - acc: 0.9510 - val_loss: 2.5199 - val_acc: 0.6111\n",
            "Epoch 317/500\n",
            "429/429 [==============================] - 0s 60us/sample - loss: 0.0844 - acc: 0.9674 - val_loss: 2.4073 - val_acc: 0.6574\n",
            "Epoch 318/500\n",
            "429/429 [==============================] - 0s 60us/sample - loss: 0.0742 - acc: 0.9720 - val_loss: 2.1668 - val_acc: 0.6944\n",
            "Epoch 319/500\n",
            "429/429 [==============================] - 0s 67us/sample - loss: 0.1356 - acc: 0.9510 - val_loss: 2.3127 - val_acc: 0.6389\n",
            "Epoch 320/500\n",
            "429/429 [==============================] - 0s 58us/sample - loss: 0.1231 - acc: 0.9674 - val_loss: 2.3948 - val_acc: 0.6667\n",
            "Epoch 321/500\n",
            "429/429 [==============================] - 0s 60us/sample - loss: 0.1053 - acc: 0.9697 - val_loss: 2.5034 - val_acc: 0.6481\n",
            "Epoch 322/500\n",
            "429/429 [==============================] - 0s 63us/sample - loss: 0.1173 - acc: 0.9627 - val_loss: 2.4160 - val_acc: 0.6111\n",
            "Epoch 323/500\n",
            "429/429 [==============================] - 0s 62us/sample - loss: 0.0971 - acc: 0.9674 - val_loss: 2.4725 - val_acc: 0.6296\n",
            "Epoch 324/500\n",
            "429/429 [==============================] - 0s 63us/sample - loss: 0.1174 - acc: 0.9627 - val_loss: 2.3967 - val_acc: 0.6481\n",
            "Epoch 325/500\n",
            "429/429 [==============================] - 0s 64us/sample - loss: 0.0746 - acc: 0.9767 - val_loss: 2.4574 - val_acc: 0.6667\n",
            "Epoch 326/500\n",
            "429/429 [==============================] - 0s 64us/sample - loss: 0.0707 - acc: 0.9744 - val_loss: 2.3880 - val_acc: 0.6481\n",
            "Epoch 327/500\n",
            "429/429 [==============================] - 0s 64us/sample - loss: 0.0535 - acc: 0.9790 - val_loss: 2.2555 - val_acc: 0.6574\n",
            "Epoch 328/500\n",
            "429/429 [==============================] - 0s 77us/sample - loss: 0.0499 - acc: 0.9814 - val_loss: 2.2635 - val_acc: 0.6852\n",
            "Epoch 329/500\n",
            "429/429 [==============================] - 0s 67us/sample - loss: 0.0529 - acc: 0.9814 - val_loss: 2.2656 - val_acc: 0.6667\n",
            "Epoch 330/500\n",
            "429/429 [==============================] - 0s 62us/sample - loss: 0.0694 - acc: 0.9814 - val_loss: 2.2621 - val_acc: 0.6667\n",
            "Epoch 331/500\n",
            "429/429 [==============================] - 0s 64us/sample - loss: 0.0699 - acc: 0.9697 - val_loss: 2.4099 - val_acc: 0.6389\n",
            "Epoch 332/500\n",
            "429/429 [==============================] - 0s 63us/sample - loss: 0.0659 - acc: 0.9837 - val_loss: 2.5021 - val_acc: 0.6204\n",
            "Epoch 333/500\n",
            "429/429 [==============================] - 0s 62us/sample - loss: 0.0633 - acc: 0.9744 - val_loss: 2.4894 - val_acc: 0.6296\n",
            "Epoch 334/500\n",
            "429/429 [==============================] - 0s 63us/sample - loss: 0.0344 - acc: 0.9930 - val_loss: 2.4894 - val_acc: 0.6296\n",
            "Epoch 335/500\n",
            "429/429 [==============================] - 0s 64us/sample - loss: 0.0400 - acc: 0.9883 - val_loss: 2.4910 - val_acc: 0.6296\n",
            "Epoch 336/500\n",
            "429/429 [==============================] - 0s 81us/sample - loss: 0.0641 - acc: 0.9790 - val_loss: 2.4444 - val_acc: 0.6481\n",
            "Epoch 337/500\n",
            "429/429 [==============================] - 0s 63us/sample - loss: 0.0509 - acc: 0.9814 - val_loss: 2.5194 - val_acc: 0.6481\n",
            "Epoch 338/500\n",
            "429/429 [==============================] - 0s 60us/sample - loss: 0.0457 - acc: 0.9860 - val_loss: 2.5135 - val_acc: 0.6204\n",
            "Epoch 339/500\n",
            "429/429 [==============================] - 0s 58us/sample - loss: 0.0578 - acc: 0.9814 - val_loss: 2.4148 - val_acc: 0.6481\n",
            "Epoch 340/500\n",
            "429/429 [==============================] - 0s 62us/sample - loss: 0.0554 - acc: 0.9767 - val_loss: 2.3866 - val_acc: 0.6574\n",
            "Epoch 341/500\n",
            "429/429 [==============================] - 0s 60us/sample - loss: 0.0386 - acc: 0.9883 - val_loss: 2.4599 - val_acc: 0.6852\n",
            "Epoch 342/500\n",
            "429/429 [==============================] - 0s 58us/sample - loss: 0.0395 - acc: 0.9883 - val_loss: 2.5876 - val_acc: 0.6574\n",
            "Epoch 343/500\n",
            "429/429 [==============================] - 0s 63us/sample - loss: 0.0325 - acc: 0.9860 - val_loss: 2.6712 - val_acc: 0.6574\n",
            "Epoch 344/500\n",
            "429/429 [==============================] - 0s 61us/sample - loss: 0.0438 - acc: 0.9837 - val_loss: 2.5959 - val_acc: 0.6759\n",
            "Epoch 345/500\n",
            "429/429 [==============================] - 0s 61us/sample - loss: 0.0504 - acc: 0.9837 - val_loss: 2.5108 - val_acc: 0.6667\n",
            "Epoch 346/500\n",
            "429/429 [==============================] - 0s 63us/sample - loss: 0.0743 - acc: 0.9837 - val_loss: 2.3856 - val_acc: 0.6759\n",
            "Epoch 347/500\n",
            "429/429 [==============================] - 0s 63us/sample - loss: 0.0392 - acc: 0.9860 - val_loss: 2.3627 - val_acc: 0.6852\n",
            "Epoch 348/500\n",
            "429/429 [==============================] - 0s 62us/sample - loss: 0.0310 - acc: 0.9883 - val_loss: 2.4119 - val_acc: 0.6944\n",
            "Epoch 349/500\n",
            "429/429 [==============================] - 0s 62us/sample - loss: 0.0529 - acc: 0.9744 - val_loss: 2.5831 - val_acc: 0.6574\n",
            "Epoch 350/500\n",
            "429/429 [==============================] - 0s 67us/sample - loss: 0.0378 - acc: 0.9930 - val_loss: 2.6300 - val_acc: 0.6481\n",
            "Epoch 351/500\n",
            "429/429 [==============================] - 0s 80us/sample - loss: 0.0341 - acc: 0.9883 - val_loss: 2.6093 - val_acc: 0.6759\n",
            "Epoch 352/500\n",
            "429/429 [==============================] - 0s 63us/sample - loss: 0.0335 - acc: 0.9883 - val_loss: 2.6433 - val_acc: 0.6759\n",
            "Epoch 353/500\n",
            "429/429 [==============================] - 0s 64us/sample - loss: 0.0417 - acc: 0.9907 - val_loss: 2.6389 - val_acc: 0.6667\n",
            "Epoch 354/500\n",
            "429/429 [==============================] - 0s 62us/sample - loss: 0.0690 - acc: 0.9860 - val_loss: 2.7240 - val_acc: 0.6389\n",
            "Epoch 355/500\n",
            "429/429 [==============================] - 0s 63us/sample - loss: 0.0465 - acc: 0.9814 - val_loss: 2.8399 - val_acc: 0.6389\n",
            "Epoch 356/500\n",
            "429/429 [==============================] - 0s 63us/sample - loss: 0.0382 - acc: 0.9907 - val_loss: 2.6895 - val_acc: 0.6389\n",
            "Epoch 357/500\n",
            "429/429 [==============================] - 0s 64us/sample - loss: 0.0399 - acc: 0.9907 - val_loss: 2.5460 - val_acc: 0.6296\n",
            "Epoch 358/500\n",
            "429/429 [==============================] - 0s 67us/sample - loss: 0.0434 - acc: 0.9883 - val_loss: 2.5347 - val_acc: 0.6296\n",
            "Epoch 359/500\n",
            "429/429 [==============================] - 0s 63us/sample - loss: 0.0562 - acc: 0.9790 - val_loss: 2.6115 - val_acc: 0.6481\n",
            "Epoch 360/500\n",
            "429/429 [==============================] - 0s 65us/sample - loss: 0.0220 - acc: 0.9930 - val_loss: 2.6244 - val_acc: 0.6574\n",
            "Epoch 361/500\n",
            "429/429 [==============================] - 0s 69us/sample - loss: 0.0326 - acc: 0.9930 - val_loss: 2.6643 - val_acc: 0.6574\n",
            "Epoch 362/500\n",
            "429/429 [==============================] - 0s 62us/sample - loss: 0.0482 - acc: 0.9837 - val_loss: 2.5377 - val_acc: 0.6667\n",
            "Epoch 363/500\n",
            "429/429 [==============================] - 0s 62us/sample - loss: 0.0347 - acc: 0.9883 - val_loss: 2.5406 - val_acc: 0.6389\n",
            "Epoch 364/500\n",
            "429/429 [==============================] - 0s 70us/sample - loss: 0.0314 - acc: 0.9930 - val_loss: 2.5253 - val_acc: 0.6481\n",
            "Epoch 365/500\n",
            "429/429 [==============================] - 0s 64us/sample - loss: 0.0420 - acc: 0.9907 - val_loss: 2.5751 - val_acc: 0.6852\n",
            "Epoch 366/500\n",
            "429/429 [==============================] - 0s 65us/sample - loss: 0.0553 - acc: 0.9790 - val_loss: 2.6600 - val_acc: 0.6759\n",
            "Epoch 367/500\n",
            "429/429 [==============================] - 0s 67us/sample - loss: 0.0475 - acc: 0.9883 - val_loss: 2.6232 - val_acc: 0.6944\n",
            "Epoch 368/500\n",
            "429/429 [==============================] - 0s 75us/sample - loss: 0.0292 - acc: 0.9930 - val_loss: 2.7337 - val_acc: 0.6389\n",
            "Epoch 369/500\n",
            "429/429 [==============================] - 0s 63us/sample - loss: 0.0680 - acc: 0.9767 - val_loss: 2.7483 - val_acc: 0.6204\n",
            "Epoch 370/500\n",
            "429/429 [==============================] - 0s 65us/sample - loss: 0.0379 - acc: 0.9860 - val_loss: 2.6586 - val_acc: 0.6852\n",
            "Epoch 371/500\n",
            "429/429 [==============================] - 0s 69us/sample - loss: 0.0347 - acc: 0.9860 - val_loss: 2.6704 - val_acc: 0.6574\n",
            "Epoch 372/500\n",
            "429/429 [==============================] - 0s 73us/sample - loss: 0.0437 - acc: 0.9860 - val_loss: 2.5744 - val_acc: 0.6759\n",
            "Epoch 373/500\n",
            "429/429 [==============================] - 0s 64us/sample - loss: 0.0505 - acc: 0.9837 - val_loss: 2.5634 - val_acc: 0.6667\n",
            "Epoch 374/500\n",
            "429/429 [==============================] - 0s 61us/sample - loss: 0.0328 - acc: 0.9930 - val_loss: 2.6608 - val_acc: 0.6759\n",
            "Epoch 375/500\n",
            "429/429 [==============================] - 0s 66us/sample - loss: 0.0424 - acc: 0.9907 - val_loss: 2.7106 - val_acc: 0.6296\n",
            "Epoch 376/500\n",
            "429/429 [==============================] - 0s 62us/sample - loss: 0.0340 - acc: 0.9860 - val_loss: 2.7878 - val_acc: 0.6296\n",
            "Epoch 377/500\n",
            "429/429 [==============================] - 0s 61us/sample - loss: 0.0645 - acc: 0.9744 - val_loss: 2.6966 - val_acc: 0.6667\n",
            "Epoch 378/500\n",
            "429/429 [==============================] - 0s 63us/sample - loss: 0.0451 - acc: 0.9883 - val_loss: 2.5326 - val_acc: 0.7130\n",
            "Epoch 379/500\n",
            "429/429 [==============================] - 0s 69us/sample - loss: 0.0558 - acc: 0.9837 - val_loss: 2.3850 - val_acc: 0.7222\n",
            "Epoch 380/500\n",
            "429/429 [==============================] - 0s 69us/sample - loss: 0.0423 - acc: 0.9860 - val_loss: 2.7670 - val_acc: 0.6667\n",
            "Epoch 381/500\n",
            "429/429 [==============================] - 0s 64us/sample - loss: 0.1212 - acc: 0.9627 - val_loss: 2.5617 - val_acc: 0.6389\n",
            "Epoch 382/500\n",
            "429/429 [==============================] - 0s 63us/sample - loss: 0.0788 - acc: 0.9697 - val_loss: 2.6337 - val_acc: 0.6481\n",
            "Epoch 383/500\n",
            "429/429 [==============================] - 0s 63us/sample - loss: 0.0565 - acc: 0.9744 - val_loss: 2.4918 - val_acc: 0.6852\n",
            "Epoch 384/500\n",
            "429/429 [==============================] - 0s 63us/sample - loss: 0.0859 - acc: 0.9744 - val_loss: 2.6902 - val_acc: 0.6574\n",
            "Epoch 385/500\n",
            "429/429 [==============================] - 0s 66us/sample - loss: 0.0702 - acc: 0.9720 - val_loss: 2.8013 - val_acc: 0.6389\n",
            "Epoch 386/500\n",
            "429/429 [==============================] - 0s 62us/sample - loss: 0.0652 - acc: 0.9720 - val_loss: 2.7473 - val_acc: 0.6481\n",
            "Epoch 387/500\n",
            "429/429 [==============================] - 0s 61us/sample - loss: 0.0695 - acc: 0.9697 - val_loss: 2.6691 - val_acc: 0.6574\n",
            "Epoch 388/500\n",
            "429/429 [==============================] - 0s 68us/sample - loss: 0.0483 - acc: 0.9837 - val_loss: 2.7047 - val_acc: 0.6574\n",
            "Epoch 389/500\n",
            "429/429 [==============================] - 0s 63us/sample - loss: 0.0679 - acc: 0.9650 - val_loss: 2.9132 - val_acc: 0.6574\n",
            "Epoch 390/500\n",
            "429/429 [==============================] - 0s 64us/sample - loss: 0.0650 - acc: 0.9720 - val_loss: 2.9031 - val_acc: 0.6574\n",
            "Epoch 391/500\n",
            "429/429 [==============================] - 0s 61us/sample - loss: 0.0695 - acc: 0.9837 - val_loss: 2.8668 - val_acc: 0.6481\n",
            "Epoch 392/500\n",
            "429/429 [==============================] - 0s 77us/sample - loss: 0.0333 - acc: 0.9860 - val_loss: 2.8687 - val_acc: 0.6296\n",
            "Epoch 393/500\n",
            "429/429 [==============================] - 0s 61us/sample - loss: 0.0914 - acc: 0.9604 - val_loss: 2.6307 - val_acc: 0.6574\n",
            "Epoch 394/500\n",
            "429/429 [==============================] - 0s 61us/sample - loss: 0.0215 - acc: 0.9930 - val_loss: 2.5195 - val_acc: 0.6944\n",
            "Epoch 395/500\n",
            "429/429 [==============================] - 0s 63us/sample - loss: 0.0549 - acc: 0.9837 - val_loss: 2.6036 - val_acc: 0.7037\n",
            "Epoch 396/500\n",
            "429/429 [==============================] - 0s 66us/sample - loss: 0.0558 - acc: 0.9790 - val_loss: 2.9086 - val_acc: 0.6574\n",
            "Epoch 397/500\n",
            "429/429 [==============================] - 0s 66us/sample - loss: 0.0519 - acc: 0.9814 - val_loss: 2.8764 - val_acc: 0.6296\n",
            "Epoch 398/500\n",
            "429/429 [==============================] - 0s 65us/sample - loss: 0.0420 - acc: 0.9814 - val_loss: 2.6595 - val_acc: 0.6759\n",
            "Epoch 399/500\n",
            "429/429 [==============================] - 0s 63us/sample - loss: 0.0371 - acc: 0.9814 - val_loss: 2.6032 - val_acc: 0.6944\n",
            "Epoch 400/500\n",
            "429/429 [==============================] - 0s 77us/sample - loss: 0.0429 - acc: 0.9837 - val_loss: 2.6616 - val_acc: 0.6574\n",
            "Epoch 401/500\n",
            "429/429 [==============================] - 0s 61us/sample - loss: 0.0392 - acc: 0.9767 - val_loss: 2.6694 - val_acc: 0.6667\n",
            "Epoch 402/500\n",
            "429/429 [==============================] - 0s 70us/sample - loss: 0.0672 - acc: 0.9790 - val_loss: 3.0461 - val_acc: 0.6296\n",
            "Epoch 403/500\n",
            "429/429 [==============================] - 0s 65us/sample - loss: 0.0972 - acc: 0.9674 - val_loss: 2.7186 - val_acc: 0.6667\n",
            "Epoch 404/500\n",
            "429/429 [==============================] - 0s 66us/sample - loss: 0.0629 - acc: 0.9790 - val_loss: 2.7617 - val_acc: 0.6852\n",
            "Epoch 405/500\n",
            "429/429 [==============================] - 0s 62us/sample - loss: 0.0538 - acc: 0.9814 - val_loss: 2.7842 - val_acc: 0.6574\n",
            "Epoch 406/500\n",
            "429/429 [==============================] - 0s 65us/sample - loss: 0.0361 - acc: 0.9814 - val_loss: 2.9837 - val_acc: 0.6852\n",
            "Epoch 407/500\n",
            "429/429 [==============================] - 0s 67us/sample - loss: 0.0651 - acc: 0.9790 - val_loss: 3.1230 - val_acc: 0.6481\n",
            "Epoch 408/500\n",
            "429/429 [==============================] - 0s 61us/sample - loss: 0.0758 - acc: 0.9720 - val_loss: 2.9426 - val_acc: 0.6759\n",
            "Epoch 409/500\n",
            "429/429 [==============================] - 0s 67us/sample - loss: 0.0593 - acc: 0.9837 - val_loss: 2.7993 - val_acc: 0.6759\n",
            "Epoch 410/500\n",
            "429/429 [==============================] - 0s 64us/sample - loss: 0.0680 - acc: 0.9837 - val_loss: 2.9139 - val_acc: 0.6759\n",
            "Epoch 411/500\n",
            "429/429 [==============================] - 0s 70us/sample - loss: 0.0612 - acc: 0.9720 - val_loss: 2.8059 - val_acc: 0.6574\n",
            "Epoch 412/500\n",
            "429/429 [==============================] - 0s 74us/sample - loss: 0.0187 - acc: 0.9953 - val_loss: 2.7649 - val_acc: 0.6667\n",
            "Epoch 413/500\n",
            "429/429 [==============================] - 0s 63us/sample - loss: 0.0723 - acc: 0.9697 - val_loss: 2.5949 - val_acc: 0.6944\n",
            "Epoch 414/500\n",
            "429/429 [==============================] - 0s 65us/sample - loss: 0.0432 - acc: 0.9860 - val_loss: 2.4419 - val_acc: 0.7130\n",
            "Epoch 415/500\n",
            "429/429 [==============================] - 0s 61us/sample - loss: 0.0271 - acc: 0.9907 - val_loss: 2.6341 - val_acc: 0.6667\n",
            "Epoch 416/500\n",
            "429/429 [==============================] - 0s 61us/sample - loss: 0.0558 - acc: 0.9790 - val_loss: 2.5811 - val_acc: 0.6852\n",
            "Epoch 417/500\n",
            "429/429 [==============================] - 0s 62us/sample - loss: 0.0601 - acc: 0.9837 - val_loss: 2.6160 - val_acc: 0.6574\n",
            "Epoch 418/500\n",
            "429/429 [==============================] - 0s 70us/sample - loss: 0.0613 - acc: 0.9744 - val_loss: 2.6706 - val_acc: 0.6389\n",
            "Epoch 419/500\n",
            "429/429 [==============================] - 0s 64us/sample - loss: 0.0643 - acc: 0.9837 - val_loss: 2.8537 - val_acc: 0.6574\n",
            "Epoch 420/500\n",
            "429/429 [==============================] - 0s 70us/sample - loss: 0.0721 - acc: 0.9883 - val_loss: 2.9336 - val_acc: 0.6111\n",
            "Epoch 421/500\n",
            "429/429 [==============================] - 0s 65us/sample - loss: 0.0908 - acc: 0.9650 - val_loss: 2.7597 - val_acc: 0.6481\n",
            "Epoch 422/500\n",
            "429/429 [==============================] - 0s 60us/sample - loss: 0.0760 - acc: 0.9674 - val_loss: 2.7939 - val_acc: 0.6574\n",
            "Epoch 423/500\n",
            "429/429 [==============================] - 0s 62us/sample - loss: 0.0702 - acc: 0.9697 - val_loss: 2.6597 - val_acc: 0.6481\n",
            "Epoch 424/500\n",
            "429/429 [==============================] - 0s 73us/sample - loss: 0.0714 - acc: 0.9744 - val_loss: 2.8902 - val_acc: 0.6667\n",
            "Epoch 425/500\n",
            "429/429 [==============================] - 0s 62us/sample - loss: 0.0434 - acc: 0.9930 - val_loss: 2.9955 - val_acc: 0.6389\n",
            "Epoch 426/500\n",
            "429/429 [==============================] - 0s 62us/sample - loss: 0.0764 - acc: 0.9697 - val_loss: 2.8497 - val_acc: 0.6852\n",
            "Epoch 427/500\n",
            "429/429 [==============================] - 0s 64us/sample - loss: 0.0818 - acc: 0.9814 - val_loss: 2.9280 - val_acc: 0.6852\n",
            "Epoch 428/500\n",
            "429/429 [==============================] - 0s 61us/sample - loss: 0.0855 - acc: 0.9744 - val_loss: 2.6834 - val_acc: 0.6481\n",
            "Epoch 429/500\n",
            "429/429 [==============================] - 0s 61us/sample - loss: 0.0395 - acc: 0.9860 - val_loss: 2.7599 - val_acc: 0.6481\n",
            "Epoch 430/500\n",
            "429/429 [==============================] - 0s 63us/sample - loss: 0.1146 - acc: 0.9604 - val_loss: 2.6448 - val_acc: 0.6574\n",
            "Epoch 431/500\n",
            "429/429 [==============================] - 0s 63us/sample - loss: 0.0981 - acc: 0.9744 - val_loss: 2.8845 - val_acc: 0.6667\n",
            "Epoch 432/500\n",
            "429/429 [==============================] - 0s 67us/sample - loss: 0.0861 - acc: 0.9790 - val_loss: 3.0254 - val_acc: 0.6481\n",
            "Epoch 433/500\n",
            "429/429 [==============================] - 0s 79us/sample - loss: 0.1253 - acc: 0.9790 - val_loss: 2.9325 - val_acc: 0.6852\n",
            "Epoch 434/500\n",
            "429/429 [==============================] - 0s 60us/sample - loss: 0.0842 - acc: 0.9697 - val_loss: 3.0304 - val_acc: 0.6667\n",
            "Epoch 435/500\n",
            "429/429 [==============================] - 0s 63us/sample - loss: 0.0941 - acc: 0.9604 - val_loss: 3.3016 - val_acc: 0.6204\n",
            "Epoch 436/500\n",
            "429/429 [==============================] - 0s 62us/sample - loss: 0.0792 - acc: 0.9720 - val_loss: 3.1622 - val_acc: 0.6296\n",
            "Epoch 437/500\n",
            "429/429 [==============================] - 0s 65us/sample - loss: 0.1436 - acc: 0.9650 - val_loss: 2.8678 - val_acc: 0.6204\n",
            "Epoch 438/500\n",
            "429/429 [==============================] - 0s 61us/sample - loss: 0.0824 - acc: 0.9650 - val_loss: 2.9047 - val_acc: 0.6574\n",
            "Epoch 439/500\n",
            "429/429 [==============================] - 0s 63us/sample - loss: 0.1467 - acc: 0.9627 - val_loss: 2.8760 - val_acc: 0.7222\n",
            "Epoch 440/500\n",
            "429/429 [==============================] - 0s 69us/sample - loss: 0.1215 - acc: 0.9697 - val_loss: 2.6029 - val_acc: 0.7130\n",
            "Epoch 441/500\n",
            "429/429 [==============================] - 0s 65us/sample - loss: 0.1432 - acc: 0.9697 - val_loss: 2.7389 - val_acc: 0.6667\n",
            "Epoch 442/500\n",
            "429/429 [==============================] - 0s 60us/sample - loss: 0.0810 - acc: 0.9627 - val_loss: 3.1349 - val_acc: 0.6204\n",
            "Epoch 443/500\n",
            "429/429 [==============================] - 0s 65us/sample - loss: 0.1456 - acc: 0.9557 - val_loss: 2.9484 - val_acc: 0.6296\n",
            "Epoch 444/500\n",
            "429/429 [==============================] - 0s 63us/sample - loss: 0.0967 - acc: 0.9604 - val_loss: 2.8918 - val_acc: 0.6204\n",
            "Epoch 445/500\n",
            "429/429 [==============================] - 0s 63us/sample - loss: 0.1276 - acc: 0.9557 - val_loss: 2.5470 - val_acc: 0.6944\n",
            "Epoch 446/500\n",
            "429/429 [==============================] - 0s 61us/sample - loss: 0.1399 - acc: 0.9627 - val_loss: 2.6852 - val_acc: 0.6667\n",
            "Epoch 447/500\n",
            "429/429 [==============================] - 0s 65us/sample - loss: 0.0725 - acc: 0.9744 - val_loss: 2.9478 - val_acc: 0.6111\n",
            "Epoch 448/500\n",
            "429/429 [==============================] - 0s 66us/sample - loss: 0.1879 - acc: 0.9254 - val_loss: 2.5681 - val_acc: 0.6574\n",
            "Epoch 449/500\n",
            "429/429 [==============================] - 0s 64us/sample - loss: 0.0633 - acc: 0.9744 - val_loss: 2.4909 - val_acc: 0.6852\n",
            "Epoch 450/500\n",
            "429/429 [==============================] - 0s 61us/sample - loss: 0.0942 - acc: 0.9720 - val_loss: 2.5915 - val_acc: 0.6852\n",
            "Epoch 451/500\n",
            "429/429 [==============================] - 0s 64us/sample - loss: 0.1181 - acc: 0.9557 - val_loss: 2.7753 - val_acc: 0.6574\n",
            "Epoch 452/500\n",
            "429/429 [==============================] - 0s 65us/sample - loss: 0.0871 - acc: 0.9697 - val_loss: 2.8470 - val_acc: 0.6111\n",
            "Epoch 453/500\n",
            "429/429 [==============================] - 0s 62us/sample - loss: 0.0811 - acc: 0.9744 - val_loss: 2.9774 - val_acc: 0.6389\n",
            "Epoch 454/500\n",
            "429/429 [==============================] - 0s 62us/sample - loss: 0.1253 - acc: 0.9674 - val_loss: 2.6392 - val_acc: 0.6574\n",
            "Epoch 455/500\n",
            "429/429 [==============================] - 0s 64us/sample - loss: 0.1250 - acc: 0.9580 - val_loss: 2.6242 - val_acc: 0.6389\n",
            "Epoch 456/500\n",
            "429/429 [==============================] - 0s 64us/sample - loss: 0.0726 - acc: 0.9744 - val_loss: 2.8240 - val_acc: 0.6204\n",
            "Epoch 457/500\n",
            "429/429 [==============================] - 0s 76us/sample - loss: 0.0967 - acc: 0.9720 - val_loss: 2.8313 - val_acc: 0.6296\n",
            "Epoch 458/500\n",
            "429/429 [==============================] - 0s 68us/sample - loss: 0.0641 - acc: 0.9814 - val_loss: 2.5362 - val_acc: 0.6389\n",
            "Epoch 459/500\n",
            "429/429 [==============================] - 0s 58us/sample - loss: 0.0873 - acc: 0.9697 - val_loss: 2.5534 - val_acc: 0.7037\n",
            "Epoch 460/500\n",
            "429/429 [==============================] - 0s 64us/sample - loss: 0.0836 - acc: 0.9697 - val_loss: 2.6422 - val_acc: 0.6852\n",
            "Epoch 461/500\n",
            "429/429 [==============================] - 0s 65us/sample - loss: 0.0789 - acc: 0.9650 - val_loss: 2.5294 - val_acc: 0.6667\n",
            "Epoch 462/500\n",
            "429/429 [==============================] - 0s 68us/sample - loss: 0.0389 - acc: 0.9953 - val_loss: 2.7407 - val_acc: 0.6667\n",
            "Epoch 463/500\n",
            "429/429 [==============================] - 0s 68us/sample - loss: 0.0995 - acc: 0.9650 - val_loss: 2.7748 - val_acc: 0.6481\n",
            "Epoch 464/500\n",
            "429/429 [==============================] - 0s 65us/sample - loss: 0.0419 - acc: 0.9930 - val_loss: 2.9175 - val_acc: 0.6481\n",
            "Epoch 465/500\n",
            "429/429 [==============================] - 0s 73us/sample - loss: 0.0438 - acc: 0.9837 - val_loss: 3.0698 - val_acc: 0.6574\n",
            "Epoch 466/500\n",
            "429/429 [==============================] - 0s 64us/sample - loss: 0.0624 - acc: 0.9767 - val_loss: 2.8726 - val_acc: 0.6204\n",
            "Epoch 467/500\n",
            "429/429 [==============================] - 0s 61us/sample - loss: 0.0405 - acc: 0.9814 - val_loss: 2.6705 - val_acc: 0.6852\n",
            "Epoch 468/500\n",
            "429/429 [==============================] - 0s 63us/sample - loss: 0.0441 - acc: 0.9814 - val_loss: 2.5217 - val_acc: 0.6667\n",
            "Epoch 469/500\n",
            "429/429 [==============================] - 0s 66us/sample - loss: 0.0593 - acc: 0.9767 - val_loss: 2.5085 - val_acc: 0.6481\n",
            "Epoch 470/500\n",
            "429/429 [==============================] - 0s 63us/sample - loss: 0.0607 - acc: 0.9837 - val_loss: 2.5406 - val_acc: 0.6481\n",
            "Epoch 471/500\n",
            "429/429 [==============================] - 0s 63us/sample - loss: 0.0385 - acc: 0.9883 - val_loss: 2.6149 - val_acc: 0.6296\n",
            "Epoch 472/500\n",
            "429/429 [==============================] - 0s 63us/sample - loss: 0.0348 - acc: 0.9860 - val_loss: 2.6114 - val_acc: 0.6481\n",
            "Epoch 473/500\n",
            "429/429 [==============================] - 0s 66us/sample - loss: 0.0524 - acc: 0.9837 - val_loss: 2.4892 - val_acc: 0.6574\n",
            "Epoch 474/500\n",
            "429/429 [==============================] - 0s 62us/sample - loss: 0.0158 - acc: 0.9953 - val_loss: 2.3614 - val_acc: 0.7037\n",
            "Epoch 475/500\n",
            "429/429 [==============================] - 0s 65us/sample - loss: 0.0339 - acc: 0.9790 - val_loss: 2.3906 - val_acc: 0.7037\n",
            "Epoch 476/500\n",
            "429/429 [==============================] - 0s 70us/sample - loss: 0.0605 - acc: 0.9814 - val_loss: 2.4684 - val_acc: 0.6759\n",
            "Epoch 477/500\n",
            "429/429 [==============================] - 0s 64us/sample - loss: 0.0469 - acc: 0.9837 - val_loss: 2.3730 - val_acc: 0.6759\n",
            "Epoch 478/500\n",
            "429/429 [==============================] - 0s 62us/sample - loss: 0.0274 - acc: 0.9907 - val_loss: 2.4678 - val_acc: 0.6296\n",
            "Epoch 479/500\n",
            "429/429 [==============================] - 0s 64us/sample - loss: 0.0498 - acc: 0.9860 - val_loss: 2.5559 - val_acc: 0.6574\n",
            "Epoch 480/500\n",
            "429/429 [==============================] - 0s 63us/sample - loss: 0.0544 - acc: 0.9790 - val_loss: 2.6679 - val_acc: 0.6759\n",
            "Epoch 481/500\n",
            "429/429 [==============================] - 0s 64us/sample - loss: 0.0304 - acc: 0.9883 - val_loss: 2.7160 - val_acc: 0.6667\n",
            "Epoch 482/500\n",
            "429/429 [==============================] - 0s 69us/sample - loss: 0.0273 - acc: 0.9907 - val_loss: 2.6109 - val_acc: 0.6759\n",
            "Epoch 483/500\n",
            "429/429 [==============================] - 0s 69us/sample - loss: 0.0453 - acc: 0.9814 - val_loss: 2.6465 - val_acc: 0.6574\n",
            "Epoch 484/500\n",
            "429/429 [==============================] - 0s 64us/sample - loss: 0.0305 - acc: 0.9860 - val_loss: 2.6699 - val_acc: 0.6389\n",
            "Epoch 485/500\n",
            "429/429 [==============================] - 0s 65us/sample - loss: 0.0417 - acc: 0.9860 - val_loss: 2.6759 - val_acc: 0.6389\n",
            "Epoch 486/500\n",
            "429/429 [==============================] - 0s 60us/sample - loss: 0.0402 - acc: 0.9814 - val_loss: 2.5677 - val_acc: 0.6574\n",
            "Epoch 487/500\n",
            "429/429 [==============================] - 0s 65us/sample - loss: 0.0748 - acc: 0.9767 - val_loss: 2.4856 - val_acc: 0.6667\n",
            "Epoch 488/500\n",
            "429/429 [==============================] - 0s 73us/sample - loss: 0.0531 - acc: 0.9767 - val_loss: 2.5043 - val_acc: 0.6944\n",
            "Epoch 489/500\n",
            "429/429 [==============================] - 0s 61us/sample - loss: 0.0688 - acc: 0.9767 - val_loss: 2.7563 - val_acc: 0.6667\n",
            "Epoch 490/500\n",
            "429/429 [==============================] - 0s 62us/sample - loss: 0.1064 - acc: 0.9674 - val_loss: 2.7882 - val_acc: 0.6667\n",
            "Epoch 491/500\n",
            "429/429 [==============================] - 0s 62us/sample - loss: 0.0472 - acc: 0.9814 - val_loss: 2.8426 - val_acc: 0.7037\n",
            "Epoch 492/500\n",
            "429/429 [==============================] - 0s 66us/sample - loss: 0.0554 - acc: 0.9814 - val_loss: 3.0157 - val_acc: 0.6944\n",
            "Epoch 493/500\n",
            "429/429 [==============================] - 0s 64us/sample - loss: 0.0654 - acc: 0.9767 - val_loss: 2.9849 - val_acc: 0.6481\n",
            "Epoch 494/500\n",
            "429/429 [==============================] - 0s 64us/sample - loss: 0.0582 - acc: 0.9790 - val_loss: 3.1195 - val_acc: 0.6481\n",
            "Epoch 495/500\n",
            "429/429 [==============================] - 0s 64us/sample - loss: 0.0691 - acc: 0.9790 - val_loss: 2.8150 - val_acc: 0.6389\n",
            "Epoch 496/500\n",
            "429/429 [==============================] - 0s 75us/sample - loss: 0.0354 - acc: 0.9860 - val_loss: 2.7932 - val_acc: 0.6389\n",
            "Epoch 497/500\n",
            "429/429 [==============================] - 0s 81us/sample - loss: 0.0810 - acc: 0.9674 - val_loss: 2.7987 - val_acc: 0.6389\n",
            "Epoch 498/500\n",
            "429/429 [==============================] - 0s 66us/sample - loss: 0.0524 - acc: 0.9860 - val_loss: 3.0405 - val_acc: 0.6296\n",
            "Epoch 499/500\n",
            "429/429 [==============================] - 0s 63us/sample - loss: 0.1097 - acc: 0.9674 - val_loss: 2.8126 - val_acc: 0.6389\n",
            "Epoch 500/500\n",
            "429/429 [==============================] - 0s 65us/sample - loss: 0.0521 - acc: 0.9767 - val_loss: 2.4011 - val_acc: 0.6759\n"
          ],
          "name": "stdout"
        }
      ]
    },
    {
      "cell_type": "code",
      "metadata": {
        "id": "RnyKHtnbRV4j",
        "colab_type": "code",
        "colab": {}
      },
      "source": [
        "''' reshaping testing data before feeding into the model '''\n",
        "num_testfiles = y_test.shape[0]\n",
        "x_test = x_test.reshape(num_testfiles,num_features,1)"
      ],
      "execution_count": 0,
      "outputs": []
    },
    {
      "cell_type": "code",
      "metadata": {
        "id": "Cha7Sw8rRZ6B",
        "colab_type": "code",
        "outputId": "56e90bef-f18d-4772-bc66-d09f880888bd",
        "colab": {
          "base_uri": "https://localhost:8080/",
          "height": 54
        }
      },
      "source": [
        "''' evaluating the testing accuracy for the trained model '''\n",
        "test_loss,test_accuracy = cnn_model.evaluate(x_test, y_test)\n",
        "print('Testing accuracy is :',test_accuracy*100,'%')"
      ],
      "execution_count": 38,
      "outputs": [
        {
          "output_type": "stream",
          "text": [
            "135/135 [==============================] - 0s 923us/sample - loss: 2.0003 - acc: 0.7778\n",
            "Testing accuracy is : 77.77777910232544 %\n"
          ],
          "name": "stdout"
        }
      ]
    },
    {
      "cell_type": "code",
      "metadata": {
        "id": "gmiekvShxdau",
        "colab_type": "code",
        "colab": {}
      },
      "source": [
        "''' imports required for playing sound files '''\n",
        "import IPython.display as ipd"
      ],
      "execution_count": 0,
      "outputs": []
    },
    {
      "cell_type": "code",
      "metadata": {
        "id": "YB07AxVxRb3N",
        "colab_type": "code",
        "outputId": "319e70d6-7747-44c0-c50e-6404a5098974",
        "colab": {
          "base_uri": "https://localhost:8080/",
          "height": 61
        }
      },
      "source": [
        "''' taking a random file from the testing data '''\n",
        "random_data = test.sample()\n",
        "file = random_data.iloc[0]['file']\n",
        "original_emotion = random_data.iloc[0]['emotion']\n",
        "ipd.Audio(filename=file,) # load a local WAV file"
      ],
      "execution_count": 40,
      "outputs": [
        {
          "output_type": "execute_result",
          "data": {
            "text/html": [
              "\n",
              "                <audio controls=\"controls\" >\n",
              "                    <source src=\"data:audio/x-wav;base64,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\" type=\"audio/x-wav\" />\n",
              "                    Your browser does not support the audio element.\n",
              "                </audio>\n",
              "              "
            ],
            "text/plain": [
              "<IPython.lib.display.Audio object>"
            ]
          },
          "metadata": {
            "tags": []
          },
          "execution_count": 40
        }
      ]
    },
    {
      "cell_type": "code",
      "metadata": {
        "id": "eBaU-yasRgCX",
        "colab_type": "code",
        "outputId": "53705e42-f18a-4ae1-809c-6a032374580e",
        "colab": {
          "base_uri": "https://localhost:8080/",
          "height": 54
        }
      },
      "source": [
        "''' extracting features from the random file and feeding it to the model for prediction '''\n",
        "with soundfile.SoundFile(file) as sound_file:\n",
        "            signal = sound_file.read(dtype=\"float32\")\n",
        "            sample_rate=sound_file.samplerate\n",
        "            feature = np.mean(find_mfcc(signal, sample_rate, 26), axis=0)\n",
        "result = cnn_model.predict_classes(feature.reshape(1,num_features,1))\n",
        "print('Original emotion is : ' + original_emotion)\n",
        "print('identified emotion is : ' + label.inverse_transform(result)[0])"
      ],
      "execution_count": 41,
      "outputs": [
        {
          "output_type": "stream",
          "text": [
            "Original emotion is : angry\n",
            "identified emotion is : angry\n"
          ],
          "name": "stdout"
        }
      ]
    },
    {
      "cell_type": "code",
      "metadata": {
        "id": "_a-uDoq-TC1b",
        "colab_type": "code",
        "outputId": "23d871fe-a015-4cac-c393-58e11306ba72",
        "colab": {
          "base_uri": "https://localhost:8080/",
          "height": 295
        }
      },
      "source": [
        "plt.plot(final.history['loss'])\n",
        "plt.ylabel('loss')\n",
        "plt.xlabel('epoch')\n",
        "plt.title('training loss')\n",
        "plt.show()"
      ],
      "execution_count": 42,
      "outputs": [
        {
          "output_type": "display_data",
          "data": {
            "image/png": "[encoded data removed]",
            "text/plain": [
              "<Figure size 432x288 with 1 Axes>"
            ]
          },
          "metadata": {
            "tags": [],
            "needs_background": "light"
          }
        }
      ]
    },
    {
      "cell_type": "code",
      "metadata": {
        "id": "g2pewy5pTHVB",
        "colab_type": "code",
        "outputId": "cd16db2f-f12e-4a62-ad20-d3b0820bc964",
        "colab": {
          "base_uri": "https://localhost:8080/",
          "height": 295
        }
      },
      "source": [
        "plt.plot(final.history['acc'])\n",
        "plt.ylabel('accuracy')\n",
        "plt.xlabel('epoch')\n",
        "plt.title('training accuracy')\n",
        "plt.show()"
      ],
      "execution_count": 43,
      "outputs": [
        {
          "output_type": "display_data",
          "data": {
            "image/png": "[encoded data removed]",
            "text/plain": [
              "<Figure size 432x288 with 1 Axes>"
            ]
          },
          "metadata": {
            "tags": [],
            "needs_background": "light"
          }
        }
      ]
    },
    {
      "cell_type": "code",
      "metadata": {
        "id": "xtdJWGH3TMC3",
        "colab_type": "code",
        "outputId": "da5112de-36f2-4051-84db-c0c9c548db7c",
        "colab": {
          "base_uri": "https://localhost:8080/",
          "height": 298
        }
      },
      "source": [
        "print('predicted values for the test data: ',label.inverse_transform(cnn_model.predict_classes(x_test.reshape(len(x_test),num_features,1))))"
      ],
      "execution_count": 44,
      "outputs": [
        {
          "output_type": "stream",
          "text": [
            "predicted values for the test data:  ['happy' 'angry' 'happy' 'neutral' 'angry' 'sad' 'angry' 'angry' 'happy'\n",
            " 'neutral' 'angry' 'sad' 'happy' 'angry' 'sad' 'sad' 'happy' 'happy'\n",
            " 'neutral' 'sad' 'angry' 'happy' 'neutral' 'happy' 'sad' 'sad' 'happy'\n",
            " 'sad' 'angry' 'neutral' 'sad' 'sad' 'angry' 'neutral' 'angry' 'happy'\n",
            " 'neutral' 'happy' 'sad' 'angry' 'angry' 'neutral' 'angry' 'neutral'\n",
            " 'angry' 'sad' 'neutral' 'angry' 'angry' 'angry' 'angry' 'neutral' 'sad'\n",
            " 'happy' 'angry' 'sad' 'sad' 'sad' 'angry' 'angry' 'happy' 'happy' 'angry'\n",
            " 'sad' 'happy' 'happy' 'neutral' 'angry' 'happy' 'happy' 'happy' 'sad'\n",
            " 'neutral' 'happy' 'sad' 'happy' 'angry' 'angry' 'neutral' 'happy' 'angry'\n",
            " 'sad' 'angry' 'neutral' 'angry' 'neutral' 'neutral' 'happy' 'sad' 'sad'\n",
            " 'happy' 'sad' 'sad' 'happy' 'sad' 'sad' 'happy' 'angry' 'sad' 'angry'\n",
            " 'angry' 'happy' 'angry' 'sad' 'neutral' 'sad' 'happy' 'angry' 'happy'\n",
            " 'neutral' 'angry' 'sad' 'sad' 'sad' 'angry' 'neutral' 'angry' 'happy'\n",
            " 'angry' 'happy' 'happy' 'sad' 'sad' 'sad' 'neutral' 'angry' 'angry' 'sad'\n",
            " 'happy' 'sad' 'angry' 'angry' 'angry' 'angry' 'angry']\n"
          ],
          "name": "stdout"
        }
      ]
    }
  ]
}