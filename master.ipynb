{
  "nbformat": 4,
  "nbformat_minor": 0,
  "metadata": {
    "colab": {
      "name": "master.ipynb",
      "provenance": [],
      "collapsed_sections": [],
      "authorship_tag": "ABX9TyP1hehg7ysiBm8YlAxUwNPK",
      "include_colab_link": true
    },
    "kernelspec": {
      "name": "python3",
      "display_name": "Python 3"
    },
    "accelerator": "GPU"
  },
  "cells": [
    {
      "cell_type": "markdown",
      "metadata": {
        "id": "view-in-github",
        "colab_type": "text"
      },
      "source": [
        "<a href=\"https://colab.research.google.com/github/nikhildr22/Speech-Emotion-Recognition/blob/master/master.ipynb\" target=\"_parent\"><img src=\"https://colab.research.google.com/assets/colab-badge.svg\" alt=\"Open In Colab\"/></a>"
      ]
    },
    {
      "cell_type": "code",
      "metadata": {
        "id": "qDxKDAeHq3Eo",
        "colab_type": "code",
        "outputId": "817b91b9-aec6-45cd-8504-5df08104dbab",
        "colab": {
          "base_uri": "https://localhost:8080/",
          "height": 35
        }
      },
      "source": [
        "%tensorflow_version 1.x"
      ],
      "execution_count": 1,
      "outputs": [
        {
          "output_type": "stream",
          "text": [
            "TensorFlow 1.x selected.\n"
          ],
          "name": "stdout"
        }
      ]
    },
    {
      "cell_type": "code",
      "metadata": {
        "id": "k2OyhiRinXTI",
        "colab_type": "code",
        "outputId": "7bde4faa-9811-4546-ef7e-04d46fef65ae",
        "colab": {
          "base_uri": "https://localhost:8080/",
          "height": 35
        }
      },
      "source": [
        "!ls"
      ],
      "execution_count": 2,
      "outputs": [
        {
          "output_type": "stream",
          "text": [
            "sample_data\n"
          ],
          "name": "stdout"
        }
      ]
    },
    {
      "cell_type": "code",
      "metadata": {
        "id": "jxS4uqaWtesi",
        "colab_type": "code",
        "outputId": "90710e1f-7bd8-4239-df87-3e93fa70acc6",
        "colab": {
          "base_uri": "https://localhost:8080/",
          "height": 217
        }
      },
      "source": [
        "!wget https://zenodo.org/record/1188976/files/Audio_Speech_Actors_01-24.zip"
      ],
      "execution_count": 3,
      "outputs": [
        {
          "output_type": "stream",
          "text": [
            "--2020-04-05 00:51:25--  https://zenodo.org/record/1188976/files/Audio_Speech_Actors_01-24.zip\n",
            "Resolving zenodo.org (zenodo.org)... 188.184.117.155\n",
            "Connecting to zenodo.org (zenodo.org)|188.184.117.155|:443... connected.\n",
            "HTTP request sent, awaiting response... 200 OK\n",
            "Length: 208468073 (199M) [application/octet-stream]\n",
            "Saving to: ‘Audio_Speech_Actors_01-24.zip’\n",
            "\n",
            "Audio_Speech_Actors 100%[===================>] 198.81M  9.47MB/s    in 26s     \n",
            "\n",
            "2020-04-05 00:51:54 (7.62 MB/s) - ‘Audio_Speech_Actors_01-24.zip’ saved [208468073/208468073]\n",
            "\n"
          ],
          "name": "stdout"
        }
      ]
    },
    {
      "cell_type": "code",
      "metadata": {
        "id": "RGyGSDSGv0x2",
        "colab_type": "code",
        "outputId": "25fb178b-daf1-4377-b0ef-33583f0a1cd8",
        "colab": {
          "base_uri": "https://localhost:8080/",
          "height": 35
        }
      },
      "source": [
        "!mkdir dataset\n",
        "!ls"
      ],
      "execution_count": 4,
      "outputs": [
        {
          "output_type": "stream",
          "text": [
            "Audio_Speech_Actors_01-24.zip  dataset\tsample_data\n"
          ],
          "name": "stdout"
        }
      ]
    },
    {
      "cell_type": "code",
      "metadata": {
        "id": "Zh9M1cffv9CZ",
        "colab_type": "code",
        "colab": {}
      },
      "source": [
        "!unzip -q Audio_Speech_Actors_01-24.zip -d dataset"
      ],
      "execution_count": 0,
      "outputs": []
    },
    {
      "cell_type": "code",
      "metadata": {
        "id": "UKzEkfDGwhLE",
        "colab_type": "code",
        "outputId": "c834f4b5-c723-412a-e51d-4ce2ec2fe651",
        "colab": {
          "base_uri": "https://localhost:8080/",
          "height": 35
        }
      },
      "source": [
        "!ls"
      ],
      "execution_count": 6,
      "outputs": [
        {
          "output_type": "stream",
          "text": [
            "Audio_Speech_Actors_01-24.zip  dataset\tsample_data\n"
          ],
          "name": "stdout"
        }
      ]
    },
    {
      "cell_type": "code",
      "metadata": {
        "id": "AErppsmXyxyD",
        "colab_type": "code",
        "outputId": "b8ffe9f6-c222-451b-fd94-05924db3ef93",
        "colab": {
          "base_uri": "https://localhost:8080/",
          "height": 126
        }
      },
      "source": [
        "!pip install soundfile"
      ],
      "execution_count": 7,
      "outputs": [
        {
          "output_type": "stream",
          "text": [
            "Collecting soundfile\n",
            "  Downloading https://files.pythonhosted.org/packages/eb/f2/3cbbbf3b96fb9fa91582c438b574cff3f45b29c772f94c400e2c99ef5db9/SoundFile-0.10.3.post1-py2.py3-none-any.whl\n",
            "Requirement already satisfied: cffi>=1.0 in /usr/local/lib/python3.6/dist-packages (from soundfile) (1.14.0)\n",
            "Requirement already satisfied: pycparser in /usr/local/lib/python3.6/dist-packages (from cffi>=1.0->soundfile) (2.20)\n",
            "Installing collected packages: soundfile\n",
            "Successfully installed soundfile-0.10.3.post1\n"
          ],
          "name": "stdout"
        }
      ]
    },
    {
      "cell_type": "code",
      "metadata": {
        "id": "Dzhsncx9zO35",
        "colab_type": "code",
        "colab": {}
      },
      "source": [
        "import librosa\n",
        "from tqdm import tqdm\n",
        "import soundfile\n",
        "from scipy.io import wavfile\n",
        "import os, glob, pickle\n",
        "import numpy as np\n",
        "from sklearn.model_selection import train_test_split\n",
        "from sklearn.neural_network import MLPClassifier\n",
        "from sklearn.metrics import accuracy_score"
      ],
      "execution_count": 0,
      "outputs": []
    },
    {
      "cell_type": "code",
      "metadata": {
        "id": "fX8xLyw9GPpr",
        "colab_type": "code",
        "colab": {}
      },
      "source": [
        "''' directory to keep clean files '''\n",
        "!mkdir clean "
      ],
      "execution_count": 0,
      "outputs": []
    },
    {
      "cell_type": "code",
      "metadata": {
        "id": "ZaoEOadGzTwb",
        "colab_type": "code",
        "outputId": "86c44744-fafd-4dc2-9692-87b9a03e798c",
        "colab": {
          "base_uri": "https://localhost:8080/",
          "height": 35
        }
      },
      "source": [
        "''' downsampling audio files to 16KHz and storing them in /clean directory ''' \n",
        "for f in tqdm(glob.glob(\"dataset/*/*\")):\n",
        "    signal, rate = librosa.load(path=f, sr=16000)\n",
        "    wavfile.write(filename='clean/'+f[-24:],rate=rate,data=signal)"
      ],
      "execution_count": 10,
      "outputs": [
        {
          "output_type": "stream",
          "text": [
            "100%|██████████| 1440/1440 [05:38<00:00,  4.26it/s]\n"
          ],
          "name": "stderr"
        }
      ]
    },
    {
      "cell_type": "code",
      "metadata": {
        "id": "QaDIo9MkzbxE",
        "colab_type": "code",
        "colab": {}
      },
      "source": [
        "#DataFlair - Extract features (mfcc, chroma, mel) from a sound file\n",
        "def extract_feature(file_name, mfcc, chroma, mel):\n",
        "    with soundfile.SoundFile(file_name) as sound_file:\n",
        "        X = sound_file.read(dtype=\"float32\")\n",
        "        sample_rate=sound_file.samplerate\n",
        "        if chroma:\n",
        "            stft=np.abs(librosa.stft(X))\n",
        "        result=np.array([])\n",
        "        if mfcc:\n",
        "            mfccs=np.mean(librosa.feature.mfcc(y=X, sr=sample_rate, n_mfcc=40).T, axis=0)\n",
        "            result=np.hstack((result, mfccs))\n",
        "        if chroma:\n",
        "            chroma=np.mean(librosa.feature.chroma_stft(S=stft, sr=sample_rate).T,axis=0)\n",
        "            result=np.hstack((result, chroma))\n",
        "        if mel:\n",
        "            mel=np.mean(librosa.feature.melspectrogram(X, sr=sample_rate).T,axis=0)\n",
        "            result=np.hstack((result, mel))\n",
        "    return result"
      ],
      "execution_count": 0,
      "outputs": []
    },
    {
      "cell_type": "code",
      "metadata": {
        "id": "ZfOX_3jjzflf",
        "colab_type": "code",
        "colab": {}
      },
      "source": [
        "#DataFlair - Emotions in the RAVDESS dataset\n",
        "emotions={\n",
        "  '01':'neutral',\n",
        "  '02':'calm',\n",
        "  '03':'happy',\n",
        "  '04':'sad',\n",
        "  '05':'angry',\n",
        "  '06':'fearful',\n",
        "  '07':'disgust',\n",
        "  '08':'surprised'\n",
        "}\n",
        "#DataFlair - Emotions to observe (remove the prefix \"/\" to include that emotion)\n",
        "observed_emotions=['sad','/angry','happy','/neutral','/calm','/fearful','/disgust','/surprised']"
      ],
      "execution_count": 0,
      "outputs": []
    },
    {
      "cell_type": "code",
      "metadata": {
        "id": "rUx8FVe6zjdP",
        "colab_type": "code",
        "colab": {}
      },
      "source": [
        "#DataFlair - Load the data and extract features for each sound file\n",
        "\n",
        "def load_data(test_size=0.2):\n",
        "    x,y=[],[] \n",
        "    for file in tqdm(glob.glob(\"clean/*\")):\n",
        "        file_name=os.path.basename(file[-24:])\n",
        "#         print(file_name)\n",
        "        emotion=emotions[file_name.split(\"-\")[2]]\n",
        "        if emotion not in observed_emotions:\n",
        "            continue\n",
        "        try:\n",
        "            feature=extract_feature(file, mfcc=True, chroma=True, mel=True)\n",
        "            x.append(feature)\n",
        "            y.append(int(file_name.split(\"-\")[2]))\n",
        "        except:continue\n",
        "    return train_test_split(np.array(x), np.array(y), test_size=test_size, random_state=2)"
      ],
      "execution_count": 0,
      "outputs": []
    },
    {
      "cell_type": "code",
      "metadata": {
        "id": "GkdO_qK4znlH",
        "colab_type": "code",
        "outputId": "d78078c5-d5b2-4ee4-9313-5e1b4b23972c",
        "colab": {
          "base_uri": "https://localhost:8080/",
          "height": 35
        }
      },
      "source": [
        "#DataFlair - Split the dataset\n",
        "x_train,x_test,y_train,y_test=load_data(test_size=0.3)"
      ],
      "execution_count": 31,
      "outputs": [
        {
          "output_type": "stream",
          "text": [
            "100%|██████████| 1440/1440 [00:16<00:00, 89.89it/s]\n"
          ],
          "name": "stderr"
        }
      ]
    },
    {
      "cell_type": "code",
      "metadata": {
        "id": "WV5hZlNDzwvP",
        "colab_type": "code",
        "outputId": "04079880-8045-42d2-f9fb-d36f7304892d",
        "colab": {
          "base_uri": "https://localhost:8080/",
          "height": 35
        }
      },
      "source": [
        "#DataFlair - Get the shape of the training and testing datasets\n",
        "print((x_train.shape[0], x_test.shape[0]))"
      ],
      "execution_count": 32,
      "outputs": [
        {
          "output_type": "stream",
          "text": [
            "(268, 116)\n"
          ],
          "name": "stdout"
        }
      ]
    },
    {
      "cell_type": "code",
      "metadata": {
        "id": "eCWcNL950Xrl",
        "colab_type": "code",
        "outputId": "f0d0c53f-8078-4e61-839d-475e70d7ea61",
        "colab": {
          "base_uri": "https://localhost:8080/",
          "height": 35
        }
      },
      "source": [
        "#DataFlair - Get the number of features extracted\n",
        "print(f'Features extracted: {x_train.shape[1]}')"
      ],
      "execution_count": 33,
      "outputs": [
        {
          "output_type": "stream",
          "text": [
            "Features extracted: 180\n"
          ],
          "name": "stdout"
        }
      ]
    },
    {
      "cell_type": "code",
      "metadata": {
        "id": "MrcyHTbU0aDz",
        "colab_type": "code",
        "colab": {}
      },
      "source": [
        "#DataFlair - Initialize the Multi Layer Perceptron Classifier\n",
        "model=MLPClassifier(alpha=0.01, batch_size=256, epsilon=1e-08, hidden_layer_sizes=(300,), learning_rate='adaptive', max_iter=500,verbose=2)"
      ],
      "execution_count": 0,
      "outputs": []
    },
    {
      "cell_type": "code",
      "metadata": {
        "id": "jnEx--Er0dc8",
        "colab_type": "code",
        "outputId": "d1113592-d9e2-4bb4-9603-43fdc56dd8b7",
        "colab": {
          "base_uri": "https://localhost:8080/",
          "height": 944
        }
      },
      "source": [
        "#DataFlair - Train the model\n",
        "model.fit(x_train,y_train)"
      ],
      "execution_count": 35,
      "outputs": [
        {
          "output_type": "stream",
          "text": [
            "Iteration 1, loss = 6.47672061\n",
            "Iteration 2, loss = 4.73345911\n",
            "Iteration 3, loss = 3.60495583\n",
            "Iteration 4, loss = 1.55426477\n",
            "Iteration 5, loss = 2.29027900\n",
            "Iteration 6, loss = 1.17447254\n",
            "Iteration 7, loss = 2.03217486\n",
            "Iteration 8, loss = 1.48114861\n",
            "Iteration 9, loss = 1.05965329\n",
            "Iteration 10, loss = 1.74578806\n",
            "Iteration 11, loss = 1.10336884\n",
            "Iteration 12, loss = 0.89829674\n",
            "Iteration 13, loss = 1.05553256\n",
            "Iteration 14, loss = 0.58705459\n",
            "Iteration 15, loss = 0.74764249\n",
            "Iteration 16, loss = 0.50278385\n",
            "Iteration 17, loss = 0.72627182\n",
            "Iteration 18, loss = 0.61337038\n",
            "Iteration 19, loss = 0.57560469\n",
            "Iteration 20, loss = 0.53015663\n",
            "Iteration 21, loss = 0.61239681\n",
            "Iteration 22, loss = 0.52317836\n",
            "Iteration 23, loss = 0.58032864\n",
            "Iteration 24, loss = 0.48609679\n",
            "Iteration 25, loss = 0.57704737\n",
            "Iteration 26, loss = 0.44935929\n",
            "Iteration 27, loss = 0.53837876\n",
            "Iteration 28, loss = 0.47901713\n",
            "Iteration 29, loss = 0.46842358\n",
            "Iteration 30, loss = 0.42238822\n",
            "Iteration 31, loss = 0.53052427\n",
            "Iteration 32, loss = 0.41124439\n",
            "Iteration 33, loss = 0.68928489\n",
            "Iteration 34, loss = 0.42615951\n",
            "Iteration 35, loss = 0.66471089\n",
            "Iteration 36, loss = 0.49294478\n",
            "Iteration 37, loss = 0.79335931\n",
            "Iteration 38, loss = 0.53507923\n",
            "Iteration 39, loss = 0.79999173\n",
            "Iteration 40, loss = 0.48475626\n",
            "Iteration 41, loss = 0.44889793\n",
            "Iteration 42, loss = 0.73238354\n",
            "Iteration 43, loss = 0.55336250\n",
            "Training loss did not improve more than tol=0.000100 for 10 consecutive epochs. Stopping.\n"
          ],
          "name": "stdout"
        },
        {
          "output_type": "execute_result",
          "data": {
            "text/plain": [
              "MLPClassifier(activation='relu', alpha=0.01, batch_size=256, beta_1=0.9,\n",
              "              beta_2=0.999, early_stopping=False, epsilon=1e-08,\n",
              "              hidden_layer_sizes=(300,), learning_rate='adaptive',\n",
              "              learning_rate_init=0.001, max_fun=15000, max_iter=500,\n",
              "              momentum=0.9, n_iter_no_change=10, nesterovs_momentum=True,\n",
              "              power_t=0.5, random_state=None, shuffle=True, solver='adam',\n",
              "              tol=0.0001, validation_fraction=0.1, verbose=2, warm_start=False)"
            ]
          },
          "metadata": {
            "tags": []
          },
          "execution_count": 35
        }
      ]
    },
    {
      "cell_type": "code",
      "metadata": {
        "id": "m7wLIZ6a0gTl",
        "colab_type": "code",
        "colab": {}
      },
      "source": [
        "#DataFlair - Predict for the test set\n",
        "y_pred=model.predict(x_test)"
      ],
      "execution_count": 0,
      "outputs": []
    },
    {
      "cell_type": "code",
      "metadata": {
        "id": "AgyDehEE0vx3",
        "colab_type": "code",
        "outputId": "c309d759-ec40-4a47-d69c-0138181d23f6",
        "colab": {
          "base_uri": "https://localhost:8080/",
          "height": 35
        }
      },
      "source": [
        "#DataFlair - Calculate the accuracy of our model\n",
        "accuracy=accuracy_score(y_true=y_test, y_pred=y_pred)\n",
        "#DataFlair - Print the accuracy\n",
        "print(\"Accuracy: {:.2f}%\".format(accuracy*100))"
      ],
      "execution_count": 37,
      "outputs": [
        {
          "output_type": "stream",
          "text": [
            "Accuracy: 68.97%\n"
          ],
          "name": "stdout"
        }
      ]
    },
    {
      "cell_type": "code",
      "metadata": {
        "id": "woCm2Cps0yKh",
        "colab_type": "code",
        "outputId": "d5564ddf-b9af-4784-df69-3bc5c8793951",
        "colab": {
          "base_uri": "https://localhost:8080/",
          "height": 35
        }
      },
      "source": [
        "x_train.shape"
      ],
      "execution_count": 38,
      "outputs": [
        {
          "output_type": "execute_result",
          "data": {
            "text/plain": [
              "(268, 180)"
            ]
          },
          "metadata": {
            "tags": []
          },
          "execution_count": 38
        }
      ]
    },
    {
      "cell_type": "code",
      "metadata": {
        "id": "BqA0JoI00h4r",
        "colab_type": "code",
        "outputId": "89eaa5ea-5ea0-43cc-a454-d734dc9dd7ae",
        "colab": {
          "base_uri": "https://localhost:8080/",
          "height": 35
        }
      },
      "source": [
        "y_train.shape"
      ],
      "execution_count": 39,
      "outputs": [
        {
          "output_type": "execute_result",
          "data": {
            "text/plain": [
              "(268,)"
            ]
          },
          "metadata": {
            "tags": []
          },
          "execution_count": 39
        }
      ]
    },
    {
      "cell_type": "code",
      "metadata": {
        "id": "ZXAdR1WX00x1",
        "colab_type": "code",
        "colab": {}
      },
      "source": [
        "import keras\n",
        "from keras.models import Sequential\n",
        "from keras.layers import Dense,Conv1D,Flatten# Neural network\n",
        "input_shape = (180,1)\n",
        "num_files = x_train.shape[0]\n",
        "x_train = x_train.reshape(num_files,180,1)\n",
        "y_train = y_train.reshape(num_files)\n",
        "model0 = Sequential()\n",
        "model0.add(Conv1D(32, kernel_size=(3), input_shape=input_shape))\n",
        "model0.add(Conv1D(64, kernel_size=(3)))\n",
        "model0.add(Conv1D(128, kernel_size=(3)))\n",
        "model0.add(Conv1D(64, kernel_size=(3)))\n",
        "model0.add(Conv1D(32, kernel_size=(3)))\n",
        "model0.add(Flatten())\n",
        "model0.add(Dense(128, activation='relu'))\n",
        "model0.add(Dense(12, activation='relu'))\n",
        "model0.add(Dense(9, activation='softmax'))"
      ],
      "execution_count": 0,
      "outputs": []
    },
    {
      "cell_type": "code",
      "metadata": {
        "id": "tsj9_-_RqMiU",
        "colab_type": "code",
        "outputId": "d34b5892-369f-4d1c-c943-2578298d86a0",
        "colab": {
          "base_uri": "https://localhost:8080/",
          "height": 489
        }
      },
      "source": [
        "model0.compile(loss='sparse_categorical_crossentropy', optimizer='adam', metrics=['accuracy'])\n",
        "model0.summary()"
      ],
      "execution_count": 41,
      "outputs": [
        {
          "output_type": "stream",
          "text": [
            "Model: \"sequential_2\"\n",
            "_________________________________________________________________\n",
            "Layer (type)                 Output Shape              Param #   \n",
            "=================================================================\n",
            "conv1d_6 (Conv1D)            (None, 178, 32)           128       \n",
            "_________________________________________________________________\n",
            "conv1d_7 (Conv1D)            (None, 176, 64)           6208      \n",
            "_________________________________________________________________\n",
            "conv1d_8 (Conv1D)            (None, 174, 128)          24704     \n",
            "_________________________________________________________________\n",
            "conv1d_9 (Conv1D)            (None, 172, 64)           24640     \n",
            "_________________________________________________________________\n",
            "conv1d_10 (Conv1D)           (None, 170, 32)           6176      \n",
            "_________________________________________________________________\n",
            "flatten_2 (Flatten)          (None, 5440)              0         \n",
            "_________________________________________________________________\n",
            "dense_4 (Dense)              (None, 128)               696448    \n",
            "_________________________________________________________________\n",
            "dense_5 (Dense)              (None, 12)                1548      \n",
            "_________________________________________________________________\n",
            "dense_6 (Dense)              (None, 9)                 117       \n",
            "=================================================================\n",
            "Total params: 759,969\n",
            "Trainable params: 759,969\n",
            "Non-trainable params: 0\n",
            "_________________________________________________________________\n"
          ],
          "name": "stdout"
        }
      ]
    },
    {
      "cell_type": "code",
      "metadata": {
        "id": "yajP5ddbrd1j",
        "colab_type": "code",
        "outputId": "aa128dc2-bbe6-4644-d011-023d6696e567",
        "colab": {
          "base_uri": "https://localhost:8080/",
          "height": 1000
        }
      },
      "source": [
        "model0.fit(x_train, y_train, epochs=85,verbose=1, batch_size=10)"
      ],
      "execution_count": 42,
      "outputs": [
        {
          "output_type": "stream",
          "text": [
            "Epoch 1/85\n",
            "268/268 [==============================] - 1s 2ms/step - loss: 0.8305 - acc: 0.5896\n",
            "Epoch 2/85\n",
            "268/268 [==============================] - 0s 564us/step - loss: 0.5821 - acc: 0.7239\n",
            "Epoch 3/85\n",
            "268/268 [==============================] - 0s 547us/step - loss: 0.4694 - acc: 0.7649\n",
            "Epoch 4/85\n",
            "268/268 [==============================] - 0s 540us/step - loss: 0.4196 - acc: 0.8134\n",
            "Epoch 5/85\n",
            "268/268 [==============================] - 0s 533us/step - loss: 0.3269 - acc: 0.8507\n",
            "Epoch 6/85\n",
            "268/268 [==============================] - 0s 526us/step - loss: 0.2678 - acc: 0.8806\n",
            "Epoch 7/85\n",
            "268/268 [==============================] - 0s 524us/step - loss: 0.2751 - acc: 0.8881\n",
            "Epoch 8/85\n",
            "268/268 [==============================] - 0s 534us/step - loss: 0.2195 - acc: 0.8993\n",
            "Epoch 9/85\n",
            "268/268 [==============================] - 0s 508us/step - loss: 0.1778 - acc: 0.9291\n",
            "Epoch 10/85\n",
            "268/268 [==============================] - 0s 510us/step - loss: 0.2344 - acc: 0.9366\n",
            "Epoch 11/85\n",
            "268/268 [==============================] - 0s 507us/step - loss: 0.1453 - acc: 0.9552\n",
            "Epoch 12/85\n",
            "268/268 [==============================] - 0s 534us/step - loss: 0.0878 - acc: 0.9813\n",
            "Epoch 13/85\n",
            "268/268 [==============================] - 0s 521us/step - loss: 0.1728 - acc: 0.9328\n",
            "Epoch 14/85\n",
            "268/268 [==============================] - 0s 514us/step - loss: 0.1920 - acc: 0.9179\n",
            "Epoch 15/85\n",
            "268/268 [==============================] - 0s 524us/step - loss: 0.1844 - acc: 0.9216\n",
            "Epoch 16/85\n",
            "268/268 [==============================] - 0s 508us/step - loss: 0.1183 - acc: 0.9403\n",
            "Epoch 17/85\n",
            "268/268 [==============================] - 0s 499us/step - loss: 0.0762 - acc: 0.9739\n",
            "Epoch 18/85\n",
            "268/268 [==============================] - 0s 512us/step - loss: 0.3263 - acc: 0.9104\n",
            "Epoch 19/85\n",
            "268/268 [==============================] - 0s 553us/step - loss: 0.2840 - acc: 0.8993\n",
            "Epoch 20/85\n",
            "268/268 [==============================] - 0s 536us/step - loss: 0.1170 - acc: 0.9515\n",
            "Epoch 21/85\n",
            "268/268 [==============================] - 0s 508us/step - loss: 0.1064 - acc: 0.9627\n",
            "Epoch 22/85\n",
            "268/268 [==============================] - 0s 527us/step - loss: 0.0429 - acc: 0.9925\n",
            "Epoch 23/85\n",
            "268/268 [==============================] - 0s 515us/step - loss: 0.0286 - acc: 0.9888\n",
            "Epoch 24/85\n",
            "268/268 [==============================] - 0s 522us/step - loss: 0.0192 - acc: 0.9925\n",
            "Epoch 25/85\n",
            "268/268 [==============================] - 0s 516us/step - loss: 0.0133 - acc: 0.9963\n",
            "Epoch 26/85\n",
            "268/268 [==============================] - 0s 519us/step - loss: 0.0057 - acc: 0.9963\n",
            "Epoch 27/85\n",
            "268/268 [==============================] - 0s 539us/step - loss: 0.0011 - acc: 1.0000\n",
            "Epoch 28/85\n",
            "268/268 [==============================] - 0s 513us/step - loss: 8.4577e-04 - acc: 1.0000\n",
            "Epoch 29/85\n",
            "268/268 [==============================] - 0s 539us/step - loss: 7.0826e-04 - acc: 1.0000\n",
            "Epoch 30/85\n",
            "268/268 [==============================] - 0s 521us/step - loss: 6.0247e-04 - acc: 1.0000\n",
            "Epoch 31/85\n",
            "268/268 [==============================] - 0s 518us/step - loss: 5.2565e-04 - acc: 1.0000\n",
            "Epoch 32/85\n",
            "268/268 [==============================] - 0s 548us/step - loss: 4.6715e-04 - acc: 1.0000\n",
            "Epoch 33/85\n",
            "268/268 [==============================] - 0s 545us/step - loss: 4.0533e-04 - acc: 1.0000\n",
            "Epoch 34/85\n",
            "268/268 [==============================] - 0s 551us/step - loss: 3.5939e-04 - acc: 1.0000\n",
            "Epoch 35/85\n",
            "268/268 [==============================] - 0s 555us/step - loss: 3.2322e-04 - acc: 1.0000\n",
            "Epoch 36/85\n",
            "268/268 [==============================] - 0s 556us/step - loss: 3.0713e-04 - acc: 1.0000\n",
            "Epoch 37/85\n",
            "268/268 [==============================] - 0s 526us/step - loss: 2.7554e-04 - acc: 1.0000\n",
            "Epoch 38/85\n",
            "268/268 [==============================] - 0s 513us/step - loss: 2.4361e-04 - acc: 1.0000\n",
            "Epoch 39/85\n",
            "268/268 [==============================] - 0s 513us/step - loss: 2.2675e-04 - acc: 1.0000\n",
            "Epoch 40/85\n",
            "268/268 [==============================] - 0s 513us/step - loss: 2.1078e-04 - acc: 1.0000\n",
            "Epoch 41/85\n",
            "268/268 [==============================] - 0s 552us/step - loss: 1.9505e-04 - acc: 1.0000\n",
            "Epoch 42/85\n",
            "268/268 [==============================] - 0s 509us/step - loss: 1.8215e-04 - acc: 1.0000\n",
            "Epoch 43/85\n",
            "268/268 [==============================] - 0s 530us/step - loss: 1.7224e-04 - acc: 1.0000\n",
            "Epoch 44/85\n",
            "268/268 [==============================] - 0s 518us/step - loss: 1.6164e-04 - acc: 1.0000\n",
            "Epoch 45/85\n",
            "268/268 [==============================] - 0s 533us/step - loss: 1.4991e-04 - acc: 1.0000\n",
            "Epoch 46/85\n",
            "268/268 [==============================] - 0s 528us/step - loss: 1.4203e-04 - acc: 1.0000\n",
            "Epoch 47/85\n",
            "268/268 [==============================] - 0s 531us/step - loss: 1.3488e-04 - acc: 1.0000\n",
            "Epoch 48/85\n",
            "268/268 [==============================] - 0s 548us/step - loss: 1.2670e-04 - acc: 1.0000\n",
            "Epoch 49/85\n",
            "268/268 [==============================] - 0s 509us/step - loss: 1.2018e-04 - acc: 1.0000\n",
            "Epoch 50/85\n",
            "268/268 [==============================] - 0s 543us/step - loss: 1.1389e-04 - acc: 1.0000\n",
            "Epoch 51/85\n",
            "268/268 [==============================] - 0s 513us/step - loss: 1.0799e-04 - acc: 1.0000\n",
            "Epoch 52/85\n",
            "268/268 [==============================] - 0s 527us/step - loss: 1.0213e-04 - acc: 1.0000\n",
            "Epoch 53/85\n",
            "268/268 [==============================] - 0s 509us/step - loss: 9.7641e-05 - acc: 1.0000\n",
            "Epoch 54/85\n",
            "268/268 [==============================] - 0s 507us/step - loss: 9.3778e-05 - acc: 1.0000\n",
            "Epoch 55/85\n",
            "268/268 [==============================] - 0s 549us/step - loss: 8.9301e-05 - acc: 1.0000\n",
            "Epoch 56/85\n",
            "268/268 [==============================] - 0s 525us/step - loss: 8.4915e-05 - acc: 1.0000\n",
            "Epoch 57/85\n",
            "268/268 [==============================] - 0s 530us/step - loss: 8.1539e-05 - acc: 1.0000\n",
            "Epoch 58/85\n",
            "268/268 [==============================] - 0s 528us/step - loss: 7.7030e-05 - acc: 1.0000\n",
            "Epoch 59/85\n",
            "268/268 [==============================] - 0s 519us/step - loss: 7.3963e-05 - acc: 1.0000\n",
            "Epoch 60/85\n",
            "268/268 [==============================] - 0s 528us/step - loss: 7.1594e-05 - acc: 1.0000\n",
            "Epoch 61/85\n",
            "268/268 [==============================] - 0s 531us/step - loss: 6.8697e-05 - acc: 1.0000\n",
            "Epoch 62/85\n",
            "268/268 [==============================] - 0s 551us/step - loss: 6.5513e-05 - acc: 1.0000\n",
            "Epoch 63/85\n",
            "268/268 [==============================] - 0s 520us/step - loss: 6.2911e-05 - acc: 1.0000\n",
            "Epoch 64/85\n",
            "268/268 [==============================] - 0s 530us/step - loss: 6.0225e-05 - acc: 1.0000\n",
            "Epoch 65/85\n",
            "268/268 [==============================] - 0s 527us/step - loss: 5.8431e-05 - acc: 1.0000\n",
            "Epoch 66/85\n",
            "268/268 [==============================] - 0s 512us/step - loss: 5.5790e-05 - acc: 1.0000\n",
            "Epoch 67/85\n",
            "268/268 [==============================] - 0s 513us/step - loss: 5.3923e-05 - acc: 1.0000\n",
            "Epoch 68/85\n",
            "268/268 [==============================] - 0s 513us/step - loss: 5.2335e-05 - acc: 1.0000\n",
            "Epoch 69/85\n",
            "268/268 [==============================] - 0s 533us/step - loss: 4.9914e-05 - acc: 1.0000\n",
            "Epoch 70/85\n",
            "268/268 [==============================] - 0s 566us/step - loss: 4.7894e-05 - acc: 1.0000\n",
            "Epoch 71/85\n",
            "268/268 [==============================] - 0s 525us/step - loss: 4.6657e-05 - acc: 1.0000\n",
            "Epoch 72/85\n",
            "268/268 [==============================] - 0s 513us/step - loss: 4.4836e-05 - acc: 1.0000\n",
            "Epoch 73/85\n",
            "268/268 [==============================] - 0s 541us/step - loss: 4.3371e-05 - acc: 1.0000\n",
            "Epoch 74/85\n",
            "268/268 [==============================] - 0s 520us/step - loss: 4.2101e-05 - acc: 1.0000\n",
            "Epoch 75/85\n",
            "268/268 [==============================] - 0s 514us/step - loss: 4.0734e-05 - acc: 1.0000\n",
            "Epoch 76/85\n",
            "268/268 [==============================] - 0s 512us/step - loss: 3.9184e-05 - acc: 1.0000\n",
            "Epoch 77/85\n",
            "268/268 [==============================] - 0s 536us/step - loss: 3.8099e-05 - acc: 1.0000\n",
            "Epoch 78/85\n",
            "268/268 [==============================] - 0s 545us/step - loss: 3.6747e-05 - acc: 1.0000\n",
            "Epoch 79/85\n",
            "268/268 [==============================] - 0s 566us/step - loss: 3.5780e-05 - acc: 1.0000\n",
            "Epoch 80/85\n",
            "268/268 [==============================] - 0s 516us/step - loss: 3.4886e-05 - acc: 1.0000\n",
            "Epoch 81/85\n",
            "268/268 [==============================] - 0s 516us/step - loss: 3.3497e-05 - acc: 1.0000\n",
            "Epoch 82/85\n",
            "268/268 [==============================] - 0s 512us/step - loss: 3.2379e-05 - acc: 1.0000\n",
            "Epoch 83/85\n",
            "268/268 [==============================] - 0s 506us/step - loss: 3.1544e-05 - acc: 1.0000\n",
            "Epoch 84/85\n",
            "268/268 [==============================] - 0s 537us/step - loss: 3.0689e-05 - acc: 1.0000\n",
            "Epoch 85/85\n",
            "268/268 [==============================] - 0s 506us/step - loss: 2.9607e-05 - acc: 1.0000\n"
          ],
          "name": "stdout"
        },
        {
          "output_type": "execute_result",
          "data": {
            "text/plain": [
              "<keras.callbacks.History at 0x7f6161370208>"
            ]
          },
          "metadata": {
            "tags": []
          },
          "execution_count": 42
        }
      ]
    },
    {
      "cell_type": "code",
      "metadata": {
        "id": "2w4CzoU-_LKI",
        "colab_type": "code",
        "colab": {}
      },
      "source": [
        "num_testfiles = y_test.shape[0]"
      ],
      "execution_count": 0,
      "outputs": []
    },
    {
      "cell_type": "code",
      "metadata": {
        "id": "aZLfe24x_A92",
        "colab_type": "code",
        "colab": {}
      },
      "source": [
        "x_test = x_test.reshape(num_testfiles,180,1)\n",
        "y_test = y_test.reshape(num_testfiles)"
      ],
      "execution_count": 0,
      "outputs": []
    },
    {
      "cell_type": "code",
      "metadata": {
        "id": "gxC48tvs-9zm",
        "colab_type": "code",
        "outputId": "2f0124c5-4079-480d-f12d-9cd08bf89d6e",
        "colab": {
          "base_uri": "https://localhost:8080/",
          "height": 53
        }
      },
      "source": [
        "model0.evaluate(x_test, y_test)"
      ],
      "execution_count": 45,
      "outputs": [
        {
          "output_type": "stream",
          "text": [
            "116/116 [==============================] - 0s 920us/step\n"
          ],
          "name": "stdout"
        },
        {
          "output_type": "execute_result",
          "data": {
            "text/plain": [
              "[1.4978998529499974, 0.8103448275862069]"
            ]
          },
          "metadata": {
            "tags": []
          },
          "execution_count": 45
        }
      ]
    },
    {
      "cell_type": "code",
      "metadata": {
        "id": "GOr-5TRjDGpw",
        "colab_type": "code",
        "outputId": "181a5605-5e50-4834-d44a-afceae476864",
        "colab": {
          "base_uri": "https://localhost:8080/",
          "height": 35
        }
      },
      "source": [
        "model0.predict(x_test[3].reshape(1,180,1)).argmax()"
      ],
      "execution_count": 46,
      "outputs": [
        {
          "output_type": "execute_result",
          "data": {
            "text/plain": [
              "3"
            ]
          },
          "metadata": {
            "tags": []
          },
          "execution_count": 46
        }
      ]
    }
  ]
}