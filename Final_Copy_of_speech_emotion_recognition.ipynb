{
  "nbformat": 4,
  "nbformat_minor": 0,
  "metadata": {
    "colab": {
      "name": "Final Copy of speech_emotion_recognition.ipynb",
      "provenance": [],
      "collapsed_sections": [],
      "include_colab_link": true
    },
    "kernelspec": {
      "name": "python3",
      "display_name": "Python 3"
    },
    "accelerator": "GPU"
  },
  "cells": [
    {
      "cell_type": "markdown",
      "metadata": {
        "id": "view-in-github",
        "colab_type": "text"
      },
      "source": [
        "<a href=\"https://colab.research.google.com/github/nikhildr22/Speech-Emotion-Recognition/blob/master/Final_Copy_of_speech_emotion_recognition.ipynb\" target=\"_parent\"><img src=\"https://colab.research.google.com/assets/colab-badge.svg\" alt=\"Open In Colab\"/></a>"
      ]
    },
    {
      "cell_type": "code",
      "metadata": {
        "id": "woK0rKHUNQGK",
        "colab_type": "code",
        "colab": {
          "base_uri": "https://localhost:8080/",
          "height": 35
        },
        "outputId": "4a1aaa33-ca13-4f69-f419-c63050cbf9be"
      },
      "source": [
        "''' Using Tensorflow 1.x '''\n",
        "\n",
        "%tensorflow_version 1.x"
      ],
      "execution_count": 1,
      "outputs": [
        {
          "output_type": "stream",
          "text": [
            "TensorFlow 1.x selected.\n"
          ],
          "name": "stdout"
        }
      ]
    },
    {
      "cell_type": "code",
      "metadata": {
        "id": "QbRkenDYNqAA",
        "colab_type": "code",
        "colab": {
          "base_uri": "https://localhost:8080/",
          "height": 35
        },
        "outputId": "ada53cfa-1c6a-4a71-fb06-cfadde74d005"
      },
      "source": [
        "''' listing directories '''\n",
        "!ls"
      ],
      "execution_count": 2,
      "outputs": [
        {
          "output_type": "stream",
          "text": [
            "sample_data\n"
          ],
          "name": "stdout"
        }
      ]
    },
    {
      "cell_type": "code",
      "metadata": {
        "id": "zqdPpT-UNt3C",
        "colab_type": "code",
        "colab": {
          "base_uri": "https://localhost:8080/",
          "height": 217
        },
        "outputId": "7449e643-71ff-415b-ea84-b9f20d2b7abc"
      },
      "source": [
        "''' Downloading the dataset from the website in zip compressed format '''\n",
        "!wget https://zenodo.org/record/1188976/files/Audio_Speech_Actors_01-24.zip"
      ],
      "execution_count": 3,
      "outputs": [
        {
          "output_type": "stream",
          "text": [
            "--2020-08-18 21:56:17--  https://zenodo.org/record/1188976/files/Audio_Speech_Actors_01-24.zip\n",
            "Resolving zenodo.org (zenodo.org)... 188.184.117.155\n",
            "Connecting to zenodo.org (zenodo.org)|188.184.117.155|:443... connected.\n",
            "HTTP request sent, awaiting response... 200 OK\n",
            "Length: 208468073 (199M) [application/octet-stream]\n",
            "Saving to: ‘Audio_Speech_Actors_01-24.zip’\n",
            "\n",
            "Audio_Speech_Actors 100%[===================>] 198.81M  4.09MB/s    in 40s     \n",
            "\n",
            "2020-08-18 21:56:59 (4.95 MB/s) - ‘Audio_Speech_Actors_01-24.zip’ saved [208468073/208468073]\n",
            "\n"
          ],
          "name": "stdout"
        }
      ]
    },
    {
      "cell_type": "code",
      "metadata": {
        "id": "TFdu4OCYNv-w",
        "colab_type": "code",
        "colab": {
          "base_uri": "https://localhost:8080/",
          "height": 35
        },
        "outputId": "6fa12b0c-4469-4211-c565-5ad7de2abfde"
      },
      "source": [
        "''' creating a folder - 'dataset' to keep the data '''\n",
        "!mkdir dataset\n",
        "!ls"
      ],
      "execution_count": 4,
      "outputs": [
        {
          "output_type": "stream",
          "text": [
            "Audio_Speech_Actors_01-24.zip  dataset\tsample_data\n"
          ],
          "name": "stdout"
        }
      ]
    },
    {
      "cell_type": "code",
      "metadata": {
        "id": "eDG17oPgNz5y",
        "colab_type": "code",
        "colab": {}
      },
      "source": [
        "''' unzipping the dataset into the destination folder 'dataset' '''\n",
        "!unzip -q Audio_Speech_Actors_01-24.zip -d dataset"
      ],
      "execution_count": 5,
      "outputs": []
    },
    {
      "cell_type": "code",
      "metadata": {
        "id": "6-ySXy8QN3bL",
        "colab_type": "code",
        "colab": {
          "base_uri": "https://localhost:8080/",
          "height": 35
        },
        "outputId": "63b886a4-b66f-4367-d539-482f05d8127a"
      },
      "source": [
        "''' listing directories '''\n",
        "!ls"
      ],
      "execution_count": 6,
      "outputs": [
        {
          "output_type": "stream",
          "text": [
            "Audio_Speech_Actors_01-24.zip  dataset\tsample_data\n"
          ],
          "name": "stdout"
        }
      ]
    },
    {
      "cell_type": "code",
      "metadata": {
        "id": "lN5nQEv3N7ro",
        "colab_type": "code",
        "colab": {
          "base_uri": "https://localhost:8080/",
          "height": 126
        },
        "outputId": "9800b16c-271e-475b-80b7-867874810e94"
      },
      "source": [
        "''' Installing soundfile module via pip '''\n",
        "!pip install soundfile"
      ],
      "execution_count": 7,
      "outputs": [
        {
          "output_type": "stream",
          "text": [
            "Collecting soundfile\n",
            "  Downloading https://files.pythonhosted.org/packages/eb/f2/3cbbbf3b96fb9fa91582c438b574cff3f45b29c772f94c400e2c99ef5db9/SoundFile-0.10.3.post1-py2.py3-none-any.whl\n",
            "Requirement already satisfied: cffi>=1.0 in /usr/local/lib/python3.6/dist-packages (from soundfile) (1.14.1)\n",
            "Requirement already satisfied: pycparser in /usr/local/lib/python3.6/dist-packages (from cffi>=1.0->soundfile) (2.20)\n",
            "Installing collected packages: soundfile\n",
            "Successfully installed soundfile-0.10.3.post1\n"
          ],
          "name": "stdout"
        }
      ]
    },
    {
      "cell_type": "code",
      "metadata": {
        "id": "NDDtAflRN-Op",
        "colab_type": "code",
        "colab": {}
      },
      "source": [
        "''' importing required modules '''\n",
        "import librosa\n",
        "from tqdm import tqdm\n",
        "import soundfile\n",
        "from scipy.io import wavfile\n",
        "import os, glob, pickle\n",
        "import numpy as np\n",
        "from scipy.fftpack import dct\n",
        "import matplotlib.pyplot as plt"
      ],
      "execution_count": 8,
      "outputs": []
    },
    {
      "cell_type": "code",
      "metadata": {
        "id": "KB7RDna_OeYA",
        "colab_type": "code",
        "colab": {}
      },
      "source": [
        "''' creating a directory to keep clean files '''\n",
        "!mkdir clean "
      ],
      "execution_count": 9,
      "outputs": []
    },
    {
      "cell_type": "code",
      "metadata": {
        "id": "gMprtbZwOhD8",
        "colab_type": "code",
        "colab": {
          "base_uri": "https://localhost:8080/",
          "height": 35
        },
        "outputId": "5c5b0632-2288-4f23-a232-0f1d88070280"
      },
      "source": [
        "''' downsampling audio files to 16KHz and storing them in /clean directory ''' \n",
        "for f in tqdm(glob.glob(\"dataset/*/*\")):\n",
        "    signal, rate = librosa.load(path=f, sr=16000)\n",
        "    wavfile.write(filename='clean/'+f[-24:],rate=rate,data=signal)"
      ],
      "execution_count": 10,
      "outputs": [
        {
          "output_type": "stream",
          "text": [
            "100%|██████████| 1440/1440 [06:48<00:00,  3.52it/s]\n"
          ],
          "name": "stderr"
        }
      ]
    },
    {
      "cell_type": "code",
      "metadata": {
        "id": "S1B85KInORLs",
        "colab_type": "code",
        "colab": {}
      },
      "source": [
        "# Emotions in the RAVDESS dataset\n",
        "emotions={\n",
        "  '01':'neutral',\n",
        "  '02':'calm',\n",
        "  '03':'happy',\n",
        "  '04':'sad',\n",
        "  '05':'angry',\n",
        "  '06':'fearful',\n",
        "  '07':'disgust',\n",
        "  '08':'surprised'\n",
        "}\n",
        "# Emotions to be observed in our project\n",
        "observed_emotions=['sad','angry','happy','neutral']"
      ],
      "execution_count": 11,
      "outputs": []
    },
    {
      "cell_type": "code",
      "metadata": {
        "id": "rerNmmGEOUjs",
        "colab_type": "code",
        "colab": {}
      },
      "source": [
        "''' Creating a pandas dataframe for structured handling of files in the dataset '''\n",
        "import pandas as pd\n",
        "#Dataframe will contain 2 columns 'file' and 'emotion'\n",
        "dataframe = pd.DataFrame(columns=['file', 'emotion'])"
      ],
      "execution_count": 12,
      "outputs": []
    },
    {
      "cell_type": "code",
      "metadata": {
        "id": "vMg7RjIFPTPj",
        "colab_type": "code",
        "colab": {
          "base_uri": "https://localhost:8080/",
          "height": 35
        },
        "outputId": "64760793-693e-44d6-d933-256d3c3fb23d"
      },
      "source": [
        "''' filling the dataframe rows with values '''\n",
        "for file in tqdm(glob.glob(\"clean/*\")):\n",
        "        file_name=os.path.basename(file[-24:])\n",
        "        emotion=emotions[file_name.split(\"-\")[2]]\n",
        "        if emotion not in observed_emotions:\n",
        "            continue\n",
        "\n",
        "        dataframe = dataframe.append({'file': file, 'emotion': emotion}, ignore_index=True)"
      ],
      "execution_count": 13,
      "outputs": [
        {
          "output_type": "stream",
          "text": [
            "100%|██████████| 1440/1440 [00:01<00:00, 723.63it/s]\n"
          ],
          "name": "stderr"
        }
      ]
    },
    {
      "cell_type": "code",
      "metadata": {
        "id": "sa9BTrDlPfw7",
        "colab_type": "code",
        "colab": {
          "base_uri": "https://localhost:8080/",
          "height": 175
        },
        "outputId": "41e3d45f-2c32-49d0-9bed-4abf72ba6802"
      },
      "source": [
        "dataframe.describe()"
      ],
      "execution_count": 14,
      "outputs": [
        {
          "output_type": "execute_result",
          "data": {
            "text/html": [
              "<div>\n",
              "<style scoped>\n",
              "    .dataframe tbody tr th:only-of-type {\n",
              "        vertical-align: middle;\n",
              "    }\n",
              "\n",
              "    .dataframe tbody tr th {\n",
              "        vertical-align: top;\n",
              "    }\n",
              "\n",
              "    .dataframe thead th {\n",
              "        text-align: right;\n",
              "    }\n",
              "</style>\n",
              "<table border=\"1\" class=\"dataframe\">\n",
              "  <thead>\n",
              "    <tr style=\"text-align: right;\">\n",
              "      <th></th>\n",
              "      <th>file</th>\n",
              "      <th>emotion</th>\n",
              "    </tr>\n",
              "  </thead>\n",
              "  <tbody>\n",
              "    <tr>\n",
              "      <th>count</th>\n",
              "      <td>672</td>\n",
              "      <td>672</td>\n",
              "    </tr>\n",
              "    <tr>\n",
              "      <th>unique</th>\n",
              "      <td>672</td>\n",
              "      <td>4</td>\n",
              "    </tr>\n",
              "    <tr>\n",
              "      <th>top</th>\n",
              "      <td>clean/03-01-05-02-01-02-05.wav</td>\n",
              "      <td>happy</td>\n",
              "    </tr>\n",
              "    <tr>\n",
              "      <th>freq</th>\n",
              "      <td>1</td>\n",
              "      <td>192</td>\n",
              "    </tr>\n",
              "  </tbody>\n",
              "</table>\n",
              "</div>"
            ],
            "text/plain": [
              "                                  file emotion\n",
              "count                              672     672\n",
              "unique                             672       4\n",
              "top     clean/03-01-05-02-01-02-05.wav   happy\n",
              "freq                                 1     192"
            ]
          },
          "metadata": {
            "tags": []
          },
          "execution_count": 14
        }
      ]
    },
    {
      "cell_type": "code",
      "metadata": {
        "id": "CEfLl5sZP4Ov",
        "colab_type": "code",
        "colab": {}
      },
      "source": [
        "''' Dividing the dataframe into test and train dataframes '''\n",
        "from sklearn.model_selection import train_test_split\n",
        "\n",
        "train, test = train_test_split(dataframe, test_size=0.2)"
      ],
      "execution_count": 15,
      "outputs": []
    },
    {
      "cell_type": "code",
      "metadata": {
        "id": "0n0TGy3KP8gx",
        "colab_type": "code",
        "colab": {
          "base_uri": "https://localhost:8080/",
          "height": 175
        },
        "outputId": "92de60b8-7884-476c-cb3f-318eb986c4eb"
      },
      "source": [
        "train.describe()"
      ],
      "execution_count": 16,
      "outputs": [
        {
          "output_type": "execute_result",
          "data": {
            "text/html": [
              "<div>\n",
              "<style scoped>\n",
              "    .dataframe tbody tr th:only-of-type {\n",
              "        vertical-align: middle;\n",
              "    }\n",
              "\n",
              "    .dataframe tbody tr th {\n",
              "        vertical-align: top;\n",
              "    }\n",
              "\n",
              "    .dataframe thead th {\n",
              "        text-align: right;\n",
              "    }\n",
              "</style>\n",
              "<table border=\"1\" class=\"dataframe\">\n",
              "  <thead>\n",
              "    <tr style=\"text-align: right;\">\n",
              "      <th></th>\n",
              "      <th>file</th>\n",
              "      <th>emotion</th>\n",
              "    </tr>\n",
              "  </thead>\n",
              "  <tbody>\n",
              "    <tr>\n",
              "      <th>count</th>\n",
              "      <td>537</td>\n",
              "      <td>537</td>\n",
              "    </tr>\n",
              "    <tr>\n",
              "      <th>unique</th>\n",
              "      <td>537</td>\n",
              "      <td>4</td>\n",
              "    </tr>\n",
              "    <tr>\n",
              "      <th>top</th>\n",
              "      <td>clean/03-01-01-01-02-01-13.wav</td>\n",
              "      <td>angry</td>\n",
              "    </tr>\n",
              "    <tr>\n",
              "      <th>freq</th>\n",
              "      <td>1</td>\n",
              "      <td>160</td>\n",
              "    </tr>\n",
              "  </tbody>\n",
              "</table>\n",
              "</div>"
            ],
            "text/plain": [
              "                                  file emotion\n",
              "count                              537     537\n",
              "unique                             537       4\n",
              "top     clean/03-01-01-01-02-01-13.wav   angry\n",
              "freq                                 1     160"
            ]
          },
          "metadata": {
            "tags": []
          },
          "execution_count": 16
        }
      ]
    },
    {
      "cell_type": "code",
      "metadata": {
        "id": "ayCxuogfP_rT",
        "colab_type": "code",
        "colab": {
          "base_uri": "https://localhost:8080/",
          "height": 206
        },
        "outputId": "d1b4a8f3-269a-4b60-e3ad-777e4ef29414"
      },
      "source": [
        "train.head()"
      ],
      "execution_count": 17,
      "outputs": [
        {
          "output_type": "execute_result",
          "data": {
            "text/html": [
              "<div>\n",
              "<style scoped>\n",
              "    .dataframe tbody tr th:only-of-type {\n",
              "        vertical-align: middle;\n",
              "    }\n",
              "\n",
              "    .dataframe tbody tr th {\n",
              "        vertical-align: top;\n",
              "    }\n",
              "\n",
              "    .dataframe thead th {\n",
              "        text-align: right;\n",
              "    }\n",
              "</style>\n",
              "<table border=\"1\" class=\"dataframe\">\n",
              "  <thead>\n",
              "    <tr style=\"text-align: right;\">\n",
              "      <th></th>\n",
              "      <th>file</th>\n",
              "      <th>emotion</th>\n",
              "    </tr>\n",
              "  </thead>\n",
              "  <tbody>\n",
              "    <tr>\n",
              "      <th>109</th>\n",
              "      <td>clean/03-01-03-02-01-01-18.wav</td>\n",
              "      <td>happy</td>\n",
              "    </tr>\n",
              "    <tr>\n",
              "      <th>609</th>\n",
              "      <td>clean/03-01-04-01-01-01-13.wav</td>\n",
              "      <td>sad</td>\n",
              "    </tr>\n",
              "    <tr>\n",
              "      <th>428</th>\n",
              "      <td>clean/03-01-04-02-02-01-11.wav</td>\n",
              "      <td>sad</td>\n",
              "    </tr>\n",
              "    <tr>\n",
              "      <th>385</th>\n",
              "      <td>clean/03-01-05-01-02-01-04.wav</td>\n",
              "      <td>angry</td>\n",
              "    </tr>\n",
              "    <tr>\n",
              "      <th>359</th>\n",
              "      <td>clean/03-01-03-01-02-01-04.wav</td>\n",
              "      <td>happy</td>\n",
              "    </tr>\n",
              "  </tbody>\n",
              "</table>\n",
              "</div>"
            ],
            "text/plain": [
              "                               file emotion\n",
              "109  clean/03-01-03-02-01-01-18.wav   happy\n",
              "609  clean/03-01-04-01-01-01-13.wav     sad\n",
              "428  clean/03-01-04-02-02-01-11.wav     sad\n",
              "385  clean/03-01-05-01-02-01-04.wav   angry\n",
              "359  clean/03-01-03-01-02-01-04.wav   happy"
            ]
          },
          "metadata": {
            "tags": []
          },
          "execution_count": 17
        }
      ]
    },
    {
      "cell_type": "code",
      "metadata": {
        "id": "qvD5b4OGQZ8Q",
        "colab_type": "code",
        "colab": {
          "base_uri": "https://localhost:8080/",
          "height": 175
        },
        "outputId": "b72a6442-c6ea-43e2-c1b7-c460c782e146"
      },
      "source": [
        "test.describe()"
      ],
      "execution_count": 18,
      "outputs": [
        {
          "output_type": "execute_result",
          "data": {
            "text/html": [
              "<div>\n",
              "<style scoped>\n",
              "    .dataframe tbody tr th:only-of-type {\n",
              "        vertical-align: middle;\n",
              "    }\n",
              "\n",
              "    .dataframe tbody tr th {\n",
              "        vertical-align: top;\n",
              "    }\n",
              "\n",
              "    .dataframe thead th {\n",
              "        text-align: right;\n",
              "    }\n",
              "</style>\n",
              "<table border=\"1\" class=\"dataframe\">\n",
              "  <thead>\n",
              "    <tr style=\"text-align: right;\">\n",
              "      <th></th>\n",
              "      <th>file</th>\n",
              "      <th>emotion</th>\n",
              "    </tr>\n",
              "  </thead>\n",
              "  <tbody>\n",
              "    <tr>\n",
              "      <th>count</th>\n",
              "      <td>135</td>\n",
              "      <td>135</td>\n",
              "    </tr>\n",
              "    <tr>\n",
              "      <th>unique</th>\n",
              "      <td>135</td>\n",
              "      <td>4</td>\n",
              "    </tr>\n",
              "    <tr>\n",
              "      <th>top</th>\n",
              "      <td>clean/03-01-04-01-01-01-08.wav</td>\n",
              "      <td>sad</td>\n",
              "    </tr>\n",
              "    <tr>\n",
              "      <th>freq</th>\n",
              "      <td>1</td>\n",
              "      <td>40</td>\n",
              "    </tr>\n",
              "  </tbody>\n",
              "</table>\n",
              "</div>"
            ],
            "text/plain": [
              "                                  file emotion\n",
              "count                              135     135\n",
              "unique                             135       4\n",
              "top     clean/03-01-04-01-01-01-08.wav     sad\n",
              "freq                                 1      40"
            ]
          },
          "metadata": {
            "tags": []
          },
          "execution_count": 18
        }
      ]
    },
    {
      "cell_type": "code",
      "metadata": {
        "id": "z2v4qMQBd6zE",
        "colab_type": "code",
        "colab": {}
      },
      "source": [
        "''' Defining a function for MFCC feature extraction '''\n",
        "\n",
        "def find_mfcc(signal, sample_rate , numcep):\n",
        "    pre_emphasis = 0.97\n",
        "    emphasized_signal = np.append(signal[0], signal[1:] - pre_emphasis * signal[:-1])\n",
        "    frame_size = 0.025\n",
        "    frame_stride = 0.01\n",
        "\n",
        "    frame_length, frame_step = frame_size * sample_rate, frame_stride * sample_rate  # Convert from seconds to samples\n",
        "    signal_length = len(emphasized_signal)\n",
        "    frame_length = int(round(frame_length))\n",
        "    frame_step = int(round(frame_step))\n",
        "    num_frames = int(np.ceil(float(np.abs(signal_length - frame_length)) / frame_step))  # Make sure that we have at least 1 frame\n",
        "\n",
        "    pad_signal_length = num_frames * frame_step + frame_length\n",
        "    z = np.zeros((pad_signal_length - signal_length))\n",
        "    pad_signal = np.append(emphasized_signal, z) # Pad Signal to make sure that all frames have equal number of samples without truncating any samples from the original signal\n",
        "\n",
        "    indices = np.tile(np.arange(0, frame_length), (num_frames, 1)) + np.tile(np.arange(0, num_frames * frame_step, frame_step), (frame_length, 1)).T\n",
        "    frames = pad_signal[indices.astype(np.int32, copy=False)]\n",
        "\n",
        "    NFFT = 512\n",
        "    mag_frames = np.absolute(np.fft.rfft(frames, NFFT))  # Magnitude of the FFT\n",
        "    pow_frames = ((1.0 / NFFT) * ((mag_frames) ** 2))\n",
        "\n",
        "    nfilt = 40\n",
        "    low_freq_mel = 0\n",
        "    high_freq_mel = (2595 * np.log10(1 + (sample_rate / 2) / 700))  # Convert Hz to Mel\n",
        "    mel_points = np.linspace(low_freq_mel, high_freq_mel, nfilt + 2)  # Equally spaced in Mel scale\n",
        "    hz_points = (700 * (10**(mel_points / 2595) - 1))  # Convert Mel to Hz\n",
        "    bin = np.floor((NFFT + 1) * hz_points / sample_rate)\n",
        "\n",
        "    fbank = np.zeros((nfilt, int(np.floor(NFFT / 2 + 1))))\n",
        "    for m in range(1, nfilt + 1):\n",
        "        f_m_minus = int(bin[m - 1])   # left\n",
        "        f_m = int(bin[m])             # center\n",
        "        f_m_plus = int(bin[m + 1])    # right\n",
        "\n",
        "        for k in range(f_m_minus, f_m):\n",
        "            fbank[m - 1, k] = (k - bin[m - 1]) / (bin[m] - bin[m - 1])\n",
        "        for k in range(f_m, f_m_plus):\n",
        "            fbank[m - 1, k] = (bin[m + 1] - k) / (bin[m + 1] - bin[m])\n",
        "    filter_banks = np.dot(pow_frames, fbank.T)\n",
        "    filter_banks = np.where(filter_banks == 0, np.finfo(float).eps, filter_banks)  # Numerical Stability\n",
        "    filter_banks = 20 * np.log10(filter_banks)  # dB\n",
        "\n",
        "    num_ceps = numcep\n",
        "    mfcc = dct(filter_banks, type=2, axis=1, norm='ortho')[:, 1 : (num_ceps + 1)] # Keep 2-27\n",
        "   \n",
        "    return mfcc"
      ],
      "execution_count": 19,
      "outputs": []
    },
    {
      "cell_type": "code",
      "metadata": {
        "id": "fkek8DNjQcCf",
        "colab_type": "code",
        "colab": {
          "base_uri": "https://localhost:8080/",
          "height": 35
        },
        "outputId": "44854527-a01c-410e-b619-974a34f39d70"
      },
      "source": [
        "''' preparing the training data for the model '''\n",
        "x_train = []\n",
        "y_train = []\n",
        "for index,row in tqdm(train.iterrows()):\n",
        "        file = row['file']\n",
        "        emotion = row['emotion']\n",
        "        with soundfile.SoundFile(file) as sound_file:\n",
        "            signal = sound_file.read(dtype=\"float32\")\n",
        "            sample_rate=sound_file.samplerate\n",
        "            mfcc = np.mean(find_mfcc(signal, sample_rate, 26), axis=0)\n",
        "            x_train.append(mfcc)\n",
        "            y_train.append(emotion)\n"
      ],
      "execution_count": 20,
      "outputs": [
        {
          "output_type": "stream",
          "text": [
            "537it [00:07, 72.74it/s]\n"
          ],
          "name": "stderr"
        }
      ]
    },
    {
      "cell_type": "code",
      "metadata": {
        "id": "QnAzPn9OQejO",
        "colab_type": "code",
        "colab": {
          "base_uri": "https://localhost:8080/",
          "height": 35
        },
        "outputId": "54d92d5b-80a1-45c2-f2be-0518defce606"
      },
      "source": [
        "''' preparing the testing data for the model '''\n",
        "x_test = []\n",
        "y_test = []\n",
        "for index,row in tqdm(test.iterrows()):\n",
        "        file = row['file']\n",
        "        emotion = row['emotion']\n",
        "        with soundfile.SoundFile(file) as sound_file:\n",
        "            signal = sound_file.read(dtype=\"float32\")\n",
        "            sample_rate=sound_file.samplerate\n",
        "            mfcc = np.mean(find_mfcc(signal, sample_rate, 26), axis=0)\n",
        "            x_test.append(mfcc)\n",
        "            y_test.append(emotion)"
      ],
      "execution_count": 21,
      "outputs": [
        {
          "output_type": "stream",
          "text": [
            "135it [00:01, 74.00it/s]\n"
          ],
          "name": "stderr"
        }
      ]
    },
    {
      "cell_type": "code",
      "metadata": {
        "id": "XqyK_IPjQkgu",
        "colab_type": "code",
        "colab": {}
      },
      "source": [
        "''' converting all the training and testing data into numpy arrays '''\n",
        "x_test = np.array(x_test)\n",
        "y_test = np.array(y_test)\n",
        "x_train = np.array(x_train)\n",
        "y_train = np.array(y_train)"
      ],
      "execution_count": 22,
      "outputs": []
    },
    {
      "cell_type": "code",
      "metadata": {
        "id": "Pk4qvtgvQlYO",
        "colab_type": "code",
        "colab": {
          "base_uri": "https://localhost:8080/",
          "height": 35
        },
        "outputId": "7bda3f27-2080-4786-fe55-2a99c1411aa1"
      },
      "source": [
        "'''Performing LabelEncoding for the categorical output data '''\n",
        "from keras.utils import np_utils\n",
        "from sklearn.preprocessing import LabelEncoder"
      ],
      "execution_count": 23,
      "outputs": [
        {
          "output_type": "stream",
          "text": [
            "Using TensorFlow backend.\n"
          ],
          "name": "stderr"
        }
      ]
    },
    {
      "cell_type": "code",
      "metadata": {
        "id": "X1HZ810tQnst",
        "colab_type": "code",
        "colab": {}
      },
      "source": [
        "label = LabelEncoder()\n",
        "y_train = np_utils.to_categorical(label.fit_transform(y_train))\n",
        "y_test = np_utils.to_categorical(label.fit_transform(y_test))"
      ],
      "execution_count": 24,
      "outputs": []
    },
    {
      "cell_type": "code",
      "metadata": {
        "id": "lRbw0iL1Qp29",
        "colab_type": "code",
        "colab": {
          "base_uri": "https://localhost:8080/",
          "height": 90
        },
        "outputId": "3c6763ac-5de7-4748-c96e-75b834e980d7"
      },
      "source": [
        "print('x_train shape = ',x_train.shape)\n",
        "print('y_train shape = ',y_train.shape)\n",
        "print('x_test shape = ',x_test.shape)\n",
        "print('y_test shape = ',y_test.shape)"
      ],
      "execution_count": 25,
      "outputs": [
        {
          "output_type": "stream",
          "text": [
            "x_train shape =  (537, 26)\n",
            "y_train shape =  (537, 4)\n",
            "x_test shape =  (135, 26)\n",
            "y_test shape =  (135, 4)\n"
          ],
          "name": "stdout"
        }
      ]
    },
    {
      "cell_type": "code",
      "metadata": {
        "id": "WNyNzGb2QuCM",
        "colab_type": "code",
        "colab": {
          "base_uri": "https://localhost:8080/",
          "height": 35
        },
        "outputId": "174eff8a-864c-4e04-8a67-92b13af18643"
      },
      "source": [
        "num_features = x_train.shape[1]\n",
        "# Get the number of features extracted\n",
        "print(f'Features extracted: {x_train.shape[1]}')"
      ],
      "execution_count": 26,
      "outputs": [
        {
          "output_type": "stream",
          "text": [
            "Features extracted: 26\n"
          ],
          "name": "stdout"
        }
      ]
    },
    {
      "cell_type": "code",
      "metadata": {
        "id": "33fNcQlrQy5a",
        "colab_type": "code",
        "colab": {}
      },
      "source": [
        "''' imports required for MLP classifier '''\n",
        "from sklearn.neural_network import MLPClassifier\n",
        "from sklearn.metrics import accuracy_score"
      ],
      "execution_count": 27,
      "outputs": []
    },
    {
      "cell_type": "code",
      "metadata": {
        "id": "lkuQM0zbQzoN",
        "colab_type": "code",
        "colab": {}
      },
      "source": [
        "#Initializing the Multi Layer Perceptron Classifier\n",
        "MLP_model = MLPClassifier(alpha=0.01, batch_size=256, epsilon=1e-08, \n",
        "                    hidden_layer_sizes=(300,), learning_rate='adaptive', max_iter=500,verbose=1)"
      ],
      "execution_count": 28,
      "outputs": []
    },
    {
      "cell_type": "code",
      "metadata": {
        "id": "meYbMqXsQ237",
        "colab_type": "code",
        "colab": {
          "base_uri": "https://localhost:8080/",
          "height": 1000
        },
        "outputId": "2fcd5651-adec-4c16-f956-239ed7ac2a16"
      },
      "source": [
        "#Training the model\n",
        "MLP_model.fit(x_train,y_train)"
      ],
      "execution_count": 29,
      "outputs": [
        {
          "output_type": "stream",
          "text": [
            "Iteration 1, loss = 4.33032159\n",
            "Iteration 2, loss = 2.92149532\n",
            "Iteration 3, loss = 2.94872258\n",
            "Iteration 4, loss = 2.38523747\n",
            "Iteration 5, loss = 2.28862098\n",
            "Iteration 6, loss = 2.15523904\n",
            "Iteration 7, loss = 1.98535093\n",
            "Iteration 8, loss = 1.98911227\n",
            "Iteration 9, loss = 1.88689916\n",
            "Iteration 10, loss = 1.79001228\n",
            "Iteration 11, loss = 1.77876304\n",
            "Iteration 12, loss = 1.72925784\n",
            "Iteration 13, loss = 1.67593289\n",
            "Iteration 14, loss = 1.65585201\n",
            "Iteration 15, loss = 1.64801222\n",
            "Iteration 16, loss = 1.63292805\n",
            "Iteration 17, loss = 1.59925048\n",
            "Iteration 18, loss = 1.59185091\n",
            "Iteration 19, loss = 1.54431677\n",
            "Iteration 20, loss = 1.56201933\n",
            "Iteration 21, loss = 1.50423483\n",
            "Iteration 22, loss = 1.52125431\n",
            "Iteration 23, loss = 1.49989659\n",
            "Iteration 24, loss = 1.46519751\n",
            "Iteration 25, loss = 1.50483899\n",
            "Iteration 26, loss = 1.43986459\n",
            "Iteration 27, loss = 1.46735684\n",
            "Iteration 28, loss = 1.43224151\n",
            "Iteration 29, loss = 1.39082105\n",
            "Iteration 30, loss = 1.37799469\n",
            "Iteration 31, loss = 1.36468693\n",
            "Iteration 32, loss = 1.34951175\n",
            "Iteration 33, loss = 1.35415844\n",
            "Iteration 34, loss = 1.33007217\n",
            "Iteration 35, loss = 1.31468855\n",
            "Iteration 36, loss = 1.30593540\n",
            "Iteration 37, loss = 1.31617767\n",
            "Iteration 38, loss = 1.29482966\n",
            "Iteration 39, loss = 1.27791339\n",
            "Iteration 40, loss = 1.28024640\n",
            "Iteration 41, loss = 1.27677129\n",
            "Iteration 42, loss = 1.24871478\n",
            "Iteration 43, loss = 1.25143607\n",
            "Iteration 44, loss = 1.24671474\n",
            "Iteration 45, loss = 1.20516303\n",
            "Iteration 46, loss = 1.22565986\n",
            "Iteration 47, loss = 1.23173833\n",
            "Iteration 48, loss = 1.20587856\n",
            "Iteration 49, loss = 1.19945815\n",
            "Iteration 50, loss = 1.16378876\n",
            "Iteration 51, loss = 1.19055585\n",
            "Iteration 52, loss = 1.15249413\n",
            "Iteration 53, loss = 1.16447736\n",
            "Iteration 54, loss = 1.15770444\n",
            "Iteration 55, loss = 1.14936018\n",
            "Iteration 56, loss = 1.13251855\n",
            "Iteration 57, loss = 1.11655522\n",
            "Iteration 58, loss = 1.10292768\n",
            "Iteration 59, loss = 1.12045336\n",
            "Iteration 60, loss = 1.07867083\n",
            "Iteration 61, loss = 1.12204664\n",
            "Iteration 62, loss = 1.06880428\n",
            "Iteration 63, loss = 1.09432664\n",
            "Iteration 64, loss = 1.04652552\n",
            "Iteration 65, loss = 1.07872434\n",
            "Iteration 66, loss = 1.04792928\n",
            "Iteration 67, loss = 1.05199571\n",
            "Iteration 68, loss = 1.02819802\n",
            "Iteration 69, loss = 1.04786956\n",
            "Iteration 70, loss = 1.02116032\n",
            "Iteration 71, loss = 1.03716531\n",
            "Iteration 72, loss = 1.01931645\n",
            "Iteration 73, loss = 1.02404550\n",
            "Iteration 74, loss = 0.98222811\n",
            "Iteration 75, loss = 1.03211319\n",
            "Iteration 76, loss = 0.97361091\n",
            "Iteration 77, loss = 0.98077621\n",
            "Iteration 78, loss = 0.93861481\n",
            "Iteration 79, loss = 0.95737409\n",
            "Iteration 80, loss = 0.92290510\n",
            "Iteration 81, loss = 0.92768633\n",
            "Iteration 82, loss = 0.91015459\n",
            "Iteration 83, loss = 0.91905356\n",
            "Iteration 84, loss = 0.90521796\n",
            "Iteration 85, loss = 0.91110014\n",
            "Iteration 86, loss = 0.90367918\n",
            "Iteration 87, loss = 0.88913854\n",
            "Iteration 88, loss = 0.88172302\n",
            "Iteration 89, loss = 0.87461146\n",
            "Iteration 90, loss = 0.88057796\n",
            "Iteration 91, loss = 0.86242858\n",
            "Iteration 92, loss = 0.90533037\n",
            "Iteration 93, loss = 0.84566250\n",
            "Iteration 94, loss = 0.89291521\n",
            "Iteration 95, loss = 0.84415230\n",
            "Iteration 96, loss = 0.87954512\n",
            "Iteration 97, loss = 0.83078474\n",
            "Iteration 98, loss = 0.85103192\n",
            "Iteration 99, loss = 0.81791846\n",
            "Iteration 100, loss = 0.80928025\n",
            "Iteration 101, loss = 0.79550730\n",
            "Iteration 102, loss = 0.79508217\n",
            "Iteration 103, loss = 0.77942317\n",
            "Iteration 104, loss = 0.79408597\n",
            "Iteration 105, loss = 0.77064774\n",
            "Iteration 106, loss = 0.78434786\n",
            "Iteration 107, loss = 0.76831379\n",
            "Iteration 108, loss = 0.77240452\n",
            "Iteration 109, loss = 0.75696800\n",
            "Iteration 110, loss = 0.77157280\n",
            "Iteration 111, loss = 0.75682474\n",
            "Iteration 112, loss = 0.74508959\n",
            "Iteration 113, loss = 0.74776320\n",
            "Iteration 114, loss = 0.72901695\n",
            "Iteration 115, loss = 0.71830146\n",
            "Iteration 116, loss = 0.70556136\n",
            "Iteration 117, loss = 0.70655363\n",
            "Iteration 118, loss = 0.69888667\n",
            "Iteration 119, loss = 0.69129135\n",
            "Iteration 120, loss = 0.70339010\n",
            "Iteration 121, loss = 0.68468411\n",
            "Iteration 122, loss = 0.69046781\n",
            "Iteration 123, loss = 0.67114472\n",
            "Iteration 124, loss = 0.67939413\n",
            "Iteration 125, loss = 0.66511032\n",
            "Iteration 126, loss = 0.65650447\n",
            "Iteration 127, loss = 0.65881638\n",
            "Iteration 128, loss = 0.65292769\n",
            "Iteration 129, loss = 0.64952344\n",
            "Iteration 130, loss = 0.63964504\n",
            "Iteration 131, loss = 0.62557814\n",
            "Iteration 132, loss = 0.63922743\n",
            "Iteration 133, loss = 0.64011269\n",
            "Iteration 134, loss = 0.62690542\n",
            "Iteration 135, loss = 0.61954493\n",
            "Iteration 136, loss = 0.61531195\n",
            "Iteration 137, loss = 0.61699279\n",
            "Iteration 138, loss = 0.62935463\n",
            "Iteration 139, loss = 0.62589033\n",
            "Iteration 140, loss = 0.60321389\n",
            "Iteration 141, loss = 0.60192112\n",
            "Iteration 142, loss = 0.59183573\n",
            "Iteration 143, loss = 0.58103682\n",
            "Iteration 144, loss = 0.57527391\n",
            "Iteration 145, loss = 0.56739789\n",
            "Iteration 146, loss = 0.56351444\n",
            "Iteration 147, loss = 0.56565151\n",
            "Iteration 148, loss = 0.56060249\n",
            "Iteration 149, loss = 0.56018269\n",
            "Iteration 150, loss = 0.56149113\n",
            "Iteration 151, loss = 0.55472664\n",
            "Iteration 152, loss = 0.54508775\n",
            "Iteration 153, loss = 0.53892010\n",
            "Iteration 154, loss = 0.53953283\n",
            "Iteration 155, loss = 0.53212525\n",
            "Iteration 156, loss = 0.54215191\n",
            "Iteration 157, loss = 0.53045914\n",
            "Iteration 158, loss = 0.53225520\n",
            "Iteration 159, loss = 0.53648916\n",
            "Iteration 160, loss = 0.53000250\n",
            "Iteration 161, loss = 0.53460929\n",
            "Iteration 162, loss = 0.52719958\n",
            "Iteration 163, loss = 0.52474637\n",
            "Iteration 164, loss = 0.51433379\n",
            "Iteration 165, loss = 0.52728765\n",
            "Iteration 166, loss = 0.50808233\n",
            "Iteration 167, loss = 0.51904367\n",
            "Iteration 168, loss = 0.50360218\n",
            "Iteration 169, loss = 0.49963422\n",
            "Iteration 170, loss = 0.48221126\n",
            "Iteration 171, loss = 0.48126311\n",
            "Iteration 172, loss = 0.47199437\n",
            "Iteration 173, loss = 0.47909231\n",
            "Iteration 174, loss = 0.47599618\n",
            "Iteration 175, loss = 0.46602537\n",
            "Iteration 176, loss = 0.45883167\n",
            "Iteration 177, loss = 0.46714049\n",
            "Iteration 178, loss = 0.45896143\n",
            "Iteration 179, loss = 0.45866004\n",
            "Iteration 180, loss = 0.47138794\n",
            "Iteration 181, loss = 0.44675685\n",
            "Iteration 182, loss = 0.45388128\n",
            "Iteration 183, loss = 0.43943952\n",
            "Iteration 184, loss = 0.43513463\n",
            "Iteration 185, loss = 0.43770833\n",
            "Iteration 186, loss = 0.43068349\n",
            "Iteration 187, loss = 0.43253345\n",
            "Iteration 188, loss = 0.42152508\n",
            "Iteration 189, loss = 0.42359973\n",
            "Iteration 190, loss = 0.41387283\n",
            "Iteration 191, loss = 0.42897688\n",
            "Iteration 192, loss = 0.41181480\n",
            "Iteration 193, loss = 0.42725687\n",
            "Iteration 194, loss = 0.41328376\n",
            "Iteration 195, loss = 0.43589478\n",
            "Iteration 196, loss = 0.40604271\n",
            "Iteration 197, loss = 0.42487134\n",
            "Iteration 198, loss = 0.40658271\n",
            "Iteration 199, loss = 0.39712856\n",
            "Iteration 200, loss = 0.41296678\n",
            "Iteration 201, loss = 0.39369442\n",
            "Iteration 202, loss = 0.39117925\n",
            "Iteration 203, loss = 0.38740952\n",
            "Iteration 204, loss = 0.38430710\n",
            "Iteration 205, loss = 0.39608059\n",
            "Iteration 206, loss = 0.37695410\n",
            "Iteration 207, loss = 0.39284223\n",
            "Iteration 208, loss = 0.38759816\n",
            "Iteration 209, loss = 0.37782581\n",
            "Iteration 210, loss = 0.38146487\n",
            "Iteration 211, loss = 0.36956022\n",
            "Iteration 212, loss = 0.35864122\n",
            "Iteration 213, loss = 0.35812961\n",
            "Iteration 214, loss = 0.36227788\n",
            "Iteration 215, loss = 0.36427533\n",
            "Iteration 216, loss = 0.35516644\n",
            "Iteration 217, loss = 0.34215230\n",
            "Iteration 218, loss = 0.34428188\n",
            "Iteration 219, loss = 0.34684645\n",
            "Iteration 220, loss = 0.34378018\n",
            "Iteration 221, loss = 0.34326724\n",
            "Iteration 222, loss = 0.33289983\n",
            "Iteration 223, loss = 0.33271396\n",
            "Iteration 224, loss = 0.33017187\n",
            "Iteration 225, loss = 0.32530529\n",
            "Iteration 226, loss = 0.32269471\n",
            "Iteration 227, loss = 0.32370986\n",
            "Iteration 228, loss = 0.32248525\n",
            "Iteration 229, loss = 0.31796864\n",
            "Iteration 230, loss = 0.31133629\n",
            "Iteration 231, loss = 0.31196174\n",
            "Iteration 232, loss = 0.31744978\n",
            "Iteration 233, loss = 0.31137861\n",
            "Iteration 234, loss = 0.31495309\n",
            "Iteration 235, loss = 0.31655896\n",
            "Iteration 236, loss = 0.30350358\n",
            "Iteration 237, loss = 0.30919302\n",
            "Iteration 238, loss = 0.29761500\n",
            "Iteration 239, loss = 0.31192855\n",
            "Iteration 240, loss = 0.29431925\n",
            "Iteration 241, loss = 0.30904164\n",
            "Iteration 242, loss = 0.29775129\n",
            "Iteration 243, loss = 0.29600653\n",
            "Iteration 244, loss = 0.29900305\n",
            "Iteration 245, loss = 0.28577430\n",
            "Iteration 246, loss = 0.29211069\n",
            "Iteration 247, loss = 0.30203857\n",
            "Iteration 248, loss = 0.28922078\n",
            "Iteration 249, loss = 0.29098393\n",
            "Iteration 250, loss = 0.27898582\n",
            "Iteration 251, loss = 0.28508367\n",
            "Iteration 252, loss = 0.28055049\n",
            "Iteration 253, loss = 0.27192826\n",
            "Iteration 254, loss = 0.27179888\n",
            "Iteration 255, loss = 0.26700646\n",
            "Iteration 256, loss = 0.26911641\n",
            "Iteration 257, loss = 0.26685633\n",
            "Iteration 258, loss = 0.26041330\n",
            "Iteration 259, loss = 0.27067178\n",
            "Iteration 260, loss = 0.26371908\n",
            "Iteration 261, loss = 0.27963419\n",
            "Iteration 262, loss = 0.25665251\n",
            "Iteration 263, loss = 0.27429635\n",
            "Iteration 264, loss = 0.25389731\n",
            "Iteration 265, loss = 0.25210224\n",
            "Iteration 266, loss = 0.24662792\n",
            "Iteration 267, loss = 0.26107513\n",
            "Iteration 268, loss = 0.25303171\n",
            "Iteration 269, loss = 0.24426469\n",
            "Iteration 270, loss = 0.23990948\n",
            "Iteration 271, loss = 0.23920410\n",
            "Iteration 272, loss = 0.23744224\n",
            "Iteration 273, loss = 0.23959830\n",
            "Iteration 274, loss = 0.23368085\n",
            "Iteration 275, loss = 0.23085249\n",
            "Iteration 276, loss = 0.23970961\n",
            "Iteration 277, loss = 0.23098970\n",
            "Iteration 278, loss = 0.23314567\n",
            "Iteration 279, loss = 0.22529161\n",
            "Iteration 280, loss = 0.22829464\n",
            "Iteration 281, loss = 0.22919684\n",
            "Iteration 282, loss = 0.22035317\n",
            "Iteration 283, loss = 0.22741052\n",
            "Iteration 284, loss = 0.22141555\n",
            "Iteration 285, loss = 0.22838646\n",
            "Iteration 286, loss = 0.22418670\n",
            "Iteration 287, loss = 0.21732080\n",
            "Iteration 288, loss = 0.21624420\n",
            "Iteration 289, loss = 0.21477875\n",
            "Iteration 290, loss = 0.21559914\n",
            "Iteration 291, loss = 0.21068546\n",
            "Iteration 292, loss = 0.21628318\n",
            "Iteration 293, loss = 0.20651449\n",
            "Iteration 294, loss = 0.21921265\n",
            "Iteration 295, loss = 0.20903384\n",
            "Iteration 296, loss = 0.21175952\n",
            "Iteration 297, loss = 0.21202182\n",
            "Iteration 298, loss = 0.20658221\n",
            "Iteration 299, loss = 0.20113600\n",
            "Iteration 300, loss = 0.20525857\n",
            "Iteration 301, loss = 0.19920497\n",
            "Iteration 302, loss = 0.20111877\n",
            "Iteration 303, loss = 0.20265298\n",
            "Iteration 304, loss = 0.19244849\n",
            "Iteration 305, loss = 0.19638825\n",
            "Iteration 306, loss = 0.19216808\n",
            "Iteration 307, loss = 0.18514678\n",
            "Iteration 308, loss = 0.18777158\n",
            "Iteration 309, loss = 0.18886812\n",
            "Iteration 310, loss = 0.18999149\n",
            "Iteration 311, loss = 0.18748022\n",
            "Iteration 312, loss = 0.18472037\n",
            "Iteration 313, loss = 0.18756653\n",
            "Iteration 314, loss = 0.17909521\n",
            "Iteration 315, loss = 0.18275805\n",
            "Iteration 316, loss = 0.18699602\n",
            "Iteration 317, loss = 0.17801078\n",
            "Iteration 318, loss = 0.17701416\n",
            "Iteration 319, loss = 0.17538849\n",
            "Iteration 320, loss = 0.17541682\n",
            "Iteration 321, loss = 0.18325172\n",
            "Iteration 322, loss = 0.17371062\n",
            "Iteration 323, loss = 0.17899156\n",
            "Iteration 324, loss = 0.17814948\n",
            "Iteration 325, loss = 0.16661521\n",
            "Iteration 326, loss = 0.17342838\n",
            "Iteration 327, loss = 0.17068277\n",
            "Iteration 328, loss = 0.16588063\n",
            "Iteration 329, loss = 0.16518173\n",
            "Iteration 330, loss = 0.16952348\n",
            "Iteration 331, loss = 0.16508611\n",
            "Iteration 332, loss = 0.16514424\n",
            "Iteration 333, loss = 0.16129689\n",
            "Iteration 334, loss = 0.17092213\n",
            "Iteration 335, loss = 0.16143326\n",
            "Iteration 336, loss = 0.17846829\n",
            "Iteration 337, loss = 0.16066546\n",
            "Iteration 338, loss = 0.17058372\n",
            "Iteration 339, loss = 0.15608782\n",
            "Iteration 340, loss = 0.15472469\n",
            "Iteration 341, loss = 0.15249955\n",
            "Iteration 342, loss = 0.15247977\n",
            "Iteration 343, loss = 0.15209420\n",
            "Iteration 344, loss = 0.14769568\n",
            "Iteration 345, loss = 0.14616653\n",
            "Iteration 346, loss = 0.14496826\n",
            "Iteration 347, loss = 0.15101641\n",
            "Iteration 348, loss = 0.14373464\n",
            "Iteration 349, loss = 0.15533702\n",
            "Iteration 350, loss = 0.14508168\n",
            "Iteration 351, loss = 0.15672085\n",
            "Iteration 352, loss = 0.14457632\n",
            "Iteration 353, loss = 0.14571742\n",
            "Iteration 354, loss = 0.14223392\n",
            "Iteration 355, loss = 0.14017451\n",
            "Iteration 356, loss = 0.15350679\n",
            "Iteration 357, loss = 0.13745718\n",
            "Iteration 358, loss = 0.14715938\n",
            "Iteration 359, loss = 0.14191040\n",
            "Iteration 360, loss = 0.13473923\n",
            "Iteration 361, loss = 0.13564214\n",
            "Iteration 362, loss = 0.14085321\n",
            "Iteration 363, loss = 0.13587227\n",
            "Iteration 364, loss = 0.13322378\n",
            "Iteration 365, loss = 0.13556280\n",
            "Iteration 366, loss = 0.13325822\n",
            "Iteration 367, loss = 0.13165348\n",
            "Iteration 368, loss = 0.12969581\n",
            "Iteration 369, loss = 0.13193693\n",
            "Iteration 370, loss = 0.12734453\n",
            "Iteration 371, loss = 0.13100952\n",
            "Iteration 372, loss = 0.12931058\n",
            "Iteration 373, loss = 0.12825567\n",
            "Iteration 374, loss = 0.12418381\n",
            "Iteration 375, loss = 0.12526794\n",
            "Iteration 376, loss = 0.12225778\n",
            "Iteration 377, loss = 0.12583350\n",
            "Iteration 378, loss = 0.12536595\n",
            "Iteration 379, loss = 0.12010481\n",
            "Iteration 380, loss = 0.12135510\n",
            "Iteration 381, loss = 0.12133856\n",
            "Iteration 382, loss = 0.11763253\n",
            "Iteration 383, loss = 0.11723649\n",
            "Iteration 384, loss = 0.11570906\n",
            "Iteration 385, loss = 0.11539736\n",
            "Iteration 386, loss = 0.11522878\n",
            "Iteration 387, loss = 0.11511556\n",
            "Iteration 388, loss = 0.11292336\n",
            "Iteration 389, loss = 0.11378804\n",
            "Iteration 390, loss = 0.11319591\n",
            "Iteration 391, loss = 0.11244130\n",
            "Iteration 392, loss = 0.11264560\n",
            "Iteration 393, loss = 0.11230649\n",
            "Iteration 394, loss = 0.11271335\n",
            "Iteration 395, loss = 0.11039958\n",
            "Iteration 396, loss = 0.11028251\n",
            "Iteration 397, loss = 0.10855241\n",
            "Iteration 398, loss = 0.11291273\n",
            "Iteration 399, loss = 0.10907172\n",
            "Iteration 400, loss = 0.10624663\n",
            "Iteration 401, loss = 0.10944805\n",
            "Iteration 402, loss = 0.11042477\n",
            "Iteration 403, loss = 0.10659694\n",
            "Iteration 404, loss = 0.11111664\n",
            "Iteration 405, loss = 0.10775382\n",
            "Iteration 406, loss = 0.10342530\n",
            "Iteration 407, loss = 0.10544354\n",
            "Iteration 408, loss = 0.10470107\n",
            "Iteration 409, loss = 0.10459912\n",
            "Iteration 410, loss = 0.10461328\n",
            "Iteration 411, loss = 0.10032932\n",
            "Iteration 412, loss = 0.10348333\n",
            "Iteration 413, loss = 0.10101944\n",
            "Iteration 414, loss = 0.10728279\n",
            "Iteration 415, loss = 0.10281297\n",
            "Iteration 416, loss = 0.10683974\n",
            "Iteration 417, loss = 0.10189685\n",
            "Iteration 418, loss = 0.10715119\n",
            "Iteration 419, loss = 0.09917461\n",
            "Iteration 420, loss = 0.10349166\n",
            "Iteration 421, loss = 0.09969954\n",
            "Iteration 422, loss = 0.09950055\n",
            "Iteration 423, loss = 0.09722756\n",
            "Iteration 424, loss = 0.09596121\n",
            "Iteration 425, loss = 0.09586271\n",
            "Iteration 426, loss = 0.09462825\n",
            "Iteration 427, loss = 0.09382359\n",
            "Iteration 428, loss = 0.09463112\n",
            "Iteration 429, loss = 0.09293930\n",
            "Iteration 430, loss = 0.09299904\n",
            "Iteration 431, loss = 0.09150198\n",
            "Iteration 432, loss = 0.09214578\n",
            "Iteration 433, loss = 0.09236999\n",
            "Iteration 434, loss = 0.09017413\n",
            "Iteration 435, loss = 0.09024713\n",
            "Iteration 436, loss = 0.08979198\n",
            "Iteration 437, loss = 0.09003556\n",
            "Iteration 438, loss = 0.09289288\n",
            "Iteration 439, loss = 0.08827381\n",
            "Iteration 440, loss = 0.08617120\n",
            "Iteration 441, loss = 0.08762419\n",
            "Iteration 442, loss = 0.08608502\n",
            "Iteration 443, loss = 0.08556126\n",
            "Iteration 444, loss = 0.08798240\n",
            "Iteration 445, loss = 0.08567848\n",
            "Iteration 446, loss = 0.08398427\n",
            "Iteration 447, loss = 0.08427105\n",
            "Iteration 448, loss = 0.08587084\n",
            "Iteration 449, loss = 0.08507438\n",
            "Iteration 450, loss = 0.08326785\n",
            "Iteration 451, loss = 0.08401494\n",
            "Iteration 452, loss = 0.08254669\n",
            "Iteration 453, loss = 0.08304107\n",
            "Iteration 454, loss = 0.08178906\n",
            "Iteration 455, loss = 0.08031295\n",
            "Iteration 456, loss = 0.08086723\n",
            "Iteration 457, loss = 0.08027042\n",
            "Iteration 458, loss = 0.08542051\n",
            "Iteration 459, loss = 0.08163224\n",
            "Iteration 460, loss = 0.07971005\n",
            "Iteration 461, loss = 0.08036534\n",
            "Iteration 462, loss = 0.07854862\n",
            "Iteration 463, loss = 0.07883509\n",
            "Iteration 464, loss = 0.07860021\n",
            "Iteration 465, loss = 0.07938355\n",
            "Iteration 466, loss = 0.07721221\n",
            "Iteration 467, loss = 0.07640484\n",
            "Iteration 468, loss = 0.07545640\n",
            "Iteration 469, loss = 0.07497962\n",
            "Iteration 470, loss = 0.07425227\n",
            "Iteration 471, loss = 0.07448818\n",
            "Iteration 472, loss = 0.07398085\n",
            "Iteration 473, loss = 0.07465627\n",
            "Iteration 474, loss = 0.07311023\n",
            "Iteration 475, loss = 0.07354996\n",
            "Iteration 476, loss = 0.07408857\n",
            "Iteration 477, loss = 0.07601968\n",
            "Iteration 478, loss = 0.07243295\n",
            "Iteration 479, loss = 0.07329584\n",
            "Iteration 480, loss = 0.07471368\n",
            "Iteration 481, loss = 0.07187828\n",
            "Iteration 482, loss = 0.07335120\n",
            "Iteration 483, loss = 0.07227105\n",
            "Iteration 484, loss = 0.07027770\n",
            "Iteration 485, loss = 0.07042231\n",
            "Iteration 486, loss = 0.07073148\n",
            "Iteration 487, loss = 0.07032455\n",
            "Iteration 488, loss = 0.07522032\n",
            "Iteration 489, loss = 0.06911553\n",
            "Iteration 490, loss = 0.07423596\n",
            "Iteration 491, loss = 0.07048891\n",
            "Iteration 492, loss = 0.07408767\n",
            "Iteration 493, loss = 0.07315757\n",
            "Iteration 494, loss = 0.07009993\n",
            "Iteration 495, loss = 0.06727284\n",
            "Iteration 496, loss = 0.06865484\n",
            "Iteration 497, loss = 0.06870049\n",
            "Iteration 498, loss = 0.06664779\n",
            "Iteration 499, loss = 0.06644859\n",
            "Iteration 500, loss = 0.06744759\n"
          ],
          "name": "stdout"
        },
        {
          "output_type": "stream",
          "text": [
            "/usr/local/lib/python3.6/dist-packages/sklearn/neural_network/_multilayer_perceptron.py:571: ConvergenceWarning: Stochastic Optimizer: Maximum iterations (500) reached and the optimization hasn't converged yet.\n",
            "  % self.max_iter, ConvergenceWarning)\n"
          ],
          "name": "stderr"
        },
        {
          "output_type": "execute_result",
          "data": {
            "text/plain": [
              "MLPClassifier(activation='relu', alpha=0.01, batch_size=256, beta_1=0.9,\n",
              "              beta_2=0.999, early_stopping=False, epsilon=1e-08,\n",
              "              hidden_layer_sizes=(300,), learning_rate='adaptive',\n",
              "              learning_rate_init=0.001, max_fun=15000, max_iter=500,\n",
              "              momentum=0.9, n_iter_no_change=10, nesterovs_momentum=True,\n",
              "              power_t=0.5, random_state=None, shuffle=True, solver='adam',\n",
              "              tol=0.0001, validation_fraction=0.1, verbose=1, warm_start=False)"
            ]
          },
          "metadata": {
            "tags": []
          },
          "execution_count": 29
        }
      ]
    },
    {
      "cell_type": "code",
      "metadata": {
        "id": "HNs-wgHJQ5Fj",
        "colab_type": "code",
        "colab": {}
      },
      "source": [
        "#Predicting the results for the test set data\n",
        "y_pred=MLP_model.predict(x_test)"
      ],
      "execution_count": 30,
      "outputs": []
    },
    {
      "cell_type": "code",
      "metadata": {
        "id": "q_EKQC84Q8bB",
        "colab_type": "code",
        "colab": {
          "base_uri": "https://localhost:8080/",
          "height": 35
        },
        "outputId": "0bf3c01e-793a-4bb6-bfb8-b4389dabeb2b"
      },
      "source": [
        "#Calculate the accuracy of our model\n",
        "accuracy=accuracy_score(y_true=y_test, y_pred=y_pred)\n",
        "#Print the accuracy\n",
        "print(\"Accuracy: {:.2f}%\".format(accuracy*100))"
      ],
      "execution_count": 31,
      "outputs": [
        {
          "output_type": "stream",
          "text": [
            "Accuracy: 63.70%\n"
          ],
          "name": "stdout"
        }
      ]
    },
    {
      "cell_type": "code",
      "metadata": {
        "id": "utOSghEERLtB",
        "colab_type": "code",
        "colab": {}
      },
      "source": [
        "''' imports required for CNN model '''\n",
        "import keras\n",
        "from tensorflow.keras.models import Sequential\n",
        "from tensorflow.keras.layers import Dense,Conv1D,Flatten \n",
        "from tensorflow.keras.layers import MaxPooling1D,Dropout"
      ],
      "execution_count": 32,
      "outputs": []
    },
    {
      "cell_type": "code",
      "metadata": {
        "id": "GjMtuIBV1dqs",
        "colab_type": "code",
        "colab": {}
      },
      "source": [
        "''' reshaping data before feeding into the model '''\n",
        "input_shape = (num_features,1)\n",
        "num_files = x_train.shape[0]\n",
        "x_train = x_train.reshape(num_files,num_features,1)"
      ],
      "execution_count": 33,
      "outputs": []
    },
    {
      "cell_type": "code",
      "metadata": {
        "id": "Qvw-LdhxRN9X",
        "colab_type": "code",
        "colab": {
          "base_uri": "https://localhost:8080/",
          "height": 92
        },
        "outputId": "4d29348d-2e92-41d3-8283-f6c2c721afad"
      },
      "source": [
        "''' CNN model '''\n",
        "cnn_model = Sequential()\n",
        "cnn_model.add(Conv1D(32, kernel_size=(3), input_shape=input_shape))\n",
        "cnn_model.add(Conv1D(64, kernel_size=(3)))\n",
        "cnn_model.add(Conv1D(128, kernel_size=(3)))\n",
        "cnn_model.add(MaxPooling1D(3))\n",
        "cnn_model.add(Conv1D(64, kernel_size=(3)))\n",
        "cnn_model.add(Conv1D(32, kernel_size=(3)))\n",
        "cnn_model.add(Flatten())\n",
        "cnn_model.add(Dropout(0.5))\n",
        "cnn_model.add(Dense(128, activation='relu'))\n",
        "cnn_model.add(Dense(12, activation='relu'))\n",
        "cnn_model.add(Dense(4, activation='softmax'))"
      ],
      "execution_count": 34,
      "outputs": [
        {
          "output_type": "stream",
          "text": [
            "WARNING:tensorflow:From /tensorflow-1.15.2/python3.6/tensorflow_core/python/ops/resource_variable_ops.py:1630: calling BaseResourceVariable.__init__ (from tensorflow.python.ops.resource_variable_ops) with constraint is deprecated and will be removed in a future version.\n",
            "Instructions for updating:\n",
            "If using Keras pass *_constraint arguments to layers.\n"
          ],
          "name": "stdout"
        }
      ]
    },
    {
      "cell_type": "code",
      "metadata": {
        "id": "fGLx7l7cRRBm",
        "colab_type": "code",
        "colab": {
          "base_uri": "https://localhost:8080/",
          "height": 562
        },
        "outputId": "85a94dec-24a3-4063-f7eb-bffdd4f8bac9"
      },
      "source": [
        "''' compiling the model and printing summary '''\n",
        "cnn_model.compile(loss='categorical_crossentropy', optimizer='adam', metrics=['accuracy'])\n",
        "cnn_model.summary()"
      ],
      "execution_count": 35,
      "outputs": [
        {
          "output_type": "stream",
          "text": [
            "Model: \"sequential\"\n",
            "_________________________________________________________________\n",
            "Layer (type)                 Output Shape              Param #   \n",
            "=================================================================\n",
            "conv1d (Conv1D)              (None, 24, 32)            128       \n",
            "_________________________________________________________________\n",
            "conv1d_1 (Conv1D)            (None, 22, 64)            6208      \n",
            "_________________________________________________________________\n",
            "conv1d_2 (Conv1D)            (None, 20, 128)           24704     \n",
            "_________________________________________________________________\n",
            "max_pooling1d (MaxPooling1D) (None, 6, 128)            0         \n",
            "_________________________________________________________________\n",
            "conv1d_3 (Conv1D)            (None, 4, 64)             24640     \n",
            "_________________________________________________________________\n",
            "conv1d_4 (Conv1D)            (None, 2, 32)             6176      \n",
            "_________________________________________________________________\n",
            "flatten (Flatten)            (None, 64)                0         \n",
            "_________________________________________________________________\n",
            "dropout (Dropout)            (None, 64)                0         \n",
            "_________________________________________________________________\n",
            "dense (Dense)                (None, 128)               8320      \n",
            "_________________________________________________________________\n",
            "dense_1 (Dense)              (None, 12)                1548      \n",
            "_________________________________________________________________\n",
            "dense_2 (Dense)              (None, 4)                 52        \n",
            "=================================================================\n",
            "Total params: 71,776\n",
            "Trainable params: 71,776\n",
            "Non-trainable params: 0\n",
            "_________________________________________________________________\n"
          ],
          "name": "stdout"
        }
      ]
    },
    {
      "cell_type": "code",
      "metadata": {
        "id": "kGPRFQh-RVG1",
        "colab_type": "code",
        "colab": {
          "base_uri": "https://localhost:8080/",
          "height": 1000
        },
        "outputId": "0d625916-0937-4c30-e0a9-53b8c7169fe4"
      },
      "source": [
        "''' CNN model training '''\n",
        "final = cnn_model.fit(x_train, y_train, epochs=500,verbose=1, batch_size=256, validation_split=0.2)"
      ],
      "execution_count": 36,
      "outputs": [
        {
          "output_type": "stream",
          "text": [
            "Train on 429 samples, validate on 108 samples\n",
            "Epoch 1/500\n",
            "429/429 [==============================] - 7s 17ms/sample - loss: 2.1944 - acc: 0.1981 - val_loss: 1.5620 - val_acc: 0.2870\n",
            "Epoch 2/500\n",
            "429/429 [==============================] - 0s 45us/sample - loss: 1.6658 - acc: 0.2844 - val_loss: 1.4485 - val_acc: 0.2685\n",
            "Epoch 3/500\n",
            "429/429 [==============================] - 0s 43us/sample - loss: 1.5560 - acc: 0.2378 - val_loss: 1.3989 - val_acc: 0.2130\n",
            "Epoch 4/500\n",
            "429/429 [==============================] - 0s 75us/sample - loss: 1.4293 - acc: 0.2937 - val_loss: 1.3454 - val_acc: 0.4444\n",
            "Epoch 5/500\n",
            "429/429 [==============================] - 0s 45us/sample - loss: 1.3733 - acc: 0.3100 - val_loss: 1.3299 - val_acc: 0.3241\n",
            "Epoch 6/500\n",
            "429/429 [==============================] - 0s 42us/sample - loss: 1.3802 - acc: 0.3077 - val_loss: 1.3222 - val_acc: 0.3056\n",
            "Epoch 7/500\n",
            "429/429 [==============================] - 0s 43us/sample - loss: 1.3818 - acc: 0.3310 - val_loss: 1.3057 - val_acc: 0.3241\n",
            "Epoch 8/500\n",
            "429/429 [==============================] - 0s 47us/sample - loss: 1.3510 - acc: 0.3077 - val_loss: 1.3010 - val_acc: 0.3704\n",
            "Epoch 9/500\n",
            "429/429 [==============================] - 0s 48us/sample - loss: 1.3416 - acc: 0.3310 - val_loss: 1.3051 - val_acc: 0.4167\n",
            "Epoch 10/500\n",
            "429/429 [==============================] - 0s 63us/sample - loss: 1.3440 - acc: 0.3263 - val_loss: 1.2991 - val_acc: 0.4722\n",
            "Epoch 11/500\n",
            "429/429 [==============================] - 0s 50us/sample - loss: 1.3090 - acc: 0.3473 - val_loss: 1.2649 - val_acc: 0.4630\n",
            "Epoch 12/500\n",
            "429/429 [==============================] - 0s 48us/sample - loss: 1.3014 - acc: 0.3613 - val_loss: 1.2371 - val_acc: 0.4444\n",
            "Epoch 13/500\n",
            "429/429 [==============================] - 0s 52us/sample - loss: 1.2763 - acc: 0.4033 - val_loss: 1.2212 - val_acc: 0.4074\n",
            "Epoch 14/500\n",
            "429/429 [==============================] - 0s 48us/sample - loss: 1.2928 - acc: 0.3333 - val_loss: 1.2108 - val_acc: 0.4074\n",
            "Epoch 15/500\n",
            "429/429 [==============================] - 0s 53us/sample - loss: 1.2589 - acc: 0.3753 - val_loss: 1.2158 - val_acc: 0.3981\n",
            "Epoch 16/500\n",
            "429/429 [==============================] - 0s 51us/sample - loss: 1.2483 - acc: 0.3566 - val_loss: 1.2146 - val_acc: 0.4444\n",
            "Epoch 17/500\n",
            "429/429 [==============================] - 0s 56us/sample - loss: 1.2499 - acc: 0.3846 - val_loss: 1.2047 - val_acc: 0.4630\n",
            "Epoch 18/500\n",
            "429/429 [==============================] - 0s 52us/sample - loss: 1.2391 - acc: 0.4266 - val_loss: 1.1944 - val_acc: 0.4815\n",
            "Epoch 19/500\n",
            "429/429 [==============================] - 0s 44us/sample - loss: 1.2105 - acc: 0.4103 - val_loss: 1.1763 - val_acc: 0.5278\n",
            "Epoch 20/500\n",
            "429/429 [==============================] - 0s 45us/sample - loss: 1.2263 - acc: 0.4452 - val_loss: 1.1439 - val_acc: 0.5741\n",
            "Epoch 21/500\n",
            "429/429 [==============================] - 0s 61us/sample - loss: 1.1776 - acc: 0.4569 - val_loss: 1.1103 - val_acc: 0.5648\n",
            "Epoch 22/500\n",
            "429/429 [==============================] - 0s 51us/sample - loss: 1.1706 - acc: 0.4522 - val_loss: 1.0856 - val_acc: 0.5741\n",
            "Epoch 23/500\n",
            "429/429 [==============================] - 0s 50us/sample - loss: 1.1812 - acc: 0.4545 - val_loss: 1.0702 - val_acc: 0.6111\n",
            "Epoch 24/500\n",
            "429/429 [==============================] - 0s 48us/sample - loss: 1.1200 - acc: 0.5152 - val_loss: 1.0522 - val_acc: 0.6389\n",
            "Epoch 25/500\n",
            "429/429 [==============================] - 0s 54us/sample - loss: 1.1263 - acc: 0.5291 - val_loss: 1.0213 - val_acc: 0.6481\n",
            "Epoch 26/500\n",
            "429/429 [==============================] - 0s 50us/sample - loss: 1.1205 - acc: 0.5198 - val_loss: 1.0045 - val_acc: 0.6204\n",
            "Epoch 27/500\n",
            "429/429 [==============================] - 0s 50us/sample - loss: 1.0780 - acc: 0.5688 - val_loss: 0.9922 - val_acc: 0.6574\n",
            "Epoch 28/500\n",
            "429/429 [==============================] - 0s 60us/sample - loss: 1.0639 - acc: 0.5455 - val_loss: 0.9968 - val_acc: 0.6296\n",
            "Epoch 29/500\n",
            "429/429 [==============================] - 0s 45us/sample - loss: 1.0493 - acc: 0.5851 - val_loss: 0.9555 - val_acc: 0.6852\n",
            "Epoch 30/500\n",
            "429/429 [==============================] - 0s 46us/sample - loss: 0.9768 - acc: 0.6177 - val_loss: 0.9331 - val_acc: 0.6574\n",
            "Epoch 31/500\n",
            "429/429 [==============================] - 0s 52us/sample - loss: 0.9681 - acc: 0.6270 - val_loss: 0.9134 - val_acc: 0.6667\n",
            "Epoch 32/500\n",
            "429/429 [==============================] - 0s 45us/sample - loss: 0.9986 - acc: 0.6177 - val_loss: 0.9086 - val_acc: 0.6667\n",
            "Epoch 33/500\n",
            "429/429 [==============================] - 0s 48us/sample - loss: 0.9915 - acc: 0.5804 - val_loss: 0.8843 - val_acc: 0.6481\n",
            "Epoch 34/500\n",
            "429/429 [==============================] - 0s 45us/sample - loss: 0.9501 - acc: 0.6200 - val_loss: 0.8615 - val_acc: 0.6574\n",
            "Epoch 35/500\n",
            "429/429 [==============================] - 0s 47us/sample - loss: 0.9219 - acc: 0.6154 - val_loss: 0.8510 - val_acc: 0.6481\n",
            "Epoch 36/500\n",
            "429/429 [==============================] - 0s 49us/sample - loss: 0.9098 - acc: 0.6270 - val_loss: 0.8416 - val_acc: 0.6759\n",
            "Epoch 37/500\n",
            "429/429 [==============================] - 0s 50us/sample - loss: 0.8708 - acc: 0.6550 - val_loss: 0.8356 - val_acc: 0.6759\n",
            "Epoch 38/500\n",
            "429/429 [==============================] - 0s 46us/sample - loss: 0.8673 - acc: 0.6573 - val_loss: 0.8274 - val_acc: 0.7037\n",
            "Epoch 39/500\n",
            "429/429 [==============================] - 0s 52us/sample - loss: 0.8313 - acc: 0.6573 - val_loss: 0.8028 - val_acc: 0.7222\n",
            "Epoch 40/500\n",
            "429/429 [==============================] - 0s 53us/sample - loss: 0.7984 - acc: 0.6760 - val_loss: 0.7936 - val_acc: 0.7222\n",
            "Epoch 41/500\n",
            "429/429 [==============================] - 0s 51us/sample - loss: 0.7949 - acc: 0.6713 - val_loss: 0.7889 - val_acc: 0.7222\n",
            "Epoch 42/500\n",
            "429/429 [==============================] - 0s 51us/sample - loss: 0.8029 - acc: 0.6667 - val_loss: 0.7811 - val_acc: 0.7130\n",
            "Epoch 43/500\n",
            "429/429 [==============================] - 0s 60us/sample - loss: 0.7630 - acc: 0.7086 - val_loss: 0.7758 - val_acc: 0.6944\n",
            "Epoch 44/500\n",
            "429/429 [==============================] - 0s 56us/sample - loss: 0.7393 - acc: 0.7040 - val_loss: 0.7623 - val_acc: 0.7037\n",
            "Epoch 45/500\n",
            "429/429 [==============================] - 0s 50us/sample - loss: 0.7494 - acc: 0.6853 - val_loss: 0.7590 - val_acc: 0.7037\n",
            "Epoch 46/500\n",
            "429/429 [==============================] - 0s 47us/sample - loss: 0.7518 - acc: 0.7203 - val_loss: 0.7279 - val_acc: 0.7222\n",
            "Epoch 47/500\n",
            "429/429 [==============================] - 0s 50us/sample - loss: 0.7345 - acc: 0.7156 - val_loss: 0.7171 - val_acc: 0.7037\n",
            "Epoch 48/500\n",
            "429/429 [==============================] - 0s 46us/sample - loss: 0.7296 - acc: 0.6876 - val_loss: 0.7309 - val_acc: 0.6667\n",
            "Epoch 49/500\n",
            "429/429 [==============================] - 0s 46us/sample - loss: 0.6457 - acc: 0.7319 - val_loss: 0.6959 - val_acc: 0.7222\n",
            "Epoch 50/500\n",
            "429/429 [==============================] - 0s 42us/sample - loss: 0.6826 - acc: 0.7179 - val_loss: 0.6749 - val_acc: 0.7500\n",
            "Epoch 51/500\n",
            "429/429 [==============================] - 0s 45us/sample - loss: 0.7010 - acc: 0.7133 - val_loss: 0.6777 - val_acc: 0.7130\n",
            "Epoch 52/500\n",
            "429/429 [==============================] - 0s 49us/sample - loss: 0.6832 - acc: 0.7273 - val_loss: 0.6600 - val_acc: 0.7315\n",
            "Epoch 53/500\n",
            "429/429 [==============================] - 0s 51us/sample - loss: 0.6337 - acc: 0.7529 - val_loss: 0.6764 - val_acc: 0.7500\n",
            "Epoch 54/500\n",
            "429/429 [==============================] - 0s 45us/sample - loss: 0.6728 - acc: 0.7273 - val_loss: 0.6743 - val_acc: 0.7407\n",
            "Epoch 55/500\n",
            "429/429 [==============================] - 0s 53us/sample - loss: 0.6386 - acc: 0.7599 - val_loss: 0.6879 - val_acc: 0.7222\n",
            "Epoch 56/500\n",
            "429/429 [==============================] - 0s 44us/sample - loss: 0.5849 - acc: 0.7599 - val_loss: 0.6905 - val_acc: 0.7315\n",
            "Epoch 57/500\n",
            "429/429 [==============================] - 0s 49us/sample - loss: 0.5876 - acc: 0.7855 - val_loss: 0.6937 - val_acc: 0.7407\n",
            "Epoch 58/500\n",
            "429/429 [==============================] - 0s 50us/sample - loss: 0.5881 - acc: 0.7716 - val_loss: 0.6991 - val_acc: 0.7315\n",
            "Epoch 59/500\n",
            "429/429 [==============================] - 0s 48us/sample - loss: 0.5890 - acc: 0.7646 - val_loss: 0.6792 - val_acc: 0.7407\n",
            "Epoch 60/500\n",
            "429/429 [==============================] - 0s 69us/sample - loss: 0.6206 - acc: 0.7599 - val_loss: 0.6430 - val_acc: 0.7315\n",
            "Epoch 61/500\n",
            "429/429 [==============================] - 0s 52us/sample - loss: 0.6149 - acc: 0.7506 - val_loss: 0.6989 - val_acc: 0.6944\n",
            "Epoch 62/500\n",
            "429/429 [==============================] - 0s 49us/sample - loss: 0.5452 - acc: 0.7832 - val_loss: 0.6181 - val_acc: 0.7593\n",
            "Epoch 63/500\n",
            "429/429 [==============================] - 0s 51us/sample - loss: 0.5471 - acc: 0.7925 - val_loss: 0.6271 - val_acc: 0.7407\n",
            "Epoch 64/500\n",
            "429/429 [==============================] - 0s 47us/sample - loss: 0.5259 - acc: 0.8019 - val_loss: 0.6345 - val_acc: 0.7593\n",
            "Epoch 65/500\n",
            "429/429 [==============================] - 0s 51us/sample - loss: 0.5758 - acc: 0.7692 - val_loss: 0.6163 - val_acc: 0.7685\n",
            "Epoch 66/500\n",
            "429/429 [==============================] - 0s 54us/sample - loss: 0.5198 - acc: 0.7902 - val_loss: 0.6572 - val_acc: 0.7778\n",
            "Epoch 67/500\n",
            "429/429 [==============================] - 0s 49us/sample - loss: 0.5047 - acc: 0.7832 - val_loss: 0.6267 - val_acc: 0.7407\n",
            "Epoch 68/500\n",
            "429/429 [==============================] - 0s 67us/sample - loss: 0.4875 - acc: 0.8135 - val_loss: 0.6567 - val_acc: 0.7222\n",
            "Epoch 69/500\n",
            "429/429 [==============================] - 0s 55us/sample - loss: 0.4715 - acc: 0.8065 - val_loss: 0.6237 - val_acc: 0.7685\n",
            "Epoch 70/500\n",
            "429/429 [==============================] - 0s 55us/sample - loss: 0.5207 - acc: 0.8159 - val_loss: 0.6293 - val_acc: 0.7407\n",
            "Epoch 71/500\n",
            "429/429 [==============================] - 0s 52us/sample - loss: 0.4735 - acc: 0.8392 - val_loss: 0.6314 - val_acc: 0.7500\n",
            "Epoch 72/500\n",
            "429/429 [==============================] - 0s 52us/sample - loss: 0.4127 - acc: 0.8578 - val_loss: 0.6895 - val_acc: 0.7500\n",
            "Epoch 73/500\n",
            "429/429 [==============================] - 0s 53us/sample - loss: 0.4949 - acc: 0.8112 - val_loss: 0.6077 - val_acc: 0.7685\n",
            "Epoch 74/500\n",
            "429/429 [==============================] - 0s 50us/sample - loss: 0.4511 - acc: 0.8252 - val_loss: 0.6488 - val_acc: 0.7593\n",
            "Epoch 75/500\n",
            "429/429 [==============================] - 0s 53us/sample - loss: 0.4820 - acc: 0.8228 - val_loss: 0.6278 - val_acc: 0.7500\n",
            "Epoch 76/500\n",
            "429/429 [==============================] - 0s 52us/sample - loss: 0.4126 - acc: 0.8462 - val_loss: 0.6424 - val_acc: 0.7222\n",
            "Epoch 77/500\n",
            "429/429 [==============================] - 0s 52us/sample - loss: 0.4260 - acc: 0.8275 - val_loss: 0.5976 - val_acc: 0.7500\n",
            "Epoch 78/500\n",
            "429/429 [==============================] - 0s 50us/sample - loss: 0.4051 - acc: 0.8252 - val_loss: 0.6287 - val_acc: 0.7500\n",
            "Epoch 79/500\n",
            "429/429 [==============================] - 0s 54us/sample - loss: 0.4057 - acc: 0.8392 - val_loss: 0.6609 - val_acc: 0.7407\n",
            "Epoch 80/500\n",
            "429/429 [==============================] - 0s 51us/sample - loss: 0.3752 - acc: 0.8508 - val_loss: 0.6104 - val_acc: 0.7593\n",
            "Epoch 81/500\n",
            "429/429 [==============================] - 0s 72us/sample - loss: 0.4194 - acc: 0.8462 - val_loss: 0.6932 - val_acc: 0.7315\n",
            "Epoch 82/500\n",
            "429/429 [==============================] - 0s 57us/sample - loss: 0.3835 - acc: 0.8392 - val_loss: 0.6655 - val_acc: 0.7407\n",
            "Epoch 83/500\n",
            "429/429 [==============================] - 0s 58us/sample - loss: 0.3763 - acc: 0.8578 - val_loss: 0.6154 - val_acc: 0.7778\n",
            "Epoch 84/500\n",
            "429/429 [==============================] - 0s 58us/sample - loss: 0.3692 - acc: 0.8601 - val_loss: 0.7080 - val_acc: 0.7315\n",
            "Epoch 85/500\n",
            "429/429 [==============================] - 0s 51us/sample - loss: 0.4272 - acc: 0.8438 - val_loss: 0.6922 - val_acc: 0.7222\n",
            "Epoch 86/500\n",
            "429/429 [==============================] - 0s 48us/sample - loss: 0.3736 - acc: 0.8718 - val_loss: 0.6647 - val_acc: 0.7963\n",
            "Epoch 87/500\n",
            "429/429 [==============================] - 0s 56us/sample - loss: 0.3833 - acc: 0.8765 - val_loss: 0.7607 - val_acc: 0.6944\n",
            "Epoch 88/500\n",
            "429/429 [==============================] - 0s 57us/sample - loss: 0.3990 - acc: 0.8555 - val_loss: 0.6266 - val_acc: 0.7778\n",
            "Epoch 89/500\n",
            "429/429 [==============================] - 0s 54us/sample - loss: 0.3671 - acc: 0.8578 - val_loss: 0.6776 - val_acc: 0.7315\n",
            "Epoch 90/500\n",
            "429/429 [==============================] - 0s 62us/sample - loss: 0.4065 - acc: 0.8345 - val_loss: 0.8074 - val_acc: 0.7315\n",
            "Epoch 91/500\n",
            "429/429 [==============================] - 0s 56us/sample - loss: 0.3823 - acc: 0.8462 - val_loss: 0.7228 - val_acc: 0.7037\n",
            "Epoch 92/500\n",
            "429/429 [==============================] - 0s 56us/sample - loss: 0.3981 - acc: 0.8531 - val_loss: 0.8588 - val_acc: 0.7130\n",
            "Epoch 93/500\n",
            "429/429 [==============================] - 0s 60us/sample - loss: 0.3819 - acc: 0.8671 - val_loss: 0.6487 - val_acc: 0.7500\n",
            "Epoch 94/500\n",
            "429/429 [==============================] - 0s 49us/sample - loss: 0.4188 - acc: 0.8392 - val_loss: 0.6638 - val_acc: 0.7685\n",
            "Epoch 95/500\n",
            "429/429 [==============================] - 0s 53us/sample - loss: 0.3544 - acc: 0.8741 - val_loss: 0.8524 - val_acc: 0.7130\n",
            "Epoch 96/500\n",
            "429/429 [==============================] - 0s 55us/sample - loss: 0.3949 - acc: 0.8322 - val_loss: 0.6706 - val_acc: 0.7500\n",
            "Epoch 97/500\n",
            "429/429 [==============================] - 0s 75us/sample - loss: 0.3866 - acc: 0.8555 - val_loss: 0.6872 - val_acc: 0.7407\n",
            "Epoch 98/500\n",
            "429/429 [==============================] - 0s 55us/sample - loss: 0.3419 - acc: 0.8601 - val_loss: 0.7434 - val_acc: 0.7315\n",
            "Epoch 99/500\n",
            "429/429 [==============================] - 0s 60us/sample - loss: 0.3476 - acc: 0.8718 - val_loss: 0.6549 - val_acc: 0.7500\n",
            "Epoch 100/500\n",
            "429/429 [==============================] - 0s 50us/sample - loss: 0.3572 - acc: 0.8811 - val_loss: 0.7022 - val_acc: 0.7407\n",
            "Epoch 101/500\n",
            "429/429 [==============================] - 0s 59us/sample - loss: 0.3032 - acc: 0.8834 - val_loss: 0.6758 - val_acc: 0.7130\n",
            "Epoch 102/500\n",
            "429/429 [==============================] - 0s 56us/sample - loss: 0.2776 - acc: 0.8881 - val_loss: 0.6594 - val_acc: 0.7685\n",
            "Epoch 103/500\n",
            "429/429 [==============================] - 0s 57us/sample - loss: 0.2925 - acc: 0.8928 - val_loss: 0.7440 - val_acc: 0.7315\n",
            "Epoch 104/500\n",
            "429/429 [==============================] - 0s 58us/sample - loss: 0.3062 - acc: 0.8811 - val_loss: 0.6597 - val_acc: 0.7593\n",
            "Epoch 105/500\n",
            "429/429 [==============================] - 0s 54us/sample - loss: 0.2762 - acc: 0.8881 - val_loss: 0.6318 - val_acc: 0.7870\n",
            "Epoch 106/500\n",
            "429/429 [==============================] - 0s 52us/sample - loss: 0.3131 - acc: 0.8811 - val_loss: 0.7370 - val_acc: 0.7130\n",
            "Epoch 107/500\n",
            "429/429 [==============================] - 0s 57us/sample - loss: 0.3032 - acc: 0.8834 - val_loss: 0.7179 - val_acc: 0.7407\n",
            "Epoch 108/500\n",
            "429/429 [==============================] - 0s 54us/sample - loss: 0.2651 - acc: 0.8998 - val_loss: 0.6662 - val_acc: 0.7593\n",
            "Epoch 109/500\n",
            "429/429 [==============================] - 0s 56us/sample - loss: 0.2901 - acc: 0.8811 - val_loss: 0.7440 - val_acc: 0.7315\n",
            "Epoch 110/500\n",
            "429/429 [==============================] - 0s 52us/sample - loss: 0.2775 - acc: 0.9044 - val_loss: 0.6784 - val_acc: 0.7593\n",
            "Epoch 111/500\n",
            "429/429 [==============================] - 0s 56us/sample - loss: 0.2449 - acc: 0.9068 - val_loss: 0.6436 - val_acc: 0.7870\n",
            "Epoch 112/500\n",
            "429/429 [==============================] - 0s 52us/sample - loss: 0.2405 - acc: 0.9277 - val_loss: 0.7321 - val_acc: 0.7315\n",
            "Epoch 113/500\n",
            "429/429 [==============================] - 0s 56us/sample - loss: 0.2374 - acc: 0.9161 - val_loss: 0.6626 - val_acc: 0.7593\n",
            "Epoch 114/500\n",
            "429/429 [==============================] - 0s 50us/sample - loss: 0.2601 - acc: 0.8998 - val_loss: 0.6367 - val_acc: 0.7685\n",
            "Epoch 115/500\n",
            "429/429 [==============================] - 0s 53us/sample - loss: 0.2291 - acc: 0.9114 - val_loss: 0.7098 - val_acc: 0.7593\n",
            "Epoch 116/500\n",
            "429/429 [==============================] - 0s 55us/sample - loss: 0.2227 - acc: 0.9277 - val_loss: 0.7316 - val_acc: 0.7407\n",
            "Epoch 117/500\n",
            "429/429 [==============================] - 0s 73us/sample - loss: 0.2463 - acc: 0.9161 - val_loss: 0.7042 - val_acc: 0.7778\n",
            "Epoch 118/500\n",
            "429/429 [==============================] - 0s 56us/sample - loss: 0.2155 - acc: 0.9231 - val_loss: 0.8338 - val_acc: 0.7222\n",
            "Epoch 119/500\n",
            "429/429 [==============================] - 0s 48us/sample - loss: 0.2725 - acc: 0.9021 - val_loss: 0.7744 - val_acc: 0.7593\n",
            "Epoch 120/500\n",
            "429/429 [==============================] - 0s 57us/sample - loss: 0.2573 - acc: 0.8974 - val_loss: 0.7907 - val_acc: 0.7222\n",
            "Epoch 121/500\n",
            "429/429 [==============================] - 0s 56us/sample - loss: 0.2210 - acc: 0.9184 - val_loss: 0.8834 - val_acc: 0.7130\n",
            "Epoch 122/500\n",
            "429/429 [==============================] - 0s 53us/sample - loss: 0.2554 - acc: 0.8858 - val_loss: 0.7330 - val_acc: 0.7407\n",
            "Epoch 123/500\n",
            "429/429 [==============================] - 0s 59us/sample - loss: 0.2163 - acc: 0.9091 - val_loss: 0.6912 - val_acc: 0.7593\n",
            "Epoch 124/500\n",
            "429/429 [==============================] - 0s 61us/sample - loss: 0.2637 - acc: 0.8788 - val_loss: 0.8024 - val_acc: 0.7130\n",
            "Epoch 125/500\n",
            "429/429 [==============================] - 0s 60us/sample - loss: 0.2618 - acc: 0.8998 - val_loss: 0.7263 - val_acc: 0.7500\n",
            "Epoch 126/500\n",
            "429/429 [==============================] - 0s 61us/sample - loss: 0.1872 - acc: 0.9371 - val_loss: 0.7024 - val_acc: 0.7778\n",
            "Epoch 127/500\n",
            "429/429 [==============================] - 0s 53us/sample - loss: 0.2517 - acc: 0.9091 - val_loss: 0.7832 - val_acc: 0.7315\n",
            "Epoch 128/500\n",
            "429/429 [==============================] - 0s 51us/sample - loss: 0.2503 - acc: 0.9044 - val_loss: 0.8265 - val_acc: 0.7222\n",
            "Epoch 129/500\n",
            "429/429 [==============================] - 0s 53us/sample - loss: 0.2283 - acc: 0.9254 - val_loss: 0.7591 - val_acc: 0.7222\n",
            "Epoch 130/500\n",
            "429/429 [==============================] - 0s 56us/sample - loss: 0.1844 - acc: 0.9347 - val_loss: 0.9509 - val_acc: 0.6944\n",
            "Epoch 131/500\n",
            "429/429 [==============================] - 0s 58us/sample - loss: 0.2462 - acc: 0.9091 - val_loss: 0.9544 - val_acc: 0.7315\n",
            "Epoch 132/500\n",
            "429/429 [==============================] - 0s 58us/sample - loss: 0.2836 - acc: 0.8974 - val_loss: 0.7835 - val_acc: 0.7870\n",
            "Epoch 133/500\n",
            "429/429 [==============================] - 0s 60us/sample - loss: 0.2606 - acc: 0.8834 - val_loss: 0.8728 - val_acc: 0.7130\n",
            "Epoch 134/500\n",
            "429/429 [==============================] - 0s 59us/sample - loss: 0.2559 - acc: 0.9044 - val_loss: 0.8312 - val_acc: 0.7778\n",
            "Epoch 135/500\n",
            "429/429 [==============================] - 0s 58us/sample - loss: 0.2611 - acc: 0.8998 - val_loss: 0.7608 - val_acc: 0.7500\n",
            "Epoch 136/500\n",
            "429/429 [==============================] - 0s 56us/sample - loss: 0.1993 - acc: 0.9277 - val_loss: 0.7478 - val_acc: 0.7593\n",
            "Epoch 137/500\n",
            "429/429 [==============================] - 0s 54us/sample - loss: 0.2152 - acc: 0.9254 - val_loss: 0.6993 - val_acc: 0.7407\n",
            "Epoch 138/500\n",
            "429/429 [==============================] - 0s 54us/sample - loss: 0.1497 - acc: 0.9394 - val_loss: 0.7482 - val_acc: 0.7130\n",
            "Epoch 139/500\n",
            "429/429 [==============================] - 0s 54us/sample - loss: 0.2206 - acc: 0.9324 - val_loss: 0.7003 - val_acc: 0.7130\n",
            "Epoch 140/500\n",
            "429/429 [==============================] - 0s 52us/sample - loss: 0.1903 - acc: 0.9324 - val_loss: 0.7021 - val_acc: 0.7593\n",
            "Epoch 141/500\n",
            "429/429 [==============================] - 0s 52us/sample - loss: 0.1656 - acc: 0.9534 - val_loss: 0.6896 - val_acc: 0.7500\n",
            "Epoch 142/500\n",
            "429/429 [==============================] - 0s 53us/sample - loss: 0.1530 - acc: 0.9347 - val_loss: 0.7395 - val_acc: 0.7222\n",
            "Epoch 143/500\n",
            "429/429 [==============================] - 0s 58us/sample - loss: 0.1713 - acc: 0.9441 - val_loss: 0.8209 - val_acc: 0.7037\n",
            "Epoch 144/500\n",
            "429/429 [==============================] - 0s 56us/sample - loss: 0.1845 - acc: 0.9231 - val_loss: 0.7841 - val_acc: 0.7315\n",
            "Epoch 145/500\n",
            "429/429 [==============================] - 0s 56us/sample - loss: 0.1486 - acc: 0.9417 - val_loss: 0.8626 - val_acc: 0.7407\n",
            "Epoch 146/500\n",
            "429/429 [==============================] - 0s 60us/sample - loss: 0.2188 - acc: 0.9231 - val_loss: 1.0561 - val_acc: 0.7037\n",
            "Epoch 147/500\n",
            "429/429 [==============================] - 0s 56us/sample - loss: 0.2194 - acc: 0.9114 - val_loss: 0.9656 - val_acc: 0.7315\n",
            "Epoch 148/500\n",
            "429/429 [==============================] - 0s 57us/sample - loss: 0.1865 - acc: 0.9347 - val_loss: 0.7324 - val_acc: 0.7593\n",
            "Epoch 149/500\n",
            "429/429 [==============================] - 0s 50us/sample - loss: 0.2327 - acc: 0.9068 - val_loss: 0.7405 - val_acc: 0.7500\n",
            "Epoch 150/500\n",
            "429/429 [==============================] - 0s 51us/sample - loss: 0.1721 - acc: 0.9371 - val_loss: 0.7759 - val_acc: 0.7130\n",
            "Epoch 151/500\n",
            "429/429 [==============================] - 0s 55us/sample - loss: 0.1457 - acc: 0.9487 - val_loss: 0.6899 - val_acc: 0.7500\n",
            "Epoch 152/500\n",
            "429/429 [==============================] - 0s 69us/sample - loss: 0.1955 - acc: 0.9207 - val_loss: 0.8005 - val_acc: 0.7500\n",
            "Epoch 153/500\n",
            "429/429 [==============================] - 0s 54us/sample - loss: 0.1860 - acc: 0.9114 - val_loss: 0.9347 - val_acc: 0.6852\n",
            "Epoch 154/500\n",
            "429/429 [==============================] - 0s 60us/sample - loss: 0.1970 - acc: 0.9277 - val_loss: 0.9208 - val_acc: 0.7222\n",
            "Epoch 155/500\n",
            "429/429 [==============================] - 0s 52us/sample - loss: 0.1660 - acc: 0.9417 - val_loss: 1.0356 - val_acc: 0.7407\n",
            "Epoch 156/500\n",
            "429/429 [==============================] - 0s 58us/sample - loss: 0.2778 - acc: 0.8998 - val_loss: 0.8479 - val_acc: 0.7593\n",
            "Epoch 157/500\n",
            "429/429 [==============================] - 0s 51us/sample - loss: 0.2213 - acc: 0.9301 - val_loss: 0.9139 - val_acc: 0.7222\n",
            "Epoch 158/500\n",
            "429/429 [==============================] - 0s 61us/sample - loss: 0.2120 - acc: 0.9277 - val_loss: 0.9229 - val_acc: 0.7222\n",
            "Epoch 159/500\n",
            "429/429 [==============================] - 0s 52us/sample - loss: 0.1481 - acc: 0.9464 - val_loss: 0.6750 - val_acc: 0.7685\n",
            "Epoch 160/500\n",
            "429/429 [==============================] - 0s 55us/sample - loss: 0.2059 - acc: 0.9254 - val_loss: 0.6946 - val_acc: 0.7407\n",
            "Epoch 161/500\n",
            "429/429 [==============================] - 0s 55us/sample - loss: 0.1240 - acc: 0.9627 - val_loss: 0.6821 - val_acc: 0.7222\n",
            "Epoch 162/500\n",
            "429/429 [==============================] - 0s 55us/sample - loss: 0.1218 - acc: 0.9580 - val_loss: 0.7144 - val_acc: 0.7315\n",
            "Epoch 163/500\n",
            "429/429 [==============================] - 0s 54us/sample - loss: 0.1498 - acc: 0.9464 - val_loss: 0.7623 - val_acc: 0.7222\n",
            "Epoch 164/500\n",
            "429/429 [==============================] - 0s 57us/sample - loss: 0.1203 - acc: 0.9580 - val_loss: 0.8846 - val_acc: 0.7222\n",
            "Epoch 165/500\n",
            "429/429 [==============================] - 0s 54us/sample - loss: 0.1646 - acc: 0.9301 - val_loss: 0.8799 - val_acc: 0.7130\n",
            "Epoch 166/500\n",
            "429/429 [==============================] - 0s 58us/sample - loss: 0.1261 - acc: 0.9510 - val_loss: 0.8958 - val_acc: 0.7407\n",
            "Epoch 167/500\n",
            "429/429 [==============================] - 0s 57us/sample - loss: 0.1223 - acc: 0.9510 - val_loss: 0.8888 - val_acc: 0.7130\n",
            "Epoch 168/500\n",
            "429/429 [==============================] - 0s 71us/sample - loss: 0.1181 - acc: 0.9557 - val_loss: 0.8612 - val_acc: 0.7130\n",
            "Epoch 169/500\n",
            "429/429 [==============================] - 0s 60us/sample - loss: 0.1668 - acc: 0.9417 - val_loss: 0.8795 - val_acc: 0.7500\n",
            "Epoch 170/500\n",
            "429/429 [==============================] - 0s 54us/sample - loss: 0.1264 - acc: 0.9510 - val_loss: 0.8127 - val_acc: 0.7500\n",
            "Epoch 171/500\n",
            "429/429 [==============================] - 0s 53us/sample - loss: 0.1189 - acc: 0.9650 - val_loss: 0.9159 - val_acc: 0.7222\n",
            "Epoch 172/500\n",
            "429/429 [==============================] - 0s 56us/sample - loss: 0.1312 - acc: 0.9510 - val_loss: 0.8681 - val_acc: 0.7222\n",
            "Epoch 173/500\n",
            "429/429 [==============================] - 0s 55us/sample - loss: 0.1002 - acc: 0.9650 - val_loss: 0.8612 - val_acc: 0.7407\n",
            "Epoch 174/500\n",
            "429/429 [==============================] - 0s 57us/sample - loss: 0.0940 - acc: 0.9604 - val_loss: 0.8904 - val_acc: 0.7407\n",
            "Epoch 175/500\n",
            "429/429 [==============================] - 0s 54us/sample - loss: 0.1085 - acc: 0.9650 - val_loss: 0.9128 - val_acc: 0.6944\n",
            "Epoch 176/500\n",
            "429/429 [==============================] - 0s 56us/sample - loss: 0.1192 - acc: 0.9580 - val_loss: 0.8206 - val_acc: 0.7685\n",
            "Epoch 177/500\n",
            "429/429 [==============================] - 0s 58us/sample - loss: 0.1400 - acc: 0.9487 - val_loss: 0.9089 - val_acc: 0.7222\n",
            "Epoch 178/500\n",
            "429/429 [==============================] - 0s 55us/sample - loss: 0.1416 - acc: 0.9557 - val_loss: 0.7907 - val_acc: 0.7407\n",
            "Epoch 179/500\n",
            "429/429 [==============================] - 0s 56us/sample - loss: 0.1745 - acc: 0.9347 - val_loss: 0.8320 - val_acc: 0.7593\n",
            "Epoch 180/500\n",
            "429/429 [==============================] - 0s 55us/sample - loss: 0.2283 - acc: 0.9184 - val_loss: 1.2512 - val_acc: 0.6481\n",
            "Epoch 181/500\n",
            "429/429 [==============================] - 0s 56us/sample - loss: 0.1943 - acc: 0.9184 - val_loss: 1.0285 - val_acc: 0.7315\n",
            "Epoch 182/500\n",
            "429/429 [==============================] - 0s 57us/sample - loss: 0.1299 - acc: 0.9464 - val_loss: 1.0149 - val_acc: 0.7685\n",
            "Epoch 183/500\n",
            "429/429 [==============================] - 0s 56us/sample - loss: 0.1395 - acc: 0.9394 - val_loss: 1.3593 - val_acc: 0.6759\n",
            "Epoch 184/500\n",
            "429/429 [==============================] - 0s 56us/sample - loss: 0.1842 - acc: 0.9371 - val_loss: 0.9128 - val_acc: 0.7407\n",
            "Epoch 185/500\n",
            "429/429 [==============================] - 0s 56us/sample - loss: 0.1377 - acc: 0.9441 - val_loss: 0.9026 - val_acc: 0.7963\n",
            "Epoch 186/500\n",
            "429/429 [==============================] - 0s 54us/sample - loss: 0.1482 - acc: 0.9417 - val_loss: 0.9302 - val_acc: 0.7037\n",
            "Epoch 187/500\n",
            "429/429 [==============================] - 0s 58us/sample - loss: 0.1347 - acc: 0.9441 - val_loss: 1.0652 - val_acc: 0.6944\n",
            "Epoch 188/500\n",
            "429/429 [==============================] - 0s 71us/sample - loss: 0.1673 - acc: 0.9394 - val_loss: 1.0310 - val_acc: 0.7778\n",
            "Epoch 189/500\n",
            "429/429 [==============================] - 0s 57us/sample - loss: 0.1775 - acc: 0.9301 - val_loss: 1.0033 - val_acc: 0.7407\n",
            "Epoch 190/500\n",
            "429/429 [==============================] - 0s 54us/sample - loss: 0.0959 - acc: 0.9627 - val_loss: 1.1644 - val_acc: 0.6852\n",
            "Epoch 191/500\n",
            "429/429 [==============================] - 0s 58us/sample - loss: 0.1947 - acc: 0.9161 - val_loss: 0.9388 - val_acc: 0.7778\n",
            "Epoch 192/500\n",
            "429/429 [==============================] - 0s 54us/sample - loss: 0.1538 - acc: 0.9441 - val_loss: 0.9443 - val_acc: 0.8056\n",
            "Epoch 193/500\n",
            "429/429 [==============================] - 0s 54us/sample - loss: 0.1848 - acc: 0.9254 - val_loss: 1.0593 - val_acc: 0.7315\n",
            "Epoch 194/500\n",
            "429/429 [==============================] - 0s 51us/sample - loss: 0.1677 - acc: 0.9487 - val_loss: 1.1026 - val_acc: 0.7130\n",
            "Epoch 195/500\n",
            "429/429 [==============================] - 0s 63us/sample - loss: 0.1685 - acc: 0.9441 - val_loss: 0.9842 - val_acc: 0.7500\n",
            "Epoch 196/500\n",
            "429/429 [==============================] - 0s 56us/sample - loss: 0.2816 - acc: 0.8974 - val_loss: 1.0240 - val_acc: 0.7315\n",
            "Epoch 197/500\n",
            "429/429 [==============================] - 0s 56us/sample - loss: 0.1485 - acc: 0.9417 - val_loss: 1.4641 - val_acc: 0.6389\n",
            "Epoch 198/500\n",
            "429/429 [==============================] - 0s 56us/sample - loss: 0.2894 - acc: 0.8998 - val_loss: 0.9005 - val_acc: 0.7685\n",
            "Epoch 199/500\n",
            "429/429 [==============================] - 0s 56us/sample - loss: 0.2557 - acc: 0.9068 - val_loss: 0.7515 - val_acc: 0.8056\n",
            "Epoch 200/500\n",
            "429/429 [==============================] - 0s 60us/sample - loss: 0.1640 - acc: 0.9417 - val_loss: 1.3743 - val_acc: 0.6759\n",
            "Epoch 201/500\n",
            "429/429 [==============================] - 0s 60us/sample - loss: 0.2562 - acc: 0.9021 - val_loss: 1.0206 - val_acc: 0.7130\n",
            "Epoch 202/500\n",
            "429/429 [==============================] - 0s 54us/sample - loss: 0.1556 - acc: 0.9324 - val_loss: 1.0653 - val_acc: 0.7685\n",
            "Epoch 203/500\n",
            "429/429 [==============================] - 0s 52us/sample - loss: 0.2531 - acc: 0.9161 - val_loss: 1.0369 - val_acc: 0.7407\n",
            "Epoch 204/500\n",
            "429/429 [==============================] - 0s 61us/sample - loss: 0.1244 - acc: 0.9487 - val_loss: 1.0222 - val_acc: 0.7130\n",
            "Epoch 205/500\n",
            "429/429 [==============================] - 0s 59us/sample - loss: 0.1563 - acc: 0.9534 - val_loss: 0.7857 - val_acc: 0.7685\n",
            "Epoch 206/500\n",
            "429/429 [==============================] - 0s 55us/sample - loss: 0.1093 - acc: 0.9580 - val_loss: 0.8150 - val_acc: 0.7685\n",
            "Epoch 207/500\n",
            "429/429 [==============================] - 0s 59us/sample - loss: 0.1142 - acc: 0.9557 - val_loss: 0.8417 - val_acc: 0.7315\n",
            "Epoch 208/500\n",
            "429/429 [==============================] - 0s 54us/sample - loss: 0.1235 - acc: 0.9510 - val_loss: 1.0400 - val_acc: 0.7315\n",
            "Epoch 209/500\n",
            "429/429 [==============================] - 0s 54us/sample - loss: 0.1508 - acc: 0.9487 - val_loss: 0.9519 - val_acc: 0.7593\n",
            "Epoch 210/500\n",
            "429/429 [==============================] - 0s 53us/sample - loss: 0.1193 - acc: 0.9510 - val_loss: 0.9550 - val_acc: 0.7315\n",
            "Epoch 211/500\n",
            "429/429 [==============================] - 0s 54us/sample - loss: 0.0990 - acc: 0.9557 - val_loss: 0.9112 - val_acc: 0.7593\n",
            "Epoch 212/500\n",
            "429/429 [==============================] - 0s 62us/sample - loss: 0.1149 - acc: 0.9464 - val_loss: 0.9576 - val_acc: 0.7407\n",
            "Epoch 213/500\n",
            "429/429 [==============================] - 0s 59us/sample - loss: 0.1072 - acc: 0.9580 - val_loss: 1.0356 - val_acc: 0.7130\n",
            "Epoch 214/500\n",
            "429/429 [==============================] - 0s 61us/sample - loss: 0.0809 - acc: 0.9837 - val_loss: 1.1700 - val_acc: 0.6852\n",
            "Epoch 215/500\n",
            "429/429 [==============================] - 0s 55us/sample - loss: 0.1186 - acc: 0.9557 - val_loss: 1.1327 - val_acc: 0.7222\n",
            "Epoch 216/500\n",
            "429/429 [==============================] - 0s 57us/sample - loss: 0.1172 - acc: 0.9464 - val_loss: 1.0103 - val_acc: 0.7315\n",
            "Epoch 217/500\n",
            "429/429 [==============================] - 0s 53us/sample - loss: 0.1004 - acc: 0.9604 - val_loss: 0.9069 - val_acc: 0.7500\n",
            "Epoch 218/500\n",
            "429/429 [==============================] - 0s 61us/sample - loss: 0.1021 - acc: 0.9604 - val_loss: 1.0557 - val_acc: 0.7130\n",
            "Epoch 219/500\n",
            "429/429 [==============================] - 0s 66us/sample - loss: 0.1115 - acc: 0.9557 - val_loss: 0.9974 - val_acc: 0.7130\n",
            "Epoch 220/500\n",
            "429/429 [==============================] - 0s 59us/sample - loss: 0.1078 - acc: 0.9534 - val_loss: 0.9234 - val_acc: 0.7315\n",
            "Epoch 221/500\n",
            "429/429 [==============================] - 0s 55us/sample - loss: 0.0927 - acc: 0.9627 - val_loss: 0.8941 - val_acc: 0.7685\n",
            "Epoch 222/500\n",
            "429/429 [==============================] - 0s 59us/sample - loss: 0.0951 - acc: 0.9650 - val_loss: 0.8957 - val_acc: 0.7315\n",
            "Epoch 223/500\n",
            "429/429 [==============================] - 0s 70us/sample - loss: 0.0789 - acc: 0.9674 - val_loss: 1.1365 - val_acc: 0.7500\n",
            "Epoch 224/500\n",
            "429/429 [==============================] - 0s 59us/sample - loss: 0.1020 - acc: 0.9604 - val_loss: 1.1273 - val_acc: 0.7130\n",
            "Epoch 225/500\n",
            "429/429 [==============================] - 0s 56us/sample - loss: 0.1049 - acc: 0.9650 - val_loss: 0.9059 - val_acc: 0.7593\n",
            "Epoch 226/500\n",
            "429/429 [==============================] - 0s 50us/sample - loss: 0.1081 - acc: 0.9534 - val_loss: 0.9024 - val_acc: 0.7593\n",
            "Epoch 227/500\n",
            "429/429 [==============================] - 0s 53us/sample - loss: 0.0675 - acc: 0.9790 - val_loss: 1.0195 - val_acc: 0.7130\n",
            "Epoch 228/500\n",
            "429/429 [==============================] - 0s 52us/sample - loss: 0.0643 - acc: 0.9814 - val_loss: 1.1701 - val_acc: 0.7222\n",
            "Epoch 229/500\n",
            "429/429 [==============================] - 0s 51us/sample - loss: 0.0892 - acc: 0.9674 - val_loss: 1.0889 - val_acc: 0.7407\n",
            "Epoch 230/500\n",
            "429/429 [==============================] - 0s 51us/sample - loss: 0.0684 - acc: 0.9767 - val_loss: 1.1507 - val_acc: 0.7593\n",
            "Epoch 231/500\n",
            "429/429 [==============================] - 0s 59us/sample - loss: 0.0987 - acc: 0.9580 - val_loss: 1.1817 - val_acc: 0.7315\n",
            "Epoch 232/500\n",
            "429/429 [==============================] - 0s 59us/sample - loss: 0.0783 - acc: 0.9697 - val_loss: 1.2264 - val_acc: 0.7315\n",
            "Epoch 233/500\n",
            "429/429 [==============================] - 0s 53us/sample - loss: 0.0608 - acc: 0.9767 - val_loss: 1.1650 - val_acc: 0.7315\n",
            "Epoch 234/500\n",
            "429/429 [==============================] - 0s 50us/sample - loss: 0.0633 - acc: 0.9837 - val_loss: 1.0962 - val_acc: 0.7593\n",
            "Epoch 235/500\n",
            "429/429 [==============================] - 0s 53us/sample - loss: 0.0578 - acc: 0.9860 - val_loss: 1.1047 - val_acc: 0.7407\n",
            "Epoch 236/500\n",
            "429/429 [==============================] - 0s 54us/sample - loss: 0.0497 - acc: 0.9814 - val_loss: 1.1483 - val_acc: 0.7500\n",
            "Epoch 237/500\n",
            "429/429 [==============================] - 0s 53us/sample - loss: 0.0441 - acc: 0.9814 - val_loss: 1.1481 - val_acc: 0.7593\n",
            "Epoch 238/500\n",
            "429/429 [==============================] - 0s 57us/sample - loss: 0.0577 - acc: 0.9814 - val_loss: 1.1103 - val_acc: 0.7685\n",
            "Epoch 239/500\n",
            "429/429 [==============================] - 0s 60us/sample - loss: 0.0823 - acc: 0.9720 - val_loss: 1.0977 - val_acc: 0.7315\n",
            "Epoch 240/500\n",
            "429/429 [==============================] - 0s 73us/sample - loss: 0.0549 - acc: 0.9837 - val_loss: 1.1858 - val_acc: 0.7407\n",
            "Epoch 241/500\n",
            "429/429 [==============================] - 0s 59us/sample - loss: 0.0973 - acc: 0.9674 - val_loss: 1.1993 - val_acc: 0.7778\n",
            "Epoch 242/500\n",
            "429/429 [==============================] - 0s 55us/sample - loss: 0.0876 - acc: 0.9720 - val_loss: 1.1376 - val_acc: 0.7593\n",
            "Epoch 243/500\n",
            "429/429 [==============================] - 0s 52us/sample - loss: 0.0846 - acc: 0.9674 - val_loss: 1.1144 - val_acc: 0.7593\n",
            "Epoch 244/500\n",
            "429/429 [==============================] - 0s 58us/sample - loss: 0.0444 - acc: 0.9860 - val_loss: 1.1208 - val_acc: 0.7037\n",
            "Epoch 245/500\n",
            "429/429 [==============================] - 0s 57us/sample - loss: 0.0574 - acc: 0.9767 - val_loss: 1.2576 - val_acc: 0.7222\n",
            "Epoch 246/500\n",
            "429/429 [==============================] - 0s 57us/sample - loss: 0.0706 - acc: 0.9744 - val_loss: 1.1536 - val_acc: 0.7315\n",
            "Epoch 247/500\n",
            "429/429 [==============================] - 0s 69us/sample - loss: 0.0881 - acc: 0.9627 - val_loss: 0.9927 - val_acc: 0.7315\n",
            "Epoch 248/500\n",
            "429/429 [==============================] - 0s 52us/sample - loss: 0.0533 - acc: 0.9814 - val_loss: 1.0104 - val_acc: 0.7593\n",
            "Epoch 249/500\n",
            "429/429 [==============================] - 0s 53us/sample - loss: 0.0849 - acc: 0.9604 - val_loss: 1.2255 - val_acc: 0.7222\n",
            "Epoch 250/500\n",
            "429/429 [==============================] - 0s 59us/sample - loss: 0.0945 - acc: 0.9697 - val_loss: 1.1649 - val_acc: 0.7500\n",
            "Epoch 251/500\n",
            "429/429 [==============================] - 0s 52us/sample - loss: 0.0855 - acc: 0.9767 - val_loss: 1.0425 - val_acc: 0.7407\n",
            "Epoch 252/500\n",
            "429/429 [==============================] - 0s 58us/sample - loss: 0.0641 - acc: 0.9790 - val_loss: 1.1588 - val_acc: 0.7407\n",
            "Epoch 253/500\n",
            "429/429 [==============================] - 0s 52us/sample - loss: 0.0624 - acc: 0.9744 - val_loss: 1.3030 - val_acc: 0.7222\n",
            "Epoch 254/500\n",
            "429/429 [==============================] - 0s 52us/sample - loss: 0.0996 - acc: 0.9744 - val_loss: 1.3818 - val_acc: 0.6852\n",
            "Epoch 255/500\n",
            "429/429 [==============================] - 0s 54us/sample - loss: 0.0508 - acc: 0.9744 - val_loss: 1.2060 - val_acc: 0.7315\n",
            "Epoch 256/500\n",
            "429/429 [==============================] - 0s 54us/sample - loss: 0.0703 - acc: 0.9790 - val_loss: 1.1618 - val_acc: 0.7222\n",
            "Epoch 257/500\n",
            "429/429 [==============================] - 0s 54us/sample - loss: 0.0961 - acc: 0.9627 - val_loss: 1.0954 - val_acc: 0.7407\n",
            "Epoch 258/500\n",
            "429/429 [==============================] - 0s 54us/sample - loss: 0.1115 - acc: 0.9720 - val_loss: 1.0817 - val_acc: 0.7407\n",
            "Epoch 259/500\n",
            "429/429 [==============================] - 0s 71us/sample - loss: 0.0420 - acc: 0.9837 - val_loss: 1.1042 - val_acc: 0.7685\n",
            "Epoch 260/500\n",
            "429/429 [==============================] - 0s 55us/sample - loss: 0.0670 - acc: 0.9860 - val_loss: 1.1486 - val_acc: 0.7778\n",
            "Epoch 261/500\n",
            "429/429 [==============================] - 0s 53us/sample - loss: 0.0645 - acc: 0.9790 - val_loss: 1.0460 - val_acc: 0.7685\n",
            "Epoch 262/500\n",
            "429/429 [==============================] - 0s 56us/sample - loss: 0.0463 - acc: 0.9860 - val_loss: 1.0387 - val_acc: 0.7407\n",
            "Epoch 263/500\n",
            "429/429 [==============================] - 0s 60us/sample - loss: 0.0418 - acc: 0.9837 - val_loss: 1.0868 - val_acc: 0.7315\n",
            "Epoch 264/500\n",
            "429/429 [==============================] - 0s 67us/sample - loss: 0.0611 - acc: 0.9860 - val_loss: 1.2628 - val_acc: 0.7037\n",
            "Epoch 265/500\n",
            "429/429 [==============================] - 0s 58us/sample - loss: 0.0847 - acc: 0.9674 - val_loss: 1.2087 - val_acc: 0.7222\n",
            "Epoch 266/500\n",
            "429/429 [==============================] - 0s 58us/sample - loss: 0.0588 - acc: 0.9837 - val_loss: 1.1031 - val_acc: 0.7963\n",
            "Epoch 267/500\n",
            "429/429 [==============================] - 0s 59us/sample - loss: 0.0825 - acc: 0.9744 - val_loss: 1.1053 - val_acc: 0.7778\n",
            "Epoch 268/500\n",
            "429/429 [==============================] - 0s 65us/sample - loss: 0.0604 - acc: 0.9814 - val_loss: 1.3308 - val_acc: 0.7130\n",
            "Epoch 269/500\n",
            "429/429 [==============================] - 0s 54us/sample - loss: 0.1001 - acc: 0.9557 - val_loss: 1.2423 - val_acc: 0.7870\n",
            "Epoch 270/500\n",
            "429/429 [==============================] - 0s 61us/sample - loss: 0.1379 - acc: 0.9487 - val_loss: 1.2768 - val_acc: 0.7500\n",
            "Epoch 271/500\n",
            "429/429 [==============================] - 0s 67us/sample - loss: 0.1276 - acc: 0.9510 - val_loss: 1.6735 - val_acc: 0.6759\n",
            "Epoch 272/500\n",
            "429/429 [==============================] - 0s 56us/sample - loss: 0.1633 - acc: 0.9441 - val_loss: 1.3692 - val_acc: 0.7500\n",
            "Epoch 273/500\n",
            "429/429 [==============================] - 0s 54us/sample - loss: 0.0654 - acc: 0.9790 - val_loss: 1.1712 - val_acc: 0.7963\n",
            "Epoch 274/500\n",
            "429/429 [==============================] - 0s 52us/sample - loss: 0.1548 - acc: 0.9441 - val_loss: 1.4263 - val_acc: 0.7037\n",
            "Epoch 275/500\n",
            "429/429 [==============================] - 0s 72us/sample - loss: 0.1605 - acc: 0.9371 - val_loss: 1.6514 - val_acc: 0.6944\n",
            "Epoch 276/500\n",
            "429/429 [==============================] - 0s 64us/sample - loss: 0.1941 - acc: 0.9464 - val_loss: 1.3092 - val_acc: 0.7500\n",
            "Epoch 277/500\n",
            "429/429 [==============================] - 0s 56us/sample - loss: 0.1558 - acc: 0.9371 - val_loss: 1.4058 - val_acc: 0.7130\n",
            "Epoch 278/500\n",
            "429/429 [==============================] - 0s 52us/sample - loss: 0.1966 - acc: 0.9277 - val_loss: 1.3284 - val_acc: 0.7407\n",
            "Epoch 279/500\n",
            "429/429 [==============================] - 0s 49us/sample - loss: 0.1895 - acc: 0.9301 - val_loss: 1.2541 - val_acc: 0.7500\n",
            "Epoch 280/500\n",
            "429/429 [==============================] - 0s 56us/sample - loss: 0.1172 - acc: 0.9534 - val_loss: 0.9925 - val_acc: 0.7500\n",
            "Epoch 281/500\n",
            "429/429 [==============================] - 0s 55us/sample - loss: 0.1579 - acc: 0.9371 - val_loss: 1.1282 - val_acc: 0.7685\n",
            "Epoch 282/500\n",
            "429/429 [==============================] - 0s 52us/sample - loss: 0.1371 - acc: 0.9604 - val_loss: 1.1247 - val_acc: 0.7593\n",
            "Epoch 283/500\n",
            "429/429 [==============================] - 0s 60us/sample - loss: 0.0988 - acc: 0.9557 - val_loss: 1.3024 - val_acc: 0.7500\n",
            "Epoch 284/500\n",
            "429/429 [==============================] - 0s 54us/sample - loss: 0.1874 - acc: 0.9371 - val_loss: 1.1114 - val_acc: 0.7500\n",
            "Epoch 285/500\n",
            "429/429 [==============================] - 0s 55us/sample - loss: 0.1726 - acc: 0.9510 - val_loss: 1.1663 - val_acc: 0.7685\n",
            "Epoch 286/500\n",
            "429/429 [==============================] - 0s 55us/sample - loss: 0.1347 - acc: 0.9557 - val_loss: 1.1706 - val_acc: 0.7500\n",
            "Epoch 287/500\n",
            "429/429 [==============================] - 0s 57us/sample - loss: 0.1015 - acc: 0.9674 - val_loss: 1.2497 - val_acc: 0.7500\n",
            "Epoch 288/500\n",
            "429/429 [==============================] - 0s 57us/sample - loss: 0.1085 - acc: 0.9557 - val_loss: 1.2500 - val_acc: 0.7222\n",
            "Epoch 289/500\n",
            "429/429 [==============================] - 0s 56us/sample - loss: 0.0909 - acc: 0.9650 - val_loss: 1.2470 - val_acc: 0.7315\n",
            "Epoch 290/500\n",
            "429/429 [==============================] - 0s 61us/sample - loss: 0.0876 - acc: 0.9744 - val_loss: 1.0826 - val_acc: 0.7593\n",
            "Epoch 291/500\n",
            "429/429 [==============================] - 0s 52us/sample - loss: 0.0946 - acc: 0.9627 - val_loss: 1.1337 - val_acc: 0.7778\n",
            "Epoch 292/500\n",
            "429/429 [==============================] - 0s 61us/sample - loss: 0.1018 - acc: 0.9674 - val_loss: 1.1018 - val_acc: 0.7778\n",
            "Epoch 293/500\n",
            "429/429 [==============================] - 0s 58us/sample - loss: 0.0607 - acc: 0.9790 - val_loss: 1.2390 - val_acc: 0.7500\n",
            "Epoch 294/500\n",
            "429/429 [==============================] - 0s 65us/sample - loss: 0.0739 - acc: 0.9720 - val_loss: 1.2226 - val_acc: 0.7593\n",
            "Epoch 295/500\n",
            "429/429 [==============================] - 0s 56us/sample - loss: 0.1043 - acc: 0.9627 - val_loss: 0.9982 - val_acc: 0.7870\n",
            "Epoch 296/500\n",
            "429/429 [==============================] - 0s 64us/sample - loss: 0.0640 - acc: 0.9744 - val_loss: 0.9404 - val_acc: 0.8056\n",
            "Epoch 297/500\n",
            "429/429 [==============================] - 0s 58us/sample - loss: 0.1041 - acc: 0.9604 - val_loss: 1.0403 - val_acc: 0.7963\n",
            "Epoch 298/500\n",
            "429/429 [==============================] - 0s 59us/sample - loss: 0.0728 - acc: 0.9790 - val_loss: 1.2968 - val_acc: 0.7315\n",
            "Epoch 299/500\n",
            "429/429 [==============================] - 0s 63us/sample - loss: 0.0940 - acc: 0.9720 - val_loss: 1.2515 - val_acc: 0.7130\n",
            "Epoch 300/500\n",
            "429/429 [==============================] - 0s 59us/sample - loss: 0.0875 - acc: 0.9674 - val_loss: 1.1679 - val_acc: 0.7593\n",
            "Epoch 301/500\n",
            "429/429 [==============================] - 0s 51us/sample - loss: 0.0764 - acc: 0.9744 - val_loss: 1.1640 - val_acc: 0.7130\n",
            "Epoch 302/500\n",
            "429/429 [==============================] - 0s 54us/sample - loss: 0.0601 - acc: 0.9744 - val_loss: 1.2027 - val_acc: 0.7130\n",
            "Epoch 303/500\n",
            "429/429 [==============================] - 0s 64us/sample - loss: 0.0894 - acc: 0.9720 - val_loss: 1.1280 - val_acc: 0.7222\n",
            "Epoch 304/500\n",
            "429/429 [==============================] - 0s 51us/sample - loss: 0.0643 - acc: 0.9744 - val_loss: 1.0855 - val_acc: 0.7778\n",
            "Epoch 305/500\n",
            "429/429 [==============================] - 0s 51us/sample - loss: 0.0588 - acc: 0.9814 - val_loss: 1.0109 - val_acc: 0.7685\n",
            "Epoch 306/500\n",
            "429/429 [==============================] - 0s 67us/sample - loss: 0.0903 - acc: 0.9697 - val_loss: 0.9532 - val_acc: 0.8056\n",
            "Epoch 307/500\n",
            "429/429 [==============================] - 0s 57us/sample - loss: 0.0509 - acc: 0.9814 - val_loss: 1.0180 - val_acc: 0.7870\n",
            "Epoch 308/500\n",
            "429/429 [==============================] - 0s 55us/sample - loss: 0.0542 - acc: 0.9907 - val_loss: 1.0765 - val_acc: 0.8056\n",
            "Epoch 309/500\n",
            "429/429 [==============================] - 0s 48us/sample - loss: 0.0720 - acc: 0.9767 - val_loss: 1.0326 - val_acc: 0.7963\n",
            "Epoch 310/500\n",
            "429/429 [==============================] - 0s 53us/sample - loss: 0.0506 - acc: 0.9837 - val_loss: 0.9714 - val_acc: 0.8148\n",
            "Epoch 311/500\n",
            "429/429 [==============================] - 0s 84us/sample - loss: 0.0881 - acc: 0.9697 - val_loss: 0.8448 - val_acc: 0.8148\n",
            "Epoch 312/500\n",
            "429/429 [==============================] - 0s 53us/sample - loss: 0.0549 - acc: 0.9790 - val_loss: 0.8952 - val_acc: 0.7870\n",
            "Epoch 313/500\n",
            "429/429 [==============================] - 0s 56us/sample - loss: 0.0567 - acc: 0.9744 - val_loss: 1.0223 - val_acc: 0.7500\n",
            "Epoch 314/500\n",
            "429/429 [==============================] - 0s 57us/sample - loss: 0.0700 - acc: 0.9814 - val_loss: 1.0343 - val_acc: 0.7500\n",
            "Epoch 315/500\n",
            "429/429 [==============================] - 0s 54us/sample - loss: 0.0609 - acc: 0.9814 - val_loss: 1.0237 - val_acc: 0.7593\n",
            "Epoch 316/500\n",
            "429/429 [==============================] - 0s 51us/sample - loss: 0.0523 - acc: 0.9790 - val_loss: 1.0495 - val_acc: 0.7407\n",
            "Epoch 317/500\n",
            "429/429 [==============================] - 0s 53us/sample - loss: 0.0475 - acc: 0.9814 - val_loss: 1.1198 - val_acc: 0.7407\n",
            "Epoch 318/500\n",
            "429/429 [==============================] - 0s 53us/sample - loss: 0.0533 - acc: 0.9767 - val_loss: 1.1620 - val_acc: 0.7593\n",
            "Epoch 319/500\n",
            "429/429 [==============================] - 0s 53us/sample - loss: 0.0583 - acc: 0.9860 - val_loss: 1.0987 - val_acc: 0.7870\n",
            "Epoch 320/500\n",
            "429/429 [==============================] - 0s 57us/sample - loss: 0.0272 - acc: 0.9930 - val_loss: 1.0374 - val_acc: 0.7963\n",
            "Epoch 321/500\n",
            "429/429 [==============================] - 0s 58us/sample - loss: 0.0447 - acc: 0.9814 - val_loss: 1.0026 - val_acc: 0.8056\n",
            "Epoch 322/500\n",
            "429/429 [==============================] - 0s 53us/sample - loss: 0.0304 - acc: 0.9953 - val_loss: 0.9962 - val_acc: 0.7963\n",
            "Epoch 323/500\n",
            "429/429 [==============================] - 0s 54us/sample - loss: 0.0508 - acc: 0.9790 - val_loss: 1.0871 - val_acc: 0.7870\n",
            "Epoch 324/500\n",
            "429/429 [==============================] - 0s 50us/sample - loss: 0.0484 - acc: 0.9837 - val_loss: 1.0498 - val_acc: 0.8056\n",
            "Epoch 325/500\n",
            "429/429 [==============================] - 0s 54us/sample - loss: 0.0367 - acc: 0.9883 - val_loss: 1.0242 - val_acc: 0.7963\n",
            "Epoch 326/500\n",
            "429/429 [==============================] - 0s 54us/sample - loss: 0.0553 - acc: 0.9767 - val_loss: 0.9914 - val_acc: 0.7963\n",
            "Epoch 327/500\n",
            "429/429 [==============================] - 0s 53us/sample - loss: 0.0648 - acc: 0.9767 - val_loss: 1.1156 - val_acc: 0.7870\n",
            "Epoch 328/500\n",
            "429/429 [==============================] - 0s 56us/sample - loss: 0.0376 - acc: 0.9837 - val_loss: 1.3095 - val_acc: 0.7500\n",
            "Epoch 329/500\n",
            "429/429 [==============================] - 0s 73us/sample - loss: 0.0450 - acc: 0.9860 - val_loss: 1.1688 - val_acc: 0.7685\n",
            "Epoch 330/500\n",
            "429/429 [==============================] - 0s 61us/sample - loss: 0.0440 - acc: 0.9837 - val_loss: 1.1007 - val_acc: 0.7407\n",
            "Epoch 331/500\n",
            "429/429 [==============================] - 0s 60us/sample - loss: 0.0626 - acc: 0.9674 - val_loss: 1.1114 - val_acc: 0.7593\n",
            "Epoch 332/500\n",
            "429/429 [==============================] - 0s 52us/sample - loss: 0.0432 - acc: 0.9860 - val_loss: 1.1850 - val_acc: 0.7685\n",
            "Epoch 333/500\n",
            "429/429 [==============================] - 0s 53us/sample - loss: 0.0360 - acc: 0.9907 - val_loss: 1.3302 - val_acc: 0.7407\n",
            "Epoch 334/500\n",
            "429/429 [==============================] - 0s 56us/sample - loss: 0.0556 - acc: 0.9814 - val_loss: 1.2390 - val_acc: 0.7315\n",
            "Epoch 335/500\n",
            "429/429 [==============================] - 0s 52us/sample - loss: 0.0583 - acc: 0.9860 - val_loss: 1.1772 - val_acc: 0.7407\n",
            "Epoch 336/500\n",
            "429/429 [==============================] - 0s 51us/sample - loss: 0.0372 - acc: 0.9907 - val_loss: 1.1281 - val_acc: 0.7315\n",
            "Epoch 337/500\n",
            "429/429 [==============================] - 0s 50us/sample - loss: 0.0630 - acc: 0.9790 - val_loss: 1.1601 - val_acc: 0.7500\n",
            "Epoch 338/500\n",
            "429/429 [==============================] - 0s 57us/sample - loss: 0.0445 - acc: 0.9790 - val_loss: 1.1686 - val_acc: 0.7500\n",
            "Epoch 339/500\n",
            "429/429 [==============================] - 0s 56us/sample - loss: 0.0534 - acc: 0.9814 - val_loss: 1.1616 - val_acc: 0.7593\n",
            "Epoch 340/500\n",
            "429/429 [==============================] - 0s 50us/sample - loss: 0.0374 - acc: 0.9837 - val_loss: 1.2178 - val_acc: 0.7315\n",
            "Epoch 341/500\n",
            "429/429 [==============================] - 0s 53us/sample - loss: 0.0549 - acc: 0.9837 - val_loss: 1.2300 - val_acc: 0.7500\n",
            "Epoch 342/500\n",
            "429/429 [==============================] - 0s 53us/sample - loss: 0.0342 - acc: 0.9907 - val_loss: 1.2509 - val_acc: 0.7870\n",
            "Epoch 343/500\n",
            "429/429 [==============================] - 0s 52us/sample - loss: 0.0519 - acc: 0.9814 - val_loss: 1.2585 - val_acc: 0.7963\n",
            "Epoch 344/500\n",
            "429/429 [==============================] - 0s 57us/sample - loss: 0.0482 - acc: 0.9814 - val_loss: 1.2097 - val_acc: 0.7963\n",
            "Epoch 345/500\n",
            "429/429 [==============================] - 0s 53us/sample - loss: 0.0457 - acc: 0.9837 - val_loss: 1.2117 - val_acc: 0.7963\n",
            "Epoch 346/500\n",
            "429/429 [==============================] - 0s 65us/sample - loss: 0.0376 - acc: 0.9883 - val_loss: 1.2057 - val_acc: 0.7593\n",
            "Epoch 347/500\n",
            "429/429 [==============================] - 0s 72us/sample - loss: 0.0643 - acc: 0.9767 - val_loss: 1.1580 - val_acc: 0.7963\n",
            "Epoch 348/500\n",
            "429/429 [==============================] - 0s 54us/sample - loss: 0.0409 - acc: 0.9883 - val_loss: 1.0693 - val_acc: 0.8148\n",
            "Epoch 349/500\n",
            "429/429 [==============================] - 0s 57us/sample - loss: 0.0690 - acc: 0.9697 - val_loss: 1.1912 - val_acc: 0.7500\n",
            "Epoch 350/500\n",
            "429/429 [==============================] - 0s 52us/sample - loss: 0.0432 - acc: 0.9814 - val_loss: 1.2206 - val_acc: 0.7593\n",
            "Epoch 351/500\n",
            "429/429 [==============================] - 0s 63us/sample - loss: 0.0393 - acc: 0.9837 - val_loss: 1.2969 - val_acc: 0.7500\n",
            "Epoch 352/500\n",
            "429/429 [==============================] - 0s 54us/sample - loss: 0.0744 - acc: 0.9860 - val_loss: 1.3369 - val_acc: 0.7407\n",
            "Epoch 353/500\n",
            "429/429 [==============================] - 0s 66us/sample - loss: 0.0349 - acc: 0.9860 - val_loss: 1.3352 - val_acc: 0.7407\n",
            "Epoch 354/500\n",
            "429/429 [==============================] - 0s 53us/sample - loss: 0.0424 - acc: 0.9860 - val_loss: 1.3816 - val_acc: 0.7222\n",
            "Epoch 355/500\n",
            "429/429 [==============================] - 0s 52us/sample - loss: 0.0774 - acc: 0.9744 - val_loss: 1.4779 - val_acc: 0.7130\n",
            "Epoch 356/500\n",
            "429/429 [==============================] - 0s 54us/sample - loss: 0.0446 - acc: 0.9837 - val_loss: 1.4111 - val_acc: 0.7222\n",
            "Epoch 357/500\n",
            "429/429 [==============================] - 0s 51us/sample - loss: 0.0345 - acc: 0.9907 - val_loss: 1.3784 - val_acc: 0.7222\n",
            "Epoch 358/500\n",
            "429/429 [==============================] - 0s 57us/sample - loss: 0.0742 - acc: 0.9697 - val_loss: 1.5195 - val_acc: 0.7037\n",
            "Epoch 359/500\n",
            "429/429 [==============================] - 0s 55us/sample - loss: 0.0470 - acc: 0.9837 - val_loss: 1.5571 - val_acc: 0.7130\n",
            "Epoch 360/500\n",
            "429/429 [==============================] - 0s 59us/sample - loss: 0.0577 - acc: 0.9790 - val_loss: 1.3229 - val_acc: 0.7778\n",
            "Epoch 361/500\n",
            "429/429 [==============================] - 0s 57us/sample - loss: 0.0664 - acc: 0.9790 - val_loss: 1.2091 - val_acc: 0.7870\n",
            "Epoch 362/500\n",
            "429/429 [==============================] - 0s 51us/sample - loss: 0.0588 - acc: 0.9720 - val_loss: 1.2224 - val_acc: 0.7685\n",
            "Epoch 363/500\n",
            "429/429 [==============================] - 0s 56us/sample - loss: 0.0440 - acc: 0.9907 - val_loss: 1.1998 - val_acc: 0.7500\n",
            "Epoch 364/500\n",
            "429/429 [==============================] - 0s 50us/sample - loss: 0.0466 - acc: 0.9814 - val_loss: 1.2387 - val_acc: 0.7500\n",
            "Epoch 365/500\n",
            "429/429 [==============================] - 0s 66us/sample - loss: 0.0454 - acc: 0.9837 - val_loss: 1.3303 - val_acc: 0.7685\n",
            "Epoch 366/500\n",
            "429/429 [==============================] - 0s 55us/sample - loss: 0.0399 - acc: 0.9860 - val_loss: 1.3942 - val_acc: 0.7593\n",
            "Epoch 367/500\n",
            "429/429 [==============================] - 0s 54us/sample - loss: 0.0298 - acc: 0.9907 - val_loss: 1.3581 - val_acc: 0.7778\n",
            "Epoch 368/500\n",
            "429/429 [==============================] - 0s 59us/sample - loss: 0.0359 - acc: 0.9860 - val_loss: 1.4236 - val_acc: 0.7778\n",
            "Epoch 369/500\n",
            "429/429 [==============================] - 0s 48us/sample - loss: 0.0692 - acc: 0.9790 - val_loss: 1.4902 - val_acc: 0.7778\n",
            "Epoch 370/500\n",
            "429/429 [==============================] - 0s 51us/sample - loss: 0.0403 - acc: 0.9883 - val_loss: 1.6011 - val_acc: 0.7315\n",
            "Epoch 371/500\n",
            "429/429 [==============================] - 0s 55us/sample - loss: 0.0391 - acc: 0.9837 - val_loss: 1.7599 - val_acc: 0.7037\n",
            "Epoch 372/500\n",
            "429/429 [==============================] - 0s 56us/sample - loss: 0.0412 - acc: 0.9883 - val_loss: 1.8666 - val_acc: 0.6944\n",
            "Epoch 373/500\n",
            "429/429 [==============================] - 0s 60us/sample - loss: 0.0570 - acc: 0.9790 - val_loss: 1.6400 - val_acc: 0.6759\n",
            "Epoch 374/500\n",
            "429/429 [==============================] - 0s 58us/sample - loss: 0.0521 - acc: 0.9883 - val_loss: 1.3945 - val_acc: 0.6944\n",
            "Epoch 375/500\n",
            "429/429 [==============================] - 0s 57us/sample - loss: 0.0487 - acc: 0.9883 - val_loss: 1.4147 - val_acc: 0.7037\n",
            "Epoch 376/500\n",
            "429/429 [==============================] - 0s 58us/sample - loss: 0.0333 - acc: 0.9930 - val_loss: 1.5765 - val_acc: 0.7037\n",
            "Epoch 377/500\n",
            "429/429 [==============================] - 0s 58us/sample - loss: 0.0589 - acc: 0.9790 - val_loss: 1.5978 - val_acc: 0.7037\n",
            "Epoch 378/500\n",
            "429/429 [==============================] - 0s 55us/sample - loss: 0.0467 - acc: 0.9814 - val_loss: 1.4319 - val_acc: 0.7222\n",
            "Epoch 379/500\n",
            "429/429 [==============================] - 0s 58us/sample - loss: 0.0411 - acc: 0.9837 - val_loss: 1.3840 - val_acc: 0.7222\n",
            "Epoch 380/500\n",
            "429/429 [==============================] - 0s 52us/sample - loss: 0.0477 - acc: 0.9814 - val_loss: 1.4146 - val_acc: 0.7222\n",
            "Epoch 381/500\n",
            "429/429 [==============================] - 0s 54us/sample - loss: 0.0417 - acc: 0.9860 - val_loss: 1.4346 - val_acc: 0.7500\n",
            "Epoch 382/500\n",
            "429/429 [==============================] - 0s 65us/sample - loss: 0.0603 - acc: 0.9814 - val_loss: 1.4416 - val_acc: 0.7315\n",
            "Epoch 383/500\n",
            "429/429 [==============================] - 0s 70us/sample - loss: 0.0367 - acc: 0.9860 - val_loss: 1.3724 - val_acc: 0.7130\n",
            "Epoch 384/500\n",
            "429/429 [==============================] - 0s 57us/sample - loss: 0.0306 - acc: 0.9930 - val_loss: 1.4890 - val_acc: 0.7222\n",
            "Epoch 385/500\n",
            "429/429 [==============================] - 0s 52us/sample - loss: 0.0638 - acc: 0.9720 - val_loss: 1.6001 - val_acc: 0.6852\n",
            "Epoch 386/500\n",
            "429/429 [==============================] - 0s 59us/sample - loss: 0.0452 - acc: 0.9883 - val_loss: 1.6579 - val_acc: 0.6944\n",
            "Epoch 387/500\n",
            "429/429 [==============================] - 0s 58us/sample - loss: 0.0432 - acc: 0.9860 - val_loss: 1.5555 - val_acc: 0.7500\n",
            "Epoch 388/500\n",
            "429/429 [==============================] - 0s 57us/sample - loss: 0.0288 - acc: 0.9860 - val_loss: 1.4702 - val_acc: 0.7685\n",
            "Epoch 389/500\n",
            "429/429 [==============================] - 0s 57us/sample - loss: 0.0591 - acc: 0.9744 - val_loss: 1.5125 - val_acc: 0.7222\n",
            "Epoch 390/500\n",
            "429/429 [==============================] - 0s 53us/sample - loss: 0.0643 - acc: 0.9814 - val_loss: 1.4462 - val_acc: 0.6852\n",
            "Epoch 391/500\n",
            "429/429 [==============================] - 0s 59us/sample - loss: 0.0471 - acc: 0.9767 - val_loss: 1.3186 - val_acc: 0.7500\n",
            "Epoch 392/500\n",
            "429/429 [==============================] - 0s 58us/sample - loss: 0.0385 - acc: 0.9860 - val_loss: 1.1962 - val_acc: 0.7593\n",
            "Epoch 393/500\n",
            "429/429 [==============================] - 0s 53us/sample - loss: 0.0396 - acc: 0.9814 - val_loss: 1.1213 - val_acc: 0.7870\n",
            "Epoch 394/500\n",
            "429/429 [==============================] - 0s 51us/sample - loss: 0.0472 - acc: 0.9837 - val_loss: 1.2533 - val_acc: 0.7685\n",
            "Epoch 395/500\n",
            "429/429 [==============================] - 0s 50us/sample - loss: 0.0332 - acc: 0.9883 - val_loss: 1.4361 - val_acc: 0.7685\n",
            "Epoch 396/500\n",
            "429/429 [==============================] - 0s 56us/sample - loss: 0.0214 - acc: 0.9883 - val_loss: 1.5106 - val_acc: 0.7778\n",
            "Epoch 397/500\n",
            "429/429 [==============================] - 0s 54us/sample - loss: 0.0562 - acc: 0.9767 - val_loss: 1.4384 - val_acc: 0.7870\n",
            "Epoch 398/500\n",
            "429/429 [==============================] - 0s 57us/sample - loss: 0.0324 - acc: 0.9907 - val_loss: 1.4221 - val_acc: 0.7778\n",
            "Epoch 399/500\n",
            "429/429 [==============================] - 0s 55us/sample - loss: 0.0268 - acc: 0.9907 - val_loss: 1.4856 - val_acc: 0.7500\n",
            "Epoch 400/500\n",
            "429/429 [==============================] - 0s 60us/sample - loss: 0.0585 - acc: 0.9860 - val_loss: 1.4591 - val_acc: 0.7315\n",
            "Epoch 401/500\n",
            "429/429 [==============================] - 0s 66us/sample - loss: 0.0409 - acc: 0.9837 - val_loss: 1.5285 - val_acc: 0.7315\n",
            "Epoch 402/500\n",
            "429/429 [==============================] - 0s 54us/sample - loss: 0.0340 - acc: 0.9837 - val_loss: 1.5584 - val_acc: 0.7315\n",
            "Epoch 403/500\n",
            "429/429 [==============================] - 0s 55us/sample - loss: 0.0304 - acc: 0.9907 - val_loss: 1.5678 - val_acc: 0.7130\n",
            "Epoch 404/500\n",
            "429/429 [==============================] - 0s 59us/sample - loss: 0.0445 - acc: 0.9814 - val_loss: 1.3670 - val_acc: 0.7407\n",
            "Epoch 405/500\n",
            "429/429 [==============================] - 0s 54us/sample - loss: 0.0326 - acc: 0.9907 - val_loss: 1.2279 - val_acc: 0.7963\n",
            "Epoch 406/500\n",
            "429/429 [==============================] - 0s 52us/sample - loss: 0.0300 - acc: 0.9907 - val_loss: 1.1586 - val_acc: 0.7778\n",
            "Epoch 407/500\n",
            "429/429 [==============================] - 0s 55us/sample - loss: 0.0345 - acc: 0.9930 - val_loss: 1.2513 - val_acc: 0.7778\n",
            "Epoch 408/500\n",
            "429/429 [==============================] - 0s 57us/sample - loss: 0.0295 - acc: 0.9883 - val_loss: 1.2682 - val_acc: 0.7778\n",
            "Epoch 409/500\n",
            "429/429 [==============================] - 0s 55us/sample - loss: 0.0323 - acc: 0.9930 - val_loss: 1.4860 - val_acc: 0.7870\n",
            "Epoch 410/500\n",
            "429/429 [==============================] - 0s 55us/sample - loss: 0.0702 - acc: 0.9767 - val_loss: 1.2681 - val_acc: 0.7593\n",
            "Epoch 411/500\n",
            "429/429 [==============================] - 0s 53us/sample - loss: 0.0840 - acc: 0.9697 - val_loss: 1.6724 - val_acc: 0.6944\n",
            "Epoch 412/500\n",
            "429/429 [==============================] - 0s 53us/sample - loss: 0.0701 - acc: 0.9744 - val_loss: 1.6530 - val_acc: 0.7037\n",
            "Epoch 413/500\n",
            "429/429 [==============================] - 0s 57us/sample - loss: 0.0819 - acc: 0.9697 - val_loss: 1.4593 - val_acc: 0.7685\n",
            "Epoch 414/500\n",
            "429/429 [==============================] - 0s 69us/sample - loss: 0.1297 - acc: 0.9720 - val_loss: 1.3991 - val_acc: 0.6944\n",
            "Epoch 415/500\n",
            "429/429 [==============================] - 0s 62us/sample - loss: 0.1043 - acc: 0.9697 - val_loss: 1.6379 - val_acc: 0.6667\n",
            "Epoch 416/500\n",
            "429/429 [==============================] - 0s 57us/sample - loss: 0.0926 - acc: 0.9767 - val_loss: 1.5004 - val_acc: 0.7778\n",
            "Epoch 417/500\n",
            "429/429 [==============================] - 0s 56us/sample - loss: 0.2680 - acc: 0.9347 - val_loss: 1.2390 - val_acc: 0.8056\n",
            "Epoch 418/500\n",
            "429/429 [==============================] - 0s 64us/sample - loss: 0.0995 - acc: 0.9674 - val_loss: 2.0004 - val_acc: 0.6667\n",
            "Epoch 419/500\n",
            "429/429 [==============================] - 0s 56us/sample - loss: 0.2394 - acc: 0.9207 - val_loss: 1.2587 - val_acc: 0.7963\n",
            "Epoch 420/500\n",
            "429/429 [==============================] - 0s 52us/sample - loss: 0.1772 - acc: 0.9441 - val_loss: 1.6550 - val_acc: 0.7963\n",
            "Epoch 421/500\n",
            "429/429 [==============================] - 0s 55us/sample - loss: 0.1426 - acc: 0.9464 - val_loss: 1.9062 - val_acc: 0.6481\n",
            "Epoch 422/500\n",
            "429/429 [==============================] - 0s 53us/sample - loss: 0.2255 - acc: 0.9301 - val_loss: 1.8978 - val_acc: 0.6759\n",
            "Epoch 423/500\n",
            "429/429 [==============================] - 0s 62us/sample - loss: 0.1103 - acc: 0.9557 - val_loss: 1.9235 - val_acc: 0.7315\n",
            "Epoch 424/500\n",
            "429/429 [==============================] - 0s 53us/sample - loss: 0.1892 - acc: 0.9510 - val_loss: 1.5905 - val_acc: 0.7593\n",
            "Epoch 425/500\n",
            "429/429 [==============================] - 0s 58us/sample - loss: 0.1432 - acc: 0.9580 - val_loss: 1.9161 - val_acc: 0.6852\n",
            "Epoch 426/500\n",
            "429/429 [==============================] - 0s 53us/sample - loss: 0.2806 - acc: 0.9091 - val_loss: 1.6505 - val_acc: 0.7130\n",
            "Epoch 427/500\n",
            "429/429 [==============================] - 0s 55us/sample - loss: 0.1715 - acc: 0.9441 - val_loss: 1.7148 - val_acc: 0.7500\n",
            "Epoch 428/500\n",
            "429/429 [==============================] - 0s 59us/sample - loss: 0.2699 - acc: 0.9184 - val_loss: 1.1969 - val_acc: 0.7870\n",
            "Epoch 429/500\n",
            "429/429 [==============================] - 0s 55us/sample - loss: 0.2376 - acc: 0.9254 - val_loss: 1.5538 - val_acc: 0.7130\n",
            "Epoch 430/500\n",
            "429/429 [==============================] - 0s 53us/sample - loss: 0.1869 - acc: 0.9371 - val_loss: 1.5829 - val_acc: 0.6944\n",
            "Epoch 431/500\n",
            "429/429 [==============================] - 0s 61us/sample - loss: 0.1791 - acc: 0.9487 - val_loss: 1.7750 - val_acc: 0.7037\n",
            "Epoch 432/500\n",
            "429/429 [==============================] - 0s 54us/sample - loss: 0.2214 - acc: 0.9324 - val_loss: 1.3923 - val_acc: 0.7222\n",
            "Epoch 433/500\n",
            "429/429 [==============================] - 0s 57us/sample - loss: 0.0849 - acc: 0.9650 - val_loss: 1.5400 - val_acc: 0.7222\n",
            "Epoch 434/500\n",
            "429/429 [==============================] - 0s 59us/sample - loss: 0.1181 - acc: 0.9580 - val_loss: 1.6055 - val_acc: 0.7222\n",
            "Epoch 435/500\n",
            "429/429 [==============================] - 0s 58us/sample - loss: 0.1049 - acc: 0.9697 - val_loss: 1.2757 - val_acc: 0.7500\n",
            "Epoch 436/500\n",
            "429/429 [==============================] - 0s 69us/sample - loss: 0.1072 - acc: 0.9580 - val_loss: 1.2526 - val_acc: 0.7778\n",
            "Epoch 437/500\n",
            "429/429 [==============================] - 0s 53us/sample - loss: 0.0902 - acc: 0.9744 - val_loss: 1.3140 - val_acc: 0.7685\n",
            "Epoch 438/500\n",
            "429/429 [==============================] - 0s 54us/sample - loss: 0.1077 - acc: 0.9627 - val_loss: 1.5491 - val_acc: 0.7130\n",
            "Epoch 439/500\n",
            "429/429 [==============================] - 0s 52us/sample - loss: 0.0764 - acc: 0.9744 - val_loss: 1.3994 - val_acc: 0.7593\n",
            "Epoch 440/500\n",
            "429/429 [==============================] - 0s 59us/sample - loss: 0.0870 - acc: 0.9697 - val_loss: 1.3072 - val_acc: 0.7593\n",
            "Epoch 441/500\n",
            "429/429 [==============================] - 0s 57us/sample - loss: 0.0781 - acc: 0.9720 - val_loss: 1.2894 - val_acc: 0.7685\n",
            "Epoch 442/500\n",
            "429/429 [==============================] - 0s 54us/sample - loss: 0.0650 - acc: 0.9767 - val_loss: 1.2269 - val_acc: 0.7500\n",
            "Epoch 443/500\n",
            "429/429 [==============================] - 0s 53us/sample - loss: 0.0613 - acc: 0.9767 - val_loss: 1.1435 - val_acc: 0.7593\n",
            "Epoch 444/500\n",
            "429/429 [==============================] - 0s 58us/sample - loss: 0.0372 - acc: 0.9883 - val_loss: 1.2907 - val_acc: 0.7870\n",
            "Epoch 445/500\n",
            "429/429 [==============================] - 0s 54us/sample - loss: 0.1194 - acc: 0.9534 - val_loss: 1.1171 - val_acc: 0.7963\n",
            "Epoch 446/500\n",
            "429/429 [==============================] - 0s 58us/sample - loss: 0.0740 - acc: 0.9744 - val_loss: 1.2243 - val_acc: 0.7593\n",
            "Epoch 447/500\n",
            "429/429 [==============================] - 0s 55us/sample - loss: 0.0725 - acc: 0.9767 - val_loss: 1.1315 - val_acc: 0.7778\n",
            "Epoch 448/500\n",
            "429/429 [==============================] - 0s 59us/sample - loss: 0.0653 - acc: 0.9790 - val_loss: 1.0704 - val_acc: 0.7685\n",
            "Epoch 449/500\n",
            "429/429 [==============================] - 0s 57us/sample - loss: 0.0404 - acc: 0.9883 - val_loss: 1.2077 - val_acc: 0.7685\n",
            "Epoch 450/500\n",
            "429/429 [==============================] - 0s 74us/sample - loss: 0.0326 - acc: 0.9883 - val_loss: 1.3485 - val_acc: 0.7593\n",
            "Epoch 451/500\n",
            "429/429 [==============================] - 0s 51us/sample - loss: 0.0701 - acc: 0.9767 - val_loss: 1.3285 - val_acc: 0.7685\n",
            "Epoch 452/500\n",
            "429/429 [==============================] - 0s 56us/sample - loss: 0.0678 - acc: 0.9720 - val_loss: 1.2636 - val_acc: 0.7593\n",
            "Epoch 453/500\n",
            "429/429 [==============================] - 0s 57us/sample - loss: 0.0502 - acc: 0.9837 - val_loss: 1.2277 - val_acc: 0.7593\n",
            "Epoch 454/500\n",
            "429/429 [==============================] - 0s 69us/sample - loss: 0.0560 - acc: 0.9744 - val_loss: 1.2432 - val_acc: 0.7315\n",
            "Epoch 455/500\n",
            "429/429 [==============================] - 0s 49us/sample - loss: 0.0448 - acc: 0.9790 - val_loss: 1.4121 - val_acc: 0.7130\n",
            "Epoch 456/500\n",
            "429/429 [==============================] - 0s 51us/sample - loss: 0.0684 - acc: 0.9697 - val_loss: 1.3094 - val_acc: 0.7130\n",
            "Epoch 457/500\n",
            "429/429 [==============================] - 0s 56us/sample - loss: 0.0563 - acc: 0.9790 - val_loss: 1.1688 - val_acc: 0.7870\n",
            "Epoch 458/500\n",
            "429/429 [==============================] - 0s 51us/sample - loss: 0.0266 - acc: 0.9953 - val_loss: 1.2102 - val_acc: 0.7593\n",
            "Epoch 459/500\n",
            "429/429 [==============================] - 0s 57us/sample - loss: 0.0474 - acc: 0.9883 - val_loss: 1.3401 - val_acc: 0.7315\n",
            "Epoch 460/500\n",
            "429/429 [==============================] - 0s 50us/sample - loss: 0.0331 - acc: 0.9860 - val_loss: 1.4939 - val_acc: 0.7315\n",
            "Epoch 461/500\n",
            "429/429 [==============================] - 0s 58us/sample - loss: 0.0319 - acc: 0.9907 - val_loss: 1.4904 - val_acc: 0.7500\n",
            "Epoch 462/500\n",
            "429/429 [==============================] - 0s 55us/sample - loss: 0.0543 - acc: 0.9837 - val_loss: 1.3041 - val_acc: 0.7593\n",
            "Epoch 463/500\n",
            "429/429 [==============================] - 0s 60us/sample - loss: 0.0298 - acc: 0.9907 - val_loss: 1.2715 - val_acc: 0.7593\n",
            "Epoch 464/500\n",
            "429/429 [==============================] - 0s 55us/sample - loss: 0.0318 - acc: 0.9860 - val_loss: 1.3696 - val_acc: 0.7778\n",
            "Epoch 465/500\n",
            "429/429 [==============================] - 0s 54us/sample - loss: 0.0277 - acc: 0.9883 - val_loss: 1.4659 - val_acc: 0.7685\n",
            "Epoch 466/500\n",
            "429/429 [==============================] - 0s 51us/sample - loss: 0.0329 - acc: 0.9837 - val_loss: 1.5369 - val_acc: 0.7593\n",
            "Epoch 467/500\n",
            "429/429 [==============================] - 0s 62us/sample - loss: 0.0342 - acc: 0.9883 - val_loss: 1.7413 - val_acc: 0.7685\n",
            "Epoch 468/500\n",
            "429/429 [==============================] - 0s 53us/sample - loss: 0.0699 - acc: 0.9860 - val_loss: 1.6666 - val_acc: 0.7593\n",
            "Epoch 469/500\n",
            "429/429 [==============================] - 0s 59us/sample - loss: 0.0229 - acc: 0.9907 - val_loss: 1.5408 - val_acc: 0.7685\n",
            "Epoch 470/500\n",
            "429/429 [==============================] - 0s 58us/sample - loss: 0.0172 - acc: 0.9977 - val_loss: 1.4884 - val_acc: 0.7407\n",
            "Epoch 471/500\n",
            "429/429 [==============================] - 0s 66us/sample - loss: 0.0390 - acc: 0.9860 - val_loss: 1.3750 - val_acc: 0.7593\n",
            "Epoch 472/500\n",
            "429/429 [==============================] - 0s 49us/sample - loss: 0.0278 - acc: 0.9907 - val_loss: 1.3159 - val_acc: 0.7778\n",
            "Epoch 473/500\n",
            "429/429 [==============================] - 0s 54us/sample - loss: 0.0360 - acc: 0.9883 - val_loss: 1.2670 - val_acc: 0.7685\n",
            "Epoch 474/500\n",
            "429/429 [==============================] - 0s 56us/sample - loss: 0.0345 - acc: 0.9883 - val_loss: 1.2829 - val_acc: 0.7593\n",
            "Epoch 475/500\n",
            "429/429 [==============================] - 0s 60us/sample - loss: 0.0253 - acc: 0.9883 - val_loss: 1.4369 - val_acc: 0.7222\n",
            "Epoch 476/500\n",
            "429/429 [==============================] - 0s 53us/sample - loss: 0.0257 - acc: 0.9907 - val_loss: 1.4742 - val_acc: 0.7222\n",
            "Epoch 477/500\n",
            "429/429 [==============================] - 0s 56us/sample - loss: 0.0399 - acc: 0.9883 - val_loss: 1.3943 - val_acc: 0.7315\n",
            "Epoch 478/500\n",
            "429/429 [==============================] - 0s 55us/sample - loss: 0.0156 - acc: 0.9977 - val_loss: 1.3566 - val_acc: 0.7407\n",
            "Epoch 479/500\n",
            "429/429 [==============================] - 0s 54us/sample - loss: 0.0507 - acc: 0.9860 - val_loss: 1.3907 - val_acc: 0.7593\n",
            "Epoch 480/500\n",
            "429/429 [==============================] - 0s 57us/sample - loss: 0.0328 - acc: 0.9860 - val_loss: 1.5064 - val_acc: 0.7593\n",
            "Epoch 481/500\n",
            "429/429 [==============================] - 0s 55us/sample - loss: 0.0215 - acc: 0.9930 - val_loss: 1.6429 - val_acc: 0.7593\n",
            "Epoch 482/500\n",
            "429/429 [==============================] - 0s 56us/sample - loss: 0.0278 - acc: 0.9860 - val_loss: 1.5884 - val_acc: 0.7500\n",
            "Epoch 483/500\n",
            "429/429 [==============================] - 0s 54us/sample - loss: 0.0277 - acc: 0.9883 - val_loss: 1.4096 - val_acc: 0.7315\n",
            "Epoch 484/500\n",
            "429/429 [==============================] - 0s 57us/sample - loss: 0.0209 - acc: 0.9883 - val_loss: 1.2374 - val_acc: 0.7685\n",
            "Epoch 485/500\n",
            "429/429 [==============================] - 0s 52us/sample - loss: 0.0322 - acc: 0.9907 - val_loss: 1.1640 - val_acc: 0.7685\n",
            "Epoch 486/500\n",
            "429/429 [==============================] - 0s 61us/sample - loss: 0.0285 - acc: 0.9883 - val_loss: 1.1730 - val_acc: 0.7870\n",
            "Epoch 487/500\n",
            "429/429 [==============================] - 0s 68us/sample - loss: 0.0331 - acc: 0.9860 - val_loss: 1.2639 - val_acc: 0.7500\n",
            "Epoch 488/500\n",
            "429/429 [==============================] - 0s 65us/sample - loss: 0.0276 - acc: 0.9907 - val_loss: 1.2932 - val_acc: 0.7315\n",
            "Epoch 489/500\n",
            "429/429 [==============================] - 0s 55us/sample - loss: 0.0286 - acc: 0.9883 - val_loss: 1.3133 - val_acc: 0.7407\n",
            "Epoch 490/500\n",
            "429/429 [==============================] - 0s 77us/sample - loss: 0.0196 - acc: 0.9953 - val_loss: 1.3508 - val_acc: 0.7315\n",
            "Epoch 491/500\n",
            "429/429 [==============================] - 0s 53us/sample - loss: 0.0622 - acc: 0.9744 - val_loss: 1.4599 - val_acc: 0.7130\n",
            "Epoch 492/500\n",
            "429/429 [==============================] - 0s 60us/sample - loss: 0.0094 - acc: 1.0000 - val_loss: 1.6490 - val_acc: 0.6944\n",
            "Epoch 493/500\n",
            "429/429 [==============================] - 0s 56us/sample - loss: 0.0295 - acc: 0.9883 - val_loss: 1.7258 - val_acc: 0.7222\n",
            "Epoch 494/500\n",
            "429/429 [==============================] - 0s 51us/sample - loss: 0.0613 - acc: 0.9860 - val_loss: 1.5449 - val_acc: 0.7593\n",
            "Epoch 495/500\n",
            "429/429 [==============================] - 0s 54us/sample - loss: 0.0181 - acc: 0.9953 - val_loss: 1.5380 - val_acc: 0.7870\n",
            "Epoch 496/500\n",
            "429/429 [==============================] - 0s 58us/sample - loss: 0.0511 - acc: 0.9837 - val_loss: 1.7070 - val_acc: 0.7407\n",
            "Epoch 497/500\n",
            "429/429 [==============================] - 0s 53us/sample - loss: 0.0394 - acc: 0.9814 - val_loss: 1.8530 - val_acc: 0.7130\n",
            "Epoch 498/500\n",
            "429/429 [==============================] - 0s 49us/sample - loss: 0.0513 - acc: 0.9744 - val_loss: 1.5267 - val_acc: 0.7500\n",
            "Epoch 499/500\n",
            "429/429 [==============================] - 0s 56us/sample - loss: 0.0460 - acc: 0.9837 - val_loss: 1.2878 - val_acc: 0.8056\n",
            "Epoch 500/500\n",
            "429/429 [==============================] - 0s 54us/sample - loss: 0.0302 - acc: 0.9907 - val_loss: 1.2004 - val_acc: 0.7963\n"
          ],
          "name": "stdout"
        }
      ]
    },
    {
      "cell_type": "code",
      "metadata": {
        "id": "RnyKHtnbRV4j",
        "colab_type": "code",
        "colab": {}
      },
      "source": [
        "''' reshaping testing data before feeding into the model '''\n",
        "num_testfiles = y_test.shape[0]\n",
        "x_test = x_test.reshape(num_testfiles,num_features,1)"
      ],
      "execution_count": 37,
      "outputs": []
    },
    {
      "cell_type": "code",
      "metadata": {
        "id": "Cha7Sw8rRZ6B",
        "colab_type": "code",
        "colab": {
          "base_uri": "https://localhost:8080/",
          "height": 53
        },
        "outputId": "67be698d-0c1f-49ed-fc0f-f19404199be0"
      },
      "source": [
        "''' evaluating the testing accuracy for the trained model '''\n",
        "test_loss,test_accuracy = cnn_model.evaluate(x_test, y_test)\n",
        "print('Testing accuracy is :',test_accuracy*100,'%')"
      ],
      "execution_count": 38,
      "outputs": [
        {
          "output_type": "stream",
          "text": [
            "135/135 [==============================] - 0s 1ms/sample - loss: 2.6894 - acc: 0.5852\n",
            "Testing accuracy is : 58.5185170173645 %\n"
          ],
          "name": "stdout"
        }
      ]
    },
    {
      "cell_type": "code",
      "metadata": {
        "id": "gmiekvShxdau",
        "colab_type": "code",
        "colab": {}
      },
      "source": [
        "''' imports required for playing sound files '''\n",
        "import IPython.display as ipd"
      ],
      "execution_count": 39,
      "outputs": []
    },
    {
      "cell_type": "code",
      "metadata": {
        "id": "YB07AxVxRb3N",
        "colab_type": "code",
        "colab": {
          "base_uri": "https://localhost:8080/",
          "height": 79
        },
        "outputId": "203b5c5f-f6f9-4d95-aef3-a5bc7f334087"
      },
      "source": [
        "''' taking a random file from the testing data '''\n",
        "random_data = test.sample()\n",
        "file = random_data.iloc[0]['file']\n",
        "print('file ',file[-24:])\n",
        "original_emotion = random_data.iloc[0]['emotion']\n",
        "ipd.Audio(filename=file,) # load a local WAV file"
      ],
      "execution_count": 40,
      "outputs": [
        {
          "output_type": "stream",
          "text": [
            "file  03-01-01-01-01-01-06.wav\n"
          ],
          "name": "stdout"
        },
        {
          "output_type": "execute_result",
          "data": {
            "text/html": [
              "\n",
              "                <audio controls=\"controls\" >\n",
              "                    <source src=\"data:audio/x-wav;base64,UklGRl5CAwBXQVZFZm10IBIAAAADAAEAgD4AAAD6AAAEACAAAABmYWN0BAAAAIvQAABkYXRhLEIDAAAAAAAAAAAAAAAAAAAAAAAAAAAAAAAAAAAAAAAAAAAAAAAAAAAAAAAAAAAAAAAAAAAAAAAAAAAAAAAAAAAAAAAAAAAAAAAAAAAAAAAAAAAAAAAAAAAAAAAAAAAAAAAAAAAAAAAAAAAAAAAAAAAAAAAAAAAAAAAAAAAAAAAAAAAAAAAAAAAAAAAAAAAAAAAAAAAAAAAAAAAAAAAAAAAAAAAAAAAAAAAAAAAAAAAAAAAAAAAAAAAAAAAAAAAAAAAAAAAAAAAAAAAAAAAAAAAAAAAAAAAAAAAAAAAAAAAAAAAAAAAAAAAAAAAAAAAAAAAAAAAAAAAAAAAAAAAAAAAAAAAAAAAAAAAAAAAAAAAAAAAAAAAAAAAAAAAAAAAAAAAAAAAAAAAAAAAAAAAAAAAAAAAAAAAAAAAAAAAAAAAAAAAAAAAAAAAAAAAAAAAAAAAAAAAAAAAAAAAAAAAAAAAAAAAAAAAAAAAAAAAAAAAAAAAAAAAAAAAAAAAAAAAAAAAAAAAAAAAAAAAAAAAAAAAAAAAAAAAAAAAAAAAAAAAAAAAAAAAAAAAAAAAAAAAAAAAAAAAAAAAAAAAAAAAAAAAAAAAAAAAAAAAAAAAAAAAAAAAAAAAAAAAAAAAAAAAAAAAAAAAAAAAAAAAAAAAAAAAAAAAAAAAAAAAAAAAAAAAAAAAAAAAAAAAAAAAAAAAAAAAAAAAAAAAAAAAAAAAAAAAAAAAAAAAAAAAAAAAAAAAAAAAAAAAAAAAAAAAAAAAAAAAAAAAAAAAAAAAAAAAAAAAAAAAAAAAAAAAAAAAAAAAAAAAAAAAAAAAAAAAAAAAAAAAAAAAAAAAAAAAAAAAAAAAAAAAAAAAAAAAAAAAAAAAAAAAAAAAAAAAAAAAAAAAAAAAAAAAAAAAAAAAAAAAAAAAAAAAAAAAAAAAAAAAAAAAAAAAAAAAAAAAAAAAAAAAAAAAAAAAAAAAAAAAAAAAAAAAAAAAAAAAAAAAAAAAAAAAAAAAAAAAAAAAAAAAAAAAAAAAAAAAAAAAAAAAAAAAAAAAAAAAAAAAAAAAAAAAAAAAAAAAAAAAAAAAAAAAAAAAAAAAAAAAAAAAAAAAAAAAAAAAAAAAAAAAAAAAAAAAAAAAAAAAAAAAAAAAAAAAAAAAAAAAAAAAAAAAAAAAAAAAAAAAAAAAAAAAAAAAAAAAAAAAAAAAAAAAAAAAAAAAAAAAAAAAAAAAAAAAAAAAAAAAAAAAAAAAAAAAAAAAAAAAAAAAAAAAAAAAAAAAAAAAAAAAAAAAAAAAAAAAAAAAAAAAAAAAAAAAAAAAAAAAAAAAAAAAAAAAAAAAAAAAAAAAAAAAAAAAAAAAAAAAAAAAAAAAAAAAAAAAAAAAAAAAAAAAAAAAAAAAAAAAAAAAAAAAAAAAAAAAAAAAAAAAAAAAAAAAAAAAAAAAAAAAAAAAAAAAAAAAAAAAAAAAAAAAAAAAAAAAAAAAAAAAAAAAAAAAAAAAAAAAAAAAAAAAAAAAAAAAAAAAAAAAAAAAAAAAAAAAAAAAAAAAAAAAAAAAAAAAAAAAAAAAAAAAAAAAAAAAAAAAAAAAAAAAAAAAAAAAAAAAAAAAAAAAAAAAAAAAAAAAAAAAAAAAAAAAAAAAAAAAAAAAAAAAAAAAAAAAAAAAAAAAAAAAAAAAAAAAAAAAAAAAAAAAAAAAAAAAAAAAAAAAAAAAAAAAAAAAAAAAAAAAAAAAAAAAAAAAAAAAAAAAAAAAAAAAAAAAAAAAAAAAAAAAAAAAAAAAAAAAAAAAAAAAAAAAAAAAAAAAAAAAAAAAAAAAAAAAAAAAAAAAAAAAAAAAAAAAAAAAAAAAAAAAAAAAAAAAAAAAAAAAAAAAAAAAAAAAAAAAAAAAAAAAAAAAAAAAAAAAAAAAAAAAAAAAAAAAAAAAAAAAAAAAAAAAAAAAAAAAAAAAAAAAAAAAAAAAAAAAAAAAAAAAAAAAAAAAAAAAAAAAAAAAAAAAAAAAAAAAAAAAAAAAAAAAAAAAAAAAAAAAAAAAAAAAAAAAAAAAAAAAAAAAAAAAAAAAAAAAAAAAAAAAAAAAAAAAAAAAAAAAAAAAAAAAAAAAAAAAAAAAAAAAAAAAAAAAAAAAAAAAAAAAAAAAAAAAAAAAAAAAAAAAAAAAAAAAAAAAAAAAAAAAAAAAAAAAAAAAAAAAAAAAAAAAAAAAAAAAAAAAAAAAAAAAAAAAAAAAAAAAAAAAAAAAAAAAAAAAAAAAAAAAAAAAAAAAAAAAAAAAAAAAAAAAAAAAAAAAAAAAAAAAAAAAAAAAAAAAAAAAAAAAAAAAAAAAAAAAAAAAAAAAAAAAAAAAAAAAAAAAAAAAAAAAAAAAAAAAAAAAAAAAAAAAAAAAAAAAAAAAAAAAAAAAAAAAAAAAAAAAAAAAAAAAAAAAAAAAAAAAAAAAAAAAAAAAAAAAAAAAAAAAAAAAAAAAAAAAAAAAAAAAAAAAAAAAAAAAAAAAAAAAAAAAAAAAAAAAAAAAAAAAAAAAAAAAAAAAAAAAAAAAAAAAAAAAAAAAAAAAAAAAAAAAAAAAAAAAAAAAAAAAAAAAAAAAAAAAAAAAAAAAAAAAAAAAAAAAAAAAAAAAAAAAAAAAAAAAAAAAAAAAAAAAAAAAAAAAAAAAAAAAAAAAAAAAAAAAAAAAAAAAAAAAAAAAAAAAAAAAAAAAAAAAAAAAAAAAAAAAAAAAAAAAAAAAAAAAAAAAAAAAAAAAAAAAAAAAAAAAAAAAAAAAAAAAAAAAAAAAAAAAAAAAAAAAAAAAAAAAAAAAAAAAAAAAAAAAAAAAAAAAAAAAAAAAAAAAAAAAAAAAAAAAAAAAAAAAAAAAAAAAAAAAAAAAAAAAAAAAAAAAAAAAAAAAAAAAAAAAAAAAAAAAAAAAAAAAAAAAAAAAAAAAAAAAAAAAAAAAAAAAAAAAAAAAAAAAAAAAAAAAAAAAAAAAAAAAAAAAAAAAAAAAAAAAAAAAAAAAAAAAAAAAAAAAAAAAAAAAAAAAAAAAAAAAAAAAAAAAAAAAAAAAAAAAAAAAAAAAAAAAAAAAAAAAAAAAAAAAAAAAAAAAAAAAAAAAAAAAAAAAAAAAAAAAAAAAAAAAAAAAAAAAAAAAAAAAAAAAAAAAAAAAAAAAAAAAAAAAAAAAAAAAAAAAAAAAAAAAAAAAAAAAAAAAAAAAAAAAAAAAAAAAAAAAAAAAAAAAAAAAAAAAAAAAAAAAAAAAAAAAAAAAAAAAAAAAAAAAAAAAAAAAAAAAAAAAAAAAAAAAAAAAAAAAAAAAAAAAAAAAAAAAAAAAAAAAAAAAAAAAAAAAAAAAAAAAAAAAAAAAAAAAAAAAAAAAAAAAAAAAAAAAAAAAAAAAAAAAAAAAAAAAAAAAAAAAAAAAAAAAAAAAAAAAAAAAAAAAAAAAAAAAAAAAAAAAAAAAAAAAAAAAAAAAAAAAAAAAAAAAAAAAAAAAAAAAAAAAAAAAAAAAAAAAAAAAAAAAAAAAAAAAAAAAAAAAAAAAAAAAAAAAAAAAAAAAAAAAAAAAAAAAAAAAAAAAAAAAAAAAAAAAAAAAAAAAAAAAAAAAAAAAAAAAAAAAAAAAAAAAAAAAAAAAAAAAAAAAAAAAAAAAAAAAAAAAAAAAAAAAAAAAAAAAAAAAAAAAAAAAAAAAAAAAAAAAAAAAAAAAAAAAAAAAAAAAAAAAAAAAAAAAAAAAAAAAAAAAAAAAAAAAAAAAAAAAAAAAAAAAAAAAAAAAAAAAAAAAAAAAAK37bKqyhUKsAgH0reVTaqsfw7KuPUOosLGqQrcq7Ei7dooSu33bcLvJkK68xwXsv/KWvr+Rv6S/kuBOwe3oxMPHZSLDHrFIwIqFFsNZOFjBQJV6vCv7Jr4LgpjCy/yOxiMGGMXmoyLH3uwsyl984sgVIajKxz46ywsynMoj0vbKPos4yhMHWsovj0jLDZr+yIaaYMnVrNrJtGQUwV0JdMr4r/rLNBlUzeAmcs+sW0zOFDQe0ZHklNBNzQ7R8VV80VTZ3tO11hDSVCYm0tAqINCcUgLRFRV80Qw4qtIshuTNofmMypGMdtB0hrjR21xe1pYN0NUelxLXkZTA2ApcctwXDLbZWdCy2xsoct4QTMDZ6DsS1XHJzNWzfFrXMYaw0gkYatFzLNzL11L0zcAgstITjYDTst4C0c4aINDVhibTCrYQ0j293tJRhXzQvW0O0OUYlNB3HBrT8cdIzz1ibs56iUzNNfvuyGE5YMoXdSzArPDqy2jyaMtSswLKu3dMyH3fXsrYczzIgPb6yy+2nMqzSjrIiI2oyzZ44sqBrCzIk/Mex+BeGMefFIrGut6Qw9LPCr3L3aa+LnBgwXlpHsHXoUzBXsEmw6AIyMDEIFLBcv+kvSMKvr5C9ey/sQiuvQB3cLgRLhK5CJxIuxIePrZbY5yzlnearvhbpquKsgCviSVKr6tPcKgAAAAAAAAAAAAAAAAAAAAAAAAAAAAAAAAAAAAB08m6ro0AJLFH7g6zDPeAsiycsrReXcC2/FJitn1OpLRZCnK2m0CIt4ws5LdpgT668Juwu23lar6fItC/NxQqw8ixJMPAVi7A/U7gw5szqsE/HDzEkICmxLks+MfM9S7Gp4Uoxg1g3scgPCjGvCHGw1OBisIa6WjGbFNexRj4tMgR+e7JPeqoy+IrbssV6BzNNACGzLZU4M4QaTLP5GFkzUNpcs2N7VDNrEz2zi9gTM3GerLKeQB4wq/DRMhF2bLNts8Mz6QIOtE3ZPjQ6THO0Gv6UNFyhsLSDnss0HO7ktAx8+zQBGQe1wgAONa31EbVZfhI1RRQPtTuJBjWIYyM3/27fNIRLtrTgS4A0WT3ds29a0bNtdPE0MkextbDw/Tbm/a4290hCtunpMDYZIlG21X6+NjE74zZ8EiOxo+kBto6LEzebvGY20joFtTQSITfF2cc1o+sutqdchDe/m902sl+uNHgsBjfsqLk2wRPPNlmFQjYlf543tN4CtuWW/DVIdac3dN1DN5ffyTZZE7k2SRnyNqkjcjdGiK83yDNnN1/IEjfCiSE2O/HaNk5I4zYw6oE3qJn3NR0aXjcAd5s3b+WKNlyxIzdas88201wVNxfhRzZzSkk34333Nmd5NLYxRKA21yIFN9yWEDd9mTU36DgptBlONLT3+wc1MACZtUmk1zalPW43hNuJN0oKiza0k6Y1JA6LtQbGCziTiZU38Z5TNhxymDcObzS1oNgRN5XvDTeASn82MuKEtYFBEDRc78Y0pfdutWa1VzcaJYg3QkA9NhRAFjd/64w1zXOQtQq3rzXnKw22yUubN3JxlTYFPga2nAK/NWA6m7UW2zo3tRkmtQiMBbQZDIc3YPNLNwblHjeyj5k2LG1fN1iuRzepWDE2eEkaN6ntSDahONq0e1kwtA+bsDTg9qq0TChHNAOjvTNLoDC11BpANmkTRzct5gI3Yz14tjoDKTfRwuY1idaANgjo7TZZDcs2xc2yNkU9DrYXCog1Mf26tA1QJLSg+Sg1QSK7tZ9A6TZ6t7k3MxpcNgPAsLWzZ1c1g+eqtCK7L7W70uo2B2vANotnd7Z/OBA3m12QNzNCBDfHHAK2d+uVNTqiR7WcQAc1ZravtEFyTDSINbKz+930r4hSiDOs7OmzZYkVNPxdKLQl0i80EycutMh5JTSbuhe0IaUGNJd057MqeMAzdFqaszVJbTM12SyzK37pMm1Ai7JHWfwxXpgGsOR6m7FjHggybg0rsocDOzIEVjyyjwszMg6pIrJGKw4yAfPvsb7TwzG5mZqxwudrMXmqLbF8F/Yw81WnsCjGWTDyJQewYfqdL778Iq8mWjguKOKOLlmUYa93LeEvnx5CsOGnmTC7ROSwIuIgMUSoWLEQ9Isxpu6tsdEy0DEu7O+xYs4EMlmEDLLCwwwyqwwDsi3V2TGhJpCxn/qUMO7MUjFETg6yMop5MnA9urLa6v0y9rQis97NRjMtWGmzXw+EM3xWkLO8Mpgz10mas9ZDlTNg0Yezt2dhMwJ3HbNAA4MykbRTMtfCSLNGBL8zTrsWtKxtWjTQipe0Pn7ONF8nDbW2t0Y1jZCWtf9MCTZslQy3yHlyt2xB4TXMooe1Ums2NQe49rSwkJY0p6frs5g5n7PvoJw0bCAZtfmtgDXJ29K1Fjk9NqD9IbcWGwq28mVothJBAbc4mua16S4ft8HADTadY2k0JK/3tnKxmLZnSqA1RkVYNViqBbeudG62XYN/t/XGT7fB7cW2kFKat3t1DbceIt60VcEDtnLiWLdq1c+2itpBNYDYJrduXDq2u+4nt03VhzY9eKu2eTqqt50LNbdsOJm3LN/gtonpiLfkpLO29PIEt6tnVbcVlJK3Qi1sttV9urbigrK3QyfBt4JKprf9/ea2wSnGt4TqMLVYXh23lkeVt50MoLedKou3iCmOt5xQFrdxRV63yFjktwNVXbaxwZ63INwVuP0vALdsx/O2k/YUuEMZebecyJW3NyqJtyNgtLbvok63B5Kdt+BhurecVou28jT0t2kEw7dYhXm2f6nKt8ugXLdgdt23bb6Ntx7ZY7b5twK3iRyYtgSoDLd87yG1+9OCtxwlHLdxWze3YAiEtywOybe6FQO3QSTQtuC7rbcmHl21UGCrt8C93LcIkka3W5DttloZsbe6vNq2rwEUtr6rEresr4y2AVr/tqiDuTZNMk63Coiot3nqXLXq0E61GEvPNQXSgLas8TO3zmkttyYpXLf7O0K3js5TtjJ4ATahraC3EVLPt/W6f7dzK+S2fc4kt010GbcQHMK2y3Eot8XrW7fPHCK3p+VbMV4WMbfK0Ri301CRt+QQiLfQtZI2aGiNt3HDg7evvmS3xVUDt/2MjLYVctG3a2W7t0vPNbcYU8k1+WqGtwUCJ7b6nr62i02FtxYDdLbv4Pa2jPEEtk1KHrflpyQ2/9GNtQnuPTRnKHg1GGGQtx9+ArdrrQS3gP9NNhVMsrbBzY23bPK/thY51bb48oc22h20tnT+V7e+iFK3C3KgtZzpbbZ6/Q+3BpwGNk+ugLUqPgg1ej+MtILrAjR/pXOzk/xyM1ZqCbQj+6A01LkxtbYF1TVyOwW3RZactjIhCzYBNri1vumHNf7XT7XrnR81uHjxtOO5sDSbcXS0V/AYNC08mrORd3oys3kCM/W6ibNForwzjY/cs4s/7DP4eu6zlgTmM6Z/1bOiYL8zfdqls73UijMCxV+ziIQsM2R3+7KPRKkyMYhHsk9wrTEVEiUuleCAsYav1jGZggSyGksPMtf7DrLZpgYytw3ysSDG0DFUGa2xH8OJMSc2UbEgahUxNknCsKiKUTBiq2av7GaOr3Q8NTDGEoqwC6myMKv807AO3uswvFn2sPZR7TBhvMiwFFl9MNss+q3Ls7OwyBVaMYMZwrHeFBcy6CpZsvSLkzI537+yhmXwMlmlEbMc+iozYH5Cs4YUVjMAPWOzTCFnMyitXrNgqUYzLesbs28FtzINYj+wDqjesj8FfDNVF9Gz8bsXNGgzS7QYV4A050uatE+YsDRORr60/3y5NFuqibTC7qmzk2wGNvwNWzeZjNA2ivjYtdEy9TYSa702bf/fNmBjoTb77TI3GEcIN7GwKrbq/P01TrkNNwPxPzY9AZg3N/KFN7fHnDaIvDM3fNwYN7Xe0TWQHiq2AxIWN6SMbjaBlB43qNAiNwmUXDau2xs3JkvsNiC0gzYKnn03k321NquafDdbf4k2QT9stk93KDflTcs17myXN10+Rja8f443iJx3NmWn+zYiGb43GBxEN9viazcChLw2YXIUN21q7jZTr5I3STllN+W0MDevRb82WQ7hN+RBszd6LsK15nEPN8jVIDcoEwc3DvcENyHFkDdsyy01xgjwNWcq4zYb20E3Euv9Nzk/lzViDAk2xiY7N+pozLbHFcM3X2ypN+A4tzfpLuM3IpiFNwIHojdWEJ+2FnBcN0urRDfCKyU3lTNAN+/2uzbB2aU2/y08N81CjjdcnTw3wQvfNzvRgjfILF43mqZ4Nzz6szerJmU3VnEbNyKpyjciR9U37PkON9JBurV1pTo34ssONymDoTcipxM4VaMZN2gaJTeVbtQ32NZ2N3Y7wzfjRsc2pny2N6MOtjdD4IM2CWlMN5hv5zZeOYo31ANZN2bNpzf3xO83xmdmNzCPKzcBhI83VrSftBDuEDcK8n43gQrSNoKwmDdKXck3btaZN3KlBjj9t+s3px1aNrYJ/DcnkLU3O/ZZtiu9+TUw3Ja1Ise5NLPMSjde29k3rYe1N1womDd1tTU2XWCSNlY2EDdgwHa2br+0N5Il2zdaj0U3wNS/NqiwX7aQ+hA2iAh9NuLuPTfgrHk2toVrNvO1eTfjJ5I2BfXrNiJRqzblOwk3v6xLtiIjFDc8bGU324zDNXLXMjcfk4u2LXVeNimg4zb9eLw2ygb0NhxNlrVyu8A0AzT0s/wudjImIvgyGH9Ls71zaTMPCnCzBaxrM4gjYrNQ5VUzsctHs/v1NzOaUiazBNsSM5ly+7KtlM4yCDygspOOYzKveQmyrclUMZhstDBBL6+xEFYMMp/+M7IOc04ykVFcssC9XjJ7XVey6h1IMqIQM7IvRRoyRWD/se74yTFrNZexLllSMRGqArFQx4Ewkg5Xr21dwq/DJEYwtWKAsBZjjDCyTYuwOBqBMI6VYrDClD0wYb0XsPRW6C/HjamvGl5rLxrMGa9MzLkuzJRJrvmvuy0OLe2sqz8xqld62ytew0CrY8Uwq/5z5KpSKNgsbM+zrQcUSi4uBL6u8J4fLwkBd69tGbMvgwv1r6cFHzDJJEOwSslhMGEDc7CUnmwwIe9BsKjyyC8UyHIvFwOZsEjkIjEY0Yqx3mTTMTigFbIom0gysJ2AslmSnjKub7yylOfXMjcU7rI3g/syQkv8shcw7DL91MayvP2HMvNzr7EvICGySSnvMvkdWLOtiaQziT7ks+bEFDTqBjm0T1RdNFq0f7QW4o40f1matJKdoDQSyJ+0DJyVNIi0frTXzDI0wEN0sxrL5LOJ1SS3MSg5t1rA9jXtEAu3wDmNthXuEbf/WTa3K2v7MyH2wjS7C3W1gd3uNdrkl7anPwS3ZKijNYro3zR/4ty2OgkJt2q3ELeGYoi3GtrEtaEQXrdaGp63j1tvtkjwMLcpWa+2sWWQNKamfrcRcdq3TQh3tyX3xLbY3ak0MXOVNeHF/7a6iqe2qAo8NqNp97ZONUu3QVUztkYM1jQtlqs0x/RgtYzUszXelAC2Klk4NkBbq7b8r763CNRet2/4zbS7vTu2iMqtNjZmdreDwKW3xR+/tpHItLb65KU1EQi3t6rMKrflYgS3IT48tw0aRzRqDYE1Q73vtqlJL7cnikS36A5Gt/sS9rZQd4e2sW9yt/o207d3hrW3++zkt1otHLfm1Ke36UfDt0eLtreYq/23+Rigt5I6orXLTk239fq9t27hxbeD6xu4xWZ/t2dUs7dc4pW3HwFYt9ZTYLdiRau2SDoxt6nqzLd/vau3bEWdtzbVu7d+A7A2PQHkt9KvLbiT/GS3qdG/t6btsLfia8O24NfXtzJY4betPca3WfzktyAzErh6LJu3AVSOtZxL37eRKpu3PIu5t9v8mLcAtWW3WPYgt4kRRrcPzU+36VFQt4Qo07dKnj23jQSCtP1WKLdk2im3KyMyt+O1GrcSe0+2MZPQt1qtUbeBD423jSCht+DrlLfwkxe3mY8EtiSEFbdJGXm076pCtzF4tzZi9+e2u4uIt90ssrQrlwM2iRkPt7I4hrbA/rk14ZM2t4uOrTTf8+ezlxsws9MTIDQln3S0txeYNH9eq7SMlLU05fS3tOWrszTc5am0T9GbNOeZirTuwW400GdGtB4JHjRNhu6z9MmmM16hTbNkoL8ygNmusDlkgrLG1ekydzYXs7YrKjOQODCzyPkrM+wEILMRzg4zvQn1sswSyjLfs5+yIGJwMsgjKrLF8NwxuS14saRtxTBY1h8vGNilsDF0/DBlJxKx3NkUMQ2rC7E9vfYwSBvPsM4gpjCN3n6w2/k6MHyMArBixawv4GlVrzRs8C4LtWiue3yiLQ+9NSthxSGtSXBLLeQpNK3QQRIt/FTOrNu0fyxFbAmsEiRvKwAAAAAAAAAAAAAAAAAAAAAAAAAAAAAAAAAAAAAAAAAAAAAAAAAAAAAAAAAAAAAAAAAAAAAAAAAAAAAAAAAAAAAAAAAAAAAAAAAAAAAAAAAAAAAAAAAAAAAAAAAAAAAAAAAAAAAAAAAAAAAAAAAAAAAAAAAAAAAAAAAAAAAAAAAAAAAAAAAAAAAAAAAAAAAAAAAAAAAAAAAAAAAAAAAAAAAAAAAAAAAAAAAAAAAAAAAAAAAAAAAAAAAAAAAAAAAAAAAAAAAAAAAAAAAAAAAAAAAAAAAAAAAAAAAAAAAAAAAAAAAAAAAAAAAAAAAAAAAAAAAAAAB08m6ro0AJLFH7g6zDPeAsiycsrfCnYS2r7Iaty1SILVmJQa3/B7OrCGraLf8Xjq5Z7Akvyixqr03KtS8hTASwIKc2MK61cLDW1Zcweme3sP6Q0zBQlOew92rtMD/Z3bD7pLAwNOw5sNNqmK8FxuAwUNVssRUvxTH9QhKyn5lJMiibg7L2ZaQyHobFsj3N5DJohv+y8z8JM5oPDbPxPwkzbZ33smeHxTL0PHGy1n/dMML1eTIHcxSz5Md6M6I/uLMB2/kzKWUgtPaSRTQhR2u0fQ2INIU8mbT9U6g02mu0tAmYvDTr77+04ZS9NAK2tLQBi6Q06yuMtBnBUjSXDik3qgBGM7LRgTPgQ0a0BBevNOuvIjdH0kQ1PYeJtdvWxjV2PCa2HfUUN3aheDbiOZW1XTgyN9ctq7NmWPaz37R/NEowqrQMqcM0w2vQtHhH0zSQXc60PG/DNFcBtLRlbKE0xOKMtDXkbjSSBUS04a0aNIgn6LPJQaIzGdNJs3BOwzJzDkexNdVYsojBzjIirgizjxgcM9nSI7MFJCIzs0gZsw9aCzO2dfSyIxXPMqY8qbIS/oQy369Hsg2DDTLx77ixtDNTMe84sbDO6IWtESF4MKdYxrBu1eowEfDysNIN5zBkZ86wua2uMCFrjLBvK1UwV78WsIcBwC8CiEuv73CFLoZZly342TKuDgM2rNKSDS99rcSvJ0JDMHYKprCGUwAxNTo5sWczfTFuI6WxwE3OMSwK97Hoeg0yiSwasgsMHjIc8BSy4XX0MegukrGziUyvoqLdMSPufLLAjdcyYzAhs4aiXjM3O5GzRgy1M2b72LOcvfozgcULtDIWFjQFiRq04zkXNLI8CrQ2auMzfeGXsyATvDLQjjIziBgBtL7qZTTsS620NAjvNM+zG7Vtw0I1RUpstWsMjDXvTKO1ntW8NW1o27UFkgM2ws4utuoTrDZIQfk23pZpNDhMmjf/d4G0SYIONzgDXDeMbtA2Y124NsLABTdajCs1BeokNoPpIzcmVE+2jYv9NUSJqrW+9WQ1ouMQtdV2njQ+DNyz2YpMs6skLTSAjYK0Xb6fNN89sLQTFLY0rDqztM2XqTRz9Zq0SfiINGMuarTIKUE0xPcYtE905jPQQ6Kz9tdNMyTw1LLz89UxwCYIMofDmrKKstIyRKjwsvGu+TK8vfKy3nXgMuXyxrIZrakyUmyLsi6RXDIJayey8lXyMVJGpbEznE8xfvfjsDh5OTDx+S2t8Gzbr/6mKDD2Sj2w0oo4MHjAJLDAuwkw5vXZr4sGpC+DH2uvmiQgL4EFz65w8HoutJcNrv5hkC1bxwGtVJkbLJLjyCmfI5Kr4klSK+rT3KoAAAAAAAAAAAAAAAAAAAAAAAAAAAAAAAAAAAAAAAAAAAAAAAAAAAAAAAAAAAAAAAAAAAAAAAAAAAAAAAAAAAAAAAAAAAAAAAAAAAAAAAAAAAAAAAAAAAAAAAAAAAAAAAAAAAAAAAAAAAAAAAAAAAAAAAAAAAAAAAAAAAAAAAAAAAAAAAAAAAAAAAAAAAAAAAAAAAAAAAAAAAAAAAAAAAAAAAAAAAAAAAAAAAAAAAAAAAAAAAAAAAAAAAAAAAAAAAAAAAAAAAAAAAAAAAAAAAAAAAAAAAAAAAAAAAAAAAAAAAAAAAAAAAAAAAAAAAAAAAAAAAAAAAAAAAAAAAAAAAAAAAAAAAAAAAAAAAAAAAAAAAAAAAAAAAAAAAAAAAAAAAAAAAAAAAAAAAAAAAAAAAAAAAAAAAAAAAAAAAAAAAAAAAAAAAAAAAAAAAAAAAAAAAAAAAAAAAAAAAAAAAAAAAAAAAAAAAAAAAAAAAAAAAAAAAAAAAAAAAAAAAAAAAAAAAAAAAAAAAAAAAAAAAAAAAAAAAAAAAAAAAAAAAAAAAAAAAAAAAAAAAAAAAAAAAAAAAAAAAAAAAAAAAAAAAAAAAAAAAAAAAAAAAAAAAAAAAAAAAAAAAAAAAAAAAAAAAAAAAAAAAAAAAAAAApCDaphzcErCI9zrC/h+izIcWOtw4+6LUAaB67Lzjcu3wRmrrhzgi5S3X2uBjw6LqvLp6yaDIiuScs4L/kisK/JYhAwJ6lXsGxoljDZMcawBVH4MLwcFLG04Ccxd5IzsZGdMjHr4R+xD13sMIISQrAbH1WwtfY9MaQZtbH/+g0yq25Isp3NgzKaF6SyROvCMiuh3bK9LfEyYT36srte9TJpNd+yDrS0MpiyZrKoYUsxu5kzMojg5bJei0QzlRqQs0vnwTObWvazfPsVNNaYMLTxTko0WJNitLoveTQkPoe0UN6RNBrinbSLH640aVDItO7/+DSUSjC1LSacNbA9a7bOnaS3a/l1NiJwrbZCQwi30Rk8NvuwmrdoaaG2wkkpNmYbDLbXgwm3DLsLtgGTBLcjEFm3MWjXttJ5LrfqMde1fGtrtvnGDLfhZhG3XlzgM4pMTLZreR23nftDNlVxAbaArBG30dGutdCvmzVeo461Nh2FNdRTe7X5t241pxJjtQtEVzU3qUm1tVIfty6CMbXMpyA1ukUNtSUL7jTsJLu01BaBNIlb+7Noe9SyFJlMNIw50rQWJC81hSeLtUbL7DVv75K2iEcJt9R57DVmClC1V6mzNJFchbNzVBq06IW0NGWVHrVoxqA1slvftt8gTreOfUS2e22MNaPaQbU5Ris1dt01tcyogDXXcDu24ZFQtw472rbxc4k1An3ntI+HZjT3+sezzd8CMjoBgTPEsfqz4yExNASXXLQgTH80dfqLtK0ukjQai5C041WENKneUbQLqdYz1R2hM0aO47Rih7E1PzIAt+4RqLYDIyU2V1TytRG0xzVCKqy14A0Yt9EMirVwUnc1DGdctcdLQjWbUii1Zv0NNTHH5bSpQa001hhjtFJLxjOQRSEzxMtDtLFauzR+phO1kuRZNf/zoLUmxgE2uAyZtojjBbdhf801w4QHtVO+UjI/RrA0zBgntemieTU0nrK1ZtEJNvb2m7a8TgW351bSNUpDKbX5b4U01TM+s+HApbM0sCI0NPNRtOurajTkIXO0U65vNH2PY7RKUlE0xwg7tK1nIjTR1gi09vXeM7p4rrNdl4Ezlpsys3rw2DLziEWyPIW1LwlBDzKAOnyyEaaiMvyat7K/i78yYBK9spazsjKXxaKyYl2PMreFdLLQ1EkyseggsnvE9jEQlrSxHM54MV/8HLEB96kwahD5ryJv2q6zx/svqtY1sDZTTTAIj02wn3M+MAh2JrCdkgowu8jcryaeqC8l0XavBLEsL6zq5a5htJAuDMsoro6ksi1GqiKt579ZLAIbF6pCIISrKVNVKlVcqSskXGyswz3gLIsnLK0Xl3AtvxSYrZ9TqS0d1Jiti8YVLesYSy0kaFOubMXrLuaSV6+1IrAvgtkFsHbxPzDqOIOw5tirMC4X2LDrcAIx5OYWsWRbJjG1+iyxayQmMeSaDLGmf7UwOewvr3XBz7AJ/4AxiebisWjXLDKF6XGySnufMq2byLLUWfIyIhMNszZqHjPhXCuzWeAxM+rJL7Mu6CIz2SAJs40jwTI3zR6yshkKst0a/TKqIWyzcyC1M2qQ+7MaDSQ0e49MtDRbdjTYMJC0OcOkNHJWuLRwY8o0A3HatBsZ6DSvCvO0zgL7NPKi/7SiQP80VRwjNzULAzVxrgG1s4z/NDk9+7QqIfc0dx/0tP6Q8zRe1fe0wugCNbuvFLXlGkM13EKvtYtM5TbdU0U3AW6DN7h1ODc8oWM3pqOwNlwMmrY62Tg377RCNUFICjfPeHE2A0IPtX/JG7XsOr41Sf0BNzYQsjYubu028o8ItTQwI7UKF6A1x8jqtYV/bTaiEtY3WKlpNycKCDcnavE1kCDctTkYyjVN8re1JAOlNRtokbXBAns1nYRTtWM5LTWV7Ai1A43ONDmNkbT8Bjc0xhqzswQ9LDL0B1cz3rDRs9aeDzQjYSu0lHo9NAA7R7Qz0Ek0eDRGtB0jPTQ3Ey+0uzgcNGOLBLTfpM8z5GqLsy527jIG/IEyPG2Js1FO/zMt30C0lO2DNB3dqbSWmtE0aUv6tJNsETXv8yS1xN82NccKRrXkwVA1pAtUtVVpSTVlAx615WkzsqM+hTfOeB83txy/NqXPyLLpQxS1UR07NQYOQrXOyDs1PscutS8EHjWpMwu1bfPuNNVcx7T/8qA0yHh5tFECNzSDRvezfSaQM3FY5bLdTdKxfLIHM5yhV7PvdIYziXKVs6eemjPZ3JezeAiPM4ThgbMy+2MzgnpBsxeLHjOP9vmysD+8Mgi4hbLBty4y0fDFsW0FHzFMbIUvWVsKscBkVjFpmn2xRUyEMY9Mf7Fzo2gx6lxKseb9KDHg2wexQHTSMLzknLDZi2AwznYZsG+cxi8DrG+v2NwCL/i9cK5TOI4tm9KbLG8Xaq2ExIUtxWJtrRhbNi3od/qs1KyaLB3IKaxdN3Ur6tPcqgAAAAAAAAAAAAAAAAAAAAAAAAAAAAAAAAAAAAAAAAAAAAAAAAAAAAAAAAAAAAAAAAAAAAAAAAAAAAAAAAAAAAAAAAAAAAAAAAAAAAAAAAAAAAAAAAAAAAAAAAAAAAAAAAAAAAAAAAAAAAAAAAAAAAAAAAAAAAAAAAAAAAAAAAAAAAAAAAAAAAAAAAAAAAAAAAAAAAAAAAAAAAAAAAAAAAAAAAAAAAAAAAAAAAAAAAAAAAAAAAAAAAAAAAAAK37bKqyhUKtBaJArRemAq+OfQqogLVUsZ+warfxnpi1+ChquhF2CLmVZzK5J1hYv8FBTr2KDjS+vvbSvljLcL9LQ/q9w3gow+4sLsNj29y8d0qqvcA2HLo7zsS9vx26w/9jaMEIZLLGUdXcxPwKnsfJi1jEatwOy/lobMqbdL7J6eD4ydelDsj6SPDIamySyLFvwMV/qTrHJxi6xVBEoMvj/oLKjKvwyaPExs9CjajOmB5OzrLCwM0eJzLM8eOQzpBj2s1vI/jNYufuzAQTqM2S1xrOO0o4zNAz9skrVrbI14LUzSIgztIEBkzRNA+C0hpQoNY56hbWM+/w1O9sIt1cnmrYtBRY2rZoBtjBYHjawKaO2uVYAt+VYfjW9qHY1GjMBt6nYmrbn+uw1/YlWtSi7KLfYZvk0QiKjtWfbKDYL3hu3meZXt0G9C7ZXeX235ik1tzAWOLaHbQW282QutxmlmDZxgdS2kkLFtr9t3Lbq+qq2WK8aNeV1gLcK2lS2jIsLt8ufhbbOBL81jyJetSzPHTUX2vq0+U3UNMRDubSVK6M0/fmOtPa4djQB0k+0uWQpNA8VBLTBcsEz11KAs3N8DDO2PSKyHYonskIR1TKk8BmzQ2c5M1vNSrOkZ1AzGq1Ms/wXQjM3/DKzqmUhMxn/DrMJBfoy9WTYsgy3uTIXuZ2y9WiDMghQUrLHxRkyBvCwsQPUFjCMgrAxzxBRsnplsjJUjQWz4q85M6KKdbMwRJwznbbAs64X5zN17ga0lmUZNL1YKbRcejQ08Vw3tC+jLDTQPgu06WqEM/uzpjMhq8y0Ch2kNWKK+rYgWLG2pvNBNqrOJ7YvaTo2iwCptnv5A7eo9/U13MS5tYdRBzYaAwq3BOWVtq6eATak9qq14oF+NU4VRrVmJhw1VOz0tEaEvDSlZoy0K1xGNN4hALTpOIoz5zOksoOskrLEz0Az8cKLs1V7qDP1b7iza5S9M7biubPvS68zgqmfswawjDMUyW+zpylFM4ulG7O6y+ky4Teksi0lUDLOXNixvXHlMC9S+jA/7pKxvj3IMSiq47F1ieoxVAjisd/mzjEySrWxvKGYMcM7d7EDakAxxmYPsX1KyzCuVIewNRklMLxgrq9yMAQv3CzfLAMAra5amvUu9wcCr3tG7y4jlsiu9SicLrCdY67aYhsuRyjGrYk6ai2DyvisRfF1LIS606sltRMr67ULqgAAAAAAAAAAAAAAAAAAAAAAAAAAAAAAAAAAAAAKQg0qTqgUq8qc1Cs9LpmsnCIhLeFpl63dfQIu96hQrkuGmi5NMtiu6RkOL/ugLq/7+EUvubVIrws+Jy85UpuuXNK3rs4quC+P7UKw2fqoMFm6A7GyLj8xxl+DsdCKrDHMotmxlCAEMhN3GrKyhy0yfHQ6smPbPTLi8DOyUqoYMmLwz7EGf/AwSHqQMcwfTbIqsrgyyAINs1Z6RDOyqoCzdb2gM1YNwbOU1t8zXv76swcOCDR4Qw60y7MONLHmB7QQw/AzCmS9s+3ZZTPvWeyxiQZjs90nCDSiFWi0cg6tNJpB8LSIwR81hxlPtYy6hDUw+Kq1zjzjNd7kJbZjVq02KsrzNkp4IrXdEBs3SP2ANsDeETdRByu2bnZlNizXuzek6ds2Y6OAtRzPnjRQThaz3of/s3M/fTQyN7m0RWb7NG2/KrXIOHc16FwPN73L+zayZvo2ij4HN6lfTLZz76c2JKwCN8bGx7UBqBs1I0xXtLdegLLJxSY0s+yHtLl4rjT0yM20IzjuNERjD7WJjkE11Z2ktVRXcTbK5xo3RHdQtttmJDa6QCG22XYyNr+kYbYyvss2BYmINyQqLTadaSA3QEuAtn32GDeUtIM2+ePPtZp3gDXyHyy1ZaPYNDnmULTi2/aunvFENEjUvbQocAc18U0gN1RkUDUd0Wm1b3Z7NfKaGjdz1Ig1ipSItfxVhTXc2X61Kn9uNdKBWrU81kM1iHQrtRJOEjV7ifK0c0bCNGUulbQQtVg04joRtOIHqjOdaBKzXdyOLQJjyTLYOh+zbzg0M+ZoKbP8UgUzjAeesnP4XDFLkVsyeKTvsmT7LTPrx1KzWR5gM4JxULMSwx4zJy6Nso22cLJWh20zzuToswWcOzTccom0c9i+NGiJALX6Gis1A8hltX/WoDW15Py10pOVNkClCDc87Oy19j1cNTEi5LTsXVo0XJmFs1XADbPoqNIz4v4XtI4CNTSdMUS0um5INLQSRLTGHjk0+lQptP5CFjR1RgG0ABrXM+EorLN8VIMz3rE7s8VW8jLOU4CywTmJMStFnzHr/z2y+dyEMqKAm7J0TKUyyr+ksmNSnDLzVY6ybr55MkNtU7I5oCwyY5IHst+xyzF65JCxlmo/MXck4bBYGVEw270KrwwGpa+6/Rgwqjw7sFcCQzB73jiwX+sjMN24CbDYtdwvRiKpr2z1dy9Ogy2vgMfmLmG0kK4MyygujqSyrUaqIi3nv1msAhsXKkIghCufI5Kr4klSK+rT3KoAAAAAAAAAAAAAAAAKQg2qTqgUK8qc1Kvdn3Ys1zr5rJWLYy19or+tWMIWLqBAX67RLpwuipjOrifHAC/F/RWv5xQgL62KFa9kHdQukP9prbb2Da+wFr8v7dU0sFTEkzBSKN2wNH4bMeYgULEfioUxjeKksSc5xDHn8eCxj8T3MXxYArJslgEyV0XusQfgwDE79WuxbaaSL74jiTHqhiGyGjmJMlcry7LrtwozBA0zs5o5XTMjuoOzL8WXM3dxqbO6Q7czuJe/s+CnwDMWk7izKWSlMzUThbPLCSszbfQjsunnALOPM6wzlTYZtDcnbDRxd6m0FjLqNBJZH7UVUFo14qKbtZaw+DWu6JS2O7cIt5DB6jU1MVG1uh6+NBif07P9E62zGzBpNDcrr7TcGN80v1QDtTSfEzUA4CC1SWsrNSGEM7X1Yzk1fzo9tV0bPzWqZz61gDYft744QbVl/z81oJU+tbUgPTUB8jq1V28ft8UvPbXajTQ1D/0yt6LknrXmE3O34X9Wtlq0Mbck2Ny377I7tzVzn7dKBMq2TnKGMxHDlzXj6n62Ukmfty23ArduKce16OCRNdaqbLV1a4Q1fhe9ts0thrcpNUS3NNzntlhD97Wy65E1rF34tHK8kbTgZtI1asObt4kRarbVY+m18bUpt7LwXzZFOA62CtDKNcMNlbVVgVk1R+YXtTu0uzSUBgu0Kb00tMtjZjXMKN22zLIPt4wf3rYAfXA1V1R6tFNZFrO2YnE0Gg7gtI7+MjXrG5C1o0MHNp1IDLcoiY+2VjLpNWwWlbUo2mI173JBtXE4NTUxPji1qeRINQuIaLUIZ441dRG7tb6+CzZXq5y2gbsEt9zByTXu1wy1QCnGM1qnMzT3nbm0F1T/NGk7GbUiPCs1h901tYpPH7eZi0K10FZANYtROrWgCTE1sBIltUQEFzVWdge1k/rtNFpLzLT94Ko0Fp+KtCqMWDRf3yC0ITXeM4Wgh7PnNvoyyU6/sJMmrrLZyBszx3tKs4DuZTNcInGzji1vM10WY7OVtE8z+5k3s+oBHTPXxwGzT8jOMv7cnbIpkmQyrs0ZsjApuDFkyyyxAfXJL9H6njDznxOx2s85McCjSLGMQUYxahw4sWXNIjH8BQqxpSPhMMfUsLAPpIUwstBBsMUcBjDKZ6+vYQNVLyKi564EKU0u6jI7rcdKHK2fE5stzsyqrVX+mC01pnGtIbksLaHL4KwdOIQsRWwJrBIkbysAAAAAAAAAAAAAAAAAAAAAAAAAAAAAAAAAAAAAAAAAAAAAAAAAAAAAAAAAAAAAAAAAAAAAAAAAAAAAAAAAAAAAAAAAAAAAAAAAAAAAAAAAAAAAAAAAAAAAAAAAAAAAAAAAAAAAAAAAAAAAAAAAAAAAAAAAAAAAAAAAAAAAAAAAAAAAAAAAAAAAAAAAAAAAAAAAAAAAAAAAAAAAAAAAAAAAAAAAAAAAAAAAAAAAAAAAAAAAAAAAAAAAAAAAAAAAAAAAAAAAAAAAAAAAAAAAAAAAAAAAAAAAAAAAAAAAAAAAAAAAAAAAAAAAAAAAAAAAAAAAAAAAAAAAAAAAAAAAAAAAAAAAAAAAAAAAAAAAAAAAAAAAAAAAAAAAAAAAAApCDSpOqBSrypzUK92fdqzXOvkslYtjrX2ivy1YwhauoEBfLtEunK6KmM4uJ8cAr8X9FS/nFCCvrYoVL2Qd1K6Q/2kttvYNL7AWv6+qETUw9AiUsE2s3TBT7huxDs1QMWsChrEagqUxo/PEsbqr4TEJQPixn0cCMuXsALKi7eoxQWa6sSkCVjFsZ38vsUeisWoNMzJ26JSyLR/aMrnoE7PA5T0zxnZps9FIijOFWZ6zs3KvM6/mu7PE3cEzEWG/s1tmsjOK25iza19hM/Fb37IX2B2yBlFoM4zZ67MU7T40eqOLtFVDwTQdvwG1ET0sNTDKZrWGRKE15T79tZ+llTZ8ngg3tMTstbsGXDX52OO0MQNaNDgzhbPoIQ6zSbjSMyL9F7RW/DQ0ESpEtKJnSDTkDES0dho5NAtSKbQ8QRY0bUUBtO0Y1zNpKKyzfFSDM96xO7PFVvIyzlOAssE5iTErRZ8x6/89svnchDKigJuydEylMsq/pLJjUpwy81WOsm6+eTJDbVOyOaAsMmOSB7LfscsxeuSQsZZqPzF3JOGwWBlRMNu9Cq8MBqWvuv0YMKo8O7BXAkMwe944sF/rIzDduAmw2LXcL0Yiqa9s9XcvToMtr4DH5i5htJCuDMsoLo6ksq1GqiIt579ZrAIbFypCIIQrnyOSq+JJUivq09yqAAAAAAAAAAAAAAAAAAAAAAAAAAAAAAAAAAAAAAAAAAAAAAAAAAAAAAAAAAAAAAAAAAAAAAAAAAAAAAAAAAAAAAAAAAAAAAAAAAAAAAAAAAAAAAAAAAAAAAAAAAAAAAAAAAAAAAAAAAAAAAAAAAAAAAAAAAAAAAAAAAAAAAAAAAAAAAAAAAAAAAAAAAAAAAAAAAAAAAAAAAAAAAAAAAAAAAAAAAAAAAAAAAAAAAAAAAAAAAAAAAAAAAAAAAAAAAAAAAAAAAAAAAAAAAAAAAAAAAAAAAAAAAAAAAAAAAAAAAAAAAAAAAAAAAAAAAAAAAAAAAAAAAAAAAAAAAAAAAAAAAAAAAAAAAAAAAAAAAAAAAAAAAAAAAAAAAAAAAAAAAAAAAAAAAAAAAAAAAAAAAAAAAAAAAAAAAAAAAAAAAAAAAAAAAAAAAAAAAAAAAAAAAAAAAAAAAAAAAAAAAAAAAAAAAAAAAAAAAAAAAAAAAAAAAAAAAAAAAAAAAAAAAAAAAAAAAAAAAAAAAAAAAAAAAAAAAAAAAAAAAAAAAAAAAAAAAAAAAAAAAAAAAAAAAAAAAAAAAAAAAAAAAAAAAAAAAAAAAAAAAAAAAAAAAAAAAAAAAAAAAAAAAAAAAAAAAAAAAAAAAAAAAAAAAAAAAAAAAAAAAAAAAAAAAAAAAAAAAAAAAAAAAAAAAAAAAAAAAAAAAAAAAAAAAAAAAAAAAAAAAAAAAAAAAAAAAAAAAAAAAAAAAAAAAAAAAAAAAAAAAAAAAAAAAAAAAAAAAAAAAAAAAAAAAAAAAAAAAAAAAAAAAAAAAAAAAAAAAAAAAAAAAAAAAAAAAAAAAAAAAAAAAAAAAAAAAAAAAAAAAAAAAAAAAAAAAAAAAAAAAAAAAAAAAAAAAAAAAAAAAAAAAAAAAAAAAAAAAAAAAAAAAAAAAAAAAAAAAAAAAAAAAAAAAAAAAAAAAAAAAAAAAAAAAAAAAAAAAAAAAAAAAAAAAAAAAAAAAAAAAAAAAAAAAAAAAAAAAAAAAAAAAAAAAAAAAAAAAAAAAAAAAAAAAAAAAAAAAAAAAAAAAAAAAAAAAAAAAAAAAAAAAAAAAAAAAAAAAAAAAAAAAAAAAAAAAAAAAAAAAAAAAAAAAAAAAAAAAAAAAAAAAAAAAAAAAAAAAAAAAAAAAAAAAAAAAAAAAAAAAAAAAAAAAAAAAAAAAAAAAAAAAAAAAAAAAAAAAAAAAAAAAAAAAAAAAAAAAAAAAAAAAAAAAAAAAAAAAAAAAAAAAAAAAAAAAAAAAAAAAAAAAAAAAAAAAAAAAAAAAAAAAAAAAAAAAAAAAAAAAAAAAAAAAAAAAAAAAAAAAAAAAAAAAAAAAAAAAAAAAAAAAAAAAAAAAAAAAAAAAAAAAAAAAAAAAAAAAAAAAAAAAAAAAAAAAAAAAAAAAAAAAAAAAAAAAAAAAAAAAAAAAAAAAAAAAAAAAAAAAAAAAAAAAAAAAAAAAAAAAAAAAAAAAAAAAAAAAAAAAAAAAAAAAAAAAAAAAAAAAAAAAAAAAAAAAAAAAAAAAAAAAAAAAAAAAAAAAAAAAAAAAAAAAAAAAAAAAAAAAAAAAAAAAAAAAAAAAAAAAAAAAAAAAAAAAAAAAAAAAAAAAAAAAAAAAAAAAAAAAAAAAAAAAAAAAAAAAAAAAAAAAAAAAAAAAAAAAAAAAAAAAAAAAAAAAAAAAAAAAAAAAAAAAAAAAAAAAAAAAAAAAAAAAAAAAAAAAAAAAAAAAAAAAAAAAAAAAAAAAAAAAAAAAAAAAAAAAAAAAAAAAAAAAAAAAAAAAAAAAAAAAAAAAAAAAAAAAAAAAAAAAAAAAAAAAAAAAAAAAAAAAAAAAAAAAAAAAAAAAAAAAAAAAAAAAAAAAAAAAAAAAAAAAAAAAAAAAAAAAAAAAAAAAAAAAAAAAAAAAAAAAAAAAAAAAAAAAAAAAAAAAAAAAAAAAAAAAAAAAAAAAAAAAAAAAAAAAAAAAAAAAAAAAAAAAAAAAAAAAAAAAAAAAAAAAAAAAAAAAAAAAAAAAAAAAAAAAAAAAAAAAAAAAAAAAAAAAAAAAAAAAAAAAAAAAAAAAAAAAAAAAAAAAAAAAAAAAAAAAAAAAAAAAAAAAAAAAAAAAAAAAAAAAAAAAAAAAAAAAAAAAAAAAAAAAAAAAAAAAAAAAAAAAAAAAAAAAAAAAAAAAAAAAAAAAAAAAAAAAAAAAAAAAAAAAAAAAAAAAAAAAAAAAAAAAAAAAAAAAAAAAAAAAAAAAAAAAAAAAAAAAAAAAAAAAAAAAAAAAAAAAAAAAAAAAAAAAAAAAAAAAAAAAAAAAAAAAAAAAAAAAAAAAAAAAAAAAAAAAAAAAAAAAAAAAAAAAAAAAAAAAAAAAAAAAAAAAAAAAAAAAAAAAAAAAAAAAAAAAAAAAAAAAAAAAAAAAAAAAAAAAAAAAAAAAAAAAAAAAAAAAAAAAAAAAAAAAAAAAAAAAAAAAAAAAAAAAAAAAAAAAAAAAAAAAAAAAAAAAAAAAAAAAAAAAAAAAAAAAAAAAAAAAAAAAAAAAAAAAAAAAAAAAAAAAAAAAAAAAAAAAAAAAAAAAAAAAAAAAAAAAAAAAAAAAAAAAAAAAAAAAAAAAAAAAAAAAAAAAAAAAAAAAAAAAAAAAAAAAAAAAAAAAAAAAAAAAAAAAAAAAAAAAAAAAAAAAAAAAAAAAAAAAAAAAAAAAAAAAAAAAAAAAAAAAAAAAAAAAAAAAAAAAAAAAAAAAAAAAAAAAAAAAAAAAAAAAAAAAAAAAAAAAAAAAAAAAAAAAAAAAAAAAAAAAAAAAAAAAAAAAAAAAAAAAAAAAAAAAAAAAAAAAAAAAAAAAAAAAAAAAAAAAAAAAAAAAAAAAAAAAAAAAAAAAAAAAAAAAAAAAAAAAAAAAAAAAAAAAAAAAAAAAAAAAAAAAAAAAAAAAAAAAAAAAAAAAAAAAAAAAAAAAAAAAAAAAAAAAAAAAAAAAAAAAAAAAAAAAAAAAAAAAAAAAAAAAAAAAAAAAAAAAAAAAAAAAAAAAAAAAAAAAAAAAAAAAAAAAAAAAAAAAAAAAAAAAAAAAAAAAAAAAAAAAAAAAAAAAAAAAAAAAAAAAAAAAAAAAAAAAAAAAAAAAAAAAAAAAAAAAAAAAAAAAAAAAAAAAAAAAAAAAAAAAAAAAAAAAAAAAAAAAAAAAAAAAAAAAAAAAAAAAAAAAAAAAAAAAAAAAAAAAAAAAAAAAAAAAAAAAAAAAAAAAAAAAAAAAAAAAAAAAAAAAAAAAAAAAAAAAAAAAAAAAAAAAAAAAAAAAAAAAAAAAAAAAAAAAAAAAAAAAAAAAAAAAAAAAAAAAAAAAAAAAAAAAAAAAAAAAAAAAAAAAAAAAAAAAAAAAAAAAAAAAAAAAAAAAAAAAAAAAAAAAAAAAAAAAAAAAAAAAAAAAAAAAAAAAAAAAAAAAAAAAAAAAAAAAAAAAAAAAAAAAAAAAAAAAAAAAAAAAAAAAAAAAAAAAAAAAAAAAAAAAAAAAAAAAAAAAAAAAAAAAAAAAAAAAAAAAAAAAAAAAAAAAAAAAAAAAAAAAAAAAAAAAAAAAAAAAAAAAAAAAAAAAAAAAAAAAAAAAAAAAAAAAAAAAAAAAAAAAAAAAAAAAAAAAAAAAAAAAAAAAAAAAAAAAAAAAAAAAAAAAAAAAAAAAAAAAAAAAAAAAAAAAAAAAAAAAAAAAAAAAAAAAAAAAAAAAAAAAAAAAAAAAAAAAAAAAAAAAAAAAAAAAAAAAAAAAAAAAAAAAAAAAAAAAAAAAAAAAAAAAAAAAAAAAAAAAAAAAAAAAAAAAAAAAAAAAAAAAAAAAAAAAAAAAAAAAAAAAAAAAAAAAAAAAAAAAAAAAAAAAAAAAAAAAAAAAAAAAAAAAAAAAAAAAAAAAAAAAAAAAAAAAAAAAAAAAAAAAAAAAAAAAAAAAAAAAAAAAAAAAAAAAAAAAAAAAAAAAAAAAAAAAAAAAAAAAAAAAAAAAAAAAAAAAAAAAAAAAAAAAAAAAAAAAAAAAAAAAAAAAAAAAAAAAAAAAAAAAAAAAAAAAAAAAAAAAAAAAAAAAAAAAAAAAAAAAAAAAAAAAAAAAAAAAAAAAAAAAAAAAAAAAAAAAAAAAAAAAAAAAAAAAAAAAAAAAAAAAAAAAAAAAAAAAAAAAAAAAAAAAAAAAAAAAAAAAAAAAAAAAAAAAAAAAAAAAAAAAAAAAAAAAAAAAAAAAAAAAAAAAAAAAAAAAAAAAAAAAAAAAAAAAAAAAAAAAAAAAAAAAAAAAAAAAAAAAAAAAAAAAAAAAAAAAAAAAAAAAAAAAAAAAAAAAAAAAAAAAAAAAAAAAAAAAAAAAAAAAAAAAAAAAAAAAAAAAAAAAAAAAAAAAAAAAAAAAAAAAAAAAAAAAAAAAAAAAAAAAAAAAAAAAAAAAAAAAAAAAAAAAAAAAAAAAAAAAAAAAAAAAAAAAAAAAAAAAAAAAAAAAAAAAAAAAAAAAAAAAAAAAAAAAAAAAAAAAAAAAAAAAAAAAAAAAAAAAAAAAAAAAAAAAAAAAAAAAAAAAAAAAAAAAAAAAAAAAAAAAAAAAAAAAAAAAAAAAAAAAAAAAAAAAAAAAAAAAAAAAAAAAAAAAAAAAAAAAAAAAAAAAAAAAAAAAAAAAAAAAAAAAAAAAAAAAAAAAAAAAAAAAAAAAAAAAAAAAAAAAAAAAAAAAAAAAAAAAAAAAAAAAAAAAAAAAAAAAAAAAAAAAAAAAAAAAAAAAAAAAAAAAAAAAAAAAAAAAAAAAAAAAAAAAAAAAAAAAAAAAAAAAAAAAAAAAAAAAAAAAAAAAAAAAAAAAAAAAAAAAAAAAAAAAAAAAAAAAAAAAAAAAAAAAAAAAAAAAAAAAAAAAAAAAAAAAAAAAAAAAAAAAAAAAAAAAAAAAAAAAAAAAAAAAAAAAAAAAAAAAAAAAAAAAAAAAAAAAAAAAAAAAAAAAAAAAAAAAAAAAAAAAAAAAAAAAAAAAAAAAAAAAAAAAAAAAAAAAAAAAAAAAAAAAAAAAAAAAAAAAAAAAAAAAAAAAAAAAAAAAAAAAAAAAAAAAAAAAAAAAAAAAAAAAAAAAAAAAAAAAAAAAAAAAAAAAAAAAAAAAAAAAAAAAAAAAAAAAAAAAAAAAAAAAAAAAAAAAAAAAAAAAAAAAAAAAAAAAAAAAAAAAAAAAAAAAAAAAAAAAAAAAAAAAAAAAAAAAAAAAAAAAAAAAAAAAAAAAAAAAAAAAAAAAAAAAAAAAAAAAAAAAAAAAAAAAAAAAAAAAAAAAAAAAAAAAAAAAAAAAAAAAAAAAAAAAAAAAAAAAAAAAAAAAAAAAAAAAAAAAAAAAAAAAAAAAAAAAAAAAAAAAAAAAAAAAAAAAAAAAAAAAAAAAAAAAAAAAAAAAAAAAAAAAAAAAAAAAAAAAAAAAAAAAAAAAAAAAAAAAAAAAAAAAAAAAAAAAAAAAAAAAAAAAAAAAAAAAAAAAAAAAAAAAAAAAAAAAAAAAAAAAAAAAAAAAAAAAAAAAAAAAAAAAAAAAAAAAAAAAAAAAAAAAAAAAAAAAAAAAAAAAAAAAAAAAAAAAAAAAAAAAAAAAAAAAAAAAAAAAAAAAAAAAAAAAAAAAAAAAAAAAAAAAAAAAAAAAAAAAAAAAAAAAAAAAAAAAAAAAAAAAAAAAAAAAAAAAAAAAAAAAAAAAAAAAAAAAAAAAAAAAAAAAAAAAAAAAAAAAAAAAAAAAAAAAAAAAAAAAAAAAAAAAAAAAAAAAAAAAAAAAAAAAAAAAAAAAAAAAAAAAAAAAAAAAAAAAAAAAAAAAAAAAAAAAAAAAAAAAAAAAAAAAAAAAAAAAAAAAAAAAAAAAAAAAAAAAAAAAAAAAAAAAAAAAAAAAAAAAAAAAAAAAAAAAAAAAAAAAAAAAAAAHTybqujQAksUfuDrMM94CyyFjutoHOJLZMTua0QY+Et4ufurdEuwy0kIcqsqXz9rWWQxS6+yE2vC0q2Lw/JErD4BF0wvdSdsPqJ1zCyXQ2xQoQyMQIZWbGa3n0xCSuOsf9VlzEH35ax8Z+IMagFULG68cAwo4yNMPEJl7Hk9BYyb9d0skp7sjJU4/KyZwgdMzTDQrPO42gzy5OGs85kljNzRqKzp2eoM7jSprOqf5szX2qEs9RXPzOJV66yOIxJsnQoXzNO89ezEgkpNIuDbrS9zJ00HpDHtAvL8zSZyhC1b/InNVDLPrXdulQ1uyFpteJbezU4WIW1O9+KNWkrGTecGpQ1a8WUtTzbkjWcIBk3UtuMNdpThrUDjnw1PeNptQUxVTVBCz+1KwooNWTEELXOkvM0EDnHtJZhnTTAlm20QxQoNMkQ1rNnlVszB3E8si0ptLJv2EEzqnSFs7JUnDNadaezTtyoM5+SorOVjpYzeaGGs1bTaDN0kkKzycEcM1A88rJeybEyQnVzstWlFTL5qZSxkz6FMLz0xzCi4VKx1b+JMaW4l7EA85cx0ZWOsUpkfjHuYVmxQqEyMfFcDbGpY9cw8ZqdsF+DXDAoShKws2W1L/ZGTK/IJcMuihf2rUDG36x++MYtL3Dxrbb/4i1cDLqtowCKLWKrO62hy+AsHTiErEVsCSwSJG+rAAAAAAAAAAAAAAAAAAAAAAAAAAAAAAAAAAAAAAAAAAAAAAAAAAAAAAAAAAAAAAAAAAAAAAAAAAAAAAAAAAAAAAAAAAAAAAAAAAAAAAAAAAAAAAAAAAAAAAAAAAAAAAAAAAAAAAAAAAAAAAAAAAAAAAAAAAAAAAAAAAAAAAAAAAAAAAAAAAAAAAAAAAAAAAAAAAAAAAAAAAAAAAAAAAAAAAAAAAAAAAAAAAAAAAAAAAAAAAAAAAAAAAAAAAAAAAAAAAAAAAAAAAAAAAAAAAAAAAAAAAAAAAAAAAAAAAAAAAAAAAAAAAAAAAAAAAAAAAAAAAAAAAAAAAAAAAAAAAAAAAAAAAAAAAAAAAAAAAAAAAAAAAAAAAAAAAAAAAAAAAAAAAAAAAAAAAAAAAAAAAAAAAAAAAAAAAAAAAAAAAAAAAAAAAAAAAAAAAAAAAAAAAAAAAAAAAAAAAAAAAAAAAAAAAAAAAAAAAAAAAAAAAAAAAAAAAAAAAAAAAAAAAAAAAAAAAAAACt+2you8nOraLzaKwjDKqy+oWEsW0pvrD0EEyw+Ghcs/GVHrVeb9y3FxnWuMhzYLrQIL6+ckIUvFSHBr1ZMBTDK9y+wceleMJIOh7DU8ZswZxSqsOAtrDDlv5uwQ3BiMEgOka+YKyewVI/+MAW2cbFypcExwRgNssbCQDKYjXqyGCmcMpp0u7KmDdkym1DysqkNAjO6cAWzIWYBM/7l57IpULYyIAZVslMFSi95gIYyf0YXs3b2ejOXkbaz59X1MzraHLReCEA0myFjtElGgjQENZG07kidNJlEpbRZtKc06dCitCc9lDTj1XC0BxsSNDuycTIcWaC0IQCLNQQM57bPMwe3KoX7toUYKTZi75e22K8Jt6iP9jUtbmO1b+nINM4RYLOo2F60+gPqNOm7LLWy3xy36bKOtVb2qTXSn0O3uEwPt49F/7XCLhI2pxIsthAQXDap48S2Pvfhtt66xzQ+5SG3d613tRclkzXuq521TOcWtxJZorWSaZ014YqVtedrizVsP3+11lFlNdH8SbW0GS41+2wStd9I7zTAqby0HfCNNFmtR7SNefszVnx6szmdJzJ7dPcyraZ4s5UXqDNBOsOzKRHQM+sV0bPAxsgzIou5sx2dpTMU+I6z4pluM+r3P7O9JxQzEU/ZsjnMlDL7Tjeyzb+3MaEQsbA8AOCwDs50MZTjoLFSibExFyGysXrtpzHbdJexV3WEMeCoY7HaUUMxzJEqsXG2GjGi0hOx8uIUMVHRG7FGtyUxrMQusaJ/MjFKnSuxon4UMe9lzrAIrO4v5hmaMGr3XbHU+8sxJ/sesnkDYjIo45aysv2/Mkih6rJ3RgozYHQds6spLTP4eDezcEY6M+1aM7PGeyAztgz/spwcnTJzzj+xAqCSsmnpMTNh25azwvHdMxK1FrQxCUI0yStwtK4TkDSCcKi0mpDANPrO17Tzgu00nIIAtW7ZCDVldA+19u4TNds7FbUAuSG31MAYtd+bFTWdehC1PoYJNdD1ALWqF+40zCbYtP65wDRqdqi02P6PNBTbb7SVnUE0yTgWtOHo3DMw0JWzreQvM9TbjrL2Alux8RWgMmvIALOAgiEzQCg0s1veOjP54DezM2gtM12QHbPiRgozYnjqsn+1vzLyhZaySS5hMmEWHrJEG8oxYxtascQ3kjC9CAcwLsXVsBp8FzFAFi2xch8xMROdKLEw9RcxwM8CsV8Y2DBvjquwfdmCMAlGP7AFQwUw51Svr6ILVi+w6umuLHJQLokZQq3HShytIy6cLRByr60iSKYtFqeXrUarlC2z+KmthLDgLRxZH64w/WIu0S6croqYzi4nxwCvxf0VL+cUIK+tihUvZB3UrpD/aS229g0vsBa/r6oRNTD0CJSwTazdMFPuG7EOzVAxawKGsRqCpTGj88SxuqvhMQlA+LGfRwIy5ewAsqLt6jFBZrqxKQJWMWxnfy+xR6Kxag0zMnbolLItH9oyuegTs8DlPTPGdmmz40iKM89ZnrOIc68znOi7s6nhwTMtaL+zVXKyM2LumLM7l2EzIPjfsuY6HLI/0GczjY7rsw/FPjTJkIu0EzbBNDO+AbXwRSw1E+JmtShboTXnY/21erOVNr2UCDdNXOy1tvpaNfFC4bSU21M0+TBus+kpLbM9AeMz8AsgtMNTPDRD/Um0q79LNArNQ7Q4CDQ0NCEetC2kAzQPA8yzkSSNMxJrGrOUkekxiL+xMqiHQ7PAXY8zE1OzsxfSyzMOIdezmZ3TM7K7v7PSApozzQ5Cs0PVGjLtISEzPZ7Ms4+zMTSXPIa0YgS9NGcmALUWGis1MApmtaMMoTVpJv21daWVNlucCDeVpuy1h7ZbNbIX47RzRFg0Kj2Bs1wIF7MIqtczLrAatI3aNzR8Fke0rzNLNH11RrT6xTo0EtAptMsLFTQKifuzLDjKMxkamLOTtE0zK4TfspK6xTH0zlUycCvysvy9MDOuI1uzLxd3M8u8gbMLO38zbGBpswQQQTOSpAWzDRRbMhoFLjIaoCCzc7iTM1kR37MWjBg0RBhEtEE1cTTGY4+0vMylNKIzu7SO9s40GnvgtG817zT4rPq0hDwBNdQNA7Xe6gE1JA4jN6YXAjVMDP20w0r0NNnB6rRIXuE0wBfZtL3l0jTOtM+0jV3QNI6e1bRTG+A08GLwtK6BAzU/WRK1sVAlNVmVPbU8sV019s2FtTu9qzUHbf21wDuSNmzFDDd5/BW2dkTiNWHiFbb1cww38gaTNmBq/rWeeqs1e+aDtZpsVTWbiy+1pigQNUyG6bQ0kbg045aMtDiqSjQ8lwW0XjmUMxXGwrKWqnuyJVI5Mx7Ah7NE9KEzHNasswk8qjMvL5yzcNiEM2jdTLMKTwYz91Rpsoh0l7H0KbsyhfYhs/mrXDPiRIWzYkuUM0n/mbM5/5Qzs+WDs7xtSjNoGN2ys0V+sW0gNjMwtsWzZ6ImNE0ffbTWxrY0w1YBtRMmODVLq4i1dS7kNcyHj7bIbgu3j5n/NQjvdbXSjvQ00ucUtFVbGrTRWfc0Z2l3tQ00ADaJQgu3uQ+Qtmeg5DVz4Ii1zn04NZvBAbUO67c0hhqAtIadKjSPdc+zb7pMMwBjIrKSt6qykA8zM3tHdbPbCpAz/42bs83XnjNidZuzN9mSM6ZahrMSZ24z/PlMs2FaKjMDKQizUXPPMuImlLJ0zz8yUaHOsdAT/jB23bUw0N1ysaSOpjEF07exRNCwMSOIlbFHnVQxc/XOsAHPlK9RSA8xdsOBsebEsTE3X9Gx0wzaMYYJxbGjuosxzuefsHrcVrFFGhky6niLsupN1zJsbRezyPRHM5OOe7OX95czHRWxsx1cxzOgwdizu//iM1Cl47OYKdgzIAK+syW5kjMxBCizdSLdrnyUVzOPXPCz58VHNH7RkrR/nsk0e84EteC1KjXQSFm1W22LNfwSurWU7Qo2H3CbtsAaBrfrxd01JtNNtTa49jSabse0mjTuNG1/RbWQwdc1ZN4Et4Funrb6iBA2GXDFtfSAljUWg221q107Na77D7XEs9A0e9OFtAkS9jPOn5cyG3UgtDTnlzQCEOK0x5sYNToTRbVg9Xs1s+emtQbJATZK3/u22SC0t9wvjLa0hjA2putBtsrRjDZwE1a3CN1at4yNtjYkkUu3s86It5WfpLYfAkSz+B7FNIwXybQ0eqA0nalCtMg2BzNcNyI0agPKtDK4NDVmrpe1agMONhR7Drc47Yq2mWXbNWsnlrW1P5g1nOz2tSbnmDfUaJ42hogVthiL1zU9Kq+11b+UNY0VgLWGWVw1S6U7tfgjHTW3lgC1uBrMNEhvm7QpL180nOARtLLZnjMS+L+yZIakss7mWjNncZ6zDAe+M4lyzrOEJNIzYKDLswBfvTOMtamzDMGSMz6vdLNt/kMzkdMVs3bZ1zLE2I6yQKgjMs07hLFB+fuv7GxxMdMwvLETi+AxWU/ssa3S5TGg2NKxCFm4Mc9gmrEqIHgx1DU/seHXDDEO8MSwWhqBMMbOGrAUXqAv363trmzMz6yUS5UurMbNrvga0y7hibuuoCKXLhICYa7TqBsuhQbIrRLLbC3AMP+sh0lzLJtswavrtQsqAAAAAAAAAAAAAAAAAAAAAAAAAAAAAAAAAAAAAAAAAAAAAAAAAAAAAAAAAAAAAAAAAAAAAAAAAAAAAAAAAAAAAAAAAAAAAAAAAAAAAAAAAAAAAAAAAAAAAAAAAAAAAAAAAAAAAAAAAAAAAAAAAAAAAAAAAAAAAAAAAAAAAAAAAAAAAAAAAAAAAAAAAAAAAAAAAAAAAAAAAAAAAAAAAAAAAAAAAAAAAAAAAAAAAAAAAAAAAAAAAAAAAAAAAAAAAAAAAAAAAAAAAAAAAAAAAAAAAAAAAAAAAAAAAAAAAAAAAAAKQg0qTqgUq8qc1Cvdn3as1zr5LJWLY619or8tWMIWrqBAXy7RLpyuipjOLifHAK/F/RUv5xQgr62KFS9kHdSukP9pLbb2DS+wFr+vqhE1MPQIlLBNrN0wU+4bsQ7NUDFrAoaxGoKlMaPzxLFMqOExhDn4sRxDAjLe6ACyJ+/qMQGCurFgplYxM/FoL8j0oLE/6zEyBQGUsrDC2DIQ7xKzzY88Mxa2Z7PKLokznAads4nvrTPVRrqzqELAMy/+vbPCg7EzaNiYsy0HZDNhReyyyFbfsSBGVjNN2N6z/RI2NA/hhbTlDLo0xsT6tFAiJzU0A2G1qhyeNdfu+bWO0ZQ28QEJN69p77W0xF812c7mtHizUzTYizKzFFyZs6YsKTRht3G0IrSVNMarrLRFs740qU/MtOmw1TRIu9q0+gjbNLjl1bTfQso0GJ+2tIzVmDTccFu0+8HAM6aaozPdzLC0a0lNNSwi7LWjSgk3T/6RNnvw4LVIrmw1/MnctChjIjPhlqg0kTs6tQDenTWLTAW2zbicNiVsAze9j7e1pUy7NJtj6DOcQsu0WiMVNTOtNLWqr0c1puMdN2DFWzXpSVq1T7lTNQIBSbWt/zo1ZIgqtVxiGDXnRgW1q73jNJp/vbQb1Jg0dhtttAyfLjSSNO6znzKOM3Cc9rJgmuWwCr/YMnlvNrMcIGgzX1CCsyethzOY4YWzjjh9M4TeZrPfh0szeqUts+08DzPey+Oy9ZqtMon2erJWoygyirvJsf5mPTEKHOOv/OmqsCAhHzEAD0ixRJBXMf1wVLEzsEQx9VYtsY5pEjFA2+2wRf+5MMPki7C60kkwKdgKsDlqtC+iclmvPjbqLipRTK4V1S8tZW8pLe+Gnq3OzKot6XWgrS/7iS3Jtm6tsoRgLZlDbq0UeYkt342frZ9TqS0d1Jiti8YVLesYSy0kaFOubMXrLiclV69E8a8vjZIFsEqMPzAY8IKwqY2rMB3y17AvoQIx9qAXscYXKDEDXTCx0AosMRcdFrE5UNIwKEX9r+cjl7Bp41wx/53LsQ3fHjLy8mGy3d6WMtT7v7JIoeoyd0YKs2B0HTOrKS2z+Hg3M3BGOrPtWjMzxnsgs7YM/zKcHJ2yc84/MQKgkjJp6TGzYduWM8Lx3bMStRY0FglCtJUrcDSKE5C0YnCoNKCQwLRpz9c0O4TttAOEADUU3Ai17ngPNS/2E7W2RhU1CLghN/bVGDVttxW1+pwQNRyvCbXaIwE1p3jutLKD2DSIBcG0c56oNADsj7RuBm80Qtc/tLk2EzSJ0dOzXwyJMyDxDbNG3OExHx2FMlVzDrN53kczjoVvs58mgzPNmIazuZmCMwdMb7MdaEwzh2ods9FrxjJd5fWx3ag7sn5rBDPXHmCzjvefM5ei0LO1PQA0fM4WtNvmKjTtPTu0/FtGNPGUSrQ7/EU0mUs2tEawGDQgytKzN4ILMyfrhzPnF1y0bUblNJL3XLX+X+01/G0It6QxlrYxrv01/2GhtXLDZjXiFCy1rYQBNV27wLSlE4s0Os09tKOv6TN4SGSzqjoPMpnL5TLYIGSzAwCaM+lPs7PwEsAzplzCs044vDNxna+zCmSeM705irMaMmkzPIY9s7d4EzPdL9myV/iTMhNCMbKN+54xL+Qhr/0CW7GQd7wx8ZLssYaNATLTuwKypNz4MT8K4rF/IcUxuoulscbyhTGxjVCxtZ0bMSL/3LDzX5MwAN0zsLv/vC97gAqv5wCLrdBP2C7eExevKyghLxS1Fq8tOgEvRx7ProN0nC6ufF+uvdEWLviVv63qU2Mtg8r4rEXxdSyEutOrJbUTK+u1C6oAAAAAAAAAAAAAAAAAAAAAAAAAAAAAAAAAAAAAAAAAAAAAAAAAAAAAAAAAAAAAAAAAAAAAAAAAAAAAAAAAAAAAAAAAAAAAAAAAAAAAAAAAAAAAAAAAAAAAAAAAAAAAAAAAAAAAAAAAAAAAAAAAAAAAAAAAAAAAAAAAAAAAAAAAAAAAAAAAAAAAAAAAAAAAAAAAAAAAAAAAAAAAAAAAAAAAAAAAAAAAAAAAAAAAAAAAAAAAAAAAAAAAAAAAAAAAAAAAAAAAAAAAAAAAAAAAAAAAAAAAAAAAAAAAAAAAAAAAAAAAAAAAAAAAAAAAAAAAAAAAAAAAAAAAAAAAAAAAAAAAAAAAAAAAAAAAAAAAAAAAAAAAAAAAAAAAAAAAAAAAAAAAAAAAAAAAAAAAAAAAAAAAAAAAAAAAAAAAAAAAAAAAAAAAAAAAAAAAAAAAAAAAAAAAAAAAAAAAAAAAAAAAAAAAAAAAAAAAAAAAAAAAAAAAAAAAAAAAAAAAAAAAAAAAAAAAAAAAAAAAAAAAAAAAAAAAAAAAAAAAAAAAAAAAAAAAAAAAAAAAAAAAAAAAAAAAAAAAAAAAAAAAAAAAAAAAAAAAAAAAAAAAAAAAAAAAAAAAAAAAAAAAAAAAAAAAAAAAAAArftuqrKFQK0FokKtF6YAr459CKkEBXqzsNiQtybGzrXx0KS6zFZGulSnnLneGLa+rMXYvNgenr+252C96eAawGjcfMNrVMrCiqDwwEvQ1sB+wFzDGJrOvqKtQrlKtJDDld7qwU+cgMZXqdLGmg6wxtd7lsXuCEjLtyzOyIyRVMuxmdLL5eocybOGQshGxlDKKE5GyPCSEMuQNWLJgBA4yhuQcsR4PvbGQOIIywzrlsnLBKzOOtWuz05SYM9chvbOQSeIz8kADtE7zEzS0FiK0LEksNBnbMLQBsS00/QsgtMcfBDS3e6izDiXhMdS66TOJf6K076AzNZGi1LUa1AQ39WKeNvEYEbYyTsk1zT+ete0+gzVYDV+1/Bo/NftqI7VQNAw1cQ4Ktd/TzTVJT/w3f8tHN6Fqi7auQ182uxpstrrcoTac9ca34Uq5t/6GTTY5P9G17fh5NYxFHbW+DMU06F1otMwz5zP7j+qyW3sKs0NmojOTdeOzm54GNPLIEbSn3hQ0lV0RtOyrCDQmPPiznu7ZM2bOuLOyCpczpDJts1JaMjOhWwCzBsOyMiuje7IN6UYyraJHsiVKezJLT66y2+PxMqWhIbOyHE4zANF6s8PkkTPcYqKzUqmsM1VyrrNVeKUzD4CPswjBVDP2D9CyaAItsiVJaTNSYeuzEWg+NFdQi7TP7sA0vJkBtWwgLDW4uGa1CkKhNdhC/bUpqJU2hZwIN7Sw7LXH2Vs133/jtG9vWTQmlYSzQIsNs7kP0TMRNxa0nfoxNKaeP7SBBkI0zZE7tG1RLjTGIBy0hLEGNJcf37M4RbAzYlSDs7H2NDMXRd6yFI9gMjqfkbFRPZuv6WS1L2MEjDFevFqyTgPZMoybMLN+6n8zYVirs6hI2DNTJwK0P1gWNEU7J7QkNjM0bYs4tC5PNTQCTCe0x80LNPZvvrODeuEys2yMMxbLWLQ+POA0QG9Ytffy6TXx1ge3ALmXtuSeAjYHYKq1bGt7NUEHQ7V0KRo1JMTztBS7vTRWj4602PlHNHjD8bONjDUzfRflMo9+zrMyqDQ0eMKDtJiysTQA0ea0Tc0TNe1FPrUVHHw1EECztc+LGDaKlhC3ZlNut9BvvzWr7Eu1auzqNI2MfrQhHcUznN3bMsx5CrRwVXM09B2utF0T5TQ7dRC1kDEyNV+yWbWxKIU1oHaltX9h1jU4txq2WnakNm/VADd1mqu1XtmoNDqn0TNZPrK0zQgBNWcaGrWCZiC3Iuo4tT3NPDUMmDu11xU2Nd/+LLVNAyE1+84StScJAzVupOS06YDCNBi5oLTBPIA0VqlDtN8/DDS4RrazQI1DM1PTW7KjwWWypdgOM5dLS7N0bnEzcSeCs/6XgzPpW32zCvxpMyn5T7Oj5DEzpeoRs16a4zJezqWyvtxYMnle47GTH78wfVdNMV0+3rEjohoybtk0skpsPDJnmy+y51cMMpfBoLH3LM+v3PvzMbmRhbJXztwyfdggsxcQWTMKr4qzm66pM5P0x7N1j+MzmDT6s0KmBDS4Age0zrUCNIuG7LOZecAz3U19s9VDkzLLih0zoT7dsyaIQzTg/pK04sTKNLFaBLU/KyY1qZRKtexlcTXYTI21zkajNZc9u7Xr2tY1n/L6taggHTZaU422O68RuDkTvbYowi03jl8rNnn56LPJbf60s/FANRNIYbW2B3E1vhl3tbUBdzUV0nK1qOVrNWstY7UoVFk1LcxOtY7EQzUAmDe1T0YgtzgdJ7UqhB01viIUtSLhCjV3nwG1lnDwNHEF3bSPqMg0+ASztC7ImzQBpIK0Qp9ONA4PE7QPMKQzPp4zsuo2hLOrpBY0qn1ztDM/rTThdee0o7gVNRGkP7WcKXg1dzeotSXgADYY/pW2w+oIt+uD8zXXVHO1yv8TNehVyLQxJJU0aDF3tOjAZTTTKWy00BOCND6alLS72as02DvGtHEe4jS0l/y06Ecit4B8H7VmPi011dE5tdbuRDXFWU61nuJVNTljW7XMvV418dpftbemXjVkClu1K9ZUNeooS7VnDB+3oVQ4tc30KTWXlxm1gGMHNZIR57QThLw0taiPtP47QjRvU8azkPxmMXaqtTPOhDa0QOaGNJKIr7RiZ9Q0idH0tJwUCDU97xK176MaNZc6HrXnESG3p+ojtbvhIDUZXxu1QKoTNf4WCrVmBP40kZzltBO/yzQwMbG0E66WNKvBebTIvkg0VE0btO1e5DN32Zuzwkg7M0Sep7JhSUQvKk58MlEf27ItAA0z4wggs+96KTMuLyyzuuIqMygWKLMO8yUz5TMmsxcUKjNqQzKzseM+M+OGT7PBNWMz13l4s1m1hjOY3o+ziGmWM7PkmLO0wZUzpVeLs/zBbzPR5DKzcZ63MrcJ1DG5Pzazw9K/Mz6aILTDIHQ0JvuwtEnj+zRSeDS1O9OGNfF/4rUAM482xIYLN22J/7V4r3M1wNDqtOkA6jMNbUg01RgLtYt/hTXWKwa2YwQNN/wLjDazztK1QV1rNcyAELW/xrM0ubVbtGOuCjTRh/izQ5ZtNOfoR7Xa8NM2BY4XN2qgwzaf0kA1fCT+thihp7bmMCo21PUOtuoiIjaioJ22bSMJtyo4DTbyFtm12V8UNkukDLes1ZG2/2r3NT4do7W3y3U1VmNDtbiIHjVHDgG145HQNEv4pbRfH4E0DNpCtBgLDTTBdMCzevduM0f59bJ8DgMyqAITMnWutrKYSAkzPhg1s/UzZTOEz4+zG8+0MyG147M5+w40VyMytP9DWzSB8YS0Po+eNJLbubR2ENY0ak3ytEzTBjUnmxO1qBgfNZD8KLVbCzE1xKA2tZhFH7fP6Ei19PBUNRbfa7WVXI815+zTtXx3hDa3ehU3wkRCtnUiMTbT+aC293sHt3bmADZxnaC10wmMNfDxlLVTULM1sDPrtXQuKDZDooy2d+1dN+k1RjfWIyu2ZUSRNMHDSTa4Ixo3tUoqtvMcvDVKsWi15foRNVhGsbSPP0c0DzbAs6AH/zIIbCgx9MRnshYeFzIeLPMxmaYAswcRZzOmoyk3wewTNICMPbQX/Gk0HEONtKySqDTMN8i0gcXtNGmODbXSRSk1oZFLtb7GdjX7iZe1WcO+Ne1w/bWj0EI2fIEct8YPYbd8RhY1l8o6NBKwE7XalFM1Ecd/tWxgkDXDUaC1tNLANT70RrbFDd23c3ovtkOQHzXdz+00JjRYtr4uGrdiFi421m+4tUpJGzWJctA0CEtUthS9G7cjUjo2FD/ntVtCFrevd4G170BNNVVCJrW+FAk1H7PltHw3wzSKsqe0bnSQNNeBc7S53Se34zY6tCuWEzQ5ftCzPh1cMwsc8LCSCio3A/EkNLfbgbT8Sbg09aT2tHAZHzXyf0i1lU55NchsmrUK7sA1n8j3tX7TKTb77Ii2EGdYN2ApvjfdjXm2h8gBt2WIVLed+Js2qw2aNyHX+7VYB341w90iN//wCDSGprI0hp2ktfzN8jbn4fs2O6YNN+QxtLYqcwO3gS7mNX+TkrUt98w1o6iUt5R3tba+DlE2GDE4tqYM97bF/WW2SQeIN3fv0zaP4qg160xEtyY2OrgDjYw3vVhIOMwUgzSUYTayL7eyNP2CHrXRiFM1lOh6tZC0iTXm4Yq1d9loNZCYx7OCB+629Sbkt49H47ffesG1bQoONxWcizb6i/y1x1n0NdMFRLaUSzs3YvmEN7cWtLcPgEu4lY2ft3bygDYj9ue1YkuLNXCIrbXEPfk2saYjtyH8ZbdvKuo3mwzSN+lMqLfdYAa30n+5t8uikLgzqQE4kIY0OGXSS7eTU6k12vr0NGN4Kjh2GuM3znIpN3EGkjYBciS3fAReuLgVabfHTG+48sHZuDas3jhI8x05/H5kOEOIl7g0ABK5Jo7xt/Ssyziz2GU4Wvp9uFQh5rfFOBg2An6mN0oEvTfyv3k3CUuxNQq1N7j4zxe4YG5Ktsx22TcyHaE4VMCTN2ORUDi99p+4L3cvuc3D6jhVArY4K8OTt0rsrbhxLOS4MyqpOPEZPDnq+cC36kuWuGKddjcgVJs4Qa+muJw72rhS36q5WhY6uQRbSjrBis05/TS3uWNQ2rnYdEK5+LZOObv6vjkNdMI4CylWuVGPb7jbZ8Q3q/78Nscbubctqj+5DpjVNvLteDmQOug4ViBhuMM4GLno0TK38UxBOL1YS7choPa4Pj/OuBbdQDgeah44oBmINsyeDDeesxq3aUAAOFcupTe11bu2Ih4DN/pQjTaK8VG499ajuCGK2biutXe4n6ydOHByZDg12Uo4YQ3LODkjBTkc/8s2ehSSNtZEkLeXhoA1fvOWublCYLoUZgi6cz44OjAJmzq9VJg5dbQKuiTcJLoOErk48fEAOhYzDbdukL25ZQvit+DmfzklVrk4XTNcueU+m7nwfW84zswpORpFbjlvcvw5JwLGOeCPX7iob6K5y62kuWYn2rnHMka6W/RmuoeZjLgb3es6IksBO00JM7mM0a66zqAmujgO0DkNs4I5IxQkuinD0LnxDBA6BLgqOvmNBLmDyem5G0wfOL+TxjkIaFk5gOtkuVmVN7lTuSg4FxtEOCjEFLlZila5FsD5uDaq5zdnZCQ5/YfYOP3N6jgKyXQ5NVUVOTBEgDm+hss55ux2uiwKsLr2bQ45tq93OjiNyjlEsPm5mlz2uenD6Tm6nIA6+YmytqSfZbox8NC55pjDOSMRvTnBLQC5IBWvuX1Gi7jXlQo5VNRrOEMVp7cju9Y4G/ytOfVyhTkKQZO4DGrvucqyEbr29eK5CNwWufSVIzn2CA86IztMOvv2szm7tky5wjnBuXb5Pbkp2by4IWxouTN0aLlNMAU4obf4OYXl7jljxja32nbLud/7pLklogW50jPTOJafxzlLp4k5PiMGuYiTGLrRXK255HYROpEYJDq+v925uX8OuqjlcTm1Mzc6zADyOGBsSrqk9+G5eDAvOtcsYDpSaR+6PXXEun50rrmtXLI6Ab6mOvdU2bh0HoC6EMWduUN2vznfeMS4rOXCubInlziM8SA6kRz1OfOvoLluSTu6ruA3ts5zDjp3jxA5q1oPuglv8LnREj85CCQJOqVbPjmmfG25zNSIuOsnjjg50Ss4MwKRuLf+izeUOaI4gzNIN3RzhbeWeaW4xl2Wt1pMhTdYU/a3lp2BOEFhRDmLD0i2u7Z4uXwdTrnBsR44vPjOOJMmL7haox24il1EOPzFpzg5WZW3uW7Ntsntpje35ic4s1AFN9JTarnt3PW4Wg8IOU7b7zjIPFW4e78WuY6xjLjV4RM5KcHWOE7EiLdsR5W2OqcNNoLnjbYMxeo2jIpTuHJGjLlx8ym5kA/ttw2CEzk83mk5DpsaOZeQITk1jJM4TeZuN6fvxLkobR66+/OGuW/Pbzlup+c5CyJJOWRVCTd/P8A4sa2aOChFh7kF63+5C9UAuJeyLzb29nO4/SjltqCeKjmnvPE4wtFkN2A4E7mp+MC4HRsDuALgwTiGqX05UWS4OBZpGrg7Wim4gTkxuTligbmUFMe4YPkaOeB6kjnrmTc5qoCFN1EvHbm/Rd64yMk3uCQp3rfOA5Y3fwsduPb3uLe6cWo3cPDFOHQBwzhyWi44J290NxMlQbehaTa4+8L4t+3qFbf8MBM47nQXN0M/HLktc7m49hNFt+N/fDj02/s3Rta8N6hPwTd29dS20gjfNyS/2Dg11Ka4HgybuQy/0Dja7Qs5fp/nuF3qCbjFslQ41QAHOFZUwTiArT04nitbuZ+1a7l+Nfo3ZYxUOWi7hziUa0G5ZnR/ufIkljaUCRg5eZBmOOlhDriQ6Co3DKyiOFULWji3MmK4ishCuecHIrhdfj84tMqSN8Hk2LheW864DWzLOCJ30zipoJS3vdVpuF9wJTjqabo3RlHktpxqF7lMBQe5M5/5OH2OTDmRQZe3nxdDuYz2H7croO444YVJOB02HLiC3le38x9MNuRkVradeeq3c4LYt5XMZDcAxDM3ImcDON8ULbjBD+e37f+CNw+z3jP+1Y44nZDdOF4tXjiTcuq4OtFeuWQ+jbhz37I4pz6pOFp5ZbgxDpm43YfZONhBwTjqlBe4LWoCuTHahrg6mp84HuSiOARrubguhg+5y+lTOPWSmjhD+pE3eJ0ONx4GHrdzdq827EWONsCfGrcHO9K3Z8L9t3LdcbdOLiY3kiWDt5T1D7jfW9C32ISpODLsJDmhm1o4OCLxt33bBrloaBi5A662t7l6ITir/Ng2+oU+tgnWvjhGCho5P4JxuGZJM7nqb/639htNNDekrzemGss3Qymmtg1TYzYh4zu2KmctNqx/L7ZgO/K2U/Zxt9EzXzcsBHs4PLB0Nw2AtbdS4Jm34or8tunq7DaijXm3jUaYt/wokbc/H1s4v7CVOE5l2DdrVuW4aHQquUCvJjgpadg4fnKGOGorujcc+aq4oVBtuKPjYTiCQD43hIaruGlNxrgYaoE1xCvPONjjGTgXkE+40XZwtwcdojeoTKU4UIodNtnF9rhiH6a4v7riN/gUrDjLKpI35gKQOCW5njjZbSO3x+qIuCMMr7j7OOS4FlUWOLkhSzkhRqo4eb8ytz2U0TcN1jE1GOY8uPI1xrhMwPq3uSjrN8X7orcOYLE4rfvtOB3nJjgO7ly4++zoNH1FArjImqi4phuEt46RaTeC/1k4Od5IOENv6rc1SKO4bz71NWGRsjcURes39H3bt4laqrdhlqk4heidOEHegbhvjwW5+ctGuBjTYThgIcw3NSLftlwy0zaYdyq4xho8OKJIEzjEmky4d8ASt8Z9ZDjr2QE4USM8uFyGjrhCyks2jLbjN2jrozVUtLA15ESTt/Iq87Z3TK83UCO5OC3EfziEQRi45PkGuSlX/biOHFK3OkkSODQDrThmklg4lTAoN7FZaTde06C3pDlNuIEihLjIti44E+GxOOtljrdsVcm3ZyHDtr6oh7UdtKM3RvnltjmeALjaMog4UVi3OKQcejcrSRO4dn9duA9tEjZpV122HrnAtyMxwLb3H3o3wCGVONYcujjwQQQ3ukS5t69XibYkUGS3sDTIt63py7fDxFO2GlIqN5gnCjcaWM83P6/jN/XIETiG1fM2OewVuDwNhLZyXB22TmWvNt0F5bcujf633kBaNozuujcYfn04CxAPN1Gk8re7zNe1bGqFN8GQFDfyGda3BzGut8hTBzbihWC1gRdINRI71LXx5Ag3lZNwNrdlgjdf19s2waZttmQ0KTYEawC2LGPjNTh/y7aUk4S3VSpEtwQTUjbp89C1ESg2N6xsjzX6wqo3Asp4OFzndDdjWPe3sxsEuW091Lgrb6E3sOySN4xOsjfbqV+1Fvg7N5suGzhFMsA3hjuEuDy0VLgnGJM2ZGJKN6QGMjexG0W4/jtEuIEjIDcxguA4fy6gOB6M27cTS+K4Gq51uBfpczhaFVM4J88guDTxVri7D4o05+g1Nbkc4rcvVrq3a5pUOPtBeTh1Z/i3gCsiuMS8krYlwjo4ep5sOLZx4bcy6lK4oLwEOEtPXDiI50K3uTLQtaHlv7Ygo4I38VYON5eKWTZRmQi4Hp2luGcMN7iL5E042hakOKw0czYfXUu4kp5cuHdieDgQqb448aWVN1Vnurh5ILa4uEgfOE4OrDhiZNW1KUhHt9XuZjbN+kU4iPCIOEYterhr/LC4voISuIH5sTh1IIc4wAAXt7fUXrdCWQ63wbwWOJQHhLdU8B+4RgAStye0DDjz0EI46f+fNwAnozYlzWa4O6dxuJnaYrd8oqy3bBOtN2hoSjigzFE3Pq8Kt9qGprbN8cW1kipCNoZdwTbgoQI3DLTot/tmybieWtm36sBnOJvPSTj/RFc3Z+NZuAWXzbdez9U2IMANN01anrb3hg64UIwBOB2cxTiFjQs44zRcuJi2p7hFwi64beO1NVyyhjdymcU3N0Rxtwl24bbBnYI207BQtgJ0+TXh6hG40WA3uOaONjYdBYc34X6qthQRArgXoQy3ImdfNmhShLZ8mq83pwIvNxVveTeYIis3Uqk1t+Z5Nbgp1+u3Y4VBt0XhCbY63sE1KYkyt8y5ILZfGSi3s4BrNo1yJ7aBSQ42A5VOt0oSaTbYexs42rHGN+vWIjdLeQ22EwmXNWUP1LWXMDS4EsySuO/PFbcX1b40F4RuNcwgDzcSp0g2keQ3t+RILLjESDi3RCXftBkxUzVMk+C1vlAGNwtjmjYuTAW2TmunNS+AYLXgaRA1wrydtOzfsjPCwuEzFZ0lN7psbDUPa+q2tWQ/uLDQeLh3uki46qTTt3MkhThVXIA4B5BXN7vmgze+15C3aD0HuBAcurf++Ac1jQqUNdEZDrZTKmw2+lott6gi6LXzKuC1HYSHNu40xbdr8bi3bzqKNi0L5TcXK6q1EIf6t8ZZOTZ5jPe1MBLYNQfeubWvUWq2bB9St+Cc6zeji703+XuStpLRkTRVXei224ePt4a6N7c8kBK4KdwbuK58uLWRRqE1DbyrOE4mizg8ixA2kE58uE6xI7i+GAI3xIabNkl7ejdRUfS3xeVjt1X8XTS2N5I1G36WtYz7kDSHhpE3/QjZN22pyLeOIo64GCrEt61vHzc80683L+gaNcShIDXuYKy0IuUiOHiJljgpSj01EGsGtzNjkrZgFhC4X33btiDzxjdG3sc3TQgRONe3aDbSWoS3r3ryt4hCurc9XSc361LKNmssADgIkeA3/ambNpx+N7gjJQ640xPtNl1WoLZdq742gFwlN2mvozcuAMu2qMWTt9EcxTUBBGO1kD5BNRqJSLV4UWY1EWKMtc3BFLcIxxc3r09OOLN9hDc4X7i20K1ZtQaFk7iEPRK4Cak3ONjIKTi6GO42N9oTuBp5rrfaQ+M1kOlPs7GSVLX5HsY1wzEftoo7qjYaq/o2U7mUtX1emTRzVSc3rtF8NTPJkbffbbe2/jo8Nh3aALb5qaE1Qm2ZtIynQ7fZnaw3NzTWN+bcwbfennO4dn1dtpKEuDc+55G2VBw+NmsrTbeZHxK3JA+XtYPwZTWOCji1ouwnNdbDRLU/HaQ1t/hztj+NGLepqPe2ZwcEtmLH2jWQGMK1WJ2xNZbIpLVPdZk1bGGOtbyjgjXw52q1LiNMNV1tJ7WFO/Y0o6yKtKBwdTKWy5g0gfEvtcaglzX2hEi38zEyNnUJkbY8J6g30+HRN/rRkbV0Ln22uYD3tio+f7VczzY3N0JtN0+Bw7aWiC83Uuc2NmsSSjRCjeS217aFt2voTzbcbRu2q7buNYCHnLXqjCAzLfWLNxUnyTakyl22zk4vNqk5LbbdDpg2voIRNyM0RLabMDY28mBktsji0DYbvb02VvTdNiqS1DabxES38yiEt7UjhTczpzU3BXZPN+pgSze+BbG4OmF7uAhRmraAgFo4VocKOB2X9TYz1nY3JVUHtzVmwzbPlZq22PiCNlaPbLasuo8xT8houIkhOLi6Uis4po9bOPQ3ETcc9fi3gukjuHr0Arb3sxU4LuttN/qprjUWeWW4FX4CuCMgxzWoSNk3iynpN5JGo7f+aTG4JoantkcD1zg5xXM4X3kBuAkhTrjCJwW4vQ57t/krBDateeg2+h88OFBdAjjRTb61uB1bt3m0xLegTfc2EyKStrWOSDay4xi2UA4HNt18GrYGlZs2mY0HN+eo5bVsezk1jm4btE+Qo7QtYzg3RmYStp3kB7j0ACC3qxS/OOL4uzgeIpy45b++uIY7TreDjTE48U4FONEKibeY4Ym3hH+DOG16ajjrDo64Z6W9uB28Lbei96g4XXCUOFCddjdUQwi4iHGItzgdozZ9kyq26/+7NRyULrVID7czkhLENG5ZQrXUvoQ11vOXtdDXjjUxMeC0LsqEt+1w+rbBfWG2PhoXN2hjIDef+nq2nZP5tmXBCbYtyKA1WYEGNGglS7ajkv03jqIKOEIeQrg9hqS4NYu+t3q83DfOvEk3e0+wtsJDDzefLBI4LDmFN3xROriPndO3NlqHN3ZJnzdbpzS4DQ+8uPRy+7ZqJ7848fWQOJH6ILYwVdg1MIZ6Nu6KSDcohBu4KKEmuNQRE7bPfnk4PX+HOA2i/rf44lG4aJkAuAdZFrdLVL+2qYhaNzV3BDiUVoA4PPEZN4pSJbj5SSG4aPITuOePU7dODdI3/42vN2iLtrXs4bi1FHviNhpL/zfVjdQ2yXPVtogwtbc0zni2VzJxtaFpqzXSUt21YkIqNnqm37Y0dRO4y1HItFSJJDdnfjE3gVHGtGc87TRRBB+1GeFgNUSHpLVmKf81YxBntp1uTTdYCl03lEmYtiYOZzZVRto2NA+8NrCk/LfdHcq37/oDNKJOSDiILos3yMmFt2iKczaISjC2KkkGNtna0bVYpKc1y7SKtbfudDWsCXG1YSyKNYSrv7UNO1Y3naQut9E+u7e0oQC4WOHAt7sQLTfmfSM3l3SuNonxaral4Ig2H5Uvt7aG87X0Xtu16Ti1Ni2btjaB4iU3VwpyNzBirbbq8Wk23YZDtp4YTDb19a+2rR//ts8btzWl0PC0eZD4s3615TUhv543/YtkN0GzSLgUh1C42O6yNt8d3jfvsCw42h3js4SJQbjofNC3TSLSNWiuD7aMUPo1vC3Otef7kzU/1F+0KZDct2+Ilbdzyk83QMoyOPGyTzcXcbG3taxJtmRVoTUeD6+1mEhENrzukDchiZM37dsuuNbZjrjL/Ce3KdNSONFjcjeVBSa4DHdut5mbAjWwCzw0VW0atffYkzVNOhW2I58VN+LVPTZcpck2TXXLNtGQYbZBS1o3nYBKtggrsjb2Avo2j0uVtbNRNjPOh2U1sGpqtn29GLdKWjg2//kLN1CC0DUMYcK1TSjHNb1e4rWC9RY2N6uctvnimreg7Xg25VG+N7ZMyTauVlC0jK04tbCWoTUATeG1jaYWNsWsULbmwac27vaBtwCJI7gNFIU1b2iqtXfFsDVZ6BS2oympN38pBji+RKq0BgW1NYOptLUuzKo1pjKgtXwnGLdwx5K1sqw8N/pzhbUWuBq3HJGFtRosizUXwZu1fg7PNbtgcrZKOKq33SgNN1FT8TeTtBe35F54twJgSbYdkJo3Lh+QOBAlvLVK/IW4+Owut+PYvTUp85I0aYZDthgOzLd6vui32H8et2WWoTZUe8Y2T04iN5iDiDbAhpS2RG+dt7MFWDZ2ZSY4FFxJN1njArcSoAO47F6ft4EdCzfNo+m27IQSN8kQdDcZAxW2n+AYuO6oy7fyOVk2lYyztVQiGTV+mjm02Yhss1+hSDQYzoi0sp2TNINyibT8YFo0zisAtAe6KrdzLIcz3OACtN99ALPCyvA183tRN4msg7dHeI64lIGStwOClDf0hgc3sO/lNR33z7aRoxE4vS8WOMhmA7cp8Tu4+wJluKWbPDjJ5KA4RYyHN2tMjbcukKS3r4RjNYjfFDWDzpm1PqjKNToC+rWpai42t+EPt0m+hrZM1yU4vyuCN3/TrbbJGGI2xcYptqu/AzYKJsi1qpCMNYpCILVxEPIzFODtNOGzmbUbERM2vJmRtvlB1jcvPxA4cHLJt2ps8LjmZ0m4DS7ROAFrhDguu+O2KGJuuCNB7beOGAw4yu3pN4xNsLZybta3CvZxttV09TZGKgI3bWGmt/3wqbekUZY3eOogN5eLGLZ/H/o2wZK/NTaFwbfi8pa3E254NirS6LXgLIw1TwhItUU3JzUhOiO1F204NTfDcbVwqsI1u4SBtkhsFrcNy0Q2nLkvtokwezaEGr23fOBbtzdPjTZDlBG2M/GNtkPZGbeemlc3K9t3NXDBgbeX3vu3AtzeN88ENDi1jm62EJiTtz1NC7jHVmE1eJHJtZwkuzWy79q1+1J9NrBHozdwS2S2v/5dNkgevbb+e+y2m5g1NWlIoTTIT0q1VF6NNUKVr7W8LeY1VaLStu9QALhk7L63klwhOM/wbDjwKAk3cevitzm3Bbg0dly2bLOntpAinDb8lay2MjYCN8u7eDfh1A82UBN6tgvKtjbSrjS3yGoRuILqlDUUSkM21WAfN6RPabZFUGE2XFCWttTF/TbJpBO4iQQsuJi1B7YItY83/l4ZOHr8W7aKik63Zjratzl1GzeRDEs2pdspt32T47UyqB+2s0dDN0EOazdrXP22rUGNtwTVaTVYilO0gVoMtKS5AzW5cqu1zRX0Nj330ja01Sm3p9dLtnL3CDVgszs1hgWNt1+Qt7eZt6i2vKC4NweYzTdjgQG3EH2Zt8TBirfA+AG2T7JaND7SqjOwqyi097w7NIjoM7QWCxs0AWXjs5cyUDPZeRMzKckjtC75rDRNmhm1AlOBNZYr3rXB31k2YmO7t0I4XLej7Iw2zs0utvdS/zUm58i1RDqlNalWjLUEIHU1ieBbtWmSSjWFqT+1LCM6NViEObVhHT41AclJtT35YTXBOIu13zXQNRJmg7YdhaC31MBANuvpIbZwgEM2mHq9tqnfzLaRa5C30VElNou5uTiW7IA4xJI+t8qEJbi0JfS3JcTGNwGYhzje/583QU3yt4jeUbeyUY8317FCN1eImTZ28by2SKOOt0R9h7T4qTs2/vS6t3dzWbePpoA22seItY/kAzhpVRk4yEmvNxVuVTbj956zgKiNt9ufhrcYFl82ZUr0NqKPZTY1SqS3HauCtsh9jTe2HMY3e99ktR2qJ7eUxZg2+ujnNxLt0zev59K3Q1nqtwsagrZMPIA3AjACN3Z9xrXM6xg1kfYJtMtyqbTdoa01uTURtyF5FbjFtRO3nqPMNXuaNrXC29w0hQ52tLoGKbTpXBc2W36zN29//raEYr+20YcntVup+DVITEi2YhCtNoZLibdh5ga4bm4BN1Z+RLcOseu1xXgRtVJOtTVIfR+2AM6fNoVPpreRSpm36qSQN1AQq7bJWpc2ol6YtlCepra67fu2RqQ0OF7jajdbzwa4zOy2NbGD4zZj4rU39OCFN7kVvrfGXE24luAbOKdomTjK5BE4vtQduHB5a7g8ySS3rFyxOPHbrDjYhtm3y4iBt1LyCzal3R430fG4NRue/zd1tbM3d7FMtpsL3zXEGqS13F/ANk0TNTfCmi+4Q68PuNgNJDiE/183W+6otoulxjdYvmA4VC/6t+5uPLjStjk1cx6PtKrDPTgOegY3zMKLt21JAjhCV5E39K7HtgmpeTZPnjO2tOEIt7JJ27UamsE1kIz3tYXRBDchH5E0xRxzt9nNPjg5pCU41uFEt3MxmrZ679uzNCcKM9tMnjQG1D+1v9ERNr588jch92s3KDdTtyk0lrXWOYq1cfm9NRmiurV83VQ15SCAN6ovnjcol2a3f7ImuK5ikDZPYvY2f3untj0qpzbJKvO2Yoe3tgQuj7XZnnI2wDt4N7FNqzZJvSG3BQF9to/JcjaOHCo32IvUtgkMA7eg4QE3EETbNt1uMLc8F1m3YlcRNZSPXLRQ6HM0zFrhtK+NSjXbXKq18KYNNuPHgbbYPVk3KgxLN1HvRrYBwpk1OipatEjh/LT0Xo811I7ttfJYdzYJCN43WaieN+WtK7hoY2e4GGjwN8q2CjhpNR43mFLwtxpLM7j+/L22B0TINyrOuDcD8Vu2EMccNr1+E7bEeDE4JbcUOKdgKLf2YLi3opyntkZfFDjmTR441pMXt0GdC7gcV8u38RoOOBrXYzjj0G62yuPztlwtELZceNM1HFqYtU4wTDWIxdu0oEolNVcrSjj83ks4SkNVuEeHj7gN5C+3x2WmN66ozjfDEGm3Kk4VuJQ6HziJQqU4wqZwuBKHnLjruj+3gAZuN8MgbjjT44o2mFtQuJIehbfsoLQ3LolyNpWSJra7o3A2FEBCt/NCqLd3TaK1MnGGtcD/xTe4p344o4fsNomQG7jjXQq4LLTmtz0x3jfOrH04akGdtqXnXriX44O33EpxN9bLxTf74U23jZQauG5R/bYNGKk2RHG/t/pqELiAlkA3EgOVN4q9KzdB5Bm4FGaWuPpCTbfqh4Q48dlvOAJTTrf53zW4LAT8t9R2jbXMtgE1fiXqtViRETc7+l03rLC6Nfn0s7e338S3ngJsNmlxubXkHSW4UaE1uLOURTZ4Hkg4alYqOChMv7cDQUe4Y0y8tyPZ6DZOduo3kx49tsuzkTbhtma3EvWut6rkMTdNQ3w20tDct4tlBbgZ6Fo3G5WvOJwgnDhpCca31uIIuCPbMLcrkCM24FOJtTk4wzQ2MAczr8SetAd0BDXB0ja12eKANZd45LV7YJY39+K4NjomqbYnQcm3uqDdtnQsyTeD+Uc3EjmbtuMMwLdM29C387mEthhg/Tf3UZ431kgJN3V/6bdynHa4F/4pNnf4gDcQSDQ3eCMlN4vbZ7i7pIK49ETPN8AeszjQnfA33Mw2uPLYuLjPiGW4wVAuNy9CGzju1mM4lc0SN+mgGrh/Qyq4DWiNt7ikoTSnP+SyckxhNOcxE7UkVrI1zi4Gt+YeXLjK1YK3K6i3NxPtezYeJD232MUYuHGHTrcXK9g3iZj+N8TcL7hfIXm4ORyJNomfWje8NYA2aPinNv97Criu0wy4x3I7Nv75ArYN/Iw1r3fotBUBK7coS5s0bxsRtTspazWAvCW2ZMTgtwVQULeJR5E0hPP8NKSEtbVfm082VDa7tzW/wreHsoQ2W9oWtio0wjWktIC1AeQoNcog17QWN4U04WAptA0J/zMrRfSzluy8M9J9gjQ2hLi2SFKmtys+qDfOcnM4VPGsttcYE7gL1GS2Ov9XNQFiTTfUkzk3g9gxt1rgZrfdRmE2RrUWOC1akTaLmBS3es7AtkBQPLc1etM3bjoMNxTATbdS58K2NRA7thurAzaj67q1OTBzNbUAxbTCpjS3ZvLeNl216zboRVG3ifGHt4CUe7dSpe+0ckyjNc30Hbakv1c3gpkdOK9aSTc5SSm41X6mt74/UTdP6Ky24DuvtkYKRLdIzc828TgROMDGR7cqRTy4GoFethtNIjfewly28PV6Nib5vLdBK0K347TwN0s5lrNfycG3vFNzt1wKard+3Gc3YgzwN+3kazY/0HK4/n1WuOdEhbbJWZ61gGE2N+FhgDXxfqe30aCFt0aoozei94A3PCtiNGEu0rRmiJAzsukSNfzW7bVdd5w3Jw9/Ns29UbXYjOu0hIjHNWVzOrazm6s2aE+Ht/2ZSLiOdOW1UvCaN2mAdjaAMfS0RAwZN7jBhzYAQg03Wd2YNxTtAzYQV5W3+WjKthfBIjdaJYI2q+AQtvfM+7bnVKa29TMpOCse7zeFZfu2L4kDNyLrvjZQOps0qaChtb6EvTWkUVa4YGuFuLulojcEEZE4SGlYOFKGsrddXYm4Wn5Mt6+2rTitbkA4tddzuAJsCLipyUM3QvgkN1SHijbN/ai1DCAKtHjF5jXNOqG2zRQJOFedrDhv6X44ZcQPuJxFlbjQwqC3B2n/Nu6d1TagcYa0d7sztYICizWp9mq1fGqStlk/NLeXGMs3LwxuOIdZizajsky3FBPWt1Q7jrfi3ZI3Q/MYN/nFUbXGuKk0VBENOHK+ujeOjIy3rJqut6qKJjZYsKi16Iw5NaDnd7Sp6Lm0bGRDN9k5BbfkAXi3qx5ENsrm9jeIbU43f2rAti5WErg0WWq2AWMjOI1HkTcyNny3PD/vt6YIGbagT8OxZzSPN+jT3bYbIs63xKImN+faazeJ2xE2qtiQtt+6z7fBTpS2gNQ3Nl0sIrYPExo2eygZtigAIzZWhU62cxShN7GJmDZu6hK3QH6FuI8nK7i5Opw4Dr7SOF+PDjh7o5a4T6m/uOblKDYeAas4wdFrNxs4G7V0Tr62d/5eOLXv2Dh4YKQ3HDaeuIbMnbhHkBs2mXrhNzrgiTiexKM3/Z1wtlASRDU++qw1ByqUtrHy/jcaDIk3H+wluB6Qvraqu7k21OePN1iAMLR2bJi1i7JDN0FkZTfTMkQ3kqzGt2lTA7gB81W3OaqvNW/Mdze3DRM3EJ0Rt+bbnbbvN9O1HY4LN2xMXTgroGs3wGZttmtZlzUSXFU1GtZ4tvcPhDchJQU4e1/Uto12srdSaqK416KfNd8qqzh7KjA4Pqp2uPgiqbi2pxm3uiRvt21ovTeZXIM3/dyLNa4M67d+npy4AxEDuH8cejiQQpY4+Ec9NUAFvLbsKb639XR8tjRCXzbS/sy2HoA4OKkz5Tf/Uii3necftkh0ELfUkKA3SFv4N/LdnLa19jM2hnsPtoE2DzYKMS22HLuaNl+UxzeLHuw2x3ZqtzXCHLj6Iba2tTCKOFgJATgGY/+04OFBuKixqbhDUYc4CToKOVkCITgtKCK4a0svuHsaXrfCxcA4LwuuOOeFFbhv6S+4lw9DtQdkkbVwkmw2CiErNye4vLeR5mK33FbxNzvU5zeuJ6K2BfvHNiHXCbjkBSa4+2WuN4hJPDihnsQ3IxwstuZUs7cleHo3BICOOP3clTcWd3K40CuCuE8hizaQHSc4zZKtN1bxOLUqzfq2SMWNtluCkDUxsuSy4ZwPtdSCZTV2iYe1VAyKNYN5drVGrzI1OUMut9UUZ7WFU+c35MvONupquLe4qZy4s6JIuBzsiTZ8pVg4tp7yN/s2Gbj1JSu4QuRhty0+ljhaPgw4UQClt3yeILjIRXy3hE7uNkiUxrbE9bo29XjBtmwv8jY3fQG43kM+uC3HlTfY+m83CMSPtRt32bVAa4a3bgamt6cWlrYA6wo2uYXUtY1LCjYtCqS3RDX5t5gTZTjasL84rwWHNw2Sf7dSmku4sn8suDHEEjbAtxi2J8IKt7GH4rUVX8o1SkDDtXyqVDfIl/M320hgN9XtA7dRqsm2QvoqNLcBBTXsrz+1bG5dNSwqcbU6JIA1XguGtbMhijUR2Yu1PWmKNevlhLXYqnQ1tOhTtW/+KDUJoQm1fyTJNfU5nTcDE9y24Zdst4AzijYncUc4sGvWNy/fGrfX3He3epgDuIb/7rUxAqc3sgiEN2MTELfCyQa3v2W0t+C6gTexsaU4T8aZNlBckbgQyKO3hh6zN26bazbd+GG2jjdLtwIkk7fPARM3XP4ZOD++2DZt8XU2V4g0uIhIqLgksP03IJleOL8lTbdoLVW4S3vmt3wjAbfvOXA3/YPJNxRjGLfc50O2NT1It3ShY7fp9+Q3xpdKOPuBbbgW2eK4hktsuC0WoTeFRao4XT7WN1LXe7g5c5S47VSPtSlJ3DTiSpK1BvwLNn1HmrdCPq62Sum3Nv1f6Dbz5bk2LkySNkhQargS00u4hYCrN5iBQDYNgFu1JcgSNa6/RbV2IPg1zibJtxIeYbiJZmG4r/e9N59ZJDgejeq2dSuWt2Ra+TX9W4I2ZVk3N8WNo7fD+GW4e3vNtoKiMzgGI0I4HFESN84fubf7Wci3rH+jNpgWerb84rM2AncENwZ/CrbQZN01G1P3tfujHzarsmW271PGNvMuA7jVjY63raPJNquVzbZzfgG3LfUUNgqQEbZnUYo24eQpNxR0HbhDov63pUK8N7wWcjgc3uI1A04puN5jVrhXuCY4t5cMOSSYgzYX8cq4Hpo1uKKgSzcBkMQ2e5BcN/5vibebUj+4TlGTtkxboDVLOfu0CxYuN7r3xLWzUGG3/ZSUN3EpXDhRakQ3oXlUuNoxQrhflBG2Yx95OF6UKjhNmsK3Koxlt+KLk7WwQ3011bgdtXc+kDTxeIqyXDE2tJ4xnTT92b+0hOPENOusrbR3J3Y0H0K1sx9/8bN4cMQ0qkQ4tXJQkzWeX961BikrNrgHq7ZX+7q388J7t1eGJDcbyFk3XBFdtjFAoTX/5DazCRBztYFKTTdOoqa2DKySt+XBCzUV0281isQLtmGMpzZkkd82Pq5FuG7Ds7fcXUc4tRY9N2CkITZ7agW4vj4kuGTHYDdi8lQ3B2smNo9PMbYxRCs2bTUktiN5HTZJjRW26b0HNo7svrU7hI228xIwt0kJyzeMf8U4gfwOOMNTH7fuCIu3KNcKNz+iGDhFsgc3VjiAtVa3pDRAFJW0C5DhNIz9KbWB4G414s2gtTOT2TWv3yO2hp7ONvvUSTiRua43/HuLtlmDojaUPXC3Pp00uMb4yLavxfA3+5SINcLVJzXH3bi1j8DlNsYySzeTv042hKCdtXRxWzV4szW1Q8UeNZ0yIjf33wI10g3ktKYqvDS2Fou0WZsZNOI0TjInp4O0ECE/NUuRN7bVRE63243lticU0jUf5Z21BumbNVoIprWxT7Q12d3EtcoG2TWALfi13gIiNpeJvbYcPDK4ZxC/ttZSJDZsEgW21EMJNjozM7aRe6U2wcYEuGqRA7ijXdE3lgCqOHdaSThxB4u42WecuN4yFrf3s4w4AUxFOALwELgy7he4m0VmN/RFWjj4oxo3J6dCthdZHDa8Qwe2/mHENd3yNzW2Fno3VqhTOKJnLjX+NHm4Xl/Et1MoBThuORw4KVSlN9qElLZPwBO4QRqntslQLzen3xY4FKwIOJNvaLfRbsO30TprNaFKaDXR8pa1AMUjOL10hzfT9EK3xUqAttDYIDdhxg44orbtN584jTfFhMS3JDoFuKcuWra3iq432CwCOImEbDWYzP6yXrwwNAVetbT0TQQ1MkkptR/0SzV7J3C1sXyPNVT5vbWcBF83tM+ENxrBVzased213y3GNeRN1rWnNxY2FK0Jt+OoprZqoVw2iL6Vtu6ixTedwEM3jyJRt2I/IbSivxo2O5vJtp1xEDjnERc4WXr4tu9kZjb9hw21GoyWtxEEEzZYjfM2S5tntoxw8jXnsS60dovetu+TwLbca1I2FTc/tr0oozYJFgg3tmoEtp3emTVX8zy1tPyoMw6uGjbmGzU3Vunhtvv18LY9Iuw1cskHtgm8iTZKTSS4fcCrt2yikjdS3TQ3HmG4tqdKCLdiKRg2TyohtklWqTeqcJI364n1t5ZGTLjh62a3XggHOG8CbzjkJo03pQacuKSYvbj3tPE3bamNOF1E7zb06oc2azIGuNO7AbiFBiE4XBTCN4coP7ZTt7g12GFRtR75tTPGH7Q29pBkN7+QyzUdqvY0ncNytXVCmzWSGbu16TXmNXWxHbYycKI2GIiXN4Ox17VfpGA15RQ0tc+dTTVQMZS1xkv6NW8kg7Ybge03jNEYOPs8FrZJOTY2MJMttmjnLzbGk/Q2N653NrwsjLc08oO3/8ActlepSTeogV03HZfKtts/I7emvVY3D+dUNwy8WbjpA2S32ppAOPaIkTe2+Ks1YcUPt54ufLaKsJE1chLmtBDgdzW9QhM409/JtRahzrhuygK4HS8SOPPhRbbfuOu3UNOdt27CgbY0tEU3xChgN9e9kraD4lw2xokgt5rDELgYXlg33PdyOAWonzd0lh+4hRAQuLo6EzcbIZU3nUe0Nm5xC7jGMw+4tI7RNl9cYzaOUa81Yuk5t5zkZrdC5Jo2Lz9CtrXmDTYEYt61+3NBNww3GTfGjBy3Yxo1tUeZ7zQ7Yya0mI+ftOMtrTVW/pW3qU+ltoViHTajGeK1v6O7NdDQqrXZyBW3A/y3tYDqXjWCcRu4rHoYNu0wITi6spc2A1QwtwTrhjYV8HK3eAZaN82VUji7uGQ3Xqjhtl7jq7cjGyi4gAfCN7D0pjhreRO4BfKLuBJCvzYpPRQ4gy0TOEAIBTdUOby3l9eWt1iNWTd+f8S2aMumNrMAxLa/V/G3dRKBt24bwDfvvBU4WZSXNfkqTrdpz7m3u6kIt3vGgDePzsI3MGowNtjshLW/b1U1t203t+NRMTVNSCE3BcAFNTWYxrTP82Q0XrvTsrrwW7TXDwU1lBlxtUDN0zW/+322sPsQuEQN7rZi/+I33me0NyKDA7fsZma31hKItuTT7TX4eSG2m2zGt5xGEDhhaDg4qt0gt0x7X7jZkWO4pFQut5kcJTj2ZwE41P2St6ueTrdm5563n3O4NsEaDDiCgQ83JDsPuErh7beSsqE3DBMgN64mOrY7Lnk2J5S/t1SQT7eou0s2htVatUtthLU3N4g2KhIuuMHDL7hpo/I3hQ9NN7DVDrZ0vxQ1J/ORNLaRv7V7hgU3hQ+VNtGdzLVNNyE0s846NiJvIDcL5Ea27IfyNaJzn7VN0D41sZyDtOiRtbTLB8A117MEt0Kimrbl/wI2k5kWN1YxajXGTi+1Nt4JNV135rRQAdE0ks3QtPf95DT74ga1EiImNSZcUbWsTIU1yMuqtWPb3DVbzBG25ztKNgP5n7Y6X2g3B1QEOAtb+7XEhBi0e4M1NaGyFbga9ou3BXwAOOuOjjf6jfM2xlTtthHc1LbtV6o0SrwZNa//trVpzIQ2g1OdN4Hn4LXPGHy3wOejt3ggqjfA6xw4u1EaN7HPG7bejNU10yS0tVu8nDVawn+1F7Mgt661GLK0pcq1jAusN6E7fjd96Py2ptDSt0ajk7fGMfY3HZBOOL6CRjfvk7O3igtTt8K1hDRrwCw3VwgXtDpB5zMt/jGzDsQos1ADLTepDjW0xlN2NHNplbR0pCW3CqnKtH1q1DSzg7q0S1ois7pDszbA5CY35qoQuKG7I7iyfwY4B/c/OKNUcjSGhgG4peVItxPwBjjSb5I31AwYuLAmHrjqk6k3y0VQOKnJHjc2v0C4jqsXuOsDN7XpdYkzPg0jtFJKgTQhiqq0jnLWNL34CrXP7Uo1yvnEtSzF+jY9fcA2PwOVtmWiNTdbaQe1q2YhtzaGJDYwlhA0t9n9N7myxzfNYXq3l7M4t/EO1zVMMcM2Wi0LN+UZmTePZ7G2KjL/totXljWg0BQzsuA8tSnmrjV/SA+2e/+fNllQlzfZssu1ue4+NdHbDLWQ4x81FUM5tzF0rTUGZxK2GrGpNum3kDdKLMw0H1sCt3Ysk7arrNE1Yt03t9jb2DQL86i0qGj7NJtXhbXN8yU2LlK0txD3arc/+qo2y/NrtinwPzbVwy62ujY9NhDIp7aLHgW3H7/1NQ8RlLWilmY17C4/tZ3REzWsjaK0lgUatPKlnTXopwC35miftpwDC7cnS221Tbc7spAMtjV6wwe3Am+Kts94jjUuVd002oBjtqOcFrfgRiY27ELMtVnwpzXz9rm1wM4UNgd6ELdsdHu267mwND2O3ja7X78252RGtp3TEDaWgei1phzCNXt4pLVkGYo12t9ZtU5w/zRavb00x1zbtr2H1LaygYs2R5COtozj3TZSwcg2FMNLNRJvg7bYshK3+U88NkNySba/FB03kxsrNvIxzDbzVuI2Y4pAt+iq6Lcuqhc4Mu4yOPcllLfFLlS3C7IwNTPfITcOzTW2P2AQt+ZpLLUkcUk4MXmWNzcva7ccm3u0/YvrtcT+Ezbk/Sq21t1PNkeglrbkv8M37lNQN2U9gLa20y42ofsctmlEJDZs3ju2SPpbNi9qR7Rmnis4+tIHONB1nraclsI1neX5NFXLOLaahks3KQ3AN9e5VrZsXaq0YtiSt/hCQbZHNJg3wpiZNms5rbU+jIK3y4wDt+JiPjcEUBQ2sf2TtPr2cDQdYTi16pv7NcsnEbfN0F629pOrNFObUzgQazM4lFYltqKc2zWCKNG0xsI8tz/CkDYwn5Q3SDQis+LJgrY3IQO3f/SPNRhJUThJ6+w3nahxuFQQQ7hfuok3bxiXOM7tEjiqwwW4EotjuOSBz7drV542Pg5QtnGoITaLHwe2HATsNVkA1bUMkMU182y7tXGktDU6zK61Mi2lNRkoh7VYbQe1Ye6dt1XQLzaGBGs4gWcCOKJ0XTZd9Bq4qe3Et9JGwTdpkOs3onTUth9qmLdkpgM2+Dp+tcTQOjQCpWw1B4OAttRdDLeyPc01rVU6s+yWjLXJrR02Qj65ttm017Z/sE21uJxFNu4xyLad2AQ4maqINzDQn7aT6Pg14SlJuOZW/7dXegE48iEJOC38Qrcolq83BQfnN+uvp7U6ut23HKLwt8Fy3Tb0oNU3GWmOteDI87esWsE2NFKJNxxWUDWsnpa3AlagtmXiLzbeMQq3se8zuHemWrcLx084TtUSOADjs7esKcK3T26INi6uU7bcXZ03ATGeNlMaMbarDSA2muYjtoKCMTYWF022YTKLNr8qSLcs7/y3S9uRtT4Bn7WF9R43TjqRN7HE5bc0mKe3NFbhNcvWLbWjzNA0qqTEtDIt8zQjoSS1uPliNVommbXSAk81upoSuLJS+beizqE2/As1NhzGODdj1ZG38JGYt84KE7Y4iVI3jgC6NxlwATfavsA0U2mDNUvMBDdg/o42nuPCtwF96LcSZ8i2IlVuNxZPrzecKbW1UR87tQRNBjYe2nG2tbCwNzZpo7a8xV+4T+Fht/rkzzcqNMs3Z8f4NiaYzLdd7lG3JAKsN4TfbjYKu6u1KkoCNUaJ6zSQYVa2v0Ibt4VmOTY08vO1TkT6NY169LaUteS2FnE9N8BBNTWo5h03lh8NODz3Uzf+onK3kZWyt1I2xbd6xSm37crtN/cisDdHcNq2PJ+aNs0yiLb5hYM2QVJ/tvy5MbfeEse3j4jXt19DBThIdPA3HQy8NWCL9DRJRxe2lAeNt0xgAbaLXCk33YSCNcspA7Zb4Hg22PlOt3uq77f3rZm20uzvNuLAazd9Lsg26iQTuG+D1Lchl0c3WxzDN+KrXDepdoC2TwrMNf5d1jXDXDs3zADstl/Ejbc3x1I1jElQswY4rbR+Xz41nUKxtRRDNzb2lDy3Yi99t8TnaTeTvqQ3Lz8btRUPjLeWfGG2FOaYN6c5qTYzxkC2RPA9NqHAhLbCKL033sBoN8NoPLfi71e2ZZ0MNnDvBLd2+Ky2bEFfNsw4lrYgYuI3qcieN9EgfbbR8y02BeMOtioAPDaG0v03x04uOGkLC7dlfDy4LdCCt2BOEDg4lko4yUOdNy+PfrcPFkS3m9CiNiZegTe07lE25O66tfM6qDVj5tK1rb8iNhFCmrZriIY3VP4FOF0yhDan4+K2L579tRHNoDU7n0c4oPTgN+PhvLZ7WWE2whURtkXvrzWzcyS1qDzAsdu+GzXgoZi1WxjlNdZWAzeLpmE2mGnQtkYAzbYSaSa1/n8TNiVHqbaOOP22Vme3NVwBc7UWs98155YJt/i1f7Yjjsq0wI8pNzy+zjdlUay2v9dDuIo9A7iQzro31cu3NymhKze3MZ63smvZt3zYAbZRdto27pQSOH2dXTeWUCu4NGVVuH7DbbVjli44q6thN/INRrif/RK4m+j+NpPko7YbloU22aeEtkDryjYPV483PcA7tXIIMLfyrR02gm64NwnNb7cCAke3UIhZNkdqDzdEQ5G0fG/+t8yDZ7cBlAA46Lb+N+APl7fr96K3QAeTNQyN1zPDKCW1zPKDNTrptbXLYPc1Jc00tkQHuDZbmuM23NyQNIYDfbam9A23fgL+NYSqY7U9pts03OpGtA2ooDNAcyOz9Z1sM6yE9LOcI100zIeutF+z+jScKSm14tlbNSQUjbVVl7k1eOkHtmtklzYCNgo3bOUMtlGk0zXTww+2RmqaNx0NqTZ6Pwm3abnZtthYHjcye4c3OrpnttvdyDXLChW1mvMEtK1sUTV/neO1YQ+VNlu5BjchxtC1wDYSNcKl57P85A+07ESVNJJYwrTYX9k0LYXgtBcN3DRUNM+0fpK8NPBIprR+GY40/+RqtHntOjTpBw60AuDKM6veg7MesQ8zbYk3spDA87HS6q0yenX7stg7FTOgCCCz+ZYgM+gfGbNvgQszhVXysvIpxjIKjJOyim81MuhPWrFUHq6xQVF1Mp/d0rIQQBozLKZPsw+UhDNkBaOzDczCM2jf47MTlgM0p/EXtPApMzROW1+0h46aNNvCIjdbeKA10n6RtzkC0rYB1tU266XiNv4+CLXcNga1Q4GZNUgnAbYusWs2EeW8t2VdXLcsPZk2iXp6tqhswTYhbo8398PmM9/2kLfih7+2n4mvNl+KnTfZwFi2rkByNtNhv7bskI83I8wBOFH/tbZunUE26gjytSU/ozWpyWy1RNtANQHCO7XNfl81YKyctVpL+TWA52q23w5SN801vjezrPE2PGZRtRy7w7dKEf+2cxU0N+GakTfg5nE36y4ANfh2JbUosAk1BgDQtDLEkjSL6zy0VCXKM7sP2rLPRg6za7a0M2PdC7Rdujo0hqhptAHwjTSX+6q0k9jPNIwSArXeniw1OuN/tdak7zXfLQa3M617t97WJTa2qQU3n31CNix1GLesmHS2k22cNa+bILVQHfY05oBftVh01Dbl2wk38YLftyn9DbiABpM3h2QpN7+4EbbZdps1+ChotXoCVTVZuWK1vn2INTH1urUwgB02+tkSt8KmfLauDIg1CvqesmoDhrU7k382/fAPNwIPBLYVJUU1/jyYM4Dpg7XxfDQ2NDFDt0ymZLerpKA2OHvjNhnwXTbjFrS29Vj/tqgVyzUBEB83ESoutdO6/rcpD+a3+kSxNlt/vTeYNlw3xFORtgnoQDZ9RyW2Y2p2Nq8y2DfrdVg2NjLCtePJlTXqqRQ3waiMN3vlEjc5YAu4pxMquE4lyzfUz4s311ExtimGVDVz05KzpTX5tEjTtDXCGfm2W8jKtnoopzdu3Xc2t8TYtbLqwjVQkQu2SKcIN376ojZJaUm2V4GlNm6TBTejYem16S0ctxZ7F7UyIzE3O8xOtIIHgDNW65EziDFVtL2FtTSwAgS1LocyNQY7aLUNA5Q10nu7tS6Y7zU2NR62ahRkNsDs37ZP8F+2NwUgNxzXErZYsFs1CFo0tJCmebQ1ggk1WnRCtZRycTX52o61n4wVt8Iu67VmZIE2u3SpNxf3U7dAXoG4V1i3tyQ1MDYQYcq1gL6nNbwFr7W8n9g1YDQDN+vPlzbujPa3QF2mt64CejeDcYK0r7MINvUhJLap83w2UNUdOHlrgTciFci34glLtzAbdbc1Ypw3X26DOM+OETdyLkK4YJ2zt5sFpDbiDA83/EEYOEcOxTbvtua1u/sVNVkwCzVZFWS2EnIUt5tL9jVgl841RnM4N1wIsbbjHTA38vcxNrKy1rSBEWazBz4nt42vtLSSYNM0p47mtHaF7zTzM+20yHTdNOV3vLTaqya3Sp0ntEg2AbIQRnA0nToLtfMxgjXylAC2K78HN2F3yzaQOdg3ZB/0NRN3Pbg7qgu39chEN83yCzga9TM3zutXtu5gEjaYNeq1me/DNSBppLU4g4c1vAJYtXmTIzVeLuW00Q+NNFpVBbT4Aa8yjtgaM+RH2LK+r8SznkfdNOy7sLVf3AA3UoejNmCjELYBxJ41dCKfs2igzbYxkPm2XdtWN3vTgzd6YCg3a5yDN/wKqbd1Kly3BglwNqvexrUy9Cg3vOvgNj3L0DaEoMe2Lm/8tvUb1zXGOBs338JINU2WKbUu4w413frhtKquljS8DsGztKtZtM+5UjVLU1C2SwSst5LONzcIox845TmJN6t/f7bZKR+42lKHt38UNjhHyYk3bxDBtmICjDZbKYe2RsnLNhpB6zYun7O1VZ0+Nl5iMjfRGOW2aKOOt5lbgDVH4Om0D9LpNFeiJrWi0Hk1kay5tVPFDDZRYHG2S3JKN+Rl1zf5bdU2BtH/td72B7dirD+2WrO3Ni5i8DZ/H4W1DlZQNR1Bi7ewBPS27baxNxpHKzbrnFK1qM28NW2rArfqXZ62rkRGNjWC+Df9xrc39PiQtjon8rdvhry3pSCENjmmSLYKTBM3I48wOCpwczfuBmG4CQRhuImOfDfJgJ04PERcODV7G7jMynq4yIgZthziVrVNCAw2SomstuVHj7eeDaK0R8gqNh4mjLfD+kW2u8ydN8Mjw7UmDMm3A7mmty6X4zZuDnM3FixzNquORre77LE15ETQtTnlKDZ3+Be3hsxVtuNsKTdqIiI20ny3t52HxbczP442zNsptq1Z7TVwfLa1t5ebNQpFmLVUy7E14y0CtsrOlzYXwwU3yfS0tQtILbfFdC42YgDUN3lgMjdAyFY28DUvt6/M87Xef683B6h7N4dWDrdkZoa3oChcNCEDnTRoD9202UAANcMUHbUO82E18+7ZtenFAjdtTqk2gtg4tjLnlbckblW2jEb4N6RDjTaCgAC3jDfUtvl93zaHNos3s+wnN4OEKbV5W4U1rRgRtovM97f/FTq3Q8LHNzgO1Tc9d7A2rNewtlZGy7ftn6G2u3xQNn/8PLaVETs2UKFGtlTLbDbvisq2h47ctmaOBzQ2rIQ1ml3mtcu7LTbF94+2v3NeN2PASDe0hFG2mfYHNkPx5rY6dRS3aZ/EtkFHErVU+9k2717DN83YzbZvII64lW/6t5KqAjiU04M2LlAKttSq4jUPdMW1Tn+nNRpwfbWky8o0DXH6NSs0RjcNw2K3NHJxt91K0jd9mEM3ERtWtt818zWFwKS1BJpvNXN4NLUfFAs1axnbtLlqsTS0C5W0fPGCNMMQcbTb5WY0Pd9itLeoYDTnNVy0PfxRNGBwP7RdHCQ06HYEtHuj5TMeHzO0rDYlNTSrzrYrgAm3wNfQN9iFODcJSQi2tP2gs3gvWTZDsBc3atIktmtRuDWq1m21k5MjNW9K77TbLcE0rGy1tP2kyjT7pgK1kGg6NRozkrXrBAk2MCcNtzQxcbcWbtE1J2FmtVLJBzXIaZi0SdAKNJxplrLpDoez5ez9MxPsI7TW0TU0rKw3tBVlLDSu5Ba0cDz0M0cTsrPUaloziKqtst7T27HG++MyaOUis+IsJTMWMuGy0VkZsCzrOjPnEOCzJ4VGNPlmmrQJad808tEatb+8UTV8pY21pWrENVtoFbZhAaQ2Wk+VN4lvjrXJLiy3oQM7NS4NsLXpSRU2jVKptuWokbfK2hi0Plz4NrNYozbf8w22zESxNcw7Z7UKPds09VsBNa2OjbelTdK2/2uSNovU0bawa+C2LrcONc15ezR7efa0IGQDNc4Jy7QYUoozK8FYNZCe7bbwBL+2gMhzNkCWC7cCObK32tKBtqiy5TXmvpO1bscyNXN8RrRJpxG1LK8ONlE+OLeGyHC3tIO7NseCk7andL42vgwjNwRgIDf4QR234kSrt38UprZM4ZU2cl4UOK25gDa4zw22/2r2NSNc+LUncA42631JtukBHTcM8lU2sBLxtK7LDbXw+rw18gU9tuOQIzfSCQY28eYdNjKNS7e2blK3wjZQNs4FebVGozK1u1qANrt+mzebA9a1ShzBNPAsmDSKEkK1nfWONR64trVmct41lj0Itp7RNTZwD7C2WcL4toXHlDUAtIW04Olrs2cURDSN43e0Hjx+NGpIarSIw0Y0wWMatKh+0zNf6GCz6FYIMuVfDDNlL5Gz7zzMM9Xn87O/gwI0Ncn8s6DA2DOc9pazvIrXMqR4FzOnQ++zz4NbNOwEqrQZe/M0Y24otTBwaTX/gqq1OsgTNrMfD7fQt4q2lHbaNYKCi7UBM1g1iXIztVCl2TRCybo15QlZN2HV2LfoxSu3RsOMNeG+PzbW/6I38RQutorizTUXYZO1aQZeNZ8FsTSNEgM4lgwzN+D6WLclTs8140mQtRlKWzWNKC+1ZA4ONfuAl7Spuoe2yyw2uIcuoLfW4OU3NYgnN7mj/rVHTlg10fL8tIPSyTR8/Ny0cg8dNbanj7VSuF82saCoN/73ybYeP5W3k77fNSINirVyw201eLl6tbXOoTWSLxC2aRMjN62lCTh5Pni2wRuXtzHXqjXmH8izHz91tZIZdzZ2sBI3ArgPtlT6YTW6ji83nWtQtpkZG7cABC02KRamtavfPjQZRNE16Oist9nZf7cVJBA3coCHN5seRLVhdIY1CsVvtm3kFbec5SI28Em0teDtVzX+8eu0DAQpNKHGnzM9B5G06H/qNDgxG7Wg7To1UNBUtYMLaTVbnHe15LN/NVTYGjcugYM1dCGAtaPEcjUf6ly1HIY7NULJB7V/NUI0IZYENROmTLYeDSK3qu2VNiKD6Dd64n03aev4t98UbrhP5TG4A3wyN1B6RzjPxo03gnNBtkbHCLfziUa37ceuNWrIg7V0aRM1Wwe/NADg2raRCeS2jIEsN/lRZDZAWuq1fiwkNjE3FbdKcWm2JPENNZhGODWlivK1Sf00NhpoNrilJg24mfLXNuFIcraDYSc287sLtoy/JTapVg23S4qWtk0UDjbyXtK1X/mrNdn2iLWBujA1Po0DNP+CxLZQt1O3EE9ztuM6mjexbZ023K0QtjX6xTWdTZm1hp+ANdvVarWQ1mw178+Ete02pDVLs9y1GlsCt9TljLYVpsU3VdU/N6jjxLW6ut22FjetttiTBzaHLnO1VqBmNJv4Jbd+s0W1SD+QNYhYtLVPW881bvXgtUGD6DWNJuW1ns7VNadKubUfzY41n3gyteS76DSZmLm25q92uNC+o7dn4Sk3DOgAOIaI8TfH4Cq3ogJ9tmMXmbbNTV82D0EhtvC83jWTIou1VmAGNQYi97IlXNa075BZNfSLqLW65Po1TCRgtw8zPTdVRuM3tHA1NpfFWbf9WIu3nymhNTDZg7UaeL81z5lGttKg1DeOLTE3coJ4uFvIsLdsvpM3oqMhN7Ptt7WX6B2zNuJvNaKKDLa66BA3hbV/NqGFi7WyXqwzI+gdt4EZH7byQ7I3pmR4Nx2QDLc1esW20QWTNO7ZTzSjnYC03tE7NL1VgrODsr+zmVGUNDhBCbWn41s1/ISotQRABDaJr222KOBON2dHXzdAJ9u2E5ANt/fftTZO7Oo3FdcWN8KAOzSqv8Y0cktPtazqljVkYsW1KZD4NVVhHbYWQGA3/8fEtrCgjLdn68Gz7KTWNQdHk7a6oQq3HrUTNguXErYtTwk3Ey+ZNog2Bba0Rp41N+oStRJMubTr7143zSIdNy/DPbbgYec1+gKdtXegVDUsMwa1oreMNEhajrMObMazKVxnNKuPorQarb00shTEtE1htDRqY4y0HI4QNPp1fDMyj7y0ttxfNYdC/LWDJAw3C9eKNis1wLV5Oyg1UgY6tOhMGrRnPc00LZYWtXKZNzVH9Ei1r7BINeBzM7UhlAM1RwA5tN/+MLfc3Kk1Q9NcthqIXTeY47o27lUYty9Aurbc0T629qGVNdKawTaSndg2neBvtt4vMjbolE63ODQOtyJowbVMx581OU+AteODPDXIf8O0K/p2tLww8DX8Psq3gEpVt9yjhDccLos38MS+NkiVwbdz6Ay4wlLWNsPcxjdrMq02YbUzuOEgWbiP7eg2NocROHboyzfhASu3smTmt0mU+jbCMAc4Lj4bN1pCvrf6aoK3sfSLNuQjArbLfXA1TTh8tMuijbSPmTg1JFmRtbFLxzVDIQK2POUqNgatd7ZyZas3MuVPNzl6PDV39jq2RKwfuH1OhLdr5Iw3FAqmN5cUlrWrElC0NKE1NZZNbrWvRYI1X4WDtbH6fDVTl2q1usFSNeejN7XM+Bo1vlj8tEXXxDSiV5G0vrZGNN8H8LNjeGAzLAz8saaOw7JOWiQzdNgqs1Ez8jKxyp2xdWMAsxVHnzPXuAi0XsFKNBvpirQwoLU0/IHntP7yEjWpiEC1w1OPNUXWObY1JIe3stZHtszdwjVMQa21SuGwNX/5vLWsL841kp7ktZB8ATaGtxi2yZVGNokxubY0GpG34SpENdeUPTQlmAu11Wg0NekTQrX1yDw14W4ntXV+AjXDcJm0H1YzMiyaxDTXZnK1Od3rNYeCbLY8rFM3Y1dQN2SRWrbaI701E7rqtHDjhrRZAVc1ad6jtc5bqTXsNHU27EpJN04F5bctapq4vETDt0K//Dcpb0c49N7ZNzb9F7gNfC64cAXcNeNtFzgy0Pg3EN6Tt8hUHLd99pc0WZALNwLMEzgaMi03AQ0gt/GPfLZFl6M11pOVtJaeQrVbHUA2dePlt7pWwbcvhBo4VRnINwYVXra1QO81YByttbVEkzWj9oi1bGCFNVe+hLX7a4U1XxyHtYg4izXqfpe12PbDNcHfaLYu06u3Z8gwN9HrVTf5GDM1U/n9theun7Z/cAM2BJOOtYNY/jRnzNUznul9tcbzczZQ9Z83f4Igtq4rtzVuv2q1XQgitz/mh7SYQtKzUikoNdd56rVs1Aw3U951NivXqzT+RyG3EFGFtyIgGjdTorM27fSpMknco7URIKy3kIgzt/clETZie0m0r47NtbTZlTYpX/23JyKUt3wpyTbmaHK2l9goNua+/bWHoss1ttqwtQjMqTXsB7e1EIDeNTrfGbZHSYE2YC/At3UqVbf5rIA3PoPcN4H7sLVvi1a4CCQDt7sMjTWE4Nm0nQ12NPh79LMZqomzW5IGNSHqL7bpDzu3nAjAN/sS/Dfbz801vCwKtn48Y7dSXn+2eJLnN5zkATbOSdgzRjU7tv2zp7eT5+S2OhMgtkER/DVnKMe1A4GTNVpONbWR5zs01jD0NPlhsrWiuD82M1knt8AJzrWDE1G2LQXFNzfdrzdJQeQzH3A0t2IwzLeWezo3AkktOPQR1jfUZvW2tmP0tr72DLeRYbO1OaybNWpGgLUOZCg1TzWms/VJd7WS2Fo2Emfrt75y2bcAUIA1sPBEN2ElrDcqSza2WrZ6txHG+bY89J82pGGVtrWV2DYyudo2MarCtDQFD7Vcjac1DNR2thQsGrfSxlo2FGletvmHHDfhFWg2Ci2DtZmCtzRCaYgzNMFCt9nvJ7gW4Fa3Osn7NvSdzzaqMTG0Dd0xtb3qkDVcAsa1ItsONqA6mbbJfQ23o9SJNoS3rzfFcV23vHbHt6UQ+TY84bE3WezmN2IpHjb50ue3thGgt3jmnDfRjZs2b2tNt3k+oDVV0iC19XpAs7nfnDUZjgC3xd6itrxZFDaNAsm12LmbNbUZg7U98Ww1pf5ktRSXazX1CYC1buiRNbO6rbUPgNk1CuoFN4pWdTbwhU23rBXIt7vw8zb0gI83gWWbtdi5BjWHKi+0G4iQtGRppjVBgZW3GUp+txdCGjbLORE3OumXNRbkW7VsTxU1lvartJa32zN8Vdkzn0qctBC6+jRndyi1TlxONVf/GzdYTYo1X6qXtYC+ojWMb6u1GUixNdlkFDektbk1rnu5tUi8tjV+TLG1MPSoNehtnbUWZo41KvN2tddjSDV1+Q+1/l6YNF5fpjJ0vM+04uxiNUmCw7XBkCI2FnetturBELc7CWC3k0c+OF8LMjiqAOK1otJBNVhT6TWifuA3ThtgN2qHdbbR+7a39Q/4tuygAzbr3bm1ID+aNeDEgrWAiVc1OocltZ5U2DRLZRa0YP13tBEIeDXsQmm2IiIatz8iRDYDIxK2FHQPNth4MrZ9Ca824w+SN5hJibReSmC3feMYt6LcKjb0CsW1jN6ANVOYKbW4jcw07OYztDP3/bIEPXE0XW3ntMWVMjUd8n+1ybm0NTImBLb9aVs216Ytt6ko0zQ/jaQ3QA4NNy/BAbYBkym3YNRNNrhrYDfolIU3kgNFtinvBrchB881NOMztX6I1TRIEK20y0C7NCpv87So5i01Zz2FtYoK5jWl8JK20CoGt3z5cjX8M4g3WA3mNpwh07aTML23TbMWt0CfOTg2Jzg4Hx+ntgmfErgjFmq3kmcuNi19+Tefb0Q3jndmtppnBjbXg7O1hn56NRMgNLV0fzM3kUDWtBBm0zRy8P+0SIUyNcpKhrV1Ptc1RmxHtqTKOjfu36k3s1zFNXOlrbTonXu3qlSst62F+DcPbPQ30jB/tqGgtDUZ9pG0FbDttFmyvjXlBgy3kDApuDge0LUKOjI3Rg9vtodYGDZsLtG1pjl4NUYRHrN7czS2JVYkt1YkXzadexu2Edn9NcN047VsHOU18RkWtu/sBzdQ75c2QOUnuFZafbcLp6M2gwnqNs7LLTZqhRa21UsHNuYv97W0o+I1GrfOtYkYujXa8KO16qqLNWeUYbUlECU1w9skNw+L+zPnxUY0IPwOtQMXfzXto8i1ssobNg/7hrb4P1o3GVJMNzHmYLffrdM12W1stf9dCDWQ3aG0gONYNL0SRLRIM3c0Dmq2tIcKCjV4/061RqecNbx+ALaRmZg2H5uYN8u7z7WYXSG3pD1ltNmjhzPlyryz8Ae8NHq8orU16Pw2RQmqNvOOI7bj/N414AsXNyQkXDUyqyM3bRIgM0stIrd/odm12ocGN1MLpTZJo/u247swtxH17Le39GQ3xcr6N24JmjX+fWU0IKTXtNJw5jQQs8u054yKNKiDP7O1Ha60go+PNZ3RerZ9iBK3fyMTNm87lrWHe9Q16jr/N3+LtDcn0Zm2rAuGtwBUCbZ//xW1/hQlNnu0N7eRrP23BNgvtnYaCDdpE5Q2TuHttd19oTW3Xcu1rML1NuKKxTbF84q2uX+sNmPJZrdH9EO3JLJCNhvlwLXJpGU1u7cWtdi+1DS0vp+0Wyt6NDvWP7TWXt4zp7iQMyHuMLXYmtY21uAAN5nJZreRZcC3o9LbNp4+ADdN6A+2EeMQNhTNlrb0IAq3boIBNo+WGTdpiz01smYKteyi0zRNmqW0Qa+CNEO7TbRXBiA0gu/zs+rStDMxxYGz8Us1M/Ag/7IEzcYyCcHDsrSR9zKWZjGzVCmBM5KttrO8O/gzEzIitI+pTDSvb3q0QCaVNBh5rbS/g8U04ZnctLwU8jTBqgK16N8KNd1IEbWe2xQ1F5UhN+/1HTWiGR61sIgcNbFbGbU7shQ1+a8OtVt5BzUlYP60Jd/rNB6S17Qcf8E03YWptLJTjzQ3pGS0CBcjNGLzrbOA8o+xFm/uM6Z/h7SANvM0aQFOtW06tDUwmDi2e0Y+N+I3dDd88Qi3cv3Ltl8w8jSMuw8zzZPZs32qkDO5UlIxxpHDs2A6TTTl56K03D/oNCxQHrXdyFY153iXtUNg8TUf73O3hDWbt2ktAjaYgIm1AFgwNfk297TuorY0cNSLtLGhWzQ5bS+0lCwNNHPN4bN/G6szXf8pN3UWoTO3JLizw7YMNENqkbQPglM1mUPPtsQLV7fqjx629awyNw1GubMDuRqznZO4M1/a3LMmtdgzS766szcljDOziSiz13pQMkuEWjKfKgiz1AEvMwOBFrPKmhEya35MM8U6HrQW3ao0RUUotX83rjV9+Wu3a5wSt+NxHDb5E7S1SKRtNVLQHbU17L803EMttDkCdrLkIT00Je2vtB4//TT5PiS1ycJKNcTCdrUdpZo1eh7ctRajgDaK1CI3ZYgit/9+gbb4Od41+OSctWn2ezVXxFC1rf8qNf3mBbWDr740t0BYtI3uDjNKgiY0JhDJtNQjLjUjiIu1TOnsNZoFdLe6L5u3mZoJNu9d4LWU5ec2YBidNw8D2jaxnDW1Zqe3soM1kDRVUsy012jmNL7x7LS3X+k01EjqtK4vEzUZrPO1b6Tzt+fln7djZde1ukGANE2gvTNLvFG1gFniNr2S3Ta3kN62cBqNt7QtFDV3DD00nNbUtDOa9jQRR/C0qA3SNAoKpLTGtFc0MgO8s7tXrbImaMoz3N10s30t5rTers02tEsBNy5qprfLoDK4XJI+thSpJziKe3Q3OLpvtzZ0HDZcX+u1Jd7xNYyne7ZRQiS3Dj7UNltt1zboroQ3JKHtNl/zLLfe8oO2fH8FN5E5szZyAGq2i4uxNsGkAzedhwq2Sz4UNlL6Crfj6ZW2PjsENjAltbX0PY81TWZ0tbYTXDX5hU+12gRMNbwUULUGsVo1BO9qtci5fzX0sou1fD6XNW2GnbW7aIk1/GE2N9DMaDcffJe3g1EcuPP3ALV+Zmc0K478tIdZKDXShju1Suo8NRMZL7VHOhM13GAxt5UN0TPVCao0Zk+UtXPdajfZgxE3b3wQtlutoDUvlxS2GDHEt5SMujf9a9k37EBXuAMbwLciz5E3iyuGNozke7Vni0u0BrONNbVCB7a1PHA2klQ2t8/ojDUt6p43uQ+/takmL7SvkKU1Gz8vtiwUHDfHJEg2XpcSNHU/TbZXxCa3fMbJNnWV/zaJITK2sJ/5t8g4RrfCmXY23zUetsHi7jW5fcC1LMygNcVkirV81XY1BAlntT6LZjW1hXi15fmRNesqvbXNww02PiCftrI/Arf5Vac1844PtGNAJDeuUEW0fHMFuJA+p7cOb8E1EQ1BNLgOFraHPZe3O4qFtws29zeyJAA40D44t8rEKrfxMI22wU0DNhW9x7Wrv7w1f5XTtVWwEDYWUZy2YoaYt0Gd2DW5Rze102yeNNUoqLMffH+z0RkjNEtsZrQstIk0706YtHeqoTSFLKi0azKuNL45trTcEMM08CzYtGla+jTPqhi1jgNGNayUi7U7PuQ1yHByt7e4m7dMDAM2EtqBtcCQBzU+20O00wnqs9DN6jS4v3S17bMANtZMm7eK8HK3e8DfNXTBgrX6Pio1LxDktF+SljQRxju0b7HMMwpKFbO+rj6yVuRBM7MylbOYHbgzMZ7Ms7451TNqLdSz14DLM+EJvbPOcaozuzSVs4xBfTNHp0+z7HMjMyZE9LJckKkyAoxQsgXXxDERTxOwNYlusSbf2jFnKQ6ynSogMkUAJrJ9RiIyFHkXsr7ZBzKLtOqxxhvDMTNIm7E+rWkxUWYhsQjgvDC6lAKwmgjFr+5inDBXtACxCjEwMXDxW7FXGoEx0QmQsae9mDGRopixsLeMMbxxY7Fg1Agx/eJdrsNGMbFJHswxa1gssjRTfjLdCq2yuUTeMp1UCLP/sSAzlH02s+SyRzOvDFKzdBlTM1FOSLNwIC8zNx4Fs9kQkDL7eiExR8LlspKbczNUo8azhjMQNCXcQ7R74H40fjqhtLmNyDSlBPi0OZYaNQdcRrWnCYg1TCPZtVtbiTb1uBA3Y0Ygtkkp2TUU+MG1hd/MNRatCzcVUj42bAYbt25eXbZLRzU3faZ7NI17SrUqEKE1RxXftcnSFTbOS1O2XmDINsiF1Dbiy/Q0X+MPtlkPrTY5y5E3I54ktQT28bRtLHg1CseftcmEtDUf8b616avANTM+ubU7RaQ1qjJatS2aPrc0fWm3IgiBt63JFrSfnBc1iFAntUnMIzUTOyK1jM0xNb5LbrWQyN41uqUDtywGprZhLC02DugTtmt6JjaBkJ62KD6at57UDzbVSN61o50JNsnYlrZ2CAm3mBD0Nc5tb7UV2Qo1pWkwt8VuUDS7/CG0i4ExNMMAgrSV7Nc0V5s9tdwkuDXvPIS2PioRtxMuFzbNmqu1bjBjNXxpHLU0WtQ0fCKHtAFXEjTgeTGzeIMksxj85DM7/zO0odJyNHdMm7Q8e8Y0awAFtY5rSDVmGcW1cNiTN6qQzjY98qi3NJxhtiN2lTX1Biy1ttLzNCHhv7SN0J80qTGJtLbjbjR+rlC0yns1NJQhHLQ0FgQ0Q1fas7DSrjOb5YWzSdk/Mw0I9bKLcHEylka3sKwpJbJKsqEyyJ/isqMzCzNuHR+z2KMtM7tGN7PkXTwzfgY9s/MdOTNpPjCz7sMhMyPYDLPgDOEyX6aXsprF7jEd3tAxmNG4stf+KDOIRn+zhQavM9i64bMYPAs0QcwltFmIPzTKL1e0oDFrNIV7ebT/BX80BLx2tA+TVjRdmQa08iCEs0EwNDUnHtW2LS8Utwn71LYJkSs1BfJMsmDvVrR5HKY0vePOtMSt8jQ0twu1aGYgNQn2OLWqVVc1db1+tcbrmjW9zsa1wDEQNtOsnbYMGgW3e/rVNXgkPbW8bs80KxeVtLaoqDSzrxG1OoitNTAy9rbULMy2HigiNzJ2gzY3pA22meIfNgnKgLZN+FQ3FKhSN90ncraD6AQ27hWmtbbGUjUayfq0er1wNFb/+7J1ew20BJiPNPuvzbTygQE12oUYtat0LDXLwT214MpMNeLcWbXiNWU1wvhutYWjdjX0IBs3R4CGNXtkjLUQ2ZQ1eyajtXa6vzVo5AO2VnuSNqevDTckiBy20GPuNQ2RDbZ8BZc2lbQJN40i/rUOtYQ1IJQltRTP2jTyTZG0TKQ6NMmv3LNhtVYzOeY7suR1l7I8qyQztNlls1NSjDMB+6Kzhx27M0Wg2LOHAf8zPZ4YtILaODTXE2G05OiINNKjpbSxrsY06eDrtFiBCjU08SC11To5NeKHU7WfYnA1iIyItWoynDWD6BM3oc/0NTjTdbZ5ZHq3ajyntiVXIjePo1o2WOletf1OizTMtayyxOvXswLAMDQgyFO0wFZiNGLUY7T0s1w0EbVPtLh/PjSn+Sm0v3sSNE7077MzR7Qz5wBisyhslDJ/NsEy8suPsx10+TOHWza0iCR0NBWEmrQ8yLs03PDctHzh/DRZKg21DvEZNTMBJLWOhio1wJQstbYRKTU9gR6104EKNe1I0LT7BCi3vORANLoblLVmm/k21b2uNkx/M7YBSAi335b8tcSV+zVplwq2Y88tNkaCh7ZdAcE3ALZSN1FnebaQmhI2TqrMtZY5mTXepWu1rUM1NQdcCLXyEsM0OiN8tEMt/zOmL2Wyogiys3hrNzSG24a07lWuNHKA0rQEqfM0kwEJtePIFjX89yK17oosNe64Hze8iEE15LZGtQ3PSDUxyke1NRU3N7KzLLXeixQ1BiLhtEdsbzTvp5szhuQWtdx82TWrVpm3efyZtm8WbDYkdUo3VviStx96sLdJgMc21HBpthiWIDYjLOq19aStNSxBf7XhLTU1/gjutNrZgTSik4CzJ3Pvs7m0ljTgKvW0nmouNVKEarUqNZo1w/3KtblDCTbBL0m2hoXINpLKxjY1qQk2HahHt7InWbc4yH02tjYIti4HozVZpkK1A3/UNIjyLrQC4muxWj4ANM80UbS+jn002SCFtJC9ejSWs1C0peAKNElyBrPohAO09G/aNCmxm7WaEPA2JvDVNqMMKrenxVS26dV5NYzc9bSzYI006xkjtH5PmzM/NPaxYaVVs4CH1jOB+Ri0MCk8NLNPUbRxvVM0aBo9tGAhBDTd/Muy/pggtLEK+TR0oZm1PKRpN/+aFDdNkCK2/T67NTQBbrXdVwo1jis7tC6+WbQB9UE1dgDttTyhCTdjEJI2NEvptYc4jDXPNkG1Yt0RNVs987SDQOU00iX3tEC8FjVZUUy1BZeaNTyxDbaS5g43ORGGNk8DobUsxgqz7Mg7NjV7IzdWUmK2SVAmNiNoEbbafAo2/1kMtptWGDYITju2ymqtNowXljeK+ee1XKvsNbymlrfpeKm21lwsNpmyAbYtgdc1caC4tYoBnzU/+4e1MUdlNaeSPbWWHRk10O7wtOKTuDQnfIq04bFPNGRbI7QGpRE0AhIctH9XRDQ1jIa00bC9NAp+BrUFeUA1Lr2OtaQK7DVizJG2yEcKt9/T9zUztG21hsz+NARZgLSKHrgz77qoMnJhx7PT8Bg0UZo6tAfATDSkjlK0hatONJBhQ7SOtTI0f24etDQYCDSPB+Kzl4+0M5GCibNZV0QzVrn9ssI+hzJaI5ixRdSYse1RPTK9JYWy6fGbMmqWpbJusaQyQ9ObsiNijTKzC3eyNDZQMvxaKbIM7QQyiJjJsZGGlDHynVixjK4jMUSXCrH0mQwxq/gnsQwDWjERiY+x6jm5Mfcl57GT3Aoy3VUgslR+MTKaeDuytCA7MnQXLbIt6g0yv360sVH8cDBiLawxWsZWsoSxuTKztAqzoow+M8Mkd7NXWJkz9GS3s6U11DM5+O2zBEcBNLbHB7RqKAk0RfMDtJAk7TNRlr6z+81wMxZ1MbKB41qz2McMNFs2fLQLnsY07aITtciGVzWXpaC1fHYDNhrkm7ZxhQK3y+ySNbGtBzVFq2e2vvcVt9BoArcnr7u1Ith4Nds1LLVE9+003BWetLZDPjS9Eq+z6vGxMP8zkTOZlQm0c91DNHUkebQfUZU0IZOstF+SwjSpYNe0ruzqNHEH/bT+tAY1cd0NtfXIEzVEOhi1tNgaNVKbGrWzdiG3uvIbtZQWGDV/ahK1VQYLNfoOArUBau80p2XYtOaUvzSAhaW038mKNIvnX7RWHis0w3fws61RkDNFaN2ydCtJsidUQDMm8pyzFvDOM+K09bNFZwg0kcoPtK5tEDQvNgm03CfwM29PsrOF5RMzbTNPMyFhVLStvwc1ZmS0tb8y/jbRda42g5Y+tj7iJzasPT+287GuNg2X/TZL36+1T0kBNYtuT7Rg6Z8zw2IXswfMOzM9kLmz/bQoNCoCiLR0ask0TCsNtcvRPzVkWYG1lyKzNek1CbbvhZs2i48FNwQb1bXwozI1xzOntGKPJDRjLNezHoABNOOCWLRGorU06VUOtRrHUTWiFJS1O1fMNRiADba2sE82bzrLtqKRh7eiINW13JQZN3+bNDZmj1k1jfeMtgiHmLflCrQ1eu2BtCi8g7Q3twk1VpkytYXfRzWveE+1Rh1NNZp3Q7V8njQ1DkwitcH2DTVlufG0nBDINHqkoLQGiXk0w8A6tBYWBjSN/rezJkJxMy40GbM52cUymNePst7zgDKmFoiy+keTMtdskLKr8lsyuzVcsR5ra7IkUCkzj4qhs9MzAzTErEK06CmINDnhtrTk3u40IWoZtfMwRDX8Kn61SBisNcA+A7aaWJc2jTMIN1sH7rWKVWo1Z+wOtZcAyzQyDKu0kk+tNHuEzLRtKQU1UbA4tSaHiDXnS+S1ZKiPNoVeCzdHCAC2ZBp8NU2+CrVVVY80kqfQsyN+3rIfH/szputEtCxndjTdaIq0JQ2RNJnbj7QPboc0lZdwtBHkRTQAsw+0TumdMx7Hk7ETo5yz3M8oNJfjhLRQD7g0hGbttF9AEjUvni61rg5MNV6ba7VsMog1Dy6itf9i2DUE9m224sS2tzWC+bYdYgc2CGDFtURorDU/qZ21XsMYt21girVfA4A1BY5qtRhpVDUV5z217nInNaeAEbUdAvk06rHRtJy1rTQ8hI20S8JiNICyMrTxhQo0tATTs/ofnTM1HmGzxwoUMxhwl7L7x9gu4nerMlmbPrPU86Azup7zsw6aLTS6A260OuKeNKpo0LSucQc1mUgwtWxuaTXGA6K1CYv9NTWjlbYtpwi3NjDtNQwGXbUo8eU0bBZetFKzjDPM7gAzfyLNs5e1FTRsMDO0S8xCNIRnR7QeWUM0ZqI4tMQGKTQHFha0AjABNM4J17NeKawzeF2Ds37JOzMfhfKyJHuAMiGvibHO7p6x0uM9MrXUhLJXfJsylkqlssq/pDJjUpyy81WOMm6+ebL6blMyfKMssuaWBzLuucux9eKQMRYzP7EJ3N8wyntLsHjBwC55S8kv7eI1sBynZjAigYCwUrKGMGkSibAPl4kwGemIsB9dhjB/9n+wWC1lMJztM7BhUsQvVRPZLgkRT7Am5OEwc01AsVV0kTFVRcyxxNIHMs7MLLI6e1MycaF5shwsjjIcBpyy+0mkMn6mpLLwpJoyp8eDsgFfOzIqHZmxRTKQsSg8gjJhWvSyELc8MzjSg7NCmawzcnPXsyViATRzRxa0UTspNP3fOLSjp0M0c9BHtMdZQzTE6zO0B6UWNL9pz7PDJQYzjfaJMy3XXLQPieU0fQ1dta9m7TVxbgi3PDGWttCt/TVNYqG1qMRmNTgWLLXfhQE1Mr3AtOQUizS0zj20M7HpM89KZLNHTA8yErflMmIKZLPU6pkzpCuzsybZvzPRBcKzTry7M2X0rrOXh50z0iaJsz2kZjOYpTqz0nAQM3lh07KyP48y6UAssnCxozENKH2w6snSsKlQODE0/TWxqH7aMF1oqS8Q7EKxRxbGMfPvF7K5ykoyBrB2stI5izLDXpKyKBWOMsR3d7IpxjEyJ7mNsQ7+mLFiFYUyriP5sgG2QDMa7YazKxixM/iU3bNvWwU0jDQbtPYWLzRojz+0bfVKNOtnT7Qsw0o0Eoo6tNa1GzTtpdSz58kCMy27lDM64me0R23uNPFsY7XMpfE1LxoJt0CRlLYVGPY1/NSYtT8gVDUtehi1cGfbND+RmrRFT1E0+r4FtFs6nzOHujWzmkvzMmysCLOTm2IzuoXEs4IsIDTgCXW0nTSzNCEAALUGCjc1SOiHteCu4jWUyY62kxsMt9FQBDaqKYm1ZxMlNcGVyLQF1Vg0Xk+Fs5mnj7Na3Fg0v4/DtLDrHjVMyYO18UoANuJzCrfjD5O2Fib1NZXnnLWHfWU1no4xtbBUDDX7VN20vimqNGaRdrQGlxw0ZiqGs9tAxLJ9LvEz+Z9ftFN0qDSvsei0GmMaNddySrVX1IY1mYO+tTNGHzZUfhK3JkNst+lPrjW9/ym1y16rNARqELTON20yXLSUM4UHCbTqHTU00rJTtFpiaDS/7nW0W4t+NC//gbSl1oM0SU+FtAS7hjStN4i0LayJNPnFirSp9oo093CJtHYjhTSvW3m015RcNDc+L7QiZdUzs3WTsYtVFbS9w8Q0K3lPtUvX6DWNQwi3cm+VtvD59DUJiJG19Gc1NS5LyrRZwwA0yfwGNO+jzbRwSTc1sJSStQAA9jUdVpW2eC8Itw/A5TWj90i1JlW3NFHu9LNSt/Gyt2EBNIf9QLQ7Emc0Fwh6tHltfjQaxXe03eloNKxAVLTX0Ts0KVYhtOc9BjSoatezuFClMwYab7OAHx4zApCxspLX+zHGRV8xtadAslVIkDLoP66yVP28Mipev7KBM7gyVSKqsvKLlzIffoKyQVVZMjvKLrLjTAcyoFDIsdsrjDETWDWx1E3OMM3KMLDdugwuLSPML4X1JrDGqUQwB/9IsMtrPDD03CWwzq4KMJOJ3a8hbKkvWRh4r06DLS+Ax+auYbSQLgzLKK6OpLItRqoiree/WSwCGxeqQiCEq58jkiviSVKr6tPcKgAAAAAAAAAAAAAAAAAAAAAAAAAAAAAAAAAAAAAAAAAAAAAAAAAAAAAAAAAAAAAAAAAAAAAAAAAAAAAAAAAAAAAAAAAAAAAAAAAAAAAAAAAAAAAAAAAAAAAAAAAAAAAAAAAAAAAAAAAAAAAAAAAAAAAAAAAAAAAAAAAAAAAAAAAAAAAAAAAAAAAAAAAAAAAAAAAAAAAAAAAAAAAAAAAAAAAAAAAAAAAAAAAAAAAAAAAAAAAAAAAAAAAAAAAAAAAAAAAAAAAAAAAAAAAAAAAAAAAAAAAAAAAAAAAAAAAAAAAAAAAAAAAAAAAAAAAAAAAAAAAAAAAAAAAAAAAAAAAAAAAAAAAAAAAAAAAAAAAAAAAAAAAAAAAAAAAAAAAAAAAAAAAAAAAAAAAAAAAAAAAAAAAAAAAAAAAAAAAAAAAAAAAAAAAAAAAAAAAAAAAAAAAAAAAAAAAAAAAAAAAAAAAAAAAAAAAAAAAAAAAAAAAAAAAAAAAAAAAAAAAAAAAAAAAAAAAAAAAAAAAAAAAAAAAAAAAAAAAAAAAAAAAAAAAAAAAAAAAAAAAAAAAAAAAAAAAAAAAAAAAAAAAAAAAAAAAAAAAAAAAACkINKk6oFKvKnNQr3Z92rNc6+SyVi2OtfaK/LVjCFq6gQF8u0S6croqYzi4nxwCvxf0VL+cUIK+tihUvZB3UrpD/aS229g0vsBa/r6oRNTD0CJSwTazdMFPuG7EOzVAxawKGsRqCpTGj88SxuqvhMQlA+LGfRwIy5ewAsqLt6jFBZrqxKQJWMWxnfy+xR6Kxag0zMnbolLItH9oyuegTs8DlPTPGdmmz0UiKM4VZnrOzcq8zr+a7s8TdwTMRYb+zW2ayM4rbmLNrX2Ez8VvfshfYHbIGUWgzJ9nrs7DsPjQ1o4u02ULBNMO+AbWUPCw1j8lmtSdEoTWBPv21iqWVNn+eCDdVxOy1QQRcNUnO47Qd3Fk0MbGEs223D7MN5dMzJtMYtAkiNjT2r0W0LV1KNGt+RrSBDjw0D8YstNglGjRKegW0DrjfM1NftLM6TIoz/fhEsylC9jIWr16yCsGqsFXwcDJqQtuycDsaMxe0QrPWgWczgmOEswwbkzPwfp+zYN+oM/ZErrNbda4zAf2ns3I9mTOaf4CzhBI4M4DSqLLauDOyaFpOM6nDyLMHzh00ucVftLPulDQenL20HCbpNL4SC7W/3iA1v34ytcpqNTWlYfq0tZpBt2S+WLeyw4E3C1SvNxgtELZ0vVE1txSBtGWWIbOwIFM0QYqbtDg7tzTIscO03UHFNHPhvrTqxbI0s6+itMkPkDSBNHi0pJ5PNFr/J7R+nQI0f9HAsxn7gzOLqR6zTbiLMiJQUjAConmylHjbMiviE7MuojMzXLZPsy+UajMgHYOzFAKSM0pDorOcurMz4cnFs4ZZ1zNo3eaz8l/yMyaT97P25vMz2aPks2UIxzMOaJizZ5IsMzAZQDD5e2GzF834M5VQTbRet5U0aoPLtDkiBDWCPCa1dKFMNcqQeLXVZJY1eNS3taT/6DX7miO2ukyoNuUrlTejZ6C1XOaMNG4k9DOU9qW0+YvgNKXO/7SFaQY1J2UGtS6SATVpbvK0ZLXcNOiyw7R84ag02ISNtGdZZTSpajK0jo8DNA5rs7MBplUztfa2sj++AbFKQa0yW2oSs3tpPjOV512zz0d0M0dlgrNTK4kzHqWPs3KqljMmrp6z/bWnMy5YsbNovroz363Cs7uTxzP3lMezhaDAMzuCsLPB9JQzV2BXszPJyTLiG0gyvP5xs8oN8DOmq0C0ElWMNNPKwbSf8AE1ll8stf/gZjWTS6G14UL9NRymlbZlngi3rMTsNUoHXLVv2uM02wVatD83hTOiHA4zzbbSs8r8FzRW/DS0ESpENKJnSLTkDEQ0dho5tAtSKTQ8QRa0bUUBNO0Y17NpKKwzfFSDs96xOzPFVvKyzlOAMsE5ibErRZ+x6/89MvnchLKigJsydEylssq/pDJjUpyy81WOMm6+ebJDbVMyOaAsshqUBzJkuMuxge2QMbN6P7FiHuEwVztQsGx6AC8pQbAvApUjsGBfTTCK51+w7UhkMEzrYbAFP14wXpRcsGQGXjChdGGwjPxjMKbDX7Bve00wwuIjsCaAsC9ieAQvfy1UsEoP5jDnnkSxFcGVMaoD1LE1QQ4yD842stU5YjJ8LIeyyBucMm8ArrLggroypea+sk0UuDKytKKyVad2MuI3+rEiqTWxHQKHMowDCrPSIV8zsyyhs1gb2TPxCgu0WxorNHBvS7SoXmo0XOyCtKezjTQPFZS0S2iUNIPFjLSt5nU0N3s4tOxhtDMtuD0zvWp2tJoaCDXCQIK1K9kFNta0DbczZ4i2aem4Nda9HbUNBB005potNJtf07SRVxg1Vzw4tepqSDWgwka1mO4vNStj/bRNTic03t/DNDXhq7UStmA2xUfet3kOEbcoClE2JpCrtce7C7PfUr41PUVvtiYxSze8Nyy3yIYtuK8IIjYT9ge2DRS3NbrygbWm2mI1yn0+t6kVZDaOE6U36/BhtjKqOjal+Uy2IvOzNpG1+TaMqKS1NeUjt0WJQbQGNCw362cTMeFK87LEgTMzFapVs44KbzNBC4OzTUiOMzzZmLNRuaEz0LGns5ekqTN2t6azsHCeM23DkLM+H3wzQDdOs3sXGjP8S8Wy1DEtMvw8AjHuMU6yXj6lMgTswbIVeLQySlVpsh/dGbA6170y6Rxds624vjNWoA+03CRHNGklgrTUU6I0BHnCtD574DRHy/m09LUFNXMACbWf8wQ1D1XvtCaCvjRcq2e0RWnBMh7NdjTaTRK1h2J4NYIhuLWNHf01jtQlttTZUjb+goS2pgqrNoklCLfCw4i2w7kztg3ahTZqB6W2eaz1Nu2xhjcomii15+ULNq7cRrf3Wre3FvctN7VxpTh9N5u4ppkNuFB+5bS7l1S3YJ6MOOmGxzcsnA24n1e3t9CuRbam8Ae45RlGOLpshTYnrKS3dSUHt43WCbVJl5m1oXarNnTTgDaAPgO3l6C/t46xM7d5FIk2AygmtxDKtTfIsai2EinVNt/tsDa6qHi39RNathZ25TelEwE2jJQhtw8I87bDnq62yvwnNlb16rXRkb81Eqi6te048zUn2I22kEANt4sdCrcI1qM3s87MNE5PjbZXP6C3SsvONASEiTetXMi2h5B0NsxEJLbt4941qKuRtbYsLjVn6au0XLG2M6caiTP1qQy0Y+sANP61FbNDHgG08Lq2NOmKJrUMUIA1tH60tWko8DVFiBq2nyFENobJe7YtAKw2rCsXtwBbE7e2SpQ3EFWatjsgoDYUpxo3CdOaNirKmbdB4Tg2S9Rztl4qTzfGwcE3mImBtqCWDDaepD23E7XYM8dtKTbhAS83nHHTttRiALcU0yM2XmydtiMvQLbmp1I3Pmg4N/mAA7dkFR63f5ElNXOV6rWMTpk2gY2XN8F9trVZXLQ00+3sM9bEwLSlKwg19woftZwJKjXjNyy1m78nNVdRHrVHUhE1QO8BtZ5I4jRpfr+0aMGcNLH3dbR/izU007Lxsyn0fzPqyCqy2aUes+J7rzN7UAa0SAc0NOVQYbRTJIc0506dtGe+sjQqvMa0zjbYNMKt5bSXDe00lmvrtAp63DQbV7m0x2JrNMGEgTKlBQG1M4fbNerzEbf3Iww2nvoQNzyPBbdnwr222iA7tLVdHrdpFXO1Ukt4NdwJdLXxom013JVotYIrZzWPfGu1yjN4NZPiiLUaxKA12U7QtYLqJDYBVRO3HcqBtq4vQTcOwC21DKW0NGx/ILRvWsAynYCVMxInFLSheEo0JUVxtJdghTT6Noy0gLaNNDxVirQaeYI05/lstEZlTTQoySa0fFrzM2odjbPsNl4ya4k/M6mi5LOb9zg0+LKBtE+dqDR8HdG0mET7NDrFE7XvpCs1N/dGtTwiajUd/5C13xvQNQuEerbvnSS3bFckNz3oezbhttC1p0uQNZLvZLXrIzw1uvEYtfQ17TR7Laa09mk1NIxXlbJ/Qh+0gQmzNDZRE7U6rVs1QMKhtexpATaVDZi2Ow0Ht1KC3jXVjz617iisNLUK97OBkyawluKCMwmqsLPubp4zMxQzs4PZG7JHOp8z01AgtGxJdzQo8Ke0u6rSNCNs+bQC5Qw1uq4YtS/iHjWZTB61waoVNf18A7WFgco0XWInN511mDJffps0YPdHtb7nyTX8J1S293VLN3r8WjdTHIi2O7YgNuLD2rXvk5w1fINjtUWgJDWCAeq0vvagNO1iUbQ+TfQzesRUs878fLFru10zwUTWsw2fJDQzB2m0qnieNA0o0rQkmgg1v3cutcY5WzV7tYe1nOKlNc3HyLV7rfE1pKkRtmgIMjb5V2K23/SfNm5pJrcR0dW3l3sqNieONreMD6WzuG/3NJ9ZNLWwflE1kSxctR6BWTXE0Uy1cIc4NSSBHrVLUAA1uLe/tArJLjdOzHSzoF/fs79pmDQOfwW1LvZQNWLro7WVxxM2wyAQt+Y6hrZleLw18As/teaaxTTrsSK0jFwwsdIMADSVFWG0cp6VNDFSsLTV0sA0RcbGtJl4wTTp56+0JKiQNFHpQrRQ1mozJPosN4DtsrRdQjw1v6C+tYNOhzY+FA83ZFoNtnSPljUt3Tm1r+bvNC7knrQEAGI0wJZCtJtwYDTEC6O08psDNWDbX7Wf99A1VS6NtsnCCrey+OQ1GJsBtTl6yLTIV9c1LL8It5b5k7bUkhQ25szsthsU/7Zh0G43wypAN838MrZVkJY1gwHqtGeXEDMbkXs0savjtLqzFjWKgTC10NEet5TRVrX5CGE1sQVotUrCbDWhKHC1jCNzNaa4drUbNnw1iceCtcsVizUAhJq1/8e5NetDA7a7CpQ2vGwLN4GxCbY5wqQ1uiV/tc53YjVk31m1cKFbNWUWY7VEv2016HF6tUTAhDUYF4+1EAWiNXEMEDesOH02VW8gNwXDobafT1c3mqFVNzeng7Y6mhs2n1jCtQIQ4zT0Qbo2a9wdN4t8xzZWLMe08QsstKs+qTSmI9y0xw8MNQHuOLX6xn819yq7tZfPFzZNXK22oN7htikJUbdawxy3YdolNrVdnbU0w/U00HjjM2BZObWxCNE1/U2PtijxCbd/res1AFtHtY8QnTQLPeey0AUitN1NlTTCN8i0j2rvNDFJB7VIHhQ16R0ftXTsKDUB9jG1HHY6NU99QrXg9Uk1qKdQtb04VjUMHlq1hwlbNXJkHTfH9lw1L7JXtfjLTjWZpUG1B0YvNSG4FbVOIeA0OBE6tI0c9rRYiYc3nxtZNysdHTY7WQ613wiRND74cbTvL3s0PaUmNwrCqDSmF7m07mPFNFbdzLSCRs80/L/MtLisxTTsnrq03UisNGJvm7Qi3og0FLpqtNdOQzQvyRy0ionwMytGrbMiH2Ize8Lyst8BBDKrnxwyvtm/svuqCjOuHCmzHik9M327SLP7mE0zZj1Ns9rASDODw0CzoGQ1M2NDJrPTiRIzjQPysrllsDLdITqydDuwsPFeijJYTxGzyQhqMz1Vp7NFv94zVekMtEg+KzTJ/ki0lnJkNBeIe7Sl6oU0NkuJtOpThjQQdXa0AdBLND2ZB7RUIgwzILrXMxLomrTc3RY1HVCFtWzz8zXIyJq2Zrv+tvuKjDRNnJA30YuuNhHVIrbGVN41AYextR6FpDXNk7q1nz8RNv0GDbfUko+2yo3nNZpiibV2DyU1I62OtKI1/bOo2S017MvjtewZCDfkgpk2x/wqtlBWATfZrco2gYGztiJFZzdEEbc3du44thNgoTWvuA61AUQmNNkhtDNsQ4O05ii/NHCs6bRVVQQ1LDAQtfAJGjXlMyO1j8MsNUihN7WNlUQ1O1pUtYq1ZzX0qX+14emONVeborUFJb41rJ7ptcacArdEXKe2B/v/thWzqTVkI7S0zSo6s0T9hDQJXMe0ovjwNNItBbXgBQw1N1gOtZf4DDXBbAi1uAMBNTrA7bRm9tM0ukO0tHLUjTSHcT60PQGYM5+XiDMuj4G0y1EFNZXJd7W2cP418/YKt4xwkLYBdeQ1c46GtQFOLzUQ8Oi0QnaXNCRDO7Rpz9kzs9aBsyMeZDOJA7izuVM5NEx/urTJtTw186rYtRxfBTfTC502vJkNtiEhwDXIYJK1OlhoNTdtObUPvBA10cLUtJgphzTrN8yzh9O9s7jurjSYDTe1PX24NWInhLaAXRK3TsouNidZZraQo7y3u1PStotptzRjWoc1g0yBtoPxD7cQ0Ao2/kSHtV8SBzW9ITy0Ow2Zsyl/kTSn3eu0aL0cNRFePrWdyls10FF2tY47iDVrBJi1OGqyNcTd87UPcIo2gD4UNwvlR7ZzokU2FVK1tpEY7bYmpsM0zB+ZNT00LbZAdMg2CzOwNi7KBjc1HDc2C5FPNjggmjdf1ra0AyP0tgfTnrbOhPA15jRstRcu1TQRJtKzfLnRswrccjQdw6W09AnBNO780LTkOto0x5/gtMhr5zRzU/G0D0MANcBYC7VKgxo1diEutURgRjVkR2O1P2aCNb94lbWv+6o1uF3Dtaa73zWnUgG2M2IEt5GtS7YRjLw29RuQN+vNILWZdqq08iozNTR5XbUW/2w1Eq5qtcJkWjXe7j21Wg0WNRWxxbT9lQ80AzEdNInWIjdVVHo1ZzPGtUPLFTb8Smq2VGiQN8yiNTa5Dg+3ZqkwNRa/zDWAI4K26sNeN+XKtjdQyR22OWIKNSw6yzSuPXq18ievNcSK0LW0UQ63YyXzteTu8zX+N+q1En/UNQmVrrUkUlg12p6VNMKwjrdh77u21704NlzV5rWjUGY1frHkNMz47LYkV7K2GtIpNmRm4LVHxZ41ar5htQTMGzXNLsm0V3RiNDmGrrMpGqayOtPLM4rbH7Sq8kU031dbtMMQYzRA/1+0zNxUNF8xRLTrSTA0WS8btO+dBjR//Oezrr/IM4XrsLNhKqEzaGyZs/vtmDMlQ56zQminMxnYsbMfp7ozzqS+s25+ujMY6aqz5sqMMwfKOrPc0lMy9TH2Mv+Iq7MZxBc0fmZktAN5nTQHNs20sHAANSgFHLXhSDk1vodYtajJejXCUpG1CDCrNaNf07WglxM2OFWdtqG/mLfkxeg1gyt6tQCZPzVVTEO18NR8NQvJzrXi74c2B0UQNwiBF7ZiU7Q14oeCtVGGTjXWPyy1+yw0NzJr6rT6ELc0al9utLxxazN42Vs0vqsxtfZS5TXeg5q3+PGLtnRupDVkpFczCZHEtf5ijTYv0KS3TmSXtyOd1TYc54K2EAYyNm1G8bU0nJQ1L/kCtYRg9LOPHkg1hGfGtSE2JjarqpG2FUtiNxV6QTcUoiC2cN4hNdHhljSAA2a1+mOsNRIe2rW+kv81yvKYNwD7IzaAUDa2m7xONnNFfLZDTtM2nNmKN1bFy7JlA2O1tlebNWUbrbWqurM1BCa0tf68sDWM0aq1EjGjNUxcmrXZnpA1CBGGtTGkdDUfQh03yMBINUIiLrVxfBA1Z8zctGYtizRhjZCzRwRQtCRFHzXQYra1gb6HNv7PDDdrHO21Ka7gNIm2TjV0/nq2cowNtyi1xDUb8iw1ENiVt0gvk7bqP5g1MF4jNW4LiLaGT/O2HVnCttN/u7Y6qRs2qeaTtck7jjStUgM1zKy0tW7PNzb3UCG3DdYStrT7S7YqsRS33W8TNmEAoLVlE4U1FsTStZ4RATepCKo229srtr2s/DUjVMW1sQ6QNYk+ELVpbRC1b2+QN8AfuDbCFTu2bnIFNn1IzrWR2KI1eSGAtUXZRTXPnRO1uGHQNGS0hbSRuww0JGYOs0etQ7NSbuMzhLcftCzpOzRzV0e0uxVDNLw2MLQuwQ80GkPFswJfJjPpFdcyG4TVs0uoRjT0K5i0dsfVNGn1D7VLMT81/ruAtYx1tzUDKQQ3evMRNxBjgzZJYLS1cLI1NV4+wbRFszc0WilBs0hcP7NfVuwz+vYptF52TzTUO2m009h4NMM1f7QJxHw05Z1xtGydXTR/b0C01KQZNJ+D0bPcNTUzlRPJMmfB1bMyJkg0qoyYtEvy0jTmuQm190QtNYGoVLVekIA1ArSatXzquzVtmOy1vAQlNlW9qLa5JZW3GbShNfoNmrRRGpuzlpiFNP9JtbRnLsk0TsDKtESvvzTjAqy0i/mSNNHWbrRG8zc0G1AGtNTFvTMcjY2z/0GHM43ouLOIaRs0dROJtDD/8jQ82161Z6HsNSQ3CLfrtZa2H5v/Nd3OorXULWg1vekrtWzJ/zRqWbu099KENAP3MrSBxt8zItx7s7le+zIpG4eyn9eaMtozHbMHD5wzH14KtB4YYjRtlrC0Qo4INch3WrVVj8Q1oWSGttC8ELfylBg2cUa1tbpmgjVxC0y1nCsmNRlPIjfyY/s0B4DetCWaxzSbErW049KlNKgUmbSKQI409NmEtKPieDQONWm0w8xZNG+8SbThBDg0oZQjtApNCzQpFtyzDmeVM8kLAbOJDJGyWDOaM9X3ELTcsF00QGeZtPGyxzSbCfm0vD4WNSF0MLXMeEo13otjtcfcejU6yIe112GQNX6/lrVJFpo1RagXN2xQnDUZI5m1ZeOWNXe7pLUhyS02FUniN6j4wzVMAEA2AxkcN01aVrfhIT43G+cvN3Xu57bxy7i2jhY7NvXsBrbyGNo1hOXAtWiMyjXYQ0i2d07ct+CGRLZXYrk1MMS4tQOSDTYTlQu35w+UtseiATaThrK1yEMZt1h/Gze7h2M19C1RtaohNzdxhi21TUUfNeiaEbVsbAQ1n5XvtHfN1zTDEMK0pA2vNH9in7QzcJI0UqAmN0wenDQ72Ku0j8/INP1m97QEhx81XjtXtY1RmjX1vvm1K2aWNnfxBjfW2RA3suwGNa7qizNFRQq14sWCNfyA0rV7gfu22Lkbt047SrY6DYu1sNzytxfrpLeTfDK1JJ9ztZ6UpjV3pbq1ETPCNStFvbW9KKY16DVWtV/27bR3pxE3Sg6gNxuZVDet5Fs2VhIhOCysxzeuc7m2OoKPNtwvg7YgzKo2kOPMN6UUljbBnCu2NtkGNuvR3LVu7rI1Rn2LtZ0kSTWJD/O05CcSNOMbcjTZFDq142fGNWmSibZTBhC3LdA5NtYVAbdiosm2sSihNjqn5bZnrLc3WvmGN50Wnbb1ACg2+tDTtSeElDUF6XG1zjKCNdob3bV5fQI3J0+pNmu0M7Z7bxY22TMXttdKNjaZtKu2P+f/tpuYtjUrygW1EUAtNzqzNzRkcxa15D7FNdbElrcT06S2uWwgNuO37LUTZMY16uCwtUy4pTVbM6i17r/QNeoyc7b9EKe3A6KbNlaM57Y0lhY4JrZTOKWTBLhM+Ca3bUcfN8cjCzf22YY2VbS6ta20TjUfrhi1AVgcNVnJX7UmluA1lTeYtzdQn7YyBRU2TdLTtS8nqjUPb4+1cjZ2NRPFU7WZpjQ164cXtSir9zSMu8K0rkGQNMfaQLSE+80z80CbskIJZrN1/f4z+Wo+tLI/djQWgpO09l+oNDq0ubRUZsc0nj7RtNfX1jT8i9e0rFfSNGiqxbT4DK80J2aKtFJ1IDSgMPsyprMwt/swgzVEQG22JyQYt4lwMzYCvOO1Wd6nNbbigLUUhUQ1gtgOtdIfuDRlRSg3ammGMhl/HDTHz6G0XzfyNEPsH7WxI0Y1ntxttbX8jTXv5RQ3W6n/NSF6kLbZag+3yP8rNlRWH7YPt5s29IEHN7QZ5rVg7UM1sZiqtPIrjjWqKAE4SUexN7beWrdblNE1CRqJtbnqPDVmNgC1JDicNOCd97NkSZazNjyYNKQaErVvHRy3RJ26tYewDTZdx2K3dcLINtq+s7cjxYe3aU+RNlNJzrX2CMu0R8xDNhuRW7drhby2S+4aN8saq7ZSOoI2XKNptnl6dja7GqW2Uc9jN6ufRjcAbku2Lf7MNWLGc7XBMiI1BOwGtc3ZLTX43Lu1M2aVN1CSqzbmSv82k/gBNtNERbcQ+qY143mAtdnKMjWrp8e0BrPbMxXMmjJWyZk1/FMlON6eQjhT5cc3PxsOuL/bLbhKOx43jrJbN2mznDa7jzm27yxZNlk4qLd0JdW0+B4uN2I0OLa8GZC2yJupt1Z3ibfl2lw2PiIjN59WYbZQcBw2eXv0tUdrxTV45hY3ShSGNQQIWrXEVy41ZIMHtUl4yDTplIa0otcNNAi6XLJgn/GzWI2GNBpt3LQ15yI1gcdotWrTqDU5SAa2ocebNiMxBDe4l7y1awG8NNXDOTQprBG1b0BmNcUqnLVDU8k1mRgCtnxnNTZyGrO2wwSSt9N5TTWCj3A04E4ytTK1ezVseJq1+zC3NT7w3rWoSxg2kBSfttXuBbcHs+k18px+tRlbQTVLhji1y+lPNVVvhrUg5dA14jWEttYjF7cWfGs2x2UUt5UAj7Z/Zwg2AzDhtejc6TUCdBa2PY+cNkBcBzewt/K1AJ+CNXuDNbWN9xA162n7tArd4jTI4cu0GXQlt1lIm7QQT040xccCs2QcjbSHSnQ1xAJotu2kGbeTMDo2P4sMN/FlvzV4+J+1bF+NNdbFhrXkKJM1xYHPtUG/gjYNkxU3cF43tgilBDaz3O61hG30NdmmFLZrbJU2Ud4PNyjYOraXGTk2H4SNtsOwXTfBi0U3DVUCNwoZWDRs1NU11dqRtp2uhzdlTbM3wbXBtvUDQTaSSJm1wK0BtiQWMLevl442MHaEtjC10jZdO4g3lSbcNV+yPLc0j2e3jj+iNuFEXra1fkI2V7KLtg8K07d1G4i2YEMxNkFdR7YzU3k3ezGZt1gyIrjX4gy3DYACNpAG7rVHvDA2xUUXt4PQbbY8Cjo3MX3pswQxtLT96zw1/1uXtXqE+TUQu5W28WeZt+KZ1DU2/8O0WvBktXvL9TZ6bK82D8D+Nmyb/jWGPt21BtK7NusZBjhPoLA3lokvNhMOyzUXeaO1n4oZNR3pzTQsiAc3hfCnN0OUhLU5Mh62+778NqVxVrY2laQ1yX1QNWZ+mbcGJVW2axzLtoD/vrYJgzQ26RT0tR2oQzdVDby1EtjeNcfbI7aO7bI2l9vcNv6HwjUCQrW3cMnEt33KfjZXE9O1EJyPtBXJkTeVmqo2sHEatgy32DW549u1Ys1BNm5lFLgk+je30onkNsqqC7f7yJu2PBXfte9lOzZCZ223f2UuN+58tTUK7A64jnASt8Erszar2ri2TTX7Ngo/s7cJdMI2zrRlOJdX5jZZNYI4ZrJKOFE/X7d09IA4R+NuOBMw3rVPKqA1iDsdNykTPjWafja1rbsyNc5/47RPK5G2rIuQt2lkL7cRtNs1SKS0NiY+BTdFokO3wgWEt1VDzretf4C39z2MNqWBS7ey6h63EB99NDgtv7WVTJU2Om0BN98FbrVhPg+1AOnCNX/WGLYhQFU21nqUtk97/zYxGo42055ZNp9W1rYT7pQ3IUVqOGKLGje4qmE2+j21tFXlJ7VTYpY1A828tepH0zVAo9+1xQLlNUwtDjeLMuo1CNfrtbQ58TXBs/+17zcSNnwxSbaz/xo3YgbhtkZKibWZt8c0b1xDNImNG7ZW9Du3NlqRN1wTA7ha6eu3ezoNN6fMjbdVxM63Ut9Ut5McBraBcCQ2SyxDthzCfjZaO+u2/rl3NVUHYDg2ENM3S5a/tm9+oDaejay2zcgENxJ5LjZKEvq3iIJSNsMnCbfP4IG3PQqKNtB2B7iFNnO3ZhH7NlaJfLf/EjO3ygUENp6RBbV5LfWzljAyN320FrWm0yc1GoFBtWgXBDb8Auo3dImdtEXnNDefEnM3bvP8tnp297akWDo2pA6vthDM77a/KEg1NuTQt998hLfp3hA2guH+tqWoXLaPg+O2POsCttHn9zaF+Xo1klwMt0VklbZiwJY285MSN20uRzjwGfw3b0SGtzip9rb699M3C07ENfe7BbbQEAA2jsTbta7brDXMlm21XuYkt3VjrzXawu031pLVtx4Z0LaAMwo2tRmHt8E6hzcCYCA25meHN/9RgTetNbq2Omh6NnTDVLbHGGE3QeiJN16i7Dbkkog2RJk7NwHCWjf9l2a26NRONZxe1TZrzcI2wk5Etiw7CDYYb9G1VJK8NUeMM7ZuZN+31K3ct2JteTZUr4U1ZkFPt9B45rYaua02oR8JN5nPC7hy5/k2u/jfN4xtcDibEqA4R5sGN1xwJzeBvuI3hMQYtpO/TDZvYLe2nnk1uGm977YoD9A2fMnYtkFq4Dbt/vS2SOD9twwEz7fbK383dhI8uAFWmjb/l7S3I56IuIc1aLjRlTC4IIiWtmbNtbdRjaO3W5zBuINZojhyNHo4vn3zN2EYUrhFxqY3ldmAuA4NLjl5dv24oK7GN3WEi7lr+9Y5lHVpO10OeDqDbim7e/xiuvKgDTmz/xQ6NbmeOsIxq7p/JtO6uJWTOvuxJjrJUim67TdmumBboroEz+E6nlkMO36J8bp+0t+6GNyUuRKqlzlpi506YVW/ubWN9LqpscG4N+zVOs1vXDquQTe6K7nauq6skLoS3j06UboXOhKH3bly3oi6pGwYuhv+BDueDyo7lnCIubKAvLr9oDm6TWKzOjnELDuGt9q4D/Ybu8kRD7r9fsg6lyzIOtIxCTprUdq651OPuiFLnjoeIJk6IGHwuEA9ebr14JS6T3S8ORE5qDqyZr24XrVeunvjALox8Nk4goL+ObPhpTkXwFy64hZQugsSY7hVN0Q5Ebo8OSC+77g0JQC6Z4okutk12TletQc641Z3udWgu7gpEHG58P2NuRB3dDq7Rfs59bawuTPGDrlhEsS56QsFOXKAojnGX6m5ZQCzuc6vqrdw1AQ5M1aQN9xLxjbDOWm5yn8VueUHxDrPAj46mMULup1HBblEwmg4rfzZOca5kzm+cJO5H2sKuv/xiDfCnbs5pbzUOAU5mrnS8dW5CQBCuep0EDlgAXm5rG8Jui/QRTouah46dSWVujbB27glSVQ6RwPSOMwNSjqfNqM4uhBBun4mFjoTsVA6abusuUTVpLluryO58ZLwudg9xDqLxdY6WHvmutxHAbt9P506ZSO+OmRt27jwkZa6i3/zumPp0LmLx5k6IlrZORSFELtenwe7qhFFOq+hmDqm9jA6FY6JujtFG7sHN5Q6m8EmO9bGTLnAlHu6ViF0umwx/TgJ89E6gd6NOrWqn7p5nZ26OtAPOjbhojnbCgk6mH6PuhWG07osKTE5VxXmORlOhTpPnF86p0QyuuYxiTjBxrg6zEyqOvFahjois4Y320C8ubPryzqocuQ63eAzuTlkE7lMLSO64B1UuKHaEjrR8kK6Bx8xujO2N7pNNVi6U7ODuer51LkLp2O6OuQVulMbG7qo+Ai5KD4FOsmPOrl+FQ668+c4t+QaOTnWu605UT7jOc7887n2uJa5phE0OWMPIDqMHu05v8MnulMS+7k+mA86FmesOqO4TDglcq26IHswuYsEcDohs501HrcQOc0tY7rJqXe6ZfOpOhc05rb6jFK6dhRVOQFj2rnF0BU4y0ezOqwdCbqE+1S6490jOrroaDfe7IA4Nio8Os1xwblo12e5HNCJOvom+blPDay5PuokOlohw7l+dX66DeRbOVMzGbquG0k5PhqjOrQ93ropRx26bpbDOmmiTzrVmzY6CyqruYHk1LrhWIU6F77WOoJ8fLlTsse3U3WCuXECILqvl+Y6Rz1BOqVTCLuSi365JRjsOXfXjDlLhCe5lkYNuj5IhLlflSA5Z5kcutX96ze5HbA6pqqPuhPlgLq3Jqs641pMObGJDbpm0nm5OIdOuj1UJroKJQ46FnwBuvI9U7r0K4o6ZkfQuFcrTrpMLnQ6f9PtOfae+7k7j2c6wxm/OBYfwLm8p+m3Em0mOjWGDjqpxVc5wh5qOEGUybnNXqs5c3vuN3cjhbruoVm5+9mTOq00Q7oUKXu5Aj/WubE2bboDzDc6DQrGORfms7mSR3E3wbeNuvJLHLhaTMA6sAyJupYbs7qXUHE5bbeaOkVzvDidVSe6Z1zeubVI+Tper5E6PvuZufPlSDpjqp44uoneOST7DDuCaI06a9TauuK8LbkqdS869Up1OixZPzk1Uem6XKCTukbgyTqeC544/wH3uhzJfrqw8E65AX7zuCk1TLrABSe54m7ut7uO4rm2XJq67N4cuWPPZDook6q5ApZFuqeYujnUfdo5uQGXOi0MlTmbTL+6vKiQOTLUszoMhic5vf8vOo5pALoH5YW6cUkYO6dQtjrSC1q6smtYuo4YWbqx8Bg67i70Ojlrhboj4Oe6rA0FOvf1ybljiyG6DHqWOliO2brS3py6Dr22OrsQHLrtg4Y4Im3BuDl4nLqwxCQ5o95SOnCOCbruhik6ld48OnAzibpxMy46ICyjOh/BkLhtNQC5SslDuZKXYjno6po6ZfNluIaHiro1YhI6Ng7JOnnwkLplrWe5iqxUOod957kiCeC3T90aOS+F2jl+gLI5Q1nEuTTIxbprvEs6jiGuOqIJfLos7gi6XDEYOnqTnbiHmxw6ZTNYOO+DbLoSJag4TPE9ObB6PLmYcju520VKOvkMZbk4FhK69ZMfufM5t7i7cXo3XwkBubP1LLqpHJI53CgROt6wcLoa38+49ivvObZmDLp+Ny25p4uPOQNRn7oFcXA560ARuQDptLl40ns6oXCsuovo27pYXUg5txw6OWBCfblqToS6kcHiuo0frbiz5Uo6SgJLuS/MMroelpw6sfCXOtQTQzmeJMW5swaZOrCyLjuBHxi64TzyOhQHUTtBr0O6prqNOgxynzrBhD25ZO6IOiJoirmuvQO6aIQ7OlSCM7qeUme6DPZ9OSL52rjQTX+6LJk7utiivri9qMc5ctC8t9Ket7o9xKa5TAo5OFL1MrmaPf054VIluksbqLru12C4tgUsOlwbvjn+f9W6eMUTuVLuwDoC+oW6PzUUtwDcDDnmI3K6ApmtOj7KgDoeGYi6+XMqOsDCJjqFucK67/QaNnx/czrg6iM6WhmIuUIaA7sTeYu6/nyTOl5w2zqdXo+6tu8Ru7A+IDh2sfQ5CemzOklBaTlrroS7KXy3OW01KzsUEqy6X/CnuZXEWLmYM+C6z6WNOuynDjsnxJq6lht7up6bOjoVDyw6j1SJOsP/eDq+5JO6htwvOvweEjsRCKg5LBTjuQaCUjp4e/k66+FiOXN+RLlaA7854DeHOGNmdbmbxFW6KeL/uS9cbDpRhAc5rv2qugDZybmw3zM5ZhyLuI+qKrhhNsW6rZKTujztAjqxHvg5c6oiOQ600LlP5we7PsdfupJ3ATsgbY652zWwutTnvznDeFo60S/7uDQHibqJVcm5/pmOOkEQkjrCFsU5YtdoOeX7DLo7yxA6pMgfOrUvYLo9eus5eoY8Oq5Yprom/Wc5pi2nOlnzF7pwCV85zGCLOJB2yroJRZq43hbsOvO6KrqU+7G65TRzOXGVFzjTXn46IaYBOo5EzrpsJzi6kPraOYZgJLmusyY61ZwTOgjPuLoEyAa61jU9Oh2TaDldnDE6YE+aunSmRLojlds6ModSOhCr57mh43+5WIaDuR/UFbl/fOk6v4DwOXkvlLo/1qC4xMiIuekt3jmFV0k6AOSLuTsxqbklq444hTN8OYeCtDkyd5S5VRtHujfkErlq9wk6zT6luCWI4bknfou5n8bRuUGPtzpogZU5YKrJuv0PELkzTxU6VpjduM8CcjmBz3Y4/5yruquQIzrzMEo6dXFZudyBmTnc7Rc5Gl53unQ8j7gNFUI6cxOouXbm4jdTq7g4Ej6YuXUVHbnceyi5Y4euuVK0bjl6IxG5qwvKOOc/oDc27L45e1Cot6lXKbrACnK5i1BMua4rEzr9PBU5IFZSOfRVUzrLHl66A7fRulgcYDohtDI6zVxZupnnCDmEWgc5WV3GueyDRDo59dS52DRYutrqrDrGaj25P7cTuvs7xTrjQDk6lLqZuNd2ADrNxr65BOZOufzyvDqE5hm5qVqpuRUmrDl8jdS6PS2xt7fZrTr8uVC60cituZSOKTqMCxW6zOdpuVu3uzlRlAa6U/pGuZy1DjqdewO6XSQiuclqfzmjhTa5caRguY+9tbkSR4K3IEQquUvuLzoqZJY5/avkuZp1zDnIYv844pUOuc8c5LdZxvk5rlFCOpTd87hydaG4XAD1uRsXTbpmk4s6QNkxOo2vdbrmzEa6McSIuX6PDrh+CJQ6sOahOcp3sLrKOR66+WuJOSGknjpIwAc6WnoUugKPNrqYWEk4QekVOVsaZTl4hXq5EwxvuhxEwLmsZ5g4qar8OE+TLTnehCy5MdaJuvAV6zlLYo86Li+ruQXDgbksPTU5BIjVuZWjFTqODKQ5wugjuRCJxjk4A405DcekuBM3FLgEU4Y5JrFxOfNjIToGGP+3QTu1ufiuyLlRq7M4TLOQOUIuYTniedm466B+uVehgLlxMpq5wv0dOhduATrqJXw4pJK3uW8GorpaeSm5GlPHOnANVTqargo5jBmMuj6+tbr5JR860uxIOoK+grhlkiE3qFR9OaxkvrlybL+5DzmjN42HSLhG1cY5YNtGuZBBh7n851K4F2YEunL0TrlG3bc5jU83Od/tPbozDhC6ZKegOSumwjmeI4W5YEEhupPOBrrNgBk6uWCSOn8oQzkulxi541VYOeJqkrlMjz457Tm2OsVWKDlYWXu52HQROMQpqrjnuWU3ajXWOCCQMbnyvYi5Dy+9ObcXpbk3ipO6z0hXOHdsjjmrBVW60YOAuKul5rlftV26lR9HOMFlxTfW5xm6ay5XutE8rLnjQuM41KICOmbYgTk+X026Nes2uaJUvTqoZnA6ZzuIOqQvIjqDaFi6YIjLOS61BTskMeo6McQEOn44JLnVSZi5R5cyOpNRszoLYIs4sEUwupluljmGdme5UC8PukzVnDmhchS6TGhluqMboThgfLy58ZmCuqKFJ7qHozG6RMjHuXqHpjnh+6y5Du+mur+Fe7qgIt02ty8+OmhxP7k19DS6UArnuTd6SDlqIVQ6QKrJOHkcIboqcqg5sDF8OkT6LzmryRs6GMKYOYTpJbrXibM4c4cpOhjLObmsKz05lHwsOe1firoxVZG5AS0ROlHnGLr6m224I4FqOaKf5LprOAC6TOtuOrBT6Ddax8q5vyy7ufkcoLqfDBe5gnavOspqMrnYQxS6dokjuCGySrp57Q84rwnpOqY9LDrcAqO5/5CIOEVisTneeGE6AOe/OhdSxDfvphC6pTh6OrgDWjqIZJk4XbPvOaJiDTpqfCm5G2XXOSjikTks64m5hwAtuI7A8ziU1Qe34/QrOTUseDioZvq5B5VJuTxn8jkRN1Y5yhMEuXZH3bl2Szm6zR/qOBkMHjq1Yq85o0nvudO/PLngEs+4ZUlhuQyGIzosJ6054mocuoSvQbpsNys5H7DJOXkohDcIreK41N2KuqtYC7pPEM05lmOfubOZCrn9vLW58yCOujPSQrpm89K5HB3BuY/OM7o8Yz+6b5GJumQaYbr1Ivi43f+OuoKkpbp3RDi6XK7nuf5IKznZD2a5lf9Murh9Hrqt2mW5xretOWGLyzkKSIE5H6KROTvegjlC0PO4k3FGOfNowjqKaO86JzCFOvpdTjk1wBE5bmrCOseoKDvkkxg73tO9OvePXDoL1UE6wtTPOpnoEDv3h8s6oWO0OrygMToRpzA6ABydOg7bUTok/hs6UbMgOlJOujiMiDE5M1WfOSOfgrk+2Ti6QB9fuZnTNjkhXZe5P3MWuk06prpzb6S61EIpuXEfQDc/fIS6aL2NupWzybq81cO6anUUuq6MnLq3O9q6S38Ju12MFbvD+M66aYrvurf9H7sIJzu7vQI1u4hjErvXWzW7BI9UuxZ9NLtWhz27gs8Ju1FPBrsvHji7JuELuyQqSbpKXh26BHNjumH/pTmUNxU6yfuKOtSQJTss+zY7rUwnO7uoWDtOF3U7RLKOO+l7rju4a607LwGJO0CnlzvOXqo7ctGdO53ZpTvyOJc7UPFcO621Vjsmr3Q7UWJQO5h6IzsXoPo6YF+2OkKJrDrDC8M6Iz2wOc2E07l4gMO4zkOzuRFFV7qIObC67ksau6jlALtQHeC6Noo/u7WDY7vtB2S7AJVou99yg7vI7JW7vq+9u9k1vLupJpS7ZXqou1X2z7sKo+i7Y+npuyj1xbtNQq27S1fQuwGI17sji5q7Y3CEu9fISLv9MQa7H0rNunh0FLrFHcs5jnb1Ohf2gDsI16g7UA+nOy9xtTspONc7C//yO0ATBTynmwk8naH5O52u6jsDX+c7osXnOyco3DvWfsE7TbWZOx8HfTtjo2c7pPtEO0XCLTsK9w07xCigOl+TDjq5SEA69sSGOkkdLDpVmvS4w8/huQ35urk04j+46zIFuoNFbbp8rJm6RzrDuko/yLo7CgC7iUhGu6QJhLvICI67UzCIu44gobs7Gty7qHMCvPTBA7zFcPS70PIDvBqsIrw5xSi8HkEGvBd1zrucbNS7OG7tux+83bui16C7oAf+uk+RxzmwcIU6lA7AOnemLDt9loo7nWPcOzhCDzzVQwQ8K5bnO8Rg/jtSAhU8l2gjPAJBFDzzq+074BHXO3Fr0DvPpr87e0W4O0AOnjtyaWA7HPMoOxU+DjvsYPw6RUbqOpigijprgA46lggTOpuEajl6Dqc4qojXtlFSBzgE1d62mRh4N0DlrrlOMci5kZs5umN1u7ruGuS6AToGuwdnKLvBoWu7xAGTu+owyLutO9e7/3Ddu9oM/7vhChy8/wc2vEaAJ7xbU/+7PzPou6ORELyapxa8tSrtuywQobtMt1u76+eaupuXXLnOwg06/z4nO5k/pjtXJsQ7kW7BOzLw1zs0wfo7oB0OPIcGEDz3aAs8ikHpO2Sp3jsefO07Z/XsO6ac6Dsh+rI7PUxBO0GvUTu0ao473fuBO6+dMjvGnro6wFMDOhILLjo/huw6ALjgOusoSDpUAEO5A/kDufZ06jn9ioU61KADOvTX1LftIUS5F/ttuidll7qW3ui6wm48u2iFarscMoq7ygzHu1yh7rut8gS8gqcYvKWHLLyvmDy8OY85vKo5F7xnIQa8zA8WvNCjF7wbm/q72LO3u9hebbvhzsO6hN0UOmJMQDvCaXQ7yQuKO066wju1V/c7AGUHPLkQETyPvAk8ID8DPFdXATy/DAY8HDAKPPq1/ztzwrk7eSuOO9qjlTtis4o7zyR1O41cazubszU7z5ugOhCpiTo3pq867YDtOupG1joL9oA6p60tOqS4nzorlKw6cHqoOqj33TpVGIg6ll+3OJHKZTpeuKo6nfA5OOkt2bomIDq7j1pTuz4wgrsB1qq7Jx/zuyldF7yhmCe8RyQ6vLCwSbxNJE28mhY6vELzH7xY4xq8CBslvN+PH7zjTfy7nHOgu4iB8bqaeJc69bkyO17gKTufg2Q7+QzHO84qCjxSoxY8JqETPABvFDww6Rc8w98IPGbk8zvsNgM8WGwLPCZM7jv5+K478XWNO+nZbTsym2M7+M9dO5luSTv6VB074JjQOsFHhDoU3pA6mRP3OuOz+Tq/6Oo6X+PlOkeUvjo3RNw6/1YpOzJhSDvKggE7HXN6OgcqpDouG4s6t30ruAkdxbrg9kW79lCPuwY0vru9rvu7hv8WvB5rI7xZIEq8f6Z2vLLIcrzFWEO8aAQhvMA5ILxqZzq8hMNNvFshKLwS+KO7PzIFus/ctjo0ZNo6dfbHOrnuSztzrcY7bZQOPC/RJTx4LyI8ClkTPDyODTyNsgs8/kgLPFaFEDx9yhA891X1OzzbsDtewog7FHFtO9+6YDuE9Ww7IHpaO+zTGjsC+5M6l9ydOb4STTo+2ww7KyQnOzQF4jpHUKc6WAa9OuXXBTsWjUg7mC5POzkLFzvTetU6+XuzOpC7Qzo6Lpg3BSOiuqChXLsMsaa7uv3GuwnY7rvxIxq8JNNDvHopZ7xl8WS821g5vGjhGLyquSK8QX9AvM/vTLxduyK8Awuju9pQmLoC6Go5g5WNOm6n1DobtSo74R2vO4bXATzybBI88J8KPCqs7zsJyOs7FWIFPHRR8ztYjrY7HOqvOxjNzDtDqqo7l1A6O+U7sDp/4Wg6AjoAOx2GUDsSYR47VKp6OhdoqTmZfhY6xhIRO7nOfTsR/mM7caErO+1UOjuOdl47QBuMO7zanztNdYE7ayQ/O4O/STsXmj07DJSdOgcNM7oaISC7t/t4u1fclLtsVdC7HtsVvMk9QLya9GS8ncRpvHSCLbwRMve7zWoYvAk4VLzCjVy8huEgvPw6jbszsCy6zWYcOowwjDquuJk6OcD6Ovwysjs7EBA8xYMMPKTA8DurQec7gtDpO9rHyTuN77A7DU2iO1Ocizs8OFw78kNKO8ZkFTsKmNm4N3X2uvuZiLmMgw47fhIMO6kzBjmV+CS6FwrMObQf8DpiQF87EUKcOyYMkTuMc0Q7AzNXOzrErDvOgNo78G6bO/B1Xjsbx3Y7RoWBO2k14DoJkD66dXAhuxNvdLs2lKK7Xt7au61zHLwyGl68VKdzvDq2N7xlh6y7tLPDu/NBSbyt74K87Ww+vGF5ibvXDgw6m6MBO6Jq0jrkIUE5svzlOTq4nTuuVh08ghIvPOuABzwCvNQ7mDXLO/jg1jtDMsk7h260O5n+lDsvB0A7BJuBOs/0ODmeI8O5JyCiui+horqjoSy6LTBPus0i9rooHxW7CDOTup+64TmBa9E6v7IlO0oyJDshIBU7J9o5O3hqkDuMSrU7XqKSO/grRDtzEmg7QBRhOzorAzsPQrw5BjbHuobncbssjKq7r8HXu2WqHLzDq0q83tE/vPIr0Lss6ii7dzrsuyQScby+hmG8Ed3Hu3JiOze6wz0797xkOyln6ToH8qs2m4kDO9/KBzx1QUs8HIolPDz+4Dvw7M47wQPgO8EdwTuiibM7NhGkO06BSzuPQmQ6F+UYurtHIbriiMC6sqszu6r4CLuLhWK6xIogu0ohjLvEEEC7QADJuerb1Dk15Hs6vjawOoMFyToKAgQ7+LVfO52DpTtCVZg7XiEiOzXF3jr0+0E740wdO0wquTnwvrC6fMc0u5MKqbvH3O67hnsRvFE3O7yvEkq8XYbmu9H0fLqGMJK7rbdivD97dbxZcNC7D8ONOmtTZzsfGJQ7XcaLO/v76zrXEdc6XnvwOy3+WTz2FUc8kXUEPPYC8jsXyv47U7nLO97Vojtd/6E7t8ZmO8mTaTpPZcK5zICsueka2rqHHYy7dXWLu5r1+7rmfAm7n6yKuzvafbthl+y693JquicosLmrFqQ6R3sKO+Mj3joIZQM7aVd1O8TOgzuarRk7ZB8AO1hvOjvTTdg6MwGRuvAfFrt5CGC7UJy/uxlQCrxpnia8aeo+vMtyFbwPsB67vBGJulqSGbxk73e8iRMZvAk00Llr3kE7VwV+O+BUrTtOR5Y7qmJCO8Q5tTsJnTs8N4RVPIBrITxRgAM8V9gQPEP89zvz8KQ7fiqOO0jcmztybho73iemunrNGrsqHcG6wUwiu4vzirtt8nS7AT9uu7ldqbt46LS7aNI7u5W6N7rmgRe6nyKguktOuLl7kTw6P/IBO8oYdTuMrZU79LwKO0cJ4rmSblo6O+BBO6AdEjt245O6h9CIu4WO1bukC/27mD0WvG2MMrzf1Cy8496nuxcgBbpd2pe7KrFQvOtwRbxpKlq71hZGO26+qDsJjNA7eCLBO1sIbjvjhKY7ggk0PAM4ejzsGlg8beQbPH3vDzyFURE8mgffOxJknjuv0I47ICNhO5OmijpIYdO6oVVuu4TnkLt4mZC7u+hnuybeSruplLC7GMH5uyzJx7v0HRa7HDBguUwVDbmv3Zq6cdrKuqt8DrpZ0go7iGuNO6gPYzswJYe5gMD0uqvBmDlIpr06O0p/tkiLU7uibNi7Y5gRvKUoH7zV7je8sYJEvFJH+rs/GIq6oQwKu65WKLwuy168NenTu4Y5EjufTdQ7hHUGPGkIBzx1Ksc7FdahO0W6HTyFE348HGOHPN11XTypbT48DX4uPN+6Cjwpf8M7GCy7O4aTxzsZ22c7PN5EupqoaLvtG5K7v3msu+t5krt+fka7tiSGuxOw5bt/FwW8iZTBu3FWGbtp4Qu5sg6rOV/Bk7nCupi6SCZLukYZ5DrvPWI7Q9auOs9ZhbqKjZq63ZKKuizaHbv+vJO7DxK7u38M+7vqaTq8ixF9vCPFgrz3sCO8e7jvupXaIrovnhW8SnqAvHR3Mbzv2xi6UxDQO0S7HDyQtyI8ti/tO21xtTtkoBU8cxZ5PFCpjTxFB308GSBmPBJyXjyNojI8eLDhO4frrzvKY9c7x8bTOzrkQjvrRYe6zuNtu3/Tp7vgXam71wJju39dJbsTWI279YXYuwBJ07vrjoG7JomRuj6MwDlhSTA6m2DcOR5ntzmLkoQ6MN3EOicb0zmOk7S6ZTBsukAHTDmqc+i6tannu2sbLLxAdCy8O/EzvCJAarw0fIS8bsUxvIz+dbsPQLC7+UBOvE3hV7yYluq7IPi8uuXDZTvIFxI8OZMePFRM0zsWCtY7iWpJPKy/hTygr3Y8cWdmPBAoeTzNR2s8jnYxPHrFCDweXNU7U+iiO4lIlDuE8YQ7QM1WOiWJVbuofqG7oTxzu46vOLvpSHe79QqSuxi1iLvuq5G7DPqGu0YeybpQQZ85guu0OQSDQDrLDCQ7qiYrO76v9jnM0a26IZ9AuqNk0zibhiK6q9BKu1nm0rvzGSi8WQ9OvIABW7yuUIC8R/N3vG3l/rtQgiK7RI0UvG4EiLzfw1y8o+ulu/EH2zmUbao769AUPMVAAzwiEJc74rbjO6dSZTxvK4o8Ytx4PHpdcjx3MIA8OhtePDtqITwFA/Y7jX3pO0ymyzsoNq87y9NyO46tbbkLz5S7VKySuw90+rq/6eW6Xs9nu6DElrsX8Im7Nmppu221F7tYvJS6D4D1uRX0ELow5oA6fjIoO7oS5joPrb66Lw0lu1wyjro3ZqO5+hyiunZag7vB2wW8cr9PvHrUZbxwt3W8zVpovHEtD7zToGq7o5gDvHK7frwvpnO8gfwCvJ54G7s8TBM75W/pO108/zu4Upk7r4CcO9STKzySA2k8MKBuPGJueTxdOIY8uIJsPJnhLTy3ogM8rmwAPGw6BDwDKv473ji5O3fxwzqxfCO7zmU1u1lwA7q93i268lxDu0dAjLtzw367Mcw3u78JPrqSC2w5cCmGumn7Frt8UFe5VQYwO66DPDsaRo65pYovu2WKGLs6Uwa71xnlumNGA7sEWLa7Ruk/vPD8aryhwoG8JamBvPfMILyrPje7MlTJu3d9c7zCI4O8b9cmvAN1l7sa1Na4C/LAO4Uq9js3EoM7RxUpO8wH9Tt+uEE8VF5VPHO0Yjxp6XQ8cRVcPLFMKzxuYQ088Ub4O1Oh1TvOW+E7e3/oO5EcjDu6L+854IYQu1zHW7rw2JO5G4SXuqBQzrpG1Re787A8u1yi/7pC8Z46+AsBO77JKLnI8da5M/e/OumrRTvdcd86o6VzOWZ2KLpLRQy7J3kguwOb97ovija7pb0AvLqVSrx3s3W8dzKKvHnUW7wBb6K7zAVNu3KNNLztwoW8Q0havFmeA7xSK2W7XTcqO0nM5zs0Cb87sekTOxjpYDtDWe07Lu0hPLjQSjyQt3Q8OcFnPEdFKzzNZ/U77JLNOxcJvTsNss87tawBPPWhyztFiK06hpm9ug9T2bmsDf84gC8muszxqbqCCMi6KqUOu/Cq0bpW3JE5xqyIOtkMBrm/t1y5XS0LO+SLZTt8Kyw7+FMxOgADY7mE1IW6gOCGuq2D+rkElbK6ZPalu4QgErxIXTu8bE9qvFp+crxKuxq8/4iCu4/zyLuacTi8y/pNvKwPLbwKqwG8pd8ou6vtgzuxS+A7cTWnO+o1ZjuAI3c7azieO15iATzXCU08SplqPKT4RDxvQQ88PuHOOxUWoDvAT4E7zdqiO4bIyzuHqbI7xpYdO1g9nznXxaK6abAnu0K3s7o+cqw5RiJQOBRDm7pG8kG6XCt3OeWmijk7/bA46P5POkIQrDrIGfU6XDMVO4zvsToBoUG6W/AAu3p3qbrno8a6C5aEu0ik07uW4/u740k6vLdMcLwp2DO8dAiku3NDtLv9Phu884QZvP+O/LsZXQK8jKK8u/AKITky2Ys78rqdO1GWuzvH2tU7GDWbO1MwgDssSew7QhM3PKquQzyMVzE8tskSPEFy1jts6JA7BVR0O2S1hDubfIY74nJuO1JGdzs2Gjc76+BOulOKWLviyC27efi6ut5XLbpF99Q5EboAOlvBEroHq7+6FAw8ur3AEzhVF/M4ysw7OgLM2Drgy2o6Ao2+ukRkLbtJ1Su7Mf9PuxWpn7sA5sO7Nsn/u1/pN7zzgjy8GWTnu+x8nbtPsfS7Hg0QvNV75LulvrS7mfeauxS7/bqWV6g6gDEdO6SCWDtN67M7yDzQO+OLpTtN66Q7BpDeOxWZBzwHUg88iBYVPJvGCDyVWr07oAhyO3Q/gzsn0Zk726OIO4y+iDuHcZg7wss7O65gDTl4pQ66RrYtuoG4j7pX6rK5IV2SOtHXMDrCMwa6xwgSuq/Qm7kSh6e6p3v7uix/S7ro3GA5uUzWuVAApLpcN/26nqZ+uzBXyLvljuC77vvhu3uLBby3yQq8eX3Su2E2rbsJ/vm72bgVvCKS87vf76u74j6Fu9eSI7uQQrq5Yl0qOuROwTpKFUQ7UyCGO7W0fzsdvXw7NuaiOxxW0jugdes7jzfmOy8Azzu7urg784GkOwPRoDs2u587bqeWOxAVnDsXO6k7ilGVO2/bUTv/wgY7SbuHOopRozn70ao5UiWFOvSXgjr5FtM2zJssumLhEbqTVoS61h/zuutn8LpshqK69uWSurvlrLr9L4+6B8r2utIkaLtDLpS7rVeJu2/Fl7uTFb67Koafu+oZMbttrkG7x1Gpu5ansbveXYu762R1u8N4R7tHkIW670K8OJGlqrnX10K5YueCOrzavzoDWYM6MWkwOuGweDq4wts6dFItO7IkWztAYTs7HQzTOsSVZjp7TYU67iCuOqb4/zozczk7tgw3O6B62Dp8RV06dy3JOZJlH7lojbG5S5OZt3m3wjl5raE5eVSWOWgBHzrkzEc6utLsOQxOr7fxFgE6E0XFOtgxFDvT2U07tbJcOxGEAzvXTPk5kTcbOioe0joi6Qw7bkILO2V15jqRGGo6sN2FudG/IroK2DC5n3mMNxc1Obly2eq5FUJKuvjuxboewxe7gicou3YVFrs+RP26QMoDuyQkKruV4UG7Cjs+u9rYLruskyC79DUbu3DyGLtsFBi7b3QFu3brx7oxxIm6FSF/ujHUpbrCtLy6n7GeuggGoLrgsri6Z+/CuuA9q7pWVZK6nLV0us+C97k3yX24T97+OGoiITibSym4/HiZOUq6qTqK5iw7jp1mOy/1WDs/mhk7OgjHOl8UAjsuX2I7XLqaO/+qnjsqZIo7ruZiO59sPTt+ETs7fT9dO10ihzuzRIs7bTB4O+OMQjvHygY7KReIOivMsjn8V+I5RvjYOW7paLnbbIi6jODXukT78ro2qfu6wT8Gu4IoHrvzRTS7Ehszu3N1GLt0YAe7Tyceu6T6PLuTpUe71uBGu8I9R7tNmzy7eZk0uz3tMbuEFTy7SN1VuxyzbLudG2i7T508uyaKC7st2QG7mt0nuyMMRrt5yyG7PYKeujoV8blUxym6PJ6ruoV+0brFuI66jk49Ofyb8TqnLTg7g2IqO8Pe+DqQyf46fXM4O5LigztUO647WcrDO3S2vztGMbA7wweeO5RJjTsQKoc7pF6IO067hjsW0IE7DltuOymhWTuCGUE7WsUVO6uVzzpN+4c6hB5XOn0sdzok3po6oLF3OpHkfrj+c626qboIuys3ErtYUBm7pjYruxcaL7si9jy7Ey5qu1X6j7s7Bp+71oqiu9TElbvHYmy7yJxPu/HBfLtdEJy7gIGRu7wLXru2KzO7+jVCuymtWLssOWi7hF5uu62jNru4u7G67ykguq9Fhbp3Pai6ga+EupRzDro64ew47UqlOikZGTtVhi87KaQnO5EvFTsxaho7Oqw4O5f2WTsALWo7e/p3O5LfiDukppo7PMWjO+kQmTtmFYM7J/d3O5YajTuZQ6o7z8a7O0DDpjuUS4Y7mgVWO0KFLzueUw87rt3JOpbShDpKH0U6l92pOeYMGLpMLwa73pdiuy+igrvOemy75ExGu1vRS7teVX27yxmZu30un7sdmJG75lV0uxaTX7txu3G7L/WEu3dvfbtv+ki7dfUau2TPCbvYWP66Jaz+upgQB7sM7PK6rUvHuqAiurrlS4W6r7+nuTaTibmWJG66rhy6uvTIlLpVaDe6ZfCTuUD4BDqkd706fg71Ouci/ToY1AE73wb9Ooi/CjtZ4lg7UyKrO2N/wTtQ66g71AmSO5eWkDt534s77fKBO/p1iTtc+Io7i4djOzCfLDuBiQ47cpubOp9UGLm0YwW6o3oIufA7JzjchdW55C1tul7Ot7rTOgi7bX4cu5E6+Loa3re6Ponnuu+KFbvNixa7izcPu7t2Hbu+Bx27u+QDu4gd57qBrem6700Cu3wDI7sW5Tm7aUUguw2627qzWbm60zLgugRIErufKjC7DnY1uyQDD7s0F3a6qAP6uAs/hLihldu44gF3uZHCGLpvVge6dlVPOlGNKTuGmUY7Y5YbO8kyBDuN1AM7VVr9OtCICDtzgjY7D8hIO0nKJTtdYwI7Q0vPOvmvdDodrhA6KzweOvJVPDq9l2g6R16JOgg9WDrBbD45nhZZuCmzszh8RAI61SpxOuRblTondo46KiloOjd0ajqWcj46N1yNOTcBaLgnjcE5maeTOhbETjqEUci503GdulBT0rrZigC7T7PXujNqX7qMlae6WJ85u7HdZrtYSje7CpQDuzep3rqvy6K6wBRyuuRhwLo28Qm7jk/Ouq2nyrmQPbY5RfpUOuCiXTq5ync5EfPuueW3zLkpDcQ5HwRdOpisHDqyEps5G5ySueHYnrp1C6W67S0YutrbArpQMXm6vfkdujMW3Dho4aO4gf8hup6xo7kez7w5/j4+OoCIrjp5uQs76B0OOyC63zpgYgY7AbY2OzPWJTtUHQI7jyIqO/1kVzt750A7QoMYO4t1CTs1YrM6xYq9OUHRDjobhbY6l9F5Oj72Brobkpi6lbqDulpJmrryYKy6mD5WuuGIWroxCO66ru8gu06jCrtEqN66Mq+0uspPObosfpW54paWukOdCrtPlPK6l5OAusXzB7qP3nO5Q2d6udOAvbop0iq744cTu1k5j7oQclS6xYmCuu64RLqiDmS60rnKutDg5Lqz7Xi6upVhud4Zizilhgs6iEpIOiyg8DkhRs45vLR+OrALuzpIwaw6nVDlOhEpHztGEBo7PaQHOyNpGDvefho7Be3VOoGjtTrI6vU6QwYDO1/tqDrG+IM62aqTOmaXazq/yew5jfHZOf33JjpKmf056lHpOQTb0TnQAoK4ADMxuvDg1Ln4COU5qwEMOsg+n7f4ZDK6vBSPuvCzmrpmoF26DWvbuQXrf7qzKwq7txAdu7u9AbtNkvy68FMCuw9RurqDjZa6AubQurX197r3H+K6RTfVuup7tboZ2re5ccyLORJ5E7nSAwi6YA0PufkUKjkDgfW3YC9aOasTgTorK4g6ZElMOsSflDpSnJY6C+fxOU1iaDjtdUw6P0KWOp1MAzoARzI51pDhOUpU6jkF8ks5GjC+OVPEqzkotgm5SPU/OMZGhTqGmrg6z7UvOpnroDnOrCQ64ptuOmsZiDoybcE6RCLcOpychDqUwy46smiGOi7VgDo8I4g5jTs5t88QrjlrDFI56tS4ubx3n7kW9ZC4lnXtuQcHg7qsQoW6hHmXulln2LrCnsO6dfhPutj/RrrvzKy637SluoXPaLrq4IK6WPKRutdVGrrhmT65QbCHuQIc7jh7BSc6Fa50OZjRA7rr4Xi5wCHoOZdYtDmZrk258kiTud/Q8LjF28i5lxTAubZ8jLlawlO6PCCguokvN7o/gwc5x3kiOTmAhLl46si5eSFvuR4a47jgYpo5tBxlOnp+bjoU0RM6MwVDOpPPgjqdLzI6MosDOnohVTp+nZQ6DUqbOppSrTrpfb86RdqLOnrBCDp+iDQ6wwaFOgRBgjpXI2E6Tng7Opp5pDmvDOm3pX+COUv1Ajq0AoA5VBABuRpeALnUdZK5qXolurdla7kG9c05vwsgOazVR7piYoa6HKFDujNDW7p7EWW6UCInugVFS7oflKu6GhibumibYrrajKq6O7n3utHlwrokmju6sTYtuqbiRLqX1xu63GMzuqQVirovgEG6wcs5t+2AArmuUPW5LX4SucstKjl473a56RYbuhxVjLmasBM3PERDuEkZljmoeIg6cU9oOnX+oTgFJe44xEIjOmowVjqcPJk6xQvdOs5stzoy5Rc6oWodOuazuTqsjN06CkzKOokR5TrQ3+E6gP+EOlYmQDqfFLc6FR7qOpVGpjri0nE6sdqIOhoJ/jlAxE65T0BWuMT9zzmFYSg5GUX/ufLxNrr0F3G6/dXHuoNKy7qFO2K68F1dutX/sLr6RL26QeKWuqYWr7oyadW66F6VuicLULrhwpG6IliauoYzQ7qQX166Cse5uknoprrnkUm6wnlounHzb7o17dq5u+bouKBi+7ncXGi6fRRCuvB6C7qa0ru5/bcZOfOrGjp0jdQ4Hp3/uWcto7lB67Y5EfVyOtUZuTohmNQ6D7iVOpi2Pjqj44U6i63vOjoSBDsa+e46Y1j6Op/e4Dq8i546AWVfOtcWpTquhd86zazGOn0FjTqxqB86AxGrN/5WLLmQ6T45iUQYOjE8AjpUAVI5/dvpOUZ8j7kuvUO6qjzJueojx7lmQdy5HogyuhmASrpuEEa6zCWEukMXnLriGqG65VqyugNLxbogOau6ci+HusgAj7pxraa615OxulNnwro0VL+682SIupAeH7q0GvO5wfFQug8Ac7rB6Hu6RjcnusW2YrgCrfM5c9MlOo72gDkTa9U39dwgOcvj5znWRCM6Hlp8OpErkDp3JGI6L03GORKBhDldCAM6mMZxOjtsqDrWy4Q6IjHtOa03JTl3ASM6thiXOsxwnDo2naQ6IW6TOr8xSzq6Ohc6Pp5GOhTloDpFy5M6HwBKOtN3WDpQ7hI6aw+HNyfVljipPlY53HAIOdrMgLlBTAS6PDDcuT/mD7r7qQ66VPAiugnNerqsSa26qhatupGYg7p6pFa6KExhum3/eLo/kZO6qk2iuht3kLqlvTq6rCUYuqEJ67nLBZG5pDqbucDPw7mQ7iy660f1uYcmsLkkKZg4H5S6t2mCnbnELx26JG8vujnJALkvQX85xL2FOZx9crkgGZK507ZyuPd/WDni8SA6x+hBOihXRzqQwBM6sOCuOUdUbTpOAIU6fPiROl98lDp9rsA6z71wOpA2QzoIMmc6Rb2DOmJ9nDrwZY46X6kIOihKBTgNqEM6eGo1OTs9Jzo/VIM5TweKufpkB7kuN7+5uNAbuam0cTlx51a5C2PhuYs1KbkMkRC6muL3uBf+4bnzJGW5X55GOIX7u7lINtm5nmN0umM/P7rz5WK6kLtEurYuCbrqto26fy2duqhTrroagIi6JYMvuo1xc7oBKWO6sFgPursn9LmHpO+5lh2muTSEr7jFYIS5UAkTOZbLxzkgNzU5YpyZOJkwpDnU7B06J/JLOuM3cTlg2eo5cfczOeWyvDmg7k86rTRLOiJOIjoLkdi4u6zLOThf7jkZEz06T8qZORgyCTpddeA5MkWSOblgPjpKR1U6R6YfOu1ePTqjkFE6KexLOml5azr/laM5Je1COs4LKjrtKFE6M/ZEOVQTlDkjZqi5sKJFuuuQqzj2imC63WOxOGM5hbo1eiK6FnVXuidOprq1vWy6IRChui5eIrqap2C6Q6TFueuMgromLiG63gRvuiAWMbqxhQK5GE8Puq3nk7lY7/u5F0Hptnvb8bh2WH24Q7PMt0X5lLivvOK49XiKOYIjSjlT1yu5+kH7OVi5k7lH5iY6Yl0HuYeIXzlDy6g3YpNIOeKhxDn85gE67CFDOpC9xDmakno64ojPOcKEkzrOTjM6qregOvOt6TltS2s6ezxQOgpMcTov48E5cTUiOsL6ljmeVoa5aPwPOkom/LmtVzQ6GPm/uWwbpbmrFYa5h6aTusD2s7dvJmm6ztZeuV0YTLmR1Xq6jFHAufqrn7pSJL259tpTupcpCLrvioe5eRcUuhTtkblgLCa6O5dRuXhk9rnmywu66L7yOCAH3rmF9465Zgu0t1JLIrrrXTA6i2CQuQ2RhLg0Nik5ySpous64djqJjLS5H9EfOlf5XjpntiG5gi6uOrUdl7lwhGA6nDFuOg4hsri3f7s62bByuZc1eDpxAdA5qMBquY0KVTr1fUu6y5ZWOlOL/rn14hM6T0wZNqB1zTdaHA25pIhQN1rVDrkg7jm5XMELOhLQOborjgw6FDkHupGDTTkeX+K5xCD2Oa+OKboarB250xB5uTtneLh+svu5ynbpOVH/Q7nHXQy6ANpMOsFmibrbbrk56V3QuWk+DbrViXI5YKo9uPtMFbp1zce3jFM2uqK0ArrcBKe5DwN3ODEUJjeo8Dw5lBbtOOi1yjgVYAm6wFo3OvamD7f+y/U2lG18OqijTLpWBqY66mmTuSE0Yrm0iBI6TH5KuohMjDqDiuC5Ka+uOe1kvLjamjq6nlwUOpRnPbotb8w5T7wbuT/M6TgXfas4eIrzuc4A+DlPWUG6QSsnOjlEazmKzIK6XkGiOkgWV7pWsAs5SSSFOnCDH7oou4Q6LeGiOZ1EqLj7wYo6ivwTug8lmDqwdJa4vgDZOUSTLTqZVve5cGcEOiyQN7qcSiY5Z9dtOQQEFrnBOee5we0HOoIxKrq0X7A350NyuVcCMroAg6c4JVkaumiPnLnpG/s3R7oOuo/TfLk2tum5UxKBupv1hbnXshi6gkTDuSvTIbkdpx265/Nguu9z/bet6/M0E2YSuhA/BDoQ2sa5Ch2TuNbudLkRQhm5yPsHOgJDjrlgf2k6nXVxulV7kjqnJli6mksnOn18ADppLwC6P1YGO31RAbr0zK46bTxwOJrvCTowBWk6BJ8IOnM+ozqkBbI5XUtxOge4ZTplUwo5DEKDOj2PnTlE5I86YfEFOgBtJzm0Vc05P+QAOKmAujmFaQE53+S2uWqJzzmzDlW6M3/WOUsCBLrvpZe6GUtdONgdDrueejI6YDnlugmzErrWOQW6tOUJu7c8G7r4Q7C6XoKvukDLKLn3eg67iBCauOzOALtlX2y6XX/BuOMcEbu1P4k6WKreurBSEjqHxpW6WKVHOc1nmLjf5hq4B6mzOqjjCboZFcI6c01zOet1hDrL9mo6W/xjOgtorTr+Aag6oxrJOmVuuzrtqYg6QF6jOtNY/Dri8FA6TzETO+l3nDoMF486MGpGOsv80jqr0e85vZyUOgkCljnIq8Q5LuSAOkqpJrrUzq86XojgukCEETp04ZC6LwvAuVq5FbgQReG6ZjGROXvvE7t/yX26UMetutCzCbtRc284iBQuu6pYbLqPS/i68W7Zuieit7or0+S6YBOsuu9UsLoAmMW6/Ha8uiSaPrqIIuW6nsSuOeoTm7pyMtk4YogMuv6OBLmYH5q5JDk8OrUAK7mDh8Q60TJwOiGZnTmTsO06VgYzOVgPCjueX706GFTVOuGvCjsC7aw60uQbO+wLoTq4qew6aooBO+ZPtznU5Ss7c59OOgsAKTssF/Q5aRbHOiEHajlUECU6CMreOkKoo7pxdRw7faPVuk9NeDnyOnw6cy8au8Y9BjoIaqG6eiSeuuru0rn8EaO6hXlBuzcV0jll1mq7r+JzuhvlZbq7+EK7LNWNuotSK7sRYEq6z31lu5vpKjozw1O773ZWuoYfdboL3gO7AKkEuq0fMrq7kUu6bZvhuZS3Ejqe6Me6SxIaOhvs8TmnfFq5y0YCO/Hhjbd/dvU6K2XFOj9fqDjMgyY7itGbOoJ3hzqR7Ao7x1UuO9cRAbmzE2I7ZAMKO9oDE7qs0I47efWwOcG/vjn2YJA7N3TyuoguRDtCCvs6iQG4ujhtRzvCSr26A9FcOo/UljpThBe7DDdHOwmuN7srqOi5V8HCOvUicbveXJe4laNXueR0T7s8eou60AOFuSL9mrufHGo5FDIHuz6tTrttcZe5Uck6u/1gK7tkeyq6EikUuxQilLo7O/O6IeKbukyLgLr4Q+a6piUlOmJzEbo6nyS63V3pOcYk+rnvojU6d8EeOjVgfzkyCAI77fKcuazAHjtHPyM6iTGPOj5I/zoD7C06qi/vOlwtGTuGoaM6mHDCOi4xKTuQkzs5eewPO+Ec7jpTz206Sdi9OkWiwTr0CrI63u9+Opy8BzuP7405aEFoOuiBbzomdx648wrhOoUJnLrDDhc7RsUAu4guk7jkBjg69ME7u7bNUjqja/q6qxLYul8MErvbAOW5aiGCu2MwoboWZRi78s8tu5MsCLsbqxW7P+Ywuw9+FLtQWKi6lx1Pu7q3kTj4Gdu6kFb1uVvqcrrMHk668UWiuoEnuri/H6M4cFq0udYKvzryqMg4eHmKOhx7ADsLtku57afXOi9SrDo5iq64yptKO4VKNzr7/c86HukdO0QX3zpv5Jc6W1IWO4Oa5DomFIc5qcNRO+s1ijoPuMs6JXgxO+iNmzp0yp06GRUTO2pPjDp1+sE6BpuVOYgvDTsB+nU4Moz8N7wS/DohvLq6XO4WOVVeN7qVHYK6Gi+7utqb4bqAjG67jwQZu4Xk3Lo+pGK79898uo7lTbsmSXm79sv8unInWbuKGTq7ebUUu0qIGLt62Tu7+vzQuY9Lw7pE8oe6pEWWuaf3oLq0vBa6xASQOMEMxDm2WYk6Iq6JOj5uWzoxBRc7rA3/OSqY6DpgJXw64Sy4OvZr9TpMkhU7HdAoO20tFzuGqfQ6IIbPOs9IGDsXpq46moYHO1AXADtJDQI7npjkOkkJLzv61eI6LUIGO8RZ8zoB4I868WDrOpaDkDlgdDg6ZXBFOiClVznVjVi6ObynOaAVwLosWce6rCW4unjUR7ssryi7VPB8u4thM7sxJg279dBLu+RiNrtowDi7dj2Iuxt7Urs3KHW7+UE7uyTKIbvvbx+7SCaVusGLWLq2XEm6OAYsuhb727kTyGS6spaLOOATBjq9z8A6SXCoOqGH1zopEzo72tcTOxdW/TrM5PY6+HzzOm0aLDsjvCE7RBpbO0j5WTsJ1hk7ff0tO6wQIDsO8Q87Ghv1OuE/LjvifSc71K8tO+VZPTtK6AA7xGvuOuq3nDoY/Uk6GDA/Oqcm2zjwa0Y5iZgZusWZLrrBBbq6xuLcugiPBrvJoVq7iaNWu3yMlbsTOLS7Tiqru7knfLup2lm7u4OEu1gre7u+uH67j4GYuz6khbtW+kC7CWMXu7dJCLuul9u53UVXOs6tCzolL/s5yf5FOv9ntTlbFVA6mwE+O9uMZzvtqUg7oxFdO1CnjDvZ8Fg74NE9O1OILTuhbzY7i6L5Omo/JzuG/I47pH84O9drDTttPBg7qsr8OpUwajrb2/Y6/oz2Out1gToAut063YwCO1uYADtdFcQ6pIBhOXrOTzmxOSy5P7dcum+mULmEi1a6ZgXEupzkHbseEzm75iCHu7KwuLtJ+eO7RPDYuzs0mbshJnC7Dn1vu8panrt+3JS7cG+Wu+jSm7vf9T275TraulYi87p4R/w4DtobO3snDzs9Vxs7AsgXO2bJtToUAwg7yVVlOwAVpTsj37U7fP6RO6ZhljsAYm87yfQYO9S0Lzv9HQg7uaapOpZXADsqQVo70dMLOxRikTobCpI50Pw0ukQTK7qJlqg4wXHXOkYshTrOU7o6F0GuOjTeLDo6pSo6R1vUOcQTiLmds3a4wHAYuOGpA7olXY+5iYABu5ZtNLuY2oe7b3mzuzXR27vob+i7h/yXu/boMLtJN3K7C3qiu+JbaLsFLYa76RWVuzHQPbt8O0W6rrCkuXRuJTqpl5k7xUyTOzDFJzuwyVk7TisvO9vwETsG64E7bmm8O0ED4ztaP6M7jMBYOwDfHDsoAIU6pS8lOhZBCzoN04M6gH1UOrw4zjr7TZ06ATaKuUNuBbt6Uy67qkDJuqcF07lQ3Y860OoCO0Kz4DobynA6dPs1Ou/jJDogXO85myQ7OIP0hTknbls5WFvLOfzIZDk5fN26nx9eu2ddo7vmnda7UtP2u+FI5LuVhnO7WGrcupj5hLsAWZ+7AXhfuwB3j7sAPJK7xzPeuhPmMjry2VU64EZwO71u6TuVwKs7n5BjO20weDvgk0I7y2BaO/NMvDurR/07eDb0O684ojtbgx47HOreOQg1v7mz9Da6jWZquVQBYzoY5i065PKUOUTcQbqxrxq7dVR4u5qiaLvZg6m6snmquBXF2DrDzio7LC/LOgqlNjrqAuw5EG7UOMf49jgf2wg6AGYYOi1LADquOC847OOeuh+oSLswlKy7jG3vu9ekBbyEUw28xDCpuzGeSro8ni27ey+6u1jmpLvm63a7xAJ5u4T6BLs7usg69tgmOzwgbzs02OI7eLUJPB8WtDuoD4c7epZyOxMLgTuo9807kdgAPDqVEDyFhM07XDYaO7IHIbr2Rry6baGGungWwLq9guC5c35rOR6cW7p4Gru6xu1Vu6YalbtYZZO7pFIwu/NYJLnBVAs7sLZSO4WbMzvGKZI69zFcOg6JkjqtE905p7Z+Oq7VfjpK9ao6daBgOlXJIrpZWj27jxGwu139A7wjcR68jqMevFdw8LvJhRe7u02bunoNsrtBPN67/w6cuw1lgbuy0Sq7eoNBOlDQVDsjEaI7+V/mO2dJDzw8U/07PCOrO2FYiDtZnIQ70ZjXO3i9FDxPsRc83mLtOygObjsPeoi55zcSu3yAHruDzZ66/B3iuXIokboymXq6kwnjuq+/Wbu/yqe7qnyru0ccW7vxRYq6H5bqOlTUbTtIxoI7Krb7Onsgajp6k5c6v6qSOtchlDqMnDI6rlr2OjOSwDq8lRC6CHY9uwGJp7uPTgG821MwvDNbPbyn9hK8OkR8u9rYwrpZRIq7kb3qu26stbu9foa72rpGu8WE5jlpmnA72aa6Oy1r/DszeB48RnkWPDPS6jsS2ps7gyaFOy63yjvDNRE8tmAqPHiMAjwbSIc7kXR4OaEbQrtmBIO7pNQXu0pSuLnE5r26g3QTu83JFbvqGU27gziduwNrvrs+xnW712Ppup6ttjoO2ZA7+GqWO5P1bDthw7U6GR5uOnt5zjr5WPA6ItGZOrqc3TouWtY6R2geOSyvGrs0XbW7E8sDvIQPKbzQ4kK84SlCvFnP3bsApgy79SA5uxPD2rvVdPS7JV+gu18LZbtpqU+63g83O3FP0TtnZQc82C4YPLlGJjwPqRU8BDvlOxP8ljs8P6Q75cgKPMN8NDwv+CM8QCzNO/tFtTqMHx67xmeVuw24gLvdVmy6iX+Lt3o4G7u8Qmq7ZShLu5uYdLvnU6a7DPWYu4MsEbs8TAk6zHJNO4ejpzsw9q47yYBKO4ktejoFUuU5p+29Ouuf0TrklsM67eR0Oje3cblYkxa7vie0u6c1+bvo/Cm8TOlIvL0CXbyqojK8wNCbu+sFDbs6iqO7Obfxu0wTwruPgIC7CCKvunItxzo62bM7yfUIPKRiHzwHPiw88iAkPPPkHTx2Meo7Vi2mO1rWyjtS/CA84Ok1PNdmBjzM1nU7p20zuloicrs8orG7PJVNu00IqblHyxG6M5BNu/NNjLufG367qomGu90VfbtspT27RSIHuMhBKzvipJc7IC7BO4pHozsWClI7AV5sOpojiDr6Uu86Ecf/OvbmBztaJlE5BoUXu/ymurusN+67UasWvDFgOLx4b1+8gsFsvOgdIbzSU5G7cfkwuyDRwLumvO27l0zAu0NXb7t2Phi6uW9eO4Jb+DvkmiQ8UvUrPPkLHjxPOR886RUdPGIL8jt5E607BSnfO7mEKzyMjCs8mv/WOyu4EDveh/O67yeruwzAvLsQBRW7ilifOSLnSroOgGq7h7eWuwC0gLs4LV+7GBEku++HprrVnaM6hKd9OxdmuTv2PMM7m7SkO6CZdzvzPtw69yhXOv4JuTpyGA87vc37OjC5LLr1o4S7JqXVu41nArxkISS8KgVPvGxMdrz+6GW8c7MWvMc0h7sibXC7DrKsuyj2y7vYl7+7Vwt+u58g+bmmFJo7aiAOPCKHOjwMjy08JfQdPJ/ZGTxalBA8I7HeO2T8szvBVPA75XkfPCtaGzxhurc70PqjOvdZTbuY4se772ivu3shArsI8g65NAehugtVS7sCwn67mEiEu6jRULu/o9W6fB1kOUe5Gjv7jpg7OCa+O1+IvTtDGrQ7to9oO2il+jqgJoE6v2KSOmh1Azstd5Y6DcmNup/7grvQycq7xLMPvMTUNbzTjVm8E2JxvPEjW7zFIAW8Updiuw2fYbuIG6i7rXvLu04Tq7u5uWi7/zcBuCJspTspBSI82IRCPKIBMzzwzRc88pUHPLS5BjzGUtI7Tgi4O3018DsPNBk8unAOPK3pjTtn8gM3iC2JuwAuzLt9u6i7CLZMu5nYfbr6Tba41HnLujagg7vnDJy7aQ9ou+v0k7pceR06vINUO/wzuDufpNI7o33JO8j3kTupjE47JK8LO94MaTqtnCo6G/CsOkZ0jjq5O+W51RpIu6JY17tVJhi8ziM8vDTiZbwaa3i8CQZLvLpOy7v66BG7+XlGu309v7vqPuG7dGS8u/ssYbv7lZc588i8O3hRLDzT40k879MuPFtrCjyyTwU8ZY36O0ylxzvNWbY7vV/9O7HxHDyzjwc8oEN6O4mybLovX5C7KXnBu1uGoLt1nDa7NGt4uu9XyzjUuJu6MPaLuxe5srv1GWq72PNWuhHEmjommHM7oVrFO3I0zDsWDZw7+cKBO/IGQztwrPc6A+6oOsyJSDoypZE6A71VOipvi7kgFFe7embVu6i5Grz+DkK8oWNdvPg1Z7wLMze8qBnAuxu7BLvwX3e7fWXPu3U+4Lvj56q7yAMpuwhjUzr5BcM7dJgnPEHYPzyusyY8lq0CPKhG6jveVe47TujeOwrDzzuHefc7NWYSPBYN+juwFVI7pB/GuoGSk7trta27kLmJu0uBNLvRtx66AbvHObEVYLrNsYy78eK/uxU4c7sR4lW6FZLwOnt7iTuOv7874Pi+O70PmzuC/mc7YKoOO6qS4TqXte86QgKuOmUdPTrgBCs6NlAvOcNBIrsMWs+7l/QfvLSiPLyPFFi8c2xdvDTPM7wGRbq7MNARu0VEWrv7y9G7MmzuuxLfp7vC7Ce7+0laOhZ7ozvW1hs8n3xCPB/5KzyJBfc7BVHNOwLc5zuumfM73JDVO16U3TtybAU8NkDuOzGuZzuw2my6fgaNu7BLmrv9Fom7kWNMu6kHrbqvaP04qrwwuawlXrvm4Ly7vxOQu3zFq7pO7aE6+sF/OwQ8pjvTO7g7bDmtO8ZVeDtmIhE7QVqxOvrkCjtUHwM7zT9tOj4XIDqn0hI6ONy2uprupbuYfxS89xY5vJPsQ7xxiVC8o0M5vGjJ5bsTXkm7Lbs4u3K7uLuWmOa7xZ+8ux6VSbtn7005eHR+O7DxADzXfjY8LnU0PD2eBDxHHcg7B8LNO1EB9TupmeI70cPQO5Vx8TsYCfg7l4OfO2DRybiDmIC7oWenuziAcru4XRC7F2jCusRxDLo+u6S5U+Ieux5jqbv2pLK7O78oux+NnjoJeng7HImVOyK8kTvH+qA7VkCPO8JKEDvcwTU6zuLbOncMLjs1zg07jsiLOkv1tzl5qKG6XaOKuxHYArzjfim8dn4zvI8lN7xpNTG8xtMPvIrkq7ujWFm7w72HuyhfxLsW5cG7VfuDu2X6ULozMy87zwDRO/60IzyqGDc8eSkVPF4Y0jvfe7g7x/bdOz/G8Ts4P+U7W3jvO8aO6Tv4g6E7Z9SWOhigObvCY5+7k8VxuzXO47rXMZe6c5N+uqqzFrr99wK7bB+OuyZor7uRmW27VQ23OJBVTztkNJY7DxiPOzZ7izt69X87oiYYOz1OcDpitqU61fM1O7WFRTuNlQs7BO0YOgI7mbp653G7D2Dau1fPC7xlBBy8PywgvHE8KryVxSe88E8AvGKynLv1bmW7V9SNuy+cp7sR05m7IwIju1cxCzpj44E7wRr7O7fFJjyeWCQ84or3O0CdvjuqYMQ7tfXfO0mb4juCFOY75lHoO0aIvDttNUs7YhwBulgKe7spl4W7/DwTu0GHLLqRMxA3mTLzuRqwyboQPHe7QZe2ux9FlLurhaW605wXOzerjztNzZE7z/xjO+j7JTun7AU7fX/FOo0B1DrHjCI78V5dO2vbVTvZH+o64jNUuufkdru+Uri73wvouy1CAryFeQS8CFkNvDFOI7zsviS8GmD9u+Kpo7sCAnm7XbJ9u9Bgibtx6GC7dXyfum6/0zqs8ps7EZLyO5dvFDxtRw08tFnbOwTCtTvhc8k7mELkO7c74jsaqts7SQbHO9H3jztGgf467TOuurkqUbspAg27+meBOLrIjzoKfQu4k2zrutSrZruFKZq7N6iBu8SV7bpnaEs6uENHO0PMdjuD0DU7s5qpOs/wljqvKvs6b1EGO9XaBDtY1kE72KpwO0a4MDv/m/W4369Nu6KfnrtTuaa7Adidu0wFsrs3wOO7/aYUvFSENLyVADO8IqTyu8qoQ7sQ6bi6VScOuy+WVbutLze7K4iEuoGrdzqpj0c7dBLAO6w/Czx9MRI87PHkO18SsTsrqKM7E5+iOz+QpTsaMpI7jp6XO6IyiTsPFw07iwQoujG9ILs6DN+6y2uTOfwnYDpQulG6GftLu8Gya7vx2yy7QeG/uteF9Lmo6QY6rzQIO/uqHjuxcc062wqLOu9k7zrhLCk7umArO3zHMDtU7FQ7JR9LO+LGzjrTvke65aM5u603ZLu4uDq78HQfux8jUbvA3KC71GgFvNmSNLytfja8yQ71uyETHLto3CQ4BCNBuovpP7ulgI+7OUOMuzfnD7ugBJU6mSKfO8mn9DtxVPI7z360O818UTvSgRY71W87O3EBgztJA587BbWkO/VGjDtqxy877D02OrIrxbnkelw4GiT6OVpS8zfYLU26I0RDuqzcV7kMFgG5vRtQupw7gbrvi5u5pnmkOQeKaTp8tNw6v8MIO58W5Tr2aZk6siGROhBU9jokYTk7Ve1CO+UC1TqInfW5ZCLouiuX/LrnRLS6x8tFuuficrqp8ya7o82gu+wj7btDnAm8wsHtuxo0irsyhoq6ggspOijzD7k200273iW2ux2QrrtkJyC7d8dKOm1UTTtv9oY763BoO4TeFTtm1ok6UNm/OeR8HTrYzb466S4tOxMqRTugeCo7KywmO7eUMTut6Bk7ojWdOUQ8w7rL7by6esuPOYl6BTvIIBw7pwkGO34XhzofQ8+5/+2fuluCb7rXdMg5Fy8NO4d2TDvnKSg7vRu6Ore6DToyYvI5pvGeOvNWCTvqxew6/54JOt1sLronGJm5kVdXOt55lzpHep05uvPUusbsO7sQ+fS6GCVrugvDkbpPFQq7qJ5PuzwuLrt+Q+a613mTujIE77quW/q6wpC0uuga9LqFzSS7egsouxaA+7qM9Ie6Fu3JuYFH77nG8a65vg/Vub/Yv7oqZAm78HRuumfSPTrPeaA68EBQOinn3jlI7gY6uIecOQ21nbdYBP05K56XOpiV8zpZsw07sE3OOmFCGTrrXMU5y4s2Oh7RkDof7cQ6NhBhOq8unDlo4Xo5iEdqOlfU7TpfJxI7wcbBOpldXzqlTPI5yuCWOkX1JjtjmyA7gZMHO0q8sDpTsqo60STNOh4WEDubfxg7Y2UWO25SyDpvbZy3BaYsulD2srqVzSq6oEMNOtfXNzn6GUm6z3vXuoMUQ7uuh4K7GRB4u9L8MLuW1AC7gRcSu24OR7utm2i7ip9Nu7E6JrvNdga7aF8Cuy9tFbtrTCG7f0j4unI3FLoJ+dQ5n0igOcYkgri+FD+6Pt2uumGNXLq/yiQ5szx4Or/2GzpVEjk4g8l0uVmJDrncpyw5pgwAOkqyQDrjg1A6LYxFOk+IYTrDkbM6VvgBO4UdKDtIBzk7M08zO9AuHjtZLhs78LcrOx6WRTvwAGE7AL1pOyWlSTs2quk6n1A1Ol/0OToB55g6AsjNOljfszqAjGk6JUsuOaSdTbosY7S60MiWumby07nplCO5Cp/1ud1nhLoOYtC6IQbvuiVUpboSloG6N9pxuv1Gnrq2usG6ELvCukqByrqVTLC6YUuYugGed7r9bcq6cE0JuzrzDruz1wG7H0nxujywAbv/ngW7wuH/usZX+LqAOPW6mJfXunmzkLrQOCO6OTaHurTmt7pY/5i6waaSuM8dszrj3hE7E9gQOyvg4jq4yIs6AU0+OtWkuTos2Ds7KQeEO3oYejvTFhM7uV1TOvT27zlCHEg6eQzOOgO2DTs3eRA7S6LAOkAaCzouYRM4mhSduSsaQblGpJ45fdToOR9PszhGy564VaASOYIZaTn5o6y41wvwudffILoyhQK6I/LXufc3brnvQYw5n+bCOa9DSzghnv65pLGIuu3QhLqLHkW6ueENuoDmdrmMmau558tBujXAxboJeem6ATOQupsQ3rmUP+25DyiYuiDL2LqP3be6eCjQuci08Dk49yM6F2n9ORdJBznRLyS6wV46uj9lBbh9fZs6O3oOOype1zqUAP85uYgfuq0TcrrSFoK5PP8zOucNkDrAx4k6hmtCOq3/njmjxN251H9xuvvJALr4YNc3iHC3OcWbjzl+64M5gFMyOWkzELk57Ja5lezJueim5LkTfwe6/DeTuVxeSjk3URo61PgbOq7JiDlN+NG5VY6JurjpOrof7GS4rCYOOhnCdDrxHt05vAP3ueKambpEsIm6nBtHuZl92znOcQE6wj4dOU4o1rkb7MW5swZCOe0NGzpBwTQ6fI/BOSWWezg2R/I4Zz23ObTxPzqULqY6zZG2OrX9gDo1B6U5s65NtjVXNzkj3w863TZiOuCYjjoR5bc620KGOn6tYDnaKf25R935uXtRx7itwws5+XeJObBxJzm/WAq5C81juqPmr7qRiLe6TzKluvbfjLrwJnq6w3Z+uonSgrp6C4m65YFyugQGmbp1gOK6PzXeuv6PprrZHv+56ZluuGmhZThxUOO5juuUuoKVv7rDZJC6e/vhuPrh2TnxOTU6Rf/dOaBCMjiPq9i3onEaODVB8TmRjEo6JyKXOkwVqDr5CXM69qvlOWLxITq9q706XAHOOhW5mDpar186htuOOlWeuDoX17M6/PvGOjxv+jomWuY6RDmSOhUCFzqoO7M5Bjb+ORUuOjqNgYs6SnyjOptWPDqisI84/ji2ubCGPLpRfiq6mrfVuRmEjrl2XM+5suJqunr6kbqdjoe6m06guvQPtbocWrW6vrWeuhcpi7qmL4q6OUucuiL9tLpPkNq6W3YJu/6aAbvXqMe6bH1Euhk7i7mNw/e5rU5wuiWQsrrqkKy6lYuRuqaaRLrKC6e4NTU6OqbrOTounkW420T4uUyPgbn0aZE5ah4gOs98mDpxotA6rgbgOkPpvTqsq606JHrCOue5wDoSy8864ULWOvcBsDqDtpA6owqQOqgHozpwKsA6cK2uOqgXgDrUDss5apRWuCl3v7ddidE5capQOpCCKzoO4UE4r4y1ufBC5bkQGta5iyOEuR5bhraCl0s5/NlZOR8zZjY2wLe5METWuXVOFLqc5Ua6+FOfup9Drrpn7Ve6EuqzuWiLM7nIz1K6p7zNuoi297qyGgm7jMsGu2r8tLq3jRe67ulouUXe07loOFa6lYGTuhSerrqMXKm6vRUgukn9ZTksWT06l0N7Onq+bDoFEzE6OxQeOt3NODqpnlw6uE1POklrOjpr6Ho6MF+MOvb5kjptGpc6tZSDOnF/Jjr/F+Y3k/AkudmajTnlg246CLuDOvsV8TlaOmW596MYugHemLlphR056vhHOkHhmjrKHJc6XflNOhUGqjln6rc4uJtGORsN5TmRgIw5lq3ouFqZ3bgTiV05lrhnOfqfLbkjQiy64LZcukQXj7rvoae6keKJuiB3ULqB+Cy6Px80utlia7rU34u68rWbuoa6k7r6ilO6ZGD3uV7rTrkNv/W3BL1uOPKTzjf+BsU399IlORIAmDlOspU5QHyjORV7szmo/PY5R3LLOd7pnTmIKKA5DWAWOR5pDblVTcC5uf1SuVyrQjm3ieg5iWZFOTEteLne2yO67dcXusjfvrmEiKS3nFcHOnNVhjoMjqA6C9VsOhZgGDpxDbw5wtPJOU2v2TlokQg6nihfOgB1nTqCmo06k9MbOsoB0zhcE8G5FWRSuvuvhbpIO2W6FEjYufPGIzhlwFE5FWuXuInzRbpUNbC6cVvKuvZkjrrg2cC5TAaBOXgCJjodBxo6l1InOWSzy7jH3xW5seN4uDMrYDllbfg5uAQvOqQITTrD6y06ZOypOS4A2rYO+q+5N4gTuie5C7p8KXG56XWFOYGa+Tn7Ps44IV0iukAhrLpdGJq6rwsTuqFqKLlX28Y4KRtZORFSEzmZUKC3CqBxOGk/NTkYd5o5KnpXOXSBBzkZ5tE5f2YyOsYZbjqluDo6jh2UOVTlkbidCu25njM4umIJM7pDOte5d3gBuWVISzbZsQG4E5DRuZ9nZrrIBIu6+jd5uhYVB7rsjUs2+XcBOg2PMzo05v05qXQDOWCnFrjGRi05YBkEOsr7UjrBu2Q60NtyOuv3fTo+kkk6N93KOcf/Zzddi2u4Tw7stypb8jjCkQI682kTOqzjgzncZJ+5F7BVum0fd7rf3+y5T0AbuDt7ZDl+E385hNFCN3LyYrla3N+5eFMDuSybqzfsc5g4nIK0OFG7CTm7Eys59/MfOY2DJDk3t2M4Bn0eufLHG7qD+lS6PkxOug0mIbqha8C50W+vufBQybkkXRO6nnV/ulRbk7p5P4y6sN86ujAGCbnJEUs5cgFpOUYCBDkVOpy4ArbzuEwSpjipIKQ5NHUAOnxwHjr/C1E6zpJpOludZDrwpAw6bhoOOY5hpLiwvCs3zTeoOWSJVDomcJM6PLpIOidEhTlsOna5v0exuc6V9bg+PaA5GL9JOh90fzq6i1I6JL+BOY54+jdEEHs4XU5pOYnErTnpFZo5OfuxOcolvzkIBrQ5BB6aOQv/yTj4bN65Q+MwundvKLp/yhS62gAMuhmVLbqDsS+627BAum0lf7qPL5+6H3iruvQGm7qQk2W6HZofuhJGyrkPm4y5JxufubWStLmjFbm58OKYucRAG7k/+Ua4XuvfN7pBYDnTgrk5AOO2OYxAMTlyrQu4TfLyuIs6/bibwB640hsjOc3AkDmx04k5wrU5OfBvSzmnZ445z0zUOT5+8Tlsm+s5ZAciOi0aRDqTY2A6KnN3OqAWijo4u3M6eppZOjifYTqrx2w6yKR6OsyMdDrsbXU6JZspOrRn4jkWK2M5WJhsONkdM7cxqp25F0YCuu8v+bl4Uv65HWovumjIVbrI+nm6NY59ujDUdboTylu6GUY5um1xIrrSzPW5wFbCuQfwpbk0IJ+5TZe8ua8X0rloC9G5BqVXuSSIoLfNhz43EufVuPXavbn9QQG6PfEYuoTr7rnfDqq5yM6DuUG1ormVRAe6DlkBuqhyqLkptrW4uh//OPHBQjlYGIk4ye0nuE4ZVDjm66A5HvoFOsilQzrRdGw666liOiW/SDqb6EU6WwlnOu/GgTppS4I6WMNvOoMyTjorAhU6WAjFOZ/1XDl5DNI48opMN/7olLfNQN63+KBxuBolxrhH04O5y7aMuTAvu7m+14+5NAy1uEAU7bh4cHQ3bMbdOJMpGTlXTBo3V98QucK02rglZ6y4ZSooODXZOjnMJBE44UiFuGZDP7kOfK+55lCgucRzwrlhUuO5EKv8uS73KbrmfEG6j0EHusGhcLm2BYW3Mocut2TgiLnieeO5bpnuuWCkhLmRb5m3UAEkOYeg2DkQ6/c5hNDvOUe5qTnRGkc5m3tlOVJqrTl4qN856vvnOXfS7DlHTpY5PAhnOM52kbir6NC4EqyguYYDyLlz0bi5C1k0ubXHULhJkfK4uoLYuJSXFbnGdDi50VqYudL+LLehuJg5fbLIObrJozl0mw45pJyuNxUqZzchhnc5Za6/OffD5jndW1w5pW+wuNDkSrkqu8K4hjEdOIppOTeHKRq5IxfnuZ+xDLoFf8i5kM0DuYDkYDjkVuY4S58NNkos87jRlZm5/YCjudNxhrmtTF645aoDOTc4nDmqYCc70sdfO+VPC7t9dpy7tHZduedTozvqa6w7mCN0uoerT7tEWlY77UK9O8+K5LrwtvC7SfhPu31QhjvWe1Q7ltInu50VwLusMF+71Sp6OyfzQzvIK7C7Ztyuuz1wJzpC40E70wCLue65FLvrS1a7gidzOc0ebTsUMjm6YEENO9KPMjsSo0G5joGrur9dx7pavgo7/iBDO9BYELuC5lS7564cOiuVfjv6QRM724DJu1niIbv+yPE7seR4O/n39LqNuXK7nDbCuScliTv0Oh47o9Zsu7ho+7qafJ47K6ZlOwfJ0Lrep6i6nN6aOTkAdDqKqVU7BSDtui4MQLouAl05G/6LOovsgTpfJiG7uxeJuiJ1grpyCpg6EVHWOpTU8rrntRu7mB/uOZy/mzrp37y6BcICu6qUu7balfY6uu8AOpqMC7sD0X+6Jl8Nup8U2DoUJLo6GBzQutqh1LorWkM6lgMeOwnahbt7y4W7Xl+GOyzvsLoTthW7Ct4xuv4G0rqze346zBNsOvsoH7stxIC7Y4VjO/bUZjhzCTW7kaCyOpG2z7pEQOg6Ons/O+nLpLvr5LW6q1T2O2mul7rpH0G7jMuxO6hWqDqsF4o62H8lu3wMaTuAiQw7qXxxu6IVrjuIcK+6sQSIOpAflTmHfIe6ZvVBO+becjtWNOw6u0mju3EQOTv/Bzg7cs9eOmN6lrvtX6e64WKvO+bTDLsKdSu7K74Iu7b4qDv7fBS6O6Liu2vyhrmwsXg7EtEfuj09uburdWi6EEaIOocbuDn2fgq7UgTTusloKzsPI/I4xxhGuyF0gzrSSrs6p38Cu65Vr7rJ9ao6BEexOlp8mbqM28q6LorPOkkEczo3M5q5B2qaub6hIrojmB47gWaJOnR0F7tusAU6DQLmOouzt7qVqRU5jTnzOvK6mrpfQE66kUm2OYGSgzpGYak5GeOIunPdRrr0igi63ZgNO9Kx0jZo7qW63e9lOdCSh7pJZWQ61llZO+vbt7p6RyK7RmFmO9LNfTptliO7KgQUO3Qr3Tl80Fy6GaVLOkinULr1zR63mkZJOgqSkDrKKHG7fkfvucjzhDti2HS69el1u/cP8TnolkI7p+gSu4U+Mbtg7Tw6SES7OnIvdLoGX1C7ZipJOsnHJTs1+Ac6YzKqunnl5rpqqSQ7Xi8IO6IqUrnx8KC6Yw4TugdBLjv3moa5OQgiu0Rn1ToTHmW66N1GumGnJTq38cW6ITY3OmN7eLpnE+25VcksuhtMMTr4WoI6Wl0iuw/YnzpRkTw7wrFpuclZxbrM7N85a6eTOpQxNzoMo2G6YGwyun086jqhLRm6NEd4ulQBerlb2kE5X0dfOg0Zubpy88U50YO+OgKxkLkFqHe548ShuPsxjjntD7a52OZLuguGtbiZm2E6/djQOWCigrpk5FU4l9zbOi/MDbrGR326DDK1Oq5+qTkwkKc5zzeDOfATALpAfJg6vGfsOCS9xbp+Vmc5VqmjOqwnDrmRZCO6xrJ1Og3VWTnU1WO6c2o2uhv/Yborg6k5XxvZOkEYR7puPuG6bNnFOFD7bTnh/Y+5sTe4ubHHQ7o72Hi6Ptj1OimbxzliIcm65N5wuaNbBrrzMm+5WmGwOJK0jrn5vR06mVHlOSo3W7pIv1m6xWNCuVCSgDo7NJA4dOJTusUArDlGow46eDzJODdyrTkbKCq6Vq+QOEv8sznIFFI6se+rOrE1GjrMdFG5Kin9um23gDpFWfI6z+fFOSj+R7q/NiQ6FuDtOkNdHLo7Oag4wxkQunG10rffAXe2SfAmOpZGjToQj826FdCJuik1wbpz4L850EFYOtl5wbor0K26cykVObYGmDoM0kC6soqdurhHKLqh4vo5tzFvOlT5wDePD206yaqhOUVASLqwHai41dX0OQ9MEzrW0oi51dMeOmmpSTrq6Ug5J+gmumU/q7rZQ1G5aKG8OZvuUjo0qTi6lpkSOJBUnDod/W657RE5utWaibn5DkY6fNyMOsgzZzpRQ+84S/Txufq3gzleH586jTHHOlB1wjlupJK6wo8bujIgpDpFNYk69O4vuTbE1rkZZ1K6eB8JuO0PWLmQqiO6RtW/uAZJCLrskJi5rKiLujyaj7pR4eu50xYBOb1J4rkF2Iy6XU7+OJIIADqTKja4VUCcupZEBDl2+i86b1VuuA6MprnS4Va6+2jfOefIyDn9Xo65qJHqucUNqznDiMA6LLbJuu7VwrpsxxQ5145YOq2owDg/PWi6Z2kHOmQxhDr8+UY62s3TuuDlEbqxaQs7bS7IOqfeDLqL4+I56uS+OtyxLTfmL9+6/6KauoYfETlxkYI6IxEwOhlWCjrdC8M6xt9xOuTLRrqn7wW7aEZpOc57pzoI5S46hhF9t59LoDoMGvE6hiliOjDmpLrgRTC7WR3suHQArDq6G8s5bTrLOPpJC7lbPbm64fJiurr3SbngXpG3TMcIt+YJLzlrvc06GE60OjHplrkXVX66kMASuphCJTlhnze6aOMhug2fCTp1yN45Iil7uRkHO7p/uTK6fo8quswmUbrvbxi54EvlOnptgToJtnu62bAKuwD2b7pT3yg4N5NTuoKhMLoDYqK5ZfRiusguqrrHvx268EGIurgYkbpj85S6VTsLurCSqjrwYN46OfRVupg4nrpANpA6E4XLOo4vmjoAY0o6aTe3OV3mWbpdFz64k6yFOnfabTmuEYy60waKuoEkGDpsHe86s0YDO9BQeTrnHS03Nqq1uYDdTzpDTg87ryoqO6YLczrZZbA5c9mVOjjA3zrRg6c6XoCBuc8jwblxW4M6NiHJOmhJkzlx7Sg6czyyOhVOgzoRIkC6QW+kOGQ8AztuLUw671wSOjXFtTpCJs43eI69upYEyLqicO05klJnOrc+y7oH9hi7bkDAuhXVD7uwboW7/NuJu1/kYbsoGi27Pgpfu72mPbtkGyO7Hn4du1PNALtcEiS7dq+auoAjRjqpqe65qkvEum5x07po7726Yz3YuZvBMjnDcUU6yCuZOfoygTmLmnC5DLKkN49BujotBJU6YyfEOU6v1TohYyU7Xe0gOyPtBzvRtcY6R0wiO78YdDuDcis7MAM1OyF2djufKC473w8NO0+TxDoIRaU6tlYTO00vTDuoNCE7k4oiO9ANSzv4Wb06hjJLOm1C0zq+2bI6dmNPOrDYOzmcO5I5RxsGOTX8H7q1erC3XUBWOU+597qSdt26YoaSOVbqrrqoezi7aRFvuwdJSLvqOMS6c3j8usvEjbu/Dry7LKBquz/YZrscw5K7ZgKau0Egg7tzQmS7Py1Ju8MmJrv4ODa7N91Pu/30j7vfnXW7S0axuqDCsjnIx006W1GfOQY2qTj44hE7ahpcO0cwfzpy8GK5dY4RO/rpZjvHH1M7bHApO3R+MjvnJzM7He7zOpqXuzrAQqo6tUgjOwYWRzvRKww7PpYgO7zWgDtn/Wk7d/ZkO0qqbTswg4I7De+AO2HoYjtbl0g7OhHqOgNPDDt0wBQ7VI3DOox3IjqmGIU38mj/Nnb78bhWSjy5u1/uuG3MBrruvZ+6L11Pubd6xjgie6O6OEmuuo1MPrrhFJ26Mksgu2SKSLsVOIi7uK59u1EeVbvpZZy7zvPHu4tDuLtxeq2749qnu8WGu7vQbdi79lK6u8XEWrtLcqS6RD4Yuzh9R7vG9qW6c0sGOeEcpzp7U946qEy3OewBAzql7+E6M+lGOyiWJDv6KZI6it8qOU1DGblmqxg57mOqOuKAGjtY4/w6mfZOO6UEfTtD5So7ml43O/Mjizs3aV47FXkeOwLabTvF6J07zzeSOzITszvN5JU7l4gqO4jYNzsi3jE71jITOx70CTs3bEw7oUjeOmuEyjqVc846EiLCOAq1hTnqh5y5NuWYuUb4FDhFPJy5eRxtuiqpXLrkB2e6rTzxurIaFbupIVG7bclnu8suKrvrQlS7sl6Juxx8jLsUIJa7jKjSuwW81LuHjMO7RnX3u3WV3rsrary7n/C+u5HBkbsToHO6udZiOa+4iDhzjJo5p4QSOSPQNTqEBZU6L6wUO7NQRjv8Yss6FPkqOuTokjpUzgs6xXK+uROf8zmhTMM564Y+uvrXATt8K2w79OnqOug72jr8n5E7MxeHO7ZhhDu14aA7jaR4Ow8lhDv4E6k7aN+cO6etUDsTd047HxAoOwzh/Dpj/Cc7+kRYOytSITs2K8c6B9gBOwq6mTrELkO4DbY+OoAqojrbAwg6xr1ruJh1Jjm0CsQ5MsZhOYytSroZ5wS7mP0iu1XmU7uCkFa7/5Qvu+4/PLsgfoS7vnaluyfrrLuDp8m7Q2jYu4B13LsM+AK8ALgCvFUEq7uLcIe7PXhiuy/gGbrJGYU6HKO1OtdbJTujfxk7mMWVObA3FDpjpPQ6JnnMOXUSjLqHAsG5RgZXuAbmLLqXP8S6sxKAuvgjrrgNI7y5j34junWEgjr6/xw7SGp6O2+nsDu8kq87sGHMO04R7TueJbk7Vc9VO+T/gjsfN207+SDfOrS7HzuURHk7u8QkOy4o/DlT2YE6tSHeOq6dyDrqONA6IC+6OtfQzDqDBOs61zGlOv9EaTk+v5U5bOKyOgRxIDlI/CK6kB+WuQSV97h8n2C6uh8Qu+kIELttgUe7Lz1zu1wpk7ulF5W79BN0uzNffbvu27q7Cnn/u/ATCbySGRq8ndX4uzTyZbu0ta+6Oj8QulWpWzrt4Eg7c+hIO1e17zq0OG06OkXUOhK8+joHJIA5cLaIOolDqzrTdRk4iRiKunRckbpPhjy7WqV7u3l4xbocgg267UkBOkrxvzqn9P46rXAEO0BNRzvynXI7M3plO2L/jDvJb7M7dD+jO6bvdDsAqXY7zgJ2OyMUADvX7KQ6/qgRO6/fGTuS+xg77TghO+RgMDt5Sfo6oQqoOsPqlDm0olQ5wA6lOe67D7oW0lS6lahVOqwJRTtVxwE7groQuQ3n1LkC6dS57J0Ku0vd87qI/b26gTpDu/S5jrtOFp67thqju1fHrrtavMy7L+L3u367Abwh7ea7OO+yu8PNOrvR8lI6keYgO1/8MTv2qDQ7jMEuO/uFCDvmnjo68CYxOfqeATr7Ukg5OX4zujIVDLqDaa26hcIIuxggG7u8IRW78DYguxx5ILvgfSW6zaCROSiq4TqqoR87dZECO/z1qzq3KxM7Lh1JOzi5NTtlDCw7EY1RO2IngjvdSnA7Xwp1O98/VDtduzs7/AkcO1w7JzsYjC07hdQ7OyiZSDvk3j87eUElO3JqujqfPT46uhueOKbJkblmZtO5WbPWNreUbjqx8N06UuQEO6n65DqPSkE6A0TkuKngqbqUmwu78tBPuxM5hbs8H3q74S+Ju9sqrbs4l+e7vU4DvE2cGLwrPxa8cBPRu9syOrsWIV05UWBEO5tYnDteMLE7qdadO72xZDvc3fg6n42BOVwevLrotUC7TgYVu7eoDbvl7x+7hMxmu4ycSrsPtEq7T5Qwu53d+7ohNFa6EeDyOciPRDpAB706/qTMOmjsKzvfphI7XLwAOx3pvzojGsg6/+raOifeDjsJGSY7otBAO24Razv234E7le6SO9Q5ijvOJJA7MIuaO3G8qDtf0V47QVD8OtTv6jrgbuI6HFs1OqPs1bmIYOm5BfdPukpkaLpBjjS6M/2YOo1EUzvz5U87ZYkTO0Xqrzpyilc6JUY2ugqqS7tR+n+7pfabuzwUybukLAW8zkUYvLcsKrwDwSq8hOgHvLYmrLvoYJG6jPc9O/yg0Tvl4+Y7N17rO1lKvTvlF087ZEWPOUdU6LpfuUi71UiAu7OnhLu0Vmi7KQtBu3SrS7tgQGe7UNaBu8GXNrsq0+i6B2cBun2KFTePYow67Y+mOkyH2joIQO86YvEEO0za8DoQrZk6yHW4Ok+O3Tq4pSA7dIoTO+TuYTtHKXI7EN+DO8FhiTuF9Jc7yIWQOylliDsdq407KrpWO2YoLDs08xE7+jjFOt7+Uzr/rlY681f/OXQDlzoaY886eeIEO74GAjsifsI6+wfCOpO6Czv5Cc46lXPJuPLB67pqXTu7KLFzu+kYqLuTzc27RKfwuwX6C7wfsyW8jrIvvF2uHbyMiLq70hH4uvx2EDtZvck7/ooKPGkGAzw1zbI79JRLO+8xC7hQXji72tuwu70rv7s0Z5e7VHdKu6EdArtLTLm6R5S0ugw9ILvpr1C7Urkzu/PguboadjK6xKlyuYUQajmb8nE6eFbKOstb3joG3vg6cloAO2ZwyzowPNM6dgEDO8VEJjvqJEk79fRYO+kjYTu8Nms7SI+COwIUpztqoa8761+eO7rokTsSNFE7P7DfOrlJrjonFMg6HpXUOmzIqjpwLfg6s9pOO2ITQzvUOiQ7f5mbOt4XbzmFJUW4DLszOftkuzcLFBS6+0zIuv9kQ7v0wYW75jmpu9xO2bttKga8spoZvBjSMbzHHTO852MMvIXleLt9Dcw6TqPQO3YdHTyqQyQ8dgYAPAdPajuQvJy5v0ZUuwWRxLvg1Om7+QPNuxbsgrtyG/S6C+QouiWrU7r2c9e6+SAmu+rJbbuBfoO75GZWuzhuUrozXTc642MFO4p3MztzCz47TCIxOxv1GDvb3t86N+KmOhIlkzq+vos6rL68OrDn6DrKFEU7DRdQO3hxXjvCx3o76qKTO9dOnztHPZ07VoaPO6ADhDsViVM7SsQWO3Ir0jrpxAs7K0pCO59jHDtPCBw7ygo2O7ngNTtTTeM6Yn48Oc4BILr9Csa5VyNMuvmMnbq2lPi6zVtCu4zvjrs5SMC7MWbzu12GDLx0ECe8AdU+vGUiNbybMe678g36ujvsbzs7BRQ8dr4vPCRTHDwHOMk7+ycPO7OUvrqMhH+7tPTRu7mF57uGM7y74Fh5u5Hn7rrVD/25EX0CuWn157rLhWK7WIuYu2aknLt3x4+7wHAcu3Z01Dmz5Gk7N3urO0lBtju6RbU7OYibOzsKXDuvgas6nkHtOTomZbnVAPS5cHa3uUgVNjnEU6E6vd4EO0jtPzvdx2I7uCmEOzrzjzvRXJI7qGaPO5HwjDvUBJI7J42FO6MEiTsOoYY7YnFqO7wYQjsD/Co70ecfO7yCpTrGE4s4HQOSugue7rqDz8W6thDkukiuBbuQsyq7kKSFu4dhq7s5eOe7ifwJvGQqMLyLyFS876VRvBK9FrzmPPC69qSxOyFaPjzb71w8/9ZCPL+X6ztSzQs74qkBuwYSr7sXb+e7bYcEvEWi47tOrqm7wXkgu25SG7rvbwM4pMHbumz2hLuas7+74FXYu/Bntbs2sla7nJK1uJiLJzvy28Y7wvINPFHZJjyqGhk8CefROxKqITvi27W65R9ru00HnLs+pIS7xVtCu0Hp3Lptxz+6xQ+hOlM0gTspo8M7iPDuO6hD3Tu3v8o7gbi2O1i6ujtp7so7fdnSO5sLwTu2Fo07vGY+O14J6TrYr8E6DmZMOuClXzgoHLi6jmUqu3oiObuQkgK7/ZwzulX8A7lM1ZS5GRICu40lh7tCmPG7Fe0pvEpxa7zWbYu8j16IvG0lMryMZIa6H8UHPKq7czwRTYQ8k99kPKICADyaEiE72hsMu0hpobsAo+y7wegKvAnTCLwGjO67gr+iu4iZSruVLwm7byx0u8GXs7t0yu67dMTDuxPSVLvy6Xc5f+0+O/yIuDuf+QE8GbUdPML5RjyFrEI8yc4LPEfSCDtt0WG7WRwFvHU6F7wnIwi80ETJu36+abscCp66S6LrOk0voztU1BE8Q5syPLTKPzzWsDE8HwMUPCQE0Ds606077IGTO0bFcTsvmgE78tz3OWpCYTlt2Rc6ghOiOjLqxjqwjck62s9+udHe4LqD/QC76BoMuuipYDlT95g5ffiBupJ9g7t+afe7NwA8vFHmdLw1t5q8KFKpvLMnmbw3pCq8TLmeOh1PQDxK/5c8pmGlPJ0skTzVuTw8tGa/O5Cvvzk0Ooi7bbIZvEcGWbwkAHK8/plcvOW5I7zHkNC7pSZau32COLsvWzm7PXMAu2lbEDrF2kA7QQqXO9bWvzuV8N87rEkCPLcUGDxaRys8cCMhPDdeuDsV4YS64wTsuz6SKrw95zi86QUWvEyju7v84bi6OJAvO2+S7Tt4AUA8Rx12PAE6fDzkbUg8abvuO9LfDztbgxW6RKDBukQYEDf7eUM6ZDHCOsLx2zphikA7TYOFO7cyojtwmpY7ao5HOyyyHjo04Mu6sHj1ukM5gbpLdvW4qCPcuvvCirs3KgO81Y09vNGhe7wotZS8/mKwvMlxuLzzuJu8Dy7+u3ZT4jsgI6A80ZfZPA1u2zxO9bU8y0BSPDY0gTvDk4a7W2guvKWgi7yxZ6e8fSunvKWrhbw4FyC8BvtMuxnLuzqpOj87jkMrOyQZETt3LVQ7NRaFOzWMnzv6xrU7i7vVOwBm5jsGDgM8zlwHPC5c1Tsw9tM6p1uVu385F7yC2DO8ImocvNnJyLs4b7q6lw5XO9I/7ztX0i08tWlfPA7eaTyIlkY83j/4OzgaKTtaEOq6jSF/u7IwWrtkxru6MBQzOmdRPjt83Lc7ywL8O0jMETw/XQo8NoHqO8Ojkzu0Oqs6aOoZuzbNmLtnhr27YUrEu55Vz7t9geu7jb0RvKgCOLzXpWa89t6IvMrMmLzBxKO8foOJvIJw/LsFENU7Lf2bPAtG3DwOjN48s5i2PAeVVDzeSUs7T4G/u0LeVryvv5y8glq/vC/1ubxwYZS8GyoivM2pDrtcD5g7w5/iO+KO4TtDi7A7+KasOzaLsDvC35s7kvliOxo/HDsxEyY7NOBcO1iOpjvaxK47mGhUO8m0cLp4T5C7hs3Hu1/ynLtVLwq7hn1ZOsNHZTsNfcY7KNz/O9FnHjwWRDE8WeAgPHKsyjuFM9k6GdkKu7AYc7vCjRu7j1bNOfWIWTvuA7k7+b77O3/JEjzoXh487q4TPOYh4DsSJkk7AXDPul571LsarRW8c+khvDEKGbx5zA68iHkSvNNpH7wdbzq8HjZOvLhqZLzBCHa8TsJ9vHXDObyvOFi6Gt1BPBXXrjyIpcg8d7a3PDgXeTw2jqA7HhiZu5RlQLzFsom83guovEFGsLybdpW8P3E8vF+PZrtY2347waMLPE0jGjz9bek7ACqnO8ecbTu1wRY7OwwaOmSvTLmsghI4PStFOuDcXDtMGNQ7YdIDPFc9yDvzNhE71MCXurUaIbtmASG7RgSuuq0uwjn+MuY690RAO3GemDucWOI7QUsHPBO8/DvqiqQ7GdO7OsBelrqx9fK6vTRHuXpBMTtqW7k7p4L4OxnUDzxJOxk86RQPPKKz6DsmHX07JwN/ucRyqbtuKRq8jGU+vMJON7xBCR68RqcDvI/61bu6IsO7yFfYu/sNCryBmyy8SDBevGSfg7zNiHC8WcLBu7D61TsoA4k8LiyuPDb1pTwJM3c82/PQO9tE8LrnXgm8/FdavCHalLx3VqO8k7+TvOnxQrycTnS7R216O4nmEjzomxc8qVXfO9ukczuigCM77yVyOroXFLri4LO6rBXZuUSBETt7/L07xpQbPK3lMDw37Qo8jDJoOzczHrrWYzG7ZSxPu2i5NrvfS966Rx6WuUJyoDojB4M7aw/xO/hJIzz6TRs8McLUO19kMTtE8A84zI1Fug7uBjlfPCE7la+IO14dsTsd5MA74ATkO7qa7zubYNs7id54O+bRZ7nzKKS74iUVvEobLLxpDyW8CYQIvHlJ7buBvNS74zDfu3BNBbxKTC682V1hvAkQkLzimJe8PH1QvHAJt7g1P048LqmoPJbLujzBbqM8r5tMPFx8PDttvaq77989vDRcirwdOam8MouivLUSc7zha+W7/ThVOkwN7Tsnvh8843wFPMsmoTtFATc7fyipOmooAbpaZ5q65SBbuYKk+DrKLJI78ioAPFqjPDwpkj08HfMAPAGSSzu+YHO5fjUdu/vfirsM2Yy7lHM2u3+e4LkVzQQ7cmO8O0v6ETzP6iY82KwKPFvvsDtEjgg71lb+ud+Dtbqb3BK55EoMO3PMhzsll8M7/wn0O+kFCDw0oPM7KmWpO2P99DpKs/26VkzZu3ueILwpkiq8nuIYvK+T/rt+PdK76sq4u3DD2Ltrmxi8toJSvN8+irwryaW8Us2fvC0MNbyawB47KKN2PJAetjzHVcI8hu2kPNggPzw4JAQ7CvrMu+jhT7xWypa8SyCsvLB7nryKv1m8dV+ou9Z8SjsHFxg8aiA0PEz0CDxQ2pg73ocmO4RZVDrvVkC6TYhfuu4Bujrmb5k7d18EPDi+Nzx7UE886JckPGX4oDuTu8u5I1p2u0houbvAzL+7xeeIu1+mrbohAvk6sCKrO4TLCzwjGjM8m6wyPKT+CDy/H5w7W8mCOgirpro43RK7UIuMuiuLeTp72Fs7vMWtO99U5jsa9/47zRTtO6S4tTtf8yw7FNeoul2nvbvb1A68Pq4hvPwHGrx7Vwy8VjX9u+gUAbzbuxy8lUpMvOmFeLyciZW8rHmjvOUqjLzeB9S7iy38O89Emjy0G8g8aV3EPOW/mDxylQ08VRyQultRErwuD3G8cy2hvLaEq7xNf5C8i2QrvNZCALuxUro7L0AwPI7xMDxaxPg7UnyFO8uLCjuuQe45uCnDufjiVjlMFDM7JdCqO7rjBzxxZDo8gh9JPAHSETyv70M7k5roujfwlrvnk7S7PWmhu2CaM7uk+/+43SQxO4uCvzsSYRQ8vuAyPArLKDyXrPE7talaO4S4LLqqCka7pg9Fu9OgM7oSJAg71TedOy9Y7DtvHBI8esUXPFM/BDwkdr87+JISO/6mS7sRzw28gOpAvHiQSrzcqDi8tEQnvPiLDrxQzQ68dusivHtgTrwitHS8soKPvFDmkbwkYkq8/G/iuQbgUDyshqs8qGnEPJf6rzxbiWw8yt1qOwXlsruFjk28UOmMvLjpprzzgp68Hl9lvI2MwruDkCI7gXgYPPX/TjzzgC487q7UO7t9LztoBhg6yj5ful2rlbpOeiI6pUp+OyV84ztjsRw8rls4PEeFLDzg4sU7g28qOjgjR7vfH4+7ncaSu5vQTrtjxl262y0BO5s9kTtFv+g7LccWPPwjIjzE5Qc8d5CdOyW5mTr7ruy6yKk/u3sGArtlbG86VuWBO3S22jvGygo8Y14ZPAhFDDzxYdQ7q39bO8bzb7ouxdO7NKMyvCqrVby101O8njlIvBoIN7xx3Sa8IUcmvDf4PLwQlWG80TODvO5ih7zAcEy8Rxsru2dBJTxHPJw8d+64PKmNqDzQznA8nK2gO47Dl7v15kO8ShSFvFJBmrxPIZi8nj9lvMrnzbtjAgE7ARMEPIrJOzxRgCw8nJnYO9UqEjt8pZa3jeOguhQTsLoPpMa4OHRgO9y36Dv1ESE8dz42PJYtKjz1eeA7rs/OOiekAruCTVa7Fcg9u29F/Lqq2YK5cJHcOo0WbTtRsaM7JjHKO5d/9jt67eo794WeO9yy8TpE6Mg40kX6ue12OrkEt8M6AR52O2C0vzujfOY79i4BPPxy+Tvtocc75vRIO6OBUrry8bW7o04fvP9/TrxJlVi8yB1QvE67P7ygty28OQgnvKELL7xUf0+8IsdyvBd8hbzA+Fy8v8ifu5V28Tv44I08RsGyPIbipzztaW08xB2tO0fue7tlBi680axuvJeDiry20Ym8cEJcvK201ruD0F06RYzZO3vdITwLiBY81v+7O4qfzzr+ec25lWWiuuKlP7pkgjA6gIZ/O9/28zv8tig8vI44PMa/JjxM1NI7hmOcOnuDHrszmWC7sN4Xu7PNirrdsg86M4juOgkvRDvpLH477N+mO25x1zvnzdg7ENifO3AiDTt4Oog6swBJOoXkqToLjBk7zwJyOy52ojsgAbY7XUTKO2uQuztMZY07bcmrOlvVCbs6vcW72TEQvNzCLbxP+DC8TcwvvIcXLrz9tTG8wEozvNt3Prxug1y8wRiCvM6mjLw2p1e8abl9u9R/Bzzmro08s8uvPLuanzyCdls83OmLO1THd7vXHR+8mUhVvBemcrwgn268DEU6vOhBwbuGD3E5OrGXO9FP4Dum3Lw7ckpUO5l9Ejpad5a5stNMuYGDgzqnsFM7PobYOymPHjzaWDc8ONkyPBvpCjyCf4I7oLYtukdJa7vzhWm7XH38up6XGDnYQ+Y6yghEO0YubzsHCII7lvGSO7vlnDtBvYU7FvYiO18MsDpzLqs6YUsvO2nthjtyn607SWW0O6p4rDusjZI7/S6FO6WqQDsvFaU6ve2YukxTWLvTHq67Q0/buwid8rsgWfu7w7oEvOk+ELwwhRu8b50pvPE3QLzg2ma8P5uJvCwxmry46IW8a5oMvBX8bzvhYWI8PvmkPKaKpDzV9oA89iUCPIsLETpNF667KswdvCBoRbwvkV685ro/vO/oBbx2IDe7dEobOuafWTs9MGQ70usKO4AKBDpqPc459lGaOlcLLDtKtJ47dmP3O+QfNDzhak48JKtDPB2lCTzByXQ7DuvBumo9kbvlFJi7fFQquxDrwLmVZ746mhI3O0c/VztNsWU7scZtO+b+jztaY607Kq2oOzQLjDs7D4I7vVKJO26ijTtlCXQ7Dc9IO41/ATtVGMM6IpC4Oo9c/DrsP906sjAdOgj4lrrO7F67baeSuxNwubvmR8q7vNnvu/ntBLxRWx+8o0w3vOMZVrwM7Hq88weSvKuHnrxxyoS8UlIAvN9BhjsGlGE8tX+hPM29oDwTBX085ur2O/wJLzrR04y7frvxu1TmIbxkJDq8wZwkvGXw+Lvp1Yi74Ebuukt36jif7Y03F0+luUfcFLoEv6E6O5BnO+Qjwzsa3gY8fZQsPM8uQDx6KDQ8XEgZPEHqyDuwP986exsxuzlBjLu1U1y7modyulD7gToTqy477gRlOyl1aDsdHFU7eYtMO4PAdzuTeoI73MaBO8sxfDs66JE7dbqjOxfgrTvE9Js7H3BUO0OrxDrJerw5G1YZOvN6njpghNA6SYZeOqKujrkquwW7otNTuyzlgruFAZi7jmzPu5n1Brxaiye8ugVBvHrhWLyJVXe8eSKPvIbFmrxH1YK80bwUvJEmqTporDI87tWRPDdAmDxqjXs8o2sXPJUXVTtMALa6fWqeu5Rr9bsN5Bq8BIQYvGf+CLyEQ8u79niLu6nFJLsuTQe7AH2vuiCAy7ieTxI7+fGqO/2iCzxLATQ8XgJAPF1LMDyaWhU8bUXkO2+Kgju/1AQ6+eAZuwKdQ7vBdv+6Y/RlNxp18Tre+Wk7tr2AO2/DVjuatxE7GTEPO6nRYDutrpE7wjukO1WDqDuWk7Y7ytuwO5MPpTtVI4Y7tTsRO6AgFzmn64q6HcVNuhVnrjk4A/I6VfMgO7vUFjuCG1M6Tc1RumTVFrsoemC7qBiwuwXcAbzWmSm818RFvOwIXLxERHW8v8mDvOAAj7ztwIi8gI5LvA5gmLuOIoc7y3lGPGmShTzD5YI8bIpOPEIbATxDkC47eHK0uq0DmLs34Py7GCofvE0eGrwejfi7FpK2uzT8TbsSxOq6NV5Cur3+CzmrjRU7BEaZO5PIAjyJZSY8JdsoPKVADzz8eOE7kqOyO0PEVjspPbU6p/zSuX5vRLrP+hG54HXgOpuxYTu69Z07C0ihO85efzsjTx87z9LiOoytCDsCoUA76z2BO1nXlDtQAp077tyNO5bggDu+TEU7ZzkEO3UlEzqWPJO5GCOiuRvWRTqbXQ87WV5ZO/3aezvRQzg7BmpUOgjZwLq5KVe7Y/6ru62D87s++B68LyE9vDgbVbyVxGO8m1ZqvCILb7yDyHG8l11WvBcPB7zkEdW6RO6bO2eqIjxs4Eg847E7PEplEjxNUKw77HCxOgGhDbvumKS7zmf5uxprB7zUoPC7+Lytu0+PN7tmoyu6FDZbOnWC8TpNqEo7s96HO6aIxTth2eQ71WzaO8mwqju5B4M7YB89OxkRCDspSP46qf35OpT/FTuCBjU7YwSAO6AvozuGdso7Y7nBO4lrljv/VT87e+nDOt72OTovlpQ6gYssO5kRZzsFenw7nutrO1zIWDtVnTg7LJoKO4n0lTrtFPE5ejUnOjMTfzopn+46i9FBOxV2bjssVkc7xgaZOnlfgbp9wEW77PWhu8xL6buvVBO8kX4pvLyoPLymo0O808tBvH4AQLwfEka8ypdDvC9XIbzSyb27/nVyunp2QzsMics7xkn5OzOg5ztP7JQ7pGLZOoC3sLnguh67/k6Su6W/tLtrNpy74yhquwZz57qb0285aEbhOvinJTtTG0E7XNR4OyEFpTtcg8I7J7SrOyShWjtcor86QAYXNkPsAbrpNLS5e+WVOq+YNzv/2ZM7nzfSO6V7ATwvrAo8IZ30O8qSwTuXVmI79ge1Or80oTgVMJ85w3mvOuLAETvbfTA7pp84OwlYPzuJ/iE7biQLO5A00DrG5J468z9UOhqCVzrl+uQ6XaIlO4WhRjvQih87w0+ROvrrirmrDd66WmFqu9BLwLusBgO86pMjvFn8Lbw9hiu8I2QgvM8hGbz40hW8z7QYvJdaHLz+Ewa8NuC9u8/rO7v7w4K5ezToOrJSLDt5py87M7gWO3eKjzopEx66HrwVu8ajYLsIdXi7Insru5Z2MboYK3I6rQonO/Ukdzu4dJk7l5+hO0pGozvqN5k78WdMO8ekdDqfC4K61Kbzus2FA7txYT+6tiS4OgmJdTs+wcA7F/ryO41iCjyeHAk8XDr6O7HJvTvX7V47HH22OpgLcTlmQws5ybdhOipjCTs7Siw7Np49OxFKRzu+7UU7o9EiO8Wy1TrkQIU61nmYOdmlbzeM/nQ5aQ9hOttRwjpOptw6cdKZOpY31jmiI/K2luNzuheNTbsxqbe7F8/wu7LXDLz14BO8CyQJvKJf7bvVjtq7owPau2KH3bsbTee7ecDkuywOzbt2Q6i7r/N/u5+FPbsAEQm76r7futGKhLqAcFq6DOXDur13D7v8hRa7JE3GugXnDLokkaU6wZhHO6yplztdkrk7DPPMO2ZpzDtbFq07ehdjO7ePOzoh1MG6dx85u7rDRruD/wW7Up9PORk+QDvSJag7zujUO4Qr6Dth8eY73mvQO7qwnztawVg76c0GOzQLvDo+nrY6ryoEO9YRPzu3J047zak8O9EnHTsN2g87WqGvOn1bQToWwLs57bWUt6+fJ7nYri845/NLOtnUszrXLM46YzOSOscWUjqNSp058crfuTAS2rpOSU67G4qUu2vNubsvicC7qzKvu04nkruwP4i7jnCMu8PxlLsKgpi7FtGSu3k/i7vDWnO7Q6ltuxywgbtYNou7nvCIuyzEgbt4go67JpyXu5vRpbsjI6a7KV+Ru/KxP7vqlUy6LiOnOqkEejv3lr071uTzO9LcAzzCnvY7gsm0OyCKOjuHNO05dVvqus3CKLsQNgO7GeiuuZKClDoOeTQ7+iJ6OwwpijuXYoo7riGAO2awajuGXyk7f8XxOtmj8zoj1yc7rfFIO6KOXjscTmQ7IB5EO+EcADsUq2E6lNfdOX4eXrkxMYq6XpPEupkWmLpaYwa61o4aOFXrYzp07cY6W3XZOsduvzr4RNM6NBO1OuEw5jkFpJe6sVBLu9N4k7vYn6y77Malu5ICiLuk0k+77bkyu0TYHLtr6Qa7OkfdutB4x7oB1r+6GtGiumjonLrIUry63R+4uiQbjbrdGbi6sLQmu6modbsp3pS76f+iu7KplbuSoVO7dGqKukyyYDoPHD87yB6XOyF0sTvT4qk72dGAO2+7FTt1g+I5WCVKuozRxLo3IHy6F5vlt6DUXTqq68M6yGHuOsJKAjuOSuc6IyreOi6A4TqHz/o6LjLvOs8iATtCUic7aS1AOyLYPzs7azc7aTAdOxWc1TpH0Xg6hl/bOVqUDTloU2+5VKosuq4zZbqzDD+6diCPuejjcTjGdtY5tFkUOontETrwHVU6EK6SOnazbjrmRoA4G5SSul84KbvTA2W7NE15uyvbZLsle0G7LgYfuzjr8rpufL26Et2OuoeBgboaUIS6VbCbuo5qx7qdK/a65jjwulbOyrohzai6wqi7uoKk3rr9ZQ+74+khu77zGrtgieG6m2sPumB7STpuUBw7gcJxO5Ofmzsr8KQ7FXiXO8ocZTv8gu46CyGCOWkvI7rLbje6dA+0uZ6VVTm6okM6zGmgOtL8vzp+rsk6ewrPOiU92Dqmst86LgHZOoSB0zpgIOQ6LMr4OjCqAjuS7eM6b7esOlWwTDpiJcA5fYwIOfyunThQx7840LvUuH7YprlK7m65nI5iOLrWVDm3sJU584gMOTWSpLjlAiy5l88MN8Y60TgXnKm5WVKvupnqGLv3W0a7sZlgu6hrS7us7iC7xdznugDlm7qXTDS6OIPLuSDSgLl5StW5eBMzutPcqbrdAgm7UHseu2PIIbthQg67YjX9usBN5bo4yfa6NnH7uutzALs0S8S6PPNYuv6IYDpcDjE7LPpXO6dHgzvj7JA798yGOxPORTskqA07+X9OOgDdU7mOibG5wWMsOG/88DkiVHo6sbrIOv+x1DrIe9Q6HHTYOni2+zqBlAg7QMcTO6TOEDvgWAQ7sHHnOhKC5DrDRsA6RB1kOkjebTlX7im5gsdiuUUWQjdlAxQ680x/OvT0gTqTImM6Ggk3OvAg/zmILU853lmruCIIxLl2WEK6B0Y6unxSL7rDp0e6e7yqugIvCLuXaja7nT1Hu9gOObvbBxW7l626urlvUbpbr9q5UPyouQzG1rl/FDi6bpJuutchvrpzsv+6KzMLuwirArtJWcy6FtWZusfca7oqnIG6wiPGuuC3BrswGgG7/Ne7umdbxLkXvWw6FwEPOwe4QDvIWVc7+ftdO3DjTTtljx47YDCvOpsOzTkC8ei4gNQmOeLbPDoYNsU6RvUCO3ekCDvoSug6QkrIOh+VyDoinsk6Zn7BOgQfnTrsToA6GmZEOmm5PTp8Mls6Q3JIOqkNyDnUS6W3TqMdud2G/jgXHjw62JG2OhDm2DqDjb46IdCFOq6L3DkHWb24NLwbuvBziroXFLO6lGO6uo27qroP9pW6umKgugoCwbpxTeu6rxYEu+CA+LrE+8S6qNheumx60rkMk325P9/2udHsbro2GKi6L2vEuvn837q0Ru+6eLzxujGPtrorMdK51BrwOOwzvTnHQrG3I4meulsFFLujtyG771PuumCio7muaM86WEstO8QtNjvA0CI7NOfnOgnltDqyCrA6bU2cOsh1kzots6M6faq6Ov9jrzqpK7o6hXCvOulAkTqTqYM6oD6UOqULuTqdEN469PjqOoQ4szrLzBk6u9qtuCIbpLlMr7+5DxtDuVEDyrc2gLu34SD0OCMPGDodFKc6WcHgOtEU3Too8oY6VRhMOZ4XAbra5Ym6EpKdusmdsLq2Z7q6/Sy8ulVpwLrreLW6oPmsumL5oroo26a6R463ujUisLounoC6Fp0UupUxpblNsJO5Os35ucUVV7p1E7a6eZALu8SpL7uhV0W7j1dMu/2zALvJWBi5Ss6YOgqIBTvSueM6xxOGOd2tvbowuyG77Wwdu1dlf7osWn462U4YOw0NNDtFLhg7N4XTOiIRlTpHdqc6jX3OOrisxjqW1Ks6v1alOnGssTr2Rb46gqnZOjHo3jowQro61+iSOvh8kDqZm7E6+462OkA1ojpEIzs6lLCpNmR+/LnGABy6KPavuVgFqjdbc7c5zIwCOu6uIjo6JnA6LLGLOp/EXDrL2sQ5oIKrud/qjrqQGM+6Y7Xjukjt1bpYg8e6ppK8usK4srrrx6u6d+2jukNgn7py9Ja6EuiUuqEeh7r711m63voKuuBfx7niRAW6G1SLuklJ8rol8By7gd0ru/0eJrvAPRG7unbjumM2nbqcpxu6owaWOPPBMjp08nU6LilIOqY3VjlLagW6tLuQutEVgbqIVuS5jmULOaKVNDq8FoE6LH2pOif90Do1VQY7qBwTO43UCztu5Nk6NzGVOu73aDqAEGE67X6cOomFujoL2806cRmvOjFNnzodOnQ6QqWKOsmLMTqdu1461s7jOhAfQzpF4d04tiRsOVicVbiN3aS5M52VOa9/IzoTh306G3f4Og7J9Tr8Az06eZb4uVs/8roblU27jYtbuz8UHrstDcC6pHpDuoyGRLloebS51ieCugGrvro9lry645rLuo7sorqbIDK6H/aDuR4prbif3fO4bus8upnt6bpfYSa7JmVHu6b0R7sU2Cm7hvX8usjxpLrAvR26Rf4hNglODzqpvHM6/siEOkVxNzqJjM42B+Mvum6kkbpL85q6mUZduh0Ih7mty9k5IJyAOsUxzDoyhAU7ljAROwEfAzuszbs6CmdjOrtB4Dkcwfw5czVfOjIEtjqfSO0677fjOiqwszqV+og6H9NcOgctBDoE2Eg5Xs07uL0KD7lgtqq4ZKCROQDaNjqFP3I67FxZOgs6azp4jIE6tOVbOkp5Rjrg/7Q5EjOvubWrnrqYa+m6k+YAu0cO37r2iIm63EAFuqmcZ7k1lUq541/fuWGFV7pOAJW6V1SuuqpDuroliaW6Cc2DusgGQ7pcKgS6fEwGura3dbpt5dS6OT8Hu+fdFbuMhxO7qWXsujUoobo/ASS6qB0BOffyWToPAac6rdiqOrkZeDo1rAo5mDpbukvRtLqmH7664GqBuqgRHLlCoBE6w1SSOir7vzqgSNs62abtOtkh4jqvyLA6Akw+Opq6jTlS5d04nImVORQ1Njpah5E6drClOhxmgjoVcEY6rFoROgWL1jkAlNI5UgrdOYY+6Dm5uvc5IXT3OYE0ADr9rBc642bfOVxOiDmX84Q4I/m2OLZU2TcTXPG3InPIuXF6OLopgZy62qK0uvO5uLrZUXG6ovMAujibvDieoTs7c78ZO87j6jhcYTS6Dtz6umffSrsihxW7lAimurOEhrrZmTE5U7TWOZKRhbrH3xO73qU0u8hWXLsevk676mneugH/FbpVeYW44kFIOrT5hDoWX2Q6/8+TOr8DiDqTcRs5GfqcucAX+7lqe1a62AQrupJ+PbiW/Q46vRKdOjG77Tom9RA7+ZATO21tBTu7dLI6yFw9Oi2mmTlJu0y4oiO5OMw73TeS6NU603kVO5lJpzo6EZQ665gPOvamtLlDc1u5+jG7OR3vGzm78VM6BPqbOtKJQjqsdAA63t3WOSrldbkaGQC6Ui7GuS/fl7nM26w6sjRgOpE+h7pj8Ke6lre9uoys8bobxEy6B/4nublv3LkB/lu4aZUbuPctorq6w7u67tyrugRtxbqiq766E9PmufJKNjvE+Qo7r4QOOu6C4TcRgOK6wr0yu2rzmbpQ1JW6Ro3zuvo3srmh6Ku6xyCUukSNWTop2pk6aKxFOj4ChzqkLJE5S2lyujUriLoPZ6G6mfucunKPlbmVUzY6fr1oOhW5cDpxm5w65HSWOhsLsjqUIPU6/0TUOkdVeDrvfdw5SQfSObXHNzpfEJ86m77POuRaxTqG1lo6K5etOrnivjqIJwk6U60sOi0VhDrvmqE5jtWNOXQkFzpAqrc3IQc+uYtQ3LkPnGo5COgJuBzbG7rd/IU3u7rNOLJuu7lDy+K5wygruiDIpLoik1u61NaJuZpoh7nVj+G5GDwiuucaSbp54aO4Ow+POSn4MzjXukg4xaIQuSvuJbrve0O6tHi7uXzeJ7rWVSa6a9xNum32p7qnw8y6AG2cun3HoLr+Z3S6+pxhOlAHsTosk2I6Lda8OhS5aToOPmW5HbBVOVBP9zhSrTq5motlOOM6ADqBf404sEVMOYzhPzpAaOo5C5VcOoowfDpAIG45H+UguU5v1LhDHaq5LJ23uERKhzoVMb46XEx+OlLdfjpYbXQ69frSOT9fDjpYZ486/3+COmkqPjpe7U46JnMDOrRe/DlIG3I6QkFKOk8FDzofTLw5ntMOuaQFT7rphyG6bUJguUZC2bmZiOK5lOULupOINLpjXku65V1mugY3ObrEAR+6YktDujstErpsJUi5JdwGuUPHyDjmAvQ5rUz9OaQBlDmWMZy4M90JuVU1erg6C9i5aIY4ukXwH7o7ij66/zZuukMtS7pk4wG6E/Egujos0rlMOew4naY4uApynDmAv0E68kOiOTjoPTnZ2hI6k4LqOFVQAzgSTRU6WLQYOht3FjoImTs6xqEMOuN6qjkm/Bo6nBHZORyx0ji+2eY5vjpLOt/mDjoe7k06Tk6NOpZdEDqKBi86lc0lOquYg7lpxL652rYoOsPKiTmgD5C5kRcOOoWRIjmTYhm5LH4BOmlYYzlAacO5ZLJFuWh6Frqmd0C6J9g0uCtACDkvWvu4cxVJuGUGUDnWq2e5Xec8uhGCJbpbP126e76Qujz4Qrqv70u6eWsRulOJmrYHRgo5ObCQNG7WqzkPFJI5PvM7uatQkzmyYKw5kcU7uNFJhbju1ca5hTufuoqfi7rIFDy67TfRuQMa7jkmxAk6cgblOCWpG7cTw7y5ySQnuh/ipTlnATU6gbEAOg0rGTp6ADE5Wot8uAiG6Di5XAw6PueuOe5LBzrs0C46V+QVubFrA7mOccY5784ROoSeEzpyXzo6T6NGOt/5JTodLp45e3WfOUFLnjnJWga4nTyPOMd8kDm2JQk5kvQNOmPF6jnueyu5ARGquI1gpbnL9C+6Ci1FupluX7oLmqa6lGmSuswG+rkWCqW57sztuFOKqDgZs5u5l9YUulthkrmjSgW62u9+uj+HIrqfExe6xqv/uc8VHLhWs0O3sLmuNx+FeDkFXpk5qtotOJZiObhFbdI2TYhUuen5o7lnQty452cut+FdPLmlSRS5PxrDt4U6hLm1ftQ3z4OBOT2C3DgeYjw5al2COWK/qbgNOV83vu2IOTGOWTdDhIM5lAsGOkJoZDmTZPK3ioCTOY6yZTlY4Xk5R524OSIWAjmtYsI4o2yGOTEpfDlgWIg5BkMCOiU9gTnTrZS4m3HCOBly7TgZjii4meGJOb7FtTkaSr05phzOOSsnHTnjmpO4rFi+uVR8PLrzzJe6qyawugDZqLo7V5u6TPN3ujR797n/34y55cfOuaDRhLlzO1y5xJyJuMPtorjrDW65vDnDufbtJbqOkhO6X5PKuRwIUrktXpC2/R4kORXv8Dg5DK64O4zKuFydEbnbg5W5bwwPudPomTeH4bO49JUZuS2hDTnHZcg4Ufl5uLATwDh6GuC3fZ2UOONrVDmJ++Q3WIFtt8EU/jgbPqQ5BxQLOgZrGDrz7es5knouObwRAbata4g5PeLYOS74Czr2pwE6DzlkOe4WxTmZdI45i/gLOa5nijmp2Mo3Ic9luWkd+bhvcFa5D9YFuo+bB7oQbZ659iCEOT50FTqb+gg6BOEQOp6HtDkskt43KwBYuUlwi7kE8Pe5Ijd6uiC1jbrOKY66Y3CHuu48T7pr3QO6nHa4uVjCsLnhmfG4/1O2uGIBWbmI4oC5yx4GukQWN7q4azO6AdIDulxzqLnpY2C5HSOluXqxAro0i6u5sLSYuWL1nbktN6e47KE4OEdcmrhZ33+2LFaLuJr/+rdxmro5G6rsOTiKozkK+4o54dzgOevnlTkgB6o509gHOlj57zk/kg46wGAoOj9qDzqzirs5CTZrOT9i4ziuPX04bKgsOc3c1Tl7tAg69QECOuI68Dn3q645szFAOSlrxTgXi1y4JRisuY/gvbnTxrO58xB/uXDgTLjTvbI4YbCdOS+W3DlgEfU5Nln9OZxX9zk611o5dj+puDFPgLkOnOm5KHlFuhJUW7oFpZK6kVarujowU7oiHt65hRQgOb6G2jn9BBs51l2AueruqLm1HrK5eVD1uRpJkrlZ/3e560e3uUR94bkrqCS5h+2KuaRoaLnVcWK4si9vuYcuU7m550W5a62quY3F57kmNv64qnCFtgTQTriUlnO4FqfQNgK/qDiJTsg5f8XjOYH3ajkp7kQ5cbmhOb/sCDrCJDQ6XHNeOptNyTnJhQY4xKpUOBJWGzmOB5o57DM8OmGiYTq9Mhg6ErAPOhAXIzrzbiY6Cs8FOgrYcTlCRho2xJTZtMKeijd7vd03Rye5NiDguLeKD6m433CkN0UgHjlcu5854VW3OahHNDnlxVS2lllqufd+orknbg26J4UNuljaG7qHhVi6e+MpugbsmLltF6C4n7uMuArvprgWjK25w/iduRn7tLmZiNS52SqUuTWEe7lJbVW56rCEuSBmiLlg7p25iaXPNwOoHDkdDSI4J/X2OFGEyziGSLw4VGxZOQY5wjlTvGU5Yd/zOHpzNzl9V3M4lOTxNwlzKjm8iVA4/DxROPg6EDrbNU06dMxbOmo7hTrd2Ug6NCvmOWnwCTryGXU5X3yluL+5XziNWwI5pPEoOJvWqjn5KDM6Pu6+OcGw0zlQfCE68VLBOQhb0jmDwfo5jV7mOJnJzbj0VY63ulhXOCCA4DdY3mM43KRXOPjmcbg2AUg4VgqoOIK/HjdGIpm40pY0ubeN0rlxux26oI5RusYsU7pBpBC6g4WRuZyNWLmsv6u5rKyzuRAZlrnBdHa5ftbfuTLGE7puB1G6LUBIum03DbqYFfO5pHEPuoHwFbp9GzO64x0Zuu2lXLgJWb04Y+auOAAE17bVyN24+UrMuL2uyzlMg845KMYEt8h1gbiFr0K58w9kNsGXEjof7G06OHBNOlFiZjrstYo6jGfEOufn9TrdzfE6pLvQOvtYvjpLd8A6gtCFOkyPejrXKUw6PxcpOuqfYjqGapc6/Z6iOoKaqzrHn6c64uFROjveNzrUzgw6FJ7KOdY/vzmpy8o5NGE8ORYWLTk7uFo5qCkJN4xqCrisCEW58PDhuQMgPLr0v0y6sb+UukQ0yboEuPK6AIkKuyAhHbtNxSO7VIQXu8YMErvVHQy7UcoUu0+XF7tNnSq7wmw1u95/NbttxyO7Cw4Wu19UHLsRFRa7eq3zujZ8kLqtouy5gWIIuM4iQjlrMRM6uJiQOiQl9jpRjyA7DHIqO8XeIzsQHyQ79jw9O5PlWDs5vl87dXhRO4BgQTtkzzc7/shHO1pjZTsCwGY7pAlUO1ILRDtFvTg7QJMcOzUEGzv+v8g6MIZTOrnmuTnx0jY5I9JmOTVPCjnx8XU6L9LCOMqnrjkUnxm4QbyduoAFkLoJL526QTnOusP92brDaOO6UXkruyIBJbsiD0S7gHY6u4h9a7ub/JS77GaGuysYg7vf0ki70ZNku3yRhLut+2m7KGU3u0TWCbsY5ai6n+KIukPWh7ovTcu59OAnOE1Knjryq7Y6JC2DOhFpGzqO7zc6+Bu4OlOs3jrUdd86oHqpOkL3XzpPPkU61727Ol2yzTpg+PE64xjDOnKDHTr1dkQ6t0iwOo6LCjs5FQc7c2OzOh5pdDpv/Jc6gPPlOl5+IDvgFRY7rUgBO8XYAzvlKR47g7dyO2buhTsZt2Q7C7koOzNz7zq7Ce06yQP8OnNfvzp1zzg6YIgpOFbNgLli9KC56oEeuqGHgrr9Itm6TUAYu7/nPLsecXa7MceYuzLHpLtV/p+7qYOKu4WFmbtxoLW7rzOyuya+nbsZuHm7+odGu5LILLurfi27VEAWuy8S1rob1QW6mhz0OIz4KzjdQpe4Un2JOSGyzDrCLg87lMQIO36T2ToFr1c6qEHZOc0HYjq2BaM6F7+POgeVKzqDHl84LrQuOYGzRTp3jcI6b7S/OqV+lDqrWo86AoiIOmzz6Dpnjx47IdwgO2ZwFTvJCiQ7ziA4O+yjWTu9SXI75m5fO9EJQjub3jo7mlVMO7OtVjvVmVc7e4s4O2I3ADt84LA6/8OQOififDrinrg57NUoul5Z2rpiJga71/oAu1rzIbsvAmS7OIebu4A+qrtwPZW7DIppu1QjdrshIaC76LG4uz0DrLt1AoC77Vg0u3L4H7tP6jW7kBNCu/JXErsQam+63hyNuPm2Dzjo6cy5ioiquZUWsDlhl6U6wlPDOlHgaDpeUIE4fjWtuWxBIznStS06/iZKOplk7jmHItM48knguIkambc4/9Y53ZRqOrPvajrxPSw6CvRnOsn6rzob2gg7quIkO1R3KTue1Ss7ItI1O/aTPTu5SVE76aRvO2OUajtje1g7o7VSOzzKYjsUiVg7BaY6O9CkDDvAOrs6G1GYOqm6mTqRjKU6mwRHOomqV7lD3mq6cC2SumJDtbrVdRO7RTpYuxmojbu2/5e7eqiEu9+CcLsyL4i7FnWeu5aIn7uzs4a765wpu4h/3rokFgG7meMnu24nIrvVveC6XJ4ruuqWEjjuqYO5L9svupNt5rlSlKo50D+BOq22ljp7gQU6lm2Dueas+bkw7CO5OVcoOWhwOjlcWz25QOAKuq4MALrq0wO65urJuBnaQjqJ6J06idVMOou2Bjpb6VE6Wr2zOjJo+TpZTwY7xlEBO+TtBTsFECM7EkxIOwo4cTuounM7TrA/Oz6AGjt6LSk7lGdAO+prPjso1Ck7qK4GO1FjyDpoi8E6SV7MOmKTtjrOFTo6st8aOFH957nAWD268yGXuhWB8LoIrTK7Wx5yu0HEf7skCV+7xIRbuzx3hrtnJJi7oF2Ou5HWV7vt3Bq7GRv+utWCC7s3FxW7JckDu0ePabolYns50mTPOVzuGzfQ95C5H7dWOV1LYjoipaU6kZFNOg2yQLnOZWG6JzA7ui2ItzikaAU6UwicOTdw3Ln3xTy6Jn4UujeM77jzJxM646woOn89VLhkjc65UXWaOeM3nTq0eek6HwTmOkfiuTqOY8M6rQsCO5btKjsIuUk7kW1DOzihIDvd/RE7zLs0O3ekVTt2K007E18lO2uV8zpZssk6UlvkOrtIADu8xcY609cjOs/HTzWyLSC5PGQSuXS2Kbp2fNC658gyuzWqbrvPLGe7T+AsuyeiErtVXFq7SxWRu9LIh7sQzy+7Jj/KuhDLt7rUQwG7nLkTu8Ev6brOGDq64kcMOgnrXDrDNHI561BSuV6VBzrWqdc60FwAO2QaojoudE45ET03ug0uV7oM5Eq5TMjOOLqRDbnZ/YK68t3CuiI5orqkAUO6+8FLuNzfUTn5yQ+5gDdUug2JDrpQBZQ5odGDOs4/iTrtjUI6H8ZEOrKVnjqcUwQ7nuUuO2R+QzuutSg7nxsTOyHUHztvC0c7E5hPO7fORTvmATM75iYfO033HTv9YSk72YwqO4jr7TphgXA60o2eOUj+EDjBcC65L4MFuviEk7rDEAu7bZc9uy6gQ7uBCxi7V1wcu2KIV7ssm3q7PbhXu45iELskG8i6gj25uqx85bq9YgC7rNzluovwPbq5+Hs54165OekqhLlD8gy613eYuFJ5Ozob1Jc60DUlOvH7oblGbIy6V4qOurUbBLpI83O5UQ5CurfPzLqwFgG7QT7zulQYqbr7jfm5Y+kxuRCMO7qGp4q6Pnn1uVPMGTrE27k63xbLOj8jsjox7q86EK3qOvQNIDuWOUg7+HZSO99hNztNPCg77hc+O5HSWzuwHWQ7gXBbO3j7SDv16C47S9EpOxamMzsBiy07IwwQOxRSzjpYDYk6TCIFOlkUgzjM8uK5ffmcuo27FruuekS7z39Gu0TZLLtFXzK7o+VZu1KtaLu9alC7KCUhu0NeDLtbKRO7KVQau+ChD7unPMW6YoEUuuulergGsDq5BiYPukcH3LnYYB45lmYuOn+A8Dmgo4q5tHOOurp+u7q5tJG6gZMwutKxI7qjm5u6Mt7SuuyN0rrvXqu6fpyOuguLO7o/VAm68DVbuhm7UrpXJZO595oDOgBIizriCKQ6cFfBOs1q8joA+Bo7/n45OxZ1VjvA0F87oipMOwjlPzstQE87egpeOyuuZDuZ+GY7a2NWOxOFQjuM5Do7iZQ/OwAAKztvegE7binLOt3jkjrWDi46TFhwOXFuVbmXw1K63hXbusAcI7tUWEO7eaRKu3QyV7sxtGq7en53u+paYLvJiUK70M46uxaBOLvGei+7afoRuwn977qKcq+6bKNxunL4NLpZUTK6Y1AJuioJMbldqao41OWlOIHymLmdCTK6o06dujpluLp8kaO6a1SRuuhCpLpZkLO6Bvqwugh/qLohMUS6rJKzuSWqSLkJL4+5M4u2uW86wjj3TUM6jrWpOuaCwzpuMc46EoP5OuyXGTtgPT87jXVeO8leZDvV21M7E1tNO8KlWjts2WM7JWFrOyq1bDtk0187FAlLOyYfRDvCQT07FKsvO19TFDs05dQ6DoWROik6Qjo+F8c5hlCytwK6zrmLT4S6HGv4urSnLbvLg0y7f+ZZuzTGZbvUvnK700Rxu8R8ZLs5r1m7iGRcuw/NUbt3xja7pxMou1ZsGrt8bwS71MDPupgxrLp9ZJu6VuVMuqQJ/rkjNdq5ZODeuYjz97nRdlG6U02euoeprrrnVZ+6TnCVuuQBnLrTK4m6mb2DukyDYrpcBiK6oLlvueJ/gDiilow5sND0OdP8PDoSDqY65VjpOjklCjvZkBs7ezkrO8N4NTuLm1M7TMVnOxjYajuwsF87uFNYOyyHVDuh3lg7fnpkO3wTYju28Fc7U8pHO6vSOzurCjM76kUnO09SBTsLXMM6n+ONOnGJIzqteg05vbK6uBG/DbrJ4b+67gkXu3y3RrtsOWC7bDNnu/nnaLveRWu75G9tu7H3ZLsBq2W7SrJguykLWLuwsUW7jEY0u17aHbsSi+66eBLHuuXOxroM9LG6eihZun8jDbo2Yea5j/EZutuTZ7qfBcO6BLXRunztmrpeWI26wS2ZunT9n7r0O466385humxS5rm2Tf64JB7sN2u9VLftcYo4ilwPOomVrzoSZO46QBYCO/GDDDvCDR87SPU8O7CGZTvynYA7vkN0OyVAXjuh5lc7pTtlOxmobztrRnQ71RRsOwjYUjuu6z077JE4O2LqQjuV+jY7nzsPOw7HzToInIg6tv5GOv8mAjri9G85qGXLuXIrp7o7uw279l40u8B+T7tek2q7Dmd2u8K3fruYlXC7Ul5eu2flSrv0OE+7yCNmuzh+ZLuV9ka7HTMvu6h+ErvfO+u6Rw7VukXFwLqJYIC6JHWeud0PdblIQPm5J9pPuhs0lrqPm8O6y8i2uobJrrqkd8O66F/Qun+msLqX4Ha6q5csui3F7bmI7au53iIluZf1VDhUIQo67GaGOuA2uDrSpNY69/oGOxiKITup+UU71gtlOwIxcztqw2k72u5dO3xiZDvXmG074cx4Ox+ZaTtNzF07ksRROyLtSTt8cUc7lG5NO7nPPTsH9h073vEFOwKt2Tou4L46sB2jOs/4SDoPOQ05BMCxuRDQabpyu7e6GDL/umubNbuoSm27Yh+Au1hrdruyyWO7UDdJu76nQLvWh2m7SYCDu84rcLvFjke70SM0uz49J7vKVhq7FxgRu6C757pgYJu6AolKukoyZrpLbJK6poqkurB9pLppar+6m9PeupbwAbuT/wi7F3H1utWMrbq6EVG6IVVBug93PLoBl/O5++/DtZCr4znbz2A6vJaZOtpovjrIpfI6VDgmO8dcTztepWs7jcxxO1qbbjsUBGs7B09uO80odTtyOXk7nix0O0MVZTvgd1w7GTBXO7BbVztuGVg7h+RQOyhzOzufXCU7xMgMO3jA7TphT8k6XQ2qOruiUTrtJI05m8q6Nf0anbktK0+6pinPuhKTJbt1xVW7E+Z0uwOscrv2Llm7mvBQu86PVruqNnC7GQaAu2boebvQaVq7RptGu35/RLuIti+7NGQVuwRF/bo7eOO6vpi9uot3wbr8yM+6MXC1umoXo7pEK866uZgEu0YXDrsutwu74s/xuunspLrauk66jgM/ugdNO7pe7va5nd+Ot3gkDzpAdZY6yxrCOtQO0zrVAfc6H2EpO7f4XjvXL3073wh0Ox96YTve0147v4RrO923gDvIKYY7R5x7O8ksUzuuEj87NpJLO7stXzvZbWE76wZaO42HQDu/tSE7ZsgWOz5bETstoAY70WjTOge3izoIGRA6zlkrOb9BObcUB6q5FEKSui+RDbt8REO7/VRru/aJd7uUS2+7aqhgu7IKYbuIMW273ZGBuwp8iLvLwn+7ErVxuwEKYLs6l0W7TXUjuz88EruhsQa7K/j5umeK8bqRfua64dPGum2nsbrrr+C6+l0Mu1P/F7uHIRC7bmz2uqEJsbpR/He6DVZdurSuQbpWVGi5r5jAOShSWDoybpQ6lbuqOg5+yjrY7gg7jiJMO1VedzuKHnk7cEVuO8CraDvci2Y7r9N3OwIshTuo9347yxxhO7vmTzvuSVA7TSFbO1r5ZjscUGc7z2BfOzG4Tztnmk07whBMO0LNQDvHLyQ7T+4JOw5J1zp4UqQ6pWJyOs62xTkl+kK5dItrujQ0zrp6ZRy7CwNWu6G7hbtl7I27M+qFu3ltersiWnC7WfWDuybbmbtKNKO7bl2Vu491gbtueGS7bHJIuzCkNbt1Hi+7yUQau44W87ptZt268trtur8z7bpAz+q6G2j4ulUp9rpfWOC6oOLlum6N+rrSvOG6VB+pus7SW7r4AJy5tb64OVu8NDr4xEo668yHOpw3wDo1kfM6M9siO4gXUjsKL2g7lLhtO4meejskb4E7Ctd5O4ASczvIo2s7xHhgO4hsYDsofWs7fkNvO1IWaDu8g2Y7P5x0O49WeztRtXY7n8pyO0kDZzt04lQ7tH1MOx4RPzscFyI7MFHeOsVGhzrsahE6Hx6otziaFLrZd6+6Wfseu9u2brucwI+7BMaau5lGlLvWJYy76hyHu6kri7v+H527YV+ku+NNn7tPG467etSDuz9Oa7sVnFC7b443u6qBH7umIgi7ilD6upTqDLvskhK7k6USu4TJB7ve3AK71h/tup/O57qPLO66GYTmurE9vrpVi4e6hTQbujuJJTZnUx861GKUOnbOszodGs86cDXwOt47FzvI5jg7JWFWO+BlZDszDHQ7VFqAO0FZgTvruoE70Q+AO1irdDujkGU72s5tO//AeTumgIA7kX+GO2Q+jTv1bIw7oE6JO3FegTuE0nA7VUBeO2wHUjtkZEI7hugmOyAPATsT/pg6KJIrOjS4BDclDwO6ep+luiI/GbtG/Gy7L92Xu1ehortkWpi7pTaKu2HChLsVr4W7vSiYu69Xorspb5+7uqeMu80KhrvZ3H+7c1dtu6uDVLu8Ozm7XIEeu1XwC7sz0hG7/kYeuwkkI7vudxy752wiu24hF7s19Q67Ow4Cu15c4boNrKy6LlaAukU6MLqIyV653KILOlaKiTqH3rQ6tcfdOgdl+zpU3hM726g6OycAYDvc7mk7oOxxO16uczuLEnk7fmh+O9jfgTumHng7PM1tO9HXbDuRBHw7XGGHO9xLkDsokZY7tquWO64HkTus94g7OB6BOwtWcjsAemg7NT5UO/1LPDsDBw07EvvCOiLjejrJRQA6CmbAuAXsX7oB/fG6igFKu7tVh7tGz527GnOguyZPmLskCJG7MxSSu/7BmbtGhaW7DwOpuyGYobuNaJa7xfWKuwsSgrsDnmy784Bbu3vnQ7uYqya7z8cbu9umH7v1tiW7/Nsou8MvK7tZER+7IvgLu+MQBLuMrwC7YE3jugACtrpHmYm6SQD5ubhe1Dhf9fc5VuVTOj5rnDr3w9E6+5QEOy2NLzuTzVE7TzVjO5mLazu3iHs7cLODOzXggTte+IM7q+SDOzoxgzsYYYY7I6SPO6VSljtTn5g7T9ucOxwzoTuBgqE7MlWcO5uolDuPh4c7dF9+O/A1dDtTEmY7G8JQO9HQIjuYIeU6cx6OOpUnCTpEWQW5wu2Cug7ZCruqdVe7L2eMu1r/n7s74p67xa+cu459n7sZXKm75Xa2uwmAvbskzbq7k+Stu6R/pbvjO6K7LWCau2c0irujt3O7x9NWu+t+PbvrxDu7gCk/u3iUN7uTgiW7iEAbu4GEFLtSAw67SkcGu3OX8rppKMK6f9mIugTRWbo1Bd65zCQfOEsuFzqsPII6IdOzOr0l1zps1fc6f2UfO+19RTthxGU74VloO+C9cDv8cXs7Q5uDO2tyjjsOQpk7SZCcO6ZLmTs8o5s7yEijO1Olrzuk3LY7WvW4O3hCsTvD66Y7TXOfO/7CnjuLGJ07MA2SOyyMfjtZOU87z7chOycP6DoVXaQ6pUYQOjtrrLmvaLa65GceuzpYYru1+o271pihuzWWqbs6iq27VX2yu/KfurtX1sm7S5PQu3poz7vI88G7o1O3u9y4q7uYPKC7fmKWu/azi7uVw3e7oqVau3gUT7sFJUu7FvFBu0wyPru8Tja7TSwfu2dYEbufbgW7zj7tuhQLuLohpZy6lHxZulOHX7mxR4w5zCQsOig4gTrc9Ko6e13XOs98CztISDo7NPFVO+U0ZTtwMnQ7pIuDO4lRjzso9Jg7uCKjO2EFpDub2aE7OgujOzgYqjsLB7E7lJ63Ozt7ujvT4rs71Ve7O7CLuDsml7E7vZSoO06KnjvH/pA7IMKBO68WXTsjsDI7EIACO229njqj5Ns5yE6nudhYp7ovtBe7Xy5guxblkLt51qq7B8u1u0dWtbuIF7m7zfvEu5dE17vPgeC7ubTcu7XazLuRXbu7pwuxu/IAq7s69qO7oUWZu55IibvmiHG7BAxeu7FfV7vGeVa7BCZVu/40Srveuze7fn8ku3tWEbuuAwC7y0vbutgRt7oRpnS6YnGhuTZsdjnDAkc6hEOTOiEKsjqet986f2AVO/wrPztQYWk7B2aBO4hUhTs7eYs7c+yUO9A9oDuCC6c7CPqrO8DJqzt+qqs75qqzO4lFvTv3tsY7RvTLO/Kw0DuCQtE7FajJO+QAwTuPWrc7LMCsO6nnnjtcGJE7D1d5Oy4rPjuJbAU7IxqiOjE5Fzqmche5ikyQuseUFLs602m7Cjqeu2B1urufZ8O7ZrXFu5OBzLs+J9m7ekHnuyuP77tbXee79q7Wu3AAy7vPqMe74rnEu35TvLu1Dq67Z72Yu74Jgru4QW+7hmduu38qa7uPyl+7wbFLu+RFNLueiBm7WBcOu/y+A7uF5+a6hLewukaIPrqKpzC4XRsIOhDejTrMBrM6IpPMOjTs/TqGyBk7iQZFO9O1ZztnyYE7oP+HO2CCjzsnbZk7WjelO+v+rjtHjbQ7b7G1OytAtDthmrs7WdnHO0Zr0ju4Nts710LeO4tg2ztn+dc7nGLPO8dQxDsBqLc7/I2nOwbPkzukv3Y7LE07O63sCDvPF6Y6ay0OOiK4NbkEuaC6z+Yku+madLuYP6G79cC8u51qxrt64cq7cIvPu1fJ2ruHjuG7rdbmu09x5LvEZ9q7qhXTu8M+07tlhdG7E6TGuz5st7v34KS7cn2RuyBfh7tXuIW7ZGCBu2h6crvCwVy7701Eu88VMrsxPye735gUuxzU+7o1ELq6e0tPutm2AblNb705vjppOlu5sjr949M6slH9OqzyETtqIzI70QBYO9LLdTuQB4U7usGMO0oikzuvhJ87fL+xOxo8vjt5vsI7+47EO4tWyDsEw887M4vdO+Ne6zt5cfI7p8HuOy/b5Tt14Ns7icnPO62Cxzt1Lrg7PxihOzp3hDviZUY7hqcSO3lewzrOb0A6yRKQuKerg7qoHQ67PH5auyk6j7shBKu77I6+u0y+y7tA99G73sjXu9613LsUjOS7Tpbmu7mi5rtPWOO7qgbguwqE37tfudm7IbfPu4Uxv7um9a67utWeu27ulbv0VI+7P6SFu4ZRcbvZP1W7Nq0/u74pKru2mR27L8UKu2eB17ovkHa63E9lubufiDkfwi86WEJ6OkchpjrXidE6HQgDO0xDIzsRgEA7PHRWOxYjbDtLoIQ72J6TOw0cpzuEFbg7D3XBO8+Rxztf28s7JmLTOzJ34DtP5Oo7bi7xO6SZ9Tvg8/M7rYnwOxa+6Ts7Et87kdTOO5AovTuMTao7RWKTO55CdDvpUzw7BNkIO8jntDpAiCI6pSknuSOae7pgygO7nFlKu98NiLsxXKW7OYC6uxMQybuUkNK7ELfau1nR4rt5qO6710L1uwFC97tDDPi7vUr5u6Wy97uln+27fYfguwGez7sl9L67Kkmwuw2dpLtb/pi7iGOMuycNfbvchGS7YMBQu4AxPbtoryO714P6ujzZrrqxXGi66OP9uZHMgDg1Sh46hLyYOorwyToACuk6E5EIO6jiJztyoFQ7pVN8O6eXjTuf25s7M+GqO5Ntvzuo7dA7bL7ZO70d3jvhVd47tbngO/tZ6juNyPU7lsX5O+dD9zvlqfM7kSHvO/PN6DvLvt872FLQO/4Ruzsr06I7zn2LO6uscDsLq0s7MP8aO1F+2zqZ8VI65TgQt/BdULqBZNu6lL0vu1u+f7tXqKG7j4++u0Pvz7s+Pdq7Qy3hu4ys67t+yvu797UDvKwoBrzJLAa8uwoGvMMzBLysoAC8W9j3u4MH6btNv9m7Ga/Gu04Tt7vHKKe7GvmVuyz+irt6yYG71Wdqu/LjSrs9QSS7xebxul95sbopBHO6ih3vuU7mNTnSBU46s86vOu5f6TryWw07n74pO2JLTTtBQ3U7uu6OO4fNoDukwbA7OcrBO6F9zzt0udo7FDLjO2/u6DspYOs7Lt7tOwI/8TscqvU7ABH6O//o+jtCpvg7XxvxO1Ih6DuXodw7v5PMO48nujvbFKc7USKTO7avfTu8BFc7z9QtO44T/ToTFJU6cGuuOVYuyrnHGaK6ZDEXu4kgX7vGXpW7U4K0u7xnx7ulm9S7PbTju0m48ruQvQG8fZEIvCo/DLyBrwu8kH8KvFNBC7wg2gq81WkIvFjrArwiTfe77wDku95+0bsr2MW76Ha6u/AwrLvS8pm7ZsyEu7OpYLtwAzW7w/cTu3iF67rcXZi60ID+uY7PLTnLfGk6OxzDOqsiAjtu0iA7DVdFO/o3azv1EIY7iCyaO6JTqzuTaL07P0LLO6Wr1TuW6d87JBTpOwWl8TuD//Q71k34Oxt5+TtCVfo7fwr8O8Z2/Tv3YPk7WFDxO1Tv6Du3E947HEbSO0J1wzs91LM7L4ueOz1BijtXzm47IUJJOy+jIztxPes6ffePOg5yxTlkl8C5vL6auu+MDLs0NU27IB6Hu4rop7ubSMO7bNLYuzY267v75/m7BlYDvOyDCbzy0Q28+kgQvBK2ELyYEhK8BVQSvCoREryt3w28xBcGvF7G+7sio+u7joneu23ozbvPALm7M1qgu0hyirtH12q7F+1Eu0/lH7uRluS6lpFzuhmKirlYS5M5iAFROnj1tjpfMAg70psyOwc3XTvz6II7Yb+QO3X0nTvrCq47CI26O9Xjxzvk1NI7xYXbO5CX4ztu9+o7tpnwO1cO9Ds/5vQ7QgX1O0JU8jsEJe87TujtO7Fk6TvwTuE7Tl7ZO6duzzvGi8I7QuS0O6NSpTsO4ZE77mOAO09OXzvTYTw7KvwWO6ZI1DrAIm0699YxORIe27lbIY26/Rbtuq5AKLuvGli7dCyFuylVnruT+La78rzNuxN84btDFvO78mf+u+qeAryrWAW8tQcKvNSWDLx5Ug28r9kMvEoaC7wRLgi8mdECvEan+7sQce27XHXau1g6ybv7f7O7+jadu+DThrvU8mC7yskwu4Us+brsOJS6Ym+6uaH8TjktelE6L2uuOvHxAjtvYDA7tQ1RO/NxczuBVIc73bGVO2swojsorLI7LbzAO6zNyTtxx9A78+3WO/xi3Tv1BuA7ByLjO6iQ4zt83OI7/L/fOwig2Ttc+NM7heDMO/taxjul1707W721O5h9rDt8pJ47M4uQO8RhgDsPKmU7lFlJOxIELjvEVgo70eC8OvsWTDp/nho5ep2iuWQhVrqjTb66MO8Huz9vLbsShFO7Qk5xu+R4g7teo467B0qduwTPrLs82Lm7cyXFu9PDzbsbV9O7bBfYu1Ps3btLbuO77b7ju3uT4bsdzNy7EqrSu19SybusWcC7zE+5u9y5rbuuRp67ifaNu+aGdLsa2k+77F8uu7X+Cbu5zcG6Vt1DutZ1wjYaSSs6CTSiOknT6DrK7hQ7xKA3O4CvXDtNPXk7B2OLO5QnljvHaZ47lzGjO8a0qTsdP7I7jIu2O4tNuzvmkbs7meG4Ow1KsjsIY7E7N2WwO+GorTvft6k7gImiO9c/mzsK1JE7Ut2LO4pKhDv74W87+lRTO/GzMjsAnRA73ebgOqoeqzrSOVg6PuqROVt2HLlCFiK63o6Nuj8Ex7pqugC7GAseu45AOrvEdlG7qa1nuyi0fbsekYe7SImNu7s7krtELJO7hmKUu+Ryl7tx8Ze7P0qYu2oIlbvwgY67kzuKu3pghru8XX+7bCtxu1mxYLtGoUy7uqA1uxqwIru/8hG700T4ukqYzLq8Q5i6jgxSutlb3rll67e4Arf/OGq/3DkB5VM6s+OTOgH+ujoQWdg6mOP1OpKUDzvPjSA7xDk0O2GXRDuFWFA7u9JbO72VZjuQ2nI76D94O6KXdTubr287lgVsO4osaTuP8WU7yxJgO77bVTu60kc7Q6Q5O6iELjt38yI7HHwWOyPZATsSRtY641GsOuEXgjqi4C868FazOWQLeThmQZy5P9ouus6keLqQhqK68o7Kuvlk7rqkIw27sMofu8DxLbuxfj+7/JdKu8zbVLthZV27tCdfu07BYrtxcGK7NtViu5NWXLtUN0+77ZlAu1MzLbtw0SC7QwIQu0xvALsVz9+6y3uwug8whrpdGDu6A5DiuZodDLlOpzk5R333OXrJTjr5o406rJmmOojewTpcANc6rVDoOhKmADvpgQw7vtsWO4v1GzvMph87r/YdO++ZGjtsDBk750IZO54ZFDugbAY7euD0Ohal4TqPH886vqu+OjOMszpeK6c6poSeOhMHkTogdIc6gwxzOgrPWjqOpzg6/JgIOhlwtjkTDBk5FOq5t6NGgbkYdNa5S/gfuvD7Y7q0uZS6Mnu2uhAt0rrrxeS6u335usUPCbvdIhK79m0Xu95IH7vECx27K/cZu3JxIbuXVyC7KRgiu2PAHLtxCxK7BcEJu1FZALtxgOq6VfzPupeWrLoNJ4i61Clpur3PM7qFYgO6EieJuS76V7cLz5Y5WQIROmTyPTpYaYY6flKrOhbs0ToZa/Q6m5oFO6bhEDt0bhs7dY0jO4aoLjuHhjY7Ts85O3EfOjvEQjc7Z082O/0ANTu2Oi87E9klO9CQFzst9gg7sMjyOi3Y0joulrQ6N2yaOq9mhTrZdEg6wvUaOirxuzn3+eg4Zz2suCG/qbkEQBy6b2NguhuqmLrwvci6kRjoulBWALtUxQq7CxwUu8ggHrurryu7QcUzu03VOrujoTy7mRw9u45WPrszlTy78PY/u+DJPbsuuzW7URkuu+92LLt2Zye7vWoguw9ZF7sJzwa7JDHxuppQ2Lryw7q6/QOXuuEBV7qnfwq6Osh+uddMwjeqc4453YcLOn8MYjpFJp46Qm7JOug78joVhAw7+dIgO0tTMjsNx0M7aFFOO/zaVjt96lo7EJZiO068Zjux0Gc7NcNmO2rXYDt8Z1k7slFUO0WfUjtsMEg74tI+O2ZxLjvl1SA7vuwPOyPYAjvHzOw6o/3MOiGgrjriWIY6zkheOrs6GjrXdqU5IhrWOHafObmyRR66yR2EupuuvroUNvG6jUwSu696LbtGaUW7Kwtau8rVa7sqGX+7UlqFu9T4i7u4io67seqSu4JWlruLOZi7+iGYuxshlrvIwIy7QICGu/nxfrtIq2m7roVWu3orMLt/ECy7KT8cu/og/7qSutq6Gy2fumftX7o/9CS6yW2BuUrAmziFd9A5n/9SOqBFmzqoV9U6ivwBO3w1HztfgDo7oWNcO4ukXjsGDJQ72keuO4fVnTsQKrA74Wq0O4jqsDuLM7k7vyS3O5eDqTuWP6g7Th+nO5w6lTs5wIw7byaIO/ZgdjvgPFY7tvA6O5NBHDuIne866Tu6Otm7eTogWw46pfx9OVILobfJHC+5x1X+ubYsUbq6VKi6X2rzuiGoGrvJVz271nJnu0psibs8LZ+7+B+4u6CQ0rvy/ei7fPXyu0qb6rtea9y7w7nSu1+twrt/tqe7wcuIu0wIbrvw3Em7RRElu8FKD7sSAPW6lMfUuv/UorpOTFO6t43muaeyM7kpKsE41n4zOqUggTrdfGY6fMB3OuRrWTrhfwU6o1B3OZCMADnUPNc3bD3ENZIL9TSviGY5f0Z8Ov/d9ToDwS07PBteO+2OjzsTN6k7mWCzO/2atzs4Xr07jzW2O8wKsjuXSbM7K/KuO36RtjuPIrs78ES0OzGosDvNoa07QH+cO9U6hztRr2k72QBKO9VfITteHQA790LcOmHEvTpggJI6U9QtOlp34Tic1se5gGeHugS7BrtYPUu7CIeHu/PAprtKYsa7c33kuzz8Abx2mBG8tJAjvHHiNLzAWUK8N1dDvEUtLbwo1g68tTLzu9RKwbsCu227HpG/usv45TdPvWY6yG/EOr0d+Dr8XQ4783MTO7reHzv5dj47qGM/O4VAFztI2fc6hI8LO4eu3jrIIBM64+2wud4bk7oDZ/S6TNIeu4R4LLtBFyC7mtLtutNtjLrkEKC5xnlmOl4dKzuSUns7Ug2aO0HGvzsjL+o7cPoIPAE0EzxgxRc8T14ZPNemFjy7wQw8JhcAPDqa5Du9E8c7BVmhOy2TdTuTUUE7vPsJO6n3hzoIywE5NgyvufdZ5LmXGIu5dokGuD5enDkg8CU69Mg4OvoEfDnsB/e5fIqqujBIHrv8vIW7jhDAu2TS6LsxiAS8gXIWvIQ8KLxC+De8DGFJvNXnXLzdNHW8pgB4vPmFUrzBmhS8Yay8u1s7Jrs9Kpk6FR2VO1cd2Ts1uPI7T3n7Oxp26TsiIb47o892OzslFjs3ytc69gxrOqaQFLrG3Nq6xWcAu6J2MbvYgIi7Soaiu558pLtzq527N8qTu1yhYbtOpKS6GXq5OsoUfzvdxs07cL4OPIClJzyHHzE8vRgwPP+TMzxzMS08/7kYPFtr+DsLCco7yE+iO08IdjsnADY7t90KO2Xl6DrLw5w6rgNKOmU7aDpME5k6qMeTOqNyeDr5lLE6mkAQOyqgPjvmWWc7rqB3O/YAfDut6kk7djHOOuJl/7l6Vhi77zmIu5iGy7u0CwK87DcYvLavJ7yhxDm8I8FKvEieWrxw4W28zNqAvFdyjbzXuo+8BBRtvCyR8LuFv+a4+PCTO8vTCjz03D08JxVTPPqwODxweAg8EumvO+eONTtMyny5a0Euu64+ObtQcey6L8QQu2m5crtiPZW7fSWouzqk3bs2Hgq8atEAvLyEtrvJlS27wuNnObK3ljtjCyE8W4FjPMe1eTz4B3Q8EklaPMDhJDySJcI7XPY3O+Mc/zoX3wA7eZfkOoNk8zrRGz8709aAO97BXjtbsAI7nmKZOs+7MDqCaGk5sv/2OYIPAzuXx4E723CuOzIoszvHf7o7wO+6O2XOkDsGpBI7RSoqOvFDj7mcOsu66hgyu9SDZbsaOYS7GXOcu4TovrtTa+O7WEwDvJulG7xtMTi8eJVPvG30WbwCWGC81EprvE2TbrzmLGu8vGpCvO4uwbsvFfk6hY7gO89iEDz2ciI8xsUnPJqqEDz90bU7cPJTO3LS/jovlKA6TZcsujsm8botM8u6sUX0ugbnjrvdIuK7vjP7u3ZFA7z5eQK8wITEu7r947rW60I7SUPiOyhqHzxX3U88C6RwPOn4aTw1Rj48CQoOPEX5tzuB3Ck7k4orOn7bGjrej8I6vDe1Oobp+jkyuo24kufsOYt1PDqxHGo5t8B2uWxlFzraWhY7eFOHOzhdyDtKugI8KQILPMJG5ztUbaI7+/NCOwemozrCINy5CKHYur4X+rr74tu64dvlupa9AbvXFRG741hLuxzaqbs+IO+7DGgOvHhwFbwIfB28hvgjvPZjJbzDeym8wvkzvFpMSbwMg1C8K2dcvBNAY7wcJUC8RFKQuxuknDvYUjE8zYtgPDAQdTy+FG08l5koPCMmpjvBEKc6P1jguYkuE7uuAY27NJGOu2ziM7v0ExO7FFp+uzYJpLv+xqW7bHytu0RiqrswnRi7PxlFOyk/BjwIQT08XWthPElAfTxk/no89ztGPKVL8Dsx90E7f1hSuqVtdbtI9Je78wpWu0zVzbpjLCi6Gy2bt3FDNzo/vZs6+mw7Ojt+2jnQ9/06I8aPO0HEzDtLCu072ncKPMBDDDwQveA7AO1tO2HM6jk3IQC7CGeDu+2iqbuN5Ki7sRhwu+d2IruxGQS7lN/cujR8ybpoiDK7NBOmu25a27tMw+C72mzYuyqZ3rvDY+W7pzPeu+Yt6rtFegq8xSclvLKfOrzIuFS8czdxvEk9ULxU7KC79xe0OzEXTDyM4X887ySNPC8+hzxKMzs8qxWWO47EmDkw68C68SA7u6dfmLtfCJO7eHAYuymqnbqwUCm7U/mCu+HEhbtW95O7yOqYu8rlELsYxEo7TP0MPJYQPzyFXlg83SNnPIg5Xjy6mCA8tTuUO4tqhjnQ6ym7giKmu9HCyLtpe567b7RAu1sSk7q1wTA4ZLCvOtVXFDuu6h47CDXrOt+hBTvaD2Q7hi+lO0vdxju7ld87n/LeOwI+nzunqMw60zvuuiD1jrshZ7y7iHTEuznEp7vmQli7HqDMutcnmrm4b9w5Jbo2OqOyLLnxYxa7MFSTu57hpbsSBJe7r6+Cu6ZXfbtyg4i7kfSpu1mz77uDyx682Ik/vPH+UbxRy2W8/65vvEbwNrxLqP+6ZRUZPBTSjTzVtKk8VLKlPOrjgTxL1AU84+dVOp9iNbsiKUy7v349u9HVfbtPAoG7pzAcu5i8wro3uSO7h5Bzu/k9k7v6+au7LDCeu0NumrozfrU7vB9EPPjmdjxa63Q8dXRYPOt3ITwRjpY7k+ZDul/EkrvKGt+7M1cCvIZ/ALwnibW7zKQMu+ksrDkQv3k6nPd9OjZihjqXIaQ68QkCO6PxbDsjN7k7tk3UO/yuwDvVKJQ7PblNO9mqlDqUZcW6l2yKu5r8urvYnr+73XGcu9HYGrvSxzg6cAlaO6Y6kjvw0os7d7BJO7DWozpRi4i6aK5Ou+b/l7vdq6C7YOmGu27eP7s1TSm7h6JuuxAqvbt2tQi89vAtvK88VLzy/Ga8a0dvvNDBUby1XN+7Q+SdO85ZjDxQ5cM8nkLCPEVNmjx4IEE8U7BEO2I1fbt/I+e7VkO8u8qQmrvu05m7JlWEu1xg37qLYNS5cJztuqKbertk26e7lEKhu7dJSruCFtc69CwBPPhzTzztcl084745PIdoBDwwmIk7iozcuVVIoLv1IgO8/lwUvGqeEbwlAeW7bQx7u2G037m2wqA65W+5Ov0Hujos/Qg7tvdlO/inoDtRmM87drHdO/RZwDtJ4F87nrhyOoVne7r3ICW7aOCIuxEHqLvtMJm7HDA6uxQLa7kMQi47oaiqOzSBzTt8Ubg7KllzO4AK2jqVX4A59OMAuiWzmbrjP7a6MbjVuvZDy7pIyKS6VBCdugt6/7qidoC7gwDZu4ZJHbzP6kG8gDFZvLuwWrzDqFK8EmEtvPGLdbtI4wM8/U+hPDYgxzz2FrQ872CBPGOQ+DuAYs66YxYHvGhNHbw28uK7otGGu26SVrufCQm7YcnLuUZNebklPSy7B0usu5s307tPOdO7M5eRuztx47eTl847goEzPPPaQjzSmx88rcTYO7VrOzuS0AG7E0LTu4rAE7xdExK8VuX6u117oLvQes66GwjjOs3PTzu95z07ONvcOvYBujqc/zQ7lzaUO3Tl0jsWH9Y7RQu1OxC7HzuzUDG6JTNxu2IOp7usfK27mHORu6Y9HbsHW745Y9eGO1e72zsJqwM8W+b6O7QK0zs5ZJI7spVCO1XKCzsePvo6qkjnOluWUToY9ii6Zh0Yu4bCWbvJ5Hi7T12Hu8B/pbuzXM27IV3+uzfWGbxzyS283CQ8vCEZPrzlY0K803UZvEEgwLoMkjA8HmSjPMJEsTwAhZE8zPE1PAPCQTvh97K7hrYcvAI1C7xklae7U7qDu8tNh7v/yEm77jKsugCtyboIXWG7h06Lu7e8iruhI4O7O4I1u7SOsjoqUeA7zqAhPE9hDzyJtbA7wN4fO97hy7nCCFq7w4atu5jusbv1Rpy71Kl8u4LQCLvT97A5SNIqOytrUzvcoyY7Ok/dOgW+1Tryegc79M9IO6Arhzu6PpU7sx1NO0ro3DmR4dO6gsIHu2Kqr7qxmPm589I1Oj2UJTv7yZo7sd/WOw81BDwpaxM8V1YMPL/e1Tu6c4I7hRT/OmXRKToTP9S5r5bOuuA5K7sTQXy7OeivuwPQ0buGs9i7D0fEu30Vw7ubc8C7yjjVuzQA77tx2BW8ej4vvIR6P7yV3D68TM4AvG7VeDpHnVY8q6CmPCEUqjwo0Hs8iakOPDgWyDlSwei7NfcyvG7sIbx2fOS7j/W8u7ARkLuv6A678LKXOdNmBLpBDzy7lRadu1utpbt0O5m7JoI2u79z1zri7+U7FV0pPL/kJzwxLwg852CzO7Goxjq8q1a7Nu3ou3gsBbwTbOa7o+qTu2wzprrrJgo7g2iTO+inozuxApo7vkSMOwEPizu3e3o7TdFrO70lZTusemk7hlQ1O6ZTqzpqIJk5Fu5LudlyqbnJpx26cROMuMm1vjrn9X07efXEOy4O+jsaIQQ8on/mO9FWnjvceSc7LM9yOoak27mARgi7bVZku04ih7s1yJu7ruSsuzIsurvSt6m7xr2au1R/kbuzfqm7OxzRu8xuBryP7x+8u9UwvL0hN7xNGTO8pbwPvNA397q3DgY8QyyLPDELnDzSNIA8y44TPJvLqTovD9K7Mbs3vPTLMbwF2u27JpmAu2+aI7sQNce6XPZMujmu07qarHK7c4Odu6ahh7tBBS67I4nRuQ23gTuaKx08b2VWPP7eQjzi3v87r05COzuzp7oHw6+7Wfb3u92S4bs6O3q7fH0Zup6dDDs+JJs7DsjKOy8BvTu7jWg74NIeO27aEDvWYTw7leNOO98yiztYias7fbqaO4iuHjuBsQy5o8KruumlBbtY9Q+7sP3puqEyOjoCi3g72YHSO5CT9ztsggE8EgDmOzyGnzt38xg71RaNOSB1wLrb9W+7P3Oxu8iC0rvjVdW7LQLbu7fK0rs/6b27lPiWuyIMf7vuoYO7Lwynu3Z69rsIQSu8T3havAV3brwb52y8bIAmvD21D7rrrkM8jNClPHinpjxP3nQ8nHfqO5esNrpuIQW8ePMxvJOYCrxrPXC79Km5um48kLqUyiq6d8K0uX3e57peF4u7D+ucu8MuZrsP0pm6Q+TbOkVT1jv+6j08d2pdPNVOMTwO1r47pL2jOow7HbsquKq7PvnEu/U0hbuGfGS6/iLZOiwZXTszlZI7uWmOOwjAQztAhdY6EmjHOhcvLTs39nk76KmaO9/2ozucj5E75yQYO18i+Lk28im70JdbuweWQLvRhfW6YV5DOaHaMDvU/rA7gnHsO/YEBzyNmgA8JrjEO/4dPTvpiuq4AdIhuyG2jLueJMa7hoH0uxc5BbxtNQS8NR/zu0Dxw7ubF3a7R3zautdyVrpz/A67LXeiu9dJDryxrUO8nNppvF6wa7zZWVq8QPoXvEDqN7qq5jg8lt2lPBdlrDwAnH48aQn4O7yEjzhmdti7DWMWvFtU6bu0PiK7bgoFuD1GJrn2FD26bspburZdA7s1L4a7FgKku263bLtyU4C6pUgOO2fE5Tu6JkQ8ubNmPDdsOzyMMc07EYvDOl8z6bo/04y7NqOmu2vveruP3ay6XM0MOi2Y2Tp4ex47+xYnO9210zrYwck5Jc1XOULDpzpQZT47ZnaKOyosszuAALw7VEyMO7DumDouyb66kDs3uxf9NbsMXQa7T4M3ulLGmjrj3kg7Z6qNO6/nkjsXl3c7vKThOjbCFbr8QhC7pyMzu+3WRbuJT2+7M/mKuyUglbur8I67jg2Hu5XMUbuuywu7JRRgursaKbr2aPu6huabu1XLC7xd/0C8NWppvHWWd7yDSHq8NCtUvH1dyLtBm847lwKZPIqhxTw6Gq08k4pgPHoItzvK0hW7+nf6u0cACrygsZy7nx/lurQNqrooCfu6XXefuqgpgLqSwTe7QmmWu9fFiLtJcfi64PFOOriYmTv3qSA8cD9bPLOLSzxYgQA8Yl9EO7dfl7nOGj27dyuZu7d4lrs3Ti67hPIZuhS9GzpBSJQ6OhmvOtZVQzqSvIK5+4NJukY0HTkiIx07xqabO1jIzjsOu9I7Hr2cO8+knzpFSCG716Ceu2ptqbsZhZK7AZ0/u/XCZboMHME6h8dsO/uBmzs1K5874jF0O1MYBTvg/I05dwsBuv6wfros4qa6zwYRuyFSVruRk4C7Fk2Nu0P8grvvCSm76C8tunMfxjhpUJC6JjmVu4m6DbyLjUq8kwZxvJ6kgLwot3W8hF9QvAOF47tAUoA7utONPDx30zzdNcg8nPCFPEUs0TuLzBe7keQRvB4FLbxC/dm72zWJuoWA0zo90WE6kq6iuS0NwboekYC7K5Lju7TQ9Lutipq7bOMFukDqkzuufyo883x4PN2deDwuOyU8exBWOzNiz7oJD467BaLCu/C5wbuFXYe7xtvpusY2CLq+56q5eBoUOUfAQzo8Qfw5HeGCuRxFIriab/M6bjeHO8sXujux+sk7cpKtOzHKKjsbxpC6TMCJu3ANrruYX5+7xaCBu99lJbsKX/e3KLs1O1w2oDvzcr87RNnAOwYrqDst4HQ7wEkJO/GD1DkSsIa67Bczu2RtfbtCFoi7Uwdku5kHJ7vFR8m60dVLuldDSbof3BS7m22tu0Q+FbwKBlC8Jq12vCzugLyI4m68sVhHvECi1rtYP4U7BqOSPJsY2DzEwcc8XnR6POzsrzuLoja7yskPvHnaIryFrbG7PpVPOsuXMTuAHNs5reQau464jrvOWeW7Sm8cvIR/Drziq367RsMFOwvI7Dv0J0Q8jB94PKQsYzwUiPU7yyFhOfcugbvE7Ku7zAmuuxhdlrshPiu7stESumpDPrmY7l66ExeNuvAbULo/AIm6C6OcuqpuejlVFF475C/XO4qZAzwmOgE80wK9O8WOAzuvryC71fO0u/8Yybtwr6i7Oap7u3daErunTf22nwAhO8kPmTtu7MU7vUngOzUl3juQJMQ7u1GdOxCYXjvxYqY64VvLuml0hrunnam7hoiiu8LbhrtWD1G71kgKu2ic8LrEWle715zSu0ptI7yLdU28rY5ovOtQabxqFFa8qmwsvNtzt7sKFJU7CXmRPLi70zwwp788+u1jPGTfijsYLlK7DRQFvFyoE7yXepe7gb7VObvXkjrMDxi7FmW2u6f047uAyAy8ALEgvCP39LsmtrO6Y6ehO0fXHDyfglQ8UJBwPA7MSjy/TME7dLi6uW2cSLsoh027bXNKuxr4Rbu0OB67wAYEuyzEQLt50JG7qOqRu/R6MLuMqfK5K4HZOjUjmjtFpwU81cgjPC5SFDyeGtQ71sJiO5MxYDlFnT67PT+eu4v9m7tj4na7vB5Iu7zjG7uDGiu6DuEHOwK+lDvQCso7O3LwO6MJBDyV+fw7SWrPO82YhjsCqas6y4wQu0lZt7vA9/S7Cbvxu0qDyruKc527mZl8uw7+d7sh9KS7vpPxu6PaILw0KT+8h+hMvPsdS7wx0jW8pmITvBZDNbu8hh88vfq9PEf63DzpNZs8R2DhO9UWIruRmAC8KhUkvFyt4LvRywW6PK5bO61weToA4Iq7O2Dgu9C++Ls5kRK83UkTvCxRkrtH7Dc7AOIQPG+oSjxj92U80DNaPPwhBjxntoo6kX5Ku+yrPbtoZq+6HLS2ug2GBLuCkSS7SPJPu7ppkLtVN5i7qjk2u9Pe8Lk98FU6LaUKOwY0tjt11hs8X88yPFhHDjzGDaU7yGTZOsatjroFOD27CoFKu7dXC7uZ4g27qKdhu4JEhbt47Bm7PLdNOn2AbTud6sU7R0ICPFh3DDwCOfg7y+u4O3RgcjtvR006SbhUu5oj6bsJZAi8VFPou3lwqrvFuIC71HVgu+IXZLtBv5G77EK8u3MX8buveAy8O/UhvLFQNbz+wT28EKAwvMZ0/rs0VGu55qJBPPzasDzb3q487kxDPO9j9joErH67D8O+u/JsorsOO4a62+d+O6iMqjsZCo46UDaGu7S+4Lsp0Aq8pSIevL9PAbw2RvK65LmdO4X6ETy/NSo8RqMpPACzAjzu7k07GgwwuhQdJrrL7tU6uu0zO2cB3TqSV6Q5m2dNuoEPK7swM5C76Zqbu8QzVLvz8cG6l3A3ObVUKjsqIcc7fDEMPC4pATxJ36Q7bOYSO1wGETqqyti5BFTmufKVE7ld38W5pLoRu7JFibuDeoO7wRW/usPq3TrXQ4Q7aR+3O463yzu4EsM7yxSjO6wHbTsOpaI6S9fsujzxmruSncS7mZywu6plh7vtp2W7LEpsu8JIibuwja27E3fiuxviDLxfKye8OnBAvCdwVLyShFi8lpRIvORECLxKChY7WV6NPJFS2TzDdLQ8WowiPDo+RDqXHCW7cpc2u6GakbrnRFI7E27TOyxbdjsuWWa7WCsPvIOwJrxtgTu87QlLvKDfDbzs5aS3tHIDPLhNQDwdNkk8A/A1PFnd+zu9Xi47NBhDOmjyWju5u807fVCnO7iegzp3AyG7P8yjuy3A47s8Efm7nu23u9IyGrumJ/+2dpyxOuJaXTtGfLE7rNe1O0+ZgTuxQDE7SOhPO/PVfTshXYA7Zj85O5+XbjpP2QS7aWS3u41/77t9qMK7enATu6dxrzp9BY07CmTOOyZH4TsO7MQ7z3SUO9yWWTurutE6Pjw4uuHoT7uitIy7Q+KUu1Heo7uZ/sK7AlXHu4juqruGM6C7fYG+u5KA87sggRq8ur49vP6QVLzL6FG8QigxvEa+yLvRRZw7ln+aPNKA1TwkeqA8yyL2O6r+hzX5crm6jl4UumnBxDoCj7I7FGrbO+UEBjuEWcC7ALUmvLN0Mby24zm8EU0tvJBcnrtedoU7IzEhPDKLJzxB3QY8H1vNO83idTulvOo6DTJgO2wg+DsGDxE8YVmiO6JJFLog2I+7HTneu52XBbxrBPS7R9mPu4bIp7rLhZs5z5C7Ol+CMzuO+UM7XyjNOuqqUzqQ3CQ7eQGyO6614DuKNcg7/p5+O2cTUjkPaIq7Tavzu9wd8ruckJ27T12puho48DoibZo7OcfMO6LdvTtfbpU7e+SBO5S+hzvG0VE70smmOqIaKLpDQgS77FF7u1pzvbvAFdu7A6nIu36oorvNIJ27w4y5u2gr+LtPVye8lhFOvFTQW7yzSkm8aEgrvBWx27sBRmE7Cq+TPEK70jxvWZ48M5roO7lN5zmRH1w6bURPO1uprjvQR/07l9LjO7hZHDrHTPe7wws4vJIdM7wNJzi82cItvADMmbuEUoE7JbMLPDqk6jsSqIE7ruHrOiQj2Tm0kJs6cz3DOy3tPTwnokU8tx3ROzPdrrnV25K7/RrVuy9e4rt1bKi7YI0Wu5KEU7q0w8e6y+sVu4W9+7pdi7a6576+uutpxrgJqpA7FcMLPGORGDwSht07DLZfOw2sUTmeAia7MXl0ux4aNbtKNEK6E0UauBJYiznBwIk61gr+OvZG2zoPwtE6r01tO7ExwjvNkMg72qZZO7nhgbiG8Sy7qCuRu9eDpLv+VoW7FWUOu7C8xrq/EDi7Qvy2u1V/DrysDju8TVNWvGYeUryNGDu8AN0evDi1+rvpKOS6R0gfPPH5nzy1GZw8qOIjPNeLdDvW/4o78qTlOyny/Dtgwug7jm6+O4KFuzqpw5u7ti8RvFVyGbwDjyS8NO4zvFul/btK2Vq6r+1zO95YJjsDmiG5rmkNukF/XDoYmGo7BdYGPOacUTztGkw8i3vgO23SeTrjIgC7Kp5cu5zBiru7clK79wdiusO49rb9xQC7cB+Hu3y/krtgTYi7LRZeuxiFAboK/oo7LnDvO2Zh2ztCVZc7ElY7O4DKgzrNFYu6FXTjurUjVbmMRqg6uKqdOtSYFTrSRIw6RbzrOm2PBzv6cU87o863O5Yg7jvxW7M7TL3aOjkW27qaYlu7XXuEu6z7bLsfTRS7nBKiuryA57pd43e7hRvLu+DLCryrxCq8IEg6vL1gLry5UxK8WJv9u1m5/bveuLa70RENOwOxUjy8vIo8Lt08PDX3ljtjPWM7/0vGO22b6juIUNc70VvBOzVHjzu4eNY5pZ1pu3aRwbtRvgO8+zgvvL/MJ7xfr5u7jxcbOs7Npjqo3Ye6tUsEuwghTrpEHcI6LAGlO5lpDzyAJSA8wtDkO/D+ZztS+f46WFSwOpnfjzoUu8s6XJ8ZO0ZfpToT9dG6dviTu1B3yLtskMm7Izacu4WMzrrkxeU6HvhXO48GRDulcC87dY42OzZoGztq1ww7xlkvOy1hTDt0ajE7rqj+Oj7c/TqAMRo76eobO5EYITtxUmw7XK+lO9QwoTueSCc7AXk0uor2UrtrFoS73AFsu+raSLsUvC67HpxJu93Ug7tiObq7Vmryux2aF7yf3DC8TKc6vMwYL7x1VxW8MKQIvL9Tt7tryCw7gfdIPORFYTzPq+g7Zo8vO6NEpzvNcxU8h5QmPAY/GDyYtfU78wRZOytWALuipqO7lLW8u+kG+bu9Qx28MYj3u99SMrveG+G5R4j9unovYrvds0K7lneOupP9EztizOo7d+MqPLATGTyjXrw7av9GO4jO/Tpd+6g62RG5OkOnSDvlo4o7+s4UOwpR37qFVaW70bvWu8iIx7tWl067lg6KOjd+Xzu02Dc7HMeAOuIGAzrMt6064k8hOz7XZzvhcYw7qEt7O7GKDDuII5Y63Fx4Oj++YTpW13A6sjwDO9Ncdzv0j5Q7w3mBO2FWLTt5s4Q6ZcKsupk2XLsz4oC7yo86u/wo/7qvoyu7qY6RuzY14LtrGhO8E3MsvPrcMLyv8y68e5kuvAcPMbxWSyq8jOzWux7+GDt8zD48amdVPM2a6TsqzEc7G9SrO2gJGDxYDDE8s6spPJVDCTzxW387qVGeukpQeLsXk5W7FtPZu/hnDrxklOW7pnk6u917l7o2cEm77Keiux0mkLusoPW6hlcJO4/m6TuC3iU81m4YPA7w0zvQbow7u7UvO0lmdzqQ3oY670NmO15OqjvbVGE7DREjuV0sbbtQsMW7wcHHu2c1SLs/JYY6MgtHO4NdAjt6srA5sCyXuPc3cjknRak6Sl9YO74fpjsQR5c7VotKO65D4zqxQRc6hBLhuWEcF7oCyJU6x5haOxNrgDt240o74oUcO57ctDoFfii5b67WuuaHMLuRQza76MUyu/HFPbs2n4q7ZVj5u6lyMLxkMEW8lBc4vNGMNLydXDy873pBvOpwLbwGA6m7Zlt1O+ELMjzgdSM8EFyqO7FmfTtBOO47ZR8yPM8DTDzV7lM84i48PBYG3zuHDrI5+MuJuxcF27saiQK874n4u6c1qrtXMFW7UvGJu+X80bsWuvK73Z/Qu5+bUbs5gN06qZngO8lRGzzurBY8Rj/6OzImxzsFfp07n+FkO3IOPDvvFG87FT6jOzyeoDtXyCE7VXkAu+Usx7uvcOO7D+eFuzxoELqvfI46N0BBOv/sqbkPq4C62Hw/urUJUDrdyDc7/V2RO9rXrDuJALc7z2ecO9XYFTsCki+594BXulGW/Dk+QAM7BDkXO/9DyjqVSBo6JCjctwJJGLqhMbO68NQdu5PJR7t7DG67NBuPu5oYtbtncwC8pessvGDIQ7yVxDy8CygzvMknO7zV/0K8bh0HvK15UDgOUeU7oU7wO/U0fTtNeE47u1HCO2TZHTwygU08FrFqPGt9ZDwaSDU8GlnqO9zXPztS7gy7/9Tru1J2BrxasZ+7mMgTu4aicruMKe+7YjAivPEiL7xmVxK8vhqGu2oO4DqrJbA7jvDbO+aI8DvizPo7wLPqO4w7xjtlcbY7xcvEO/fO1Tu6vs47eACqOwvPLzvC0YK64kiAu/2Xk7ulbTa73O9gunDm+7gyuXa6WLUguwgRXLsmkU67ZCrdum8atTn/TUs78Zy3O7X40DtdBK07kdNXO5nA5jq974k69OCzOiVOEDuyLzE7GfgKO2trZjq9ib25sELmuoCMSrskB4K78xWCu5bUg7uSgaS7iFzcu36FDryFJyy84d1BvOjWRbybyEW8adpGvIp/H7zPRWG7sqZZO6BWqjsqmzw7u/7ROnQKZztXIdw7tOYgPNLeUDzoaWw8PU1cPFTJLTwHXwI8iYWgO9B9QDptoy27eDA+u/RTnLocWVS6VWVAuxEs1LtI+CC8HjZBvDdpMLwTg9S7v8bLunzYyjqo+0s7cM9pO25UNzvi4PM6lVMgOwWYlDtGN987vvwIPBC8Czwka+w7iDObO6vVIjtKyaM6SCsyOmR95jnSWH066tr3OmmPwDpFlSm6lXVLu42mkLvPII+7KoJDu+OYK7p4YfA6Ffo3Ox9c9zqnqn86bx5ROvJ8SDorIK45fJ/+ORiW7jrRW0c75sYkO8WNCjrtz6+6LWkru7s5TLuHGja7E9slu9hyXbvGfrG7aXb1u+8lEbwxxiS8D6U7vI6hPrwbngq8AVlhu0z1j7l9Gq84qtFDupK+obqD9GS6WCs/Ovt0bDuxsOQ7znUZPDGtKTy7Nyw8EiYfPArU+TtoUaQ7XL1uO2IJZjuVRFc7zNgjO4sr+jppyYs677+CunE8gLtE98e773bVuytAr7sGvVW7fTiTur7rzLhqaHW6P3Mtu6keartlYze7JnqDuio4jjoJVj070wl/O0qoejsPZ1E7eiYtO5z3HDvZtRM7RfkRO/3ZODvynXc7l7aPO+TEbDvpees6Rv9/uOCmjLp7QIe6SeeJubJz9jnE/f85BvCLOQIiKDni3Cs5T5GRufDOobqa0Pu6v3PdugzzcLqOV+S5JO8xuv5jz7o5USe755Aeu2pws7pVjTi6q3+IusGQ87oVJxe769kSuxgNIrs8I2u7FAyMu4y7YrtbS9q6Lpcxul3vg7p8uf262qAlu9zmJru/Uw27ZbmEuoOoGjqTmvI6HkQWO43AJDt9EkI7VhBLO/4ZMTs83BQ7GWEVOyI3IzubGxo7XoYaO8U6NTsSM0U7PzUKO7sUezmNi6e640/Uum/XKLoBRDE6ZdfPOh0vnTrLaUu5YCOtuk2D47qM65i6FksFunrolbgGikQ51YMAOcz8a7k200m6R2ODuoQhXbr5F5a5HcyzOQn6YTrXCIk6mVVSOuQpdzmMr8q5KewUurRK8LnvRPy3kavUOddzJjq2M1E6Z594OjAFgDp4LDE6EjniOUQq/TlWQ3c6Ez3JOp0ZuzqNk+Q5T+lZuo/5urqZtWG6s1p9OSxZpDrn2sc6pVWhOohTXTo2pTk6o5IlOs5iqTh9JTW6HZisupaNbrohS1e5Asx5uOmnSrqJKwq75C5Pu58Rabtd1Eu7VGYVu8sn3LqFiOW618YHu8DiBbuV+Ku6EGmLuYlfzTlOzd85fHYct/Ujxblq9ai5lfeyOTSmtTqqafY6JM2ROlNYv7mK5rO691uNukUgVLney7k5Rv8sOuK+IjoCm9I58OGcOduyCTq2q2w66eRiOsnOCTpNGRM6B/J/OhFCUTrWUp24aMFWuhsNQLo7oRS5Y0d0Nz8EpLjo28W5uxFHuoOXgrru7RC6qUI7OcAmfzmN9xm4VLp7uIn0cDqVxAA75Q4FO9l+zjpBY7I6aXjXOhTKEDtofzM7CVoZOyubUjp8IVG6iwTBuhaygbpSlWa5JLnHOfDDnjoi/PI6zvPtOt9DtTq4r406OTeQOj3FkDp9VE06qQDqObybhzlP1pA50/s8OVl+ObqGNBa7jDphuzNJart3LFO7Z0szu7w8IrsBJie7/2VEu/f1Ubvy7Ce7oni8ug0LUrqSdlu6clRcun9RJbr4+R65Fw+9OUzYXTpCnGA6al0ZObnTQbqagYy64C9SuhQKMrqKvDG6Jq4BunN05LjvdW23dRxKue+uPLlbis04qPcXOh9Yjjry48E69Y2POgbaGTn4GUm6x5B3usBiMbnt1A06Wm40Oi15jDm1xpq4LaL+t4zzgTkDHIw54BDitjOSJLgpsIk56iwvOskcczqryXg6N/0+OhgSGzqKc4I6q6LuOmmFEjuMq9c6Mh76Oa8Gf7nth8O5maicucp+ArkJ38o5NjiwOhTxDTuiKRY7/2cEO1qE1zpnnK06gN7XOifgFTvw+x07kwQAO4DpvDrDyY06vqXXOY2dZboVEw+7KRU5u4sQPrtOJSS70ozwugCl17rUVBC7YUFLu2jZcbvtpnC7xFNLu0cm/Lpzh0y6odoYuZFzp7f0xNC4rXU0uS4HqbkIdeq5vEY9ujHKjro5LbK68eGuusZNg7pvsku6w4I6uozwPboB7VW6Dg9auh7tCLqp4As5a8ohOkUSCjrJpwu5hfgzugiVPLqV5cy5N3ygOPhAxDnsO9E5ovvSOOhzDbijRqE5bqdJOvf+fDrmcXc6QN6SOlqPpjqS1Ho6V4naOa+3K7l/UPG5nyN0uUaUhzlZkl864auVOsDzWzqdHJs523gVuV92/LmaxuG5mriKOGwubDo8cNI6R378OtlIDzuKkA07aSf2Or2gxzr64NA6UU37OpmcDTtrXhc7PB4JO/+uzjpt7GY6AWCwOagPN7l6N3G64/iduooyDroj3ZM4Sa1uOFMULrpGguC6TDgtu9JtUrtMqDi7s4/Lul3NtbldNPg3YdgGuF40lrkqQnS6okf5ujg5E7tmcti6xnx8ugiIT7oSVIi6I3azupBE0rpqXeS65IryusYa8bp81d26wDOauoZs1rnUHrw5m7cWOsgdjrjIZk+6mlxUutmWGblY8gw60TNaOk/SPjrOCBQ6AhkWOnyAJzobPkQ66zuAOnExqDqvKsA6GpiuOt45DjpAnKi54l56uu9Bo7oBhJ+6rRuRunAVJboa35G5d3khuG7BgLcJ3Vq5btAguqY4a7qjYQi67729Oe+9tjqPA+o67dDHOvK9njplmak6LafbOlM3ADuZ/Ps6Xe/nOmfG6jq1wvU6zvPbOiF0pjq8qYI6StE3OiJXgzlZ+RI5fZECOrN3YTqcMCM6Px+9t3pYALorAVi6rdGXumTml7palRm6Zs+COe0RbDrv3oM6Z+U0OvJlhLgLVIi69eq5uvPIPrrNy9A54bKBOpO1HToNB1+5b85suhxq07o7aAu7ejsMu62U5Lq1sKO6J2Avut21gLk6Pdu556uZuk+PBbsmvRG7osPSuopIgbpBohy6ToBjuTxjAzkKyqc5upOFObgBFjldOmM55oA5Olzfvzps1d86+cafOjXL9DhKVX66l6q7upwZw7o9oaa63/mOuir9hrorznu63dtwumlOb7q/G3e6pIRqusnzJbrT7224USArOvYghzqCjXk6JDpMOqwhUTqEIYM6hZiPOso7ijoYsII6AheKOgjmljqmAYc6JP4sOvkK1jlxnRY67DNuOqOfozpWHbc6wCSsOmM6hToAcl86qhR/OoxxhjoQkGE6t5v2OZlJmTk33vw5zYd0OoMxqTqb65o6TVRAOvkYhjheArK5C45FuZef+zkxG6I6Q0LFOk99ujpreoo6MyIJOtLU5rjfHgq6PN69uX2IzjjNWaY573KbOEfNBLrljKi6x+cCu7X8IrvRYie7dogXu52m+bo+Ur26GD2XuuZ3m7qFP8C6jEnPugNFo7rx+Aa6HPaPOQb+IjqER545j67FuXvTj7rbEcu6Xbbjuk0uzroBhKO6ruOEuq5SYbq1ZmK6N4Rous4Rb7pSQEu6rmSxuW4unjmHcmU6biqIOo+ygjrOzWo67o5POgTDQjoMJws60PyNOeceODnAm8Q5TFwQOuHx9DlBAQQ5ZYrjt0YYJDkkSCM6vrirOm1N0zqEwc06NfulOv2rmzo7TL86PEvXOoNOwTp945A6E0pgOpvpHjrD2jY6CZF1OgOdfToivy46Q31JOePkvLeYuR058x8XOnlCgTpOurc6d4/JOn8hqDqF13Q6KlYoOuG4/DkkrPg59TYWOr2QRzrMVUE67qGuOcpFc7n2DEW6MsqUuuiprro6BKG631Bhumhj3rlS+aW5VaYruuKqmbq4Crq6cnKcuseCW7q0Wiq6GS08ujUUdbp7IKK6VGLOurv2+Lp9gBO7Wf0au+Z4FbvE1AG7ZU6/uuKsk7qX2JC6CvSiumozgbq1hdO5xthrOKyuuTmYPw86E/9HOiriSTo9UyY6fP0SOhnY1jmu4KI4WNUWuQtaK7gep5k51kXmORHfPjkrWZu1W2gDOQIBCjpA6mg65uKEOoNhZjoqiiQ65G47OhLGmzqFF846BEzFOhSwkDolJFk6dLxJOmB+WzqQTmI6vlpnOl2cYjqO2kw6Ks4jOgVoEzorvlY6bw6KOnUZkzpiSY06Nu6bOmpDjzrqgTc63mWwOZshpjn2j+w5P2nDOcHbdTl6g0w5ieflOHxWvLlp00a6Ah9Curt16rnSwYO5MFggubDizDeS3ng3YZarua4lM7qmzCK6fTDAuYMXu7l3RfG5Y1UEurK78bk+sQa6eiBausrcnLqPWdq6EtAEuw8G+bpr7cW63tOluqfvs7pYCdS6DC7gupAUv7pNZ4i6ie0fuvGP67lrGNC5Z7/xuFCG3zhTe3I5wjsDOWg4jLhCN165v2oVuQviIDmqVt45L4fSOVql4jiOeFE4CvyuOb/gBzpmGvM58OjpOWQK6jktyBs6f8M6OhUkUTqfxFs6dfs0OokaHzqsOic6SHg+OkvgIzqqxQY6AGATOhBPHzpCRxA62LTvOdce+TkCDyE6PjRSOi91bDophmg6ke85OmPl8zk137o5XGmoOcE0njkszTQ5AY3Ptw8L0LeCwRw356ONuNolermVzNC5tCSmuWxtJbnOR3a4fbIPtfqwnDgs70058gBPORmYEzkkxy21U4YHuffYgbnfN4a5VgGfuFc+TTmy7qA5b4dstJWI17mn+Fq6+f+QuhTOm7r/HH+6l39Fuj3PUrrTv3u63m+TuhsnjroRA4W6pgmCusA6dLo/nTS6JQHQuYLMkblVPqa5S9nnuU2rGrpEgSC6wu35uab+h7lDm7+4U7gAuN/vHbZsa7Y4LJKdOMJ+zbeW8CM4uwRxOVO8vTnEc6o5f/RZOeR6xbdXuQW56NyYuGEPxDg351g5XzKQOZr4JDn5oqI4jfTbthYVYDezOk04reEoOX9/3DnA7FE6n2SROi8jgzoGMJA6JvF8OomRPzuS+mw70xbAOh7HEjoeVTI422WQuPbpbDh99De5gEEKuube1rkl7KK43pJ8uYYZ7Lnfu1G6cFsIuvRheDjzy085sSB2OSn00Dj+Uo+5H2U9uvLqNboWmeW5WCOBOYJxOjrFNAk6xh6HOT/fHTnNpii6q0+gutL4j7qo/2i6MC4vugbsCrovIQa6weozunYierqWWqq6Pi6JurD6ILoxmxG6Jt3yuUs7orlZ80S6tMR5um4/WbpS30K6OhYRul4FxLm+fwa50dAbOdyvUDniVju3OULluHF1mDZ0Hlk47rjzOG5A1Tl2cN85OSg2Obr+PDmaHpU5mQPXOQPSCTpAlhI6leQ3OhLHMTpNxH85+1WJOG/lpTmGxgE6hYdHOsStgTq/F4I6bZlXOsz3XDoQ2Fc6sEqoOp/epDqAI7w53nieOHarm7bfsEC4dH0NOMV+AzhbA6y3o3iDuLScjLhnjL83DTQ+OYHWTznRExc6rn2POgfVjDpriJE6IAOWOh0RgDqVgCc6nv3IOU1QPTlXmcg51ELYOS/54zjtqAo5O7INuTZ8W7otALW6PKDpuvVVD7sK3hC7oQoUu8XwE7spQDG7dg1du4wbYLtjPTy7hjEAu/3D9Lqcidy6NGG+un0R6bqnjN26cQmvukLjQbpXaPa4oJe4OTa4djqKQMk6q0qyOpexgToiv4w66qKyOo4S4jqKy/46gdMFO7GfADvnz+A68zG0Osz3ojqIUp069Z+EOqPyhjr22Y867B14OobOrDlq4Vu5KR9juajsmbgcBU23KLoKOFvx+jmpTlY6EDxUOmVHbjoccpg6rNWoOnFSpTosjb861NXVOux66Drig9U6RyyUOp+DkTq05HQ6cuwTOmg/TTpkUZc6jQ2OOsTsjzragJM6+z+BOniBajob5hU6aj7gOdGEDzoFWM851m8Ft6/YELkykj66UV2wutXw5bqzvhW7rsgyu7gwbrsUOZK78e6uu2JWyLs9VuG7kTv0u4VL4rvVKbC7feV1uxbaQLvj2Cy78aspu2u7KLurNvK6V2O0udZdrzr6SzM7u2d2O8RIkzuTBpg7DQGQO3OkeztJymo7RXl8O2DtjTuFFJo7joSPO5BbXztZAds6Os63OVLxY7hITIS2Y9awOGcOwbiljcy5g71uupLu2LrYahm7lgYruyJ/MbvcCRW7BJW0usEPxLn5KU460Zm0Oh7vpDqqU7o6cv8PO2E9WTtPEJc7ugm4O5dWvTuZlLE7hs2gO/c4jDtoiIY7LwR6O5o1UDuCpTE7Zv8aO1JJ1jrpbk06mJRKOOl4JrpZvW+6HyB+uliJjLpAKse6sr8du1yoZbtrEoG7awqFu325j7tgW5S7v86auxr2q7vKM8K7VZ7ju4mcALysrQu8CnMSvFAw+7slPKW7SnhAuxYAJrufiDG7QcIpu12Z/brhjcy5QBDaOlM5ejtr4a47geLJO3s60Ttox8o7pO62O+ZynDtXGpk7wzmmOwZTqDt/dZk7ciJpO7di5zrmKkM4V2yGum1xuLpd1b+6ojXaukle/7oCRgK7ps4Uu354KbsE0Ca7tIweu3irCruohKG6AZq5OCsTlDqvcbE6kNyjOs+PAzuJlFY70VmUO02QsTtCKrg7NNeyO+pitDus8sg772rZO/8fzjuzjao73pyQO873iDs41HQ7T6E5O9CS0zqIhPU5LFKQuYPPGbpkK1i6tyi2uokJLbuIUX+7GbyRu7ralbvr/p67K26tu4FGvbsSasu7V4fYu6784Ls1WfC7JsgDvNkaDrwGrhW8ifUFvNfEv7tCDmu7pyIxuzweLrvDMxq7o3vGulC1IbnCesA6oORJO4ZclTsuP7w7K4nXO5Q64zvkLNE7JDGtOzwSnDvHmKQ79wmxO7fOpjuQ3Hk7ry0LO5OVKzpetsS5p2iCuh1eybp9fxy7Hw9Hu6tfT7vKuUW7KwtLu9HGUrtbHEu7oCcju7ji1bojUZu5FDGWOnmK7To5mfo6xUQZO1HrUDudEIg7b5a0O2jwyztPHs07+p3BOwyTtjvimbA7w7+tO1Z6ozvM+JM76DCWO69Pjzuy22M7TikXOwlcmzpa5cc5xh69ONnQZrm6cFu60wntusQOQLv3yHS72h2Ju9hvnLs+Wre7wFvEu31gz7tfoNa7F7/ju4zx9bs1EAi8fN8RvBGaFbz6HBW82i72u628o7u4OD67kxwNux2SELtplwe7FxmaulzKjTn5zgM7hhd7O8lxrjsPScY7OcvKO7ZNyTu5XLU7M2KnO9Aoqju3bbo7mHu/O4v3pDsD92w7z+j6OkFTMzonYbe4eGsuuhyNoLqDCvS6Eggiu22oRbvOzF+7J0Z/uxp0h7tKhnW7e2RAu9wK8LpWUEq6uB89ucfeMTl9HZA6gTscO33wZzstUJI7qgylO9LBtTteosE7TMzQO2yR2Tt+c8c7G6amOwJGlTvnpZU73byNO1NJcDtgKzE71dT3Or6dzzps7KY6n5giOr18i7nCdse6NeMlu7uAPrs9jk27KORuu18XlLvlEay79QTAu6Ywy7tSHdG7FDveu7DU8Ls2sAK8asAIvKfzCrx0MBG8rPcNvHgB2btZ0nm7oVIQu/3Q9bo4Ddi6k5Oxuo7FMLoFzWM6mMxBOzR/mztNP7g7h+e8O3LRujvhWrU7sOmoO2KlpDsrhbc7lp/FO5pMujuZ76A7f7x4O1MhHjsQi4k6fPTmOcJqjDmhyea4h9RLuo0r1Lq7/B67ID9Su1M9fbsDu4W71m18u+iEWbuX6h67/ifUuheYpbrIGXq63/NFuXOCnzrF6DQ7k1R9O/MUlTsS5qM7ccyzO4TKuztUdb47blq7Oy5HsDvqAKU7HfqZOzQGhju3nE47Y5AfO14T8jqFkaM6zdBCOjxYMDmboDm6cW7durn9KLuViUa71wRRu78naru+64K74kmWu9YmtLtRg8m78a3Ou0RT1ru85OW70Wb7u6MMBLxxBQi8pEENvO6B/rtquLm7bZBeuzcSIrvMYzC7ieIau5MjwbpspcC5zcxvOpk+NDtwyos7Q06dO8juqzt/Zrk7AEKyO9vYnjvH/KE7yC68O3y7zTt9/sg7ob6vO+vkiDsTujo7Lxz7OqTe0DrkY686DhBYOnEGMTgpGCu6UOvHujVcLrv8+WS7Ywhuu1QBWLtlv0u7UAZCu35fPbvW1D272ssvu0vH7rrFdeO5amRQOmJp7DrxbzY7ILhhO9ckZjuzunw7VlOVOx7XpjuEUKw709SkO9KAnTtXYI47ybBrO6ziPTujnxI7h+/XOoGCmDp+elM6rgmRObs/Jroxg9O6pvYkuyvBQ7vinU67cLNWuxp2arsvh4W7rMiVuzEQpLvtS6+7IeS8u6oXyrucz9C7tiHQu+RRzLt2/8K72jOguxQ6YLunLTy7X3JKu1YmPbvf1/26qBaHuitCfrkkH086SE70Ogb0IDtPETo7eBlZO3ABYDuJLE87WIRPOzpFfjuU0pc7f0OfOyNmlzvYE4U7hu9dO3OeLzs39Q476m76Or8C4jp3uq46+2hbOpdYyzk/VUq56qUfuqDEcLqk4KS6TA/Iujuj0rpLauK6Gob6usLZ/7o78eW6NeuauulvQLpoxvC5+fM+uGNXNDlMXdc5l8BSOgQkcToE4VE66HNEOmBPfDp/jJ06H0CXOo6FXjomQU863iRMOg1Rrzl9nmY5KHEFOiBlGjr6wxw6rVoDOu4AjDnx7t85yqzmOVqfeTnKEwg6ir9DOsnXJzojc7Q5lr2BuHB6lrl2cKK55bQuuqL8mrp9RLu6raDDunko4brP8QO71q0Du74E9boCEui6n0kBu9vjB7sh8Aa7kbkBu4Od7rrZ5sS6VRGIuvayabqfi1G6FOVsumAxc7qMY0S6rzfduWEYKLilqHU5iWbOOeY9yTmEn345ZeyYN5yFfbgHXik4pMltORs6nDmKngc6PONHOjszPzqxcNc5BYiOOG6c47gxA864zWOCOPzrEDkU6Q85kM3iN5f+irk6AtK53NwiuYgmJTk0Jd05VRkpOnVGPDroRyM69rMCOg0sAjpLixo6fmBKOq2UiDrDtKs6fzyuOumNnTotRIU61fpmOjLueDrO25Q6gDa8OhX9zzo4FME65PuqOuLpvTrAy9s6INbSOrYiwTpKjcE6gi+3OvohpzpPm306+4w2OrhaIjqUkNk5lWIJORMgArkqv9G5rSlPuk2UZ7pIO126AI5+uuJ6pLqxh8+6463tuuOf+rozvvm6J4L5us8TALudXgy7xk4LuyxvALsrtfm6oD39upE29bo+qd66gyDKuuRHybr/HNq6bNjeuhxc6LrZWcm6zSWdul/GZrr3jDS6hl0dumxk5rnxCuu57YTqufmz0LnGjYG5062MuASm+ziJCMs5mSQiOnFx4zkqugY4/3bat7iMlDmFGyo6igRmOipjazoX1zw6VzUROia4CDq6skA639qMOun/nDrcH6M6gOGyOnOdrzrUcJk6fZyVOq4QrDqgucs6vTjtOvZH+zoZteo6loXDOoBfqToBb7g6cg7POnWy2zqKYdE6J6G4OhnnlTrr7Vw6oF85OkocHDqhiyk6ZO8+OrqAOzpBGjQ6alf6OUIYfzlc/8Q4uteyt1t83bhj44+4V6RvtxK/irhHV4m5cZjmuf7RILpdkmq6Z4KJukYnlrqSS526bE+tun+py7q/Ad66yfLwulO9D7vT5Se7iz42u5B7NLtNMiy7zmMhu3BRFrt/QRC7ZPIMuz4/DLtsSgC79R7dugIiuLo4gJS6TAJCulEm67nMSXS5vdhouKk/0TcfXcA4z3uDOe3VITp5jWw6myN4Oj6bWzoC2UU6sCs0Or8KGDp/tSE6BsZaOuIhbDqJuE86rmISOv3s+zkOQPw59JvKOSuLBzolWWM6t++dOswHrDrDMqM6xP+LOuV6WTpgO1Y6c+yHOncnqjqZ1rg6u7ylOt+cgDokLlA6t5w8Oh11PDozXU860MNnOhzJgDp05oU6Bv6hOu0/rzoHpKQ6oGqJOsz8ZTqhuGI6vxhgOveXdDoB4II67Fd8OtuROjqyoP45Up6SOeF5fjhdLWq4AiSRuKgVO7g7PIS3F6H4uLODvLl1y0m6f32ruq1t37rLJue6NnDluqk0/rrIGQy7u+4eu7NqK7tRqC67z2Yuuxv8LLuA/Si7NNYcu8iMArvQqMy6muivujNom7omAH66Wh8uusDEXbl7d085u9TdOedhDDolavU531TTOUDm8Dk9jhI6aWIkOuNAPTqTATo6RX4aOjLQ1DnHuno5Y8ZuOWOewzlGpCk69rBZOixofDqPD2c6vbFFOnTjHzoA+Os5ZXT3OSoWHjrdY0M6Z9sROr0zjDmEZjU4EAOcuJSorbgdHom4y8zTuIewCrhQq9k4sORNOfmR0jlouxk6dCM/OmdbQDoOCk86CKZ3OpIzjjrkro06vy6NOuytkTpsWIk63x6LOikJhDqrOGk6KSw0OrUuIjqZV0I6oyxjOvl8dzpJk1M6OcDiOcaBjjiUR3K43DuquMXopbhd/yO5VQ+HufdCrbk/Ydy5wj0Tul9WSbrmXoy6dOGhusG4oLqTgp+6te6Suk6XlrodgJm6kHqQuhyogrrwmla6FNotujXPCboUqcS5Gk6yuYnofLlDWB+5lPhWuU1JkLlJoli5VHiduJVhAbnQ6SS5QjBIuaxXEbkot1W37rAIOaBoPzl44YQ43EFetXvLZzc21Ao5iudWOYg7UDkFUzE5wniRuFGDlLmLpgO6UXtCug35WbpPF3S6B9WLuuPFkbq0jI26qmaOukLojbo1pWm6YNcxunKAC7oeF765t7Moua0t+ziZxos51F/QObUH8TnoSQY6RQEmOnyLPzp5omU6RwF6Ovirdzosr4c6XmmUOuHLlDq40po6fLqXOmILkTrTQYY61LGHOrpAjTpNgns6AUeAOqbEhTpD0Y06BOyPOr06dTox3VY69ukuOka+Bzpbi+g5auYOOsLwFDpiRg86HnciOnHUPDr4YkQ6zEYfOqzxBzoRiAw6sNkdOjzJFjotigk6WSTCOTlEJjnqmjO4Tv+Hucek3bkAKS66bAhkuu49b7prlYK6SS6ZukcAsLrGZsW6bgDPuqmi07pNRcu6EsaqunPwmbqj3qa6Xma2uq3sxboOeuC6amDfuqvLy7qtd8i6rv/Pulm417ox3sy6sNLGunNsv7rUrre6bMeouhdlhbo8Tku6/qIAuqsBZ7nIHRS49gfOOGHpgjmji885JFbzORkjEzrEZTc6QlFIOg91Xjq5Im061c5oOjI0eTpFyW46kvFsOrDRcDrIym46qH19OgM0hjrV1oY65b55Omq5dzqKdX46o/iLOvo2jTpn+IE6tBqAOgrIbDrhc1o6pulEOkrYQTq/h046mapYOlMNejr5koI6vRaJOg74hzq6Q4c61T+KOn7QjjppoJ46dl+fOv60kDp263U6ZBRXOn0KODppBiw6UWMBOkGWczkj2ww52crSN4SsrbjK5am5aoIauvGXProsklW6AVJNukd7TLqgyHK68xmhutasxLpORNW6HcDVuixy2rpj1em6Al/3usqfAruwcAK7Jm4BuyOB97rWD/C6gJrzupUD47q4bMO6M4yhun7niboJeW668gZEurgPFLq9G9e5YdyRuUdG4LjIec+3o5xdNbZNmTdxzlk4kKEhOYGpIzlj58Y44zuUOLHnHjmsMo8543DQOTl99jm4Lt45Bxr5OVf1KDpXuz86/HhCOoQXPDrnQFA6iuJ5Ov5GhTqPKYA6NiJzOhojdzp/Qnw6yl+IOhcNjzpvF5E6QGSROhVrijq9GoU6gtuFOlv0hTrPx4Y6kC6COrVDeTrv7mU6n7hIOt4gLzp8CAs6R2YFOpjF5TknY4457H0FOQsGpzj6MDA4o95st+l687eQjRC5sWs2uXztYrl828q5+mnduaZK+bnwfgm6P7ULuvwEKbpfwB66QH8dutLlLbrEfDi6e+hCugg0PboDUyq6EwQeun0mDbrCQwi6fNQXuv61CrqS3Pi5gWjJuS3Mo7l2r5u5Sk65uTYl5LkDmAG6YoIEul++ArojFwm6f4sQuuDKC7r2uQy6fi8ounEiK7rEKx+6skcMumcr7Lm1Uai5SqQyuS7qMLnNeAi5CjoWuOgJMTgikys5zv9pOcvfmTmsAKE5v1SBOYXmiznyMbg5oeikOer2pzkLksk5K5L5OTyZGzrT6As6+7oJOmoR6DmtZrk5DBy7OcH6tzmXb+g59gAKOsaPBjpqCs05ZKGNOUVYYDkb8WY5Yjh8OXj6hjkCZZk5CfqpOVXvlzn0+oE5m8KDOYvtKjkrRsI4/2UZOb2HNTnt4so4gvr6N/AV7zckCdY33OuntskrRjf9wuA3DraRNjbrNDacmDg3ZBMAOHlcezjqlIg4g7UOOMgu/zeOkKE4JEP1ODLeBzkv+pw41fzZNXEPLrafnlC3Ok3AuHmiCLlAIs64rgsCucGLJ7kW1Ce5lYWEuaKPy7mGzsS52y+IuXQFc7mlZ4O5ABGXudPKt7nRQry5XYPVuQ4O1LnHB8S5ygm9uc+C67n5PAG61XTPucc84LkpKPe5p4HjuaCqv7mowZ+5KARuuROTb7ms1mm5ErCBufu7W7lDIN645SCsuLYTFLnCcW25FFETudhd1rhPfra3RFfrNn/9MLeTIsm3ZIb0tvdYCThPIW44bUr/OEuTSzk2g4g5UK1fOTl4ezkZZqY5LcPDOS1xrTmCqZU59LCbOYATtzm1tYg5Azz3OIBbsDggb3s5eiTNOQ4hxjklT7Q5BfaTOSd4mjm/e5o5qJymOYXtuTkGacE5dSG0OTfJozn6oKA5af6ZOe2dcTk9b1w5jalNOct1DDlS1yU5YU9AOUWHSTm5Sx055n6SODnEwjj9I7s4UBUZOfafeTmWUqM5V0+fOeg7IDny4vU4KvQYOegxDjlu+r04iQ6IOBBfQjj64LE3B7RvuFl/BrlVZOW4XkZXuSGCabmqxGy5f9agubdBmLlxy7G5rS66uVkG77lGSQW6PBT7uexSAbrF5xS6LZ0xusLKJbpmJjO6Kgg5ugaPGboLfxi61Wssut/qMrqf5Ci6ryoWuuBTF7p4JRq6QggDumT70Ln/NL65lZGVuZKpULl/5P+4N8ifuPdaHrgvoII1UGfPN+S2rDilstg4LpBBOSv3hDn/Vas56ge8OaFH6jmG5QM6E+wAOiliGTpZTSQ6i3UgOmlNFjoE+AA6dQbbOXygzTl+JtM5r27POXQNujnIsKY5d4yIOfQIiTmDG1s5OjoDObPu3DeJxe83/UQiOej4mDmBzb45/CfLOfUO1znM5bk5Oo7BOfxDrTlU88c5qXUCOsT/BDrQugM6Nfz/OXGUtzkRc5055DuWOYbeZDn9FW05wUoaOU6oojj+Ddg3QfbQNpbtALgLINW4j3xouSLbabmUWoq5KyqzuTYyq7kYFty51a4HunMcE7rJGAm6PPcZug5PKbpfzDG6VhVDuoagObqWHD26vpM/unmZK7ogrim6Pf43uggmNLrLdx66m38OugaWCLoRdO+5tvnEuUsso7n6/Im5exWeuWAvk7lLCYC5+XqMuXzXy7jKyIQ3QauCtX3LbDa50LK2PkODOGX8WTjcwoo4OB8cOeIMLTmHRjc5bANfOUyeTjmy+io5kaJDOa5vLTlTjhU5AFvMOPL+9Di+CxE5SgZDOcRLiDmLUIo5+5+xOZ4TrDkzo7k5VtG4ObVsqznsI7E5EvC0OV2Z9TmWxAw68RMBOmgfvTnMBLc5vsCrOSA/iDmImJE5Nt2QOT+LmDlHxYI55KF9OZSjeTnzLmE5PMNDOStRDDnGwgQ5ZS/5OHCh+DjrPe045lfpOJ8GjDhQaQA56j36ONmwszjzOwk4hDRNt13P+LVG8bK3Akv9NpvtUbgBvh+503dIuXqqfbke2qy5vq+iuRLmsLm12KC5R0HguQt08bm5fPm5UNoIumMqRrofEO+54+GbOv1JzjpTeK26FsY0u/q3fTpXCis72xpTuokg6bpKh7M6nfQpOzm0j7hIm1O7Xcoxu91GnDrZDTU70GyNutBFlrs4hfy657wrO/oOyjrop1y7s89Su7JF+zh9jNM6U92XOnx3FLsCwSy7FIuKOfPT/ToRGEg6hL4Gu0tZB7nJkQM7ggnOOuslAjpy4A+7DyYfuk64dzvctOU6KKrnumbVAbqd0z87dHWRO5KHnDln7eG6bfusOtzyVztP6l87NAMpOj/8rLof0rM5flogO5Hc3Dr1x4u50eGMumd3Kzrj8Ac7bFumuilv2boD3I+5RHu1urMOWrksOg861OMfuoStTzkFEUK6C/AQu2NsBzrYP+04TCElu/hZerrUosM6sm81OpGX+7qr9h277xMoujfpmzqEhxM4Efsqu0Tkgrpcw646OQYvujMRG7vLsIK62Li9Ny6h9jml2C+5ekDjujg3wbnb+Js6kMH2uWSv0rqx0YW2iFqQOqFXwDl2p5c440r4ObPWAjoztmc625TYOaj4+zVuD806zZ3LOpvQrTmnUHQ62s6pOkUf6Dla3GQ6xoCEOvInQTpXkvA6zxbMOp/1GzovUgE6OvOTOuFOyzruiYc6in93OmWHdzq7b8Y6Wb6ROkA62TbSQgE4S9G3ODAqMzphIus5o2PuuT4JY7ofsxO6U3b0OCBDi7oNqTK7bpnrupgHH7qzk/O6STg9uyMvOrvquSm7BsYou/i5WbuyymG7WZsZux8P17q52NS6aQC5uliRALuhcxq78uGjuiocjrn4uxk5GTzaOWmSjDpnMgM7x7EDO7tzpjp4NpU6ixvpOhPnFzuGzRo7gzMIO+IgHDsn7BQ7uPa5Orf6BTp2qJm5q4CBuAF/HTpDxAA6yo0fuSAGA7rAZw66t7kwuseEkbrFS8S6xqyauhQn2Lnik185OS47OuzhbDpd0ik63L/zOUyuEDqMkos6wuYDO1jMSjs1V3Y7Kb9fOyXHQTv7B0Y73YZEOxksPTuORDw72Vo3O6xcUTsPTVY7BjIYO7SuvDoSpu05xIpmuHo2j7hsai+6JmyTuv8qtrq/0fy6ZmQ+u3sHj7twbp+7a6CWu4XcoLs14bW7CjXCuzq4xrvDEtq7RVnsu+nVz7t4cIe7ckM5u+/KMbt9xDG79sIou2fh07pyqcS5PewNOiW/9joV7lU7euWEO/FsmjveLKA7XiGcO0PZkjtZKIM7nj6MO90nnjt6wqU7CZ6VO4CmRjs/XbA6B5KAObsIE7msCwm6G92buqyw37r/DPq62Hkhu9glUbv7cHe74m+Kux1Nh7vNwXW76axXux+EG7sJYqG6jMgTuhhXwbl6f2u5F/q/OXeh0DoYgEY7ctlzOyArgzutvJQ7ycihO31YozurS6Y7kKyuOx3UtTsoHbc7HF6cO9HshDv6CH47DOxgO7ZFQTsHgRA77ZKhOneJITqpVJg5iV8vuEZZ7bmWwtq6CMYyu+yiMLsoXDe79xNWuxO5crs/M4C7NLeEuxbblLsI8Ky7hIayuwvcq7tYK7C78Pu9u4C6wrvC8be7TyWzuwm3qbui0H67BOvtukuM57kkUx+6MZe8umXXkLo/55o5bWPWOsFwKjtpjWk7xzOaOwmOrjtzFK47CpSWO73XhDtBaoI7DrFwO+E4VDsZfUU7c2lJO4hGLzv1NNA6vlcHuntpErt1fxy7QxwZuwt5G7vQoDi7q1pQuwfZPLuaW0G7qMB6uz6Ji7s05Wa7Dpkbu7mxmbprNcq5kP8vOaZOjDq7hO06I73tOi4lujpAHwA7q7ZeOwXakzvZHKg7leC5O9uKuztRP6o7Lt6OOxWEXzvWbFA7bjVbO54jUjsY/Ew7rxw7OxSmGzv2egc7hq6lOlAogLjYY4261RyZumKuD7rWLvY4cpEot+2rU7qu5bm6ntwJuySdQrvxb2G7vXpTu6j1M7tM+ya73iNBu5GxdrsmJJO7H2ylu6NUsrum7ce7UUHVu1P50rvPnMu7A5W0ux0ggbtTnLu6FYbLudNa4boYk0K7s2L3ulLI7DnY7uk6cVsiO5l0fjvnwrw7YQLYOzGXwzsK/KU7llOrO7CWqjtSTYc7+LRZO3W9SjvzZm47ckhvO1me8jq64Ei6giwju4PZMbvflyq7Sf1Tu8p2eLuBql27PyQ9uxaZSbuycoC79TGKu2L0XrtIEyW789YVu/Y+z7rAIVi3oNO2OkxKEDtoiAU7s7IAO/4YKTvTn0o7OxZbO3glejv4so07NZabO8aZnTtCM4476Oh9O221azssdFo7DO8hO7FZADsAygY7ETkJO1jQ1DreF1g66t1EOU9aAbkyAVy5fmviuTyMJ7r83C26cN9OulUdlrraaq264tbtunvvAbv7ggy7xZUsu3faSbszmUm7YdhJuzKHZLs1b3+7Bd6Vux+Fp7vN77+74MTKu3kV2rtMxtW7anKfu+btFLuqNrC48tqZOLLSgrr2mpO6QqpUuCtEgjpAYg07O6hgO0QPqjsNs907wnbwO5Iv5Dtxzsk7yTWxOwnUgzuXZR47biLIOi7K5ToEfxc70q3YOi1aYLiMVOS6qcIzu+U2cLtMlJm7zEiuu4FcsbuuuJ27BXeOu5Ekh7tUgGu7X642u3oTGbsqeyG7nNkyu56G6Lrulh45U7/COljDFTtXKz47p/NuOxPugTvCy3g7wJl/OwjylTtWOqc70kunOzcCnzvDap870eGYO0dSgTubm0Q7aAEAO/Mwrjq3uog6gFU3OjPAkTlLHH05W+QaOaSXArblBBK6+r+AusP6YrqomxO6iGWfucTPMLq6+lu6/wIPugIsr7l+XlK6aoSzuu5u+7odBRO7Zy4hu1ZTT7vGRGC7uGRXu6xRYbtzg4+7ObG7u6g03btmSeO726zQu00Rl7sk5wG7pfBsucQZNrk9NDS6qpLBuPpgETq5um06kOO/Om/tMDtQwJU7MVy8O+eV0zvwL907whjQO0wenjvRaiY7xEpcOi+W1TlV6Co6oa68OQq477nLJsK6OnAIuzhXLbthkXW7/n6hu1u2qLtOzJ27W/afu5CUn7v52Ie7GDcbu0nEkLpR+Fm65F8EuvaewDdbqz463hHDOrdmDjtUJTw7MeZwO35zkDvOGKQ7kXutO8/Urzt6hKw7nCSXOz+VgjuAq1872C1KOzOsQTuNlRw7ItzyOtdXoTox8jw6Kd+vOUDXnTfXUEy4YgaUuXIxF7pjH1y6P7KCurXrRrqXMVy58Oqit/k6QbkG5zq5ltvOuOXRk7lBYTW6FVVFuudpa7qqAbC6y5sOu3q5N7uKDji70ak8u6TJULsM84m7doSluwEjvLs+YMm7+1PXuyub4bsFM7y7yfVru8P8n7oVFg25AScROZKtETrM688600wPO3o3EzvD3kk7ovOKO1eXtDtVTM07ABnZO3IxzjvfDrw76FqVO7poKzuMC3Y6MJPFueZQjLpimAW7dONBu8p9Y7vWtGi7Skpiu3nae7tpCIm78miZu4QHs7urFLa7w9uWu9IgV7t7lQO7TflSuiApZTkm+7A6hgIUO8HzOTsgTlg7AX52O6cRiDvS64s773SOOzaWkTsIgac74we3O4renTtL92c7gTYtO06METv449I6bbA2Oju05rVSwTa5OwUbuanr0bk92wa6TGDwufzDHrrGMWC6XfaMuq7thbowhMe5oDruOXFmNTrC8+w5LPq0OeiORDqBT4U6PEdUOl9RwzkQD2o42Ky8uVFRgrrLdtW68CQau+LdN7v3Dkq7KBRgu9bNiLv6tKO7bvi8uwSp1bsByfO7FD3+u4Pw0rubP3q7HGV5uvDvQTnV4B86g+/VOnbzOzsB3Vw7db5SO7sbdTvA3J07bjPAO0gIxTsy0MU7D2LXO+NR2DuxT6M7F0EfO0pZMDppm8+50/XQuubMY7vsW5+7Ly2mu560nruudZ67f92lu6utnLunFZK7z5eTu+81nbuGtZy7vfNzuy4dGbvF/pC6fvxOOcpO9ToW62c7LESeOywEsjsSp7M7dNizOzCgqTsQVJk75YONO9wejTtcv4U7RzFVO1lIHTuwrOQ6SJKJOk4myzltqwu6BDPCuquPA7vVPBa7r2Iju5u+Gbs1I8u64Yoxus8jeLliwCi5+at+OeE7cDp7lsQ6/+rPOn1bxzrfaAE75WQfO4lkJTvjxxg7tSgNOzao/Trly8Y6fXtJOj7HUTctTRW6bxeMuoTf7boXjEC7J59+u8mdkLvYRJy7MUquuzD1wrtl39O7pqPju2z267vq3su76LF9u47ZqLocx6A5/ZyuOvYsPTszYZc7bn2vO0TknDsBxZc7idamO+M4ojtQyoo7eSmGO8/XlztHH5Q7X2NOO4dqmDoDXgW5Sg2zur6OTrugWaK729/Nu4V44LvVpOO7P0Hau1UDx7sfuaS7Qd6Cu4s+UbsIQDS7kWoNuw/XYbp9fF05x9NkOmVOzzoZMzE7GzuGO6WKqzspd8A7BRfRO37+0zsUfb87zR6fOyOVezv09js7+/HTOsWdqDk7Jj66GOamuvL5sLobope6Lsx8ujzoU7qGuEe6oZZmul5YobpKULq6G4WPulx9Grpr1Qc53AROOg6s5zqxYTk7lDFuO9A7hjtRT4I7tKdoO9rPQTtvBSo7eNAaO/TJCDv1BN06IwmwOu9VWTptQTg52jLuuVvFnrrme+y66KMkuxgEZbvVwZe7Ya+xu52wuLvZ3ru7PY7Qu6wH5Lu2puO7CyjbuyH4uLsBtXW7u8yZumQudTq4SPE64wkfOwbUWjuwkIw708SMO/LGgTsQ+nM7KjdtO5M3bDv0PmE7xmhmOxZRYDtS0i87dvGbOp6N47l/tOK6+fdCuyWAjLvfbba7x93Nu4OQzbsXsLu7E4mqu2Z4k7v041C7oyMAu+NujboXrPC5Ga3SOV1ysDr9U/c6SWkSOziRODvmZ3M7gx6TO51NpztGx7U7G/q5O11prjs+kpI7f8lTO54r+joR0Fg6tv4CubMgP7o36E26KQ1PuuEOV7qhVmm6dP9xupT7cLraViO69k+htzdtRzkR4Yc5pynoOZI/ejpmcrw6rrjgOrQtBzuz5SM7XqM9O1srPDthZDI7OVQ8O9/uOjt8TBg7wU/QOpiqKjo77V65/wVquvgWw7pvDPW6hZj3uqZY37oaqMC60+2+unaY9bqyNRa7ddQ0u/oNZbsxwoq7922Zu4rgmrsqiZm7j4KYu7msnLvr2py75tuEu9bHHbtlAC267dJyORDKcjpo/AI7JyVQOwWRXTuTJTc7MIQqO+vOOzuoOjA7MI8COxIa/TqLYRc7g1McO6fy1TqesgI6kXRWuS1Nj7rxdRi7Tmhfu31GgLtGDoS7W9GDu0vrdLuktEu71pgFu28iiroW2+q5tNy+OG3xczrT7AQ7v84oOyJHMzsKDkc7/stYO5UCVju88zk7fwg0OxJZUTvbulw77QFIO+O6KTsxIhQ7FyLyOmnHRToGwJa5q/F5urVfpbpjfrO6JVWyuriAULoyvwA51W56Op9njTpd0oo65AWjOgVx0zqCUdU639eqOjQ+uDpCi9g6ddX1OvonADvpHQo7VggXO7FeETvVncw6baROOlSYrDkTyfy48fgoukX7xbr7PQ67/qAju8S7QLt/p0+7mCdTu9GURLs3hTa7iTtQu5z0dbvutI67fZSduy3etrssss+7YQC9u9zVc7s9Iq26BlDsuJm4jjomET07lvuXO9UpojukBIQ7E2p4O73LdzuN/V47vWgjO4OxDDs7hRk7vnINO0GHsDoZe5c54HP6uA6eGrqmftC6bnNDuyDjhLtPx5G7ZQueu6QfpLsVOqG7OgOLu8enTLvk1BC7XAGZuhFqhjk1hgY739RYO1OPZzvICmk7eTF8O89dgTvibl07oCA7O9/mPTu760I76hQuOwKuATszgsc60JeROona2zkgYh663afouk99DLvthxi7eOEfuwG/JbtemB+7zbX2uguZqLrxhvS5joUvOeSTmjr7SRY7PtY/O9cWUjsg2lk72v9nO4aLXDs8SUM7fFMuOx7tHzvnVhI78Yn4Oqt54DrqQb06g0mJOjjbAjqmEh+475oFuoTdkLrZ3qy6awKyugWxkrorpY26JfiQukY2bbqGMGe6I7KEulUIwrqXMe66KMYXu+3bTLtW64G7XUCZuyriqLvKzru7k5DEu1y9rrt21Xq76w/xupjm7Ll+LjU69eEDO4yfUjvpxXY7u5VcO3rTSjvfVDY74n0aO167yTo5iYY6gWWXOoBhkDpt1zo6zGSWOPU5NrmMsmm5yFcLuopJsrr76RS7hPUyu+iCT7uKvW+7D0R9u5ZaabsgQjG75tLwunm8RLqllZs5UdKwOrQUGjvRfjI7n2Q2O39FKDue+iM7VIQNO2Zk3zqjNbY6U6KmOqqlqzqi96U6A22vOidSqjouzKY6zpCMOsmHHjrLsgE5uJsNuapUublH3Ca6MPA9uoQiAbqUP6e4TWz0OVysXDraNKs6bhP4Oq6VEjtEYRY7dLEQO4oRGzvx7R07hK0VO5DXBDspe+k6ibK1OlURczpuFPg5nmlFOJ0sTLnf0Bm6U9GNumZvv7pqGeC642vrurnL6rrR3QK7Pf8Uu3DnJrsgxUG7pxNgu8tPfbvgqY67GiOfuxxnrLtM17m7Eii8uxRwoLtgQl27ZCvjuhbDHLqT2t85Zgz0Os+3aDvQWI87aFKOO8oqkTvHcpQ7GzaIO4t1OjuqT/I6y6q3Orp6VTp5DVG5/BWPupvthLoIeHC6cPOwutWvAbvlnRG7dQAIu7j/GbtHZTm7NS5Lu0OAN7tyhgG7ieimuuPlzLlM10Q6aN71OvIqJDv7sB87Kp0XO/ESGjvv5xI7duzFOkg9Kjqsf8A55i2uOd0OxDjnEcG5FAgAuqz737kKORe6XltJuszDTbqw7hW6ZYcIurP4NLooeDW6d72luRCCiznyLkc6QJGSOvx3xDrtcwg7NPoyO3zXRjtj61E7mapYO638XTvtPUk758oiOxGGCztbjOo6P3fJOpsocTolAac52ZO1Nu8qELmnOpO5PRUguuYxbLqi/qe66zq5um7rv7oG8766rIyuulJLtbog1ca6tUjiug+p3bqP9ty6GfzquhxrDLtL6j+7F9h8u3wBn7twobS7UeLAu4Oxt7sg0aC7dXR9u7jDILvor4y67TGaOYfzpjr4AAo7KjM8O1mMXDvSOmI7CxRaO8WiUjvof0s7OlA4O0HVFzsfxfg6d6bXOu0stzomfFE6jTbjNp0XM7pKIKu682/6um0pGLt9rSO7z8ggu7awELssoPa6+zHLuqd0lLpRKSe6neocuXgctDljdyw6ZZd5Oqc2qzp3EcM6X5jJOr3r1jo+09Q6KvfKOpPewzqBnq06P0WWOhueezp8T1w6Tw0+Oi6qNjqnzkM6CMqDOnE9tzoMF9M6ClXqOltCBzue1CM71iQuO3FfKDu0IiE7ts8cO1UcGDtIdAQ7vsHeOlQ6pTpEK2c6nWHgOUxjYLcjWwC6NM+Gun4uwbon1hi7ImtSuyU8ibvodaS7mRG9u6M41LveGuS7/4Xvu2E67bsLzem7GiXKuy6Albu6OB+75LevuakhmzrnVk47Sx+jO6s50DsG0Ns7RTTUO87UzDs9ybc7BAKLO5GEKTuLzs06VrJJOj495rhAN5a60YbouqGJ7rrTIAm7AWgpu/47RbuIa1W7465fuxCudLvc9Ya7gtKIu5Ijc7tymkW7z9Ehu/D+1bo5OfO50kxPOjrW+jqhvS47hwBnO1AElTtJMao767mmO8QamDvyaIo7biBoOxatIzvRDZs6Lv6NOGdzMbrzIMO6CY8Xu0VLQ7sU/UW7Gi8pu6XZDLvk3OO6n02xuty/MrqC8NQ3+LgNOtgkXTqKJKI6DCv1OsjgFTvQpSg7iaZAO7nhazt26oU7KQWDO/7KZDv08Uo7Rj1AO8mQGDuE7Ms6QOMoOtcNPbheCyu6Y3G+uiItA7tPrRC7I/wJu5dnDrsYtAm7Ah/wuvuCtLoWrn66S9NvujK7p7oRs+a6w1QAu+/JH7usb0m7Nr51u+0ghrt3zY67olmVu2wqjLuwuVm7WrfNus/9jLlC2iw6Rfz3OmNbXzsZ6pE7mIKYOzNrkTuq8IU7thdoOwamGzv+tpM6Q5NWORBu/bkYCqK6SKwBu2mnELt3QAO7U4/UutTjvLqNx7W6AH2Mug6XKrr3GcW5VJW5uQJ71bnfgeG5acTkuZ2EB7oz0sC5hSVROSh6cDpd/sI6miXnOgK7DzsB3y87tgQ+OzUiLTv3Ogw7OqDWOszygjoCU4A5v/8Rup6pgbr7C5O6wLiduiOip7rZIqe6tiF+urkY67nutcC3RV4NOYNHozmNGUU6fvybOnmYoDoLf6E68l3BOhAP4TrchuY6jonfOidE+jqY0Rg7gTEuO1mpLDtJGig77LgkO/MNFDuXONg6wzp1OlH2jznYDu25LrCEurrx07qlxAi7aCcVu2vvD7vd3eq6Bii1unxUgroQQRy6jZZpuVuyM7nZrMC5eKkLum/dd7pkfdi63a0mu84qXbs5rn27c1GFuwmfgLua62m7YplEu7hgDbsXZ5y6H9i9uGNidjotqeo61OAjO9tBQDt4dkI7B5YyO0weGDuLtec6Ez+SOoEfmjkE2q65iVw+usJdfbpS4ZC6WAyYupsjmrrmQqe6/UCeun2iirqn60K6BHYIursWjbm5pmO4nCeiOFhL5zkXBTw6dDmJOi1cszoGzco6f13XOrnv5zo/9vg6tH4HO9dKETvEzAE7FIXWOtfSpjqJr2Y6s3UQOo3RFzkYSIS5qc+WuRv8bbg+BxM5bLzPOZOJWDrpYbA6EnLaOiFcADtSgxA7BZYfOxCsITuyEA473p/gOqifrjrdgZU6tblBOqKBpjlkABq42qbRubYRLboIf4e67sXduqu5Jbv1HmS7h3uUu7pVtbtPtc+7U+rlu5Tw4ruU9MK76o+Fu1zN+bq59sC5QtvDOk/UbjuxiLs7Z0fdO72K6DueLvo7War2O6o/zzsA3Yc7vbMROxKtSjpYLSO6VuMYu3/BfrsXI5q7/Eynu+psrbtefq67Jv6lu853lrugNoS7v4Fsu6ciVLuNlie7E4PGuqk8JLo+j/C41Pu/OXKzmDpCgxg7VWRMO9+PazsphIk7ikWXO7lSmTsGT4g76VRjO/CxMztefe86tEQ7OiGk0bk0DbG6r+EMu/IgK7uZA0W7jeBSu5FaUbs30Ty7AM4Xu4nQ+bq2w7+6u5JHuj3jIrkSRJE5nZ0uOmAJgzrvtMA6QnbuOjmLADs6PQk7ndgXO+XvNzvg71I7uFNmO88dazutqmE7EXJRO707KzsAi+k6wS80OiQN/Lhqh226fWbxulw7Frsa0he7R8b/uidY4rrsYrW6fYAjutxL8Tg3/jk6ns6NOv+evjqa+9M69fy2OrMLgzr7+TA6vRYfOpSz3zmFOXg5xryyOHpGtTjLTJo5VPrrOcheCjpy8ss5BMp5OfBSyzjepSq56uVGuquFqbqGq9i6n1QQu/iaObt1IVi7AIBiu4deYbt5eWK71sBru73PZrs+81q7I1pSu0vJR7s4oDS7zhMTuzJm0roy0kO69Q2TOcBsrjrfaxI7eShEO7TRaztnsIA7mDKDO8MggDsfvHg7G4xcO8ZBKTuUVN46APpVOm2SHDl9phW6Fb6uukFOAbt9hx674xUtu96tL7tLYyS7sb4Ku9ClwLrAsFi6FUiPuYVgEzl5vs853gZIOmVsXzqwzl46LYNUOqPtNjqcYj468WgfOpsuHToYsyc6tBtCOoX7PzoxPlk6Q9I/OsH9KzpxYkA6mHIeOpMPCzrQGpM54JdUObH0kTnLHOQ53/cfOptSbDrO8sQ6x20NO/WdNjup11s7fjV1O2BRezuRdmw7j7dMOylOHTvjD8c6nV9BOow/YTWH7mG6KJTaunx/Drt3whK7AiQUu/TSFLtOAgu7BYnzujacwbry/5S6CvtDujWbiLlEmng4j4DqOFhrE7fbKKS5I94uuohjqLrxRha7siVnu8HJnbt2QcK7KQfcu0dm6bt28eO7pTrGu2NOkbsSfhS7ksPRuJTo7zqN2W477n+nO716xjuajNI74nbLOwW1ujtB6Zs7I9ViO9r7ADu4ABw6gW7EuVEqqrp6Fge7yWEyu1HkV7tFVnG7yPV1uwmtarslmma7i2tduz4RTrvZ5jW763cbu9P76boD51e6K1bqOOFDgzoq6Ps6gr4+O/wNeDtS/pA7iruYOy4LljsZA4s7v7dvO5EBPTtzQgA79WOPOmtiwDkmkKO4c8kBung+Z7rX0Ym62mJ5umXlOrpjm9e5wPMXuUcTPDnuBjQ6vieKOvzasDp+AtA6s2PuOlkqCTuJrBU7RBkoO39cNDtu3jg7KB8vO0PCDzu8Q8M6UiIPOnEBoLnqFZG6L+jxuqcjHbu+SDO7Y1s7u1J0Nbv29B67G3kAu/wbq7rv+g26sN4eOXXfRTqpzqE6hEKuOiY9mTqdB1A6i8mWOVaFw7nb2Lu63YI0uwkKibsDZrG7gJjWu7Vj7ruLmwC8fM33u8I3xbsOpma7u7pvugV7eDozXz87ZiaaO5f4xDtHK887bqLLO1cRzjta2b87BI6WOxCIOzva1NQ67mJoOoKNdDktqcW5pSSLujFT7bpq/SO7DZVRu/+4dLuBp4O7I6iFu5wNdbvbp1i777Ayu1Fn4roIjZW5r2eqOmldLzuOF4A7L9mhOzFntjuVMrU7aiqmO6NrjjuDZVo7/QYAOx9Z/jkJK1S6e+IGu2VNQrt4nla7rwVPu+riQbvYiSa7LDcAuxK4tbqoWnu6+sAoumgVYbmh3VE5LKfZOZo56zmExiY6GJ+QOo+TzDr9T/w6dxEbO6CsKjsY0ig7kj0aO41r8jpDEaA6UfkDOnDgkrmcTKi6zTcku2V2Y7vSN4K7eZOIu3i3ibvBaoC7kURAu6aRxbprEkS4khnAOs09UjtOOpw7SUG2OzVmuTvG86o7OdWUO5Kmazsi3Bc7BA54OpP8xLnrb8i6BD8luzlVVrujr2+7kkFuu9d0WbtS/ji7FkIVuyew3rpXS3G65jOYudbzTjnC7Q86Eg6AOmGpszo+p+E6vxEMO4MrFDuYpx877roVOxyE/TrJdb069IxpOguA+Tmek5u4eLUOusRZjrpU/7+6OETNuuAYwroM8K+6RwKZugxXkrrUe6+6MrfmumqDILvhNkK7KEZmu/eDg7utk5O7lWOKu0gxN7uU9hi6EwP6OgdTeTtAoLM7yerSOwbI2jv8F8Q7cOSaO94XZTt4sAY7tnANOoRaiLqNnhW72Wk0u76ZI7tcxgS7lNbCuhRqlbpV8ku6fEA3uj0ogLpCiqK68jGhuh9YXboJhhq6986uuQ2sVDn2YYs6vTICO/F+NDt06kY7jQ9FOyJKJDtDlMg6ZDiKOT1Ti7pKjwu7GuVAu9i/WbsYq2S7UV5cu5lkO7t5DAi7fGuoumthJ7qtdmO5RukVOTrgpzklxbc5pTHoOTKOLDomZZQ6QyfVOs3tBTt/kh07T8IzO3USQzsGBz47/colOypr9jrZ1Zs6hVv3OcRGsbla7nK63cmdusE+j7r8dVu6GkkJum/uMLkbKpE5CRs0Ojq2VjpnuDg6pjYAOgQ0lDmKTSM5boyXOZ7JSTp3dL06010KO3KtMTucNko78tBcO6TxVTtjNzo7R64PO7GGhjpJQq+40VKwutbUJ7vt9267hLqVuxylq7sOLL+7n+LLu2Fq1LsgSNi77Srcuxbc27sihMa7NqyBu8ECaLpO3x87rU2mO+Lr5TvIkAY8uvkIPOAI+TuV7s47kWSwO4MaizuBPiQ74X7AOZ2Avrr68Cu7VqNMu2m4VbtECVi7VUZlu6FqfrtVv4+7JSaluxB5rbs+yJq7+VVXu/BmyroWL/S4UcedOn94Njv7Ro47+y6yO38SxDtPCcQ7GhGqO4RRcTvWbdM6jJfPuUKp/rpj8j672xNeu/0jbLubFmy7yZJau39eOrsfGRa7pcTbur5hjLqqT925pg+UN/KqMzkpRts5QjR8OloW7zoJ1Do7GtB4OyQLlTsm6KA70u+bO8fBhzsVe0w7mZLxOvf6DzrYDRq6uizdujJnM7uIDWG7jWptu1kfW7tyfje7QwwBux1liroNpt65j9Q7NjIZgDkCA8Q5UN0FOsAqXzp39rk6J2cLO9VILjuImEw7I2xtOw1lhjvljIg7hDZnO9lSKDvlr3Y6xjRQunuCKLvnGIK7lEeNu0K7hLsqiVC7a04Ou9URoboDyrK5LyK+OQCHejqnBo869TZHOmbRpTl0KSW5hEsTupD1T7pf2i26Hh1KuQT1oDn2T2c6wlmlOgGxsDqvuJ86J8J9Ou1qGjpTjQc4sPXruZYXiboqSrK6mMi+ug9om7rtPA66VruuuBMloTfQt5q5fDagup2eH7s6jH27ND+lu21xvbs5eMa7JQi7uxlMmbtyPRy7zXPLOXIzazvk7sA7No3pO0HR7juRAs07AYKWO5wHKzvxk5c6QtGMOSAEgDj2wLe3vsvuN+FqejmRUCA6zh0uOqFUtDkmPY25fa+YutTCCLuatT67hb9Ru1amQrv65u66Qds3udhKxTqSG0k7azyHO3yrlDsMCoE7qsEuO1UUkDrygma5QUC5uo0zILsoG0S7pqhMu7i+M7uR9Qy7U/i5ukO+P7qAnb+5rLHAuTXoT7pu1a+6VXjGugmTobp7xNG5ZTwJOmRdxTrEuyI7VRZNO/KSXztJKFQ7jH00O7UlATtmTYI6YPgKOe1OHLrzr4i6ONt7uu4cG7oavpq4HJDiOXWDTzpK03I6+TkjOgNIwzc87z26Za+8ug/V+brjbQy7RXr6uj7OrLpXePm5IAHMOakrojp6Ggg7S584O/cESzsYVzw71NUTO8j3qDo+veU5VaHwuRAGj7qrdMy6663uuiU0Cbv08ii7/rFOu9Ssd7sP6Yq7DGyUuxgCm7u3QZm747WXu8JAlbsa9oq79dFVu0GRcLqC5P46WSSrO8op5js+b/c7nD/kOyWAqzu0dk47qR5tOpBl+DdN1Jq5GVz8ucvUZ7qihLO6lVrnuvi+CLvpFh67z4Qqu81VNbvtPTu7iSpHu3CkV7vUNk+7yl4SuwSLsLlycO46GIh/O6ixrztdOMU7pya4O1+fkDtl0zQ7QG2yOstk+TlaowK4wBUYumMZj7phFsu6ByT3uqfPBLuRdg674m4Uu6bTHrspXCi715A8uzIlQbvO9Cu7l2G7uhOuVzmyIfE6Gz1gO+skjjsi4pY7SMaIO+KrTjsa8wQ75kB6OhmlEzlRXte5P2uFutkAqrr5bbu6qxW2uhUksbp6Nr+6J43Wunn//7pUvxO7dgclu90DJruYywu7sb+ruvFql7lQoW06ROEPO7QhazsR0o07gX+XO3hWizvtHFg7STcBO/XPwTlvalS6VoTxupzXE7vaoxC7kiPhuo+Wnrp1aEi6hfLFuSXNOrlXtom52MnBudwrk7mHjtG4syKdOYTOczr4Cd86wYcUO+BVLTtvSy87m/ghO2429jrSHIo6qm1qOSV3ELo26KS6GyLzuqRp/rpfFMm6H5dfuoIc4riXtpA5/AcHOkW4qTlwCqC3KEzeuZgdSLrPFSe61wi6uTsCdzi84JU4LDgxuE1lOrqg3My6Bjkgu5HRWrtRt327GESLu9wNiLuX14W7Coh+u+bqb7uDqjO7NpiOul11ezoh7VQ7YCWbO+c5rjs7OJU7mVlNO8XBuDo9OaI5nq92Oa7BUzp5vt861wEKOwCu9DqoT2866+uruW5p3LqOSTO7iO1Eu/7TJrtCE/e63fuJui07vblGUNU5LPagOgBiBDsbHS87PbA1O7ByITvwWdg66tpEOkwgx7j7rQO63aYYuiu/v7l34GC3el42uKBbYLn6J2y6FbPrunAGLruSQFa7BoFIuxlHIrvXhL+6sI2quf+hNzrUBOA6dOciOxOpUDvFSnI70bmAO02CfjuRl2A7BnA3OyYzCzuIvcw6P8GjOjsHgjojyG46PV4LOvwaIDg/MUa6rDTwup0VJbva2DS7oWofu1+TzLrBafK53+rNOWXEjzoo5bM65tKhOnxFTzo92l85N1iducpsULqxopS6tyCQugeFb7rsLBi6aHGuuapnDrqm4Jm6itwcu2kcfrviZba7uQzou5I3BrwvJAu8MrL8u2JhprtAZY66ynJkO8ou8Du+SBk8C6kdPAKi/TuQnJo7yBCVOuyQgLpBX8+6Fbx8ujjdojmMZag6+SXoOmmFgTrtVTK6MGRKuxwqr7vVEtq794ziuzScz7tIo6C7YKI1uy2fp7hYZzM7MPauO5NL7jv8fgg8KtIFPFGW1jtFUYU7orGvOuyf5bnTiJ26FWKGukkilrk0MQ86x2t6OvhAkDkdzZq65XFBuxMakLt3PaK7CVWXuyiXZLuzbum6I9O5OPDP5zry1j47bh9xO2kHhzsYuY47B5CIOzbCZzsyETI7xXHuOgrlhDqexaE5aVvhtyU7Z7nTwem5XD1suhFb9LqROk+7pmGNu1VhorvQO567cOB9u+gpGLvwNhK63ClaOk561joykdI6CTCcOhC2NTqOGGA5mIALOXAt7DmQT5A6pH/IOkkI0TooSLY64n1gOkk3gDhhW1O6uJLJui36/7qt/wa76sPhujWhlbo4+t+5R+LtOf6tpDqBee46Z70DO3qkBTu41v46IDnjOmyPqzonL3c6HopmOn+7azqDa2I6i/hCOkRUJzopzqo50LJIuUaUR7ofl6W66tfPusdj0bpMZpu6z4I0ugZCHzfGcPs52p1YOpnqQzpLmrw5r1XWODJQQLne7FC4rA4kOM918zl5g2U6pDaLOotLdjpUTao5cqeSuchrg7rFtPC6I8omuwQBSbs1oF67I4JyuzTBgbsxQ4O78UyEu+zyf7ujalW7ryvWuofvNjpzyGk7nUzCO8116DubyeM72cu0OyfFazupFtQ6BPZEOoI0YzoX19k67DAdO3EzGjsVW8k60KI2uHKV9bp/YGq7XnCQu2m+iruGuVu7O+MUuy/mo7p+3QK6j9qjOBwYEjr/Upk6klj+Ot3sJDuM5DY7//okO2jf8jrbP3Y6wawTOXnn8rmFF326rUW+ukozA7tVAya7LmpRu2tsdbtpYoK7fvl3u0tHR7ukbv66eahJurDpgjlLRpI6QRbgOkTJBzs9zhg7acsmO/DCMjsah0A7TWdGO68ZOTshXhw7ig/TOmaPOTogMse4+ARYuiuJurr7WvS6rAMHu3RuB7s85/269TrSum0he7pXumq5cBjuOS+EoDqJUd86PSjwOl5wyjreqIg67+XsOY7WhjdgPWm3MvywOMHsGDqZ7HQ6SpeJOg0rQTpVByw5QdMsuZRw37n/IGK5Sg2wuOSlGjko9XQ5hlybOXIwwjkYcfo5d+WAOkVarTrqK+g6uI/wOnPusTpqINs5MWF5ukXfKbsb+4W7x1ytu+LhwLuG98S7NJy/uwdBurvrlqW7r1dTu2EjO7oChQk7dYiKO6/LuTug7Lw7TqabO8CNOTvV7Jo6j76AOmSEATuyEm07xGqYO0L5njsObF87KgYaOidbTbuXJ9G7+bkAvDll8rt1m7S7NkFIu5tBMLrfmYI6rBLWOh3ntDrqG046nNP6OVesOTqW8YI6+Qm5Oizr8jqYhhw7ut4qO+NUIDtlqQU7NUy6OlddLzqk9RC622YKu1agY7sYBIy7BkyPu+/xd7sYRie7Bj16uqyRjDm4z206QGlwOkpkFjrt2pE5zVCgOSHgeTrGjwo7n4VjO+nHkzuATpg7YzeAO0ToHDtLmTU6WhVRuiArBbv6DCa7Hrocu1GC97p7ubG6zOdaurQIYbn2hWs5YJtAOqsooTp4zdA6MnnuOkMt0zodhZ069aIwOjwvIDrDoY46aMAFO3FUTDvw1nI7hLh3O3QsRjtR8tk6484POd34bLrrHq66dLifuvUSSbo4meq58DyoucDvUrqQhdm6qZAwuyhhbLu9o4K7NnWLu+mgk7uGU5y7nJipu89WtbvgRcG7bz6zuxTVW7uHM3e3kZV0O1LZzTuzbuw71tfVO+5JjTuZlKE6p7S0ujeb5rpYk7K5RyfhOgpPVTsRhHA7wakrO4DVBjXfDmi7YOTZu1diAryEPPC7ekG2uyUXXrsj3pq6cFQgOoSo2zpT3Qc7vZ8ZO8MLPztNwXo78iGNO8vihzsgcWg7v6UzO5Cu9Dp4rXo6JqUJOvZuEzpt2B06BnOUOKNGkbowCiy7X5l7u/Z9j7sxaoe7IHs9u58fd7qpLH86vZgXO2alLTtayBU7+vLsOukttTp3M6M6WaXMOk2ZGTtSbUI7wNA5O37K+jrwMA464VE6ui4y5rpPLyS7bm0gu8ou4roxmSS6Av8hOQ80CDquZDo6Ma0fOnwi3znj86g47XGPuETiHreHfZ05cpxFOpl6kjpxRMQ6Olb9OnIrETtD5wU7ppyrOtXJwjkxKPa5zde6urK2BLun0wa7jxaiuvNG6bfNv5M6B4EBO/OACjvT+OY6QvJQOhcPTbklF2661huEupZq+7kKmSA5tMhAOvIbgzpIVEo6KC9huFTKsLrTbzi7QoV3u6YehrtgoYS7pFhzu7XsXbvGUlG7Vopdu2WXebvx2o67zPSLu7S7N7tVb6a5NkQpOyoapTucwtE7sBDPOyA8oDs08R47KLbOORjhkLnniWc5HG+oOh3+Bzs39hM74KW4Om9y+LkigDi7gvycuwC9r7uKi5a7OEVLuyF0tbrW2to3ydiJOqSssToI/po64p2bOpLb5jpadS87hB1dO628cTuBHWk7P5I+O2wr6TpOxvk5gR+SufEgF7owMSW6Z0squolKUroXS366hsuuunYo5LqgOQG77TjWuqQNaLrCXky4RVMxOgCVnDrUu8Q62ODhOmPn8DrePwM7lQkUO3GKIjvP9x47zYgCO6o0qjpyI/k5vP8muex7L7pthmm6cohCuija8rmFMVS54CY3ubxr+LlEUjS68+5fuogaRbpIrAC6eSAyubSmBTnDvKc5/GeWOaiizTinNkM5M3EYOg1/pjooXPs6hyoWO3NKEDuwO9Q66xUdOoMs6rnO9Jy6xTPBuujqrbqpsYi68e9supzEc7oY36S6uAnxutd5GbuOSCC7WTUTu0728LpSS9W6iKP2umeuJrsN+mS7BIWXu6xwqLuVwIa7qm7MuvDq3jqirpA7VtnBOxQKvTvJyIk7ObnKOh+gS7qqK8y6JHQeun23kTqpEj47nhl8O+mwYjvBeMQ6Nc7Quhe/lLs2ac27SbrJu2jDo7sOPUm7NyOmuqzzezksg3k66x6HOpnydTr7Gaw6NAsNO5P9ODvGJ0g72wk7OxX4JDtlufo6ELKyOn4lhDqfK6c6UifPOv/hvTrhGgw6JcomuhyD5bqcjCi7Dq80u7x3C7vXElW67N78OYOOuzqKZ8k6fBumOmttejqMIV46vV6TOu99/Tq4O0U76vWAO1ishjtxDGQ796scO+T6mjpU3505NU2buYY6AbqO0hK64bcfuu0zdLo5GeW6qaQpu07eR7vSO1W7cl5Fu2VDIruxgdK6K+BGupgIL7kbv+Y5ZQ6NOs0oBDs1dEU7c+F/O3HHhjvjdnA7Pq4oO27CiTrvag26PdDPumV98Lrg5re6t4RJuo8j57mfsuG5tPGQul4oD7v6rl+7+ouHu3viibsUmWO7yismu52q77qe8t262kACu8sCI7vZRz670oYau732LLoUofc67oGGO9hTrjvjjKg7xVOHOzZVEzse1R86j/vttvK6SDotkhU76VlhO1fIbjuNuiU7xbsLOkWhC7sjLJW7s+/Du1K1tbtBj4a7JncSu541PLpsros5rmMzOmc/LTpGkBo6GQ11OtGc6jo8qSs7i0lLO+AZPTtWHRw7GdPdOnjggDoUjwE6WOHPOdKIpjnfMUc5P1nyucl1q7qwtQW7Ufwju9F4KbvuVRe7RlbJusKGVbrGjq65g+pWufpuELlbEfM3i7AeOtZXrTqMYwY7ClopO4ZyNTuUVi87/0cUOxqA7joU/M06xJDPOkdNwDrXK5k63FfqOaYAmLnknaK6ybMFu76tI7txWhm7NdvsurJ5jroaArW5dB0+OX99Nzp1V2A6ynGLOgwrhjqb2K86ernKOmB19zqCSgA7tMj9OqOi1TrBfIE6Vx2KOYHG7LmiuVO63p6Rur9igLpQN2q6yWwJuopqvLn/5U25z0p0uULRibnLQo+566FzucEPwbmL40+6+W/Jula3IbvWw2a75nyYu2Jrs7tYi8W7rhbEu2ebrruf/Vy7mmkPuqwSJDsI55w75d2+OxOhuDuY5ZI79aAoOxgJiToOGlI6cjYKO3EYgDujqqQ7rs+hO3IlXjvbfUU6w+Q4u84EwrvIs/e7Vifpu5Q/tbtQkWW7p2jUum0ahrlEj1c5UVKbNtzUVLl8ZhW5C2UtOosO4jqhnDI7CbNdOxE9djsbQnA7b7xJO915EDv9u8M6B6pKOuar0bjar5266ikbu0+ARLv4JFK7r5A/uyT8GbupEsO643tAugZ017l8RhW6FCRGukjTLLpNLPW4kPCCOgB4IjsRe4o7TPGyOzScvjuQNKY73UV1O39KDDvuhz46LilquQaGRrrbw0u687EvurcSTLqnDqG6INL5ur3OK7soUka7nSVJu+MpMrtkNQG7HkmFugIDmbkZxUs5CUITOkCulzqfgOs6pucbO5GaNTv30T87vmtAO7J4KzsGjAA7B5GmOshVaToqJgw6Q3tdOdNCW7n9kUq6h+PAurkPCrsbMyu7br0tu4R0ELs5xMa6oT1iutPKA7rQVeq5F7MaurRcPrpHD1u69ZMxusLZpLnUERM5SEKROX5CNDm2NXW5e+VtugK077pdsCa7i74qu0cG9rou+B26K5L/OSdbsDqD/+U6XQPeOvZumTpmKD06rcwxOnrhrTqu3w47S+A2OyFXNjvgsBA7a+eMOvTuoLkqMri6R/ICu3exxrpG7zG6RBSdOFejkzkL8GE594CFud6SkbrYyee6+m/qupUGf7rir0M2kWdYOj6DqzorgLQ6HHF5OsXsjDliYb+5WdAturHCHboSJ3e5ivxVOOw5TDmAzdM5UR+7OfSFyziHpqq57JFHuv83j7ok56e68U2/upKhvbpEi6S6OSyAuifhSrpc7fG5ZiieuLxkyDmnjYA6XVe2Olq05zpaFv86yHIEO55n7jo/f8s6Yq6jOjyljDoQQWc6vlsuOg36ATrKEZ45scTuOCJC1LmmnHq6USm3unaJzLrh8cK6Kf+KuvBY3LkPR6Y5JdOOOroB2zruMPc6vqTuOu/0zTrJQKU6onJ3OotkLzoStCI6Zd4dOtAmGDpWpt45c7b1OME7yLm/0HC6GNO8ukQ567pf+uC6Rkq2uvRPgLorKx66FPhcuaCINLc26cA3MXcuufrmBLpcGTK6TVlSuoL5T7qX1Bu6hqu/uZwDrrg3AKS4QAKtuVa0XLqFnbS66GPzuo88BLvlbAO7tuX5uvTQ27qf++y6c8D3ums2DLuSfAG7mhXPun6aKLomDYU588WZOlOZ6jr0yf46fD3mOkSFnjoBH4o6EP6COsittzpZHuc6UBQNO+hPATsHOa86MkGvOfK8JrpF2726f7zeul+BrLrYnAq6WBKwOUp2YzqgiJ06WraBOu/6PjrtZLM5yaY0OXkkfDkcWRU6DRV2OmAGpToQ4aE6Tn1gOm4+8zn8n1I3ogyNuREjB7oSNAe6XtEUusLKK7rROne64wqfurZvqroo/JK6kDwuuhT2/rj1rb45prspOqRaKDqQa/o5Uo6lOfxNOjlDabQ52nv4OdEfLDozmC86f88mOjfX5DnDl1Y5l0mSuFNrdrlBgcS56NoOukozOrrEbW26gvxiuumXLrrWx0+59C+AOcgmKTqTmlI6b9EfOt79UDnMKWG5bBEEukojk7nDfBo5FsotOg7LkDrlrp86K1pjOmkgXzlvyNG5kvdouuoWerqwBja6EyB0uUw8MDnbl7857A2sOeUn2DgatWy35f8NuCUtZzi4VJU5ry7qOcHsETqa4QI6A4mMOamR+LgK++65WRksulRbULqnc3u6mpGbuieGsbqkv8K6wVbQutDx0rrUSLe6B0h3urLR57nopHm4sNkXOTFvlDkmBaU5laabOQpmkTmPfIw5JOiBOWO+KDn+AAy45qyxucUILbqz+He6ChmNulYAirrsaGG67BUluvHPwrk2riy5Ir5qt3rrDTnHt4U5rUfPOf2FIzpcDl86Ga+POtbYsTqIbsU6tbrbOqZV6DrIMuA6SZHFOl2qnDrCLVY6vrj0OccDOzlgS+U3HJheuNkrWLjNs6622LrHuJDMUblw3KW55TKNuQUEZLmbBCS5GSVxsyA4mTip94k5bh0NOuZ1RTrFLlY6ZVRNOqzXADoDpjk5fC/ut4oVjLlTTY+5/rQLufWFCzgsQzk5LNeMOdvKETnnj/e4v0kEukkoZbpqiXu6r8FvuoJsPLoRit+5RUWmueLd3LnqJye6v3Nmuv12d7o6sma6PNNPuk1rD7q9ktm5FxrjuVRQGbqHwVu63plnurQKZ7rBHTy6rF0AulskfLk+0OS4XjIFuTvjwrkYwTq6f3h8utUrkLouZIm6XGl2utGkI7qG+JK5LI4WuIzmgTigwMM4vtijOFVs9zeR1f+2Dq3eNnoMPzgdh385lf75OczjLDqlG1s6es9yOjQ9bjoMyjo6RzP8OYRoPznS20M4UlwktxqQrDhPKrk5WYksOpBPgzqm2qA6c0yaOj84ezp/YTg6hSPqOU9PxDmG7+A5IqczOvzWbTqJHYg6vN6LOvMvgTryyGM6nNQqOlcS5Tl4Eys5VGmqt1aAEblVFc+5BbY5uuB8c7r02n66n+h3uj3lVboU9i+6TNEiuhSoP7q1Mom6Xby5umeO5LoKX/C6hy7mulaYs7pHi0+6gqWdudi1RLjHzh+4H7NBuR9YArrZTFG6d1CEukAwZbq6X9m5vLTnN1Om3jmbrCM6b9v9Ob7JQjmdbCC5DEjNubbp/bmCL3y56ZejOCk++zn+5Eg6rx0zOixn6Dm+BoU4o145uaBrpbk5jGe5VsUDuFEWnzl13SA6f65GOkcBbTpRTFI6kHExOp4SBTpLuf45xNIKOpHBCjoaPho6v/8GOi2u/jkdR605eZgXORkdS7ZppJi4MDoLuTSR7Liu5aa4X8GpuOWYRrgOkwG5CPETuQkiHrmUQkO4g0OpODvwpTl3BQQ6fg0gOsDuETqQ3Vk5XHmXuPofwrmPMhe6/VEXuqqd87n8GZ+5wqBvuYQhU7mejbO5aYgtuorIYrqctXi6a0B0ukz7XLpezkW6Wr8gutYdDLqA+8+5fTObufJ/SbnKnM64jaFHuDyc9reLQuq4O/ugt8mFTTjhQWI5YC2uOaUfyTnBf705cn1gOXP3lDimj1m3Bg0qNBgVsrWbSwU5kzOMOVSsxTkuXNk5ehHxOUKMFDoSq1U6WraaOiKUwjp8Jck6KzitOhCneDrx4tA5myiLOAD6GrkRyRe57KlZN0oiYDkI0PM5A4ijOYSaYjgndU65juEFupPHL7peSyy6tYjKucNeQri3bqk4UYMDOVAnyTipwIc4JNPzuO4Ivrk12BG6QKYjus73NrorkVi6ZpVnunBRdbqGe3O6lfuBupOehro9s5O6ELWMuvxFfroecFe62QYJunNuBLn+gys5WZxXOeLKZTkfCt846w8uOHS0pTdJPRM5/3mZOZsiFzqwWFM65mVMOvo7ITpAR5M5imJDOFtvRLkgmq25vFezuYu5XbnKXfy4cYdvuEQHHLhuP6+3jw76NvDW+zdILEM5TizoOfLMYTrkwJQ6HDmpOk3opDoAoog6Axg0OqXirTn7Pns5joVLOd0QdDmVCZo5nFKeOfDnczlqUCu3fUfMuTUBUbqSfoK6bD5yuoMJJ7ogJ5a52Fx6uJOjvzif1TQ5CarSOBSjKrh+3u+4vbqMuLSJlTdXbwU53+YMOcT9OzirbfA2IHUPuQSor7k6V+C5UZTUuZoqhbn/o/S4AsoluVGLh7n4+sW5Zybdud681rn1It+5GRnEud4GtrnLXq25WzrkueW+C7pHyfy5z7++uSIyWrmXPxq5FDs5uLa6CLg4lQK5T3Bdua3lgrlFJRS5iaVjuKsGjbd5vvY2TUVst4NdirjDX964ocMiuYhGqLgmpjA5JhffOcPyEDruxjA63eQ0OoeLEzom29U5KyqCObl4KTmwB1w5qRiJOZNDPzmILkc5Y0mnOKCuhDf5O7644R3uuO/LFrfp11A4QmplOY3DqTlMOqc555ydOaLQhzlyPIs5EgLROV29+TlUghU6JPoTOlrwATqblmA57BuSuD75lblbdt+5KBTAuZ85X7kZD5m44zF+twyn+zbVooG4CeYhuThfjbkvDpe5H+y8ucKDxrkVBre5NS2pufB4brkrjUy5zCFauXRwaLmv3W659z2Jucg8TrmEGJy4mqllOIXRhDmfM6E51eqeOQAwIDldSZK30wycuISvbLnD1KW5is7UuTc64Lk4Lsq59uqvuaoLqrmo0JS5GHAwudTqcji0OQg54R5AuGAKIjcczBI5Hj+8OHEKWbdpTQE5z4SOOUEgyjnfb/k5aPGCOWd/bTl72gE60qwJOj+lsjnKV6I5Q2NLOR/8NbibslG5sWjGub07wrm66TS4LHSPOaY3izkoprc5ieUNOrAiFjpUYBM6srIQOt2qDDp2ERQ6vGILOon2uDmBhE45VgQpObHG2DhJ+V+4INLEua91LLo8dDi6pOU1ugIXNLrilQy6B1KTuTbGXLmEH565PM/6ua8YGbp/ZNi5/0pluPdPmzk7jyE6hF1IOrDfOjo4mbQ5ZltWuZUiGrpkpze6kk4tumWw/blP7h255EdqONlf7Tiz6mQ3FDsxuR5yjbnQ0Ae5ngQ4OH8bgTlrfPA5Td4QOoqJJjo7Fx86sH8BOtIM0Tn2eqo5O/VcOQZpYTiXO7i3LEKytzjOjjjtSfc4aFMqOLSogLhCGzO5pU2GuQTQ5Ln528u54U4HuSZxTTi+gBw5RRSlOMmC4reZAAC5zDlduQ3EnrnvJZW5CNGTuI7NLzjCplo4nLnRuBssyrlvp+e5/wDcuZehvrkDGWy5FE+kuE85hjj2LHI4HJmCto6q2Da1hpc4DgpKOU61ljll65Q5ENReOep39jhjICI4gnUtt6LquTe3ND45MIqnOTi8rTmC+WA5/2yRtMg+nrmodgq6yoEhuhvLDbo9HkS5itEJOcO4pzmuE+w5fh0COrOm5jl3EI85IDgtOU1bUTnVHLk5ADcLOtQEEzpegfw5weS3OQc7NTls8ic43yDSuDCCOLlsPi+5eFQZuTexYbnTOKm5JybwudGxD7oTdga658bruVFYkLkomK+3laoyOTGCZjkjzvY4ZtXMNzd8rLemQc+4yms5uGGZtjfxvBU5GCWoOerW1Dk5cEQ5fD7At4VVIrmG+te50QsSuvl3BrqXPqK53fiHuVz5Crm3DtC4oUhCued5i7nqOJK5MfEmuTgM47ikiFQ2ORpNORZPsDn6bvk58M4gOm6AFTqe2985tjGOOSV4dTlZrug4YJejuIrv+bhlLaq4/ntQuP3PJ7jVLng3BhHsN4ZsuTgx/0M5XotpOZLGWjmuOD05q8RUOcMlaDnNvaM5AJ3vOcYUDTqlfQk6Uv/POQVQHDkuJwS33lQHNZqJfDglUg05KyZLObT+iDnjXVM5cUekOD5Sk7h/cDa5VlI/ud/+S7mX9Se50ForuYBG17gOV523KVjKuK/yaLnrfl65JlMduTNlubgKhLU2OXl2t4lxOTibn843SHYEN4bwH7h+7Be5t2exuB2ESrjs9bq4Wp7tuN+BBrjfZhU462jQOCLtATmOmuA4t3OROOCNODgf6Gg4mRDMOORZVDj24t44Li4xOanvyDjjhJY4s2YrOKhuiTeFOJ+4aJiDudeFwrnLhN+5TofgudbdobnljdO4oksLORwovjmkHwM6H4IGOgpstTnEDQQ51LX2OMC8zjjuoMo4KQt7OKF4CjmddWs5ZEJ2OXTgITkXKeY3iu00uHwLU7kJNIC5yijWuS+gqrkwmZC4d33IOCM6iznIIaE5BQK7Ofiqmzntuw05zMGYOO5ZADnp1HI5CkWQOf8LXTn18Rk5uf5KOKFlP7eZ0QS4x45auNZ3Qrh1mk+4fQe/t5zMhTdUnn+2051yt9eA3DVUDfk2iPiLuMiHo7hwc8w3gZYwOEB5vzh3sGw5zpNjOeSyCjn4Cr04OonsN07OUDhI09E3VrzFuAHZVLkuTWe5yCEsuYCio7iWqfW3d3PdNo4I1jfRVf43AO6At2gwFLk0pUC5134uudnB/be/Ags5s3tzOZKGXzkG1Ds5twUBOeJBezgpznI4/sNlOE3mIzlWWL85ufrWOTp9tTnc8bQ5sWFBOfzrVjeRbLM2FMs0uHa7grgBISI4RgKlOI6IQjhcQq83ltOKN9h1F7nb+mq5juQmuZA9O7lmbn+5SEqEucUhc7k36525gnqGudSQbbl2C125tZIBufCB4Lesfl+4TuM7uXcML7mJBqy4H64AN2mQsLd+3BG4QVKGtyHb6LcA23a4e54OufRZgLnwyzG5IHQ/Np1D3TaEi0S3j/Qlt7g0NThV3ys41aigt1lJ8LeeIYu2rJpeOLtTFDnvoYs5wrbJOYxE+jneDAU6HirMOX0KlTkFhZE5/ry5OeLnwDmmuNA5204WOsRzIjpc0gY6UsG2OeGlOTnQrxA5SoZ9OcAmsTkOkqM5Eri4OXmKsDmJBfQ4TgBkuHtNJrnSvRa5eb9RuG5UejcIr540Y6jMt28WwbbXwKY3XRw2N6HN/DdE0NQ3xQiWN3KDPLgvGjW5ohk2uc+PxrgPeKK3P5m1ttolpLcZxuu4rzd/ufPo1bm7vR+65Zorusk77bmSa7i5MQavueMSZrln64q4JkWrNkbUB7mI4Tq5YSJduXuYRbk71Ou4Ab5FueWyCbktJHE4Fz1EOXZUzzjrkI+30KqDN4V9kji5GGM4voEtuIDvN7gDJbI23marOPrAoTgQOpI2PqwaOIV3yjgb2Bg5SFJ1ONAHZDioNg45F3IVOXgCBjniclI4NUPuOLbObjnlDbs5HKWuORAKbDktKLc5J8a5OWOLMzkH4Nk3u+F0OPBQBTkbOF84OEzHOCIHATltjBg4CwJNtV1isjdAC9i4qJRJuSEC4Lcn0ra2MxTXuH4UALgHJ/04uN5HOOPT/bZiBY84ugWBOBQbADfQdhK3jpCFN2J5iLgbsJ+4sffUN341RbdlZSG5ub4Wuen3r7guATK5RnZHuYBVz7j/Pri3rjW8ti3+RLhpA024AHgPuIDN4jfiI7447MsFOUrKLDn6OQ45pyeLOMXj6zVFuyI2CJ0OtrFpBbg2l9a3ofspuGY+ubh+G424+nU4uHNUM7gTUFS4DRJdNyt5HziZA/42YfzwthtCQTcABg830fDMuOCMTbjuQ7830BoHOfJIljgKt1Y2sUAmt33rzrjSqqK4KEl5uFbEarhassI3eHPOOCdERrhVJmi5BAiZuRmXPbmmUym5yzhQuZyTX7g6WO04aRHUOGxrCLfZJbu3Wm6bt7S4UTYhI+C3BkKhuFnTebiZIsi3fUPGOBmigjgUJHy4TS6puI5jkrj/bUu5rgABuoBCCLri9aq5x+YquUqeDLmpKha5ahc5ufWfhbikZ+c3LPpjOPDqjDg7H9o4RBmJOUQViDmuPAk5fUeYtuJ9zjXHamE1W3Inttd3eDZb1Ji2IjekNi6p/7Q6iLk3QbWFN5KXXze4rqQ3qbXROCRH5TieWWk44yjvOOkTxTgSVPQ46MIPOfWCNDnDnlY5Ul6AOYvptjlCk6g55OEZOVrFlzZOz0I2cnXGthOkjTik4Qs56oQbOU5BJzlkpb84ut+is3Pa57g+Ch65hIufuOXelTaWxn+36KwBuRdxcbmxLZq50v+kuU3PnLns4WO5hLBCuQlZI7ndYwm4MPo9uP6QHrlF5wC5KUcBuQw8jrnjyrW57uegub9trbmgyJm5JL9CubVxQbnHIoy5mU2ouSCOpblv4M25W87LuQwDbbmQBoi4jBvittz96DfRwak45TEPOItGeza6OLO0m+XhNtBlrDb4pGs28o4XN5c3D7e8drm2Kla1NjEuFDegiA+3+gCdN32QGjgAC5Y3WdVHuHTU2bhEvo+4vs7Ttym60zZU+Ck4d2BsOP270DiTEN04nYidOHdxajg1ckw413nrOHcdIjnbqyE5OMXhOHZ/fDhZTdM3JKWxNuXjULcVAFm3JxWCNqCtG7aq+Ok2hHJ1OJKmlTh4WC04bzsuOI+ggDemKeA1WRIpto8RYzZRX6O3yDyAtyyUITjEj8E4lCiGOMrleDZlSVa3e/wfuLbGk7infia5fzhOuSB3VLn/8VW5Ygw3uVmts7jLJaW3QSCdt0aFqraJ5R42OMKvtbXaTzT51Qo2VTWJt7rlJLismM+360WStu2ETrhSVfG4GisduVz7KrnnYiO57ta+uAHesLgOlhG5/7YRuRWRELn7mWC58m86uTyw9ri82JS4E3nYNpUAtDaftcU4r9oiOVdAFjkmtx85EKugOA1VSjZ2Roe4fvkruUZjL7nyo2m5eEg2uV5X7LcFDzm22sI4OA9+FzjyNwu3xFsJuH2rlLjkYK24bB31uOrQh7jm5tE3SRrNN7wLijiFyHk4Z6uGNm4w1bfdX8C4NSbtuKIhl7hXlYC3cmVhN+IUxraL2tg2CyQHuE6V47jnaR65apBBuUi2zLjMmPM1D3LPtijqMjcX53U3X0VeN3JuzDeKzmk2Qu9FN1R4Abd0/R04c5OEOPM4YzjPh8M4HdmBOFqagjgcOag4njhjOHwjoTcZeD22aWUNNhozwjdNcfI3Fp6jNwvlyLVLFCA2K+u9NxBzxjfjtRo4j4i3NggrVzdSMoc4meHAN2O6VTc2z2I3uzuktvzuezaTzaO2bpput8umo7YGyXM2JtqOtv/D3TaJaQq4VBhwuNNsfLg1Xe64c4v6uCxc3riF7AS58rxCuEFxJDfKtye3xtf5tQOaR7dveyg2Ol97uN0KEbn5BTO5WMkvuZUdFrkyaB65prJ9uVDpZLnPYg25zgz9uBLn57gHcLy4s/LCt0pdgbc7e7W2t3nHt4wvf7fHUy+4IWJyt3WKhLfVwJC3cWwuN/wafjaDvT44LTRIN768yrWt8t63tnfgtuk5BbjzgBa3brSRNzBQMjg38hM5jOMPObTBADmuxgM4LGnOtcNnBTf+LN427tO3OMzA3zhIrus4Xt6ION5iWzifnTk4qKnHtoQNUzfRzjC0I+B4Ns2NPre7V1+4wPrYuDUPirgsCjG4xclouElH2LcBAEq3G0XBtXJOLzbM3DG42b6LuNXdI7fsEaQ1k32JNgzLrrfrDhI3i74LODvA6Tdm+ho2N0tat4/eU7ibs+O4yu3SuJiM6bijcbm4ljsAuAebgDaATBq2nLgjuORLlbhTj3O4b0o7uPcVKbfmOrK24uKRONQECjnH8Qo5UJoNOeLomDhQ7JY3u12xttXW3DV6d483ELwgONcNBTjxjKk3pnULN3dT9bZBFRs3cvELONfoPziWA1s4JXi2OH6ryTjqKlE4sx5KOJNgdjilmaU4VtqRONOD9zfcI4U2FkyLt2lc2jSpeMs0HQFPtQTrijVp8hk31HCvtYdQm7jbFui4x6AfuW4JfLgvKA23m5nGt90jfjaQSiO2jAsAtR0agLhPHXC4PMSCuKjhj7hmNHS4fooLt/eprzeHra84Gd2cOB3rCDjWwwM4nV1Nt43/ajiYjbQ3hJhXtrbwnDftoaE3+NrMN6OatTfww284EInNN5hImTSmGRK39Fk3tuiy6LWYsOA3xxahOMhldDh6W7447EixOB2Wkjg8mgI4PJe0t28gkLePbfO0GeiLNZB6JrV9dam2Fz0Wt3NxLTeEW5O4/iQDuaSVfbgeofk21wuCNqUGcTeHoT43Bi1Mtl5lfDbQ6683wnAqOAeGgDg1B8c4l1WROG/T9TemiZG2fE3ntiXfF7dyf4C2m/vVNXnvRLas+DS3IBiUtozT7rYEV243sTtHOElBNTgCsLc3MwNIN46RtrdCViW4Sv6rtrwZmbgREpG4GfIWt69wi7e5mhq4LywMt/8NeDYbBXK2wvSNNtXUJrf9ORW3SZFvuHncqbhxSpK45zfjuIJ24bjCznm4Z7QeuK1xk7cLZhg379+xNw7HYziyMAM5kWkROYYA3jjIgSU4Z5vBNKpOHTcYX2k3IEQJN4lyhTdQSqA4gRqLOJGWuzdEbwY2OLQqte2OCDWHmHK1CE5cNpIQHjfq3O82NH5MN4DfqrWhM/80nzRONe55b7d3RP22fjvRNMeqVDgx9R44ekE4OCWmrjdWzoc2FykbuJsJ57i+vdy4NR2CuKKLvbjSN9e458KVuAt6i7jwJz+4HQwUuUGRB7nCTBm5a/QyuYzXBLlxLBG5xqEKuaMGI7hPAyI30CnhtOY8UThGExq2Mp+3NXIrBjWe2Ua2kYT7Ni9xA7jlQCW4hGeBuKhqdriG/1q4waaftqrS9bfdw1K4o+4RuFalIrjylDa23mwONqfkS7bJmxU3nZoeN7pZADcQdMY3+dM6OFnuvzirV6c4M+PXOFsqGDkk8i85jcQjOcUT5zhAlKI4OnDIOIMs5DhaA9U46y/UOMqVkjgRvOY4Me/BOH7r9DhCZwY5sW3vODTz7zgUmNA4h38kOSPBPDmZ61k5k04VOYnljjjQJU44DpRkOEYAqjj+eZc4hD8OOZj+BTnylG44+oW5txguyrhBbTi46ZRFuKY4/rf0GGQ3BA1at3ROTbeV79a3nwtjuAS39bgH5Bu5DyYyuTs6JbnyI+246NW4uDO0g7j+dn+4Eg+huMQ9/7g2HRy5Q1NfueyATbm6lwq5mo+duD1VPDbhoBsxbY14uBCo8LhnRMi4+TKWuIF5Cbg4Sse3B4gith9dYzj0brg3P5c0tgK1F7jwbWe4VDe0tyFAkrUh7gU3UIu9NhEwNDjVfWQ4XvTuNehNyTVjjwK2OmrVNZhyhTa+dEU3xquHOHbzmDiOMfU4oxIfOY/Wrjjk2h44csXNOMlotzgvoew3htg9OOocujgR7oU4C9JqOJPblDjs6YM4zYcWOGDFX7Xb2FE4V1mZOOAV0TjjJZc472xKOMNAFTiKvzU4G6EKOExXRrZTc+83WvnLODGNTDkwjf84orVHOL9qOjcgOX+2f0NCNmdRLrar0CQ2b4hSt20SFjZP8g628ikHNl17/bXcues1iOLZtcTkyTWu+8C1bo0Qt9XJNLb8NoU3ppKpON2ngTgtd484Hi49OECuCbfkSMU2exumt3pKiLefile4uM6xuBcserixIoi4+tFIuOOI1raDKSA2znaStdY9gbcThIK4w2vbuABnkbif5j21Ntz4tnyNcbcRTc22Q7/RtzmmIbe5Zi63DNlMuEk7/LdV1w23/xZ8twc2C7aPPZY2PI1st87rhLi9Oca4+2H7uAp4+rgJr+y49ALiuHXOg7iv5gi3G4jVt7ccmrhn1C64J4+Et/jRp7WQX/41lnwEtqSj+jWSLdu10/elNceMAbXO4w224vk0t7yXHze19683tt5vNvRla7VbQMi0OGjmNc6chLZW0mM38ms+N9g9RTh+zpY4u7FUOOkdTjh0rzE4n/P2N8PSPTg+rdA4P4DqOEsBAjmSMb44v3+0OMDKTziKcI02VVKKOOklajhdeYM41pTZOEXgDjlcfdM4r6kwOCkmFzjVaHs2zJjmtbnA5zTkGpY3Rz6dOLlF5zjjwLY4bYWROA0KvjcGt1W3BoCntw5zPrjCFRu4GTo8uBAUJbfysZs3GauqN8R5Tjf0Kbi2bo4UuIRAKriG1iG4ZULEuOscFbifL6C2iGUHNoooJ7dLi8u4JvLWuDeGYLiKYpm45EnBuGiv2rgK/QC5KIO4uLat07imNq+4rCI4uITkErgW5ae4ntf+uGJNzri4gna4fZ6xuP0cwrgvKdG4glfXuAJ9n7fKUxu1qw4Pt1pqJ7boSvK19N+xNnUvH7gjkie4gugMNoX5drcdSLe2ljJhuIVpALn6p6u4xc5fuFsWdbjtZRe4iEMMuIGlrbdlkmO3KCsKt9RvsDY1S5K2EgRsN9F03zZ4hWE24VZmtk2/wDatbo04nwGqOPtPlThnUYM49dp4OAYodDeSdJO203UVOPMdXTiQ0Yk4uNiWOFA4xjgzmOY4ijHcOHU5lTgiL0w49ONWONrDKDj7cRI4RvQnONhqRjgU5SM4EX9HOLegYjjGz2I4JlkuOE9ZTjhWpxs4q0eVNyVXfjjta1k4g/ZbOGQJTTjCTw04AXYMOBbN+jeckCM4X+c3OAow5je3LWY2Lb5xN3flCTdi77W2zpOHNofYUTeRTDQ3Casvt9C1X7fwqya2h+0qNheqxrUyBYK3SmrVtt6LUrdMpUK30qF4t2ZMwjOklbi1650lNzHNAjiJb9k1eUNbtpb8uLeyYjm4VFNTuJxs47jRmgW58KzLuLPtkrhebBC4E1uduO3wpLhYgEW4hF1auEN0iLgrBxW4Zp4Ot5AQd7OhJUU2OuC1t6//CTeWY2g3MYlJtk5z4rZ6DNa3aEy8tzYekbciMku4HIVtuBunfrghGwq41yoqN1gYBbfuiDi2w/kct3audLZn6y62xweDNg+8zLaEja83ZhrjN48QTDeer5g4wprVN8K9YjicQfY3DG5EOO69TjizNRU27oEqOIKR7DfZv3g44NjoON8eDTkgzAA5eT4qOZmL7jggVdA4p4CWOPPbuDjwHJA4dRPXOHmOFjnzeKo4MnLXOPNmWjiA8b83Y27athztGjdWndI2UbKQN09qgjheD4Y4KvgpOKSQEDh8QJS1zesbt3JnvzarWoa22fsYNntIrzUTSCk3n0fStYMhC7gdzka4A774t9sBt7cP/GK495xxuMj4YbhyMIu43HgEuLuaObi+bOK3PVc0twFGPrilqXe4v5rCuPUvALld/ee41yKmuGV6qrhp+4G4BqfFt13F+rehZe238MeSuPzYvbjIY364NyL9tzxexrYz5E24LdOGuDuQbrhfGDG4x0BjuO14Wbiqr4O3JD3ctx7kgbdl/rK395vtt11PkrcH1Zy2BX0Vt9Q8QrerRgu3vtJatrZE8zRPkIm1it18N5yHhDhnTC44n2LYNslHnDffuOI3Ic5kOEoV+DccmSg49ahCOAFQMjh4pFk3ptUaOIkVmDfOGKw1hQ7gNoMkOTffJGM4KkkmN2nmTTiYjwE4ihakttZzPzbiMhW2PzUDNg2Z8LXuCd0187fGtf7yqjWrSIe1ya4uNVPh8LNNWoO1Gy/7Nq05pzbgPBi2p5HENd80ibVEBkM1dr8Mtcor4TSrCiI3RWIKNklcjjfonEw3FGDQtAe5LjfK26u0FwxANSom9bV5GCA3K6DGN/vdijc1j5s30qnLN/M+ATie7QU4n3zcN6xUtTe+hK41QoKgN+ZGDTi+P/A3fEMOOMQkMjjuhu03drC0N482HjhlOl83pVCdtmJjMjZtpy0339rtN4oLfziyF4I4Bh+pOIvX6TfucRi34hu6Nsyke7ZPGyg2oCrLtTEoNDVj5YwzNP0/tRalrDX2gu+1CuUUNrh1L7bx2+22XLN8t0KTELhU8KS21mNZNkZSgbaDi+u3EQRjt8WtsTaX/n+27BRLNsYTI7Zs4/81uP+9tfTlfDWv9AC1SvL3MqpP3TTi/2G1mQWpNSll37VEOwo2uL8kttBiQTZ+KWm2aCO2NtQFwzcrkpY3RCnAN9VQzjZjxJe2DfDFthxHkLaM6ZM2ZgKgtmsG3jZnWTE4rxUpN0HBYzZzPCI3HNUkOOnJsTg2x7w4ffyEOLGA5jeKNGg4QjvBNwzhy7bCx0w2r8fLtUSPvTTTPFw1puomtgWmIDeF/hY2qtGsNZmhhbZvHSu4i8+7uP7SgrjaFRQ21Iy/NL5si7bV3ZW3dKA4NZ4AYjV/BQU38nAVNxEqaDYWaEy0XgmTt/u0IbgLehK4N+jwteuOuDVPPTu2CJshuEW0b7co2f42ETZXt1c0u7bMIVi4plGRuHj7kriwqAy4rTn6Nkagkrf1s5W3Q0nrt40zeDX8kwe3CHDft7PySzbKz5C1GOjTt0BpUrgfIGW4HxDft5NyKrg41yy4TKa8trSNjrVHV+01VFETtiRMPjbcvoi2mkDvNg2qPbhOZRa4s/rYNt+krbdxWmq3K3zgt3tlT7heg4y4WaRFuCJPsbU01Os0uPc8uE/4nrd7KAm4Z2E+uCPgsrd62oK4g6KNuIvTlrgTz4K4PVCJuKAkhrghbA24fr8huIZClriE8pK46Wx1uNlmQriccA62dOgINi9RO7Yp+Y02J8pOt2HJ/reFZsC3VO4ht1E/3TWM59e0Z5HIsyyYMDdsCN+0gaEjt9Wm6bQYuMY0HVWTtOi7LDT/piu33qO+swzytTOS0vE056X0tuUQ57czCrG26Fqit1aVPjPMbSE3Vtcatt27NDcoSRQ22Wo0N8NcwbanH2Q3IRZLN17RZLbneAE2mROqtQ5fZDV3zBC1AXCbNCV1xbP2ezSzPl+iMwZexTPqomO1xaHtNixgujYzQDu2HE2sNZnW0TYB6CM4QWtqOPHFn7VwDWE3WAwROHYwFrfPl882fN62NtlokDYmQTg4wv0JOPQSPTcrQj023sEWtmE5qjVIXb40XmsBtxjqNjfdlus39lh4OCiQDDhlYma29lYDNj8CAbbGBJU3ep2/NmskhbZJZJG2FC3zNsZY17U9Zhk2I/9Ct3wURri2SyO4z/sFuJuC0LdJ3PK3AREruNpxFLjY7wq4Nca7t/YLUbgHIY+4AVNMuLhiULcdVOs2Y6vvt6uRF7fZlXK3fRWbt9jY0re6VB64XzgJuEwMerfkMBU3P+aWNiGUkzes96E2w2YFN6qW3zVY08C1kkmzNQkJrrUcRq41kr2ztRvnvzWkbda1vIn/NXdfKLZBl4Y2QDFXt7afUbcKU3M2cCwLtl2PuzWTBYa17qNANW5lBLVNfp40tZXhs5a6x7MSv6o0SKUhtcCLiDVtvfC1TqWWNoAnBTfOF621fPS7s4YtqTVHiVm23wNUN+OetjdkbGs3gdDsNm+jb7Zz1xE2j4WOtUoHxrTsLuE2hFoKOFxqnDiddiE4XGoZN+ZEYDZg4jG23Th0NgrATTd3fZA33U0BOOQBpTefccw1ugYhN+45Kra/Ep81Hu0MteXSDDSx3vIzRACJtFiAqzRUPay0AemQNAQMPLQ5wjozXwkANGDppbR0/ww1Rw1QtTjSkTVMGtG1UT0xNjpsK7dNFwy4NMzpt0PtJbi1WA24C+A0uNXGSrit5q622VkXt4PGIrjhmI+4Z1rCuNvOrLg7I7C4aoNguEUyPriCCHu4RqCDtwloBTc2jA637OlAN1AoJLjHJEW4Q8i3t9LJObj6mrC3v9kluIGWabhrnpi4BU8buG20p7fAbXi4bjivuLYj+rdd/Z023pIktjidtjUNiSG1sQRtMLkjCDUq7JC1WHloN0WpdjiI/FU4LHhtN+3HLjdNnQY4FYe9Nn7fE7Xh7js3nsIdOEZGEzgvhA44WSEhOLP8hDiMqq44komOOFH6mDjrLF048XBwOEbFCzhj7xA4VAFnOEUaWjixuHI4Zj6bOA83UDiN6j44WIt0ONUAQjhSCjE4evRBN2xa/jfAhaY3XVyNNzJE/TfNIOo1TRsytrXY4zdQe8g3hRmEtcLEXTewQOo34dGnN8AhijaqB+m1+D2TNbuTHzdXIl40TcVZNdIq87acIrG2iYMuNrCW9LUQeMU1tWsbtsfMn7d9T2y3is3Jt0lGFriPL/e28c3StsolubapkDU20IcAtkxOxzVqp5q1IuIct+rCFLWLap404ZyKtU2krbfzHjS3ngc0NgOV/bUfEJE3n7niNqmWz7YAknc3x4EwNzV3zbXfQyK0BQtcNZU4ODYwwxs4Dl+rOFU1OTg2P783WRD+N3s8JDg+PdU2+8YBNxaEKTjnRxs4Afo3OHJVNDiiKSk4w1sbN0b0gTYt6Sw1IVRnN4EPuDaG1Tc3TwI3OD20gjdMLB44fMsbOISMyDcrbrA3pC31N+xmWziMGUA2G50mN4/MezffRjU4v4fqOIqJJzhy/xS3Di5xN2IXODg7b744q3ibOP969zeMLxU4MXkTOL5nHTfK40U3XnghN5xO1LZgltI2RtUVOK3bBDhRdn437HqIN4Hl+DfCagc4QNpIN0Wpy7YnpMg3EHPlN79h8zZ8aoc3Scl5NTo0JrZFpG82U12ettYv3DY7ToC31L16t4S4Q7eKZHS38Fk3NWkc8be0e/w0atEzt5GPcbfMJr02jVbFtnRpELdnd602Jt33t4JFOrg8D4y3HIuLt4EhbjbAHDm2zV8uNiEiV7bCRh03D2PmtsPsN7cBYZ+yVjAQNU0QkLWAGgu39DyatkFQmLcd3OA13xAItuC09beZDn+3NmSbtkUK5Lfjrba2Mxs3NhbkAbZ1ZsM1AvaJtZZUBTVotg41i3Totvp/v7YkK1k2Rlc+tiFcXjZspRu3GnKBtoD7Tjas8eU3e+0aOL1XjzfxaHO2/hW2Nq5zjzfNdYw3+1m5N+LmfLYBvxo4X7+9N0Gx0jUIAAo3ZdYdt9zNP7fhGRe2mgvitcnQNjdXvvM351DSN7TWWTcQ6I63SBQPt0Ky6rc+f6+3B3fet12N7LbNKLY16ptnNN8F57YUdoG3re8GtYxDDbiem4C2dEw5uFN4ALioc6236FteuIlMwLdpGOO3XD31t3zN4Lf0opW2O0qjt1IVVLclp4C3AUpxta6ohDUa0xC49nw+uNMotriZ10242zQ3t7BA9jX1TIm1aJ/xNQ7Op7fFLY634OZCN9AMCrjMsHu4Fo6QuNo1Cbh5B8K2hoQmtGMhQjPeqzA1j8XtteeQgDZ6HF638TtAt9sjATazRMI06vsAtkUkczZNovW2SO1it7DiXbczSl24BRMTtwdANDbMEh62XGsdNpZ8HLbt2xc2vBcPtkFwAjbdreS17JS+NbGTk7X5OEk1cDDKtGL4cLLrluA0IxZgtYXwqTWuTee1hfkVNqa/QLYi1IA2GMbGtvLgjjcIB7Q3LAT4tjNMDjeurzQ2IqLuN9Tr/jeQNr83I3adNw7Xaze84w03XHkcOMm8rTeai/62CbgPOBJ1vjX7bzs4hcZLODJj0ra7ezY4FqrPN43bgbazKac3aJCRN/ifXzfRXLc366AGODKD4jcqkFo4RJGVOHbhhjh5YOk3fna3tArpLLdU9uC3bp+ntlAoe7dOTHC393gKtfOE/LUblum29dkjt63IOra9wUY0E0kDNQ66V7XvKIQ1SxCTtbeemjWVVJi1D8mANd/AiLT1M8S2QCvstkS9njZoC4+2xavWtrIutzfcyHM3W35atWVFNjcgQQm3tEYet34fsbaF7vW3a2v+t9sjNLhTDLy31cV/t47J2LfiL9S3ZBLgtoNUorc40wK4f1s+tr7uX7dLt3u3NqIKt85DDbh4k36493fOuMBosLgzdRG4qWM8uFiGI7hWZbm47ppYuMQIsDbMEKK2d1SsNiYs8rbW1Lo3f7PWN+9nCzdyj2E34Nx2t+Megrh7YPe3xLoeNdZb1zOBExa2m2ZDNwjkWzeRb3q2dJ4xNrcRqTfBIKk3LYmfNuh72jZW8H62yrsLN6Bj/Da3jfE2z6QXN2pZoDQTJdgzJ6e7tHo5DTW0KDG134BNNS9iZLXB9nY17OaCtSKniDU4zo213UibNdydGLbR6J+36IdVt5RZiTbxNBi45KASuF2pbLZeERm4tV1ct2jNrDWTmYO1xVRgNeyPRbWe8TA1gYkhtVIwGDWEOTS3TKwLNbC+CrWZSgY1yAHltEnSPDRfrEQ1Z/AJtw9C07eXpn63Mg+kttqJWTayVDm2FvkUNhbljrVJgIq38ZlfuIEVqLgXdiS4vvZBuD783LdNcp+3GWKCtRAUErgYTQa4tYDDt2uWjria6Z+4LvCtuG9ayLdraCK4QoDKuAW4gbiYJSe4Y6KRt46oJbhY4am4SOQOuK2SfLh0aRW4naE8tZ7IELjX90i3SXAXN/IodDb58ro2PoisNvOfeDeZX9k2hKcytri6WjXc4TQ1icQIttwcYDZ2NJq2cv/CNuLb6raN8gk34fq3NFQc5zd0Y2c45oQPOKE7cDg9qR84JTItOKipADjUa4k47d+ROCnyoTh3ZLc4VQIMOUALGTlQUBI505HvOOq0ujhBYIM4QVeoOOqUyjj64hs473lfOPP9IDhmI4U3TC5qOGAE8zgVZqQ4tg9IOFNgcjh2dqY4FFOYOCMzTzjgTEa1Z+LWNiVHTTf1B7c21n8UN4bHFrZBD6WzT/MaN7/E2jfS2OS2FqShNg3ZnTX6cnA3C50hN90vfjcU46M3m6VlNPdzSbZjhhA3tbTfN8nEfraBtBc2Ko4ittaYDDctn5U2Jq8HtkKWxTWREbi1lDb9NaZMA7c0qK+2BUNWNpLZYLadrL42lCmRN9YmgLXJIzI3F5KDtTds8DZ9PLk2S7pFtgYxFTbx2fK154XINa30o7Vp4II1YopJtY6fEzUB1Mm02AF6NKPVBbRfoWszwb7hshg9LzNnWNWzkaBYNBkVurQdhA411R1JtRYGhTWPiKW1CfS8NencobVXrYa2+z1Et2y5WreUX3u2rD/CNonCJre1MSg2To7fN7+CUrYBegk2F5EatzA5obeVFP+14VdYtuoohDYvuMO2z75Ot8Zla7eon/63oDBXNRppPbfhIFi3MvkktiT6DrflR682yeaLth44eTbC1X62iBPFNnxV8DZsqp217PIfNTQTFbVI+jo1U0qAtbxvtjUKagm2IfNxNiSxvbdgo8K3lfWRNu5eX7a58cy2PdO9t6mZxbfzJ7I2pxQvt8g0LbjXRoO45QMnuDSHTrhqzK24C5FFuGPDL7hu8r627qunNU4lDDYc2D43gsnaN0e+Ajg66NQz1KaiNZtWB7YaO5o3SyOaNn03Bzdk4tM12263temfujVKdAO2L6uXN53esjYyQ4G2dtYhN262WTarbW+1qbD/NKheB7XVuDg3hFASN6XXRzZyuy23uYj1M90BkbfoLhu4iTEpuMaoJbdbQ723Wfc2uN1YVrhBthq40lepNkQDwLcpm8o1TPnDt31yKrdWkqG37shWuLR8ojan+UG4cs+cuOY7SrhbzCC4z1cCtpOq1zSFRH60FLPPNLmncbWTWx42Q1oEuDqdbbcjc6425ThmtmWOFzZ6eDG3gnq5t5C3gbfgGpK35Aaht7McDretXbs0cRFHNT8+jrWzv5k1osaXtQsRjjVC5Hu1gZdKNReI6rRWvre0DtLSNqoJDDcCd6I3elQhN5V9rDYkMbw3J1oBOGKHDDgjUC442UZDOEXWdjibpSs4pfdeN2yI7jdA/a83zOZJOECvGThpQtE3TvMVOM5xujdOX5436m9PN2ywFTg8eHk3RKU/OHRfRzh+6Aw41XBVOKGZLDhwPAk4sDxYNWygQrUN7+s1xLrnNnYV6jbalXk2q5dDN2ycazcVdjk3QXaGN4sEUzj4ugc44jEktgLmDDZgnt61SnvaNcA2Grb+k5w3XWOQNhih+LX/4LE1JgaltZfPxzWrYi22TymvN25ukDdtOXM3MK3oNMMA+rQebwG0QF9XN28mKDfCvXe2Jdo8NpawKbaaYyg23lo7ttQugTbgckS3Z9j8t0FN2LXF9y41IRkjtbOcPrUJbNe3mBM8t5taAbhFikq4u5Wjt6o8ErhzmF64qxaluNBzqLi7QUS4mmOTuAJhtLhSDsS48kGnuLGo9Lc4yvU2/Jt/txtrGLdQIV23RdW/uAmWjrgVLqa4VauFuJ5xkrg6eaa4Z/+JuACIMrjRnqU2rkE/uDJkGbgk2Uq3FeBwtzGThriQ0DO4QvAPNUYklLbSLoa35ng+typXk7Z/7sK2LDcot9h5ybf+Qok2QtcBtqFjVjUmqSu3zjIUtX0uhzUf37q1Tz3qNfZ/DbbB9So2Gr9Wtq+rlzbr80G3sX0ZNU9GTbfCyUK3VwZ+tsVDkredFYY2AmNItuPGJTatsBG2i6QJNi+/QbZblzS4zXFyuIeycrjgdxS4ajKjtzUI4zVkjTS1V5v1NPhQ/7VK4WO33GL3t5NVOrgshTC492gwuLVMBrhG1j64wmDMt0x2ubczN4u3muWvtp43FLgiJ+O3eadjthHfe7d2Ebq2lTUHuMTp2rfppoo3r2aANlIb6jbp0lu2unvrNWqIC7VlZhS2XwEzt4zcuTZeOV23OxZWtycLkzZPTV62Ha1VNgzOaLZ354k2OlSwtokd/TYqEZK3MrT9txzIb7j0SbS4oDDBuJdSNrhYywM3gQshtoEs07Zm4nG3nxa5tuBvwrZO27s1z10FuPU2NreyuGY2Xz0mtpoSKDVtwIW3rzeCtimGwLcsDla3SPGOt9hsHbdcXQI1+aKhNZUmC7bFXD82/r2lthq9w7elncC3Xq1LuMVfGbiEddO33eHmtrWoC7eesIw2uQHAtywtTreSN9Q1Ypryt2X0prVD05U0V/4JtaUyHbfcr5a1A4a0NW/eybW+rdY1ZjjbtVyp1zVdVBE3u4XANV9vFTeZtJg1UP1+tcWMRjXRmQC1yVm5MpRSAzZhkVs3qmiQN6YJKDhF68E3ts7QN2AtOjWQmz+3ErOiNvN1jLbtHLq2rm7ltslwuDeUkYA3UBlWNnOs8jdwh4g3lm5XNZtlFDdhOas17eEctfWY2Lf4CAO3wn3bNkpuXLfhKds2lMx5NmVuJLX/55+03ENPNQ04krXvULM1P+DPtXY26zU9OQW2jcofNr9EirY7tNC3RMubtsLxhDZc5Ty31+2wtyzRhzU0Yqu3bj8DuIMvOLV0QIm10gsCuOd7rLfgH+01kR2JtEzDVbhP3J64E+PCtxsWl7ezkwi4/fRguDSFkLcwswS4q55OuLoXhLbJkvW1GpkLNhZ/XbczFpy39clYt3k7ojbzImy2xTT0tjeZLbaIKjM2hJ8Ot2qZNLhRHkm3pU40t8NfVbeurtk2ZXj5NmigjTd2wls3bD/4NXfk57VG56E1aF0iN0zeyrTNjQA2/68Xt2qHGLYWtKS2MJHTtw2DiLezncS3yModtgIaTjUZzSy1bR8vNYqkK7VLUhY1LszLtFZqBzOyMz01rWtitpZ1GLfVCyk2ggGztc0RKzUbCSGzzlUftSs0tzWLkSa2vQubNtNzcbczwRW3mt+ttzrCNLjpMjC4/I5DuIaz3bd5hFq32k0AuMELjLjbcgy4z5Tqt/dYsLejpui3IkSstyFK1rbP3BS4Sxpbt8u/M7hq8oW3mKgstwlbXLd1IjK21yqXt2hH3bY/1WM3uQ60NxBNMDeH5DA3vuFatlWq5TV8uWi1RWakNBucsTN6d7a0BJgANfOdBbUaXcc03aWAsvCbe7W4Y/Y2e4iuNpwZK7a5KfE1Sa9LtTyrHzhFkKk4ocusOK1RdzgDkGI3SB2iN4gagzelKyM4UMM0OJm9RDjcZJY48wb8N6IdTTj0wRU4U4yHOG6BkTgQn0k4xsg/OAmq9zfcI3I3l4ViN+bNUTj+IFw3uQfLN1UmlTch0x+33uegN30s+DfTt6U3OYTmNwq/OjjuSiM4qUY3OPBESDiRL9A3gHJ+N9LGMzcZ8ki1gSqmtmf7SbiBtQW4nHq9NnYFZrbAPTY2MYkltocPIjZl8iS2rrcqNo8xMbaPzjY2cnc6tlgHPDZo6D62QFhbNkGqI7cGFBW4UQcVOKWD2je6m4s46pTyOErAYziyHoM33X+FOF6wfjhsI3k4MtyiOMXfezhbung4QcmOOBQqkTiubn043q2TOC3wfzg6m744B7+0OPWrrzhsbO04Km/nOMAwuDjQhLo451mzOF/WmDgxg9U4JAPEOCK1vDiLWKg4uTF5OFs5cjicsDg4g8CmOEhGejipiWM4TpSxOCPKlzjBnrg4lAq7OHCftzi0Y9g4Os6rOHOjkThj7m44x3MLOM4ZpzdNvwU4YPoPOPEQKDY0ypY3al6lNp4HJbbFtO01ySGrtS8RMzUeYwE1GcrstgzFsrZ+RSg2OqTTtYwfhDUpjwi1RzqpM+j2vjSZVhs3rMI8Nr/cjDfl2x04gMzNNlXRV7Yu76g3BvYOOPlY2DdlRcA3DixmOCFRqzf3WES2/jKBN1ff/Df7DRI4twyTs7gA/Db45DM36sLkNr5OmTdfnTq2L5x4Nw6qmDewTEw2QwfpN/QdMjdb2Cq2jfa1NcfSXrX+28w09VO3NCr0RLarrCG3kjdWNtiADrbQdso1cXlytf4BUjOtcA63lfSvt9VJfLcTDCu4rHcBuEwpibezhho1j1DdtmBcw7YGEj42S/e5tf4c1bUGxjS3I6aPNtpwY7bsyWU2IS66tgF/k7eCmKY1S9kAtczBWzR9Qx2zVzoLtKu8vzTzdkS1BlnFNas+abbey+83xcqTOASkjDganHk4su8pOFxI2TYNZYk3S/yyN4gvMrbJXaE12EQZtanjsjT/Fx03Jg6YN1F+2TeYXXU3PUszODvgKjgNTyE4VV9hOAc7xzjcnrA468QoOGaoXDhbNdg3Gml9OHS/JDgy7To2TWhcNwASDDjrQtw3vdAgN2BzOTdXJWY2sHdWN1QnJjdWhFs2cuOatvQJyzaJQAq3T2dZN2peebif0oW40rmnt/mMubcEKp22MpAQuM0dGLfCxhW49rj7t6bRrbdJYV+4JsU0uMRfYrejZdK3GtEIuEnFB7jumCS4nTESt/2ln7XaKCA0pud/NY7qELbvT3I2KkvBtoCDRDc8XL83EGCfNX1Xl7ZMKhM3lQQLNs8gBjda7gc2Gx0lN19U8jfhmuk3WFRHOH1/bTUQKEq1CTVtNekUK7UDfky0DD5WNq4WDDdOTJk2wKDmNmYSdLbRfiQ2XwFHtxh5hzXDFOi0o/QPtCEKSjUHMdG18Q9LNluILrdVEYw2gD3FNmmQM7a77+o18E2xtY0JkzUWP4O17114NbCpdbXiRns1QHaEtTM5kjUOELe12J1HNmhXhjcYUkU2PomotSrGczUE60C1bbYVNTxBJDepT5I0BX4EtMH8sbJoYSQ0SHCOtMx4ujTPxc+05BXGNOnokbQBO4Mz2NewNDXHjrW++zc2Lei3t8u0breBKSy4cE1FuCTMhLgEjay4noU6uOLvMrjumui3aemvtzEfR7jZbZW4LdlSuPlmObjSmba4yr9zuFJVgLgR8LS4NYVHuN9ZBrh4awm4nyJwuFQFC7hDnvq39West62eAbh3Ryi4ZjuZt4ZU+7cMz0q3FBcQuEuJ/rc5PzK44RS+uD/Kmbgx3rC4ZPqOuEXjabiuYDK4qyxVuGOU/7i4Tui4Sn/TuElnybg+agC5JUXnuCQkhLiACCq4/P3+tzPo2rfZcF+4HruvuH9pKrh/Xza36luItb/XnbfruNe32Oi2tuPM0TUlOjU1gQwDt6pEj7YMyK819OvBtNdaKDdxzwg1+ZxBtY8HYjVCnWy1luReNRvAK7VPS+kzF98YNhfhMTezKZ+2CFeotnpkbLe4vHm4DmSFuG0kU7gAfUC4m1SUuIUFhbjo3Vm4eFODuGm8KLgc2Ja4MvyXuLc7O7gYnqa4oRSDuHQvEbgE4RC4LIA6uAQj57j+scu4eKPOuGiBx7hF6rC4/m6VuPgRC7hkU0y48d5ZuBgdT7iVwQC427m6t7gs+7dUybe39/8kt7rmL7ivrzG4ICI+uEgS/LcIjey3LJqQty+l2TZmSIu28ZQzNiGJmLXmwxa2askat3xJW7aQQTK3ZO+At2wnp7QBNLI1PsaRt4shLreakde3M2SluJ3DjLhqM5m4mFqMuGdylrdQOqm33xgWNJ4RALdn16m2hbpRNl9Rm7eKdde2wFaEt9x8ELhZ3Ru3AG0ONoRP0rYO58+3Mgb6t2tdj7Ve+z21Ndj4NXvHqLZaO9W2KCiOt8felLYI4kY1PBu5NVqosLZb74G3Tewtt2u1ZLdRBog2q1cItq3UizVLQAG1ryCNNECkN7XA09w2/0LUNh0mKzcQ2hw4eWBlN2gmWLY00uU1fCLGtY2/BTYxX4W20myaN/mABzg6+ks33wgTNtJ/DbaWOPs1ZBbatchQtjWj8Im1SJkMNRcWFjU3iZG3RCmitmC7Z7YrDDm3KxWXtohUg7Wn/MA11EPLtVg/yjW64cW16dISt8uNwbVGm8A146vBtYAhxTXJacu18+LUNf6KDjfgn/41Lv4TtrYOQDYv0IK3xW2Stzh7cjUdZYuxbK+1tIrSBTVRMxm1C2IfNbbSH7WxXSU1AelLtYEgxTUerA+3XwEXuDjiCLdUSyE1I3QHNSWDhLX886o1yqwRN5reMjZOpPM3pMJNN07z1TVY9y83p44Qt/2mPDcgdRs3u8fWNx4wVzjoNwG39gciOKE9AzjFQKc3RsQQOOWNWDfVdoY3xLQDN9wV7TfNzM617ShTN8lpRTeomOK1pE8btroo0TdnHgc4UqAgN68tWTeL/XM2zgaeNQOInrUUR4U1GJaHtfFZ8TWMyR+3lLWet/YstrcWuLa3BHqJt9/bb7ciyvS2edS0tpgREbighwa4moE8t6z1GbfDxom21dlFNjV2Gbc8Oli2HuraM8/xC7fHfiu3HYaxt8mk87Q1YT+1vusZNmtr4TcFfyM25SGJtZ0VijVykse0qCAJOG2JAzcl0JA3VYlfNq8URDYs8pE3fFukN4zWRzj+1xA4b634N4AEtjbQcrI3eEXKNsEFSTU91zk3ZjeTtroBQzYQGnY2lE11OGC0TjiyzLw3dkspODtB2TdkFW43uWwtthrUQTYyaY+29HJZN0JLVDfUWZy2/RIfNwdEcDZSng8007OkN0tqJjgzPB83aMJbN97TGjgbzgs2ehVVtF7isDfXow84P6gOOLSUkjbLgoM49dfFN5CH2zaT1lc4JjzvNjNOjzWXLLs2lRHEN6HX8TaXcn44pUhkOPW8OjexP1Y4IyyYOFjEbDhKbD84+Y2aOD4yIDhd4fY3jWwCOLQKLzg8eH04PHl6OBGurjhZ9L04YMHgOCbnmzg4xXQ4Cq2FODG+nTZ319M3NuslOPw+6Df720A3Bk/kN5+RWjhyKns3uoXXNynvTjjUsow4UFlsOE89mTgvW5o4WNWTOES0XTit3j44iUJROO5bATifXH44+h9yOINVXzhqLoo4AkqAOO+wfzgCF2w4propOGb0XDiRLII3iXK4toMjeDalcjy2X9YSNqnU4bWFUKY1rKRgtaQv+jT1MvizybyTtDTN1jWIrwA4Xqo5OPlJGjjFrk835ADCtoqUwDZj5O62JHODN3cIzzdOf4I3ONtXN01hKDf23CQ4VVXYNzMjNTcOIrw2RxHPtiX65jcIfBI4ksMeONGdLzjiUYw4+oWAOHQYgLaclEI2B9xItgDeFTeJp4E22FWytUjDIjXPoDi0GypQtBc9LjWh8hy2cgnit5wQ1LXuuM22WlHetgZWvjaSh8o3WGCfNrwMRLY46Sc2sToatke5EjY30RC25rsXNkzENLaw1aU2QLoKNwXQkLY5wx63STGANlTCcbbPlIs2qSa/tsatbzdtw9s3+WwwNzBX5TfwUdI3JNNFNzH+XzaVpBE3SjQOtmsQojWZxIi1z6KfNSVaDjfyXjw2c8C0ttHgrTcJEI83fhW/tpNhBze3BdA3sk++NzyVdbZAzgE2u8SLtVKq5TR1Kl4z6nPztLkIWDVmfpa1eqG9NQlf4rVAuQI228ETtkmnJDYM9zW2sMtINrn/X7Y8/4I2qEDHttmcu7ddGTS3T60PuGWYsLdfcP6379/Ft+2o0TZecf22Qse/tpK/ArRFUws1tyuXtDKLMLcJL9Q1CznVtocBA7hkb3u3ULFYNXP8qrVMtge39+ZcthVvszbB33O30jl2t4WR7rdfVge4uKhPt3wqbLcSvoA1G/H4M2q5ZbXSmu01Uln5tmDjtLckfYW2iKAUNtx0C7bOACU2n3metjY1DbdlSec2slCmN9yMLDhTzTo4wIf/NdCNk7UHKZY1S1KdtUCLojWGPqW1STemNa7Hp7Vrv681HvDOtbZcJTZZuCu3gvuYt0WICba50KS3FO4lthlBWrXrw0g2pL1Jt4X9YLeSIrI2ywL/t2vXYbZJ3p01nMo/tb1RBDUQAK+061g6NA7zB7OaY7yz1FAmNIJJxrMPHOK0a9PKNqJhGTeanog3zP0BtdoqaDP4hwi0sVHYNJ9oXrVaLL01T2UTtv89YDaV5bW2U0R2N5spcjdZX5s3C/09OBQyuze1Glo3M05sto5S0TVURS21fmIiNHRn2jPpxkm0w6seNHljIbK1kFa0BJXpNJM1E7U6pEa1MhHWt67MSLcYz9K3LOGXuF40RbgwLmC4a8UzuJBLHrhytXm4Hs94uDaPuLgaqEC4eYe2t38YZrglH963JmKJuDaHkLgzc5e4+bmGuMi4Y7jHm264EiE/uHszQbif8z64v1dSuI0zLrgDOj64yFpXuKB+qbg9aJC40Lg+uF31mbd2Bpm4tRqWuOq+ELilmkS4lv55uG2aOriGNQO4hDyBt9daibV1Hh+4BAV8NS9CSbWBcT8z24sBNe58aLVnGp41egfPta1fHjaI8A63hPaRttE6CzajYOu1n5P+NRGo/DZGq6U3bEVSOAWHPjiuguA311ZfNsa51bV6Zp01ePKrtdW48DZNH2c4oWtxOD5iMzjPMWo3g/Ratvm2OzWkXjU2uIukN014NLaMq701id+jtLVExLbz5va2r43QNjv0ZrcyRfO3jqcRuJKSkrdm55S3xANXuBJeB7ilu5O32YYiuEheXbim/ge4zVajtybow7cLLS24WjqMuB5jkLjmgBa4by9suMRU57caSAy4/Yqht8mNbremEEG41Qj0twmmybcexNy3PNbNt84P7DYiGc63leq3tz51GLjw6hO405Y3t9mGRbe53xc3ae4lt2W+nrdCi++3ULF2uHa5ZLhzYO+3KmALuD+5R7hA4423h5P7t3GMBrgi4Mq3D5/Qt3pQVLdwGoO3PoqaNsb9vrfNMIy3oykytu6ZKbdnksA15n1gtqbW5zaNoBK4Pq8puHAHHbcYd3y3bdqotnBmP7bj+co1xmUyt8EPRbWs4y82AF1Ctz+BerfrxWG37Dw9ti+8kbdxy9S3/gngt0xrz7eEoBK338umNbE5o7Q93GSyGdxBNGjCqLQG5/k0SMY1tWRyiTUNv+i1yUKSNonZCDe/tdy1TjUHNYPuQTSyHmO1hZbqNVZXbLbXh1M3MzZQN/tN7DYpM3o1ADkXNuFyqjct9NE2AGSrNuG9DjeraN02o4ExN6d7wTcp78c3YXbTNtDdTbWUZywzCH2tNLifILWr5mE1h6KNtQSFnjWPSHC1VlZ3t21BIbeqGDw3qEfStrmN/LcJcA+4QH8LuDd4hLfHm7g2FilZuPrpyrjsPGC4lmYBt85yUzXTUEm3ippIt92qXLfArdC36YTit6Vz2bbKpsC3kSrEt2at3beHSvq28uB/NmXWUrYbtUM2io0/tg9bQjYOkUu2p0VcNlGud7Z7ZJM29m/GtkjOcDfb8N43gRcGNw44sTa0ptE1ScZhtqGp2TaExYU3rAp+NTFSGbYfxZE2gPQRODsenjYUIk+2P3g4NokpKrYjdRw2gxAOtpUI/jUedd+1eHjBNYYxpbXltIs1iABstenkSTV5jDK15RMnNUy4J7Wdkx+3Yd9ctXXUhzVZday1ElLhNbQEGrYU02w2Hdgst+Z61bV6xGK3YEXGt9HLcrcqxuS3a3fDt2aAX7dHh5k2V45VtqMWPTa6l0q2msyKNgcYTLfBaPa3c6ZLthEKmzaLeQU3OPrMtXx8MTUTIWG1yxuMN/056DZBi7i2vsjwNl9+77eNx/q3Sai+tkoVDbYafJI1H/0MtU1FIDQfPg40WbkkN3QSKjVzlm61pzufNcj70bU5mAw2Yz5GttYpoDbN5Gu30yYst0bSp7YDAMu2rp08NhuB7rUmKqY1tT51tRxRPzUsIiC1kpcSNZEMFLVaRCM1jxxAteLBazXYypS1l9rANW49Arbu60A2InbFtpfKhLdE1Au3K1sRuMvTNben97I2grLGt6DYubfmnk02CqrKtalgljW/idS2MueWuOCiYLg6Uzu1LWjItYV5FzatKwu3kH55t8Y0KDamniS212NnNiioPbeNKAC4cRWatfAYnjNQigs0ucxUtaJ35Tbc0M02ND2Gto/xhDZ1a6O2IC9AN2JvMTd0wAo3Zv+xNpiSzjdGwAg4whuQNggguDefyvM2abj7teYctDVen5q1NuKJNar5dLUk6FQ1ZKUytVRoDjVZ6NG0gtaGNIyI+rMCbKWxZeXaM64SJ7RS8Qg0AsKsM88DZLVFwew2SoC+NjNdVLac2CQ2Pzj+taXNZTWQ+r0201TWNleESTcSGlY3gEtYN6Ap9bZSSWq2axuANupjmrad+AU4d7hEOJzOADf5v5C2caKvNuAP0Df3Gy445NCFN67+DbflI7o3ceOHN3CtpLYJSjY2EP7jtWNfjzW9JSa1vuaTNDs0nbGaAmK0rIfLNGopCLUq1yA1cqYwtVqsNzXLfh83dyE6NWtUMrVdOic1BB0atextDDV3v/+0SzTtNGJZ57T8Rvg0ARIatStxZzV17OS1wNAFN8IenjYvBxO2LtrPNY/opLXpHoc1YdBatTXNJzWi7eG0cjhNNGzRnzOOotC0ou5ONbWRqLXdkQA228pEtqs+pjaY5nO3Vq6it9C2m7dcRuO3L2u/t/FrHLgb2B+4pCTjt+R4d7YIBp02CaMKN8wsFbadVxE24Gygt7ycTrhsfJK3lV0rt0b1UTcW8vo33VveNWadLbWUKE41/W+YtT3cCTZAqwy34vmOtuX/5TXyco61t+xHNdFXD7Vbcro0yh74s4FCtLQDiB02n4RUN4Pi2zbmes21x7wCNlsFCbdXRpa2YQj8NRGEmLVsVzw1CtS6tEKD4zDQWcs016VftU+EvjWV/QQ3Dnt5NiRh6LazfRI4JE/YN+wkBbddU582kNtftuAMJzYHa/i1Sz6ZNdAmiTXqr2k3DfXWN3YUszNCqAK1RrEFNZnLv7S1MlsyRCWDNZdMDrfE9hO4L5Zzt/1bVbcS3zq4DtUBuLVwprdgEui3PusTuOuZQ7dRtl+3odlBt4RiW7dWPE2473IUuC3H8rcebPC3vLR3t2WbELdHV4K36Nw6t55dFDYyOaO2OgsDt8Zo0DVlVj+1Z6OiNONu4DSGwtW2nr3ottJzxTaUY2m3HspLt6zpnzbuCrm3mJJ1t0zkH7an5f63C0vWt/vHdDbLj8a3Yo0/tzpi6zUgFM81wrM9t2enX7eQ24I221z5taWTSDW9gwIz2mUltUawhjXYEXK1Wfpzt1iGOLcv+/K3ONOft2pBArfMgZa1Ln5KNk9NkrZ5t9E2+3x6t5v2iLfaW2a4GQ9luODe8bfFgBC4p5FhtpJcL7XnMjo1eLA4tYIXSTVo4GK1/PFjNbTEyTRjx/Y39ZfiteaJWDfJLWU4HG92N/e82jc7SPY3RvgUOANh0DdUp3g3DunzNr/mATcfPTu2u5p0NonYdDaIFb03bYPKN2sZljbroa02ETkCtY97gbZSEZK3O+wZtu/qF7eYCBU2+te5tWfBEDZC7DC3JIt7t/F5zTaHU4y2huivNZktfbeoNba3LxwwuKcx+LcWCq+31X97uLxNA7hptZu3fH+dtwadyDaFW9C2Q/wUuGsDw7dkSva3Twnzt0EGc7iSUFa4oXtFt1+VPri75ze3+azrt9TERLjAmu23JOhxt/6HOLeUDFG4mzYLuAAIs7R9jLu0wIIfuAqQ27e80KE20gMLtvqil7VMwuO33O0ruD0x0beFITm4Vf+at4OC6Db3bpW2cUdeNuC3RLYHdJs2w4wSN2IH7zZAGz82ugrrNqRygDZuyp+2wrbTNhnTBjXQlek3+ykGONKrHDaZNPI2IaljtipjDTaYy9W1nSssNra37TeDif0341MkN+4FJDee/Ow3tV9jN5MW2jXkcgy2LpYgNvo7QLbBnoc2vLhIt/6s+rdZqvG1IXIwNWG4HrSm44C3HItpt/EBnrWk4Vu1rNiqNciCzbXJn+411BwOtjziOjY907K2e0j1tunogjVMq7Wzs8+DtAfWzzS72ea0mfvYNMEErLT92EI0uNRxMt+7kLTNvxw10ZFxtZ4aJrdUPwi4exwSt3p+qLRNWIA2zRnztwBqPrgIDfA0PCeOtJ54i7WgO/42LKyrNok1VrbM8w03MH3QNtEw0zdw44I2JjPUtjLSszexvEY3QYBaN/bFIbWlqRKxGGLCNGx/J7UNf0w1l5P3tI5GqbZf4xS3bHWrtWnlqbfIt+K3xLCitm6cqrbn9hi3TPCANZCClbZte/O2ni4BtR6NCTd6HGw2rdNVM34RKbYM4Ec3KwPCN4sPa7bsQ3k1IwfONiqOyzZyVFa28cITNlV/oLWUK3q368QitzTetzfPlW04cFIQOEHfWDdxkQo3RzwvOHec5DcA/Ak4PR0cONFL2Tfg/f43Wj8FOCFAMDgE14s3D71fOE32qTf+sYg37LxwOCHHeDgmiDU4MAPoN4//aTfGh7W2A6uCNsp3XbY2DkY2dbayNXovCjjxQ+g32PcgtnnoIDcQXEQ2z77YtkWrCjgLdVs3rwP2NlG9AjjdhW8493tqOHGk6rSOozA2z56pN5o5bzgdcis4RCuQN/LrwzUCsYc3H62hN1tosTZf6Zs3Fxv8NmUyGLYgcAY2aJUPtkk/LDZp7p22HQIRtytdczbk3r+2hvwEOLWRcjdd7yc3J/a9NxJstLYwGOg1ukePNw4oOTbcgyw36k5HN+fbkDe6PNg3wp6ltsAF/jX5M4c0TQ8htswT1DaKe6Q24IJQNiS03LZqFuI34qWyN+bA8DcmXQs4gWK/N8efbzjTHzE4BGYgONz89DcU33A3Lcr9tiZtTTh3qXQ4Lev9N5Pd/jdEuCE4qux2OKUlUDiG9Is4RB29N0HB2rZQ+3o3AS/ANyBZZDiUDJ44NqusOENGhTj57Wc3n88xOIMzSDjUwRI4kYbVN1cJNjd7G/I2duCKtovUzjfnHsA3Jv4zN0E+ETZJck43WkZYNzWlqbZi2DY3M8ZPOAwTkDjH8gU4GH86OEBq4DdQQts1X0ypNmcZXLZk/Ak2iWOFtU/igLQ2aVg2hUcZN3sqRrZbMe82QHBRNwb+GTbGz++zx7HhtMocLjVZlUW1ci9CNaLNJrXPz+Q0qTT6s9sHx7QhCak1haVvt3dQmrcrBhS3QTInNLaG0rXIy3s3M3OPN1pGTDdQoXA3oXVrN9ytUjfrLXm2ok4KNt/woLUgO2c0YZXDNtiP/zYpnPC2Zd+VN1fzqjfyRrK2rtxENmekArbuqrs1/4CMtef6VzWPUCm1sj0GNYxY0LQx4og06TVPsR4QSbUUG483YnzLNgi6gLaCwW82ysp7to6Sjjai3rO2s9mnN653Azg4cyE3h4uzNyJIEzh+axI4ZEPZNil03Layi4Y3syRoOE8hZDisHms4D/YzOMf4fjjIoGE4nGvPN3fmLzhrkoQ3kJw0NZcLfrXKGFo1AakotcjI9jRUOK60Sw53NPQ6Q7QVA0c0qZkmNyc6ADXRD261lJH/NReqDbcc2Hu2HisFsrP8EzdSb503arM9NsZQCjYFxTm2koirNqyPljeridm1rrJ8NQfaWbV5L2U1YY4aN3oKnzUrFL211RvgNcGvBLZeeh42TYFDttprhTZekwq3pysMuJAhF7bXx9414E3/tWINFjZkqj62nFWwNnUj/zb7gtu1CIDFNZC0fLZmvhW3xWQqNow4ETeJLpE1x2NOtfQ7ETXUIM+0O4OvNOmV87Qp9Jg1n1Tztvfru7ZPd1o2jZM8trhO+rYyv0C2S9Lntm8+sLaiWVe359dQtzlG+7VpGba0cNtVNeC6b7VqD0M1orW/MtQG0LZTUd22hySNNi1f2DZZFHk2n1CDtih5mDZDhvC2IAmttg/ABDduaj83ff/PN89XA7dJZJQ35amuN5+1w7ZfQGY2i6cdtvoH2zU1vYe1VkWnNLSMazUOrPm2qNinto4YGTaWUse1ma+NNVRWTbXoFQ81HqCatNwiY7TqoIA3uAz+NxK8cDjYFy04zBJZtqfCyjbZe+Q2bu4ktSpbQbSp+eU07McBtX9c4jQLjoy0XvlnMaRexTRvCG+1VDnlNS/Phrbh2Wu3a4DNtrnrvDaY7kK42rICuHV8MLgxvt621y6mtJo9M7jCam24FB2+uKtACrgpx0K4eyomuI1HSri82i63O/pTNXTYUbcPHMI20cSbtjAdijZQl3+2dktvNo1gIrbwyw44nXIBN5GdPzUW+Y62U0WZt+Ll2jXMcUq1aQMONddAJbVPDIs1frQStl1hoTc81xw2DGb7Nu4G/7UfmwK3YUaPNmGCS7ZKwRg2u0nltY0tpjU27161LtX8NJo3JbTlGgO0i1C/NG/yErXvazo1Fs9XtQaCfDV75Am2GpD3t04jUbdMp5s2/5F0tgSVaTboZH+253yqtkNOaLczjzy3UkxXt7hQgbdQFk01UhwXt4TdWrca1gq2PF9At1XXzLfItHK2LBW+NRvaTrW8h9U0SgEOtO/2lLOtKCe3pjvMtGGgADXeYhK1txcbNWJBGrV8RA816drytPzUrzTRzia0O3mVs8dovzQoVEK1x5WjNfD4BrZeXJU2imOpN/gEKTdOHeC2EC+DN3b2EDepXeI2RrpwN5VnRLWFdwK1/2etNUrwGbaBLgw3q8urNtUOpLatiiU4cq3JN2HfEDeNRpE3ho0Vt2LoPjdKA9434Sw+tzvGfLVXtSy3opFut0UNoDbJAzS2BKK+NWlHLrT42Tq2u08ht0YZWza9SkW2fHoQN/PAljao6xq2ahoENuRIArZZugc2jEcRtvsjHzZZRzW2d2RnNpdBGbdrIB63hbPatuuF2DY7a+G3NKIcuBU/97Yquy24hccctni2ibbzut22R2APt0kzh7dPcP420B8Qt+trjbaed5C2vzfytspIm7bk/3G3qKAJuKb1M7d5J0Q2yEbgtaxPizX2xBC12LQgM6m8FzVHXse1bSmNNiUnETdchAC3xukAtzecbTf1eR84VGNbOBYBxDcvgiO2Tfq2NQI5Azjflqg3AUrEtMQp/Tdt+cw3+Ba2N48SVzc6oNM1h+SxNtTcgTfisec3d34GOHe/rjfU2EA3lKD/tYiesDcUdc03NGOwtggbcTZjKT+2G8IiNvsLEbat1wU2EjIBtmUJMzZWHzg45bNSOFtvvzaCJ/41pXjNNtBHZDdIGk04jKuPN4YlkzZuzGo1tg/HtZ1B7zVi4Qq22MgpNixjeba+iEY3IxaHN5v+sTZHDdy0eILcM0+1Q7SX0VM1gAzhtkrhjLeqsLo2uw0SuLhoSLiYhT24FMRtuLFXxbfdP+m3WysitinRRjWF4qG03kPWselhpDTiFTK1GwqpNdb7bLadeie3m0goN5SnXDZ7BAy1ukzFtca+MDdx/YA3qB/0N31+OTdwS8q2TL6WNjig3jZiiT424yURtt2dxzUumku1XdkGtPM+zzXrZQy3sxR+tuWnRzWEn+U0Vdm0tTMrJTYVyLS26yiPt86p3TJfawA2ckMit/ZhELiplCm3lTY/NlwRBbYVZOE1ArPKtaDxuTWKr6u11OyeNaiBk7X2oIk1hLuBtTI9eTXm2He1t4+DNSgNn7W4J/811dQFtxM6qLahn0g2Ta5dtvTkyjYKer42yhyRN3e/lDZq+Zi1C5X8tLuMcTaNJQ8315rWta69zbRet/A2NBSwNo1RMbZ5kg023qMRtmirPTbSlKK2ZAyIN1T6AzhwwyI3ILheNxmF4jaLwR446dhMOBaZKjduBTI3mCqHNdzLBTfsWYA2ccEttWauX7U+MXw2qh4SN8tIAzc7XOA1FvHrtSWbUzf1neA2jK1QOEVTCDhfHyU3GpFWNpovKraW5AM2CETNtQskojVkdYW1NLNvNU1wdrUu55I1K2TEtfOQB7dWMFm2CRufNhMclrhp42i4peACuFqGx7cUzJq34ZhLuF7yIbj2DQS4W5D9t+G2P7iFNwi4Vk55t3nKirb+xs632xKSty04s7cgify3XsAsuK1WKLhXJVi38PoEuA6Dn7flh/60YfeKt0Lda7d/4Yi3RckYt/FanLeejCm4HVgdt9uhWbf2S0i3KU9atkBQLLYxymM2/zJtt/f9tbZazAC3rypst+Zhrrd0K363UH2mN/hBTDfDvKI3W1aJN9mInDcT0x44pWHvNyS5uTd8VKk31uE9OAv8HjhLThw4GP3+N3YBFjffzMw3t+qgN9nqCjYP0Aw2medsNsZxOjf/avg3qoCTNxM/Kje8DCC2JR0XNvFnm7cnb462uFmYNHFy87efWoK2904fuHkR1LfaTwg3rH6tthisczZU5AW2r2ahtltcGbd/wZi42WbluK1ZybgyvU+4pOROtkkUzrYXuVq4RnB5uMuzm7h1jTW45Qynt/4shrj4tnS4cwRduDwAH7jCxVu4eWHst+P8dLd4tCS3StCYt5cT4re1tg64+mQMuP7C+bd09+m3jf1Ft5Yj1Lc1Nvc2HkhUty08Hbeorrm3G72+t6yWozX2UVO30V7RNr0m/LaWHL62jOgAtT6B2TVRXom2WmOgtw3TdjYmXjK3uakEuPw3KLcSIUK3ruXGNb5rTreOwEC4PL9yuA9LM7jG6my4UN2QuDX367fFM/e3mUxBt/SYa7dvjA+45ZOGt/Q/5LZRHg64aj8ouA1sebdg0oU2ZDiuteF64Lf5CTO4b140uDyMnLe8dNO1JkWENALRgbSbWfY0+91VtcoZqDUDUvW1uXjzNY2m3Le2Y+S3XSJlt8lUD7dD/9m3KZ+QuGBe57feQdw2TXTwtrMrl7fs6WO3pXB1t0EN3LWl8FU2g4witysWRbZUS/I0wEOlM7vAX7Sdhik0ylciM/427bQLw701exUDt9+Kn7bE1A42UTq8tROTiTV2bFC1808fNYut8rTcZbc0CV+KtJq2VTRoKTK02PopNMfeJzdIsZo0y9HptDIAOTVLt5q1DusUNg18E7fjPGe2rkv9M5A/KTaHeoy3tYIouEzxarhaaXC44Wxxt0QYm7c6pGC4IpI4uPbnK7ghKD+4o2LDt1HbPLXGDHk2U+RWt3hlZ7exq9W3tDQNuPYoM7faLt626WFJtgyvTjYKN2i2OLCPNpK/7LZCAIi3HGsQuDaXJrhiGKM2RHdGti2zOTZ1xqW2OkACt1kqjzU+rgw25oAwNzB9l7aWJZw23sM5t9ktYLQEote3qestuLW3d7eGT563yFk/tjoaQLcolzI3zeFyNzwEu7Yryok2gFh2tgr6gTYUWok2HJLitl50IDV9JiM0TkLJtNd97TQpYe+0UczgNJLWybSeuK409N2RtD58aTTrgzC0uuPzMzHjjLP0M7MysrCvMpLeebPT3cUzGxYDtOyIHjRAujS03fVENLBdTrRe8U80XZBItHr+NjTS3xm02U/fM5qxWbNO1KOyqIjqM6uBc7SAOs80cFAmtZHNiDWubAO28U4LNz6EkTbwcvG1tROeNT2Fd7UXcVo1aaFUtZ+vYDXCmn215ruWNZFDu7WGAPQ1+uYqtvsQjDZX71u3x/y6t/7xTzYWfcK1rJ45NTbxd7RHe7+zpHqvNG9PCLUK6Sw1D/FGtRt1VjVPzFm1w4dLNdTGGbUhHWqztKjBNmj2HDdNC8Y2jgOftNjOVrQyFoM0j0wOtFHi1rPLngw1nN7JtbmbBDcpopw23X0Jtmy7sjX8XIG1aY9CNajFE7WRM980xbOltOEbbzSBHiW0JG/UMzDRbrOwl7gyFnLEMSdI87Lx3VAzZPqTszcSxDNY6fyzjgohNFMtS7TLvn00hoSctOZUvjSZv+O0ReUFNbaDGrWLwS414lNBtY6AUDUt3lm1R8FZNa/KSbXusxw1Jds7tFOmhrWc/6E3va2eN0G1TDd8gg43wfvSNlWPLTcAuXQ3qZRmNrQAkbWHDcK0AUPrNpBsszb7XSO2ryyENYH+szZOewE3j5dvNslSejfYdSo3Gw9uN60rxjfDUTQ2fVIFthvUmTeIH5g2HXsEtgEPsTX7r4m1mqZrNXDiWbWVGVU1u5ZOtd3VADWiX5c2nyV/N4OyDjegX783g/ZLN9mSQ7YVB4Y1j64MNGLarrWOnI02CpCZN0xzx7WmZ7k0EQBvNJinILUcFWw1GOyTtSAqrDVEr7+1w3LONWwt17VR/dU1sCi/tY1HQzV8TLM2lXcAN4CywbaEjP82VrjYNwLFBzXTV0q1w0rjtCpspzcbGoM43DRQOCCrCTgJVPI3dtICOEllQzhY1B847TKZNxhVWjI1qvM3DNUkN0RqWjeSH8U2gKYBN+WAZTehNLA3zZguOL26sDfgpCU4IJHCN1GmRjiJhwQ4osw4OJ+hhTcdDQA4IrEgOATb8jYvP3s4Of2kNzlMmbXyKYk13ygGN58oFje/y1w2/KfOtFQtFbWIt5A11Qa8tQEG1TV64N61JVjaNf93xbV3vRe3XKwBtXvcCrbhxDS311nqNqQVOzjnd4U3Ky7Stu8wrDYLa962CPUKt91TWbegE4m3pm4/uAfrYrhSZGC46LqBuFFVXbj/ap+3Woxct9sxlbfVUZE2gRNmtlerTTZ1gvM2oP5GNrf4TbYW8lo2tEVwti9VizbFQZw2PzNrN1sOxDcXYDk38gm4NlDCozdhGJk48mUIONsQYjgpt8Y31xPfNwHNrjhoCno4rHi+OOzerzjWSJ04gK9sN00wxraJocA2enj/to9cBjidlAs4Oz0iOLyYazgs/so3OylkNiv8eDXWPYe1XRJfNakiGbWd+4U0+2ETNH4OKLVj27M1+Ig8tn3Uszduooc3L5OrN+XFhTd4lL43IJcsOK/GOjdZVMk3nRcWOB8ZbTgHRYE3qgC5toNhaja7zvK1fIOoto308ravKpM2A6pqtse9SzYozz62hERONr4LsLbNYwG3Om3dNaQ1hLW2xV81UUtctbfcZDXcH3C1YqJ5NYLLfrUMwH01NeZ0td6eYjWNDUW1FcsZNQqturT2lxwz2kzZNAfYkbXKlCI2Dxykt5h/DbbeG+22um2atts+ujVwzBi0R00dN3fABDb90aS2jFP4tsAsODfqCck0Fv92tYGUpzXM5cK1q6AQt1vv3bUcBd81EA/atafvzzXJRcG13j6uNRMTlrUED2s1hA4DtbF827SgYI039DjPNhI1hLaQRYE2Q/qbtkJn8jbYeg+4YsZduF94ZbdVXDK3++uzNwfzEThRCe22gfS7tpJ6wjbjJfI2/4JgtfV2r7S3rJc1XvUEtq2PTzb8DKa2+a5UN2urarZMC7O20mx/thKgzDeVyNg3zr1LONaqezhUFVA3LMh2NoxnczceAt03wIi7NZ2zhDei/RA3WWkMOAuskzbBjKA2GoMHOEfKOTZp+Fe1kvGbNzphOzjTbfE3vafYN15RSjd6ryU4BDYfOMcgkbZoc3I2G64vt5y/xbeDnYC3v8DGt4S4Yrftzai2UZustjkuh7f/+5e3zVTZtU2JOreDBAW4VHYBuJdwmbfrexK2AFRutjfy+bcQzeG31o2BtS7sETYlET63tuJkt3IHxLbcFAi2x1Fyt06b1LcUIAe4Cueyt6b6XTaInNm2b5XdtyLhI7dKg5S3FHeKt5fz9zbQkPu2Lgaat1bGT7f/sAa3ksJTt4xVw7aDkSi3bN0ct0AOXrZ7lCK3bS6oNq3ShDefiBA4Z2ujN0b987UQeIg1MG2EtU1htzUAaSO2tK4XN4diVzbsvpS0Uw5hN1BsBzhCdNs3lfYMOBbv7zdQi162qjM5NgTlxbXqV/e09BD6N1Vh3TdQe901eRqDN7pRMDcU/Q62wSNzNQMU9rRJHG80lQt7swSbsLPm9Wk04eG+tEt+BTXmsSy1ThlVNYxMf7W/q5Y10XGytZoI2zXBsha2mvedNmT8mDdnHva1xPiXNaxRjbXWpRW3wif5texqWTYelrW3xXAruI07TLj+fqS3udtOtkr/jrf//Ru3aJwuuGwnU7iIme23uDi1Np6rObd8dQu4opaNtxokcrZ/Myc2g2o9tlKCfDYbouW2rbWbtiXmC7cYXV23k5nztCHgBzb2W3G2ah7RNv+QlrfVGKa3nMahNmyaALdPSxa3ZqGstr1I4rV5yMm2pkBit2hUtrdObiM2jYg1tb3YpbRsyco1Y1GYtxe7nLa02w82qnnNtd08pTUyKWy1g883t1PdmLff6Te3RFNqtYMpGLcYDqG1EW+eNX/olLWnzoQ1XnxZtcwmETXwGcKzNTl1te8x9jYR16421z0stjbp9DXgTMC1tw+dNdM0grXcYh23h+89tZ8UITUoFgS1TpK5NJZPTLNJUnC1MSUQNzlAqTcsmWC1D7iON3xbrTdPN7a2zo9INsnMBLYgCxO3nxaVtUoubjXEXUW1b9EpNV0FGLUvlQ01GKEItdN+BzWsjgi1biMKNWZzCrXDiwc1XoD+tEYf3jSg46e0CgMoNKVYnzP33dW09e1FNQ0mMTYlIB04UcUgOFk1TjeJXf406PWIN7JW0zapGXm2OcJlNmwptbb8QwG3cB4It9U34LbujVS3Y3gVtuxXiTPCTqG0WoPAt8JUI7hnlPS3waurt0cBBLgQCyK4QttPuJR6yreKhym4UAKguEfyuLcpPFC3iRIctoQ7KzY/uyq2j2gBtylvIbaOHRk2Be8OtuYOAzZ8U+u1rPXNNaN0r7UDKZk1QOIFtqVXpLfFy0m38yqNNsDieba0DB43/QJhNjEmazcGMoU3x6LztgZ+PLY6S/21t6YVOJ8YIzddJ3a3ZpdQNmjQKbbGIho2rHEcthW6NzZwKom2JXpWN8vmUzcQgIC2PHUbNtjd27UX/Jw1YZM3tRie5LMbwjo28AIjN6c4g7bUKA64J8fit43gpjaw+2u3YAC6tz8gkzafXyC3wShetqyGHzXqMR81HIIFN7/eJDf5M4S21Tiwth7Ti7ZlNAO3En+9NmlbOLdt2RK2cHLWsr8kI7ew1D+1da2GNWMH7bUivQM3tBKvNv18dbZPdB43sxVfNnJLErVpJwO2F2lYtxyn1LZBZZ01FHGFtRZ8zDX4eW6370kRt+POHDYzOMO1NkWYNdw+h7XkoYQ16V6NtZ4HojW2v8a1toYDNvPwQ7beRMs2miWrNuXLJzfaAnQ3Oby+tjQzxTZSESg3kjAQNxiAR7amPB82KhQbtnNHNTaTC6i2LnaXt/qY6zXsd5y1bNinNQka8LUysVs2ZPYHuA1fx7fmxLs2Wqi2t1fcurfvXqO3pnqGt/rFhbc7yYG34TzAtfk+VLefpJC3gGxFtyZI6bcHUCG4fXuItw6b9LYzTYO39dMrN6oQxzfx9t8354FuNsF/9bVNfq41D2VjtW0knzTUqB81LYhiti9OF7dLSSM2eE+ttW+VQDVZYr60pgkeNNRJK7Ti60s1FPTktiSpybbb/Gk2C0MctiS1grY8LBS3D+8VNvDx17c73tG3Cf76s21olzZNVZU3PWmetbDY+DTXZQq16m2KNahVGrbegRo3a/AiNtmGTzaImps3K+gaN2+subVFfw83w4pnNrYHqLSyC5S14KqBNttgoDeQVS22G+tXOJsRVDiPJ/o3AogNOJQaXTfGZK82cKYcN11IdjcUDyg3IyKeNzrhiDdwXYI2+94KtmVsxzUwzJG1+lRONQF7CLUL+Z40kqsHtN/7pbFw6dgzgeExtLo5WTSDSWa0st1cNCi6QLT2kBU0Gvq9s24FAjMT0gkzFgrNs69TKDSyd2S0yLOLNBKunrTzEqk0gnOotPrMmTTXLXK0aLkANBYkUjNZuKm0UOVMNasG3bWmk5o2pTvsNlmPhTcphMY2cBxBttu+/TV1TK+1dE1oNZ1eAbX9gegzT7yjNHKnZrWy0AE2Y/YMt4pniraSysY1D5w3txm+vDTDXtqzVIrAs+jfijTc8Om0pWcyNRZcjLUCjAM2TfEKtyLGkraym/Y1K4GgtUR+bzULzTy17JMZNeW1EbXUrtI1N/2lNyi6TDe+TrK2fvdKN9Cm4DfXwmo3A1j5Njx+rDYPz5G2mPJBt7Ob7LY+QLg1dZkqtTUsoDRwjH6zFWsutM3g4jSkzVy17VvpNZnLBrc+gZ22uZUbNrGFCLYJlTQ2Z1MXt/ooTrbzGLW26A/vtjl6qjYBSMe2Vy1zN8bENzeI9BC2HYQzNbyLgLNLGIa0yMPaNBBF+bS4te80lkLktEMktTU7Yv834d08N3AfT7Z6mNw1suVktbdTRjTf0BM1ldnZtZWXmjZHhJQ3v3HwtCvD57VmXp83sPRVNnDBkDQSenS2v0Kdt1TfCreAUDm38afANFUh5bOPFu+y4oC7M6nyybMI5oQzrDQWsJmOsbOxQ0M0oaCbtDskJLe6khe1+NM+NYXcaLVPdxm3swOstQjZzzXTv/61k54Ct9hJXLbTw6s2FKFytw41I7ch9MO2jfmRtrblgLcIDdq2g+9mNuYIJ7bIiwY26dnqtf174zWRrku3n3JMNuubP7d2R3K3HdzSNrW0wbZ5dek2D8xQty8Ht7dW/gW3IjTrtYxPeLdJbai3PuUtuHDtALgcUto2XJlrtiXfDDZW/qe1Apk3NeC5mLSFnYivUJRWNDXLsrSL4d00Vn3ytAkc9jSYX+60T53hNFiv17S8nds0SNr/tKr4NTX32Ka1BB16Nqy0FTcYUCq2TGDMNbaKhLXoiSM1qQiltZBwAbjpsK23yu0ANpM9PTPuNNW13KZsNjio77Yp9BM4uN4nODLNqDdq33A3wiiRtj4u+TWOjdK0SRZRtUBGCjbxCKq2SBeSt1FBIjXjKP808pV7tcnxnTX2TrG1qk3GNbLX/bVaWoo2hN+fNzha9TZUwyA2tQ4ktuZjMjaakkS2HJ5XNuQqbLZGoJk2p68uOJVzDDhbAzU4Siz9N5XEDDiii8k3AykQOK8xCzagI7c2ChZeOOMH2jWLQzM2sqsKOP/HATim8iQ2Av4Jt+83rjXNUcS0eGwLNMuZC7SL44o0ntAJtVycijWw4k221K16t+/WrLe4wYG2NwrRNRvERbX/8I+2U2aPt8LGNLdqWCc2YqKVtXQUzzSQRzA3kCzFtd36Bjc2a5E2BC3FtQJdzjSopzo1QiBttqvVn7cNswS3LjaitZF9NTWPgaq0Sn88MgcF0TT4xku39NDvt5ihp7cTZyk04PiRtrKAkre2p4K3QgCMt9x4gzayG4C3dI+it8pLJTc2Bi421uC+Noa7Rzd8EqU2e+fMthSJMDg3xH83PyY1tfMPJzev/II2GTfuNtS2ebaXKzE2YlMYtndrLzadTKC2QSETOFmlmDgQRKg4go9vOAYxXDisKRo4FW6mNhc0qTWvzd21SJXZNUZeyrW4VLk1mF+ptbavmzXtx5C1FMmINdWLg7XxqoA1owx/taJ+fjXITn21aR54NRJ9abWtakY1iJcjN9HexbSpGd02Es7SNm20q7Yk9hi41LS1tx9UdTW86BS2Kb8hNnedK7bOaT02R8lntnbZhzcCS+I3NR3NsjBTrLXb9zI22rket0x8F7Yqo9y2+xK5thhIPTbyTha2bd8VNsF7PLaFfLk2HFLUNhfd0TZP17k20XMytq0r9TU3Rbu1zxWVNTsUcLWQjj8199ITtZg7JLcb+J60THdDNGy2srOGnnExGklaM4O0lbNYoxcz+YG/M1Wr1rTnEKs1yHz+tpWyqba7mSY27K/utROdE7euHZi1hN1sNTkrKbVeRr008jtXsnCsAbVSXMo1QQAFt7wAnLazOAo2MK+7tcB/lTVjhYS13oGANeG2hrXIy5Y1cXaytT3Q3jUrjRS2C2RcNvqCzbYRgRw4/aujONV9gziHXl84vRPYNxekDzi6els4dCN8OE1c7zZiWq830go3OOBxxTf4bt03apKQN1yq7TdGJaQ2043ktf9rCzfNnnk2qEh5NVO3YTfIncY2G749tabfmjTZhE20CUQpNG91HLQIqSI0JYZBtEDKgDQ1Cba0XZQCNUZnObXm1IA1APWttbvs3DXAlpC1+JILOJnZlze1mYw1otSEtrqzKDddchA46uXgNQjFETeDuJe1EGlKtYnIEzYc6I624fJhNwAVQjczXie2N0lWNTBL5LI53ea0y8ZGNTbYgrUVJp01i761tSiszzVfre61m9sMNp8yM7YkzZ42E/jFN5fCmzfXk4Q3oi9wNZuMGrZum242AjWaNlWV0TficM43b0XxN3TCETjIE+c33BgoOLNiVjigZkU4wHgaOGQjHDiDjnI48c5/OIqS+jeXUXs2jSBRN+osnTdc3iU3yRyStmTfgTZ44Ia2saTHNjj3lTeIRt02Pi0dOKlq8DeeydM3WmYxNk9lmzcjUYg38Ovlttspozb1V3+2hP5NNqJXJ7Y7PQc2u4DXtT+fpzXI63q14SswNWTA3LS/zWM0Ye0st1Aq8jRF5uW2mNoouCkS6LeZte238TE3t6MHMreRkjC3O1NcNve55rU+MFQ1WVeAs1fXILXnHac1biABtrCcNTYjQ362TafaNt+WLjdR5Zc31c34NpTvLDf3JYE4jXjAN3eJjLbfgVs2h5fwNmoARTYgBEC2DYA8NndgPbZFfU42jOejtgV8w7dpAcu3+oNrt/8UM7YZ7IO3T+edtzkD8beD27G3HUpptvrgJLc0YVw2AEQVtrMP9TVtS+21JFERNuqXl7Yzogq3rLwINtg7prWKeoY17+mEtSKsoTVhEgW2iQkJNxeunDYuxSe2l0VxNuIqgjeQc2s2FC8Ktu18EDbJiDm2vWiSNv7DX7e+Y0W3CwQvNrFxMrXufSC1HH8QNiSEF7dWUU+2zrfksajJrjXSEy22ElW8NvmO3DZSYY80CuECttcwpTZd6JM3U9MatapQu7YxlMS3+DFQt/cXyjbw8EU4A5sfODzzHTYSkp62p/jdNzIJRjhEAz82NIMpt8yMA7Uc0TK3aJf8t+5C4bUML4a3+JH1t0O6YLYezUq33i2lt9iBwbdFENO3E9hGt9xzIbYSqAM1BTIytXNgAzYTEiq3WZEHuBcABLgmyrm3J4kguOm1a7dRzHm4f/+BuDjPyjbStK22p+ijNmmDxrYEfHU3b7wpNzHWoTbABNk2ZiNktrhjJjYkhga2fmzkNYl6x7XNrbE1OgahtZ2flDVML4y1OPeHNQxLibWP3ZQ1bwW/tfJqXDbv/Uc3krHrNi9YzrVO4XQ1jU8gNyQs8jSi6IC0cYr2sc/jrjRXBzi3SSrQNXAdjraXtwq3+gH8Ne3MBLa3s6W3Uwm6t40MmTaQLce2HGPstjZJQjWNicU0+zSStWW09TUsfDi23iiINgkFfDbfgIo3CGvcNrUXSzeRHSU3Dc0SN60lzze2Yp22xWw9Nv0JMrbhmg03Km2MNi5RMTdzcbs3l9uENsBjATfG5bc2b3DrNDdJf7XUznE1HTkqtR5pWjQ+XfU0drvmte8pDjdNeXA2vrexM/UW87ZehKW2zt0JNsJplbUAJso0VoJHN9dcxjf5nbc2qiBBNMlIm7WepBQ2WK+wtn1A1LZTzIu3f6GttoguEjZ+uay1OR9pNd6XOLVtFjo1vkJwtUQbsjVYS8G1VQgnOL1najcR6PS1soYWtw1qgbdrTMk2F4yKtjxVcTahwQq3TAO0t3c4a7YVs6g1wCottcENtDT4NT20dRUdNCV4nLSmpG81uungt0K2vbdhFka2lUiKNP54Bbhxdai39NfZNWUVK7evvaa1D0NcNrbrZ7ffniq4ytj4tjaHXbY9ntC2NLktt3gc87UhulS2svGfty72FDZGIpa10m0jNcHjnrSTxqozTcOlM1GLTLTQWJA0m3iqtKnAtjR/Ere0BEutNJNYm7R2PYM0ahROtGWkETQqeqqzHQjmMoazoTIdtGmzACemM+Wet7PwdKUzG1hZs9AArjHWHYIz4XgetDB3ijQNNdS0cTEYNUiCU7UBWJI1cCbQtVZIIDZr+Ja2+MOeN+3uBTgWmwc2k+s4NswHjrbWQFg3jQhTN3AwgbYgKyU2eaYItrEUEzYoAZC2UnoUt+saXzaWpau2gxQBtxATpjWVe640elHftrXO17YIIrE28Sdgt+AYT7fwE3s2QbQhtqdLCrcoS/S11Xj5NU+BDrbn/0Y2Eggbt9pHZ7bHxXo1St6qtIARVjOVZim3Z+petMIGjjQ5n5+0dk+nNEbbprR2cZ80jQeStOkTfzSx7FG0xtEeNGyG0LNlG0QzelV4MZoiTbMd2bMzxxvps8IKADSM7/KzO2i8M3bcL7PZnfmyEQsFNEK1g7Qzg9Q0zMUbtR9dWTWuSZW1uhPTNSpKK7YIPRU30QSBNuSW47UAkFQ2Wl5BN6uDxjcm2KQ2L+7oNtsSYTYZ4Za2MRJZN52AVzdeqpq20HiHNhwxsrb+DHA3c9stN5e+kzXKiag3G844tuMCtDXrNiK1gb3yM5A3hjR1gQ61Q8BJNRQVeLVzwY01IbuatayNozU7z6i1KkSrNdJWrLWg2681hvvFtRiERDbB9og3JqoCNra8tzZmVhw33NDLNjtyDbWd7A4ztQUsN+2lKrOz4p8yrdUqN1YJdDMomwe0Pi2INHvt97QKBjg3NTAWN0eHDDZzE4K2+MBaNxawRjfn/yG2SSdLNbrIHzh0kdo3eB+ltgnWOTZqeOq1wZOWNc9TPbUSuug0IbqbtJCMnTSZ6w21f163NTO2ALdB66W2io8bNotrzrXlNYw1l8AhtSek8TNdDxM1K0LutS8RDje2C3g2BK2wtPfvSrb9ZBm3Oh4kNjG8pLUSNRc1gyMlsxy+CbW/LrU1DDOHtvIND7eCixg2MaA6tqfUjLdX8uO1e8QOtb5nADZ2vw63AO1stwI2nTXKnre0l3EVtA22BTVM7Fe1xqSSNf5gu7UT+e41iVYltlRJpzY+mQE3GeLLtZ/nXjXnile1Sb2XNfCJArax1582tRj7NsXDKLXuq3y1b60TNr3/gbbHAjQ3ssXCNogw+Dct6ds3FXNFNx+i5TcSHlU4A8OOOJ5KaDf2Woo2AAXdtWhodzWCgCi1UWQVNfoUKbVJa1g1RVSOta9YuTVLMu+1Rt4fNiMFkrYp/hC4GEK7tuEY2jay09k2LcDxtA0eNjNdF8u1j2yatx9aubc16U63LIAUuGuR3bUDzO+2bOB0t5L8tbSZm+i3ZDIQtjHUgDXE/kK18Jtut+2Ij7f269y3cDIBt+H7sbZOZOe3WAF5t02r6jW+a3C1oILWNNw0ETMXEhO1AGquNbdRL7YEJb02ctYKuFTfCrivV623PDM3tyuuEra3dTq30ICDt22CxjVipr62KehDuHp5Erg+D/S2thMyNsj+r7XpeBQ1tTD8skH8v7RFFC012qtjtUW/gjVtS4m1zI2ENX2+Y7WDkhQ1OjdpM6ae3rUE+cg3vZdqNyIFgTaQRpc1HVa7taojwTVmL9O198IHNlsuaravI2E3TYsJOPaaxTdIKbQ3hvkeNyR+4DZOZdA3k+hsNj5TmbVezoS04ilrNhm+BDfP1n83kyDXNsnaV7ZYjww2vAa5tZk5KjX/o5E2vs7wNyVEFDikOjo3pWiwNwaHCzi7nzw3cn6MtrXRqTbzzK03xecZN0xylzdiWFQ362+EtrpHzzU2/YM3bsjcNiMjb7aOtCU2cCPmtelIjTV2Gsu00ZjntEMV7TUcoA6329Fpt3TXUTV1amM0z9wWtbvabLe0kIi36XxZNt26d7dHmJ+362PstivpXLbI7Y+1OhebNgKpqrfJh5G3hpzHNqAZjrZH1ao2r5ryt+n3vLeMU0+18UGStv/uzTYz43y32EkptzjsdzXSwcA13gsLt3UzjLb2PeE1Myu2tUF9DTajC6a37DzHt6Gb4bdhrmK3nZnbNQnXqLV0XI019zBytTgYUDXqpDG1V68VNUFd97R6scY0j/OYtIx/WzRYRAm0hWFoMxcpmzIEycGzyXgwNDFegrSaj7A0KkLltGInEjWIRDq1MPlxNeBYpbXy2P81P/aVtlGaCLevf+01EJZetWyq6TQXSWG0C98pt+HuKrcBusizB+gYNG67PLStd1M0vd9ftNs/ZDTdm2K0tsRcNExbVLSUzEo0/0hBtJm5ODQ7tzG0r4IsNF8AKbS/tyY0q9UktDk0IjQZZB20DrkUNDVXBrSBfeAzhqigs0F9ETPwErAy8AzDsxKLQTQ3ZJ20d2DqNCBDJ7Wd+2s1m36qtRSCBzYg2py24jADt6AgrTVkDv+zV4A0tc7zC7e9SJy3jLB8trdgarcLDuK3G1tZt4D71bf0KMO3S/zft4MBf7eJfOa3ed78t41cU7ZgpLG3CN+mNpAnkrYzrpU2WFXOtn04vbf5qiK3rmdYuPKbHLga8hC4DfLGtupckzZvN4u2sESJNhjUibbiaow2Z3WRtmN4u7Z+n6u2aJeKtnsQDLe1m6c3jGLlNz5jkTaOn8Y2YakgthQEojX5gRO1BRfbM261hTTBRRi1vwJ7NaBz4rW36gg3io0MOM5/NDhfK6S2zwwFN5K6zTcJLgo3rxCGNrg+F7ZZkaI3tsgQONPJ3TcCsVQ2cdWNNlR2Lze1bYA3T/JBNAvWgrQjg/20OfNWNvoOGjcZCCu2CvWwNdj0IbWcJx0yB5IlNbuwzLUHX482o4YJN4U857VjpEA1az+dtLBNljPHUk8zhyHXs0dN4jOx/aKz1wapMo5zezPhkCm0o5qYNP2+9bTcPEY1C1S0te4DgDbmghU3Js4ztvq3/zWr0uS1te7kNbV69LUgtQg2l2MgtoeE7rYz7b22gRjttvtupTVeRca2iAgjtzwpgbfSBjq1rX2/Ne+U47WfCvQ1Tpr6tW1V+jUGUAw3aLfwNS5i5rXzvdk1nULLtaxYuzXxW6q1jZqYNWlLhrWXhWY1+vQeNzbLIjW9pgC1EwzANIWFgrSXrRI0cgkosxb4ULO7vwc0JbZQtEkDiDRqrKO0Vri7NOZMJDfFswQ15EYltdzRZDUYxMC1EZqENv2FDTeGh1g3HYCVN4VNMTcSg0u21oOONgurGDehxnC2PuexNsm4lTfY+MK1+m8pNZfupbSNb/oz5BwyM029XLRDWNc0/ccutWkchDXNM8K1gREPNqcKXLZQ6cI2XaABuAz1CLiX2aW24ObVtvcqo7c1H3i3CYuwNi/XXLblYhw2zofptaW+szXMj421mQNkNW1sPLVkLiE193kStVLEGjUEUn61bNjMNuUExTdWLI81Pcp8NhAu/TY6WbQ27WLMNpdtO7bLmKs1GUE6NVNup7cTLoK3xEhXtt50Abe+AsS2PUbpMxNetzTqG7W0fMd2NIyn2rMoqpCy2hfwM6rxOrRWrVI0tI01tPe0pjOtau4zTR8DtUbrvzW95Ja3ZD2itopKFzZ+/tO18k6pNTN2kbWMWIQ1+uF9tSdTfzUVhoS1rkSHNV+YS7Wlooy2hLmCtyZTEDYig163co41t70jk7YGWum254qZNr/qp7cVsGa2L32uNbgfirXGCL01befltoaTnrediLu2DBbXttezvrakjU02a3IrtozRMDZnqmC23ZTUNkZ6ozbZSKw394zHN2eSPzd5OU83t4FlNwX/ATZQAyW2OM84NkNOXbYF6Lo2nbcQN0h+jTfQpSc1cYDmNovMtTdrgI42xPhRtkT5tTa7MpI3OKxVtZSulbQXJoM1404JtlK3DTe+EIw2FHzbtdSwiDW73Uy1VaQsNXkcHrXEmRg1bmwhNxS0JDUXnyy13M40NSezO7U4Zj81ayo9tYlPMDU2Lw+1ct+ANE1NIDXLa+W2uD6Ht9vgczYEgpm2lkTRtz3/hbbrHg42FX3UtayinzVw5VO1AUaxNH6ceDRsrYC1h6YENikUcra2oOw2sDQUuE+zE7h/V982mAgwtrIZzLVmUym31Yjxtk2QyrVy+C41xtUns2mW67RKc141l/qbtZBKxzXY4QK276+BNnb3Pzc2qI83w2tyN9anLDeSZ4E3/OEsNIrctLQgVYy0ox1bNwFSIjdby1W2ErwNNhNi07Wco6E1LX50taYvMjUhJPK04omPNNPl7bPkQ6ayuCYENLn+VrRjmYY0jGqTtF8ckjRs+4K02+VMNG/+87P0gGIyA3bsM0EPirQb0Oc0+BYttUxjeDXMrba1W74bNulgEbcSXYa21jzONX55jLVEpIk1S/u2tWKIITbjlxi33woutsDjirfo/Lm2LVQrNra70bXj9To3XRjwtJbAuDIGocs0M9NQteaHoTXI5ua1OuUqNlg6r7YZwPW2bLF+NXGa3LOsQumx5Agntdsyjjdm88o2juVxtqpASza1wfg2QfsyNtKtLbaSvyo22jkqttVVLTbR8Te2STdYNidXurYLHPe2IKnFNTo71LU9RJY3nmCbNjn5XjeqdNg3T7IaN0bfFjeo6mk22YWBtS5Z0DRiIzC0R/p6M8kEprA3mBOz0o91M+ToiLMcIhUz8bqwM4RN6rSP+tc11IUnt4/fhbdOdAg3mgoht15YabfY3yu4pdl6uBmRN7jF5/C3Weazt6rkQrilaba3ZR6Qt2LXObc6LDA3g0qot++YQrjMfge4R0jet+E9k7aU8kk2lHk/tquIWzas0xe3jGWNtqWIHTZ37hq2daxBtw4DRrhvWcW3s5YONhJnhzQbwSC2NxgzuGidSLgr9q23NvxJNXBsRDU0TJ21ISaVNdylsLQJFt23AIbgtrUiiTYqaGO2mGFRNsf7XLZbMrU2aBQAN4Jq3bWBf401UId+tecRezXfJm61aZ87NbVANbQf5cO1DMgPONEzRTf+Y/S2WO0NN0vhfDc10oc1nUnQtdVZ1zU6Fs61WQLCNXleEzfpFdI13sEXtuTnmzcYHpU2S+QHtiAjwjUf9pe1ShZcNa2qubSPGR83HnSSNwn+qjZMYAm2zqysNFs92jZcbcA2jZf3NpND9TWKSZy12pglNXPe8bOjitC0zYd6Na522rV1lEA2XNggt8/wUre6eTe2a+wXtxCmULfYyu+3fU0it6i0vTVRt3q1AUq0t+K+Frecvw62WOkJtzAyqrbUY9O23KNUNpXHFLaPtPA1aCzetR7c6zXBPBC2pEdONnOQzrYSFbW2ew6PtszcwbayryS3KDzYt3CRxbchQVi3yYiKtzTEtbYVWh02JZe8tTakizUYzZq1PBsWNo7urbfoLYu349eyt0D41rZlHoo2+GtfthaeDbcOzgm4YnUjt8AN9rb/gny2P9/AN/Q0uTduAu21aI8ntiNAmze2K/83k6nrNyJlATf8XDc4pjuxN9ZufLUVmjA3vjzYts/7oDboF3y2eKNINmWqH7aMhPs1r2zJta+AETYN8yc4yIA/N04H+jURueU37dX3N2993jdgncA2n0J7N5ngXTfKVGY2bGKMNm+74jfdlCA4VzQKOLseUTgg3+M3fe9ON9KXM7Pjmh21hGmBNeQEqLUv98o1LkHwteW/DTZJaAs3kjf2N3gI4TdYvMg37EfTNwbbmTcwGX43qPiiN66TjDcgnfW1wMz9Nt7hsDbAQDy2c9ISNpx6/LUl2N81FCDHtc7grjWFs5W1G5F3NRdWSbX5skU1Np8RtrrWx7f9dpG2ytJwt5QI7bbjdRi2b+kVt5uKIrclRPi3OBMEuAo8xrcTx2q34+QduOH+ALi1LsW3SqQWuMrKbbhb+YW40gF4uClDebidmIO4xfeGuJ07U7hp1OW3we4OtutxjTRi7IA0Z1kktVFTkzW3Kg62p8QPN+D/gjZwDIi1XTqutXATkre20a+1QRa/trucH7dBxba205Q0tyV21zVviCy2KUyBN8kznDfeDqI3+o9EN/L2jraKo6I3LAGINhq78rXuBrA1tGoZN8HhVzUu9r20rfxbtfgCFDdGcAg4v+57N3hkKjecDjS3rKwfOLrKCDh2+kw3ADRXOEjkEDgBCAs4NoAjN+e2BjcUycI237OHN+/ktDfSDES2toraNSg617XnNvA2PETSNiahm7aQfbE2zHD7ttxYnzdqzvI3F7tVtrtdmbM7VPE2eBuyNkdPVbYgEYc2Psm/t4sLv7dIi2E2zr2VtTrP8bVHjoq3FbMsuA2abrcA7U82/XiZs1WAhbY+/o+36WyItz0DKLfwjnS3wWzIt9JVa7erGH63iqvBtyh5gLcP5Ia1vTcHtwpFRrb5gIU2weLntkLWqbYh0322Z6QGt5j9vzVGFfq0i3MbNI1wXLPJGJkzDrUqtOy/nTRWVfy0iYs7NUEvirWuK981paqJtoNan7cV+Fk2zJ8Pt0bLmLZZxRo2nf/8tVn27TUWUO21lC70NUh1ALaFKwo2SwIZtonaMTa8+GS2SAnPNpDDxjY+mT02SEAYN0K6Lbbtt941ZkcmNkrzGTgvQDs4MxLcN1MUlzfCQV03G3QENuMYHLYwtSI22rUntsNWLTZK2/s2REVaN7DyPrYREis2kh80NgsUXjfr15Y0ORN/N3MgaTjE1TI4qxMCOL/NAja+Qx03A4Soswfr+DZSUx44V0zvN1WdHjf5RW83pq39NiBFl7Y22Wk2xP0+tiIYHTYY0f21CUDENdikirXvnhw1LT20s+uFM7cT+Kk1znQotldlsTaW2re3Vf9DuDnDwbfHXbu2LLFoNlbZZ7YZaxg3abB0N1PljbZtD7C3Vcett8cDl7fP0DM2neidtzuYWLiLWAq4UfwDuNkaQbdQPYg25H6vtkfyBbeCphq3DhIGuGWGKrfSWyI2yATVtUI7Bzamue63KfqgtlShHzYcL/S1yELTNVdwv7UTebA1xUCjtUlrljVfUom1c0B3NfBEWrX9Zzs1emQataPf7TTpcaG0QKwdNBleqTJTtFa0Ic/TNMIEIrWC5F01+JuOtVHBrzUxE9K1rz/1NXmIDLZE2R42jzIyttHmSDY1omy2J7q3NlZ9wTdyExA3h3eGNzZZ3DL4/Qu1KCzaNAU9pTJCuVK1DPoYNqjuHrc27Na13y8Kt8zaSrdPXCq3VDJqt+C4jTZWeeO1THDftY1bMre/PZQ243eytskSXLe7l0y3LfvWtbqhUrac8xW34isXNgzliLWQ3IQ0KdozNSUAYrZsRhq3xsFANm9jD7Znphs2jOqZtn3mCbcAzAQ24BSXtVzNUjVYch61Cz7zNHzwuLST7Yc0GJY7tJVw5jNvZVizKnN7MZ95DjP9LIKzVZuqM468wrNrPc0zFSDNs1uTxTNFx7mzNMKsM3o4obPrZ5kzKfiWswXhmjNRV6WzxcC1MwqwyrMr6eEzLXD4s6BPBTTiJQq0M3gINEDl+7OUntAzVvKKs9qHnTIiNzkzMSoBtOPOZDQ/Kay00fTsNPi4GbX17T41zwdltaVohTWAgZe1gC6oNZfntrWRY8M1ZvjNtS/Y2DW+tQw35EtgN02G5zd4J643riLgtV+S27fnumK23tllNh8N1jft1KM3TRDINhEaxLaS4Io3ERoGOB3DkDYjoxM4H5XCN2ZddTjU0/U3ACW9NoAGwTdWghE0VDY+tbj4iTYSHfc2xC0DNkC3HTdrsh+2/QGJNcDauLT+oHqziQGeND4w2LS+pNU070iWtKiMBzOK6NU0HsqbtejmPjbY8ka3dGBet6EDjDYiWiG2QhPKNQLTaLX7uaA0Dwq8NGUhx7Xa8QU3rf2XNu0H/bWPJJ01D7hetZCeKzV7DBC1ZVIHNSbzFbXgHFw1irMktsgrircm/S2255WPNaAhf7WfO5E1BVi7tTODBzaln2221DS9N6B4wjfQPYq2c28uNvjHA7aQ1w+3TA7AtchHrTU+m5+1G8uUNQ12i7X9uYI1/Cx0tWr/YjX6oVO1A0VNNY7rcLV9oB02YI7iN8YNBDY8zTqzmUMvtStYEbdhI5C2duMHtzfFuTVKgtA0u9bothriw7b4HIg2Wbcht8z8YrY27JI104NDtbKhjzWuINy2rCqft60iircFLCS3n4klt2nuNbVg9Bu3VkiTtS2QqDVqrLy1eZHRNcHO6rXKjwg20hgxtqheqzbGwf82TnG6te86IzVFBtK0SdbBNGHF4rRkChE1sjI8tYOicjV2T5y1SafONf56FrZuZ6E2OFIDNxkizLUBqzs1US0Ftd6OGjWfZjq3WaQOtzpfgbbkVZo3avy4N+FVTTdFwQw2L10Its0z+DV04+S1SUHYNVLZ0bVtEdE19TPVtY6I3DX9ad21rWEuNZRtB7ifk6a3k4r4NX2fg7UXfZI1o3INtgLgnzeGZD024RFBNgwGBjfA+ZQ1CNfJtyKDy7dk6sK3ZB6Mt8qPybeRZQK4qwL7tt9cuLaAuP+2sp+Jt7KhgrcKG5O3DvuStt2QjDZu5rS2jan/NuOekbcJ8c+2oJO/t5ojXbgzxG+3krB8uPpFUrgVVwG4ixyZt51HwzZL6rG2TXi/NsssWLdapKO3UMsItpEAv7d28h+44noSuEE8PLet+JC3t80MuGSTObfwdqu20VMLNqNgZbVLMLqxbxFUNQPz8LWVZZo2zm4DN4ers7U586o0AeYBNG5wwrRzkwc17D4etd2xKjWEMTC16+YwNatRLrVefik1/yEjtRepGzVlQBO1ENkJNdVQ/rROQ+U0wMjGtDUqoDQYDlq0TGmWM7BHDTR/yDK35qyWNUlpeLaG+xS3pTMlNtuYw7UgVIM19IwttUD/wjSzmrmzDAlmtE+9GzWavpS1PfQRNlgZEbfUi4G2ILCfNdmz6LR8DTQz2J5XNHwZvbQxneU0H1jjtLfcqjSsOHazU0szt1YK+DUUzKq3IRcBuAhLfreQkiS4PMoauBYKQLhguVG4hs9qt11B07e8SLq3fvwQuMZz8rf/ZeS1LjXRt7WTg7ghwKi48EHet/iKp7ZTvZ42TIdrt1l0NbhwWPO2CkQ2NXJ8Z7Pw1smzWJ/qM6lSY7McPomz9OWDNKAmCLU/GWw1na3AtZClITZ7CrS2W1LhtmE/4bQjCjE27lzbtpDThLanhbi36vu/txqgDrg5kBK4uXPsNDtqq7RwovK0eP1VtyufH7guRxW4DRjdtSOx1LbxeXm2UwxYtyRNuTXDZ0+3hWnJt2Yf2rce7QC4lefwtetrrLdnU1G3zV7St+2f9bWczO225hp3tpbLALfPKOe3QxBFtQHA3rePdCe33cDxNWHUVbVeSR81WocotYo2TTUkEoK1nyypNYRZ6rUOgUM2asavt5hxsbeRTSK36VP1tyvrFLhZ4Z+36R/LNfsWLbXZYNM0ORuqtFoxpzQLGre0YrXQNEis7rTUiQY1xbATte8SIbdmIi61xx00NVJJNbXO2DA1QwMmteTuEzWCDfO0XDuqNEIyDrQuBQq018kzN/QDp7VDJ4I21kYRN0KkFLZsNaI1O3tLtV39AzVlgqu0LpJhNDu3IbR76xA0nZkrtCNGbzRd3ay0HFn0NB10JrUAulo1PFSLteU8rTUz4dO1A94ANogKH7YQfOy2pdXCtvAe47YiD+c0ADKxNEifnbOLJ7m26cEct3xiNrdcG4O3/1/lt/jnsre0/w+4P3/Ptw1tz7dd3ru3AntjNhfF5LWTnVE1qWWcM93jEbaiKYm3tYhOtse5/zU++w+2eDY0NlbvbrYcN7M2hSpyt59vrrctVLw1yeEGNftH27XWJjg2/9GZtqJ8ZDcZwEI3m/FFtlB9yDaH8wE4LGRNOIji5Da5cNY2hzS5NvZtNrbXOAA25+zEtW0pmjV7UG614tUxNWpl+rRlOqE0z2A1tETLqzNYX0Kz31O0Myxje7RQIh81c4zOtctKBTeJd5k2m5f3tRIWfzV0E6u0zNOktJw+kDWzSxi2Qum5NghXxTZ5/4I2uGHBNowH0jdHBCs4h7/pNmsperXQjIc13Gf1tYzOlja4ORk3XYjuN+MHmDceWaw2BVXHN/B0yDclvJw3rtQRN9Qq3TaYTtM3+1BNNuVaDjWExus3oV7KNVosMrXdTdQ2k1EKN7j0VzcnAM42ejaVNq40bTeOU7U3ASw3tit7ujX+LYS1ud+ENfopxbV/+II2YkqfN9qcJbaT/tc1mDXBtS2hNzYxHYs3enJHN+wrvDaa3S83KRkWOJGb6Tc6dW83jS3nN2QzCzif7yk3aSyHtV1e/zcyGPo3QLADOCXPmzeMtJI1j9zDNkrjajcHHQc4sPydNzZrBzimjAo4aV1VONC5EDi16PI3jfUVOIJQiLQpSg04jSYPOKEtjjfaQbc3jF7vN8Y4erbFxCY248oOODjyQTit+mQ4wd2wNzMeDTjKIeA35XLAtjvLijbof5C2iMc9N4kANTjku8I3iCRbN9WGjzf4xCU3jbO3N7YDKDhOzUc4Vs8BODu3TTdSSyQ47klbOFVVGTgZ9sE3Ddn0N4aagTfjUL036ckbOEW6ljdWJAM4xRXKN5LWAzjRNBU4tLUAOPl9UTh2/W04PQE4OO04KDg6cY43kg4WNwHIlDcNIZI2LSKpN/GPrja9lbY2gZ11Nw/K5ze9rjc4dWS6Nz7VMTcOhPk2dcHXNZAel7W8g2M17v4vtaW8CDWTJ9K0JImdNM6QYrTTXxg0sRy3s37QMTM3C0+y0KKMMDA1hbKMp5Ez4LEnNxCaDDXMs7i1pjAAN0NcqjbmSDC2EKkPNnqbBTcP1YQ2Qo1wNw9YNDdxS3w2bOANN7rKQzciwxE3bSNINzXeBzeSHVo3TIGTtuMoYTeWELM34B58NxwnIDjmSwA3ZnWvN6BVszefvOA3iFksNxFsrzb6mIU3WoesNuwi3zfAsvA3iZJ4N5eG1Dfzuc03qLbttSCD/TfCzf83T9H+N6ygAjgbzvg3y1EIOAjdOTfamIK2BY+fNsV50zcgph04CKc5ON3DADhVUhA4yLusN8uIdbZE7aM2OyUuN59METeQAOU2PUlQNqqk3zYDdcc2S5aON0kBIjc1U4q0vQEONR1pKrW47zM1nBo0tWYZLzUVkia1owcaNYWMBLWOl5g0/xOTNa+e+DfvfvE3wN8ENoQSErXAw5A03jjbs24IgrO14oM0TNH9tAgdUDXFGae1YaRQN5g5ELcpoYi2G4/kNUcu6bWYL/c2+QXxNg/syzeDhJQ2RKb8NlkpJTYZID22DluZN3MpsjdlJYc2r/4EttHqxjVMxaC14uyCNQM8UbWPFiE1LtfptLj+mTTHfCe0RRZDM5qqNTNbSuCzDOwTNHPRE7QS5M4zPBwAMegxULRRyx01TtHctQs/GzeO8A848oHbNz5M0TbQop03upHUNr7BOzfHyAA4tq6oNaP5j7X155I3TOm0NnOjRLaqvSM2gBUjtipyQjZqgLK2Vxb4tslRkzVZDmi0JuENtDRtqjTWpyM3V0kVNf4uLbVhv0Y1cPBmtbEHizUIZbO1V24FNmBimLYBPAe3h57dNW+oKrUC4+8z1PWuNM9jX7V479Y1UQhatvnGuze60Fo3OPaItt2VJDb1Dua17l2qNT7XgLWG3kI1Id8Qtb6CzzRXXYq012geNFgJXrMVfA6zuDDsM1yqQrTC5oU0ON6ptJw/zjQpAfS05BEONdjxI7V1jDw1Kn9Ztbn4fTXofZi1g0nCNaaRDbY2kZ02XLMBN+19KDSQ45Y37zFAN2+MrzSe0Sy18lVmNRzwkrUcVrw1zST5teXtMzYjRLa2hZGPt6k/AjRygA63Z2IHt9oCILe9UFG3JKU/t4Ori7ecx+W3VeicuF4ZubiUIUO4hZoruIxKDbfNbvG2M39zuNNqBrhppPG30h/At40BgDY8kK21z5WGt3Do0bYQaGE3QkEOtj5OsDWdVvu0ug5rtUAeADeRppc28oqwtdZzFbW325Q3332UNsFXQrWsGti2bxbBtomfQzbLkwq2PdHZNcTLtbW+j581A1KTtTp4jzWVnZO1XoSgNQDuuLVw6eQ1T7ggtuo4pzaMLZU3cQKatdJtJDQgpZ009GUXtVmUSDVAZGq1G8J/NUC9hLUTl4M12oJ3tTPKVzW70CK1X9eaNGTsijTNycG1eA0KN60QZDZAZ4Q328bTNspCYLa3hCA2h6L3tUFowzUySpq1km9wNTWRNrWyAAU1o0K1tOr/WjSgy8az4zD0MOOsljO3fAa0RTcyNOYbUrTLgGs0NtiDtC9vnTTmVeC0xAxtNbwxzLYqKc23HPwEuHE+mrdsBPy1U7fWNJGGRbQc7x00/wlNtBpYqTSQsRq1+b+fNWdTeLbBPRa3H/b9tiz86rXbj7w1URCltUvkF7cCWZe1UYKYNchenrVvxqg1uea3tfxBzDUH2ua1fNMENsdoHLaYMT82X7bWNhSzjjcYI3w370UFN7pIaTccTz61t7lJtI6rLDUvgHS1jYCPNR1lmrVprZw1HPkXN1V7kTU3zoK1i7ZeNaTlLrVpd+w05fhOtGJp2rPQdO80y3qFtJjMTDilaIU4GOdhN7U4aTdAeZU28xJmtpF6HDfbnW02QrmetQc4STUySkS1aH+CNWiH0rV5WE82KxNIt2xMxrc9Ir02ninmN6KdazcbtNS2b6L5Nt8ZxDarWe8zyrNItbRVbzWgtm212XtVNc9hIDcqzdU0AABNM0hvjrWuFvw2XTunNvC0F7aWs7w1gzVntRS81TSDuYMzDpMYtS0coDXxvgy2dyeCNnVKWbeBoEu3kZtNNoGZs7XlvAw1VV0rt90wvrSoZCU1+LdZtYXTfzWQ54y1PHCUNbXZlrUSR5Q17qqMtUp1fzVillm1bf4kNRf3t7RUtWiz8OE+NdNREba/PDI3TpGNN4uZgDf3ILS186n7NlcPqzZydSm2js8CNpJuAbZ3FTE2BLQVt1EgbbZg6lA0g3XhNjOBvDYv9Tu2mSz0NTe8hbUdk5a0XWPpNiizsjZFeB+2i3KqNZRk5rQ2Fty08iK+NUcBSrZeiyk3W4nXNVWXFTbo8Kc2hISBNwRbADdaibA3Nw22NwYczjZxRA04i7GOtWut5DWSIv21oDKHNkSIFTeAnDy2f/0NNk/LBbaRCBI2IWhGtgwCGjepPG42RjaPtbjF9zSUPD609FQgshOgLzR0caa0aI70NO1RHrWmozA1LRDGtJm/fLe4ATm3Q5czthmJQLcqIoK3L/vPthioSbbiQ5y3l6iet5FMt7TTzls2uZVVtz7YTLc1Bk82T121tY7yETWTq1izGaSftOG0GDU5SVe1l7eJNT9nq7UKRNo1DEMathB+ojZD5wI3jB7GtdcnHzWhgY60RML6M0rqXbMIAxIzczNGsy/PpjPVJwK05ls3NLEtbbTr+I40kPOhtNiBrDRVW6u0zL2aNOv6a7RCUdozVo64MzM5zbTVJG41BDgFtv2cDzcWjns2nnI/tdpYRbWlwzg2QylJt3COWLcfuWo2jqRxtbsM0LbEvsi2I21RNgpkFrYez+s10oi/tflWnTUNM4C1xRhKNcMuE7Vo+640BOWPs+4UL7eOBiM1qGaXtXksATalTGy2DJBIN264+zffZEI4xsWgNxxVnLZjdxw2oeCutV2cPjVGqTC3etm6M9tpnDIy6awwZA8ytHXUDjUAuKi1QThFNvMFureHQMO3R6yBNrBSS7fa/081dlYnNKtFkLVeqw021+ZotvwLwzYRq4O3V8wCt4Iep7fK7v237cVYuFwzZ7i2hBe30q8GuEhwTbi1lyi4mVL0t7rtMLhg7IG401KxuI3Xi7hQP1u4eOI4uIHo8rdbMLK3OlgstNGNTbgHU1W4jxVIt2IZy7dS7Ie2v5AUNtqwYrdg7ti3HPx/t6ssRbeXTZK3XoY1NuZZFbds2Bi29CjJt0HQMLiu0La3KN8vuLU4ErhP6fw0gmX6NYoLpbZN2fy2dfSWNZGBJbQkQ+e0hYnjNa/wybdgWFi4KqhBuEo4KrdTDhK4QY1yuKs7j7jec424KOgIt2ywrbVUnHI2XCT0tjOma7fDER+3saOdtbf6B7fnXWu3TOESt8Xih7dQ5XO3tJr/t1JBmzWV3bi3z+i6t1JCaLeUxeO2WIQsNk0LyzSsrSq33vTNt/Z8oDb1gi+2u2u4Nfal6rSNRNa0d4iuNdPgLraq4L02bAZIuPfBjriicMm3+Dt2uFSDD7hpRNU2QX8ttuh8pbYBm+y2hpCJNqzmW7ap4GA2zxkgtw/qLridm4W44VJ4uK+HYrgOBhW4BmgethbzILaHRn427mW5tz3s3LdYon+3mU3jtGYxDzbLb6y37gUHuPr7AriyQ5C3Uf1huOHXLbgf+y+43jxkuKhncbgihgW4pWLRtlc68jQrEha3n/ShtS99treMr3i4qHgSuIJUWbjw+2m428uKuLo9GrhSQly4QeHKt4E8ATUG/x+3FrpdNu2mh7cJzNe2K/Swt6mTrbaRnDO3jJ/Nt+YYqLeGwqG3/STltxGXXLgEocq3ml3qtwht8Leen/q3YTgZuGXs7LebINu3ddUCtwtsyLamtki02ZJbNWPSrbX+BUS4jD+Xt1/t+jaQ77m2WeKaNpDXhbaulGk2DCBLtnWB/rYWJha2DZ0Lt2aa0LUl0KY1oO06t3LaKzXuvru0a3trM/oOv7Towh64WsmHuARRrrfONQY2EgaXtUQMszVjqIy3wcNSt7YWVLe3A1o0+2WDNR7l9LYDsbm2o1rftlTss7Yyzf62doTkNAjisLen5LC3veDstjXRFLamxg82Kdg8thy+FjcfL302WbqvtQ0+QjW/rPm0OZGoNL8vXrSWWAA0YQ0xs/ylC7O8b90z9tQ2tKroeTQMF5u0ggu1NDuWyrTg2tw0A0jwtCQMCTXTZDa1nSavNUXN8bZQnc223r6mNocAQLddUnE0gbq3tx7Evrc4F6M1LytptxINurfMQsi2kkGLNvAHkLYMFsA2POp3t8VtIrcSMbm2G4m5tl9iFTYIpI61VICmNO+BxjSwF6y1r2uGNhyiDjduKQm2Cw1cNXUpkTax8Y43QNA0N+ufHrbx3jw1HcdTNbkQ/LZCs6C2I14Kt2st/LVYkgW4TysjuPI/zzX7gvq1Zi/XNaELv7WpDLI1KfittbqAsTVkh7y1RvfQNacX9rU7GSQ220eltkrYlrdK1cs1mNZBtWikATXrNN+0OwOFNT8e4jeXLoE4sg0oOG1RKjgsSmE3bT4YNzS3Ajjg2RA4QCpfOE7TFDgiL643vjO9NjpDrzdf7gE35JuxN5bNjTe+bzY3ndEmOIDkMDdwIyU3aKiVNw0l8zWsByG1p+lCNU5rrrVIQH02rqkVN4yNL7Y8CuY1loavtdvohDUnmSq1QBVRNfduRjireZM3Opb1tvdSxTaO7sS2vv0HNzj5eDdOzuk1LQg9trCu3bYUP323q29UN+h0ATgCSog3OXVlNz9mUjfWuHO203bXNgmIiDfxTMY0m8m1tZ+z9zUYQyi2uEQFN0aGsTcHMbU2jfvmN8/x/DeZcac12iIVtVtWszWGdlO2K+hON8q1UjdvMFG2j2kBNdzw3jbtI7o2zsY5tt7xDzZQ4yW2TKQMNxnHmTa5pBm2v0z3NR5747XYgNo1JsDTtZ2eyzUxIMC1BdivNe13mbV+Enc1aT0otek4gTSFzJM0isyFtbupDTbee4+2A2vLN+lmHjcNmZw3wFTdN9mkdjcrmOE3UWOtNwpcyTe6Sxw4myQ8OIniRDjy6D04u/rnNwrnNjhCDHs3AVYzN3I/8DdlWIU3l8QrN/X7Hzd6Gjs3imojN8dyOji1gRQ4rTEBOO8/2Dfsg8c3n0+FN1OCmDXwchg37HKXNnGY1DY9dO81iNbxN/3fpDclhWs2VfXbN2HGozcXrA04x1otOM+vBTcUPxq1QeKvtQh9CDc6sok2vz+btR8VrzNt4z01Qu3HtRaHJjYjjMU2yexgN8eutzeLIDK2ns+FNVNBkbQRXAW0CUK7NKnO+rR1Xgk1s+gGtRjk8zRZaMu0qhiaNAZ+SrTvMsczpv8Kst/Ad7PHKtIzMyHms4nDsDMxIMmyQcqGs/YMJDQJuzS0S3uCtCOqxjYYqfo2VXQMturTMThc6QU4iDXoN0/VpzeJJKI3ZbNsOBi6dzdnRxE3+p/QN2EZFjgkgw04XkBlOOEnKziHSB84ORzpN9dNjjbgWVA4+U0xONTTTDgUnF04gmjbNxmv5zVGRp43qSmXN94oIjf5Lgs3xf7ytgARxjd2SCM3kAgAOPLW6zcc1mw3hkgcODkbDDdDrGE23xEUNwSFfTdogRk4ZQPRN4rkYDe6vOk2lvRWtjff8jU2RIe1c40DNQaTJbTpryGzLJO6Mz1TbDMyPSG1/bVeN0wCITfjM1m2XdwYNs7L9rVZrc81WtivtUWIGLclrnq1bllLNRpwHrUg8ec0XXKYtBh7HjQFDNayCbivs2ihNjTGfn60M/OVNJNHnbTQc5I09A5jtCYv0TM3QcEz4TbTtMCHdzU5+Qu2b2sUN4iJPDYSbM42NvnANrjdO7blTPo1roSytbTgfjVb+i21A37UNGvlP7QtuyiyK8w5NOisp7Tny+U0ko4LtQubHTUjsCi19DUsNYUlJ7Vpkxc1WTHztLR+iDQmzwU0XGuOtQG7kzfiJ682pFYxtmWiAzbg2Nm1Dau8NQj2prUCI5U1dFmFtWDebDXpAE+1z4IvNWnLDLWcPso0GvdZtDQqyrHi4Iw0qSEdteYrhzWd2NW1IHAoNmd7krZ+F2Q3x2SzNwo1ETclYmW1AgVyOAdgzThijyc4y6D2N4QS+jfSPT41CZFNN8YH7zc8xgE4zWUEONOsQzdmP4m2BNWiNh9XGzfYg7G2Q5nmN4q+Uzd6Xs43+Iu0N+iCjTQNNq43Pf9dtq8q9TXm15C1NxIsNffW2bSGZb80Ge4dtU5jTzeobus3Xs66N84A3TfavLA336A+NofnB7MzKpm1lSgUNpITdLZn3vA2lKNnN1MIRze2ZE43gUdBttoWhzVrZC23WgjHtN9oMTUkw1q1fL9mNbxMVbWOnho1ZGv8sUZWILar5zy3sQUsuARTR7ibGu63TfkfuCNlkre/fEg2RJf6MkA8m7f3ARS43Y+pt4PskzaxNFK3Tq9Yt3dHhzYfhCK2TOjgNcMsorWdQWg1ckIdtUiotDRflruzLRletJ0uLzW8WN21ZGkIN2YkhjZeE203X7NwN8SEUTeu0gA4RjDBN/tgxjfD7+w2B1b3NvKfhrUxV1217wgANzimhDej1fA3J1bsN45/YDh+OzE4yL6MOBbTZjjD7kU4v49UONledzhPFX04ASDHN2ydDDgKuhU4tMxIOCcLhTjOx5Q4cUWQOLPPVjj18FE3VfCtNw8zwDcoA+83z+QGOHDf2Ta1sYE3eD/tNU2Z3zbeS7U2Ms8rtmqF6zVmrb61uK+9NW8GCbZGCAk3bxmYNj3QyrVKfMK2Pdn8t0abwbcGADK4RqVhuE5wHbjE3Ie4w3s0uEr8t7dbx6225Bw6NrWoTbeDW9I1b0ldtQ5VfLeb4TG3DKlztltrprdtb8C3So0luIKk/7eZNSG3aRmbt4tSi7Y6KsQ1kJwkteH+f7PAn5s1PcP/tp7gpLYHWRg2e6XNtWROmTVDdmu1aVs0NTiJBrVdL700UyInN8KxLTeLQqqzj8izM8+OkrTLYuo1/67vN/2rBjg7N0Q3yvWbtu3gyzYIWZA3mNR0tZ2/SzT9X6wy1yCqs9dUqDO0FXGz69gtM7LwkLNtTWM0MH4+tcGSUzarrRs3++1KN/8umTdliNU3Zha5N/QiTjfpc+g03sjEtcU6hjaSCKA34VhUtvGaoTawwpk3PVv+taT6iDU8xC21qVrhNE5dibQ4YAo0O7z0srv8VLNHYOYzxi8ctOC5MDRuAjG0vPkcNEpI6LMTXVUzV/QGM1JbFbTBoJY0bQP8tDTwRDX1NZm1i8UANufpmrbq+5a3xWOXNexDpjS/FyW2fHDtt8Z6h7hXFau3/xyQNhAzqbWEvVC3DNolt3yfWTYkvxW2VF8PNnMBibaprRm3HvJ3NqSBuLYIQJO3GkuPNRe2OLQNWFi0TKrfNPn4FrVXaDQ17X5MtTP3YTWdDXe1RhyHNTSHlbVsFqo1KXnMtSDPCjYC5Y22i55ftwj2zbcC81S31pXrtiDmC7jtWq23UKOKt0jzULX+LXy2srANtyklBTZ1wae1wksFNudkyrfpj1i4x1gWuORlMbdnw7O3ussutw8URrXLtEM14nA9tQWuQTX+8VG17RR0NR4npLX+sUE2nvPbN3FjTTaYRM61KMW/NVzo2bX4/xA2RPzbNrmOUjfjbU43KCdLN4r81zfYODE3ee+HNTyfHjfdx4i03CfiNkgTwjbj5W22OdqjN0QQGjjT8XY35dzyN3RilzcD3QU4zGqxN0FUtjd7HMI30Hy4NS3xtzedOqS2aGNsNqB2ObZgBRY2YSP2tZrxyzXvUK21HcanNZhJKrZUNeK3SYUstt92F7iznRa4tkTst371C7hkDnm41ol0uEMPdLdUahO4y0mduAgXcrgBxFm4d83AuPvCgri5R464Ocl6uFhiErg8bCy4US6ctzgIWLfveRq3zJmqtQ8Gubcwhy+4X5TotrmAN7ZyEii3ChV1t4A5o7de2Au4DzyOuEusqbdzFqo2TOE9tq6r5TXMUTC1P82Yteh4KjfFz3s3UVrKtlydkzYtrdo26r1cNkNSTLYX10Q2S2BNtoMgmjazshE4Gj+mNmf3krZ4jUw3VJOBNwlUuzeaeDc4azJQN7s71rRKE4030fsZN7IPejdZnRC2ec68NdcwGjcLRU01fosdtaNm+DS1KMu05cauNMbon7S005s0DCCgtNCbqjRCOrm0Cw3KNIsa27SaNek0bFMjN6/iBjX09wu1fzMPNf55ELVwxw81xCcNtUWyCDWvgQK1plz1NO6N4rRJlsw0yEmztMhGljSYzmm0c2AcNAnPgrNVFi2znfIvNJFrq7T0mww1nWtateRwrDWEXRu2+TcTNwFIaTel+Hu1UrgmMiftRjXyGAC2B1kNN6fDiDaAbL61Sco5NfhQt7SkVh00mEtBs3ttfTIp11GzQEUgNKv4r7T3YSU1YG6UtXS2ETa8pBG3R7h7tjEHfzXmRIUyEtRNtfZJ7DWojZy2N3LzttkKobaFcKW3+pKGt58JLbfERes1lNcgt9imEbjDbUi4X41pt8BHizbgCCS2V2bZNSuBjLUYxhU1ipqOsw8CEbWASA+3JRQJtz+AkbYvY+E1ySN+tRXNGzVf672015hSNDJNobNuJ/qynmoNNAhAhLQi4s80/VAZtbuBXDUZCZ61bmLnNfV8NrYTsMI2cmCFNzRA8zYw7Is2OCIcNxqYz7RhgL41sX41tjbWyDZoPbA228SjNwl3lDcpAJ42JAnYNy6jhTbN/Mg3xoQxOPG91TcVPaQ1vg6vtcaW7DTyeMA2SiENN8n3wzefT682ypdotnLPZzafu5K2yBqyN0s1NTdGrJw3+USLNjZjAjijPps3qwQYN6tg0Dddp6W2hSQ+NpV16rUgKIs1PTkOtTAaLzQhzbszOjV0tGT3hTQPeQu0LHdLtHORaDVXqSe2mwNBN5pgYzdMvZC2dI4SNre4qrQI3Y63mlSYtigJvbZ5due3xDORtyYbCjQ5WgU1PyogtVKeIDU5yh+1IvclNQ4LN7XwClY1XoODtQDpqDWSveS1zDErNnpFtLZsCOW26nuktHTdTzbNlW23IdDbtzKj17XRJiu2I+5cNluHHbcecGS3OaKANW/2w7T4/qUzbrMDNFd+orT1zgc10u5YtYZiyzVhIvG2Bsqyt6HNJLczQ/K2vzcAt2U/DLdgTKC180eDNR3pbLUjf2A1QSxbtUeFWjW7WF21UsRiNUa7abXHnXA1fpJ0tQTwbzW16lS17tLmNEBS0zWael03R2OXN180TDdobbg3Dlq/NzS3FTY2NjA3MEsLOI9TwjeKx6U3yeMzN2//FzhWK7I3wFJjtlKUDjYejMi1E3SPNZK/SrXHrg01Kt3MtPBmrDQM9b+0fjsJNVzzXLWfb7s15QkwtuXCHTcAWS02nmuHNdq8erZqI2Y3LpEiN5ltCzddZH83vyy5th4IajYs0im2F64FNj1i4rVR8841Z8LMtUBv2jXxa/m1/h8YNiLMSbZNRJ027Exnt67Nr7cLrH233IRfuHmXDLh7yVW45LUDuL4y6LfKHAe4gImit2UeBLixwne3ljiit0IEzLeZStW3TS97NjbDkbXkKDe3yQ5INtewurc2r+y3foP0to74hrYKpha4kT8It/ViJzWR2yO4xj0LuI3Ho7d+0RQ1IF5SN+zzRLeoH1+3PR2SNuGSQ7ZzxCw24mZBtqcWjzaJPlu32I1Mt6d2VzZf2sm1ZKEpNel8nTK/qzG1fQzTNUnFkLYU8pm3mWneNdwEK7Vm0ko0i9mRM3ziebQUJro0Ht7otEB+CTV9PiG1mDpCNXjFd7Xfeq41ox8Wtg13EDf2x4Q2AWmstWQ35jRt2ok0nn23tc1pAzeqJJ42LckMtrjNvTVKlZW1Sz+FNby/iLX+P6k128ELtmkDDDcpv5E2qZ30tUJEnzUZm221ruY7NRfvGLXeYv00k3rVtOofuDRUeqS0nh2aNNSlmLSahJ807uOttPCdwjT3O9y0BwX5NDWJC7X/ORo117Unta5sMzW3lz2124lINURkXbU+RZI1lMc/tsU0vrdNsNO2k0UeNQ+GvzQgUZm15MsBtzCbo7eW9ii2lpo4tnhqobfuAxI2mSdntarIADTtvQE1vC2atePoGTbatxO3JeBot+nBgzU/mly0EEtxtCi9ETV8pl+1OnebNVQ92rWOwC82lyUXt0INcbY5AYk1yyrJtNz56jOzCLCyGn+iM+GprbRVZYQ1PlFztsdXE7eDrwQ2W8ceMmZAj7eCOdO28I7vt7LFtLc5q3y3Bv0ZuHjlG7glRIm3XncwN55TFbjalF+4dD7BtgYzwre39sK3wPOlNpJrp7beBcQ3MbC+N+7x0jYhAS02RRILtuLI9DVCl+G1TBbVNbj1y7VRj8Q1vwC+tYTLtzVEo7G16harNSxgFjf8eaM18ZQWN23qsjVFzPG1TXrvNv3tRzcYglY2PNujtY4BWDUm7CW1N1QINaYx7LRNDdw03CHotNrsFzWKDJO1Sx6MN1I4UTdq4jg2j2YbN1nyUDVRRJ61oyDWNqm0yjd0nQU4kXj6N6VZ/DfEsyo329CDNnklEDcffBy2NEDkNa5uEba43Ak3cp14NyzEE7btwt41yKG/tdEFrDVVPJq1TO2ENd4TTbVf4c40bu3/NB1j2rbq3ge30rKgt9yb4LcrDQe4oVzatlrRG7iw+AC4grOWNkNC5rQWwqG3TyIDuLXqdrbSoxy3AUsaNmigsrRjYly3TOwZt4jqHjapNoe1dZf/M9KogjUDqI63TQ5Wt0USzbcsege3GyHHtilZvbZiLjg2ML8Htr0j/DWyvhi27215NwYKBzfA/uS1c1VHNemdlbRtYnGzeum8NGbJK7VeDXs18q6ntYHL1jV4SAi2RA0zNnNdiLaj5sI3S2qHOMReQjjX//U3au2JN3SaODjOSSY4HWVlODtrPjjdVb82lZGTN1pc7jcFYg04nOqwN6w3BziEChg4mt8dOLQ7yTfPwV83giEHOHYY5jethqI3f86tNpaUUbaxskA2x0VKtrjEZTZa9Y22JszNNjcUjLf2nki4H6ortc7fODcATPW1eAT/NkZgOjdviI02HJsTN9FcvTfX8aI3Bwu+tWkFEzVjk4S11u2YNz0oGTieGQE3U1Att480l7WYXwo2nXJ6trCavzd/61M3Y8B5tmXIDzZZrMK1I3SMNfwZT7Wg0Rc1S4PXtHVtjjRjtCC09r9XM7fuGDPZJuuzK0M5NKobcrRAVZA0oqSitNYKsDSGdbi0M6a7NLknubSLOLA0EK6ftDW8hTQHGD+0w1mhM5cFozPHvqa0YD9CNRoJ47UzoQc3GomWNivB+LVfvpQ1Z+U6tWQ11DRJvBW0Hq/Us+HitDRckx61K0tuNa5+rbXp7wc2F2Kbtsd5BbeikNM1iNwttZzWmDT3WvGzFKciM2iQ77IIDpQzbGgotOkCnjRUQgS1Ew1RNVoKo7Ws+wM2Zwh1tm68VTcHhUk3BeBLtTM6uzebU762gejcNuBMtjdVuIQ37u67N2eTDDgA3n04KgriN9EogTfROCI4EzpFOARjDDjwhOo3KZmKN1pRyTcuFTw4BI2qNuIGgzbdQ5o3qSAON8tiWDUdIeq0llSBNLFtBrTLTnYzv6nhsmCF+jIGG5CzG+wZNIY3jbTNGuk0uTY0tWgYhzX+Q821FgwvNmeqGLe2eWW2/G53NX1H7rVuVnC3ztNdt7+is7dvgGa3/mSoNuZggraDXYI2nNaWtnI3wjaDcQ+3I+MBOP6x2jcMzQY2cjeit1RIDLiwZw62G3JFNuxfvTZj0l+2lGuIt9p6nrcM67G0nDvwNRn/N7Yi6Tu4XRG2tyR+lrcIVh23ogjnNgvFzbYh+sg2GSoDtzCGuLbB+yc3dr/uNAiMrrN1bUC19OlhNop4ozdK2V622rGeNpSZDTdBmgI3i8zlNdCVw7UUfK81PbOetbcAjjX5+ni1wERUNW+GLrUXqQg1BzbHtMNPgDQVn/azr8u1sHae8jPtJ3m0LdzUNHB/TLX3/TE21mFSN+AB1zYgEXe1BWmhNCTQIbPCPSO0nEmyNHGiDrXhpFE1/PmZtcFp+DUS3JS2Z+UIty3G7jUW+mC18xbyNDaxgbRYTPgz3G4hs04xJLLDIxkzWm9Ls5bkVTOi40qza6s6M1DyM7NFK0Qzkpx3swe8rDMf//mzqzg0NGZ8frQnSa80FhDstMIpHDVYXUy1inyFNa1+sLXNH/I1p6o2tiA/wDad/cA2iIENNw9YvTfqP+K1ymKsN69d7TeyAWA3oIAsOKOyYjhyn9E3sp+RNgQU5zZ0azU3P3KKN0JtjrcBgBS338CNt3mAGbg18f+2tFeBt6erFreTnAS3hHeWt5x0A7jpICe48Ji+t8YgHrcHXaK28ZrJtlaDXLfqRx+3rOsGtrBv6LedH+63AMY8uBwGZrhdqzO4xTGZuMP9RrgDrJu3cB9dtoAukLfoFlW4vilLuMvzBLiqbcW2gkRcNjkETbfZJFe3z1l4Njk9ArZ/OpQ1wcgetZlNgDTIg6YySBFstKem0TQMpRe1n6hYNb2xsLWURWw2jPCvNzrlzzfgj082uqdzNwqirzdXvow276MRNtfuk7b8LWQ33q+0N3Ja+7UWvJK1LI2yN0GYVTjt0vM3NOjoNpqOAzjJ1xs4xYXYN0oyhDbg0Ay2JEXcNSCHvLUVIKc1rCCWtc+5hjUGWm61AFVMNcQcJbXj6uw0CKh3tI1t8rK5q7w00E1NtfpbsDXm+Aq2eYovNm/fXbgASCi4/t2zthQBDLhIV122h+0yNgnvgreNuuO2wPmNtA+tMTZWBLW3RXyftzvBLLcIPgq4jFeXt9RoqrevAkS3jDEBt0TOZba9bcC2J6bMtpWFVDa2Kx62s6kPNnXAMbZymBE3MliMNnch7bV5DJg1cOQZtaSMw7U54WO3YA+EtyiKjzT0LJ0z4CAxMiKAi7Tp9TU1/1DEtd0tizaC3ws3ieX2tWqbUTV/T5a0tYcRs9kDhjQs4dS0uvoBNTS+CbXK7f80YZ/AtDUDBDSqQK80kdcTN+YimDfqVpQ29ou/tcreUTPRbvA1lrott40Hs7cgSRG4Hmqtt5ft1DaO1IO37i7Qt3u5aLdc1+I1nWE0tqgzXbeN2au2Z9aOtW9iLjZxMZi2DTpeN7KK7Dd5b184rEdgOJO9uDf9Mo43WIgptREA0LRCU2814p8WN7YKxjU4suG1eJUBNgwBKbYrUgU3BvGxNxjHcTd+gx+23NQZNpkOUbZ+ZK83XL2yNwKng7Q6ef41Xj1RtiHPIzczSSM2uXtlNecIUrbnVU83bNZUN3cWcbaHg+g1OLEANTxJmjfnOtazMV6hN2CzEDhnNeA3Av0rOE0A5TcYaz43Od8PNwnS0jZXvAK1noVGtH844DTeCgq1WuMKNeubyrRyS2O0aerFNjIlGzcHsck2GSPrtCvEJDOta4G0XRGVNRbo+bbJFq22yzkrNgxA9bV1b8A1RmSatbbbdDU8ADq15HUANXMHi7SnQ8Yy0XGENAUIHrW1Uz03tk0NtmBJDzcpP243PWy1taO+KzVRurO00+7GNJiDTLcsqGG3WhCxtud45rQwUxW3zDT9teEPKzbjHNY2utsFOLoMCDizZ1A3Oyi9tqSDtjY3zIQ20wAbN4auIDaMYy03tyO9Nce8uzVGKge2d7MJNrdEDTfr3Qc2+1A6OPzg8zZf9zE47/r8N1V1Kzi2HIc4/cGiN1F5PjhF34M4P3YTONxUPDd4NfY34mG0NxGzozeoQMs3fWMWOCcAiDdEARU3cAehNRF8rbXhE0I3GZ0TN/+uvjVoQ7u1Up60Nfzaq7V9/KE1v9+XtbYyjjWKbYW165R7NQdwbrXOb2I19ApVtWT3PzW1cRC13/ZZs6JavzZUix83KtGENwRaAjRRUFC1efaGNQkplrUxqZ41v0ajtXAXpTVAlKS1pPWhNdFTnbXxqZY1rY+NtTysGrf72XK1WDJXNZtdN7VvLBM1KGrYtEIMpzSwDKS1+Z6qt6qCPLfaVFc2+UsEtlS2wzXaJJy1Ob6ANVWIVbX8jyw17sb9tMO+ejRs94I0fXUatogOVLdd2OC2Kar/NQWEQrazrLw3ixpQOLI+MzhbTmI3ZGEROIRZPjj0CqA3HyvKtdHHJjX1IZ20DxXEMo1C1DR0l7i1r/cBN9rawjbhfiI4q1e+N/wrhLaxIRM2hxuLtc2ym7SLAGo2Bk4NNzl8nrUICIa18TB3NhLkybfCYKC3ChvQt5wp6bcyijk2XTUmthjf4TVXs421MyIXNf6TMrS7oyu0m0PoNBRWMrU1GWg1QcmLtSVZoTUPr7W1H9TJNTwX37UDc/c1FEkLth94Ijauwu022nC/NthB5zbsogi1aIwjN1b1bDV/6pi1Ly6zNXPmy7XuuOk1LyMNtpRJSDbpUBu3IHhotsX0hzW/ZgG1czYwN+hHhbSjj5M0VyO4tEvE6zSsXhW1QeU5NXJSZLWXSYw1BM2xtS5p/DUjwYy2o4+gt63ChDY1l7e34wdvt8aLxjaHCaq2L9DCNm5SZLfnm5a3Tb2BtmcfdTaPV962UNqbtn59Lbek7m+37Za0NqZdibamKYo2W2LVtl+817afokM0KbIcNU8N5LTDv323K1gxt8TIcre5Zv+1VDdgNrd807YlpYa3p+bItajhEzfpmGA2sCXFtCQIhbXHWYI24RION5PKDTc3kBazqTbgNrFFwza0xVa28UMoNmWYBjcg9gQ2P4v0tZGY4TXokc61W6MTt114qbX7f5M1j9B2tXvdQzVeRB+1MRbENaD3qDekLD83o7tftr3jCjYTes61WRGmNQHri7WDDXQ1hV1btazcSjV+pUC1zq86NRRqHzfXaUM1kPZLtVqAWDWkqmm1u36ANTXakLVibak1dQ7TtW/HFTYYj6C26R+Xt2xDvDUXSN20706As67q0zRnPjq1AVmGNXKXtLW66+s1jzcZtukTSjbX34u2t7HcNpm4mLekDaO3XJB/NiizJLWaPkq2kVcXt0j9GjYIG561ivE7NQEyAbVfyuA0B0b/tDnIKzXPUna134mzNXQYBbbN11E2ddPYtpwodreUzza35Jtftwm7gzaIUQi2nTaVNdLcD7V72Ao0do4+NKuc4LTrdCQ1lFVPtT8TczVUgoi1ENyUNQVUnrWpp6M1Ey+htbeoizWobcu0vJy8tt/S+7Yxz8M2gFgHt5xfcbdJy5i2ioySt3tDKDUCBtY0Pq5QtV/ubDXR5kO1LelTssyizzYY1d02b2qOtn00gTaWPoa2bfCmNvzKVbcyNvW3V/Ydtg7ZnzVjRoi1FO5mNTiPLrUPtcE0uaNAM0zrMbUGU/s1gXAPt10dd7aSQSo1hEgvNaTy+rVsp3w2/rNRt5Gs7LdGQoq3Xt+2t35ajrcLCp63/bGNt8KcirZFuRY1JtJ6NcGyGbYhUbM2JdWON9fdozMFEQe2mQoTNwdZdjZIk4m1LQi7NPmui7M+8oCzWkTZM5m9w7OlEk0zqZ2YMuIBz7PImDw0WVVptE6AtLCZpHo3fHbiNyQ1OTcGczu2dIXONcWjjbXqAlk1ttoxtRYcGDXwKQW1aUfqNMuvyrQNKac0ufV2tJWNBTTTf50yxxtutE7EMzf4FIa1UscMNoZ2Ercz41u2h1HvtRQQLLdkFng2pZM5tnjILDbYz0G20hiNNl6lWLfaqb23ELRgNmqCjrWru8G2/j7ettCxgjYsP0S2+wMdt2/nhrd9FVS3OFK0tqInj7evagE1IpDBNDXEJbUT/DY1SlEvtUOIGDXFj+y0wxOQNKAPsbJKufK0p6YlNjAkUzcdYto2D9CctVqZOTWBWBa1VYsBNbx4zbSRfl00l9kfNIHtjrWwo5M3qcSvNvyGMrarPgQ2Qd3YtWmFuDWD0p61YluINeABZ7Wkvj41Ws4WtVTE3DRbn4m0TcPLMyNEojNMZoq054X0NM7oNLUQfXc1CRmjtTyp1DXq3Ay2YcJFNhjUorZlnNY3K7sjOEXPc7UJnIA1NEQVtd4QmDTc+e2zBwArN06HLDcYKtmzf2TjM1zlxbO9k4wzfE8DsytuDbIBCUkzg7ess3uK2DMcPSk3ioPjM4l/2LJ68V20OMOANakG7rZkOcK25qJsNtnzU7Z0Qga3y2EOuC6pubfMZv63M5sLuD/tpbfoe5m3mcTZNgwNhrbzUfi2hq4JtlMcxTWozHi1PcCTNNsrdTVMEZW3TDyWtj0vA7XlMEW3BGCWtt/C77bfksm2Dd3jspreQTXtjXe1UIqDNdy8grWUTRu3/TFytbE4XzUgHEi11PssNTmuDbVDbtM0RzqAtAdmcDMRrjQ0sFP4tF0JcTWqf+W1b3GWNkYTATcx/Bo1DGKMN4RknDd2nQY3FLPxNn776rVkXtI16qIDN2xpETftWoU2zNa9tfY4SjWgeey0g1KJND0CEbSFX2IzcoBwMVv/LLPplIQzo8GXs8KJlDMCX32zyjkzM5eKorIs6AaySrIeMw0Mj7Ow7sszBdcAtJvWFTT7gCK0MzokNCU8GLS3HfczjOyVsxhhMjELuMIzxUBntGW3yzRRGiC1fcpvNUxUs7XuGxA2JZSjts70/LbQKXg1UrGuNE2lm7UczhE2dNOntg2697YHS1g17ziwNBSwdrWYkLc1htD1tf39Kzb+p6u2z/mUt7ifrzXCcCG1StQoNSApurWkSwA39F2oNp8jJbY3/e81LktDt2GhoDUb2Ii1MBtqNZGxRrWsjyC3vUQRtZMB8DTYu7+08leQNAANQbQ4ObwzcyMlMlIs9LNuk3I0ulO6tLYmADWkhiW1cA5NNbNedrWee5A1QBymtaSquzVhX9C1wnEOt7T2+rUCLAY2PC4Ltqor+zUXS1s3p3KcN5Wyojc2h4K1ryt6tBmvLzWe6V21R6VtNfGWbLXDUmE1MZ5PtcHxOTV+FCK1FGEJNTbN4bR/8rI0iXaHtLCKQDSs6/ezCayDM7yNkrLOA5eyVKA5MxdwgrOC95gzgAijs65sozOH8pyzClGSM0cLhrMytXQz/jhis/WJVzNqqlaz06xgMxqxdbOgdYozPFaes4w7tTMVis2z0VblM1l0+rM6QQU09HwJtN2bCDQ0QgG0QRXkM/AFs7PHjFgzWYrHsWiUYLMkagc0pcRqtB9hszSAmAC1RVYyNUBbdLVDMKk1LAT2tcc8UDahFzi3U6YHuHJGf7fR02G2Eoost4ZDALh51Um3bSTSNassMbY9nZ82FPhxt8U+G7c6O5u3oyqQt/K8ALflWRu3OZs8NnDh2bUzaYY1MfIdtfE3mzSqfIyz/EXas9dCbzQstaO0gk+9NAhNxrTOIcA0+fOrtEqfijQCSjm0rAaIMyGimDPXiXy08eTrNHr6PbVkGZQ1m7/3tRNJlja6QAc37DTZtW1PIzVPIx60uz4VtK7XtzTHBgW1/kAkNVcqO7WzVko1Gc9RtU1BUTXYDEi1ZTQ1NQgpF7UYjNY09eEwtGXcLbd94jA1BgnXtXz4mjaaMOo2Z9jDNtR7wDaXZzG2MPvVNWAjebWGccI053yGNCemnLXcpIQ2kJsNN2tk97WQCjE1lhA0MpvdFrWyrJY1tbrxtYcEPzZrq8O2tEfStgOYVLUkbT42wevUtksesbYJuyS26bzJNmTfmbenD++3QJ9ttt8b2LaSpzY246m9tXeTPDUAr5C060cIMaGDIzQY4m60P+hzNDV1QLTV9bwzABAuMz9RW7Sw/to0sA40tZ81jTXMSu21ITaSNo2dmjcda/a1K/BvNcftBrWpQJY07UsBtHAeALMKbXI0/l0atQ/ZxDVptZa37dWktnApHzYWfeW15H63NVDtlbXe3241c9UvtRbV0zSKlMmz/PqNtAFXPjUCeq61uE4TNsfmhbZX0Fs3OPFHN2M/N7Z8Zlo1bfzDNDJa7rU9ow03m25tN9IuorVY9OQ0hlQHs/dxJzc2CNk0Wx0PtSbdKzVxbUe1qW1mNdk1h7UVvqM1SA3QtQl3DjaXhmK2O1gtNymCWzXyni43vBDYNzpOEThJ9QY4hGELtSIluDUBq6C1x4+DNaASU7UdgiC3azwMteHT5TQjZ8G0ayWqNHf8nrTFu540pQaotOZJuTQzutC0+1HsNK7pBLW1YxM1zT0gtcn7KTX08y61oTctNWFlIrUKSws1cTLGtLjWBTQSXJY05sQ7twd9Ljbyb0G3K2lmt+A3rDZc8hC3YyZBtzI+IbYGV1a3ygYatw3cCjawPh+03bpFtrBPrrdNWoK3k2TFtXNdKbY2yb03NYK2N7hEhTaSjOY2jelmtiexFDbo0MS1XpVuNWbjJDcnbEK0jEaCNXNmLbaymD83IFtrN+mbvbZkKdo2iy7mNlUaLDe0+wE4L3s5N1Y4VLau0AY26WzPtVKAqDWTL4C1tgisNJlRqzaHOnk3ZH8GOLOttDdPqa01OnfwNz2c1zeN1jI3AZymNxJRtTbNdHW2NuihNtcazjeUm5U2VH8ytusZFDaEUAC2OybcNSCKtbXklYk1uwQotXxltjPw1V01Iyh2ttoaELcBUOM1RBOqNDLTkbf5gKu2eV4ZNpU3vbWG4XU1rJAatbuPrDR1aAe08uq9srsqCjQiC1K0YjNvNLN7X7T0TR40GSsMsxBBI7SUD+00S9x5tZoPBjap3w63NJ2CtmlfizWJo1MzgmmZtVJzhjYBQAw3VTHutZ8mLTVtia2zaD6etMdqGjVbOlW1rrGBNQsIk7XABBe3yUysta2usjVQnLa1u7+5NWGPv7VTttA1L2EFtsg4jzZzbhE39C8ztkNHETagqxm260Q2NhKq4TaifqI2AoAFt5Dj1jdW9D44lIMDt3UC7zbhIJA3rrPLtYdSqjUnXMy1/EYSNgBSnrbQF5i3F/zYNceFWLWPiUI1ROsQtg/xjbdHigW2Pz2ZNCHrojNHEp60Bo8ONSlPbLUNNss1VbdLtnwLRzfFnGE3ak6ZtvRMSTbFWRm2KEfxNQHorbWA4Mk0Tx7ANv9lDzdeGVg34LC/NrLVvDY4IS03zVJYN3E77bSVmrozlVS1s1UjeDRQVQO1QcZwNVvW3rUqwpA2SskJN6WF7bVJ5lE1pX/JtMY0TzSwOT+0TFrSNDNtoLWn+vk2QbivNl0rNbY20Ai3rcTntWmFyTVjIbG1MYebNQVyh7XSsGg1mgZEtc29IDVaj/20fSq8NHEoerQypP8zjhICsqA23bN8umY0WcGxtPni9DQ9TSC1lOBNNRUYhbUgVrM1lKYHtiIWmjbLdgY3JD3ctTnJPDVJ9qm0xczjM1AstTIlrtOzEroXNOR/KLQ45SA03Q4EtHXZqDNucKGyywVqs2RcFTR8/Hm0c/SyNB5h67TFqRI1b0gwtexlTzXBunO18smVNdAx4LU8kOw2xk26N1YQSjZMwkC14so5tYGHDTfiJhM4VenTN7O7NDf90JA2iP9/tqYEvTfuZ1o3euWItsDoIja/hty1jxWZNZpGTrU+DP00VthxtGnaoDI15iQ0GZWdtIXB1jTyQ/u03ikCNZgc4bQWAkI0nmUiNWeBjrc5e8q2VZN3NkpdXrZoPGY2rHKItjEG4zaeIrM2hSxnNo9pDDeydum1uhc+NeyhnrQRMLwzoAEmM5LlPrTGHSY1NvPDtl4VYrdMkoe1IBlrtufgEbf27w02RYyItSNTADWNRuqzU6RJtM7e8DRJEzm1U3Z2NW/gmLUEzbU1H/PRtfYxDbe44ge2WKoYNp2zLLYCgUg2rjp7tlqY1jY7iog3B0scNYlrHbYqFyQ3BMwfOLKO2zaTRmK2iL1yNglcpreX4Vq2nLN+NeV8G7XmnDM1T8SjtQEgaTf5Khc3PuY4tu8tCjbq8iC2lygKN1CGpzb7q2S2GyXBNiHAzzaf8Yo3fd+2NrIeLbYN9ew1nly3tTXSlzXWaYS1Qhx0NZ4Qc7Wfeok1GjDFtbURfDZ8GRs3D2JxtouZsDZQQgE3fjTMte4FOzUYx8q0VpBaNO2cvLNYb7Is+WidMygUFbSLJlc0eqiLtLKDqzRCk8u0/A7sNJyBBrUjKhc1it4ntcxjODXjXEi1Iy5XNZxYY7U6LRy3/Zh6tcbdfDVkZHW1fIhbNahqF7XPA2a0Fs6KN1zyjDex+5m26dmitsmFyLcNR0q3CFp2NsOhOLamI0w2ZsuZtlqZyDdGsTM3WfKWNnsS3TYPE2O2ppchNuQdB7ZoFxQ25HSTt8KLRbcfqV22vHGxNVEnc7VoNDc1UA7WtH2WwrQpyos34iHaNgNok7Z635U2Ex/BtoBDcjf+mQM4susStvh2TjUpaIq0ZJKDM2yRuLLLdaQzbkVQtDP7uTQXTwG1Ely+NKMxdDfSB+M3FavcN5JyQDf2gEw3MUycNWaeY7ZWK1M3XpxRN80paLYv7+81a72ItZ0jETXBA0K0iXkStBtM9TTDnFy1K3ysNRPPArasYlA2TquLt9ZslraTATe3Uk9et9vRejZd5t61d6fjNI69XDV2rH62qKkOt+rT/DXcaki16JVTNOcuHTQSBM20pQYTNXUPMrVL2UY1vcFTtTSsWjUZp1y1LDIdtwG6ZLUWQWo1Zlx2teJRhzXJ7p61yoPPNYBaJrYBvxQ3Tip1NpIkY7VUfeC01IBZNg+fGjfm8Ta2LXzgNUiSmbUSoUM1jauCtF1tPLXQa+c2+wntNidy3Tfgeuk3V6O/N1AHEzeGz4M2ucpkt0qLrrft7NA2dBZ0t6ybMrc99KM1yLX1NVs8PreYhGO3H1GTNrNXLrb3TOY1Y/GXtbAmNjUf9Zq0u3+Ys6LT4TTCVlC1zwGbNcWi1LWdgw42989Gtrb3gjcxAbk30OLcN0r2MzcAIxO2JahMN6agoTfgQe83UHMpNl1Bq7UtYJY16O2HtXXoYzWZVx21zvwsNIAKHTXE8Ra2cbU8N7ebaDfKY5+2LZlBNhA06bWzcrY0sVPUNp/8yzYq1+I2gihRNjx4BrdJjrS33AhxthsgwzVG8nO1/fslNc8947TKS5g00wZItEDFBzTGP92z0n76M99/NLRLOoc0wPWjtMmoJbXRpwK4784xt7rlJTYaEIC1Q8SetS406LdWxee1GreCNK0rLLf2KJMxX0EcM3af8bOQq4o0cjsRtVWinjUoCXq2ex4Vt2LuALdBp9O1ZmacNWWOdrUPwkc1M2gjtaByBTW+cte028qpNJ/9f7TU9jA0Y3XHs6MGrjKFFG0zMmMRtBVWbjQpvam0oN7gNI5gDrUIli41i3lQtZ3ccTURrYS1pptcNdG6gTafR+o3ebKoNxbzn7R0E/o3vA70N/4UmzW/N7U2/nxqN3OKjLRS5rE36W5pN3wForZOUVA2KcQXtjyE4jXStqK12pZLNVdkjbQKCs20TwLSNTrkmbdDcXK3f9C+NVdKArXx/Ri0QqtANRgEurUfCCM2hM24thOkh7c7vwa3OaARuEkgFrgNYU23OC2Xt1hes7XqFOW3o3MnuEA1iLcgOvW2GV2AtohGgbcTkuC2zW95NnrjNra5xwa32BY4tjbP9bdcrU23wT2PNgUD/7a0LnW3L1DAt/ogzbbS3Ci2TpHpNe/9pLVM22I1ANUPta2jlDToT2mzKmsXtASyqTRh2f+0NGooNfuDT7XWVHY1cvaOtcuzozUGDrq1BwbTNauG8LW4rAs2c4gstsdwkzap/NQ3RQYcOL9lFDjWXdM1KPuPtbA1pjX9J7e1ntLANa14xLWPF8M10U69tZQ1szVgRRY3QzOZNaRkh7VF8WY1xZo7tVh/DTXmq7q0Lk8vNN0kyjIlaWG0K93SNGdsGLVIa0M1Kh5mtU0EczWQUCa1po6Stu5JibcFq+m3QRJitrdZEDaFzvC1pnhJtqbdmrfdTx+3ySAOt/kHhbeeFYG3pNmbt+R/ILZIWJY1HyZ8tYs9YTWTGEa1/Y0nNRqCBbX1FcE0ichltFGuiDMd9rwz1dN+tKlVzDTP8Qm1f+spNcnhRLXgdVk1XPpltYAdaDXVEVy1Hho6Nfee2rQKT8W0iF6KN+unDjceyvc2qtNctl+VQjeJr2c3lxCltgn8XTaypSu2Z60LNhZv57UHqr81Kj6ctUgwdTUKxh83bcjwNGkLULRbe7+zSJ/iNOK8YrWvnsE1QpAktl54ojZqV6y3I4aHuOsTI7h5WCm4mjiIuBaDbLgdixa4wDDYtyL+G7haRne3KIoyt4tWvzXGVYW3ricDuMRAsjaUCSm2yR+qNb2dE7WC28szrsZaNEGy1bRN9wo1IkUctcGTIjVD7yC1w+4ZNUHdD7UFzwQ1ulv1tMaM5jSQuOC04a3nNNMnALXgTRk14cFHtT6RkTXWYgO2SdUJN6cXmTY0shi2ST4SNqYHX7a8zkc3O51jNwWsoLYDf1k2slohtvWCszWfT3w3EMAdN9fiuTdtAgM3KGVxNxWHEzi2fWk3zwJqN599+Tf+ULE1mqumNNuWo7WFsIM22VSdN3TXCba1Rog1MGMStav6kTTaYN6zjcvnMcNNFDNY0wCzI2dhsjUovzNFkVC0KtGyNEeDEbVl4Y01GezQtnYWcbc7dgC4OSUcuLsMGriecBa4ai6OtoiKHjbCTOi1UuKaNcj71bTEWmO1w/92NptUK7ja53K4CtQduOl+rLfBF5M23AiAtwRsLrgjyMm3HfnIty7cF7gXqLa2w6UZNdFGpLQtlaY082K8tI7wzzRHjNy0uOvhNFNA4bQ2S9w0EfvUtAo3zTS/uca09vXCNKkAw7T6fsc0sZnQtCPz3TSdou60i5gANYHNCbW8pxE16ZcWtW3DFjUT+A+1sR3/NN9TxLRvfUw04K2nM7M8BLX8/p41o0AytvqXNjc2rbM38zkGOJETujckoU438bRbNmZYTzcPmq43h9PANlFuezYvU4w3u0aINjJRAzaQKqM3NKXutQVGGrUDjAA3jKaWNg2i1rX3cD41sRyBtFRZRbNktXM0Zq21tA6W1zS87+e0tSjuNO1u8rQjHwA181UWtUAiVjWvpNK1LvoBN8+aqTaZDjO2m5QSNs6nCbbeXAo2mHMUtk8UPTZIExy3aA8tuIBbhbcfUM82EkemtoA4yTbt8F43G6q4NvgPgbZmCnw3xh3RN85GbDa/5we1S/2Nt0zroLbADlS1itk9t9xvCbi4U9+3hZYvNt4qNLYPbgs2pykqtlwo+Ldnirm36Et2NpiOG7a9Q/U1J7f0tfCi+bbjLba3OLVduKUuXLjrkAe3dTKQtaEiN7eCCXA24hIWuBPHQLia34+1IbwwN3P/prQYqqs1JnD/N/SbtDfOWFq2R3sCNnTmr7Vpk1o1rW5+tFjwYbVtP/U2OCWvNt7/LbYlFAQ2SEYOtn31/jYHlNM2qLbXtih8AzjR+I03lCu4tqeHVzZMgQ227cGzNYi5H7XaORu1Z5XtNkSHtzbQB0S226oiNgI1MbbxJKQ2NmgFN3L/67VbdYA1dpMztbA/DDWD3eS08Yu6NOiMkbReJEs0UAvPsyfBSrJeJhc0/SmgtB6wBTU9sE21k+SbNZsH97X2JGQ2bDC8tzOBw7cako82/fY/tqSUKTbdPoG2Aep/t/dKeLYmXA02sfABthZSBzY2oxa2bMkyNkfMa7byadc2rQOCN0XF9zbjdJI23NbHtf7UNjdh0rm0+uxmNJbbfrSTL+409ECLtTuEbjbwQhg3egA1tn886DWubK21gaGHNQHPVbXJNSc1bcgCtT8P2zSZzu+0DcJcNQasTrb4KyW3Ea1+NpRGVrbh3FQ2HQdltoVOhzapCtu2LgvQtqFJNjNIwSK3BV9eMzzQiLd49QO3B7YVuK0RC7jwu/m3+2ZctwneqjYQ3nq2gZxQNjgaN7YqQSc2E+8CN0rtJTbFJjy2qsJ/NsV3L7cBrqm1jeAAt/8SjLY5YpI1OOUENLcGr7XnNY42q0gHNxDtvbUyhi43SBQBNa3GGTclH981nKw4tjVdGjdIHGI2edRStTvhDjSBcR40NTSYtOAiuTQLgcK0KFO9NA1Rr7Rhc5w0BZ2HtKbWZTSIwj+0ZAUfNOfOBLR9NOMzw5/KsxbSvjMrLL6zp9rGM0dJ17MNzO4zWGMHtO53HjSzTkS0wlWGNI8l2LQYKGE14hlNtioPKrdmy6o2LeJNt9P3+LdugBi2W6INNn4nDbdjQoy2dGLTNX/TabX5Xwk1IzmOtOAiKrcjz0c0t29TtbcE0TY+XcA3Ym8lNnNzELVzdxs0zxdVMxdYXbSAG8c0/TAhN0FefDXpaNe1QXCKNkd9EDcLgDG2vreBNsh1qDcwQ9W2YwrqtkPqWzXiJiq3qJn3tPXSPjU1mnG138iNNanyn7V3ErA1Np6+tQ0SzDX089m1ZtvxNWhKSraHuSG4/o9qt4E75zYRcBC3JoZ3thhVCbcELaW3nm/Rtk43OTgWlCY4uXpcMbEwlbT4FXQ10urItfiFGzb0Lqa2wzEAtzm2rTWtEuC0xI8BNGF50LKSTCq3nbktt3c+oTSLegy1RCJeNdFIqbWhJAQ2V8RstuK3Tjce2Fw3HJGftptqmDaDylC3QFJnt5ui+zbnaOc2vyEHtioNADetNNY28CyPN3XxiDeneaA28Qqcs9URHzTgzGi1KPtsNlx5FjejBCe28ZjCNRwMgrUaTTQ14or5tD1tqDSCFVm0eRQCNJdZi7MzMfwyM/BEsg0KETKfYoWyVmQqtxDS0LMM6SI0FZ9stDFhozTmidm0c/8MNTs3M7WAp2A1XKGLtXI0rTVQTdi1HAsKNoTrOba3ipA2DdlYt0x7bbdisCe35CqTt6QvmzWwzy23qHaxtGQGKjV5zWO1ZKWHNXORmLXJFqY1MkSxtVAVuzVitsS12fTPNbJQ4LVOZ/417NIjtqLDoja0QwU3wDDwtfgfljU5KpC1Zt22NfyBFbY1EQw3yMaHN69uSTe168g2KUyJNH5VB7YjIBI3JUSANnP537UX59w2SHWeN07lsjfagNw3bES0N6mLVLbJ2CM28qTpNqWYqDfj4lc3nZQgOAxqEzgcNBg3rdM/N9El2TYGuMY1DI4DNqhWKDdAT1W2A9/2NRMvlLW7sRs1lzIptNgZa7TgRCI12WOUtcppDTYeYA63W9+KtloT1jWH4oG1yOw6NWt7FLXJ3Po0IZzatHuRvjQECqC0jNRyNKIECrQwUgeyR+hZNLJaBLU8+4A1/EP6taWfojaEQOM2fiaIN+bTuTak4R621dWRNf2HzjQNFQe3qPBFuAL8JLhrxSG372YfNkD/FDdykGM1H+sNtaHNlTT57oazS9gWtIEZvDTfMSC1wUZ+Nd0P2rUtH4w27e8NN5Z7DrZ1wqQ1abVttacwQTX/Ryq1rikfNf3uGrXr+Bk11kUhN5nFJTXokCq1Qy0uNUImL7XgWys1EP8etXqqATUlD2+05BoVtWygjTfWGNM2RZiStrGmhzdX5kU3js6EN8fZszczUfo2pfy6NShvZbU8dxk1+2vUtE7GkDTlpTK01NKWM9dV/DKb9Be0q4qUNPhb8rQM8Ds1KbyVtQoLCzbkhw23416MtkXK2TWLDoO1+xc6NQS8FLVjQgU1XFEFtSEgEjWxYiq1OZRNNYPMe7Uv+5o1pEO/tbqq7TXarBa21kNJNlL8mrYrj2I33JC4N9BTSbYu7OI1My7dtWkKazeVxhc36vT3Ns91Ajb1qtC1xUatNSVdj7X8D2Y1z/kfNxQ2MzfROZe0hkTfMxC7dzP4jic35wzDNA3fAbVbRB018a0ztds8RTXUNVK1pPlaNUn9X7XxwGE1R8hgtYqSXTVPlFi13zBSNReySrXbMEI19vw3tYopILe2wCm1a3QgNW7eFrW68ww12aQCtVnA7zQ+J9m0YlvBNLc7qLRGqI00uv9itIk3JzRBI8+zqt4NM1ESGDM96OyzcaRQNMf9nLR9+940xDUetddscDUYkOW1y/YON7lsMDiMW4c4Mh0nOMOQjraiggG3bW6StM/mbbd6NX+3Jf/JtLmpfTUZAKO1BvvLNVBdD7b5PJs25k0HN+kQ7rUO9HQ1fr0etRNb5zSdVLO0g6uNNARNX7RJt0k0M5TdtOyPgDeIpho4q4s8N0uLNLbHHSM18lKIN9/C3zZgvaG2N08tN4WEOTYSug21FDsCNMS0lrJb9wMyNbANs+UimDMTlu2zlnMdNAJaPLTJElE08ORZtHt3VTQGnUK07CQgNEpe2bN/sRkzhghVM0R+KrSRKqA0L/0AtflGRDVIr5W1o834NUS8lrZEvQa39NnQNZ8pBbWY3Smz8FnpNChdVrXJxqA1Q5PntTnrMDazGbq2+CjWtjSqK7b7yxi30VscNsHJmbXFLRk1QgtLtNG99bPxrtE0qBc0tVEbhDUMx7e1Q5X+NXzvN7b495c2MeJmt7GuMrf7inW3SP2Pt7csmjZ8XiW3Cn9htk7qnDXnzUm1zNweNYR2ArWnqMs0MxCHtM6eyDND59gzEYK1tJnXKDU7A4a1aOHKNVCSILYQba42S13uNnWNjrT6X961INkKN+D7mjc4bgo42IUkOMMcSTdRbcU3FVQ0N7kZljZDEt42ZZZitiTLGTbvEd61m2yfNUqeV7VcNvk0lK4jtBgAGrTH7ug0WPVEtRHUjzWdpMu1a4oaNoT3p7Y2GfW2+q82txwR57dTZgu2pw9bNSh7TLfCe5y3ecChtw0Xt7WNbCEzqYPjM2Op/rMtDtUzg+WUs3pEGjOMYPSw18QIs1RnijMQA86zNrYHND2CJ7T3kEY0HvJktCBEgTSyfY+0RNecNJzdqLQA+LI0hGm6tGdTvjTmt720q3u3NDBiqrQ8/ZQ0nd5qtOwjEDSImio3ouXIsxQ6lDRp6CE3eZ+HNdrJBra0Tw03pdaKNsWuyrUY31M1oOfjtO2AVDSRJlGzYAg+s1eXuzOPaKmzgbAPMl3FIzSS7wK1RsO1NYBJ/rYqgrO2Qw19NhUEN7fFA+y3IGzxtVR0S7fr2Uy3pYlmtrWJLrhCAwK41LnMt1F6tbc8RF63X9Axt9ppsbYopgsz5Zl/NH3/DbRyJIizm+acNDGEELVqWVY1vuaQtRd4vTW0MwG2R/N+NsAs0jeAlpo2yqCEtlRnKDfXS1g3t6JPtG560bQByyU1Kno+tS+cRDWLyT+1LBI0NS8CJLUkYBE1xfj6tPir0jREWqu0LxuGNGxWR7R36wg0inqis6hIADM9DzQy6jtHs2IKqjOvHu2zGfQXNC0XObQt7lE0a/kytM8yYLQFVYk3DohDONGNPTjAR7M3mRjtNwq5RDiDXfI3XZidNWO7sjSyzeu0iSRONLtgMTWagOm2lya/trppUzb/Lim2u58fNtaQdrb0QoK3NC+Oth6r9bcX1Lq3pLF7NkJXBTdWrMI12WY3t3xBLrfHoAk21jJ1t0lwOLecaOE2op0NtxrwZLbuxgS4Msxjt74nnzYpBmy2WRp8NjrqIrdFA1W2Jl5TNXk3eLQCEsizzCM3NaWDiLevvVm3A/UMtgItcDJ+8zQ1SmfctQm1AjffidY2r/nUN13MXjdsu4e1w3SjNBt6sDWg5PY3oyiAN3E+pTZ6RWI1dLQotpJUHjdzoQ82ODKPN5XYpDZ0/UK1c7OtN1mQaTfrptY285aKtaJl6DSnmVW02tCVMyjCLDJbqICzB7+/M2Ta37OmL+szfSPrs/x86TMOl/GzkRsJNKCbMLTvCoE0IibStHlUPzXPJdS1Ku4DNx0Jojb17hy2cTTuNQG727WX8v819mNut5tXG7eN2oo2dzkotw0MBLYN0+S24LittguEFzafJau1YtgNNQaLHzXSt+u253e8tlKxVjb4RkW2pcx/NuysRbeCcN23Pcevtm+z0TRL8wW0NYsnNO5olrTkFQU1qWlutU6k9TX8ZQm3J2mUtnBH9zVD05u174hdNQ/kJLVb5vg0CNi6tKdAiTSRgUG03mr9M3j+jrPbl88y8go4MjAFKbMpQIczY82xsye61jNdmPizkP8MNIDHHrQa/TI0fwhLtBRuaDQ6cIa0HzCdNKG1ubQmot00VZAFtfQoIjUCbx43BsaDNdvSrrW7efg1kfNNtm2KKDc6bYIzejwqt+wIUzYzfgC2eZe0NfQ1Gjf5bFM1fXMktSFg/jQ9EMG0jHaNNK4OQ7TNRfAz72tjs8JVlDE8ShIzVsyEs5I6qDMnRbGzYPacM3+PTrM1Q6gxojOCM6NNJ7TAAJ80XHcMtU3PhTWvh0y2bv9Ht0c19ra7Ghs2wC4ptlO9pzZqGP82lWCftftJUTQezYU0JngJtcOWNjXcklG1UoJcNTYLV7UPCT81jBkQtS51gzRD4Xg0/yuPtbUdQjZ977u3rqdKt3qZYbdUxAG3HIuTNm82Wrbg0C02K1sPth0o8jUa2dG16h29NQZrtrXPYMY1E/EFtkvHljbhLwU3uUBBNGbbbTe+8Ko2WzhdNIY6N7URQx23JrR0tW8VgjXNaoq1KgqVNYX3o7UK27o1RILitfdKHDbvCKO2d8OWt7vmuzUxPPe0trxMM25BfTQuBzS3pgOaNW0X3ragrE63txBCtr1KhTXD8Ci1xyv5NKdPs7Q4P0o0fcf+MbR3orTil1k1XnkCtlpvETeRIks2KMvFNnfPyjaecFG2IskTNuhy37VZiqg1NqNuteLqCjW05tCzW8HstKBaqTXrMEe2BO65NyCCXTfYZYy2b6knNi++5LU+kqE1971gtYSzETVPvpu0hyaBM/i9LzRFOti0UvU6NeuMmbWd3A42FSsPt3M+hraOtqQ1Zf0ot42617bbz+G2agjfNisg4DZI3TG1fSdJs86IijRA2qS0kwOJNILGxbPxwY+01QWhNWj5lLf/Xqm2PysjNs7O47WwdK01GLiFtYsZSDV5Fgq1XaCaNE7rKTeniyg3R8btNHiMXLU7Osw1Vx6JtpZpD7dDQxU2LFi2tVDdjjWx7IC1b/l3NajEQLWbeWu3A6n1t944ULilOh24xJxPt899ODRa6+M0J+lbtfZrnjVjRNi1xYMdNpW2pbaCxAC3SEqzNfny97SiTzk0GY7esye8RzQuP/G0LLqTNT6WaLfE7BW3zxcpNkvyy7W+XI01zQBJtdK5CjVuELG0gFFKNA97E7SN5Os0Ukm6ti3KaLcAjDC3C/sFt/nAjrZ8a8011QVQtZ9s0jQ0rhq0nSgxs0g+UDQZY7C0rPfyND3pGLXryDY1BehStcCibDWfcoG1iw2KNW0Aj7VWmo41qg+Gta/cXzVpcvq0kWYDtQMy6DYPfbk2wX7+NkmZkjW37rM2L0AQNzwWxDeAqaU22Jw5tlNUCzb/CNq1ZP2oNRIHfbXhAjY391/FtHU+AjSrgN4zyCOltKTfAzVK/i+1c15XNVezerWlkI01HFidtYrJrjWSVMe1PiH7NUoveLYN3HW3IN4ntwvRjrfTSQe3LeQUNhB3yLXHEaA1KEmFtToAXDVdPyy19QLqNBqsMbSJS420yZOkNeUblbeIAKu2TOMyNkxmUrY2/ia4l99juHSwrLbxkFK24hRVN1dLTzeR5V+2Om7iNQnhhbW3FHo1g27Ctpt/Z7d2aTK3HO5zt6xN/bYSCrw0tzBXNnxdFze/yCe2KbLSNREsuLV75eg1kZ2JtrnQELdQ2Bs2mgu7tTyxgDWMjCm1rwiaNGmQWDT6YKS1KoIAN6eZozaiTBS2tLe/NcUmgrW0kCE1qQCDtGImK7RkKDk1sEDUtfh9dDeXhpg3mAettbo9hLEzxEc1aCzGtEl4CDgwB8A3ZeE9OKapNjgS+lG28Jc+Nm19R7ajPRM3W9qNNkZwAbaJmsM1X32vtU43vTV9MEm2UzNUtyQ7srZyWdy2B3m1tsENLDYAAAAA\" type=\"audio/x-wav\" />\n",
              "                    Your browser does not support the audio element.\n",
              "                </audio>\n",
              "              "
            ],
            "text/plain": [
              "<IPython.lib.display.Audio object>"
            ]
          },
          "metadata": {
            "tags": []
          },
          "execution_count": 40
        }
      ]
    },
    {
      "cell_type": "code",
      "metadata": {
        "id": "6xkllk-CjbYC",
        "colab_type": "code",
        "colab": {}
      },
      "source": [
        "def get_relation(index,value):\n",
        "    emo = label.inverse_transform([index])[0]\n",
        "    value = float(value) * 100\n",
        "    return '{} - {:.10f}%'.format(emo,value)"
      ],
      "execution_count": 41,
      "outputs": []
    },
    {
      "cell_type": "code",
      "metadata": {
        "id": "eBaU-yasRgCX",
        "colab_type": "code",
        "colab": {
          "base_uri": "https://localhost:8080/",
          "height": 126
        },
        "outputId": "5898f623-61d2-4f71-90b7-834d55577e5c"
      },
      "source": [
        "''' extracting features from the random file and feeding it to the model for prediction '''\n",
        "with soundfile.SoundFile(file) as sound_file:\n",
        "    signal = sound_file.read(dtype=\"float32\")\n",
        "    sample_rate=sound_file.samplerate\n",
        "    feature = np.mean(find_mfcc(signal, sample_rate, 26), axis=0)\n",
        "result = cnn_model.predict(feature.reshape(1,num_features,1))\n",
        "for index,i in enumerate(result[0]):print(get_relation(index,i))\n",
        "result = cnn_model.predict_classes(feature.reshape(1,num_features,1))\n",
        "print('Original emotion is : ' + original_emotion)\n",
        "print('identified emotion is : ' + label.inverse_transform(result)[0])"
      ],
      "execution_count": 42,
      "outputs": [
        {
          "output_type": "stream",
          "text": [
            "angry - 90.3789579868%\n",
            "happy - 0.0000116683%\n",
            "neutral - 9.5945432782%\n",
            "sad - 0.0264896778%\n",
            "Original emotion is : neutral\n",
            "identified emotion is : angry\n"
          ],
          "name": "stdout"
        }
      ]
    },
    {
      "cell_type": "code",
      "metadata": {
        "id": "_a-uDoq-TC1b",
        "colab_type": "code",
        "colab": {
          "base_uri": "https://localhost:8080/",
          "height": 295
        },
        "outputId": "8630c82c-0130-43c9-e418-637d24a2eb90"
      },
      "source": [
        "plt.plot(final.history['loss'])\n",
        "plt.ylabel('Loss')\n",
        "plt.xlabel('Number Of Epochs')\n",
        "plt.title('Training Loss Plot')\n",
        "plt.show()"
      ],
      "execution_count": 43,
      "outputs": [
        {
          "output_type": "display_data",
          "data": {
            "image/png": "[encoded data removed]",
            "text/plain": [
              "<Figure size 432x288 with 1 Axes>"
            ]
          },
          "metadata": {
            "tags": [],
            "needs_background": "light"
          }
        }
      ]
    },
    {
      "cell_type": "code",
      "metadata": {
        "id": "g2pewy5pTHVB",
        "colab_type": "code",
        "colab": {
          "base_uri": "https://localhost:8080/",
          "height": 295
        },
        "outputId": "5b252931-e6d1-4660-a189-2e37bd4708bf"
      },
      "source": [
        "plt.plot(final.history['acc'])\n",
        "plt.ylabel('Accuracy')\n",
        "plt.xlabel('Number Of Epochs')\n",
        "plt.title('Training Accuracy Plot')\n",
        "plt.show()"
      ],
      "execution_count": 44,
      "outputs": [
        {
          "output_type": "display_data",
          "data": {
            "image/png": "[encoded data removed]",
            "text/plain": [
              "<Figure size 432x288 with 1 Axes>"
            ]
          },
          "metadata": {
            "tags": [],
            "needs_background": "light"
          }
        }
      ]
    },
    {
      "cell_type": "code",
      "metadata": {
        "id": "xtdJWGH3TMC3",
        "colab_type": "code",
        "colab": {
          "base_uri": "https://localhost:8080/",
          "height": 290
        },
        "outputId": "66bf1f34-00d9-40b5-dcba-76d21accec2a"
      },
      "source": [
        "print('predicted values for the test data: ',label.inverse_transform(cnn_model.predict_classes(x_test.reshape(len(x_test),num_features,1))))"
      ],
      "execution_count": 45,
      "outputs": [
        {
          "output_type": "stream",
          "text": [
            "predicted values for the test data:  ['angry' 'sad' 'happy' 'sad' 'happy' 'angry' 'happy' 'happy' 'sad' 'sad'\n",
            " 'sad' 'angry' 'neutral' 'angry' 'neutral' 'sad' 'angry' 'angry' 'angry'\n",
            " 'neutral' 'sad' 'happy' 'neutral' 'angry' 'happy' 'sad' 'happy' 'neutral'\n",
            " 'sad' 'sad' 'happy' 'angry' 'sad' 'happy' 'angry' 'angry' 'sad' 'angry'\n",
            " 'angry' 'angry' 'happy' 'angry' 'neutral' 'neutral' 'angry' 'sad'\n",
            " 'neutral' 'neutral' 'angry' 'happy' 'happy' 'angry' 'sad' 'sad' 'happy'\n",
            " 'sad' 'sad' 'happy' 'happy' 'angry' 'angry' 'sad' 'neutral' 'sad' 'happy'\n",
            " 'neutral' 'happy' 'neutral' 'angry' 'angry' 'angry' 'angry' 'neutral'\n",
            " 'angry' 'neutral' 'happy' 'happy' 'sad' 'sad' 'sad' 'sad' 'neutral'\n",
            " 'neutral' 'sad' 'happy' 'happy' 'sad' 'angry' 'happy' 'neutral' 'angry'\n",
            " 'angry' 'happy' 'happy' 'sad' 'happy' 'neutral' 'happy' 'neutral' 'angry'\n",
            " 'angry' 'sad' 'happy' 'neutral' 'happy' 'neutral' 'sad' 'sad' 'happy'\n",
            " 'sad' 'sad' 'happy' 'happy' 'sad' 'angry' 'angry' 'angry' 'angry' 'sad'\n",
            " 'angry' 'angry' 'neutral' 'angry' 'angry' 'angry' 'angry' 'sad' 'happy'\n",
            " 'sad' 'happy' 'happy' 'neutral' 'angry' 'sad' 'neutral']\n"
          ],
          "name": "stdout"
        }
      ]
    },
    {
      "cell_type": "code",
      "metadata": {
        "id": "xhMV6HhpGYTl",
        "colab_type": "code",
        "colab": {
          "base_uri": "https://localhost:8080/",
          "height": 295
        },
        "outputId": "fd75acfb-68b9-4d52-f629-92982b1d3d31"
      },
      "source": [
        "plt.plot(final.history['val_acc'])\n",
        "plt.ylabel('Validation Accuracy')\n",
        "plt.xlabel('Number Of Epochs')\n",
        "plt.title('Validation Accuracy Plot')\n",
        "plt.show()"
      ],
      "execution_count": 46,
      "outputs": [
        {
          "output_type": "display_data",
          "data": {
            "image/png": "[encoded data removed]",
            "text/plain": [
              "<Figure size 432x288 with 1 Axes>"
            ]
          },
          "metadata": {
            "tags": [],
            "needs_background": "light"
          }
        }
      ]
    },
    {
      "cell_type": "code",
      "metadata": {
        "id": "YeRYT7V-i3zi",
        "colab_type": "code",
        "colab": {
          "base_uri": "https://localhost:8080/",
          "height": 295
        },
        "outputId": "25ec6467-7d05-483a-8bdc-7c3bce33faf8"
      },
      "source": [
        "plt.plot(final.history['val_loss'])\n",
        "plt.ylabel('Validation Loss')\n",
        "plt.xlabel('Number Of Epochs')\n",
        "plt.title('Validation Loss Plot')\n",
        "plt.show()"
      ],
      "execution_count": 47,
      "outputs": [
        {
          "output_type": "display_data",
          "data": {
            "image/png": "[encoded data removed]",
            "text/plain": [
              "<Figure size 432x288 with 1 Axes>"
            ]
          },
          "metadata": {
            "tags": [],
            "needs_background": "light"
          }
        }
      ]
    },
    {
      "cell_type": "code",
      "metadata": {
        "id": "4fvXmiUoaEHM",
        "colab_type": "code",
        "colab": {}
      },
      "source": [
        "compare_data = pd.DataFrame(columns=['File', 'Original Emotion', 'Predicted Emotion'])"
      ],
      "execution_count": 48,
      "outputs": []
    },
    {
      "cell_type": "code",
      "metadata": {
        "id": "wTJonzE0amuB",
        "colab_type": "code",
        "colab": {
          "base_uri": "https://localhost:8080/",
          "height": 35
        },
        "outputId": "f8970d0d-f8a8-4482-8923-218008922426"
      },
      "source": [
        "for index,row in tqdm(test.iterrows()):\n",
        "        file = row['file']\n",
        "        emotion = row['emotion']\n",
        "        with soundfile.SoundFile(file) as sound_file:\n",
        "            signal = sound_file.read(dtype=\"float32\")\n",
        "            sample_rate=sound_file.samplerate\n",
        "            feature = np.mean(find_mfcc(signal, sample_rate, 26), axis=0)\n",
        "            result = cnn_model.predict_classes(feature.reshape(1,num_features,1))\n",
        "            compare_data = compare_data.append({'File': file, 'Original Emotion': emotion ,'Predicted Emotion':label.inverse_transform(result)[0] }, ignore_index=True)"
      ],
      "execution_count": 49,
      "outputs": [
        {
          "output_type": "stream",
          "text": [
            "135it [00:03, 39.01it/s]\n"
          ],
          "name": "stderr"
        }
      ]
    },
    {
      "cell_type": "code",
      "metadata": {
        "id": "0Vnjqd7pb1V_",
        "colab_type": "code",
        "colab": {
          "base_uri": "https://localhost:8080/",
          "height": 217
        },
        "outputId": "015f5859-16d5-41a0-c5ab-9c498813a326"
      },
      "source": [
        "''' printing 10 random samples of prediction '''\n",
        "print(compare_data.sample(10))"
      ],
      "execution_count": 52,
      "outputs": [
        {
          "output_type": "stream",
          "text": [
            "                               File Original Emotion Predicted Emotion\n",
            "127  clean/03-01-04-02-02-01-13.wav              sad             happy\n",
            "1    clean/03-01-03-01-02-02-11.wav            happy               sad\n",
            "100  clean/03-01-04-01-02-02-17.wav              sad             angry\n",
            "120  clean/03-01-05-02-02-02-11.wav            angry             angry\n",
            "68   clean/03-01-01-01-01-01-15.wav          neutral             angry\n",
            "7    clean/03-01-03-01-02-01-13.wav            happy             happy\n",
            "117  clean/03-01-05-02-01-02-11.wav            angry             angry\n",
            "9    clean/03-01-01-01-01-02-19.wav          neutral               sad\n",
            "115  clean/03-01-05-01-01-01-05.wav            angry             angry\n",
            "70   clean/03-01-05-01-02-01-15.wav            angry             angry\n"
          ],
          "name": "stdout"
        }
      ]
    }
  ]
}